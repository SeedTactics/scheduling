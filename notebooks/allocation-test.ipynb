{
 "cells": [
  {
   "cell_type": "code",
   "execution_count": 1,
   "metadata": {},
   "outputs": [
    {
     "data": {
      "text/html": [
       "<script>requirejs.config({paths: { 'plotly': ['https://cdn.plot.ly/plotly-latest.min']},});if(!window.Plotly) {{require(['plotly'],function(plotly) {window.Plotly=plotly;});}}</script>"
      ],
      "text/vnd.plotly.v1+html": [
       "<script>requirejs.config({paths: { 'plotly': ['https://cdn.plot.ly/plotly-latest.min']},});if(!window.Plotly) {{require(['plotly'],function(plotly) {window.Plotly=plotly;});}}</script>"
      ]
     },
     "metadata": {},
     "output_type": "display_data"
    }
   ],
   "source": [
    "import plotly\n",
    "import numpy as nd\n",
    "import pandas as pd\n",
    "import functools\n",
    "import allocate\n",
    "plotly.offline.init_notebook_mode(connected=True)\n",
    "%matplotlib inline"
   ]
  },
  {
   "cell_type": "code",
   "execution_count": 2,
   "metadata": {
    "collapsed": true
   },
   "outputs": [],
   "source": [
    "run = functools.partial(\n",
    "    allocate.allocate,\n",
    "    flex_file=\"sample-flex.json\",\n",
    "    allocatecli=\"../allocatecli\",\n",
    "    plugin=\"../../pegboard/lib/pegboard/allocate/bin/Debug/netstandard2.0/BlackMaple.Pegboard.Allocate.dll\")"
   ]
  },
  {
   "cell_type": "code",
   "execution_count": 3,
   "metadata": {},
   "outputs": [
    {
     "data": {
      "text/html": [
       "<div>\n",
       "<style scoped>\n",
       "    .dataframe tbody tr th:only-of-type {\n",
       "        vertical-align: middle;\n",
       "    }\n",
       "\n",
       "    .dataframe tbody tr th {\n",
       "        vertical-align: top;\n",
       "    }\n",
       "\n",
       "    .dataframe thead th {\n",
       "        text-align: right;\n",
       "    }\n",
       "</style>\n",
       "<table border=\"1\" class=\"dataframe\">\n",
       "  <thead>\n",
       "    <tr style=\"text-align: right;\">\n",
       "      <th></th>\n",
       "      <th>BookingId</th>\n",
       "      <th>DueDate</th>\n",
       "      <th>Priority</th>\n",
       "      <th>Part</th>\n",
       "      <th>Quantity</th>\n",
       "    </tr>\n",
       "  </thead>\n",
       "  <tbody>\n",
       "    <tr>\n",
       "      <th>0</th>\n",
       "      <td>book1</td>\n",
       "      <td>2017-11-05</td>\n",
       "      <td>5</td>\n",
       "      <td>part1</td>\n",
       "      <td>15</td>\n",
       "    </tr>\n",
       "    <tr>\n",
       "      <th>1</th>\n",
       "      <td>book2</td>\n",
       "      <td>2017-11-05</td>\n",
       "      <td>10</td>\n",
       "      <td>part2</td>\n",
       "      <td>20</td>\n",
       "    </tr>\n",
       "  </tbody>\n",
       "</table>\n",
       "</div>"
      ],
      "text/plain": [
       "  BookingId    DueDate  Priority   Part  Quantity\n",
       "0     book1 2017-11-05         5  part1        15\n",
       "1     book2 2017-11-05        10  part2        20"
      ]
     },
     "execution_count": 3,
     "metadata": {},
     "output_type": "execute_result"
    }
   ],
   "source": [
    "# Create some bookings.  Can also load from sample CSV files\n",
    "bookings = pd.DataFrame([\n",
    "    (\"book1\", pd.Timestamp(\"2017-11-05\"), 5, \"part1\", 15),\n",
    "    (\"book2\", pd.Timestamp(\"2017-11-05\"), 10, \"part2\", 20)\n",
    "], columns=[\"BookingId\", \"DueDate\", \"Priority\", \"Part\", \"Quantity\"])\n",
    "bookings"
   ]
  },
  {
   "cell_type": "code",
   "execution_count": 5,
   "metadata": {},
   "outputs": [
    {
     "name": "stdout",
     "output_type": "stream",
     "text": [
      "Simulation from 2016-11-05T12:00:00Z to 2016-11-06T13:00:00Z UTC\n",
      "* part1 \n",
      "    Priority: 100\n",
      "    Proc 1\n",
      "        Path 0\n",
      "            Completed 15\n",
      "            Pallets pal1-1,pal1-2\n",
      "            Loads 1\n",
      "            Stops Machine1,Machine2\n",
      "            Unload 1\n",
      "    Proc 2\n",
      "        Path 0\n",
      "            Pallets pal1-1,pal1-2\n",
      "            Loads 1\n",
      "            Stops Machine1,Machine2\n",
      "            Unload 1\n",
      "* part2 \n",
      "    Priority: 100\n",
      "    Proc 1\n",
      "        Path 0\n",
      "            Completed 20\n",
      "            Pallets pal2,pal3-1,pal3-2,pal3-3\n",
      "            Loads 2\n",
      "            Stops Machine1,Machine2,Machine3,Machine4\n",
      "            Unload 2\n"
     ]
    }
   ],
   "source": [
    "results = run(bookings)\n",
    "allocate.print_result_summary(results)"
   ]
  },
  {
   "cell_type": "code",
   "execution_count": 6,
   "metadata": {},
   "outputs": [
    {
     "data": {
      "text/html": [
       "<div>\n",
       "<style scoped>\n",
       "    .dataframe tbody tr th:only-of-type {\n",
       "        vertical-align: middle;\n",
       "    }\n",
       "\n",
       "    .dataframe tbody tr th {\n",
       "        vertical-align: top;\n",
       "    }\n",
       "\n",
       "    .dataframe thead th {\n",
       "        text-align: right;\n",
       "    }\n",
       "</style>\n",
       "<table border=\"1\" class=\"dataframe\">\n",
       "  <thead>\n",
       "    <tr style=\"text-align: right;\">\n",
       "      <th></th>\n",
       "      <th>EndUTC</th>\n",
       "      <th>PlannedDownTime</th>\n",
       "      <th>SimulationId</th>\n",
       "      <th>StartUTC</th>\n",
       "      <th>StationGroup</th>\n",
       "      <th>StationNum</th>\n",
       "      <th>UtilizationTime</th>\n",
       "    </tr>\n",
       "  </thead>\n",
       "  <tbody>\n",
       "    <tr>\n",
       "      <th>0</th>\n",
       "      <td>2016-11-05 12:06:14</td>\n",
       "      <td>0 days</td>\n",
       "      <td>schId1234</td>\n",
       "      <td>2016-11-05 12:01:14</td>\n",
       "      <td>L/U</td>\n",
       "      <td>1</td>\n",
       "      <td>00:05:00</td>\n",
       "    </tr>\n",
       "    <tr>\n",
       "      <th>1</th>\n",
       "      <td>2016-11-05 12:22:28</td>\n",
       "      <td>0 days</td>\n",
       "      <td>schId1234</td>\n",
       "      <td>2016-11-05 12:02:28</td>\n",
       "      <td>L/U</td>\n",
       "      <td>2</td>\n",
       "      <td>00:20:00</td>\n",
       "    </tr>\n",
       "    <tr>\n",
       "      <th>2</th>\n",
       "      <td>2016-11-05 13:11:38</td>\n",
       "      <td>0 days</td>\n",
       "      <td>schId1234</td>\n",
       "      <td>2016-11-05 12:07:38</td>\n",
       "      <td>Machine</td>\n",
       "      <td>1</td>\n",
       "      <td>01:04:00</td>\n",
       "    </tr>\n",
       "    <tr>\n",
       "      <th>3</th>\n",
       "      <td>2016-11-05 12:13:42</td>\n",
       "      <td>0 days</td>\n",
       "      <td>schId1234</td>\n",
       "      <td>2016-11-05 12:08:42</td>\n",
       "      <td>L/U</td>\n",
       "      <td>1</td>\n",
       "      <td>00:05:00</td>\n",
       "    </tr>\n",
       "    <tr>\n",
       "      <th>4</th>\n",
       "      <td>2016-11-05 13:19:06</td>\n",
       "      <td>0 days</td>\n",
       "      <td>schId1234</td>\n",
       "      <td>2016-11-05 12:15:06</td>\n",
       "      <td>Machine</td>\n",
       "      <td>2</td>\n",
       "      <td>01:04:00</td>\n",
       "    </tr>\n",
       "    <tr>\n",
       "      <th>5</th>\n",
       "      <td>2016-11-05 13:31:52</td>\n",
       "      <td>0 days</td>\n",
       "      <td>schId1234</td>\n",
       "      <td>2016-11-05 12:23:52</td>\n",
       "      <td>Machine</td>\n",
       "      <td>3</td>\n",
       "      <td>01:08:00</td>\n",
       "    </tr>\n",
       "    <tr>\n",
       "      <th>6</th>\n",
       "      <td>2016-11-05 12:44:56</td>\n",
       "      <td>0 days</td>\n",
       "      <td>schId1234</td>\n",
       "      <td>2016-11-05 12:24:56</td>\n",
       "      <td>L/U</td>\n",
       "      <td>2</td>\n",
       "      <td>00:20:00</td>\n",
       "    </tr>\n",
       "    <tr>\n",
       "      <th>7</th>\n",
       "      <td>2016-11-05 13:54:20</td>\n",
       "      <td>0 days</td>\n",
       "      <td>schId1234</td>\n",
       "      <td>2016-11-05 12:46:20</td>\n",
       "      <td>Machine</td>\n",
       "      <td>4</td>\n",
       "      <td>01:08:00</td>\n",
       "    </tr>\n",
       "    <tr>\n",
       "      <th>8</th>\n",
       "      <td>2016-11-05 13:07:24</td>\n",
       "      <td>0 days</td>\n",
       "      <td>schId1234</td>\n",
       "      <td>2016-11-05 12:47:24</td>\n",
       "      <td>L/U</td>\n",
       "      <td>2</td>\n",
       "      <td>00:20:00</td>\n",
       "    </tr>\n",
       "    <tr>\n",
       "      <th>9</th>\n",
       "      <td>2016-11-05 13:29:52</td>\n",
       "      <td>0 days</td>\n",
       "      <td>schId1234</td>\n",
       "      <td>2016-11-05 13:09:52</td>\n",
       "      <td>L/U</td>\n",
       "      <td>2</td>\n",
       "      <td>00:20:00</td>\n",
       "    </tr>\n",
       "    <tr>\n",
       "      <th>10</th>\n",
       "      <td>2016-11-05 14:19:48</td>\n",
       "      <td>0 days</td>\n",
       "      <td>schId1234</td>\n",
       "      <td>2016-11-05 13:11:48</td>\n",
       "      <td>Machine</td>\n",
       "      <td>1</td>\n",
       "      <td>01:08:00</td>\n",
       "    </tr>\n",
       "    <tr>\n",
       "      <th>11</th>\n",
       "      <td>2016-11-05 13:28:02</td>\n",
       "      <td>0 days</td>\n",
       "      <td>schId1234</td>\n",
       "      <td>2016-11-05 13:13:02</td>\n",
       "      <td>L/U</td>\n",
       "      <td>1</td>\n",
       "      <td>00:15:00</td>\n",
       "    </tr>\n",
       "    <tr>\n",
       "      <th>12</th>\n",
       "      <td>2016-11-05 13:54:26</td>\n",
       "      <td>0 days</td>\n",
       "      <td>schId1234</td>\n",
       "      <td>2016-11-05 13:29:26</td>\n",
       "      <td>Machine</td>\n",
       "      <td>2</td>\n",
       "      <td>00:25:00</td>\n",
       "    </tr>\n",
       "    <tr>\n",
       "      <th>13</th>\n",
       "      <td>2016-11-05 13:45:30</td>\n",
       "      <td>0 days</td>\n",
       "      <td>schId1234</td>\n",
       "      <td>2016-11-05 13:30:30</td>\n",
       "      <td>L/U</td>\n",
       "      <td>1</td>\n",
       "      <td>00:15:00</td>\n",
       "    </tr>\n",
       "    <tr>\n",
       "      <th>14</th>\n",
       "      <td>2016-11-05 14:40:02</td>\n",
       "      <td>0 days</td>\n",
       "      <td>schId1234</td>\n",
       "      <td>2016-11-05 13:32:02</td>\n",
       "      <td>Machine</td>\n",
       "      <td>3</td>\n",
       "      <td>01:08:00</td>\n",
       "    </tr>\n",
       "    <tr>\n",
       "      <th>15</th>\n",
       "      <td>2016-11-05 14:13:16</td>\n",
       "      <td>0 days</td>\n",
       "      <td>schId1234</td>\n",
       "      <td>2016-11-05 13:33:16</td>\n",
       "      <td>L/U</td>\n",
       "      <td>2</td>\n",
       "      <td>00:40:00</td>\n",
       "    </tr>\n",
       "    <tr>\n",
       "      <th>16</th>\n",
       "      <td>2016-11-05 14:58:26</td>\n",
       "      <td>0 days</td>\n",
       "      <td>schId1234</td>\n",
       "      <td>2016-11-05 13:54:26</td>\n",
       "      <td>Machine</td>\n",
       "      <td>2</td>\n",
       "      <td>01:04:00</td>\n",
       "    </tr>\n",
       "    <tr>\n",
       "      <th>17</th>\n",
       "      <td>2016-11-05 16:06:36</td>\n",
       "      <td>0 days</td>\n",
       "      <td>schId1234</td>\n",
       "      <td>2016-11-05 14:58:36</td>\n",
       "      <td>Machine</td>\n",
       "      <td>1</td>\n",
       "      <td>01:08:00</td>\n",
       "    </tr>\n",
       "    <tr>\n",
       "      <th>18</th>\n",
       "      <td>2016-11-05 15:23:36</td>\n",
       "      <td>0 days</td>\n",
       "      <td>schId1234</td>\n",
       "      <td>2016-11-05 14:58:36</td>\n",
       "      <td>Machine</td>\n",
       "      <td>2</td>\n",
       "      <td>00:25:00</td>\n",
       "    </tr>\n",
       "    <tr>\n",
       "      <th>19</th>\n",
       "      <td>2016-11-05 15:19:50</td>\n",
       "      <td>0 days</td>\n",
       "      <td>schId1234</td>\n",
       "      <td>2016-11-05 14:59:50</td>\n",
       "      <td>L/U</td>\n",
       "      <td>1</td>\n",
       "      <td>00:20:00</td>\n",
       "    </tr>\n",
       "    <tr>\n",
       "      <th>20</th>\n",
       "      <td>2016-11-05 15:41:04</td>\n",
       "      <td>0 days</td>\n",
       "      <td>schId1234</td>\n",
       "      <td>2016-11-05 15:01:04</td>\n",
       "      <td>L/U</td>\n",
       "      <td>2</td>\n",
       "      <td>00:40:00</td>\n",
       "    </tr>\n",
       "    <tr>\n",
       "      <th>21</th>\n",
       "      <td>2016-11-05 16:27:36</td>\n",
       "      <td>0 days</td>\n",
       "      <td>schId1234</td>\n",
       "      <td>2016-11-05 15:23:36</td>\n",
       "      <td>Machine</td>\n",
       "      <td>2</td>\n",
       "      <td>01:04:00</td>\n",
       "    </tr>\n",
       "    <tr>\n",
       "      <th>22</th>\n",
       "      <td>2016-11-05 16:23:32</td>\n",
       "      <td>0 days</td>\n",
       "      <td>schId1234</td>\n",
       "      <td>2016-11-05 15:43:32</td>\n",
       "      <td>L/U</td>\n",
       "      <td>2</td>\n",
       "      <td>00:40:00</td>\n",
       "    </tr>\n",
       "    <tr>\n",
       "      <th>23</th>\n",
       "      <td>2016-11-05 17:06:00</td>\n",
       "      <td>0 days</td>\n",
       "      <td>schId1234</td>\n",
       "      <td>2016-11-05 16:26:00</td>\n",
       "      <td>L/U</td>\n",
       "      <td>2</td>\n",
       "      <td>00:40:00</td>\n",
       "    </tr>\n",
       "    <tr>\n",
       "      <th>24</th>\n",
       "      <td>2016-11-05 16:52:46</td>\n",
       "      <td>0 days</td>\n",
       "      <td>schId1234</td>\n",
       "      <td>2016-11-05 16:27:46</td>\n",
       "      <td>Machine</td>\n",
       "      <td>2</td>\n",
       "      <td>00:25:00</td>\n",
       "    </tr>\n",
       "    <tr>\n",
       "      <th>25</th>\n",
       "      <td>2016-11-05 17:35:46</td>\n",
       "      <td>0 days</td>\n",
       "      <td>schId1234</td>\n",
       "      <td>2016-11-05 16:27:46</td>\n",
       "      <td>Machine</td>\n",
       "      <td>3</td>\n",
       "      <td>01:08:00</td>\n",
       "    </tr>\n",
       "    <tr>\n",
       "      <th>26</th>\n",
       "      <td>2016-11-05 17:35:46</td>\n",
       "      <td>0 days</td>\n",
       "      <td>schId1234</td>\n",
       "      <td>2016-11-05 16:27:46</td>\n",
       "      <td>Machine</td>\n",
       "      <td>4</td>\n",
       "      <td>01:08:00</td>\n",
       "    </tr>\n",
       "    <tr>\n",
       "      <th>27</th>\n",
       "      <td>2016-11-05 16:49:00</td>\n",
       "      <td>0 days</td>\n",
       "      <td>schId1234</td>\n",
       "      <td>2016-11-05 16:29:00</td>\n",
       "      <td>L/U</td>\n",
       "      <td>1</td>\n",
       "      <td>00:20:00</td>\n",
       "    </tr>\n",
       "    <tr>\n",
       "      <th>28</th>\n",
       "      <td>2016-11-05 17:15:24</td>\n",
       "      <td>0 days</td>\n",
       "      <td>schId1234</td>\n",
       "      <td>2016-11-05 16:50:24</td>\n",
       "      <td>Machine</td>\n",
       "      <td>1</td>\n",
       "      <td>00:25:00</td>\n",
       "    </tr>\n",
       "    <tr>\n",
       "      <th>29</th>\n",
       "      <td>2016-11-05 17:56:46</td>\n",
       "      <td>0 days</td>\n",
       "      <td>schId1234</td>\n",
       "      <td>2016-11-05 16:52:46</td>\n",
       "      <td>Machine</td>\n",
       "      <td>2</td>\n",
       "      <td>01:04:00</td>\n",
       "    </tr>\n",
       "    <tr>\n",
       "      <th>...</th>\n",
       "      <td>...</td>\n",
       "      <td>...</td>\n",
       "      <td>...</td>\n",
       "      <td>...</td>\n",
       "      <td>...</td>\n",
       "      <td>...</td>\n",
       "      <td>...</td>\n",
       "    </tr>\n",
       "    <tr>\n",
       "      <th>43</th>\n",
       "      <td>2016-11-05 20:11:12</td>\n",
       "      <td>0 days</td>\n",
       "      <td>schId1234</td>\n",
       "      <td>2016-11-05 19:51:12</td>\n",
       "      <td>L/U</td>\n",
       "      <td>2</td>\n",
       "      <td>00:20:00</td>\n",
       "    </tr>\n",
       "    <tr>\n",
       "      <th>44</th>\n",
       "      <td>2016-11-05 20:36:22</td>\n",
       "      <td>0 days</td>\n",
       "      <td>schId1234</td>\n",
       "      <td>2016-11-05 20:11:22</td>\n",
       "      <td>Machine</td>\n",
       "      <td>1</td>\n",
       "      <td>00:25:00</td>\n",
       "    </tr>\n",
       "    <tr>\n",
       "      <th>45</th>\n",
       "      <td>2016-11-05 20:33:40</td>\n",
       "      <td>0 days</td>\n",
       "      <td>schId1234</td>\n",
       "      <td>2016-11-05 20:13:40</td>\n",
       "      <td>L/U</td>\n",
       "      <td>2</td>\n",
       "      <td>00:20:00</td>\n",
       "    </tr>\n",
       "    <tr>\n",
       "      <th>46</th>\n",
       "      <td>2016-11-05 21:17:44</td>\n",
       "      <td>0 days</td>\n",
       "      <td>schId1234</td>\n",
       "      <td>2016-11-05 20:13:44</td>\n",
       "      <td>Machine</td>\n",
       "      <td>2</td>\n",
       "      <td>01:04:00</td>\n",
       "    </tr>\n",
       "    <tr>\n",
       "      <th>47</th>\n",
       "      <td>2016-11-05 20:56:08</td>\n",
       "      <td>0 days</td>\n",
       "      <td>schId1234</td>\n",
       "      <td>2016-11-05 20:36:08</td>\n",
       "      <td>L/U</td>\n",
       "      <td>2</td>\n",
       "      <td>00:20:00</td>\n",
       "    </tr>\n",
       "    <tr>\n",
       "      <th>48</th>\n",
       "      <td>2016-11-05 21:40:22</td>\n",
       "      <td>0 days</td>\n",
       "      <td>schId1234</td>\n",
       "      <td>2016-11-05 20:36:22</td>\n",
       "      <td>Machine</td>\n",
       "      <td>1</td>\n",
       "      <td>01:04:00</td>\n",
       "    </tr>\n",
       "    <tr>\n",
       "      <th>49</th>\n",
       "      <td>2016-11-05 21:39:08</td>\n",
       "      <td>0 days</td>\n",
       "      <td>schId1234</td>\n",
       "      <td>2016-11-05 21:19:08</td>\n",
       "      <td>L/U</td>\n",
       "      <td>1</td>\n",
       "      <td>00:20:00</td>\n",
       "    </tr>\n",
       "    <tr>\n",
       "      <th>50</th>\n",
       "      <td>2016-11-05 22:05:32</td>\n",
       "      <td>0 days</td>\n",
       "      <td>schId1234</td>\n",
       "      <td>2016-11-05 21:40:32</td>\n",
       "      <td>Machine</td>\n",
       "      <td>2</td>\n",
       "      <td>00:25:00</td>\n",
       "    </tr>\n",
       "    <tr>\n",
       "      <th>51</th>\n",
       "      <td>2016-11-05 22:01:46</td>\n",
       "      <td>0 days</td>\n",
       "      <td>schId1234</td>\n",
       "      <td>2016-11-05 21:41:46</td>\n",
       "      <td>L/U</td>\n",
       "      <td>1</td>\n",
       "      <td>00:20:00</td>\n",
       "    </tr>\n",
       "    <tr>\n",
       "      <th>52</th>\n",
       "      <td>2016-11-05 22:28:10</td>\n",
       "      <td>0 days</td>\n",
       "      <td>schId1234</td>\n",
       "      <td>2016-11-05 22:03:10</td>\n",
       "      <td>Machine</td>\n",
       "      <td>1</td>\n",
       "      <td>00:25:00</td>\n",
       "    </tr>\n",
       "    <tr>\n",
       "      <th>53</th>\n",
       "      <td>2016-11-05 23:09:32</td>\n",
       "      <td>0 days</td>\n",
       "      <td>schId1234</td>\n",
       "      <td>2016-11-05 22:05:32</td>\n",
       "      <td>Machine</td>\n",
       "      <td>2</td>\n",
       "      <td>01:04:00</td>\n",
       "    </tr>\n",
       "    <tr>\n",
       "      <th>54</th>\n",
       "      <td>2016-11-05 23:32:10</td>\n",
       "      <td>0 days</td>\n",
       "      <td>schId1234</td>\n",
       "      <td>2016-11-05 22:28:10</td>\n",
       "      <td>Machine</td>\n",
       "      <td>1</td>\n",
       "      <td>01:04:00</td>\n",
       "    </tr>\n",
       "    <tr>\n",
       "      <th>55</th>\n",
       "      <td>2016-11-05 23:30:56</td>\n",
       "      <td>0 days</td>\n",
       "      <td>schId1234</td>\n",
       "      <td>2016-11-05 23:10:56</td>\n",
       "      <td>L/U</td>\n",
       "      <td>1</td>\n",
       "      <td>00:20:00</td>\n",
       "    </tr>\n",
       "    <tr>\n",
       "      <th>56</th>\n",
       "      <td>2016-11-05 23:57:20</td>\n",
       "      <td>0 days</td>\n",
       "      <td>schId1234</td>\n",
       "      <td>2016-11-05 23:32:20</td>\n",
       "      <td>Machine</td>\n",
       "      <td>2</td>\n",
       "      <td>00:25:00</td>\n",
       "    </tr>\n",
       "    <tr>\n",
       "      <th>57</th>\n",
       "      <td>2016-11-05 23:53:34</td>\n",
       "      <td>0 days</td>\n",
       "      <td>schId1234</td>\n",
       "      <td>2016-11-05 23:33:34</td>\n",
       "      <td>L/U</td>\n",
       "      <td>1</td>\n",
       "      <td>00:20:00</td>\n",
       "    </tr>\n",
       "    <tr>\n",
       "      <th>58</th>\n",
       "      <td>2016-11-06 00:19:58</td>\n",
       "      <td>0 days</td>\n",
       "      <td>schId1234</td>\n",
       "      <td>2016-11-05 23:54:58</td>\n",
       "      <td>Machine</td>\n",
       "      <td>1</td>\n",
       "      <td>00:25:00</td>\n",
       "    </tr>\n",
       "    <tr>\n",
       "      <th>59</th>\n",
       "      <td>2016-11-06 01:01:20</td>\n",
       "      <td>0 days</td>\n",
       "      <td>schId1234</td>\n",
       "      <td>2016-11-05 23:57:20</td>\n",
       "      <td>Machine</td>\n",
       "      <td>2</td>\n",
       "      <td>01:04:00</td>\n",
       "    </tr>\n",
       "    <tr>\n",
       "      <th>60</th>\n",
       "      <td>2016-11-06 01:23:58</td>\n",
       "      <td>0 days</td>\n",
       "      <td>schId1234</td>\n",
       "      <td>2016-11-06 00:19:58</td>\n",
       "      <td>Machine</td>\n",
       "      <td>1</td>\n",
       "      <td>01:04:00</td>\n",
       "    </tr>\n",
       "    <tr>\n",
       "      <th>61</th>\n",
       "      <td>2016-11-06 01:22:44</td>\n",
       "      <td>0 days</td>\n",
       "      <td>schId1234</td>\n",
       "      <td>2016-11-06 01:02:44</td>\n",
       "      <td>L/U</td>\n",
       "      <td>1</td>\n",
       "      <td>00:20:00</td>\n",
       "    </tr>\n",
       "    <tr>\n",
       "      <th>62</th>\n",
       "      <td>2016-11-06 01:49:08</td>\n",
       "      <td>0 days</td>\n",
       "      <td>schId1234</td>\n",
       "      <td>2016-11-06 01:24:08</td>\n",
       "      <td>Machine</td>\n",
       "      <td>2</td>\n",
       "      <td>00:25:00</td>\n",
       "    </tr>\n",
       "    <tr>\n",
       "      <th>63</th>\n",
       "      <td>2016-11-06 01:45:22</td>\n",
       "      <td>0 days</td>\n",
       "      <td>schId1234</td>\n",
       "      <td>2016-11-06 01:25:22</td>\n",
       "      <td>L/U</td>\n",
       "      <td>1</td>\n",
       "      <td>00:20:00</td>\n",
       "    </tr>\n",
       "    <tr>\n",
       "      <th>64</th>\n",
       "      <td>2016-11-06 02:11:46</td>\n",
       "      <td>0 days</td>\n",
       "      <td>schId1234</td>\n",
       "      <td>2016-11-06 01:46:46</td>\n",
       "      <td>Machine</td>\n",
       "      <td>1</td>\n",
       "      <td>00:25:00</td>\n",
       "    </tr>\n",
       "    <tr>\n",
       "      <th>65</th>\n",
       "      <td>2016-11-06 02:53:08</td>\n",
       "      <td>0 days</td>\n",
       "      <td>schId1234</td>\n",
       "      <td>2016-11-06 01:49:08</td>\n",
       "      <td>Machine</td>\n",
       "      <td>2</td>\n",
       "      <td>01:04:00</td>\n",
       "    </tr>\n",
       "    <tr>\n",
       "      <th>66</th>\n",
       "      <td>2016-11-06 03:15:46</td>\n",
       "      <td>0 days</td>\n",
       "      <td>schId1234</td>\n",
       "      <td>2016-11-06 02:11:46</td>\n",
       "      <td>Machine</td>\n",
       "      <td>1</td>\n",
       "      <td>01:04:00</td>\n",
       "    </tr>\n",
       "    <tr>\n",
       "      <th>67</th>\n",
       "      <td>2016-11-06 03:09:32</td>\n",
       "      <td>0 days</td>\n",
       "      <td>schId1234</td>\n",
       "      <td>2016-11-06 02:54:32</td>\n",
       "      <td>L/U</td>\n",
       "      <td>1</td>\n",
       "      <td>00:15:00</td>\n",
       "    </tr>\n",
       "    <tr>\n",
       "      <th>68</th>\n",
       "      <td>2016-11-06 03:35:56</td>\n",
       "      <td>0 days</td>\n",
       "      <td>schId1234</td>\n",
       "      <td>2016-11-06 03:10:56</td>\n",
       "      <td>Machine</td>\n",
       "      <td>2</td>\n",
       "      <td>00:25:00</td>\n",
       "    </tr>\n",
       "    <tr>\n",
       "      <th>69</th>\n",
       "      <td>2016-11-06 03:32:10</td>\n",
       "      <td>0 days</td>\n",
       "      <td>schId1234</td>\n",
       "      <td>2016-11-06 03:17:10</td>\n",
       "      <td>L/U</td>\n",
       "      <td>1</td>\n",
       "      <td>00:15:00</td>\n",
       "    </tr>\n",
       "    <tr>\n",
       "      <th>70</th>\n",
       "      <td>2016-11-06 03:58:34</td>\n",
       "      <td>0 days</td>\n",
       "      <td>schId1234</td>\n",
       "      <td>2016-11-06 03:33:34</td>\n",
       "      <td>Machine</td>\n",
       "      <td>1</td>\n",
       "      <td>00:25:00</td>\n",
       "    </tr>\n",
       "    <tr>\n",
       "      <th>71</th>\n",
       "      <td>2016-11-06 03:42:20</td>\n",
       "      <td>0 days</td>\n",
       "      <td>schId1234</td>\n",
       "      <td>2016-11-06 03:37:20</td>\n",
       "      <td>L/U</td>\n",
       "      <td>1</td>\n",
       "      <td>00:05:00</td>\n",
       "    </tr>\n",
       "    <tr>\n",
       "      <th>72</th>\n",
       "      <td>2016-11-06 04:04:58</td>\n",
       "      <td>0 days</td>\n",
       "      <td>schId1234</td>\n",
       "      <td>2016-11-06 03:59:58</td>\n",
       "      <td>L/U</td>\n",
       "      <td>1</td>\n",
       "      <td>00:05:00</td>\n",
       "    </tr>\n",
       "  </tbody>\n",
       "</table>\n",
       "<p>73 rows × 7 columns</p>\n",
       "</div>"
      ],
      "text/plain": [
       "                EndUTC PlannedDownTime SimulationId            StartUTC  \\\n",
       "0  2016-11-05 12:06:14          0 days    schId1234 2016-11-05 12:01:14   \n",
       "1  2016-11-05 12:22:28          0 days    schId1234 2016-11-05 12:02:28   \n",
       "2  2016-11-05 13:11:38          0 days    schId1234 2016-11-05 12:07:38   \n",
       "3  2016-11-05 12:13:42          0 days    schId1234 2016-11-05 12:08:42   \n",
       "4  2016-11-05 13:19:06          0 days    schId1234 2016-11-05 12:15:06   \n",
       "5  2016-11-05 13:31:52          0 days    schId1234 2016-11-05 12:23:52   \n",
       "6  2016-11-05 12:44:56          0 days    schId1234 2016-11-05 12:24:56   \n",
       "7  2016-11-05 13:54:20          0 days    schId1234 2016-11-05 12:46:20   \n",
       "8  2016-11-05 13:07:24          0 days    schId1234 2016-11-05 12:47:24   \n",
       "9  2016-11-05 13:29:52          0 days    schId1234 2016-11-05 13:09:52   \n",
       "10 2016-11-05 14:19:48          0 days    schId1234 2016-11-05 13:11:48   \n",
       "11 2016-11-05 13:28:02          0 days    schId1234 2016-11-05 13:13:02   \n",
       "12 2016-11-05 13:54:26          0 days    schId1234 2016-11-05 13:29:26   \n",
       "13 2016-11-05 13:45:30          0 days    schId1234 2016-11-05 13:30:30   \n",
       "14 2016-11-05 14:40:02          0 days    schId1234 2016-11-05 13:32:02   \n",
       "15 2016-11-05 14:13:16          0 days    schId1234 2016-11-05 13:33:16   \n",
       "16 2016-11-05 14:58:26          0 days    schId1234 2016-11-05 13:54:26   \n",
       "17 2016-11-05 16:06:36          0 days    schId1234 2016-11-05 14:58:36   \n",
       "18 2016-11-05 15:23:36          0 days    schId1234 2016-11-05 14:58:36   \n",
       "19 2016-11-05 15:19:50          0 days    schId1234 2016-11-05 14:59:50   \n",
       "20 2016-11-05 15:41:04          0 days    schId1234 2016-11-05 15:01:04   \n",
       "21 2016-11-05 16:27:36          0 days    schId1234 2016-11-05 15:23:36   \n",
       "22 2016-11-05 16:23:32          0 days    schId1234 2016-11-05 15:43:32   \n",
       "23 2016-11-05 17:06:00          0 days    schId1234 2016-11-05 16:26:00   \n",
       "24 2016-11-05 16:52:46          0 days    schId1234 2016-11-05 16:27:46   \n",
       "25 2016-11-05 17:35:46          0 days    schId1234 2016-11-05 16:27:46   \n",
       "26 2016-11-05 17:35:46          0 days    schId1234 2016-11-05 16:27:46   \n",
       "27 2016-11-05 16:49:00          0 days    schId1234 2016-11-05 16:29:00   \n",
       "28 2016-11-05 17:15:24          0 days    schId1234 2016-11-05 16:50:24   \n",
       "29 2016-11-05 17:56:46          0 days    schId1234 2016-11-05 16:52:46   \n",
       "..                 ...             ...          ...                 ...   \n",
       "43 2016-11-05 20:11:12          0 days    schId1234 2016-11-05 19:51:12   \n",
       "44 2016-11-05 20:36:22          0 days    schId1234 2016-11-05 20:11:22   \n",
       "45 2016-11-05 20:33:40          0 days    schId1234 2016-11-05 20:13:40   \n",
       "46 2016-11-05 21:17:44          0 days    schId1234 2016-11-05 20:13:44   \n",
       "47 2016-11-05 20:56:08          0 days    schId1234 2016-11-05 20:36:08   \n",
       "48 2016-11-05 21:40:22          0 days    schId1234 2016-11-05 20:36:22   \n",
       "49 2016-11-05 21:39:08          0 days    schId1234 2016-11-05 21:19:08   \n",
       "50 2016-11-05 22:05:32          0 days    schId1234 2016-11-05 21:40:32   \n",
       "51 2016-11-05 22:01:46          0 days    schId1234 2016-11-05 21:41:46   \n",
       "52 2016-11-05 22:28:10          0 days    schId1234 2016-11-05 22:03:10   \n",
       "53 2016-11-05 23:09:32          0 days    schId1234 2016-11-05 22:05:32   \n",
       "54 2016-11-05 23:32:10          0 days    schId1234 2016-11-05 22:28:10   \n",
       "55 2016-11-05 23:30:56          0 days    schId1234 2016-11-05 23:10:56   \n",
       "56 2016-11-05 23:57:20          0 days    schId1234 2016-11-05 23:32:20   \n",
       "57 2016-11-05 23:53:34          0 days    schId1234 2016-11-05 23:33:34   \n",
       "58 2016-11-06 00:19:58          0 days    schId1234 2016-11-05 23:54:58   \n",
       "59 2016-11-06 01:01:20          0 days    schId1234 2016-11-05 23:57:20   \n",
       "60 2016-11-06 01:23:58          0 days    schId1234 2016-11-06 00:19:58   \n",
       "61 2016-11-06 01:22:44          0 days    schId1234 2016-11-06 01:02:44   \n",
       "62 2016-11-06 01:49:08          0 days    schId1234 2016-11-06 01:24:08   \n",
       "63 2016-11-06 01:45:22          0 days    schId1234 2016-11-06 01:25:22   \n",
       "64 2016-11-06 02:11:46          0 days    schId1234 2016-11-06 01:46:46   \n",
       "65 2016-11-06 02:53:08          0 days    schId1234 2016-11-06 01:49:08   \n",
       "66 2016-11-06 03:15:46          0 days    schId1234 2016-11-06 02:11:46   \n",
       "67 2016-11-06 03:09:32          0 days    schId1234 2016-11-06 02:54:32   \n",
       "68 2016-11-06 03:35:56          0 days    schId1234 2016-11-06 03:10:56   \n",
       "69 2016-11-06 03:32:10          0 days    schId1234 2016-11-06 03:17:10   \n",
       "70 2016-11-06 03:58:34          0 days    schId1234 2016-11-06 03:33:34   \n",
       "71 2016-11-06 03:42:20          0 days    schId1234 2016-11-06 03:37:20   \n",
       "72 2016-11-06 04:04:58          0 days    schId1234 2016-11-06 03:59:58   \n",
       "\n",
       "   StationGroup  StationNum UtilizationTime  \n",
       "0           L/U           1        00:05:00  \n",
       "1           L/U           2        00:20:00  \n",
       "2       Machine           1        01:04:00  \n",
       "3           L/U           1        00:05:00  \n",
       "4       Machine           2        01:04:00  \n",
       "5       Machine           3        01:08:00  \n",
       "6           L/U           2        00:20:00  \n",
       "7       Machine           4        01:08:00  \n",
       "8           L/U           2        00:20:00  \n",
       "9           L/U           2        00:20:00  \n",
       "10      Machine           1        01:08:00  \n",
       "11          L/U           1        00:15:00  \n",
       "12      Machine           2        00:25:00  \n",
       "13          L/U           1        00:15:00  \n",
       "14      Machine           3        01:08:00  \n",
       "15          L/U           2        00:40:00  \n",
       "16      Machine           2        01:04:00  \n",
       "17      Machine           1        01:08:00  \n",
       "18      Machine           2        00:25:00  \n",
       "19          L/U           1        00:20:00  \n",
       "20          L/U           2        00:40:00  \n",
       "21      Machine           2        01:04:00  \n",
       "22          L/U           2        00:40:00  \n",
       "23          L/U           2        00:40:00  \n",
       "24      Machine           2        00:25:00  \n",
       "25      Machine           3        01:08:00  \n",
       "26      Machine           4        01:08:00  \n",
       "27          L/U           1        00:20:00  \n",
       "28      Machine           1        00:25:00  \n",
       "29      Machine           2        01:04:00  \n",
       "..          ...         ...             ...  \n",
       "43          L/U           2        00:20:00  \n",
       "44      Machine           1        00:25:00  \n",
       "45          L/U           2        00:20:00  \n",
       "46      Machine           2        01:04:00  \n",
       "47          L/U           2        00:20:00  \n",
       "48      Machine           1        01:04:00  \n",
       "49          L/U           1        00:20:00  \n",
       "50      Machine           2        00:25:00  \n",
       "51          L/U           1        00:20:00  \n",
       "52      Machine           1        00:25:00  \n",
       "53      Machine           2        01:04:00  \n",
       "54      Machine           1        01:04:00  \n",
       "55          L/U           1        00:20:00  \n",
       "56      Machine           2        00:25:00  \n",
       "57          L/U           1        00:20:00  \n",
       "58      Machine           1        00:25:00  \n",
       "59      Machine           2        01:04:00  \n",
       "60      Machine           1        01:04:00  \n",
       "61          L/U           1        00:20:00  \n",
       "62      Machine           2        00:25:00  \n",
       "63          L/U           1        00:20:00  \n",
       "64      Machine           1        00:25:00  \n",
       "65      Machine           2        01:04:00  \n",
       "66      Machine           1        01:04:00  \n",
       "67          L/U           1        00:15:00  \n",
       "68      Machine           2        00:25:00  \n",
       "69          L/U           1        00:15:00  \n",
       "70      Machine           1        00:25:00  \n",
       "71          L/U           1        00:05:00  \n",
       "72          L/U           1        00:05:00  \n",
       "\n",
       "[73 rows x 7 columns]"
      ]
     },
     "execution_count": 6,
     "metadata": {},
     "output_type": "execute_result"
    }
   ],
   "source": [
    "simstat = allocate.simstat(results)\n",
    "simstat"
   ]
  },
  {
   "cell_type": "code",
   "execution_count": 7,
   "metadata": {},
   "outputs": [
    {
     "data": {
      "application/vnd.plotly.v1+json": {
       "data": [
        {
         "marker": {
          "color": "white"
         },
         "name": "",
         "x": [
          "2016-11-05 12:01:14",
          "2016-11-05 12:06:14"
         ],
         "y": [
          5,
          5
         ]
        },
        {
         "marker": {
          "color": "white"
         },
         "name": "",
         "x": [
          "2016-11-05 12:02:28",
          "2016-11-05 12:22:28"
         ],
         "y": [
          4,
          4
         ]
        },
        {
         "marker": {
          "color": "white"
         },
         "name": "",
         "x": [
          "2016-11-05 12:07:38",
          "2016-11-05 13:11:38"
         ],
         "y": [
          3,
          3
         ]
        },
        {
         "marker": {
          "color": "white"
         },
         "name": "",
         "x": [
          "2016-11-05 12:08:42",
          "2016-11-05 12:13:42"
         ],
         "y": [
          5,
          5
         ]
        },
        {
         "marker": {
          "color": "white"
         },
         "name": "",
         "x": [
          "2016-11-05 12:15:06",
          "2016-11-05 13:19:06"
         ],
         "y": [
          2,
          2
         ]
        },
        {
         "marker": {
          "color": "white"
         },
         "name": "",
         "x": [
          "2016-11-05 12:23:52",
          "2016-11-05 13:31:52"
         ],
         "y": [
          1,
          1
         ]
        },
        {
         "marker": {
          "color": "white"
         },
         "name": "",
         "x": [
          "2016-11-05 12:24:56",
          "2016-11-05 12:44:56"
         ],
         "y": [
          4,
          4
         ]
        },
        {
         "marker": {
          "color": "white"
         },
         "name": "",
         "x": [
          "2016-11-05 12:46:20",
          "2016-11-05 13:54:20"
         ],
         "y": [
          0,
          0
         ]
        },
        {
         "marker": {
          "color": "white"
         },
         "name": "",
         "x": [
          "2016-11-05 12:47:24",
          "2016-11-05 13:07:24"
         ],
         "y": [
          4,
          4
         ]
        },
        {
         "marker": {
          "color": "white"
         },
         "name": "",
         "x": [
          "2016-11-05 13:09:52",
          "2016-11-05 13:29:52"
         ],
         "y": [
          4,
          4
         ]
        },
        {
         "marker": {
          "color": "white"
         },
         "name": "",
         "x": [
          "2016-11-05 13:11:48",
          "2016-11-05 14:19:48"
         ],
         "y": [
          3,
          3
         ]
        },
        {
         "marker": {
          "color": "white"
         },
         "name": "",
         "x": [
          "2016-11-05 13:13:02",
          "2016-11-05 13:28:02"
         ],
         "y": [
          5,
          5
         ]
        },
        {
         "marker": {
          "color": "white"
         },
         "name": "",
         "x": [
          "2016-11-05 13:29:26",
          "2016-11-05 13:54:26"
         ],
         "y": [
          2,
          2
         ]
        },
        {
         "marker": {
          "color": "white"
         },
         "name": "",
         "x": [
          "2016-11-05 13:30:30",
          "2016-11-05 13:45:30"
         ],
         "y": [
          5,
          5
         ]
        },
        {
         "marker": {
          "color": "white"
         },
         "name": "",
         "x": [
          "2016-11-05 13:32:02",
          "2016-11-05 14:40:02"
         ],
         "y": [
          1,
          1
         ]
        },
        {
         "marker": {
          "color": "white"
         },
         "name": "",
         "x": [
          "2016-11-05 13:33:16",
          "2016-11-05 14:13:16"
         ],
         "y": [
          4,
          4
         ]
        },
        {
         "marker": {
          "color": "white"
         },
         "name": "",
         "x": [
          "2016-11-05 13:54:26",
          "2016-11-05 14:58:26"
         ],
         "y": [
          2,
          2
         ]
        },
        {
         "marker": {
          "color": "white"
         },
         "name": "",
         "x": [
          "2016-11-05 14:58:36",
          "2016-11-05 16:06:36"
         ],
         "y": [
          3,
          3
         ]
        },
        {
         "marker": {
          "color": "white"
         },
         "name": "",
         "x": [
          "2016-11-05 14:58:36",
          "2016-11-05 15:23:36"
         ],
         "y": [
          2,
          2
         ]
        },
        {
         "marker": {
          "color": "white"
         },
         "name": "",
         "x": [
          "2016-11-05 14:59:50",
          "2016-11-05 15:19:50"
         ],
         "y": [
          5,
          5
         ]
        },
        {
         "marker": {
          "color": "white"
         },
         "name": "",
         "x": [
          "2016-11-05 15:01:04",
          "2016-11-05 15:41:04"
         ],
         "y": [
          4,
          4
         ]
        },
        {
         "marker": {
          "color": "white"
         },
         "name": "",
         "x": [
          "2016-11-05 15:23:36",
          "2016-11-05 16:27:36"
         ],
         "y": [
          2,
          2
         ]
        },
        {
         "marker": {
          "color": "white"
         },
         "name": "",
         "x": [
          "2016-11-05 15:43:32",
          "2016-11-05 16:23:32"
         ],
         "y": [
          4,
          4
         ]
        },
        {
         "marker": {
          "color": "white"
         },
         "name": "",
         "x": [
          "2016-11-05 16:26:00",
          "2016-11-05 17:06:00"
         ],
         "y": [
          4,
          4
         ]
        },
        {
         "marker": {
          "color": "white"
         },
         "name": "",
         "x": [
          "2016-11-05 16:27:46",
          "2016-11-05 16:52:46"
         ],
         "y": [
          2,
          2
         ]
        },
        {
         "marker": {
          "color": "white"
         },
         "name": "",
         "x": [
          "2016-11-05 16:27:46",
          "2016-11-05 17:35:46"
         ],
         "y": [
          1,
          1
         ]
        },
        {
         "marker": {
          "color": "white"
         },
         "name": "",
         "x": [
          "2016-11-05 16:27:46",
          "2016-11-05 17:35:46"
         ],
         "y": [
          0,
          0
         ]
        },
        {
         "marker": {
          "color": "white"
         },
         "name": "",
         "x": [
          "2016-11-05 16:29:00",
          "2016-11-05 16:49:00"
         ],
         "y": [
          5,
          5
         ]
        },
        {
         "marker": {
          "color": "white"
         },
         "name": "",
         "x": [
          "2016-11-05 16:50:24",
          "2016-11-05 17:15:24"
         ],
         "y": [
          3,
          3
         ]
        },
        {
         "marker": {
          "color": "white"
         },
         "name": "",
         "x": [
          "2016-11-05 16:52:46",
          "2016-11-05 17:56:46"
         ],
         "y": [
          2,
          2
         ]
        },
        {
         "marker": {
          "color": "white"
         },
         "name": "",
         "x": [
          "2016-11-05 17:08:28",
          "2016-11-05 17:48:28"
         ],
         "y": [
          4,
          4
         ]
        },
        {
         "marker": {
          "color": "white"
         },
         "name": "",
         "x": [
          "2016-11-05 17:15:24",
          "2016-11-05 18:19:24"
         ],
         "y": [
          3,
          3
         ]
        },
        {
         "marker": {
          "color": "white"
         },
         "name": "",
         "x": [
          "2016-11-05 17:35:56",
          "2016-11-05 18:43:56"
         ],
         "y": [
          1,
          1
         ]
        },
        {
         "marker": {
          "color": "white"
         },
         "name": "",
         "x": [
          "2016-11-05 17:49:52",
          "2016-11-05 18:57:52"
         ],
         "y": [
          0,
          0
         ]
        },
        {
         "marker": {
          "color": "white"
         },
         "name": "",
         "x": [
          "2016-11-05 17:50:56",
          "2016-11-05 18:30:56"
         ],
         "y": [
          4,
          4
         ]
        },
        {
         "marker": {
          "color": "white"
         },
         "name": "",
         "x": [
          "2016-11-05 17:58:10",
          "2016-11-05 18:18:10"
         ],
         "y": [
          5,
          5
         ]
        },
        {
         "marker": {
          "color": "white"
         },
         "name": "",
         "x": [
          "2016-11-05 18:19:34",
          "2016-11-05 18:44:34"
         ],
         "y": [
          2,
          2
         ]
        },
        {
         "marker": {
          "color": "white"
         },
         "name": "",
         "x": [
          "2016-11-05 18:20:48",
          "2016-11-05 18:40:48"
         ],
         "y": [
          5,
          5
         ]
        },
        {
         "marker": {
          "color": "white"
         },
         "name": "",
         "x": [
          "2016-11-05 18:32:20",
          "2016-11-05 19:40:20"
         ],
         "y": [
          3,
          3
         ]
        },
        {
         "marker": {
          "color": "white"
         },
         "name": "",
         "x": [
          "2016-11-05 18:33:24",
          "2016-11-05 18:53:24"
         ],
         "y": [
          4,
          4
         ]
        },
        {
         "marker": {
          "color": "white"
         },
         "name": "",
         "x": [
          "2016-11-05 18:44:34",
          "2016-11-05 19:48:34"
         ],
         "y": [
          2,
          2
         ]
        },
        {
         "marker": {
          "color": "white"
         },
         "name": "",
         "x": [
          "2016-11-05 19:48:44",
          "2016-11-05 20:13:44"
         ],
         "y": [
          2,
          2
         ]
        },
        {
         "marker": {
          "color": "white"
         },
         "name": "",
         "x": [
          "2016-11-05 19:49:58",
          "2016-11-05 20:09:58"
         ],
         "y": [
          5,
          5
         ]
        },
        {
         "marker": {
          "color": "white"
         },
         "name": "",
         "x": [
          "2016-11-05 19:51:12",
          "2016-11-05 20:11:12"
         ],
         "y": [
          4,
          4
         ]
        },
        {
         "marker": {
          "color": "white"
         },
         "name": "",
         "x": [
          "2016-11-05 20:11:22",
          "2016-11-05 20:36:22"
         ],
         "y": [
          3,
          3
         ]
        },
        {
         "marker": {
          "color": "white"
         },
         "name": "",
         "x": [
          "2016-11-05 20:13:40",
          "2016-11-05 20:33:40"
         ],
         "y": [
          4,
          4
         ]
        },
        {
         "marker": {
          "color": "white"
         },
         "name": "",
         "x": [
          "2016-11-05 20:13:44",
          "2016-11-05 21:17:44"
         ],
         "y": [
          2,
          2
         ]
        },
        {
         "marker": {
          "color": "white"
         },
         "name": "",
         "x": [
          "2016-11-05 20:36:08",
          "2016-11-05 20:56:08"
         ],
         "y": [
          4,
          4
         ]
        },
        {
         "marker": {
          "color": "white"
         },
         "name": "",
         "x": [
          "2016-11-05 20:36:22",
          "2016-11-05 21:40:22"
         ],
         "y": [
          3,
          3
         ]
        },
        {
         "marker": {
          "color": "white"
         },
         "name": "",
         "x": [
          "2016-11-05 21:19:08",
          "2016-11-05 21:39:08"
         ],
         "y": [
          5,
          5
         ]
        },
        {
         "marker": {
          "color": "white"
         },
         "name": "",
         "x": [
          "2016-11-05 21:40:32",
          "2016-11-05 22:05:32"
         ],
         "y": [
          2,
          2
         ]
        },
        {
         "marker": {
          "color": "white"
         },
         "name": "",
         "x": [
          "2016-11-05 21:41:46",
          "2016-11-05 22:01:46"
         ],
         "y": [
          5,
          5
         ]
        },
        {
         "marker": {
          "color": "white"
         },
         "name": "",
         "x": [
          "2016-11-05 22:03:10",
          "2016-11-05 22:28:10"
         ],
         "y": [
          3,
          3
         ]
        },
        {
         "marker": {
          "color": "white"
         },
         "name": "",
         "x": [
          "2016-11-05 22:05:32",
          "2016-11-05 23:09:32"
         ],
         "y": [
          2,
          2
         ]
        },
        {
         "marker": {
          "color": "white"
         },
         "name": "",
         "x": [
          "2016-11-05 22:28:10",
          "2016-11-05 23:32:10"
         ],
         "y": [
          3,
          3
         ]
        },
        {
         "marker": {
          "color": "white"
         },
         "name": "",
         "x": [
          "2016-11-05 23:10:56",
          "2016-11-05 23:30:56"
         ],
         "y": [
          5,
          5
         ]
        },
        {
         "marker": {
          "color": "white"
         },
         "name": "",
         "x": [
          "2016-11-05 23:32:20",
          "2016-11-05 23:57:20"
         ],
         "y": [
          2,
          2
         ]
        },
        {
         "marker": {
          "color": "white"
         },
         "name": "",
         "x": [
          "2016-11-05 23:33:34",
          "2016-11-05 23:53:34"
         ],
         "y": [
          5,
          5
         ]
        },
        {
         "marker": {
          "color": "white"
         },
         "name": "",
         "x": [
          "2016-11-05 23:54:58",
          "2016-11-06 00:19:58"
         ],
         "y": [
          3,
          3
         ]
        },
        {
         "marker": {
          "color": "white"
         },
         "name": "",
         "x": [
          "2016-11-05 23:57:20",
          "2016-11-06 01:01:20"
         ],
         "y": [
          2,
          2
         ]
        },
        {
         "marker": {
          "color": "white"
         },
         "name": "",
         "x": [
          "2016-11-06 00:19:58",
          "2016-11-06 01:23:58"
         ],
         "y": [
          3,
          3
         ]
        },
        {
         "marker": {
          "color": "white"
         },
         "name": "",
         "x": [
          "2016-11-06 01:02:44",
          "2016-11-06 01:22:44"
         ],
         "y": [
          5,
          5
         ]
        },
        {
         "marker": {
          "color": "white"
         },
         "name": "",
         "x": [
          "2016-11-06 01:24:08",
          "2016-11-06 01:49:08"
         ],
         "y": [
          2,
          2
         ]
        },
        {
         "marker": {
          "color": "white"
         },
         "name": "",
         "x": [
          "2016-11-06 01:25:22",
          "2016-11-06 01:45:22"
         ],
         "y": [
          5,
          5
         ]
        },
        {
         "marker": {
          "color": "white"
         },
         "name": "",
         "x": [
          "2016-11-06 01:46:46",
          "2016-11-06 02:11:46"
         ],
         "y": [
          3,
          3
         ]
        },
        {
         "marker": {
          "color": "white"
         },
         "name": "",
         "x": [
          "2016-11-06 01:49:08",
          "2016-11-06 02:53:08"
         ],
         "y": [
          2,
          2
         ]
        },
        {
         "marker": {
          "color": "white"
         },
         "name": "",
         "x": [
          "2016-11-06 02:11:46",
          "2016-11-06 03:15:46"
         ],
         "y": [
          3,
          3
         ]
        },
        {
         "marker": {
          "color": "white"
         },
         "name": "",
         "x": [
          "2016-11-06 02:54:32",
          "2016-11-06 03:09:32"
         ],
         "y": [
          5,
          5
         ]
        },
        {
         "marker": {
          "color": "white"
         },
         "name": "",
         "x": [
          "2016-11-06 03:10:56",
          "2016-11-06 03:35:56"
         ],
         "y": [
          2,
          2
         ]
        },
        {
         "marker": {
          "color": "white"
         },
         "name": "",
         "x": [
          "2016-11-06 03:17:10",
          "2016-11-06 03:32:10"
         ],
         "y": [
          5,
          5
         ]
        },
        {
         "marker": {
          "color": "white"
         },
         "name": "",
         "x": [
          "2016-11-06 03:33:34",
          "2016-11-06 03:58:34"
         ],
         "y": [
          3,
          3
         ]
        },
        {
         "marker": {
          "color": "white"
         },
         "name": "",
         "x": [
          "2016-11-06 03:37:20",
          "2016-11-06 03:42:20"
         ],
         "y": [
          5,
          5
         ]
        },
        {
         "marker": {
          "color": "white"
         },
         "name": "",
         "x": [
          "2016-11-06 03:59:58",
          "2016-11-06 04:04:58"
         ],
         "y": [
          5,
          5
         ]
        }
       ],
       "layout": {
        "height": 600,
        "hovermode": "closest",
        "shapes": [
         {
          "fillcolor": "rgb(31, 119, 180)",
          "line": {
           "width": 0
          },
          "opacity": 1,
          "type": "rect",
          "x0": "2016-11-05 12:01:14",
          "x1": "2016-11-05 12:06:14",
          "xref": "x",
          "y0": 4.8,
          "y1": 5.2,
          "yref": "y"
         },
         {
          "fillcolor": "rgb(31, 119, 180)",
          "line": {
           "width": 0
          },
          "opacity": 1,
          "type": "rect",
          "x0": "2016-11-05 12:02:28",
          "x1": "2016-11-05 12:22:28",
          "xref": "x",
          "y0": 3.8,
          "y1": 4.2,
          "yref": "y"
         },
         {
          "fillcolor": "rgb(255, 127, 14)",
          "line": {
           "width": 0
          },
          "opacity": 1,
          "type": "rect",
          "x0": "2016-11-05 12:07:38",
          "x1": "2016-11-05 13:11:38",
          "xref": "x",
          "y0": 2.8,
          "y1": 3.2,
          "yref": "y"
         },
         {
          "fillcolor": "rgb(31, 119, 180)",
          "line": {
           "width": 0
          },
          "opacity": 1,
          "type": "rect",
          "x0": "2016-11-05 12:08:42",
          "x1": "2016-11-05 12:13:42",
          "xref": "x",
          "y0": 4.8,
          "y1": 5.2,
          "yref": "y"
         },
         {
          "fillcolor": "rgb(255, 127, 14)",
          "line": {
           "width": 0
          },
          "opacity": 1,
          "type": "rect",
          "x0": "2016-11-05 12:15:06",
          "x1": "2016-11-05 13:19:06",
          "xref": "x",
          "y0": 1.8,
          "y1": 2.2,
          "yref": "y"
         },
         {
          "fillcolor": "rgb(255, 127, 14)",
          "line": {
           "width": 0
          },
          "opacity": 1,
          "type": "rect",
          "x0": "2016-11-05 12:23:52",
          "x1": "2016-11-05 13:31:52",
          "xref": "x",
          "y0": 0.8,
          "y1": 1.2,
          "yref": "y"
         },
         {
          "fillcolor": "rgb(31, 119, 180)",
          "line": {
           "width": 0
          },
          "opacity": 1,
          "type": "rect",
          "x0": "2016-11-05 12:24:56",
          "x1": "2016-11-05 12:44:56",
          "xref": "x",
          "y0": 3.8,
          "y1": 4.2,
          "yref": "y"
         },
         {
          "fillcolor": "rgb(255, 127, 14)",
          "line": {
           "width": 0
          },
          "opacity": 1,
          "type": "rect",
          "x0": "2016-11-05 12:46:20",
          "x1": "2016-11-05 13:54:20",
          "xref": "x",
          "y0": -0.2,
          "y1": 0.2,
          "yref": "y"
         },
         {
          "fillcolor": "rgb(31, 119, 180)",
          "line": {
           "width": 0
          },
          "opacity": 1,
          "type": "rect",
          "x0": "2016-11-05 12:47:24",
          "x1": "2016-11-05 13:07:24",
          "xref": "x",
          "y0": 3.8,
          "y1": 4.2,
          "yref": "y"
         },
         {
          "fillcolor": "rgb(31, 119, 180)",
          "line": {
           "width": 0
          },
          "opacity": 1,
          "type": "rect",
          "x0": "2016-11-05 13:09:52",
          "x1": "2016-11-05 13:29:52",
          "xref": "x",
          "y0": 3.8,
          "y1": 4.2,
          "yref": "y"
         },
         {
          "fillcolor": "rgb(255, 127, 14)",
          "line": {
           "width": 0
          },
          "opacity": 1,
          "type": "rect",
          "x0": "2016-11-05 13:11:48",
          "x1": "2016-11-05 14:19:48",
          "xref": "x",
          "y0": 2.8,
          "y1": 3.2,
          "yref": "y"
         },
         {
          "fillcolor": "rgb(31, 119, 180)",
          "line": {
           "width": 0
          },
          "opacity": 1,
          "type": "rect",
          "x0": "2016-11-05 13:13:02",
          "x1": "2016-11-05 13:28:02",
          "xref": "x",
          "y0": 4.8,
          "y1": 5.2,
          "yref": "y"
         },
         {
          "fillcolor": "rgb(255, 127, 14)",
          "line": {
           "width": 0
          },
          "opacity": 1,
          "type": "rect",
          "x0": "2016-11-05 13:29:26",
          "x1": "2016-11-05 13:54:26",
          "xref": "x",
          "y0": 1.8,
          "y1": 2.2,
          "yref": "y"
         },
         {
          "fillcolor": "rgb(31, 119, 180)",
          "line": {
           "width": 0
          },
          "opacity": 1,
          "type": "rect",
          "x0": "2016-11-05 13:30:30",
          "x1": "2016-11-05 13:45:30",
          "xref": "x",
          "y0": 4.8,
          "y1": 5.2,
          "yref": "y"
         },
         {
          "fillcolor": "rgb(255, 127, 14)",
          "line": {
           "width": 0
          },
          "opacity": 1,
          "type": "rect",
          "x0": "2016-11-05 13:32:02",
          "x1": "2016-11-05 14:40:02",
          "xref": "x",
          "y0": 0.8,
          "y1": 1.2,
          "yref": "y"
         },
         {
          "fillcolor": "rgb(31, 119, 180)",
          "line": {
           "width": 0
          },
          "opacity": 1,
          "type": "rect",
          "x0": "2016-11-05 13:33:16",
          "x1": "2016-11-05 14:13:16",
          "xref": "x",
          "y0": 3.8,
          "y1": 4.2,
          "yref": "y"
         },
         {
          "fillcolor": "rgb(255, 127, 14)",
          "line": {
           "width": 0
          },
          "opacity": 1,
          "type": "rect",
          "x0": "2016-11-05 13:54:26",
          "x1": "2016-11-05 14:58:26",
          "xref": "x",
          "y0": 1.8,
          "y1": 2.2,
          "yref": "y"
         },
         {
          "fillcolor": "rgb(255, 127, 14)",
          "line": {
           "width": 0
          },
          "opacity": 1,
          "type": "rect",
          "x0": "2016-11-05 14:58:36",
          "x1": "2016-11-05 16:06:36",
          "xref": "x",
          "y0": 2.8,
          "y1": 3.2,
          "yref": "y"
         },
         {
          "fillcolor": "rgb(255, 127, 14)",
          "line": {
           "width": 0
          },
          "opacity": 1,
          "type": "rect",
          "x0": "2016-11-05 14:58:36",
          "x1": "2016-11-05 15:23:36",
          "xref": "x",
          "y0": 1.8,
          "y1": 2.2,
          "yref": "y"
         },
         {
          "fillcolor": "rgb(31, 119, 180)",
          "line": {
           "width": 0
          },
          "opacity": 1,
          "type": "rect",
          "x0": "2016-11-05 14:59:50",
          "x1": "2016-11-05 15:19:50",
          "xref": "x",
          "y0": 4.8,
          "y1": 5.2,
          "yref": "y"
         },
         {
          "fillcolor": "rgb(31, 119, 180)",
          "line": {
           "width": 0
          },
          "opacity": 1,
          "type": "rect",
          "x0": "2016-11-05 15:01:04",
          "x1": "2016-11-05 15:41:04",
          "xref": "x",
          "y0": 3.8,
          "y1": 4.2,
          "yref": "y"
         },
         {
          "fillcolor": "rgb(255, 127, 14)",
          "line": {
           "width": 0
          },
          "opacity": 1,
          "type": "rect",
          "x0": "2016-11-05 15:23:36",
          "x1": "2016-11-05 16:27:36",
          "xref": "x",
          "y0": 1.8,
          "y1": 2.2,
          "yref": "y"
         },
         {
          "fillcolor": "rgb(31, 119, 180)",
          "line": {
           "width": 0
          },
          "opacity": 1,
          "type": "rect",
          "x0": "2016-11-05 15:43:32",
          "x1": "2016-11-05 16:23:32",
          "xref": "x",
          "y0": 3.8,
          "y1": 4.2,
          "yref": "y"
         },
         {
          "fillcolor": "rgb(31, 119, 180)",
          "line": {
           "width": 0
          },
          "opacity": 1,
          "type": "rect",
          "x0": "2016-11-05 16:26:00",
          "x1": "2016-11-05 17:06:00",
          "xref": "x",
          "y0": 3.8,
          "y1": 4.2,
          "yref": "y"
         },
         {
          "fillcolor": "rgb(255, 127, 14)",
          "line": {
           "width": 0
          },
          "opacity": 1,
          "type": "rect",
          "x0": "2016-11-05 16:27:46",
          "x1": "2016-11-05 16:52:46",
          "xref": "x",
          "y0": 1.8,
          "y1": 2.2,
          "yref": "y"
         },
         {
          "fillcolor": "rgb(255, 127, 14)",
          "line": {
           "width": 0
          },
          "opacity": 1,
          "type": "rect",
          "x0": "2016-11-05 16:27:46",
          "x1": "2016-11-05 17:35:46",
          "xref": "x",
          "y0": 0.8,
          "y1": 1.2,
          "yref": "y"
         },
         {
          "fillcolor": "rgb(255, 127, 14)",
          "line": {
           "width": 0
          },
          "opacity": 1,
          "type": "rect",
          "x0": "2016-11-05 16:27:46",
          "x1": "2016-11-05 17:35:46",
          "xref": "x",
          "y0": -0.2,
          "y1": 0.2,
          "yref": "y"
         },
         {
          "fillcolor": "rgb(31, 119, 180)",
          "line": {
           "width": 0
          },
          "opacity": 1,
          "type": "rect",
          "x0": "2016-11-05 16:29:00",
          "x1": "2016-11-05 16:49:00",
          "xref": "x",
          "y0": 4.8,
          "y1": 5.2,
          "yref": "y"
         },
         {
          "fillcolor": "rgb(255, 127, 14)",
          "line": {
           "width": 0
          },
          "opacity": 1,
          "type": "rect",
          "x0": "2016-11-05 16:50:24",
          "x1": "2016-11-05 17:15:24",
          "xref": "x",
          "y0": 2.8,
          "y1": 3.2,
          "yref": "y"
         },
         {
          "fillcolor": "rgb(255, 127, 14)",
          "line": {
           "width": 0
          },
          "opacity": 1,
          "type": "rect",
          "x0": "2016-11-05 16:52:46",
          "x1": "2016-11-05 17:56:46",
          "xref": "x",
          "y0": 1.8,
          "y1": 2.2,
          "yref": "y"
         },
         {
          "fillcolor": "rgb(31, 119, 180)",
          "line": {
           "width": 0
          },
          "opacity": 1,
          "type": "rect",
          "x0": "2016-11-05 17:08:28",
          "x1": "2016-11-05 17:48:28",
          "xref": "x",
          "y0": 3.8,
          "y1": 4.2,
          "yref": "y"
         },
         {
          "fillcolor": "rgb(255, 127, 14)",
          "line": {
           "width": 0
          },
          "opacity": 1,
          "type": "rect",
          "x0": "2016-11-05 17:15:24",
          "x1": "2016-11-05 18:19:24",
          "xref": "x",
          "y0": 2.8,
          "y1": 3.2,
          "yref": "y"
         },
         {
          "fillcolor": "rgb(255, 127, 14)",
          "line": {
           "width": 0
          },
          "opacity": 1,
          "type": "rect",
          "x0": "2016-11-05 17:35:56",
          "x1": "2016-11-05 18:43:56",
          "xref": "x",
          "y0": 0.8,
          "y1": 1.2,
          "yref": "y"
         },
         {
          "fillcolor": "rgb(255, 127, 14)",
          "line": {
           "width": 0
          },
          "opacity": 1,
          "type": "rect",
          "x0": "2016-11-05 17:49:52",
          "x1": "2016-11-05 18:57:52",
          "xref": "x",
          "y0": -0.2,
          "y1": 0.2,
          "yref": "y"
         },
         {
          "fillcolor": "rgb(31, 119, 180)",
          "line": {
           "width": 0
          },
          "opacity": 1,
          "type": "rect",
          "x0": "2016-11-05 17:50:56",
          "x1": "2016-11-05 18:30:56",
          "xref": "x",
          "y0": 3.8,
          "y1": 4.2,
          "yref": "y"
         },
         {
          "fillcolor": "rgb(31, 119, 180)",
          "line": {
           "width": 0
          },
          "opacity": 1,
          "type": "rect",
          "x0": "2016-11-05 17:58:10",
          "x1": "2016-11-05 18:18:10",
          "xref": "x",
          "y0": 4.8,
          "y1": 5.2,
          "yref": "y"
         },
         {
          "fillcolor": "rgb(255, 127, 14)",
          "line": {
           "width": 0
          },
          "opacity": 1,
          "type": "rect",
          "x0": "2016-11-05 18:19:34",
          "x1": "2016-11-05 18:44:34",
          "xref": "x",
          "y0": 1.8,
          "y1": 2.2,
          "yref": "y"
         },
         {
          "fillcolor": "rgb(31, 119, 180)",
          "line": {
           "width": 0
          },
          "opacity": 1,
          "type": "rect",
          "x0": "2016-11-05 18:20:48",
          "x1": "2016-11-05 18:40:48",
          "xref": "x",
          "y0": 4.8,
          "y1": 5.2,
          "yref": "y"
         },
         {
          "fillcolor": "rgb(255, 127, 14)",
          "line": {
           "width": 0
          },
          "opacity": 1,
          "type": "rect",
          "x0": "2016-11-05 18:32:20",
          "x1": "2016-11-05 19:40:20",
          "xref": "x",
          "y0": 2.8,
          "y1": 3.2,
          "yref": "y"
         },
         {
          "fillcolor": "rgb(31, 119, 180)",
          "line": {
           "width": 0
          },
          "opacity": 1,
          "type": "rect",
          "x0": "2016-11-05 18:33:24",
          "x1": "2016-11-05 18:53:24",
          "xref": "x",
          "y0": 3.8,
          "y1": 4.2,
          "yref": "y"
         },
         {
          "fillcolor": "rgb(255, 127, 14)",
          "line": {
           "width": 0
          },
          "opacity": 1,
          "type": "rect",
          "x0": "2016-11-05 18:44:34",
          "x1": "2016-11-05 19:48:34",
          "xref": "x",
          "y0": 1.8,
          "y1": 2.2,
          "yref": "y"
         },
         {
          "fillcolor": "rgb(255, 127, 14)",
          "line": {
           "width": 0
          },
          "opacity": 1,
          "type": "rect",
          "x0": "2016-11-05 19:48:44",
          "x1": "2016-11-05 20:13:44",
          "xref": "x",
          "y0": 1.8,
          "y1": 2.2,
          "yref": "y"
         },
         {
          "fillcolor": "rgb(31, 119, 180)",
          "line": {
           "width": 0
          },
          "opacity": 1,
          "type": "rect",
          "x0": "2016-11-05 19:49:58",
          "x1": "2016-11-05 20:09:58",
          "xref": "x",
          "y0": 4.8,
          "y1": 5.2,
          "yref": "y"
         },
         {
          "fillcolor": "rgb(31, 119, 180)",
          "line": {
           "width": 0
          },
          "opacity": 1,
          "type": "rect",
          "x0": "2016-11-05 19:51:12",
          "x1": "2016-11-05 20:11:12",
          "xref": "x",
          "y0": 3.8,
          "y1": 4.2,
          "yref": "y"
         },
         {
          "fillcolor": "rgb(255, 127, 14)",
          "line": {
           "width": 0
          },
          "opacity": 1,
          "type": "rect",
          "x0": "2016-11-05 20:11:22",
          "x1": "2016-11-05 20:36:22",
          "xref": "x",
          "y0": 2.8,
          "y1": 3.2,
          "yref": "y"
         },
         {
          "fillcolor": "rgb(31, 119, 180)",
          "line": {
           "width": 0
          },
          "opacity": 1,
          "type": "rect",
          "x0": "2016-11-05 20:13:40",
          "x1": "2016-11-05 20:33:40",
          "xref": "x",
          "y0": 3.8,
          "y1": 4.2,
          "yref": "y"
         },
         {
          "fillcolor": "rgb(255, 127, 14)",
          "line": {
           "width": 0
          },
          "opacity": 1,
          "type": "rect",
          "x0": "2016-11-05 20:13:44",
          "x1": "2016-11-05 21:17:44",
          "xref": "x",
          "y0": 1.8,
          "y1": 2.2,
          "yref": "y"
         },
         {
          "fillcolor": "rgb(31, 119, 180)",
          "line": {
           "width": 0
          },
          "opacity": 1,
          "type": "rect",
          "x0": "2016-11-05 20:36:08",
          "x1": "2016-11-05 20:56:08",
          "xref": "x",
          "y0": 3.8,
          "y1": 4.2,
          "yref": "y"
         },
         {
          "fillcolor": "rgb(255, 127, 14)",
          "line": {
           "width": 0
          },
          "opacity": 1,
          "type": "rect",
          "x0": "2016-11-05 20:36:22",
          "x1": "2016-11-05 21:40:22",
          "xref": "x",
          "y0": 2.8,
          "y1": 3.2,
          "yref": "y"
         },
         {
          "fillcolor": "rgb(31, 119, 180)",
          "line": {
           "width": 0
          },
          "opacity": 1,
          "type": "rect",
          "x0": "2016-11-05 21:19:08",
          "x1": "2016-11-05 21:39:08",
          "xref": "x",
          "y0": 4.8,
          "y1": 5.2,
          "yref": "y"
         },
         {
          "fillcolor": "rgb(255, 127, 14)",
          "line": {
           "width": 0
          },
          "opacity": 1,
          "type": "rect",
          "x0": "2016-11-05 21:40:32",
          "x1": "2016-11-05 22:05:32",
          "xref": "x",
          "y0": 1.8,
          "y1": 2.2,
          "yref": "y"
         },
         {
          "fillcolor": "rgb(31, 119, 180)",
          "line": {
           "width": 0
          },
          "opacity": 1,
          "type": "rect",
          "x0": "2016-11-05 21:41:46",
          "x1": "2016-11-05 22:01:46",
          "xref": "x",
          "y0": 4.8,
          "y1": 5.2,
          "yref": "y"
         },
         {
          "fillcolor": "rgb(255, 127, 14)",
          "line": {
           "width": 0
          },
          "opacity": 1,
          "type": "rect",
          "x0": "2016-11-05 22:03:10",
          "x1": "2016-11-05 22:28:10",
          "xref": "x",
          "y0": 2.8,
          "y1": 3.2,
          "yref": "y"
         },
         {
          "fillcolor": "rgb(255, 127, 14)",
          "line": {
           "width": 0
          },
          "opacity": 1,
          "type": "rect",
          "x0": "2016-11-05 22:05:32",
          "x1": "2016-11-05 23:09:32",
          "xref": "x",
          "y0": 1.8,
          "y1": 2.2,
          "yref": "y"
         },
         {
          "fillcolor": "rgb(255, 127, 14)",
          "line": {
           "width": 0
          },
          "opacity": 1,
          "type": "rect",
          "x0": "2016-11-05 22:28:10",
          "x1": "2016-11-05 23:32:10",
          "xref": "x",
          "y0": 2.8,
          "y1": 3.2,
          "yref": "y"
         },
         {
          "fillcolor": "rgb(31, 119, 180)",
          "line": {
           "width": 0
          },
          "opacity": 1,
          "type": "rect",
          "x0": "2016-11-05 23:10:56",
          "x1": "2016-11-05 23:30:56",
          "xref": "x",
          "y0": 4.8,
          "y1": 5.2,
          "yref": "y"
         },
         {
          "fillcolor": "rgb(255, 127, 14)",
          "line": {
           "width": 0
          },
          "opacity": 1,
          "type": "rect",
          "x0": "2016-11-05 23:32:20",
          "x1": "2016-11-05 23:57:20",
          "xref": "x",
          "y0": 1.8,
          "y1": 2.2,
          "yref": "y"
         },
         {
          "fillcolor": "rgb(31, 119, 180)",
          "line": {
           "width": 0
          },
          "opacity": 1,
          "type": "rect",
          "x0": "2016-11-05 23:33:34",
          "x1": "2016-11-05 23:53:34",
          "xref": "x",
          "y0": 4.8,
          "y1": 5.2,
          "yref": "y"
         },
         {
          "fillcolor": "rgb(255, 127, 14)",
          "line": {
           "width": 0
          },
          "opacity": 1,
          "type": "rect",
          "x0": "2016-11-05 23:54:58",
          "x1": "2016-11-06 00:19:58",
          "xref": "x",
          "y0": 2.8,
          "y1": 3.2,
          "yref": "y"
         },
         {
          "fillcolor": "rgb(255, 127, 14)",
          "line": {
           "width": 0
          },
          "opacity": 1,
          "type": "rect",
          "x0": "2016-11-05 23:57:20",
          "x1": "2016-11-06 01:01:20",
          "xref": "x",
          "y0": 1.8,
          "y1": 2.2,
          "yref": "y"
         },
         {
          "fillcolor": "rgb(255, 127, 14)",
          "line": {
           "width": 0
          },
          "opacity": 1,
          "type": "rect",
          "x0": "2016-11-06 00:19:58",
          "x1": "2016-11-06 01:23:58",
          "xref": "x",
          "y0": 2.8,
          "y1": 3.2,
          "yref": "y"
         },
         {
          "fillcolor": "rgb(31, 119, 180)",
          "line": {
           "width": 0
          },
          "opacity": 1,
          "type": "rect",
          "x0": "2016-11-06 01:02:44",
          "x1": "2016-11-06 01:22:44",
          "xref": "x",
          "y0": 4.8,
          "y1": 5.2,
          "yref": "y"
         },
         {
          "fillcolor": "rgb(255, 127, 14)",
          "line": {
           "width": 0
          },
          "opacity": 1,
          "type": "rect",
          "x0": "2016-11-06 01:24:08",
          "x1": "2016-11-06 01:49:08",
          "xref": "x",
          "y0": 1.8,
          "y1": 2.2,
          "yref": "y"
         },
         {
          "fillcolor": "rgb(31, 119, 180)",
          "line": {
           "width": 0
          },
          "opacity": 1,
          "type": "rect",
          "x0": "2016-11-06 01:25:22",
          "x1": "2016-11-06 01:45:22",
          "xref": "x",
          "y0": 4.8,
          "y1": 5.2,
          "yref": "y"
         },
         {
          "fillcolor": "rgb(255, 127, 14)",
          "line": {
           "width": 0
          },
          "opacity": 1,
          "type": "rect",
          "x0": "2016-11-06 01:46:46",
          "x1": "2016-11-06 02:11:46",
          "xref": "x",
          "y0": 2.8,
          "y1": 3.2,
          "yref": "y"
         },
         {
          "fillcolor": "rgb(255, 127, 14)",
          "line": {
           "width": 0
          },
          "opacity": 1,
          "type": "rect",
          "x0": "2016-11-06 01:49:08",
          "x1": "2016-11-06 02:53:08",
          "xref": "x",
          "y0": 1.8,
          "y1": 2.2,
          "yref": "y"
         },
         {
          "fillcolor": "rgb(255, 127, 14)",
          "line": {
           "width": 0
          },
          "opacity": 1,
          "type": "rect",
          "x0": "2016-11-06 02:11:46",
          "x1": "2016-11-06 03:15:46",
          "xref": "x",
          "y0": 2.8,
          "y1": 3.2,
          "yref": "y"
         },
         {
          "fillcolor": "rgb(31, 119, 180)",
          "line": {
           "width": 0
          },
          "opacity": 1,
          "type": "rect",
          "x0": "2016-11-06 02:54:32",
          "x1": "2016-11-06 03:09:32",
          "xref": "x",
          "y0": 4.8,
          "y1": 5.2,
          "yref": "y"
         },
         {
          "fillcolor": "rgb(255, 127, 14)",
          "line": {
           "width": 0
          },
          "opacity": 1,
          "type": "rect",
          "x0": "2016-11-06 03:10:56",
          "x1": "2016-11-06 03:35:56",
          "xref": "x",
          "y0": 1.8,
          "y1": 2.2,
          "yref": "y"
         },
         {
          "fillcolor": "rgb(31, 119, 180)",
          "line": {
           "width": 0
          },
          "opacity": 1,
          "type": "rect",
          "x0": "2016-11-06 03:17:10",
          "x1": "2016-11-06 03:32:10",
          "xref": "x",
          "y0": 4.8,
          "y1": 5.2,
          "yref": "y"
         },
         {
          "fillcolor": "rgb(255, 127, 14)",
          "line": {
           "width": 0
          },
          "opacity": 1,
          "type": "rect",
          "x0": "2016-11-06 03:33:34",
          "x1": "2016-11-06 03:58:34",
          "xref": "x",
          "y0": 2.8,
          "y1": 3.2,
          "yref": "y"
         },
         {
          "fillcolor": "rgb(31, 119, 180)",
          "line": {
           "width": 0
          },
          "opacity": 1,
          "type": "rect",
          "x0": "2016-11-06 03:37:20",
          "x1": "2016-11-06 03:42:20",
          "xref": "x",
          "y0": 4.8,
          "y1": 5.2,
          "yref": "y"
         },
         {
          "fillcolor": "rgb(31, 119, 180)",
          "line": {
           "width": 0
          },
          "opacity": 1,
          "type": "rect",
          "x0": "2016-11-06 03:59:58",
          "x1": "2016-11-06 04:04:58",
          "xref": "x",
          "y0": 4.8,
          "y1": 5.2,
          "yref": "y"
         }
        ],
        "showlegend": false,
        "title": "Gantt Chart",
        "width": 900,
        "xaxis": {
         "rangeselector": {
          "buttons": [
           {
            "count": 7,
            "label": "1w",
            "step": "day",
            "stepmode": "backward"
           },
           {
            "count": 1,
            "label": "1m",
            "step": "month",
            "stepmode": "backward"
           },
           {
            "count": 6,
            "label": "6m",
            "step": "month",
            "stepmode": "backward"
           },
           {
            "count": 1,
            "label": "YTD",
            "step": "year",
            "stepmode": "todate"
           },
           {
            "count": 1,
            "label": "1y",
            "step": "year",
            "stepmode": "backward"
           },
           {
            "step": "all"
           }
          ]
         },
         "showgrid": false,
         "type": "date",
         "zeroline": false
        },
        "yaxis": {
         "autorange": false,
         "range": [
          -1,
          7
         ],
         "showgrid": false,
         "ticktext": [
          "Machine4",
          "Machine3",
          "Machine2",
          "Machine1",
          "L/U2",
          "L/U1"
         ],
         "tickvals": [
          0,
          1,
          2,
          3,
          4,
          5
         ],
         "zeroline": false
        }
       }
      },
      "text/html": [
       "<div id=\"b6254046-8f7b-44fa-b860-cbf1dd3dd8d5\" style=\"height: 600px; width: 900px;\" class=\"plotly-graph-div\"></div><script type=\"text/javascript\">require([\"plotly\"], function(Plotly) { window.PLOTLYENV=window.PLOTLYENV || {};window.PLOTLYENV.BASE_URL=\"https://plot.ly\";Plotly.newPlot(\"b6254046-8f7b-44fa-b860-cbf1dd3dd8d5\", [{\"x\": [\"2016-11-05 12:01:14\", \"2016-11-05 12:06:14\"], \"y\": [5, 5], \"name\": \"\", \"marker\": {\"color\": \"white\"}}, {\"x\": [\"2016-11-05 12:02:28\", \"2016-11-05 12:22:28\"], \"y\": [4, 4], \"name\": \"\", \"marker\": {\"color\": \"white\"}}, {\"x\": [\"2016-11-05 12:07:38\", \"2016-11-05 13:11:38\"], \"y\": [3, 3], \"name\": \"\", \"marker\": {\"color\": \"white\"}}, {\"x\": [\"2016-11-05 12:08:42\", \"2016-11-05 12:13:42\"], \"y\": [5, 5], \"name\": \"\", \"marker\": {\"color\": \"white\"}}, {\"x\": [\"2016-11-05 12:15:06\", \"2016-11-05 13:19:06\"], \"y\": [2, 2], \"name\": \"\", \"marker\": {\"color\": \"white\"}}, {\"x\": [\"2016-11-05 12:23:52\", \"2016-11-05 13:31:52\"], \"y\": [1, 1], \"name\": \"\", \"marker\": {\"color\": \"white\"}}, {\"x\": [\"2016-11-05 12:24:56\", \"2016-11-05 12:44:56\"], \"y\": [4, 4], \"name\": \"\", \"marker\": {\"color\": \"white\"}}, {\"x\": [\"2016-11-05 12:46:20\", \"2016-11-05 13:54:20\"], \"y\": [0, 0], \"name\": \"\", \"marker\": {\"color\": \"white\"}}, {\"x\": [\"2016-11-05 12:47:24\", \"2016-11-05 13:07:24\"], \"y\": [4, 4], \"name\": \"\", \"marker\": {\"color\": \"white\"}}, {\"x\": [\"2016-11-05 13:09:52\", \"2016-11-05 13:29:52\"], \"y\": [4, 4], \"name\": \"\", \"marker\": {\"color\": \"white\"}}, {\"x\": [\"2016-11-05 13:11:48\", \"2016-11-05 14:19:48\"], \"y\": [3, 3], \"name\": \"\", \"marker\": {\"color\": \"white\"}}, {\"x\": [\"2016-11-05 13:13:02\", \"2016-11-05 13:28:02\"], \"y\": [5, 5], \"name\": \"\", \"marker\": {\"color\": \"white\"}}, {\"x\": [\"2016-11-05 13:29:26\", \"2016-11-05 13:54:26\"], \"y\": [2, 2], \"name\": \"\", \"marker\": {\"color\": \"white\"}}, {\"x\": [\"2016-11-05 13:30:30\", \"2016-11-05 13:45:30\"], \"y\": [5, 5], \"name\": \"\", \"marker\": {\"color\": \"white\"}}, {\"x\": [\"2016-11-05 13:32:02\", \"2016-11-05 14:40:02\"], \"y\": [1, 1], \"name\": \"\", \"marker\": {\"color\": \"white\"}}, {\"x\": [\"2016-11-05 13:33:16\", \"2016-11-05 14:13:16\"], \"y\": [4, 4], \"name\": \"\", \"marker\": {\"color\": \"white\"}}, {\"x\": [\"2016-11-05 13:54:26\", \"2016-11-05 14:58:26\"], \"y\": [2, 2], \"name\": \"\", \"marker\": {\"color\": \"white\"}}, {\"x\": [\"2016-11-05 14:58:36\", \"2016-11-05 16:06:36\"], \"y\": [3, 3], \"name\": \"\", \"marker\": {\"color\": \"white\"}}, {\"x\": [\"2016-11-05 14:58:36\", \"2016-11-05 15:23:36\"], \"y\": [2, 2], \"name\": \"\", \"marker\": {\"color\": \"white\"}}, {\"x\": [\"2016-11-05 14:59:50\", \"2016-11-05 15:19:50\"], \"y\": [5, 5], \"name\": \"\", \"marker\": {\"color\": \"white\"}}, {\"x\": [\"2016-11-05 15:01:04\", \"2016-11-05 15:41:04\"], \"y\": [4, 4], \"name\": \"\", \"marker\": {\"color\": \"white\"}}, {\"x\": [\"2016-11-05 15:23:36\", \"2016-11-05 16:27:36\"], \"y\": [2, 2], \"name\": \"\", \"marker\": {\"color\": \"white\"}}, {\"x\": [\"2016-11-05 15:43:32\", \"2016-11-05 16:23:32\"], \"y\": [4, 4], \"name\": \"\", \"marker\": {\"color\": \"white\"}}, {\"x\": [\"2016-11-05 16:26:00\", \"2016-11-05 17:06:00\"], \"y\": [4, 4], \"name\": \"\", \"marker\": {\"color\": \"white\"}}, {\"x\": [\"2016-11-05 16:27:46\", \"2016-11-05 16:52:46\"], \"y\": [2, 2], \"name\": \"\", \"marker\": {\"color\": \"white\"}}, {\"x\": [\"2016-11-05 16:27:46\", \"2016-11-05 17:35:46\"], \"y\": [1, 1], \"name\": \"\", \"marker\": {\"color\": \"white\"}}, {\"x\": [\"2016-11-05 16:27:46\", \"2016-11-05 17:35:46\"], \"y\": [0, 0], \"name\": \"\", \"marker\": {\"color\": \"white\"}}, {\"x\": [\"2016-11-05 16:29:00\", \"2016-11-05 16:49:00\"], \"y\": [5, 5], \"name\": \"\", \"marker\": {\"color\": \"white\"}}, {\"x\": [\"2016-11-05 16:50:24\", \"2016-11-05 17:15:24\"], \"y\": [3, 3], \"name\": \"\", \"marker\": {\"color\": \"white\"}}, {\"x\": [\"2016-11-05 16:52:46\", \"2016-11-05 17:56:46\"], \"y\": [2, 2], \"name\": \"\", \"marker\": {\"color\": \"white\"}}, {\"x\": [\"2016-11-05 17:08:28\", \"2016-11-05 17:48:28\"], \"y\": [4, 4], \"name\": \"\", \"marker\": {\"color\": \"white\"}}, {\"x\": [\"2016-11-05 17:15:24\", \"2016-11-05 18:19:24\"], \"y\": [3, 3], \"name\": \"\", \"marker\": {\"color\": \"white\"}}, {\"x\": [\"2016-11-05 17:35:56\", \"2016-11-05 18:43:56\"], \"y\": [1, 1], \"name\": \"\", \"marker\": {\"color\": \"white\"}}, {\"x\": [\"2016-11-05 17:49:52\", \"2016-11-05 18:57:52\"], \"y\": [0, 0], \"name\": \"\", \"marker\": {\"color\": \"white\"}}, {\"x\": [\"2016-11-05 17:50:56\", \"2016-11-05 18:30:56\"], \"y\": [4, 4], \"name\": \"\", \"marker\": {\"color\": \"white\"}}, {\"x\": [\"2016-11-05 17:58:10\", \"2016-11-05 18:18:10\"], \"y\": [5, 5], \"name\": \"\", \"marker\": {\"color\": \"white\"}}, {\"x\": [\"2016-11-05 18:19:34\", \"2016-11-05 18:44:34\"], \"y\": [2, 2], \"name\": \"\", \"marker\": {\"color\": \"white\"}}, {\"x\": [\"2016-11-05 18:20:48\", \"2016-11-05 18:40:48\"], \"y\": [5, 5], \"name\": \"\", \"marker\": {\"color\": \"white\"}}, {\"x\": [\"2016-11-05 18:32:20\", \"2016-11-05 19:40:20\"], \"y\": [3, 3], \"name\": \"\", \"marker\": {\"color\": \"white\"}}, {\"x\": [\"2016-11-05 18:33:24\", \"2016-11-05 18:53:24\"], \"y\": [4, 4], \"name\": \"\", \"marker\": {\"color\": \"white\"}}, {\"x\": [\"2016-11-05 18:44:34\", \"2016-11-05 19:48:34\"], \"y\": [2, 2], \"name\": \"\", \"marker\": {\"color\": \"white\"}}, {\"x\": [\"2016-11-05 19:48:44\", \"2016-11-05 20:13:44\"], \"y\": [2, 2], \"name\": \"\", \"marker\": {\"color\": \"white\"}}, {\"x\": [\"2016-11-05 19:49:58\", \"2016-11-05 20:09:58\"], \"y\": [5, 5], \"name\": \"\", \"marker\": {\"color\": \"white\"}}, {\"x\": [\"2016-11-05 19:51:12\", \"2016-11-05 20:11:12\"], \"y\": [4, 4], \"name\": \"\", \"marker\": {\"color\": \"white\"}}, {\"x\": [\"2016-11-05 20:11:22\", \"2016-11-05 20:36:22\"], \"y\": [3, 3], \"name\": \"\", \"marker\": {\"color\": \"white\"}}, {\"x\": [\"2016-11-05 20:13:40\", \"2016-11-05 20:33:40\"], \"y\": [4, 4], \"name\": \"\", \"marker\": {\"color\": \"white\"}}, {\"x\": [\"2016-11-05 20:13:44\", \"2016-11-05 21:17:44\"], \"y\": [2, 2], \"name\": \"\", \"marker\": {\"color\": \"white\"}}, {\"x\": [\"2016-11-05 20:36:08\", \"2016-11-05 20:56:08\"], \"y\": [4, 4], \"name\": \"\", \"marker\": {\"color\": \"white\"}}, {\"x\": [\"2016-11-05 20:36:22\", \"2016-11-05 21:40:22\"], \"y\": [3, 3], \"name\": \"\", \"marker\": {\"color\": \"white\"}}, {\"x\": [\"2016-11-05 21:19:08\", \"2016-11-05 21:39:08\"], \"y\": [5, 5], \"name\": \"\", \"marker\": {\"color\": \"white\"}}, {\"x\": [\"2016-11-05 21:40:32\", \"2016-11-05 22:05:32\"], \"y\": [2, 2], \"name\": \"\", \"marker\": {\"color\": \"white\"}}, {\"x\": [\"2016-11-05 21:41:46\", \"2016-11-05 22:01:46\"], \"y\": [5, 5], \"name\": \"\", \"marker\": {\"color\": \"white\"}}, {\"x\": [\"2016-11-05 22:03:10\", \"2016-11-05 22:28:10\"], \"y\": [3, 3], \"name\": \"\", \"marker\": {\"color\": \"white\"}}, {\"x\": [\"2016-11-05 22:05:32\", \"2016-11-05 23:09:32\"], \"y\": [2, 2], \"name\": \"\", \"marker\": {\"color\": \"white\"}}, {\"x\": [\"2016-11-05 22:28:10\", \"2016-11-05 23:32:10\"], \"y\": [3, 3], \"name\": \"\", \"marker\": {\"color\": \"white\"}}, {\"x\": [\"2016-11-05 23:10:56\", \"2016-11-05 23:30:56\"], \"y\": [5, 5], \"name\": \"\", \"marker\": {\"color\": \"white\"}}, {\"x\": [\"2016-11-05 23:32:20\", \"2016-11-05 23:57:20\"], \"y\": [2, 2], \"name\": \"\", \"marker\": {\"color\": \"white\"}}, {\"x\": [\"2016-11-05 23:33:34\", \"2016-11-05 23:53:34\"], \"y\": [5, 5], \"name\": \"\", \"marker\": {\"color\": \"white\"}}, {\"x\": [\"2016-11-05 23:54:58\", \"2016-11-06 00:19:58\"], \"y\": [3, 3], \"name\": \"\", \"marker\": {\"color\": \"white\"}}, {\"x\": [\"2016-11-05 23:57:20\", \"2016-11-06 01:01:20\"], \"y\": [2, 2], \"name\": \"\", \"marker\": {\"color\": \"white\"}}, {\"x\": [\"2016-11-06 00:19:58\", \"2016-11-06 01:23:58\"], \"y\": [3, 3], \"name\": \"\", \"marker\": {\"color\": \"white\"}}, {\"x\": [\"2016-11-06 01:02:44\", \"2016-11-06 01:22:44\"], \"y\": [5, 5], \"name\": \"\", \"marker\": {\"color\": \"white\"}}, {\"x\": [\"2016-11-06 01:24:08\", \"2016-11-06 01:49:08\"], \"y\": [2, 2], \"name\": \"\", \"marker\": {\"color\": \"white\"}}, {\"x\": [\"2016-11-06 01:25:22\", \"2016-11-06 01:45:22\"], \"y\": [5, 5], \"name\": \"\", \"marker\": {\"color\": \"white\"}}, {\"x\": [\"2016-11-06 01:46:46\", \"2016-11-06 02:11:46\"], \"y\": [3, 3], \"name\": \"\", \"marker\": {\"color\": \"white\"}}, {\"x\": [\"2016-11-06 01:49:08\", \"2016-11-06 02:53:08\"], \"y\": [2, 2], \"name\": \"\", \"marker\": {\"color\": \"white\"}}, {\"x\": [\"2016-11-06 02:11:46\", \"2016-11-06 03:15:46\"], \"y\": [3, 3], \"name\": \"\", \"marker\": {\"color\": \"white\"}}, {\"x\": [\"2016-11-06 02:54:32\", \"2016-11-06 03:09:32\"], \"y\": [5, 5], \"name\": \"\", \"marker\": {\"color\": \"white\"}}, {\"x\": [\"2016-11-06 03:10:56\", \"2016-11-06 03:35:56\"], \"y\": [2, 2], \"name\": \"\", \"marker\": {\"color\": \"white\"}}, {\"x\": [\"2016-11-06 03:17:10\", \"2016-11-06 03:32:10\"], \"y\": [5, 5], \"name\": \"\", \"marker\": {\"color\": \"white\"}}, {\"x\": [\"2016-11-06 03:33:34\", \"2016-11-06 03:58:34\"], \"y\": [3, 3], \"name\": \"\", \"marker\": {\"color\": \"white\"}}, {\"x\": [\"2016-11-06 03:37:20\", \"2016-11-06 03:42:20\"], \"y\": [5, 5], \"name\": \"\", \"marker\": {\"color\": \"white\"}}, {\"x\": [\"2016-11-06 03:59:58\", \"2016-11-06 04:04:58\"], \"y\": [5, 5], \"name\": \"\", \"marker\": {\"color\": \"white\"}}], {\"title\": \"Gantt Chart\", \"showlegend\": false, \"height\": 600, \"width\": 900, \"shapes\": [{\"x0\": \"2016-11-05 12:01:14\", \"x1\": \"2016-11-05 12:06:14\", \"type\": \"rect\", \"xref\": \"x\", \"yref\": \"y\", \"opacity\": 1, \"line\": {\"width\": 0}, \"y0\": 4.8, \"y1\": 5.2, \"fillcolor\": \"rgb(31, 119, 180)\"}, {\"x0\": \"2016-11-05 12:02:28\", \"x1\": \"2016-11-05 12:22:28\", \"type\": \"rect\", \"xref\": \"x\", \"yref\": \"y\", \"opacity\": 1, \"line\": {\"width\": 0}, \"y0\": 3.8, \"y1\": 4.2, \"fillcolor\": \"rgb(31, 119, 180)\"}, {\"x0\": \"2016-11-05 12:07:38\", \"x1\": \"2016-11-05 13:11:38\", \"type\": \"rect\", \"xref\": \"x\", \"yref\": \"y\", \"opacity\": 1, \"line\": {\"width\": 0}, \"y0\": 2.8, \"y1\": 3.2, \"fillcolor\": \"rgb(255, 127, 14)\"}, {\"x0\": \"2016-11-05 12:08:42\", \"x1\": \"2016-11-05 12:13:42\", \"type\": \"rect\", \"xref\": \"x\", \"yref\": \"y\", \"opacity\": 1, \"line\": {\"width\": 0}, \"y0\": 4.8, \"y1\": 5.2, \"fillcolor\": \"rgb(31, 119, 180)\"}, {\"x0\": \"2016-11-05 12:15:06\", \"x1\": \"2016-11-05 13:19:06\", \"type\": \"rect\", \"xref\": \"x\", \"yref\": \"y\", \"opacity\": 1, \"line\": {\"width\": 0}, \"y0\": 1.8, \"y1\": 2.2, \"fillcolor\": \"rgb(255, 127, 14)\"}, {\"x0\": \"2016-11-05 12:23:52\", \"x1\": \"2016-11-05 13:31:52\", \"type\": \"rect\", \"xref\": \"x\", \"yref\": \"y\", \"opacity\": 1, \"line\": {\"width\": 0}, \"y0\": 0.8, \"y1\": 1.2, \"fillcolor\": \"rgb(255, 127, 14)\"}, {\"x0\": \"2016-11-05 12:24:56\", \"x1\": \"2016-11-05 12:44:56\", \"type\": \"rect\", \"xref\": \"x\", \"yref\": \"y\", \"opacity\": 1, \"line\": {\"width\": 0}, \"y0\": 3.8, \"y1\": 4.2, \"fillcolor\": \"rgb(31, 119, 180)\"}, {\"x0\": \"2016-11-05 12:46:20\", \"x1\": \"2016-11-05 13:54:20\", \"type\": \"rect\", \"xref\": \"x\", \"yref\": \"y\", \"opacity\": 1, \"line\": {\"width\": 0}, \"y0\": -0.2, \"y1\": 0.2, \"fillcolor\": \"rgb(255, 127, 14)\"}, {\"x0\": \"2016-11-05 12:47:24\", \"x1\": \"2016-11-05 13:07:24\", \"type\": \"rect\", \"xref\": \"x\", \"yref\": \"y\", \"opacity\": 1, \"line\": {\"width\": 0}, \"y0\": 3.8, \"y1\": 4.2, \"fillcolor\": \"rgb(31, 119, 180)\"}, {\"x0\": \"2016-11-05 13:09:52\", \"x1\": \"2016-11-05 13:29:52\", \"type\": \"rect\", \"xref\": \"x\", \"yref\": \"y\", \"opacity\": 1, \"line\": {\"width\": 0}, \"y0\": 3.8, \"y1\": 4.2, \"fillcolor\": \"rgb(31, 119, 180)\"}, {\"x0\": \"2016-11-05 13:11:48\", \"x1\": \"2016-11-05 14:19:48\", \"type\": \"rect\", \"xref\": \"x\", \"yref\": \"y\", \"opacity\": 1, \"line\": {\"width\": 0}, \"y0\": 2.8, \"y1\": 3.2, \"fillcolor\": \"rgb(255, 127, 14)\"}, {\"x0\": \"2016-11-05 13:13:02\", \"x1\": \"2016-11-05 13:28:02\", \"type\": \"rect\", \"xref\": \"x\", \"yref\": \"y\", \"opacity\": 1, \"line\": {\"width\": 0}, \"y0\": 4.8, \"y1\": 5.2, \"fillcolor\": \"rgb(31, 119, 180)\"}, {\"x0\": \"2016-11-05 13:29:26\", \"x1\": \"2016-11-05 13:54:26\", \"type\": \"rect\", \"xref\": \"x\", \"yref\": \"y\", \"opacity\": 1, \"line\": {\"width\": 0}, \"y0\": 1.8, \"y1\": 2.2, \"fillcolor\": \"rgb(255, 127, 14)\"}, {\"x0\": \"2016-11-05 13:30:30\", \"x1\": \"2016-11-05 13:45:30\", \"type\": \"rect\", \"xref\": \"x\", \"yref\": \"y\", \"opacity\": 1, \"line\": {\"width\": 0}, \"y0\": 4.8, \"y1\": 5.2, \"fillcolor\": \"rgb(31, 119, 180)\"}, {\"x0\": \"2016-11-05 13:32:02\", \"x1\": \"2016-11-05 14:40:02\", \"type\": \"rect\", \"xref\": \"x\", \"yref\": \"y\", \"opacity\": 1, \"line\": {\"width\": 0}, \"y0\": 0.8, \"y1\": 1.2, \"fillcolor\": \"rgb(255, 127, 14)\"}, {\"x0\": \"2016-11-05 13:33:16\", \"x1\": \"2016-11-05 14:13:16\", \"type\": \"rect\", \"xref\": \"x\", \"yref\": \"y\", \"opacity\": 1, \"line\": {\"width\": 0}, \"y0\": 3.8, \"y1\": 4.2, \"fillcolor\": \"rgb(31, 119, 180)\"}, {\"x0\": \"2016-11-05 13:54:26\", \"x1\": \"2016-11-05 14:58:26\", \"type\": \"rect\", \"xref\": \"x\", \"yref\": \"y\", \"opacity\": 1, \"line\": {\"width\": 0}, \"y0\": 1.8, \"y1\": 2.2, \"fillcolor\": \"rgb(255, 127, 14)\"}, {\"x0\": \"2016-11-05 14:58:36\", \"x1\": \"2016-11-05 16:06:36\", \"type\": \"rect\", \"xref\": \"x\", \"yref\": \"y\", \"opacity\": 1, \"line\": {\"width\": 0}, \"y0\": 2.8, \"y1\": 3.2, \"fillcolor\": \"rgb(255, 127, 14)\"}, {\"x0\": \"2016-11-05 14:58:36\", \"x1\": \"2016-11-05 15:23:36\", \"type\": \"rect\", \"xref\": \"x\", \"yref\": \"y\", \"opacity\": 1, \"line\": {\"width\": 0}, \"y0\": 1.8, \"y1\": 2.2, \"fillcolor\": \"rgb(255, 127, 14)\"}, {\"x0\": \"2016-11-05 14:59:50\", \"x1\": \"2016-11-05 15:19:50\", \"type\": \"rect\", \"xref\": \"x\", \"yref\": \"y\", \"opacity\": 1, \"line\": {\"width\": 0}, \"y0\": 4.8, \"y1\": 5.2, \"fillcolor\": \"rgb(31, 119, 180)\"}, {\"x0\": \"2016-11-05 15:01:04\", \"x1\": \"2016-11-05 15:41:04\", \"type\": \"rect\", \"xref\": \"x\", \"yref\": \"y\", \"opacity\": 1, \"line\": {\"width\": 0}, \"y0\": 3.8, \"y1\": 4.2, \"fillcolor\": \"rgb(31, 119, 180)\"}, {\"x0\": \"2016-11-05 15:23:36\", \"x1\": \"2016-11-05 16:27:36\", \"type\": \"rect\", \"xref\": \"x\", \"yref\": \"y\", \"opacity\": 1, \"line\": {\"width\": 0}, \"y0\": 1.8, \"y1\": 2.2, \"fillcolor\": \"rgb(255, 127, 14)\"}, {\"x0\": \"2016-11-05 15:43:32\", \"x1\": \"2016-11-05 16:23:32\", \"type\": \"rect\", \"xref\": \"x\", \"yref\": \"y\", \"opacity\": 1, \"line\": {\"width\": 0}, \"y0\": 3.8, \"y1\": 4.2, \"fillcolor\": \"rgb(31, 119, 180)\"}, {\"x0\": \"2016-11-05 16:26:00\", \"x1\": \"2016-11-05 17:06:00\", \"type\": \"rect\", \"xref\": \"x\", \"yref\": \"y\", \"opacity\": 1, \"line\": {\"width\": 0}, \"y0\": 3.8, \"y1\": 4.2, \"fillcolor\": \"rgb(31, 119, 180)\"}, {\"x0\": \"2016-11-05 16:27:46\", \"x1\": \"2016-11-05 16:52:46\", \"type\": \"rect\", \"xref\": \"x\", \"yref\": \"y\", \"opacity\": 1, \"line\": {\"width\": 0}, \"y0\": 1.8, \"y1\": 2.2, \"fillcolor\": \"rgb(255, 127, 14)\"}, {\"x0\": \"2016-11-05 16:27:46\", \"x1\": \"2016-11-05 17:35:46\", \"type\": \"rect\", \"xref\": \"x\", \"yref\": \"y\", \"opacity\": 1, \"line\": {\"width\": 0}, \"y0\": 0.8, \"y1\": 1.2, \"fillcolor\": \"rgb(255, 127, 14)\"}, {\"x0\": \"2016-11-05 16:27:46\", \"x1\": \"2016-11-05 17:35:46\", \"type\": \"rect\", \"xref\": \"x\", \"yref\": \"y\", \"opacity\": 1, \"line\": {\"width\": 0}, \"y0\": -0.2, \"y1\": 0.2, \"fillcolor\": \"rgb(255, 127, 14)\"}, {\"x0\": \"2016-11-05 16:29:00\", \"x1\": \"2016-11-05 16:49:00\", \"type\": \"rect\", \"xref\": \"x\", \"yref\": \"y\", \"opacity\": 1, \"line\": {\"width\": 0}, \"y0\": 4.8, \"y1\": 5.2, \"fillcolor\": \"rgb(31, 119, 180)\"}, {\"x0\": \"2016-11-05 16:50:24\", \"x1\": \"2016-11-05 17:15:24\", \"type\": \"rect\", \"xref\": \"x\", \"yref\": \"y\", \"opacity\": 1, \"line\": {\"width\": 0}, \"y0\": 2.8, \"y1\": 3.2, \"fillcolor\": \"rgb(255, 127, 14)\"}, {\"x0\": \"2016-11-05 16:52:46\", \"x1\": \"2016-11-05 17:56:46\", \"type\": \"rect\", \"xref\": \"x\", \"yref\": \"y\", \"opacity\": 1, \"line\": {\"width\": 0}, \"y0\": 1.8, \"y1\": 2.2, \"fillcolor\": \"rgb(255, 127, 14)\"}, {\"x0\": \"2016-11-05 17:08:28\", \"x1\": \"2016-11-05 17:48:28\", \"type\": \"rect\", \"xref\": \"x\", \"yref\": \"y\", \"opacity\": 1, \"line\": {\"width\": 0}, \"y0\": 3.8, \"y1\": 4.2, \"fillcolor\": \"rgb(31, 119, 180)\"}, {\"x0\": \"2016-11-05 17:15:24\", \"x1\": \"2016-11-05 18:19:24\", \"type\": \"rect\", \"xref\": \"x\", \"yref\": \"y\", \"opacity\": 1, \"line\": {\"width\": 0}, \"y0\": 2.8, \"y1\": 3.2, \"fillcolor\": \"rgb(255, 127, 14)\"}, {\"x0\": \"2016-11-05 17:35:56\", \"x1\": \"2016-11-05 18:43:56\", \"type\": \"rect\", \"xref\": \"x\", \"yref\": \"y\", \"opacity\": 1, \"line\": {\"width\": 0}, \"y0\": 0.8, \"y1\": 1.2, \"fillcolor\": \"rgb(255, 127, 14)\"}, {\"x0\": \"2016-11-05 17:49:52\", \"x1\": \"2016-11-05 18:57:52\", \"type\": \"rect\", \"xref\": \"x\", \"yref\": \"y\", \"opacity\": 1, \"line\": {\"width\": 0}, \"y0\": -0.2, \"y1\": 0.2, \"fillcolor\": \"rgb(255, 127, 14)\"}, {\"x0\": \"2016-11-05 17:50:56\", \"x1\": \"2016-11-05 18:30:56\", \"type\": \"rect\", \"xref\": \"x\", \"yref\": \"y\", \"opacity\": 1, \"line\": {\"width\": 0}, \"y0\": 3.8, \"y1\": 4.2, \"fillcolor\": \"rgb(31, 119, 180)\"}, {\"x0\": \"2016-11-05 17:58:10\", \"x1\": \"2016-11-05 18:18:10\", \"type\": \"rect\", \"xref\": \"x\", \"yref\": \"y\", \"opacity\": 1, \"line\": {\"width\": 0}, \"y0\": 4.8, \"y1\": 5.2, \"fillcolor\": \"rgb(31, 119, 180)\"}, {\"x0\": \"2016-11-05 18:19:34\", \"x1\": \"2016-11-05 18:44:34\", \"type\": \"rect\", \"xref\": \"x\", \"yref\": \"y\", \"opacity\": 1, \"line\": {\"width\": 0}, \"y0\": 1.8, \"y1\": 2.2, \"fillcolor\": \"rgb(255, 127, 14)\"}, {\"x0\": \"2016-11-05 18:20:48\", \"x1\": \"2016-11-05 18:40:48\", \"type\": \"rect\", \"xref\": \"x\", \"yref\": \"y\", \"opacity\": 1, \"line\": {\"width\": 0}, \"y0\": 4.8, \"y1\": 5.2, \"fillcolor\": \"rgb(31, 119, 180)\"}, {\"x0\": \"2016-11-05 18:32:20\", \"x1\": \"2016-11-05 19:40:20\", \"type\": \"rect\", \"xref\": \"x\", \"yref\": \"y\", \"opacity\": 1, \"line\": {\"width\": 0}, \"y0\": 2.8, \"y1\": 3.2, \"fillcolor\": \"rgb(255, 127, 14)\"}, {\"x0\": \"2016-11-05 18:33:24\", \"x1\": \"2016-11-05 18:53:24\", \"type\": \"rect\", \"xref\": \"x\", \"yref\": \"y\", \"opacity\": 1, \"line\": {\"width\": 0}, \"y0\": 3.8, \"y1\": 4.2, \"fillcolor\": \"rgb(31, 119, 180)\"}, {\"x0\": \"2016-11-05 18:44:34\", \"x1\": \"2016-11-05 19:48:34\", \"type\": \"rect\", \"xref\": \"x\", \"yref\": \"y\", \"opacity\": 1, \"line\": {\"width\": 0}, \"y0\": 1.8, \"y1\": 2.2, \"fillcolor\": \"rgb(255, 127, 14)\"}, {\"x0\": \"2016-11-05 19:48:44\", \"x1\": \"2016-11-05 20:13:44\", \"type\": \"rect\", \"xref\": \"x\", \"yref\": \"y\", \"opacity\": 1, \"line\": {\"width\": 0}, \"y0\": 1.8, \"y1\": 2.2, \"fillcolor\": \"rgb(255, 127, 14)\"}, {\"x0\": \"2016-11-05 19:49:58\", \"x1\": \"2016-11-05 20:09:58\", \"type\": \"rect\", \"xref\": \"x\", \"yref\": \"y\", \"opacity\": 1, \"line\": {\"width\": 0}, \"y0\": 4.8, \"y1\": 5.2, \"fillcolor\": \"rgb(31, 119, 180)\"}, {\"x0\": \"2016-11-05 19:51:12\", \"x1\": \"2016-11-05 20:11:12\", \"type\": \"rect\", \"xref\": \"x\", \"yref\": \"y\", \"opacity\": 1, \"line\": {\"width\": 0}, \"y0\": 3.8, \"y1\": 4.2, \"fillcolor\": \"rgb(31, 119, 180)\"}, {\"x0\": \"2016-11-05 20:11:22\", \"x1\": \"2016-11-05 20:36:22\", \"type\": \"rect\", \"xref\": \"x\", \"yref\": \"y\", \"opacity\": 1, \"line\": {\"width\": 0}, \"y0\": 2.8, \"y1\": 3.2, \"fillcolor\": \"rgb(255, 127, 14)\"}, {\"x0\": \"2016-11-05 20:13:40\", \"x1\": \"2016-11-05 20:33:40\", \"type\": \"rect\", \"xref\": \"x\", \"yref\": \"y\", \"opacity\": 1, \"line\": {\"width\": 0}, \"y0\": 3.8, \"y1\": 4.2, \"fillcolor\": \"rgb(31, 119, 180)\"}, {\"x0\": \"2016-11-05 20:13:44\", \"x1\": \"2016-11-05 21:17:44\", \"type\": \"rect\", \"xref\": \"x\", \"yref\": \"y\", \"opacity\": 1, \"line\": {\"width\": 0}, \"y0\": 1.8, \"y1\": 2.2, \"fillcolor\": \"rgb(255, 127, 14)\"}, {\"x0\": \"2016-11-05 20:36:08\", \"x1\": \"2016-11-05 20:56:08\", \"type\": \"rect\", \"xref\": \"x\", \"yref\": \"y\", \"opacity\": 1, \"line\": {\"width\": 0}, \"y0\": 3.8, \"y1\": 4.2, \"fillcolor\": \"rgb(31, 119, 180)\"}, {\"x0\": \"2016-11-05 20:36:22\", \"x1\": \"2016-11-05 21:40:22\", \"type\": \"rect\", \"xref\": \"x\", \"yref\": \"y\", \"opacity\": 1, \"line\": {\"width\": 0}, \"y0\": 2.8, \"y1\": 3.2, \"fillcolor\": \"rgb(255, 127, 14)\"}, {\"x0\": \"2016-11-05 21:19:08\", \"x1\": \"2016-11-05 21:39:08\", \"type\": \"rect\", \"xref\": \"x\", \"yref\": \"y\", \"opacity\": 1, \"line\": {\"width\": 0}, \"y0\": 4.8, \"y1\": 5.2, \"fillcolor\": \"rgb(31, 119, 180)\"}, {\"x0\": \"2016-11-05 21:40:32\", \"x1\": \"2016-11-05 22:05:32\", \"type\": \"rect\", \"xref\": \"x\", \"yref\": \"y\", \"opacity\": 1, \"line\": {\"width\": 0}, \"y0\": 1.8, \"y1\": 2.2, \"fillcolor\": \"rgb(255, 127, 14)\"}, {\"x0\": \"2016-11-05 21:41:46\", \"x1\": \"2016-11-05 22:01:46\", \"type\": \"rect\", \"xref\": \"x\", \"yref\": \"y\", \"opacity\": 1, \"line\": {\"width\": 0}, \"y0\": 4.8, \"y1\": 5.2, \"fillcolor\": \"rgb(31, 119, 180)\"}, {\"x0\": \"2016-11-05 22:03:10\", \"x1\": \"2016-11-05 22:28:10\", \"type\": \"rect\", \"xref\": \"x\", \"yref\": \"y\", \"opacity\": 1, \"line\": {\"width\": 0}, \"y0\": 2.8, \"y1\": 3.2, \"fillcolor\": \"rgb(255, 127, 14)\"}, {\"x0\": \"2016-11-05 22:05:32\", \"x1\": \"2016-11-05 23:09:32\", \"type\": \"rect\", \"xref\": \"x\", \"yref\": \"y\", \"opacity\": 1, \"line\": {\"width\": 0}, \"y0\": 1.8, \"y1\": 2.2, \"fillcolor\": \"rgb(255, 127, 14)\"}, {\"x0\": \"2016-11-05 22:28:10\", \"x1\": \"2016-11-05 23:32:10\", \"type\": \"rect\", \"xref\": \"x\", \"yref\": \"y\", \"opacity\": 1, \"line\": {\"width\": 0}, \"y0\": 2.8, \"y1\": 3.2, \"fillcolor\": \"rgb(255, 127, 14)\"}, {\"x0\": \"2016-11-05 23:10:56\", \"x1\": \"2016-11-05 23:30:56\", \"type\": \"rect\", \"xref\": \"x\", \"yref\": \"y\", \"opacity\": 1, \"line\": {\"width\": 0}, \"y0\": 4.8, \"y1\": 5.2, \"fillcolor\": \"rgb(31, 119, 180)\"}, {\"x0\": \"2016-11-05 23:32:20\", \"x1\": \"2016-11-05 23:57:20\", \"type\": \"rect\", \"xref\": \"x\", \"yref\": \"y\", \"opacity\": 1, \"line\": {\"width\": 0}, \"y0\": 1.8, \"y1\": 2.2, \"fillcolor\": \"rgb(255, 127, 14)\"}, {\"x0\": \"2016-11-05 23:33:34\", \"x1\": \"2016-11-05 23:53:34\", \"type\": \"rect\", \"xref\": \"x\", \"yref\": \"y\", \"opacity\": 1, \"line\": {\"width\": 0}, \"y0\": 4.8, \"y1\": 5.2, \"fillcolor\": \"rgb(31, 119, 180)\"}, {\"x0\": \"2016-11-05 23:54:58\", \"x1\": \"2016-11-06 00:19:58\", \"type\": \"rect\", \"xref\": \"x\", \"yref\": \"y\", \"opacity\": 1, \"line\": {\"width\": 0}, \"y0\": 2.8, \"y1\": 3.2, \"fillcolor\": \"rgb(255, 127, 14)\"}, {\"x0\": \"2016-11-05 23:57:20\", \"x1\": \"2016-11-06 01:01:20\", \"type\": \"rect\", \"xref\": \"x\", \"yref\": \"y\", \"opacity\": 1, \"line\": {\"width\": 0}, \"y0\": 1.8, \"y1\": 2.2, \"fillcolor\": \"rgb(255, 127, 14)\"}, {\"x0\": \"2016-11-06 00:19:58\", \"x1\": \"2016-11-06 01:23:58\", \"type\": \"rect\", \"xref\": \"x\", \"yref\": \"y\", \"opacity\": 1, \"line\": {\"width\": 0}, \"y0\": 2.8, \"y1\": 3.2, \"fillcolor\": \"rgb(255, 127, 14)\"}, {\"x0\": \"2016-11-06 01:02:44\", \"x1\": \"2016-11-06 01:22:44\", \"type\": \"rect\", \"xref\": \"x\", \"yref\": \"y\", \"opacity\": 1, \"line\": {\"width\": 0}, \"y0\": 4.8, \"y1\": 5.2, \"fillcolor\": \"rgb(31, 119, 180)\"}, {\"x0\": \"2016-11-06 01:24:08\", \"x1\": \"2016-11-06 01:49:08\", \"type\": \"rect\", \"xref\": \"x\", \"yref\": \"y\", \"opacity\": 1, \"line\": {\"width\": 0}, \"y0\": 1.8, \"y1\": 2.2, \"fillcolor\": \"rgb(255, 127, 14)\"}, {\"x0\": \"2016-11-06 01:25:22\", \"x1\": \"2016-11-06 01:45:22\", \"type\": \"rect\", \"xref\": \"x\", \"yref\": \"y\", \"opacity\": 1, \"line\": {\"width\": 0}, \"y0\": 4.8, \"y1\": 5.2, \"fillcolor\": \"rgb(31, 119, 180)\"}, {\"x0\": \"2016-11-06 01:46:46\", \"x1\": \"2016-11-06 02:11:46\", \"type\": \"rect\", \"xref\": \"x\", \"yref\": \"y\", \"opacity\": 1, \"line\": {\"width\": 0}, \"y0\": 2.8, \"y1\": 3.2, \"fillcolor\": \"rgb(255, 127, 14)\"}, {\"x0\": \"2016-11-06 01:49:08\", \"x1\": \"2016-11-06 02:53:08\", \"type\": \"rect\", \"xref\": \"x\", \"yref\": \"y\", \"opacity\": 1, \"line\": {\"width\": 0}, \"y0\": 1.8, \"y1\": 2.2, \"fillcolor\": \"rgb(255, 127, 14)\"}, {\"x0\": \"2016-11-06 02:11:46\", \"x1\": \"2016-11-06 03:15:46\", \"type\": \"rect\", \"xref\": \"x\", \"yref\": \"y\", \"opacity\": 1, \"line\": {\"width\": 0}, \"y0\": 2.8, \"y1\": 3.2, \"fillcolor\": \"rgb(255, 127, 14)\"}, {\"x0\": \"2016-11-06 02:54:32\", \"x1\": \"2016-11-06 03:09:32\", \"type\": \"rect\", \"xref\": \"x\", \"yref\": \"y\", \"opacity\": 1, \"line\": {\"width\": 0}, \"y0\": 4.8, \"y1\": 5.2, \"fillcolor\": \"rgb(31, 119, 180)\"}, {\"x0\": \"2016-11-06 03:10:56\", \"x1\": \"2016-11-06 03:35:56\", \"type\": \"rect\", \"xref\": \"x\", \"yref\": \"y\", \"opacity\": 1, \"line\": {\"width\": 0}, \"y0\": 1.8, \"y1\": 2.2, \"fillcolor\": \"rgb(255, 127, 14)\"}, {\"x0\": \"2016-11-06 03:17:10\", \"x1\": \"2016-11-06 03:32:10\", \"type\": \"rect\", \"xref\": \"x\", \"yref\": \"y\", \"opacity\": 1, \"line\": {\"width\": 0}, \"y0\": 4.8, \"y1\": 5.2, \"fillcolor\": \"rgb(31, 119, 180)\"}, {\"x0\": \"2016-11-06 03:33:34\", \"x1\": \"2016-11-06 03:58:34\", \"type\": \"rect\", \"xref\": \"x\", \"yref\": \"y\", \"opacity\": 1, \"line\": {\"width\": 0}, \"y0\": 2.8, \"y1\": 3.2, \"fillcolor\": \"rgb(255, 127, 14)\"}, {\"x0\": \"2016-11-06 03:37:20\", \"x1\": \"2016-11-06 03:42:20\", \"type\": \"rect\", \"xref\": \"x\", \"yref\": \"y\", \"opacity\": 1, \"line\": {\"width\": 0}, \"y0\": 4.8, \"y1\": 5.2, \"fillcolor\": \"rgb(31, 119, 180)\"}, {\"x0\": \"2016-11-06 03:59:58\", \"x1\": \"2016-11-06 04:04:58\", \"type\": \"rect\", \"xref\": \"x\", \"yref\": \"y\", \"opacity\": 1, \"line\": {\"width\": 0}, \"y0\": 4.8, \"y1\": 5.2, \"fillcolor\": \"rgb(31, 119, 180)\"}], \"hovermode\": \"closest\", \"yaxis\": {\"showgrid\": false, \"ticktext\": [\"Machine4\", \"Machine3\", \"Machine2\", \"Machine1\", \"L/U2\", \"L/U1\"], \"tickvals\": [0, 1, 2, 3, 4, 5], \"range\": [-1, 7], \"autorange\": false, \"zeroline\": false}, \"xaxis\": {\"showgrid\": false, \"zeroline\": false, \"rangeselector\": {\"buttons\": [{\"count\": 7, \"label\": \"1w\", \"step\": \"day\", \"stepmode\": \"backward\"}, {\"count\": 1, \"label\": \"1m\", \"step\": \"month\", \"stepmode\": \"backward\"}, {\"count\": 6, \"label\": \"6m\", \"step\": \"month\", \"stepmode\": \"backward\"}, {\"count\": 1, \"label\": \"YTD\", \"step\": \"year\", \"stepmode\": \"todate\"}, {\"count\": 1, \"label\": \"1y\", \"step\": \"year\", \"stepmode\": \"backward\"}, {\"step\": \"all\"}]}, \"type\": \"date\"}}, {\"showLink\": true, \"linkText\": \"Export to plot.ly\"})});</script>"
      ],
      "text/vnd.plotly.v1+html": [
       "<div id=\"b6254046-8f7b-44fa-b860-cbf1dd3dd8d5\" style=\"height: 600px; width: 900px;\" class=\"plotly-graph-div\"></div><script type=\"text/javascript\">require([\"plotly\"], function(Plotly) { window.PLOTLYENV=window.PLOTLYENV || {};window.PLOTLYENV.BASE_URL=\"https://plot.ly\";Plotly.newPlot(\"b6254046-8f7b-44fa-b860-cbf1dd3dd8d5\", [{\"x\": [\"2016-11-05 12:01:14\", \"2016-11-05 12:06:14\"], \"y\": [5, 5], \"name\": \"\", \"marker\": {\"color\": \"white\"}}, {\"x\": [\"2016-11-05 12:02:28\", \"2016-11-05 12:22:28\"], \"y\": [4, 4], \"name\": \"\", \"marker\": {\"color\": \"white\"}}, {\"x\": [\"2016-11-05 12:07:38\", \"2016-11-05 13:11:38\"], \"y\": [3, 3], \"name\": \"\", \"marker\": {\"color\": \"white\"}}, {\"x\": [\"2016-11-05 12:08:42\", \"2016-11-05 12:13:42\"], \"y\": [5, 5], \"name\": \"\", \"marker\": {\"color\": \"white\"}}, {\"x\": [\"2016-11-05 12:15:06\", \"2016-11-05 13:19:06\"], \"y\": [2, 2], \"name\": \"\", \"marker\": {\"color\": \"white\"}}, {\"x\": [\"2016-11-05 12:23:52\", \"2016-11-05 13:31:52\"], \"y\": [1, 1], \"name\": \"\", \"marker\": {\"color\": \"white\"}}, {\"x\": [\"2016-11-05 12:24:56\", \"2016-11-05 12:44:56\"], \"y\": [4, 4], \"name\": \"\", \"marker\": {\"color\": \"white\"}}, {\"x\": [\"2016-11-05 12:46:20\", \"2016-11-05 13:54:20\"], \"y\": [0, 0], \"name\": \"\", \"marker\": {\"color\": \"white\"}}, {\"x\": [\"2016-11-05 12:47:24\", \"2016-11-05 13:07:24\"], \"y\": [4, 4], \"name\": \"\", \"marker\": {\"color\": \"white\"}}, {\"x\": [\"2016-11-05 13:09:52\", \"2016-11-05 13:29:52\"], \"y\": [4, 4], \"name\": \"\", \"marker\": {\"color\": \"white\"}}, {\"x\": [\"2016-11-05 13:11:48\", \"2016-11-05 14:19:48\"], \"y\": [3, 3], \"name\": \"\", \"marker\": {\"color\": \"white\"}}, {\"x\": [\"2016-11-05 13:13:02\", \"2016-11-05 13:28:02\"], \"y\": [5, 5], \"name\": \"\", \"marker\": {\"color\": \"white\"}}, {\"x\": [\"2016-11-05 13:29:26\", \"2016-11-05 13:54:26\"], \"y\": [2, 2], \"name\": \"\", \"marker\": {\"color\": \"white\"}}, {\"x\": [\"2016-11-05 13:30:30\", \"2016-11-05 13:45:30\"], \"y\": [5, 5], \"name\": \"\", \"marker\": {\"color\": \"white\"}}, {\"x\": [\"2016-11-05 13:32:02\", \"2016-11-05 14:40:02\"], \"y\": [1, 1], \"name\": \"\", \"marker\": {\"color\": \"white\"}}, {\"x\": [\"2016-11-05 13:33:16\", \"2016-11-05 14:13:16\"], \"y\": [4, 4], \"name\": \"\", \"marker\": {\"color\": \"white\"}}, {\"x\": [\"2016-11-05 13:54:26\", \"2016-11-05 14:58:26\"], \"y\": [2, 2], \"name\": \"\", \"marker\": {\"color\": \"white\"}}, {\"x\": [\"2016-11-05 14:58:36\", \"2016-11-05 16:06:36\"], \"y\": [3, 3], \"name\": \"\", \"marker\": {\"color\": \"white\"}}, {\"x\": [\"2016-11-05 14:58:36\", \"2016-11-05 15:23:36\"], \"y\": [2, 2], \"name\": \"\", \"marker\": {\"color\": \"white\"}}, {\"x\": [\"2016-11-05 14:59:50\", \"2016-11-05 15:19:50\"], \"y\": [5, 5], \"name\": \"\", \"marker\": {\"color\": \"white\"}}, {\"x\": [\"2016-11-05 15:01:04\", \"2016-11-05 15:41:04\"], \"y\": [4, 4], \"name\": \"\", \"marker\": {\"color\": \"white\"}}, {\"x\": [\"2016-11-05 15:23:36\", \"2016-11-05 16:27:36\"], \"y\": [2, 2], \"name\": \"\", \"marker\": {\"color\": \"white\"}}, {\"x\": [\"2016-11-05 15:43:32\", \"2016-11-05 16:23:32\"], \"y\": [4, 4], \"name\": \"\", \"marker\": {\"color\": \"white\"}}, {\"x\": [\"2016-11-05 16:26:00\", \"2016-11-05 17:06:00\"], \"y\": [4, 4], \"name\": \"\", \"marker\": {\"color\": \"white\"}}, {\"x\": [\"2016-11-05 16:27:46\", \"2016-11-05 16:52:46\"], \"y\": [2, 2], \"name\": \"\", \"marker\": {\"color\": \"white\"}}, {\"x\": [\"2016-11-05 16:27:46\", \"2016-11-05 17:35:46\"], \"y\": [1, 1], \"name\": \"\", \"marker\": {\"color\": \"white\"}}, {\"x\": [\"2016-11-05 16:27:46\", \"2016-11-05 17:35:46\"], \"y\": [0, 0], \"name\": \"\", \"marker\": {\"color\": \"white\"}}, {\"x\": [\"2016-11-05 16:29:00\", \"2016-11-05 16:49:00\"], \"y\": [5, 5], \"name\": \"\", \"marker\": {\"color\": \"white\"}}, {\"x\": [\"2016-11-05 16:50:24\", \"2016-11-05 17:15:24\"], \"y\": [3, 3], \"name\": \"\", \"marker\": {\"color\": \"white\"}}, {\"x\": [\"2016-11-05 16:52:46\", \"2016-11-05 17:56:46\"], \"y\": [2, 2], \"name\": \"\", \"marker\": {\"color\": \"white\"}}, {\"x\": [\"2016-11-05 17:08:28\", \"2016-11-05 17:48:28\"], \"y\": [4, 4], \"name\": \"\", \"marker\": {\"color\": \"white\"}}, {\"x\": [\"2016-11-05 17:15:24\", \"2016-11-05 18:19:24\"], \"y\": [3, 3], \"name\": \"\", \"marker\": {\"color\": \"white\"}}, {\"x\": [\"2016-11-05 17:35:56\", \"2016-11-05 18:43:56\"], \"y\": [1, 1], \"name\": \"\", \"marker\": {\"color\": \"white\"}}, {\"x\": [\"2016-11-05 17:49:52\", \"2016-11-05 18:57:52\"], \"y\": [0, 0], \"name\": \"\", \"marker\": {\"color\": \"white\"}}, {\"x\": [\"2016-11-05 17:50:56\", \"2016-11-05 18:30:56\"], \"y\": [4, 4], \"name\": \"\", \"marker\": {\"color\": \"white\"}}, {\"x\": [\"2016-11-05 17:58:10\", \"2016-11-05 18:18:10\"], \"y\": [5, 5], \"name\": \"\", \"marker\": {\"color\": \"white\"}}, {\"x\": [\"2016-11-05 18:19:34\", \"2016-11-05 18:44:34\"], \"y\": [2, 2], \"name\": \"\", \"marker\": {\"color\": \"white\"}}, {\"x\": [\"2016-11-05 18:20:48\", \"2016-11-05 18:40:48\"], \"y\": [5, 5], \"name\": \"\", \"marker\": {\"color\": \"white\"}}, {\"x\": [\"2016-11-05 18:32:20\", \"2016-11-05 19:40:20\"], \"y\": [3, 3], \"name\": \"\", \"marker\": {\"color\": \"white\"}}, {\"x\": [\"2016-11-05 18:33:24\", \"2016-11-05 18:53:24\"], \"y\": [4, 4], \"name\": \"\", \"marker\": {\"color\": \"white\"}}, {\"x\": [\"2016-11-05 18:44:34\", \"2016-11-05 19:48:34\"], \"y\": [2, 2], \"name\": \"\", \"marker\": {\"color\": \"white\"}}, {\"x\": [\"2016-11-05 19:48:44\", \"2016-11-05 20:13:44\"], \"y\": [2, 2], \"name\": \"\", \"marker\": {\"color\": \"white\"}}, {\"x\": [\"2016-11-05 19:49:58\", \"2016-11-05 20:09:58\"], \"y\": [5, 5], \"name\": \"\", \"marker\": {\"color\": \"white\"}}, {\"x\": [\"2016-11-05 19:51:12\", \"2016-11-05 20:11:12\"], \"y\": [4, 4], \"name\": \"\", \"marker\": {\"color\": \"white\"}}, {\"x\": [\"2016-11-05 20:11:22\", \"2016-11-05 20:36:22\"], \"y\": [3, 3], \"name\": \"\", \"marker\": {\"color\": \"white\"}}, {\"x\": [\"2016-11-05 20:13:40\", \"2016-11-05 20:33:40\"], \"y\": [4, 4], \"name\": \"\", \"marker\": {\"color\": \"white\"}}, {\"x\": [\"2016-11-05 20:13:44\", \"2016-11-05 21:17:44\"], \"y\": [2, 2], \"name\": \"\", \"marker\": {\"color\": \"white\"}}, {\"x\": [\"2016-11-05 20:36:08\", \"2016-11-05 20:56:08\"], \"y\": [4, 4], \"name\": \"\", \"marker\": {\"color\": \"white\"}}, {\"x\": [\"2016-11-05 20:36:22\", \"2016-11-05 21:40:22\"], \"y\": [3, 3], \"name\": \"\", \"marker\": {\"color\": \"white\"}}, {\"x\": [\"2016-11-05 21:19:08\", \"2016-11-05 21:39:08\"], \"y\": [5, 5], \"name\": \"\", \"marker\": {\"color\": \"white\"}}, {\"x\": [\"2016-11-05 21:40:32\", \"2016-11-05 22:05:32\"], \"y\": [2, 2], \"name\": \"\", \"marker\": {\"color\": \"white\"}}, {\"x\": [\"2016-11-05 21:41:46\", \"2016-11-05 22:01:46\"], \"y\": [5, 5], \"name\": \"\", \"marker\": {\"color\": \"white\"}}, {\"x\": [\"2016-11-05 22:03:10\", \"2016-11-05 22:28:10\"], \"y\": [3, 3], \"name\": \"\", \"marker\": {\"color\": \"white\"}}, {\"x\": [\"2016-11-05 22:05:32\", \"2016-11-05 23:09:32\"], \"y\": [2, 2], \"name\": \"\", \"marker\": {\"color\": \"white\"}}, {\"x\": [\"2016-11-05 22:28:10\", \"2016-11-05 23:32:10\"], \"y\": [3, 3], \"name\": \"\", \"marker\": {\"color\": \"white\"}}, {\"x\": [\"2016-11-05 23:10:56\", \"2016-11-05 23:30:56\"], \"y\": [5, 5], \"name\": \"\", \"marker\": {\"color\": \"white\"}}, {\"x\": [\"2016-11-05 23:32:20\", \"2016-11-05 23:57:20\"], \"y\": [2, 2], \"name\": \"\", \"marker\": {\"color\": \"white\"}}, {\"x\": [\"2016-11-05 23:33:34\", \"2016-11-05 23:53:34\"], \"y\": [5, 5], \"name\": \"\", \"marker\": {\"color\": \"white\"}}, {\"x\": [\"2016-11-05 23:54:58\", \"2016-11-06 00:19:58\"], \"y\": [3, 3], \"name\": \"\", \"marker\": {\"color\": \"white\"}}, {\"x\": [\"2016-11-05 23:57:20\", \"2016-11-06 01:01:20\"], \"y\": [2, 2], \"name\": \"\", \"marker\": {\"color\": \"white\"}}, {\"x\": [\"2016-11-06 00:19:58\", \"2016-11-06 01:23:58\"], \"y\": [3, 3], \"name\": \"\", \"marker\": {\"color\": \"white\"}}, {\"x\": [\"2016-11-06 01:02:44\", \"2016-11-06 01:22:44\"], \"y\": [5, 5], \"name\": \"\", \"marker\": {\"color\": \"white\"}}, {\"x\": [\"2016-11-06 01:24:08\", \"2016-11-06 01:49:08\"], \"y\": [2, 2], \"name\": \"\", \"marker\": {\"color\": \"white\"}}, {\"x\": [\"2016-11-06 01:25:22\", \"2016-11-06 01:45:22\"], \"y\": [5, 5], \"name\": \"\", \"marker\": {\"color\": \"white\"}}, {\"x\": [\"2016-11-06 01:46:46\", \"2016-11-06 02:11:46\"], \"y\": [3, 3], \"name\": \"\", \"marker\": {\"color\": \"white\"}}, {\"x\": [\"2016-11-06 01:49:08\", \"2016-11-06 02:53:08\"], \"y\": [2, 2], \"name\": \"\", \"marker\": {\"color\": \"white\"}}, {\"x\": [\"2016-11-06 02:11:46\", \"2016-11-06 03:15:46\"], \"y\": [3, 3], \"name\": \"\", \"marker\": {\"color\": \"white\"}}, {\"x\": [\"2016-11-06 02:54:32\", \"2016-11-06 03:09:32\"], \"y\": [5, 5], \"name\": \"\", \"marker\": {\"color\": \"white\"}}, {\"x\": [\"2016-11-06 03:10:56\", \"2016-11-06 03:35:56\"], \"y\": [2, 2], \"name\": \"\", \"marker\": {\"color\": \"white\"}}, {\"x\": [\"2016-11-06 03:17:10\", \"2016-11-06 03:32:10\"], \"y\": [5, 5], \"name\": \"\", \"marker\": {\"color\": \"white\"}}, {\"x\": [\"2016-11-06 03:33:34\", \"2016-11-06 03:58:34\"], \"y\": [3, 3], \"name\": \"\", \"marker\": {\"color\": \"white\"}}, {\"x\": [\"2016-11-06 03:37:20\", \"2016-11-06 03:42:20\"], \"y\": [5, 5], \"name\": \"\", \"marker\": {\"color\": \"white\"}}, {\"x\": [\"2016-11-06 03:59:58\", \"2016-11-06 04:04:58\"], \"y\": [5, 5], \"name\": \"\", \"marker\": {\"color\": \"white\"}}], {\"title\": \"Gantt Chart\", \"showlegend\": false, \"height\": 600, \"width\": 900, \"shapes\": [{\"x0\": \"2016-11-05 12:01:14\", \"x1\": \"2016-11-05 12:06:14\", \"type\": \"rect\", \"xref\": \"x\", \"yref\": \"y\", \"opacity\": 1, \"line\": {\"width\": 0}, \"y0\": 4.8, \"y1\": 5.2, \"fillcolor\": \"rgb(31, 119, 180)\"}, {\"x0\": \"2016-11-05 12:02:28\", \"x1\": \"2016-11-05 12:22:28\", \"type\": \"rect\", \"xref\": \"x\", \"yref\": \"y\", \"opacity\": 1, \"line\": {\"width\": 0}, \"y0\": 3.8, \"y1\": 4.2, \"fillcolor\": \"rgb(31, 119, 180)\"}, {\"x0\": \"2016-11-05 12:07:38\", \"x1\": \"2016-11-05 13:11:38\", \"type\": \"rect\", \"xref\": \"x\", \"yref\": \"y\", \"opacity\": 1, \"line\": {\"width\": 0}, \"y0\": 2.8, \"y1\": 3.2, \"fillcolor\": \"rgb(255, 127, 14)\"}, {\"x0\": \"2016-11-05 12:08:42\", \"x1\": \"2016-11-05 12:13:42\", \"type\": \"rect\", \"xref\": \"x\", \"yref\": \"y\", \"opacity\": 1, \"line\": {\"width\": 0}, \"y0\": 4.8, \"y1\": 5.2, \"fillcolor\": \"rgb(31, 119, 180)\"}, {\"x0\": \"2016-11-05 12:15:06\", \"x1\": \"2016-11-05 13:19:06\", \"type\": \"rect\", \"xref\": \"x\", \"yref\": \"y\", \"opacity\": 1, \"line\": {\"width\": 0}, \"y0\": 1.8, \"y1\": 2.2, \"fillcolor\": \"rgb(255, 127, 14)\"}, {\"x0\": \"2016-11-05 12:23:52\", \"x1\": \"2016-11-05 13:31:52\", \"type\": \"rect\", \"xref\": \"x\", \"yref\": \"y\", \"opacity\": 1, \"line\": {\"width\": 0}, \"y0\": 0.8, \"y1\": 1.2, \"fillcolor\": \"rgb(255, 127, 14)\"}, {\"x0\": \"2016-11-05 12:24:56\", \"x1\": \"2016-11-05 12:44:56\", \"type\": \"rect\", \"xref\": \"x\", \"yref\": \"y\", \"opacity\": 1, \"line\": {\"width\": 0}, \"y0\": 3.8, \"y1\": 4.2, \"fillcolor\": \"rgb(31, 119, 180)\"}, {\"x0\": \"2016-11-05 12:46:20\", \"x1\": \"2016-11-05 13:54:20\", \"type\": \"rect\", \"xref\": \"x\", \"yref\": \"y\", \"opacity\": 1, \"line\": {\"width\": 0}, \"y0\": -0.2, \"y1\": 0.2, \"fillcolor\": \"rgb(255, 127, 14)\"}, {\"x0\": \"2016-11-05 12:47:24\", \"x1\": \"2016-11-05 13:07:24\", \"type\": \"rect\", \"xref\": \"x\", \"yref\": \"y\", \"opacity\": 1, \"line\": {\"width\": 0}, \"y0\": 3.8, \"y1\": 4.2, \"fillcolor\": \"rgb(31, 119, 180)\"}, {\"x0\": \"2016-11-05 13:09:52\", \"x1\": \"2016-11-05 13:29:52\", \"type\": \"rect\", \"xref\": \"x\", \"yref\": \"y\", \"opacity\": 1, \"line\": {\"width\": 0}, \"y0\": 3.8, \"y1\": 4.2, \"fillcolor\": \"rgb(31, 119, 180)\"}, {\"x0\": \"2016-11-05 13:11:48\", \"x1\": \"2016-11-05 14:19:48\", \"type\": \"rect\", \"xref\": \"x\", \"yref\": \"y\", \"opacity\": 1, \"line\": {\"width\": 0}, \"y0\": 2.8, \"y1\": 3.2, \"fillcolor\": \"rgb(255, 127, 14)\"}, {\"x0\": \"2016-11-05 13:13:02\", \"x1\": \"2016-11-05 13:28:02\", \"type\": \"rect\", \"xref\": \"x\", \"yref\": \"y\", \"opacity\": 1, \"line\": {\"width\": 0}, \"y0\": 4.8, \"y1\": 5.2, \"fillcolor\": \"rgb(31, 119, 180)\"}, {\"x0\": \"2016-11-05 13:29:26\", \"x1\": \"2016-11-05 13:54:26\", \"type\": \"rect\", \"xref\": \"x\", \"yref\": \"y\", \"opacity\": 1, \"line\": {\"width\": 0}, \"y0\": 1.8, \"y1\": 2.2, \"fillcolor\": \"rgb(255, 127, 14)\"}, {\"x0\": \"2016-11-05 13:30:30\", \"x1\": \"2016-11-05 13:45:30\", \"type\": \"rect\", \"xref\": \"x\", \"yref\": \"y\", \"opacity\": 1, \"line\": {\"width\": 0}, \"y0\": 4.8, \"y1\": 5.2, \"fillcolor\": \"rgb(31, 119, 180)\"}, {\"x0\": \"2016-11-05 13:32:02\", \"x1\": \"2016-11-05 14:40:02\", \"type\": \"rect\", \"xref\": \"x\", \"yref\": \"y\", \"opacity\": 1, \"line\": {\"width\": 0}, \"y0\": 0.8, \"y1\": 1.2, \"fillcolor\": \"rgb(255, 127, 14)\"}, {\"x0\": \"2016-11-05 13:33:16\", \"x1\": \"2016-11-05 14:13:16\", \"type\": \"rect\", \"xref\": \"x\", \"yref\": \"y\", \"opacity\": 1, \"line\": {\"width\": 0}, \"y0\": 3.8, \"y1\": 4.2, \"fillcolor\": \"rgb(31, 119, 180)\"}, {\"x0\": \"2016-11-05 13:54:26\", \"x1\": \"2016-11-05 14:58:26\", \"type\": \"rect\", \"xref\": \"x\", \"yref\": \"y\", \"opacity\": 1, \"line\": {\"width\": 0}, \"y0\": 1.8, \"y1\": 2.2, \"fillcolor\": \"rgb(255, 127, 14)\"}, {\"x0\": \"2016-11-05 14:58:36\", \"x1\": \"2016-11-05 16:06:36\", \"type\": \"rect\", \"xref\": \"x\", \"yref\": \"y\", \"opacity\": 1, \"line\": {\"width\": 0}, \"y0\": 2.8, \"y1\": 3.2, \"fillcolor\": \"rgb(255, 127, 14)\"}, {\"x0\": \"2016-11-05 14:58:36\", \"x1\": \"2016-11-05 15:23:36\", \"type\": \"rect\", \"xref\": \"x\", \"yref\": \"y\", \"opacity\": 1, \"line\": {\"width\": 0}, \"y0\": 1.8, \"y1\": 2.2, \"fillcolor\": \"rgb(255, 127, 14)\"}, {\"x0\": \"2016-11-05 14:59:50\", \"x1\": \"2016-11-05 15:19:50\", \"type\": \"rect\", \"xref\": \"x\", \"yref\": \"y\", \"opacity\": 1, \"line\": {\"width\": 0}, \"y0\": 4.8, \"y1\": 5.2, \"fillcolor\": \"rgb(31, 119, 180)\"}, {\"x0\": \"2016-11-05 15:01:04\", \"x1\": \"2016-11-05 15:41:04\", \"type\": \"rect\", \"xref\": \"x\", \"yref\": \"y\", \"opacity\": 1, \"line\": {\"width\": 0}, \"y0\": 3.8, \"y1\": 4.2, \"fillcolor\": \"rgb(31, 119, 180)\"}, {\"x0\": \"2016-11-05 15:23:36\", \"x1\": \"2016-11-05 16:27:36\", \"type\": \"rect\", \"xref\": \"x\", \"yref\": \"y\", \"opacity\": 1, \"line\": {\"width\": 0}, \"y0\": 1.8, \"y1\": 2.2, \"fillcolor\": \"rgb(255, 127, 14)\"}, {\"x0\": \"2016-11-05 15:43:32\", \"x1\": \"2016-11-05 16:23:32\", \"type\": \"rect\", \"xref\": \"x\", \"yref\": \"y\", \"opacity\": 1, \"line\": {\"width\": 0}, \"y0\": 3.8, \"y1\": 4.2, \"fillcolor\": \"rgb(31, 119, 180)\"}, {\"x0\": \"2016-11-05 16:26:00\", \"x1\": \"2016-11-05 17:06:00\", \"type\": \"rect\", \"xref\": \"x\", \"yref\": \"y\", \"opacity\": 1, \"line\": {\"width\": 0}, \"y0\": 3.8, \"y1\": 4.2, \"fillcolor\": \"rgb(31, 119, 180)\"}, {\"x0\": \"2016-11-05 16:27:46\", \"x1\": \"2016-11-05 16:52:46\", \"type\": \"rect\", \"xref\": \"x\", \"yref\": \"y\", \"opacity\": 1, \"line\": {\"width\": 0}, \"y0\": 1.8, \"y1\": 2.2, \"fillcolor\": \"rgb(255, 127, 14)\"}, {\"x0\": \"2016-11-05 16:27:46\", \"x1\": \"2016-11-05 17:35:46\", \"type\": \"rect\", \"xref\": \"x\", \"yref\": \"y\", \"opacity\": 1, \"line\": {\"width\": 0}, \"y0\": 0.8, \"y1\": 1.2, \"fillcolor\": \"rgb(255, 127, 14)\"}, {\"x0\": \"2016-11-05 16:27:46\", \"x1\": \"2016-11-05 17:35:46\", \"type\": \"rect\", \"xref\": \"x\", \"yref\": \"y\", \"opacity\": 1, \"line\": {\"width\": 0}, \"y0\": -0.2, \"y1\": 0.2, \"fillcolor\": \"rgb(255, 127, 14)\"}, {\"x0\": \"2016-11-05 16:29:00\", \"x1\": \"2016-11-05 16:49:00\", \"type\": \"rect\", \"xref\": \"x\", \"yref\": \"y\", \"opacity\": 1, \"line\": {\"width\": 0}, \"y0\": 4.8, \"y1\": 5.2, \"fillcolor\": \"rgb(31, 119, 180)\"}, {\"x0\": \"2016-11-05 16:50:24\", \"x1\": \"2016-11-05 17:15:24\", \"type\": \"rect\", \"xref\": \"x\", \"yref\": \"y\", \"opacity\": 1, \"line\": {\"width\": 0}, \"y0\": 2.8, \"y1\": 3.2, \"fillcolor\": \"rgb(255, 127, 14)\"}, {\"x0\": \"2016-11-05 16:52:46\", \"x1\": \"2016-11-05 17:56:46\", \"type\": \"rect\", \"xref\": \"x\", \"yref\": \"y\", \"opacity\": 1, \"line\": {\"width\": 0}, \"y0\": 1.8, \"y1\": 2.2, \"fillcolor\": \"rgb(255, 127, 14)\"}, {\"x0\": \"2016-11-05 17:08:28\", \"x1\": \"2016-11-05 17:48:28\", \"type\": \"rect\", \"xref\": \"x\", \"yref\": \"y\", \"opacity\": 1, \"line\": {\"width\": 0}, \"y0\": 3.8, \"y1\": 4.2, \"fillcolor\": \"rgb(31, 119, 180)\"}, {\"x0\": \"2016-11-05 17:15:24\", \"x1\": \"2016-11-05 18:19:24\", \"type\": \"rect\", \"xref\": \"x\", \"yref\": \"y\", \"opacity\": 1, \"line\": {\"width\": 0}, \"y0\": 2.8, \"y1\": 3.2, \"fillcolor\": \"rgb(255, 127, 14)\"}, {\"x0\": \"2016-11-05 17:35:56\", \"x1\": \"2016-11-05 18:43:56\", \"type\": \"rect\", \"xref\": \"x\", \"yref\": \"y\", \"opacity\": 1, \"line\": {\"width\": 0}, \"y0\": 0.8, \"y1\": 1.2, \"fillcolor\": \"rgb(255, 127, 14)\"}, {\"x0\": \"2016-11-05 17:49:52\", \"x1\": \"2016-11-05 18:57:52\", \"type\": \"rect\", \"xref\": \"x\", \"yref\": \"y\", \"opacity\": 1, \"line\": {\"width\": 0}, \"y0\": -0.2, \"y1\": 0.2, \"fillcolor\": \"rgb(255, 127, 14)\"}, {\"x0\": \"2016-11-05 17:50:56\", \"x1\": \"2016-11-05 18:30:56\", \"type\": \"rect\", \"xref\": \"x\", \"yref\": \"y\", \"opacity\": 1, \"line\": {\"width\": 0}, \"y0\": 3.8, \"y1\": 4.2, \"fillcolor\": \"rgb(31, 119, 180)\"}, {\"x0\": \"2016-11-05 17:58:10\", \"x1\": \"2016-11-05 18:18:10\", \"type\": \"rect\", \"xref\": \"x\", \"yref\": \"y\", \"opacity\": 1, \"line\": {\"width\": 0}, \"y0\": 4.8, \"y1\": 5.2, \"fillcolor\": \"rgb(31, 119, 180)\"}, {\"x0\": \"2016-11-05 18:19:34\", \"x1\": \"2016-11-05 18:44:34\", \"type\": \"rect\", \"xref\": \"x\", \"yref\": \"y\", \"opacity\": 1, \"line\": {\"width\": 0}, \"y0\": 1.8, \"y1\": 2.2, \"fillcolor\": \"rgb(255, 127, 14)\"}, {\"x0\": \"2016-11-05 18:20:48\", \"x1\": \"2016-11-05 18:40:48\", \"type\": \"rect\", \"xref\": \"x\", \"yref\": \"y\", \"opacity\": 1, \"line\": {\"width\": 0}, \"y0\": 4.8, \"y1\": 5.2, \"fillcolor\": \"rgb(31, 119, 180)\"}, {\"x0\": \"2016-11-05 18:32:20\", \"x1\": \"2016-11-05 19:40:20\", \"type\": \"rect\", \"xref\": \"x\", \"yref\": \"y\", \"opacity\": 1, \"line\": {\"width\": 0}, \"y0\": 2.8, \"y1\": 3.2, \"fillcolor\": \"rgb(255, 127, 14)\"}, {\"x0\": \"2016-11-05 18:33:24\", \"x1\": \"2016-11-05 18:53:24\", \"type\": \"rect\", \"xref\": \"x\", \"yref\": \"y\", \"opacity\": 1, \"line\": {\"width\": 0}, \"y0\": 3.8, \"y1\": 4.2, \"fillcolor\": \"rgb(31, 119, 180)\"}, {\"x0\": \"2016-11-05 18:44:34\", \"x1\": \"2016-11-05 19:48:34\", \"type\": \"rect\", \"xref\": \"x\", \"yref\": \"y\", \"opacity\": 1, \"line\": {\"width\": 0}, \"y0\": 1.8, \"y1\": 2.2, \"fillcolor\": \"rgb(255, 127, 14)\"}, {\"x0\": \"2016-11-05 19:48:44\", \"x1\": \"2016-11-05 20:13:44\", \"type\": \"rect\", \"xref\": \"x\", \"yref\": \"y\", \"opacity\": 1, \"line\": {\"width\": 0}, \"y0\": 1.8, \"y1\": 2.2, \"fillcolor\": \"rgb(255, 127, 14)\"}, {\"x0\": \"2016-11-05 19:49:58\", \"x1\": \"2016-11-05 20:09:58\", \"type\": \"rect\", \"xref\": \"x\", \"yref\": \"y\", \"opacity\": 1, \"line\": {\"width\": 0}, \"y0\": 4.8, \"y1\": 5.2, \"fillcolor\": \"rgb(31, 119, 180)\"}, {\"x0\": \"2016-11-05 19:51:12\", \"x1\": \"2016-11-05 20:11:12\", \"type\": \"rect\", \"xref\": \"x\", \"yref\": \"y\", \"opacity\": 1, \"line\": {\"width\": 0}, \"y0\": 3.8, \"y1\": 4.2, \"fillcolor\": \"rgb(31, 119, 180)\"}, {\"x0\": \"2016-11-05 20:11:22\", \"x1\": \"2016-11-05 20:36:22\", \"type\": \"rect\", \"xref\": \"x\", \"yref\": \"y\", \"opacity\": 1, \"line\": {\"width\": 0}, \"y0\": 2.8, \"y1\": 3.2, \"fillcolor\": \"rgb(255, 127, 14)\"}, {\"x0\": \"2016-11-05 20:13:40\", \"x1\": \"2016-11-05 20:33:40\", \"type\": \"rect\", \"xref\": \"x\", \"yref\": \"y\", \"opacity\": 1, \"line\": {\"width\": 0}, \"y0\": 3.8, \"y1\": 4.2, \"fillcolor\": \"rgb(31, 119, 180)\"}, {\"x0\": \"2016-11-05 20:13:44\", \"x1\": \"2016-11-05 21:17:44\", \"type\": \"rect\", \"xref\": \"x\", \"yref\": \"y\", \"opacity\": 1, \"line\": {\"width\": 0}, \"y0\": 1.8, \"y1\": 2.2, \"fillcolor\": \"rgb(255, 127, 14)\"}, {\"x0\": \"2016-11-05 20:36:08\", \"x1\": \"2016-11-05 20:56:08\", \"type\": \"rect\", \"xref\": \"x\", \"yref\": \"y\", \"opacity\": 1, \"line\": {\"width\": 0}, \"y0\": 3.8, \"y1\": 4.2, \"fillcolor\": \"rgb(31, 119, 180)\"}, {\"x0\": \"2016-11-05 20:36:22\", \"x1\": \"2016-11-05 21:40:22\", \"type\": \"rect\", \"xref\": \"x\", \"yref\": \"y\", \"opacity\": 1, \"line\": {\"width\": 0}, \"y0\": 2.8, \"y1\": 3.2, \"fillcolor\": \"rgb(255, 127, 14)\"}, {\"x0\": \"2016-11-05 21:19:08\", \"x1\": \"2016-11-05 21:39:08\", \"type\": \"rect\", \"xref\": \"x\", \"yref\": \"y\", \"opacity\": 1, \"line\": {\"width\": 0}, \"y0\": 4.8, \"y1\": 5.2, \"fillcolor\": \"rgb(31, 119, 180)\"}, {\"x0\": \"2016-11-05 21:40:32\", \"x1\": \"2016-11-05 22:05:32\", \"type\": \"rect\", \"xref\": \"x\", \"yref\": \"y\", \"opacity\": 1, \"line\": {\"width\": 0}, \"y0\": 1.8, \"y1\": 2.2, \"fillcolor\": \"rgb(255, 127, 14)\"}, {\"x0\": \"2016-11-05 21:41:46\", \"x1\": \"2016-11-05 22:01:46\", \"type\": \"rect\", \"xref\": \"x\", \"yref\": \"y\", \"opacity\": 1, \"line\": {\"width\": 0}, \"y0\": 4.8, \"y1\": 5.2, \"fillcolor\": \"rgb(31, 119, 180)\"}, {\"x0\": \"2016-11-05 22:03:10\", \"x1\": \"2016-11-05 22:28:10\", \"type\": \"rect\", \"xref\": \"x\", \"yref\": \"y\", \"opacity\": 1, \"line\": {\"width\": 0}, \"y0\": 2.8, \"y1\": 3.2, \"fillcolor\": \"rgb(255, 127, 14)\"}, {\"x0\": \"2016-11-05 22:05:32\", \"x1\": \"2016-11-05 23:09:32\", \"type\": \"rect\", \"xref\": \"x\", \"yref\": \"y\", \"opacity\": 1, \"line\": {\"width\": 0}, \"y0\": 1.8, \"y1\": 2.2, \"fillcolor\": \"rgb(255, 127, 14)\"}, {\"x0\": \"2016-11-05 22:28:10\", \"x1\": \"2016-11-05 23:32:10\", \"type\": \"rect\", \"xref\": \"x\", \"yref\": \"y\", \"opacity\": 1, \"line\": {\"width\": 0}, \"y0\": 2.8, \"y1\": 3.2, \"fillcolor\": \"rgb(255, 127, 14)\"}, {\"x0\": \"2016-11-05 23:10:56\", \"x1\": \"2016-11-05 23:30:56\", \"type\": \"rect\", \"xref\": \"x\", \"yref\": \"y\", \"opacity\": 1, \"line\": {\"width\": 0}, \"y0\": 4.8, \"y1\": 5.2, \"fillcolor\": \"rgb(31, 119, 180)\"}, {\"x0\": \"2016-11-05 23:32:20\", \"x1\": \"2016-11-05 23:57:20\", \"type\": \"rect\", \"xref\": \"x\", \"yref\": \"y\", \"opacity\": 1, \"line\": {\"width\": 0}, \"y0\": 1.8, \"y1\": 2.2, \"fillcolor\": \"rgb(255, 127, 14)\"}, {\"x0\": \"2016-11-05 23:33:34\", \"x1\": \"2016-11-05 23:53:34\", \"type\": \"rect\", \"xref\": \"x\", \"yref\": \"y\", \"opacity\": 1, \"line\": {\"width\": 0}, \"y0\": 4.8, \"y1\": 5.2, \"fillcolor\": \"rgb(31, 119, 180)\"}, {\"x0\": \"2016-11-05 23:54:58\", \"x1\": \"2016-11-06 00:19:58\", \"type\": \"rect\", \"xref\": \"x\", \"yref\": \"y\", \"opacity\": 1, \"line\": {\"width\": 0}, \"y0\": 2.8, \"y1\": 3.2, \"fillcolor\": \"rgb(255, 127, 14)\"}, {\"x0\": \"2016-11-05 23:57:20\", \"x1\": \"2016-11-06 01:01:20\", \"type\": \"rect\", \"xref\": \"x\", \"yref\": \"y\", \"opacity\": 1, \"line\": {\"width\": 0}, \"y0\": 1.8, \"y1\": 2.2, \"fillcolor\": \"rgb(255, 127, 14)\"}, {\"x0\": \"2016-11-06 00:19:58\", \"x1\": \"2016-11-06 01:23:58\", \"type\": \"rect\", \"xref\": \"x\", \"yref\": \"y\", \"opacity\": 1, \"line\": {\"width\": 0}, \"y0\": 2.8, \"y1\": 3.2, \"fillcolor\": \"rgb(255, 127, 14)\"}, {\"x0\": \"2016-11-06 01:02:44\", \"x1\": \"2016-11-06 01:22:44\", \"type\": \"rect\", \"xref\": \"x\", \"yref\": \"y\", \"opacity\": 1, \"line\": {\"width\": 0}, \"y0\": 4.8, \"y1\": 5.2, \"fillcolor\": \"rgb(31, 119, 180)\"}, {\"x0\": \"2016-11-06 01:24:08\", \"x1\": \"2016-11-06 01:49:08\", \"type\": \"rect\", \"xref\": \"x\", \"yref\": \"y\", \"opacity\": 1, \"line\": {\"width\": 0}, \"y0\": 1.8, \"y1\": 2.2, \"fillcolor\": \"rgb(255, 127, 14)\"}, {\"x0\": \"2016-11-06 01:25:22\", \"x1\": \"2016-11-06 01:45:22\", \"type\": \"rect\", \"xref\": \"x\", \"yref\": \"y\", \"opacity\": 1, \"line\": {\"width\": 0}, \"y0\": 4.8, \"y1\": 5.2, \"fillcolor\": \"rgb(31, 119, 180)\"}, {\"x0\": \"2016-11-06 01:46:46\", \"x1\": \"2016-11-06 02:11:46\", \"type\": \"rect\", \"xref\": \"x\", \"yref\": \"y\", \"opacity\": 1, \"line\": {\"width\": 0}, \"y0\": 2.8, \"y1\": 3.2, \"fillcolor\": \"rgb(255, 127, 14)\"}, {\"x0\": \"2016-11-06 01:49:08\", \"x1\": \"2016-11-06 02:53:08\", \"type\": \"rect\", \"xref\": \"x\", \"yref\": \"y\", \"opacity\": 1, \"line\": {\"width\": 0}, \"y0\": 1.8, \"y1\": 2.2, \"fillcolor\": \"rgb(255, 127, 14)\"}, {\"x0\": \"2016-11-06 02:11:46\", \"x1\": \"2016-11-06 03:15:46\", \"type\": \"rect\", \"xref\": \"x\", \"yref\": \"y\", \"opacity\": 1, \"line\": {\"width\": 0}, \"y0\": 2.8, \"y1\": 3.2, \"fillcolor\": \"rgb(255, 127, 14)\"}, {\"x0\": \"2016-11-06 02:54:32\", \"x1\": \"2016-11-06 03:09:32\", \"type\": \"rect\", \"xref\": \"x\", \"yref\": \"y\", \"opacity\": 1, \"line\": {\"width\": 0}, \"y0\": 4.8, \"y1\": 5.2, \"fillcolor\": \"rgb(31, 119, 180)\"}, {\"x0\": \"2016-11-06 03:10:56\", \"x1\": \"2016-11-06 03:35:56\", \"type\": \"rect\", \"xref\": \"x\", \"yref\": \"y\", \"opacity\": 1, \"line\": {\"width\": 0}, \"y0\": 1.8, \"y1\": 2.2, \"fillcolor\": \"rgb(255, 127, 14)\"}, {\"x0\": \"2016-11-06 03:17:10\", \"x1\": \"2016-11-06 03:32:10\", \"type\": \"rect\", \"xref\": \"x\", \"yref\": \"y\", \"opacity\": 1, \"line\": {\"width\": 0}, \"y0\": 4.8, \"y1\": 5.2, \"fillcolor\": \"rgb(31, 119, 180)\"}, {\"x0\": \"2016-11-06 03:33:34\", \"x1\": \"2016-11-06 03:58:34\", \"type\": \"rect\", \"xref\": \"x\", \"yref\": \"y\", \"opacity\": 1, \"line\": {\"width\": 0}, \"y0\": 2.8, \"y1\": 3.2, \"fillcolor\": \"rgb(255, 127, 14)\"}, {\"x0\": \"2016-11-06 03:37:20\", \"x1\": \"2016-11-06 03:42:20\", \"type\": \"rect\", \"xref\": \"x\", \"yref\": \"y\", \"opacity\": 1, \"line\": {\"width\": 0}, \"y0\": 4.8, \"y1\": 5.2, \"fillcolor\": \"rgb(31, 119, 180)\"}, {\"x0\": \"2016-11-06 03:59:58\", \"x1\": \"2016-11-06 04:04:58\", \"type\": \"rect\", \"xref\": \"x\", \"yref\": \"y\", \"opacity\": 1, \"line\": {\"width\": 0}, \"y0\": 4.8, \"y1\": 5.2, \"fillcolor\": \"rgb(31, 119, 180)\"}], \"hovermode\": \"closest\", \"yaxis\": {\"showgrid\": false, \"ticktext\": [\"Machine4\", \"Machine3\", \"Machine2\", \"Machine1\", \"L/U2\", \"L/U1\"], \"tickvals\": [0, 1, 2, 3, 4, 5], \"range\": [-1, 7], \"autorange\": false, \"zeroline\": false}, \"xaxis\": {\"showgrid\": false, \"zeroline\": false, \"rangeselector\": {\"buttons\": [{\"count\": 7, \"label\": \"1w\", \"step\": \"day\", \"stepmode\": \"backward\"}, {\"count\": 1, \"label\": \"1m\", \"step\": \"month\", \"stepmode\": \"backward\"}, {\"count\": 6, \"label\": \"6m\", \"step\": \"month\", \"stepmode\": \"backward\"}, {\"count\": 1, \"label\": \"YTD\", \"step\": \"year\", \"stepmode\": \"todate\"}, {\"count\": 1, \"label\": \"1y\", \"step\": \"year\", \"stepmode\": \"backward\"}, {\"step\": \"all\"}]}, \"type\": \"date\"}}, {\"showLink\": true, \"linkText\": \"Export to plot.ly\"})});</script>"
      ]
     },
     "metadata": {},
     "output_type": "display_data"
    }
   ],
   "source": [
    "plotly.offline.iplot(allocate.plot_simstat(simstat))"
   ]
  },
  {
   "cell_type": "code",
   "execution_count": 8,
   "metadata": {},
   "outputs": [
    {
     "data": {
      "text/html": [
       "<div>\n",
       "<style scoped>\n",
       "    .dataframe tbody tr th:only-of-type {\n",
       "        vertical-align: middle;\n",
       "    }\n",
       "\n",
       "    .dataframe tbody tr th {\n",
       "        vertical-align: top;\n",
       "    }\n",
       "\n",
       "    .dataframe thead th {\n",
       "        text-align: right;\n",
       "    }\n",
       "</style>\n",
       "<table border=\"1\" class=\"dataframe\">\n",
       "  <thead>\n",
       "    <tr style=\"text-align: right;\">\n",
       "      <th></th>\n",
       "      <th>Quantity</th>\n",
       "      <th>TimeUTC</th>\n",
       "      <th>Part</th>\n",
       "      <th>Process</th>\n",
       "      <th>Path</th>\n",
       "    </tr>\n",
       "  </thead>\n",
       "  <tbody>\n",
       "    <tr>\n",
       "      <th>0</th>\n",
       "      <td>1</td>\n",
       "      <td>2016-11-05T13:28:02Z</td>\n",
       "      <td>part1</td>\n",
       "      <td>1</td>\n",
       "      <td>0</td>\n",
       "    </tr>\n",
       "    <tr>\n",
       "      <th>1</th>\n",
       "      <td>2</td>\n",
       "      <td>2016-11-05T13:45:30Z</td>\n",
       "      <td>part1</td>\n",
       "      <td>1</td>\n",
       "      <td>0</td>\n",
       "    </tr>\n",
       "    <tr>\n",
       "      <th>2</th>\n",
       "      <td>3</td>\n",
       "      <td>2016-11-05T15:19:50Z</td>\n",
       "      <td>part1</td>\n",
       "      <td>1</td>\n",
       "      <td>0</td>\n",
       "    </tr>\n",
       "    <tr>\n",
       "      <th>3</th>\n",
       "      <td>4</td>\n",
       "      <td>2016-11-05T16:49:00Z</td>\n",
       "      <td>part1</td>\n",
       "      <td>1</td>\n",
       "      <td>0</td>\n",
       "    </tr>\n",
       "    <tr>\n",
       "      <th>4</th>\n",
       "      <td>5</td>\n",
       "      <td>2016-11-05T18:18:10Z</td>\n",
       "      <td>part1</td>\n",
       "      <td>1</td>\n",
       "      <td>0</td>\n",
       "    </tr>\n",
       "    <tr>\n",
       "      <th>5</th>\n",
       "      <td>6</td>\n",
       "      <td>2016-11-05T18:40:48Z</td>\n",
       "      <td>part1</td>\n",
       "      <td>1</td>\n",
       "      <td>0</td>\n",
       "    </tr>\n",
       "    <tr>\n",
       "      <th>6</th>\n",
       "      <td>7</td>\n",
       "      <td>2016-11-05T20:09:58Z</td>\n",
       "      <td>part1</td>\n",
       "      <td>1</td>\n",
       "      <td>0</td>\n",
       "    </tr>\n",
       "    <tr>\n",
       "      <th>7</th>\n",
       "      <td>8</td>\n",
       "      <td>2016-11-05T21:39:08Z</td>\n",
       "      <td>part1</td>\n",
       "      <td>1</td>\n",
       "      <td>0</td>\n",
       "    </tr>\n",
       "    <tr>\n",
       "      <th>8</th>\n",
       "      <td>9</td>\n",
       "      <td>2016-11-05T22:01:46Z</td>\n",
       "      <td>part1</td>\n",
       "      <td>1</td>\n",
       "      <td>0</td>\n",
       "    </tr>\n",
       "    <tr>\n",
       "      <th>9</th>\n",
       "      <td>10</td>\n",
       "      <td>2016-11-05T23:30:56Z</td>\n",
       "      <td>part1</td>\n",
       "      <td>1</td>\n",
       "      <td>0</td>\n",
       "    </tr>\n",
       "    <tr>\n",
       "      <th>10</th>\n",
       "      <td>11</td>\n",
       "      <td>2016-11-05T23:53:34Z</td>\n",
       "      <td>part1</td>\n",
       "      <td>1</td>\n",
       "      <td>0</td>\n",
       "    </tr>\n",
       "    <tr>\n",
       "      <th>11</th>\n",
       "      <td>12</td>\n",
       "      <td>2016-11-06T01:22:44Z</td>\n",
       "      <td>part1</td>\n",
       "      <td>1</td>\n",
       "      <td>0</td>\n",
       "    </tr>\n",
       "    <tr>\n",
       "      <th>12</th>\n",
       "      <td>13</td>\n",
       "      <td>2016-11-06T01:45:22Z</td>\n",
       "      <td>part1</td>\n",
       "      <td>1</td>\n",
       "      <td>0</td>\n",
       "    </tr>\n",
       "    <tr>\n",
       "      <th>13</th>\n",
       "      <td>14</td>\n",
       "      <td>2016-11-06T03:09:32Z</td>\n",
       "      <td>part1</td>\n",
       "      <td>1</td>\n",
       "      <td>0</td>\n",
       "    </tr>\n",
       "    <tr>\n",
       "      <th>14</th>\n",
       "      <td>15</td>\n",
       "      <td>2016-11-06T03:32:10Z</td>\n",
       "      <td>part1</td>\n",
       "      <td>1</td>\n",
       "      <td>0</td>\n",
       "    </tr>\n",
       "    <tr>\n",
       "      <th>0</th>\n",
       "      <td>1</td>\n",
       "      <td>2016-11-05T15:19:50Z</td>\n",
       "      <td>part1</td>\n",
       "      <td>2</td>\n",
       "      <td>0</td>\n",
       "    </tr>\n",
       "    <tr>\n",
       "      <th>1</th>\n",
       "      <td>2</td>\n",
       "      <td>2016-11-05T16:49:00Z</td>\n",
       "      <td>part1</td>\n",
       "      <td>2</td>\n",
       "      <td>0</td>\n",
       "    </tr>\n",
       "    <tr>\n",
       "      <th>2</th>\n",
       "      <td>3</td>\n",
       "      <td>2016-11-05T18:18:10Z</td>\n",
       "      <td>part1</td>\n",
       "      <td>2</td>\n",
       "      <td>0</td>\n",
       "    </tr>\n",
       "    <tr>\n",
       "      <th>3</th>\n",
       "      <td>4</td>\n",
       "      <td>2016-11-05T18:40:48Z</td>\n",
       "      <td>part1</td>\n",
       "      <td>2</td>\n",
       "      <td>0</td>\n",
       "    </tr>\n",
       "    <tr>\n",
       "      <th>4</th>\n",
       "      <td>5</td>\n",
       "      <td>2016-11-05T20:09:58Z</td>\n",
       "      <td>part1</td>\n",
       "      <td>2</td>\n",
       "      <td>0</td>\n",
       "    </tr>\n",
       "    <tr>\n",
       "      <th>5</th>\n",
       "      <td>6</td>\n",
       "      <td>2016-11-05T21:39:08Z</td>\n",
       "      <td>part1</td>\n",
       "      <td>2</td>\n",
       "      <td>0</td>\n",
       "    </tr>\n",
       "    <tr>\n",
       "      <th>6</th>\n",
       "      <td>7</td>\n",
       "      <td>2016-11-05T22:01:46Z</td>\n",
       "      <td>part1</td>\n",
       "      <td>2</td>\n",
       "      <td>0</td>\n",
       "    </tr>\n",
       "    <tr>\n",
       "      <th>7</th>\n",
       "      <td>8</td>\n",
       "      <td>2016-11-05T23:30:56Z</td>\n",
       "      <td>part1</td>\n",
       "      <td>2</td>\n",
       "      <td>0</td>\n",
       "    </tr>\n",
       "    <tr>\n",
       "      <th>8</th>\n",
       "      <td>9</td>\n",
       "      <td>2016-11-05T23:53:34Z</td>\n",
       "      <td>part1</td>\n",
       "      <td>2</td>\n",
       "      <td>0</td>\n",
       "    </tr>\n",
       "    <tr>\n",
       "      <th>9</th>\n",
       "      <td>10</td>\n",
       "      <td>2016-11-06T01:22:44Z</td>\n",
       "      <td>part1</td>\n",
       "      <td>2</td>\n",
       "      <td>0</td>\n",
       "    </tr>\n",
       "    <tr>\n",
       "      <th>10</th>\n",
       "      <td>11</td>\n",
       "      <td>2016-11-06T01:45:22Z</td>\n",
       "      <td>part1</td>\n",
       "      <td>2</td>\n",
       "      <td>0</td>\n",
       "    </tr>\n",
       "    <tr>\n",
       "      <th>11</th>\n",
       "      <td>12</td>\n",
       "      <td>2016-11-06T03:09:32Z</td>\n",
       "      <td>part1</td>\n",
       "      <td>2</td>\n",
       "      <td>0</td>\n",
       "    </tr>\n",
       "    <tr>\n",
       "      <th>12</th>\n",
       "      <td>13</td>\n",
       "      <td>2016-11-06T03:32:10Z</td>\n",
       "      <td>part1</td>\n",
       "      <td>2</td>\n",
       "      <td>0</td>\n",
       "    </tr>\n",
       "    <tr>\n",
       "      <th>13</th>\n",
       "      <td>14</td>\n",
       "      <td>2016-11-06T03:42:20Z</td>\n",
       "      <td>part1</td>\n",
       "      <td>2</td>\n",
       "      <td>0</td>\n",
       "    </tr>\n",
       "    <tr>\n",
       "      <th>14</th>\n",
       "      <td>15</td>\n",
       "      <td>2016-11-06T04:04:58Z</td>\n",
       "      <td>part1</td>\n",
       "      <td>2</td>\n",
       "      <td>0</td>\n",
       "    </tr>\n",
       "    <tr>\n",
       "      <th>0</th>\n",
       "      <td>2</td>\n",
       "      <td>2016-11-05T14:13:16Z</td>\n",
       "      <td>part2</td>\n",
       "      <td>1</td>\n",
       "      <td>0</td>\n",
       "    </tr>\n",
       "    <tr>\n",
       "      <th>1</th>\n",
       "      <td>4</td>\n",
       "      <td>2016-11-05T15:41:04Z</td>\n",
       "      <td>part2</td>\n",
       "      <td>1</td>\n",
       "      <td>0</td>\n",
       "    </tr>\n",
       "    <tr>\n",
       "      <th>2</th>\n",
       "      <td>6</td>\n",
       "      <td>2016-11-05T16:23:32Z</td>\n",
       "      <td>part2</td>\n",
       "      <td>1</td>\n",
       "      <td>0</td>\n",
       "    </tr>\n",
       "    <tr>\n",
       "      <th>3</th>\n",
       "      <td>8</td>\n",
       "      <td>2016-11-05T17:06:00Z</td>\n",
       "      <td>part2</td>\n",
       "      <td>1</td>\n",
       "      <td>0</td>\n",
       "    </tr>\n",
       "    <tr>\n",
       "      <th>4</th>\n",
       "      <td>10</td>\n",
       "      <td>2016-11-05T17:48:28Z</td>\n",
       "      <td>part2</td>\n",
       "      <td>1</td>\n",
       "      <td>0</td>\n",
       "    </tr>\n",
       "    <tr>\n",
       "      <th>5</th>\n",
       "      <td>12</td>\n",
       "      <td>2016-11-05T18:30:56Z</td>\n",
       "      <td>part2</td>\n",
       "      <td>1</td>\n",
       "      <td>0</td>\n",
       "    </tr>\n",
       "    <tr>\n",
       "      <th>6</th>\n",
       "      <td>14</td>\n",
       "      <td>2016-11-05T18:53:24Z</td>\n",
       "      <td>part2</td>\n",
       "      <td>1</td>\n",
       "      <td>0</td>\n",
       "    </tr>\n",
       "    <tr>\n",
       "      <th>7</th>\n",
       "      <td>16</td>\n",
       "      <td>2016-11-05T20:11:12Z</td>\n",
       "      <td>part2</td>\n",
       "      <td>1</td>\n",
       "      <td>0</td>\n",
       "    </tr>\n",
       "    <tr>\n",
       "      <th>8</th>\n",
       "      <td>18</td>\n",
       "      <td>2016-11-05T20:33:40Z</td>\n",
       "      <td>part2</td>\n",
       "      <td>1</td>\n",
       "      <td>0</td>\n",
       "    </tr>\n",
       "    <tr>\n",
       "      <th>9</th>\n",
       "      <td>20</td>\n",
       "      <td>2016-11-05T20:56:08Z</td>\n",
       "      <td>part2</td>\n",
       "      <td>1</td>\n",
       "      <td>0</td>\n",
       "    </tr>\n",
       "  </tbody>\n",
       "</table>\n",
       "</div>"
      ],
      "text/plain": [
       "    Quantity               TimeUTC   Part  Process  Path\n",
       "0          1  2016-11-05T13:28:02Z  part1        1     0\n",
       "1          2  2016-11-05T13:45:30Z  part1        1     0\n",
       "2          3  2016-11-05T15:19:50Z  part1        1     0\n",
       "3          4  2016-11-05T16:49:00Z  part1        1     0\n",
       "4          5  2016-11-05T18:18:10Z  part1        1     0\n",
       "5          6  2016-11-05T18:40:48Z  part1        1     0\n",
       "6          7  2016-11-05T20:09:58Z  part1        1     0\n",
       "7          8  2016-11-05T21:39:08Z  part1        1     0\n",
       "8          9  2016-11-05T22:01:46Z  part1        1     0\n",
       "9         10  2016-11-05T23:30:56Z  part1        1     0\n",
       "10        11  2016-11-05T23:53:34Z  part1        1     0\n",
       "11        12  2016-11-06T01:22:44Z  part1        1     0\n",
       "12        13  2016-11-06T01:45:22Z  part1        1     0\n",
       "13        14  2016-11-06T03:09:32Z  part1        1     0\n",
       "14        15  2016-11-06T03:32:10Z  part1        1     0\n",
       "0          1  2016-11-05T15:19:50Z  part1        2     0\n",
       "1          2  2016-11-05T16:49:00Z  part1        2     0\n",
       "2          3  2016-11-05T18:18:10Z  part1        2     0\n",
       "3          4  2016-11-05T18:40:48Z  part1        2     0\n",
       "4          5  2016-11-05T20:09:58Z  part1        2     0\n",
       "5          6  2016-11-05T21:39:08Z  part1        2     0\n",
       "6          7  2016-11-05T22:01:46Z  part1        2     0\n",
       "7          8  2016-11-05T23:30:56Z  part1        2     0\n",
       "8          9  2016-11-05T23:53:34Z  part1        2     0\n",
       "9         10  2016-11-06T01:22:44Z  part1        2     0\n",
       "10        11  2016-11-06T01:45:22Z  part1        2     0\n",
       "11        12  2016-11-06T03:09:32Z  part1        2     0\n",
       "12        13  2016-11-06T03:32:10Z  part1        2     0\n",
       "13        14  2016-11-06T03:42:20Z  part1        2     0\n",
       "14        15  2016-11-06T04:04:58Z  part1        2     0\n",
       "0          2  2016-11-05T14:13:16Z  part2        1     0\n",
       "1          4  2016-11-05T15:41:04Z  part2        1     0\n",
       "2          6  2016-11-05T16:23:32Z  part2        1     0\n",
       "3          8  2016-11-05T17:06:00Z  part2        1     0\n",
       "4         10  2016-11-05T17:48:28Z  part2        1     0\n",
       "5         12  2016-11-05T18:30:56Z  part2        1     0\n",
       "6         14  2016-11-05T18:53:24Z  part2        1     0\n",
       "7         16  2016-11-05T20:11:12Z  part2        1     0\n",
       "8         18  2016-11-05T20:33:40Z  part2        1     0\n",
       "9         20  2016-11-05T20:56:08Z  part2        1     0"
      ]
     },
     "execution_count": 8,
     "metadata": {},
     "output_type": "execute_result"
    }
   ],
   "source": [
    "simprod = allocate.simprod(results)\n",
    "simprod"
   ]
  },
  {
   "cell_type": "code",
   "execution_count": 9,
   "metadata": {},
   "outputs": [
    {
     "data": {
      "application/vnd.plotly.v1+json": {
       "data": [
        {
         "name": "part1 1:0",
         "type": "scatter",
         "x": [
          "2016-11-05T13:28:02Z",
          "2016-11-05T13:45:30Z",
          "2016-11-05T15:19:50Z",
          "2016-11-05T16:49:00Z",
          "2016-11-05T18:18:10Z",
          "2016-11-05T18:40:48Z",
          "2016-11-05T20:09:58Z",
          "2016-11-05T21:39:08Z",
          "2016-11-05T22:01:46Z",
          "2016-11-05T23:30:56Z",
          "2016-11-05T23:53:34Z",
          "2016-11-06T01:22:44Z",
          "2016-11-06T01:45:22Z",
          "2016-11-06T03:09:32Z",
          "2016-11-06T03:32:10Z"
         ],
         "y": [
          1,
          2,
          3,
          4,
          5,
          6,
          7,
          8,
          9,
          10,
          11,
          12,
          13,
          14,
          15
         ]
        },
        {
         "name": "part1 2:0",
         "type": "scatter",
         "x": [
          "2016-11-05T15:19:50Z",
          "2016-11-05T16:49:00Z",
          "2016-11-05T18:18:10Z",
          "2016-11-05T18:40:48Z",
          "2016-11-05T20:09:58Z",
          "2016-11-05T21:39:08Z",
          "2016-11-05T22:01:46Z",
          "2016-11-05T23:30:56Z",
          "2016-11-05T23:53:34Z",
          "2016-11-06T01:22:44Z",
          "2016-11-06T01:45:22Z",
          "2016-11-06T03:09:32Z",
          "2016-11-06T03:32:10Z",
          "2016-11-06T03:42:20Z",
          "2016-11-06T04:04:58Z"
         ],
         "y": [
          1,
          2,
          3,
          4,
          5,
          6,
          7,
          8,
          9,
          10,
          11,
          12,
          13,
          14,
          15
         ]
        },
        {
         "name": "part2 1:0",
         "type": "scatter",
         "x": [
          "2016-11-05T14:13:16Z",
          "2016-11-05T15:41:04Z",
          "2016-11-05T16:23:32Z",
          "2016-11-05T17:06:00Z",
          "2016-11-05T17:48:28Z",
          "2016-11-05T18:30:56Z",
          "2016-11-05T18:53:24Z",
          "2016-11-05T20:11:12Z",
          "2016-11-05T20:33:40Z",
          "2016-11-05T20:56:08Z"
         ],
         "y": [
          2,
          4,
          6,
          8,
          10,
          12,
          14,
          16,
          18,
          20
         ]
        }
       ],
       "layout": {}
      },
      "text/html": [
       "<div id=\"34f438a4-39df-4284-9162-84dae381bb1d\" style=\"height: 525px; width: 100%;\" class=\"plotly-graph-div\"></div><script type=\"text/javascript\">require([\"plotly\"], function(Plotly) { window.PLOTLYENV=window.PLOTLYENV || {};window.PLOTLYENV.BASE_URL=\"https://plot.ly\";Plotly.newPlot(\"34f438a4-39df-4284-9162-84dae381bb1d\", [{\"type\": \"scatter\", \"x\": [\"2016-11-05T13:28:02Z\", \"2016-11-05T13:45:30Z\", \"2016-11-05T15:19:50Z\", \"2016-11-05T16:49:00Z\", \"2016-11-05T18:18:10Z\", \"2016-11-05T18:40:48Z\", \"2016-11-05T20:09:58Z\", \"2016-11-05T21:39:08Z\", \"2016-11-05T22:01:46Z\", \"2016-11-05T23:30:56Z\", \"2016-11-05T23:53:34Z\", \"2016-11-06T01:22:44Z\", \"2016-11-06T01:45:22Z\", \"2016-11-06T03:09:32Z\", \"2016-11-06T03:32:10Z\"], \"y\": [1, 2, 3, 4, 5, 6, 7, 8, 9, 10, 11, 12, 13, 14, 15], \"name\": \"part1 1:0\"}, {\"type\": \"scatter\", \"x\": [\"2016-11-05T15:19:50Z\", \"2016-11-05T16:49:00Z\", \"2016-11-05T18:18:10Z\", \"2016-11-05T18:40:48Z\", \"2016-11-05T20:09:58Z\", \"2016-11-05T21:39:08Z\", \"2016-11-05T22:01:46Z\", \"2016-11-05T23:30:56Z\", \"2016-11-05T23:53:34Z\", \"2016-11-06T01:22:44Z\", \"2016-11-06T01:45:22Z\", \"2016-11-06T03:09:32Z\", \"2016-11-06T03:32:10Z\", \"2016-11-06T03:42:20Z\", \"2016-11-06T04:04:58Z\"], \"y\": [1, 2, 3, 4, 5, 6, 7, 8, 9, 10, 11, 12, 13, 14, 15], \"name\": \"part1 2:0\"}, {\"type\": \"scatter\", \"x\": [\"2016-11-05T14:13:16Z\", \"2016-11-05T15:41:04Z\", \"2016-11-05T16:23:32Z\", \"2016-11-05T17:06:00Z\", \"2016-11-05T17:48:28Z\", \"2016-11-05T18:30:56Z\", \"2016-11-05T18:53:24Z\", \"2016-11-05T20:11:12Z\", \"2016-11-05T20:33:40Z\", \"2016-11-05T20:56:08Z\"], \"y\": [2, 4, 6, 8, 10, 12, 14, 16, 18, 20], \"name\": \"part2 1:0\"}], {}, {\"showLink\": true, \"linkText\": \"Export to plot.ly\"})});</script>"
      ],
      "text/vnd.plotly.v1+html": [
       "<div id=\"34f438a4-39df-4284-9162-84dae381bb1d\" style=\"height: 525px; width: 100%;\" class=\"plotly-graph-div\"></div><script type=\"text/javascript\">require([\"plotly\"], function(Plotly) { window.PLOTLYENV=window.PLOTLYENV || {};window.PLOTLYENV.BASE_URL=\"https://plot.ly\";Plotly.newPlot(\"34f438a4-39df-4284-9162-84dae381bb1d\", [{\"type\": \"scatter\", \"x\": [\"2016-11-05T13:28:02Z\", \"2016-11-05T13:45:30Z\", \"2016-11-05T15:19:50Z\", \"2016-11-05T16:49:00Z\", \"2016-11-05T18:18:10Z\", \"2016-11-05T18:40:48Z\", \"2016-11-05T20:09:58Z\", \"2016-11-05T21:39:08Z\", \"2016-11-05T22:01:46Z\", \"2016-11-05T23:30:56Z\", \"2016-11-05T23:53:34Z\", \"2016-11-06T01:22:44Z\", \"2016-11-06T01:45:22Z\", \"2016-11-06T03:09:32Z\", \"2016-11-06T03:32:10Z\"], \"y\": [1, 2, 3, 4, 5, 6, 7, 8, 9, 10, 11, 12, 13, 14, 15], \"name\": \"part1 1:0\"}, {\"type\": \"scatter\", \"x\": [\"2016-11-05T15:19:50Z\", \"2016-11-05T16:49:00Z\", \"2016-11-05T18:18:10Z\", \"2016-11-05T18:40:48Z\", \"2016-11-05T20:09:58Z\", \"2016-11-05T21:39:08Z\", \"2016-11-05T22:01:46Z\", \"2016-11-05T23:30:56Z\", \"2016-11-05T23:53:34Z\", \"2016-11-06T01:22:44Z\", \"2016-11-06T01:45:22Z\", \"2016-11-06T03:09:32Z\", \"2016-11-06T03:32:10Z\", \"2016-11-06T03:42:20Z\", \"2016-11-06T04:04:58Z\"], \"y\": [1, 2, 3, 4, 5, 6, 7, 8, 9, 10, 11, 12, 13, 14, 15], \"name\": \"part1 2:0\"}, {\"type\": \"scatter\", \"x\": [\"2016-11-05T14:13:16Z\", \"2016-11-05T15:41:04Z\", \"2016-11-05T16:23:32Z\", \"2016-11-05T17:06:00Z\", \"2016-11-05T17:48:28Z\", \"2016-11-05T18:30:56Z\", \"2016-11-05T18:53:24Z\", \"2016-11-05T20:11:12Z\", \"2016-11-05T20:33:40Z\", \"2016-11-05T20:56:08Z\"], \"y\": [2, 4, 6, 8, 10, 12, 14, 16, 18, 20], \"name\": \"part2 1:0\"}], {}, {\"showLink\": true, \"linkText\": \"Export to plot.ly\"})});</script>"
      ]
     },
     "metadata": {},
     "output_type": "display_data"
    }
   ],
   "source": [
    "plotly.offline.iplot(allocate.plot_simprod(results))"
   ]
  },
  {
   "cell_type": "code",
   "execution_count": null,
   "metadata": {
    "collapsed": true
   },
   "outputs": [],
   "source": []
  }
 ],
 "metadata": {
  "kernelspec": {
   "display_name": "Python 3",
   "language": "python",
   "name": "python3"
  },
  "language_info": {
   "codemirror_mode": {
    "name": "ipython",
    "version": 3
   },
   "file_extension": ".py",
   "mimetype": "text/x-python",
   "name": "python",
   "nbconvert_exporter": "python",
   "pygments_lexer": "ipython3",
   "version": "3.6.4"
  }
 },
 "nbformat": 4,
 "nbformat_minor": 2
}
