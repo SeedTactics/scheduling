{
 "cells": [
  {
   "cell_type": "code",
   "execution_count": 1,
   "metadata": {},
   "outputs": [
    {
     "data": {
      "text/html": [
       "<script>requirejs.config({paths: { 'plotly': ['https://cdn.plot.ly/plotly-latest.min']},});if(!window.Plotly) {{require(['plotly'],function(plotly) {window.Plotly=plotly;});}}</script>"
      ],
      "text/vnd.plotly.v1+html": [
       "<script>requirejs.config({paths: { 'plotly': ['https://cdn.plot.ly/plotly-latest.min']},});if(!window.Plotly) {{require(['plotly'],function(plotly) {window.Plotly=plotly;});}}</script>"
      ]
     },
     "metadata": {},
     "output_type": "display_data"
    }
   ],
   "source": [
    "import plotly\n",
    "import plotly.figure_factory as ff\n",
    "import numpy as nd\n",
    "import pandas as pd\n",
    "import functools\n",
    "from allocate import allocate\n",
    "plotly.offline.init_notebook_mode(connected=True)"
   ]
  },
  {
   "cell_type": "code",
   "execution_count": 2,
   "metadata": {
    "collapsed": true
   },
   "outputs": [],
   "source": [
    "run = functools.partial(\n",
    "    allocate,\n",
    "    flex_file=\"sample-flex.json\",\n",
    "    allocatecli=\"../allocatecli\",\n",
    "    plugin=\"../../pegboard/lib/pegboard/allocate/bin/Debug/netstandard2.0/BlackMaple.Pegboard.Allocate.dll\")"
   ]
  },
  {
   "cell_type": "code",
   "execution_count": 3,
   "metadata": {},
   "outputs": [
    {
     "data": {
      "text/html": [
       "<div>\n",
       "<style scoped>\n",
       "    .dataframe tbody tr th:only-of-type {\n",
       "        vertical-align: middle;\n",
       "    }\n",
       "\n",
       "    .dataframe tbody tr th {\n",
       "        vertical-align: top;\n",
       "    }\n",
       "\n",
       "    .dataframe thead th {\n",
       "        text-align: right;\n",
       "    }\n",
       "</style>\n",
       "<table border=\"1\" class=\"dataframe\">\n",
       "  <thead>\n",
       "    <tr style=\"text-align: right;\">\n",
       "      <th></th>\n",
       "      <th>BookingId</th>\n",
       "      <th>DueDate</th>\n",
       "      <th>Priority</th>\n",
       "      <th>Part</th>\n",
       "      <th>Quantity</th>\n",
       "    </tr>\n",
       "  </thead>\n",
       "  <tbody>\n",
       "    <tr>\n",
       "      <th>0</th>\n",
       "      <td>book1</td>\n",
       "      <td>2017-11-05</td>\n",
       "      <td>5</td>\n",
       "      <td>part1</td>\n",
       "      <td>15</td>\n",
       "    </tr>\n",
       "    <tr>\n",
       "      <th>1</th>\n",
       "      <td>book2</td>\n",
       "      <td>2017-11-05</td>\n",
       "      <td>10</td>\n",
       "      <td>part2</td>\n",
       "      <td>20</td>\n",
       "    </tr>\n",
       "  </tbody>\n",
       "</table>\n",
       "</div>"
      ],
      "text/plain": [
       "  BookingId    DueDate  Priority   Part  Quantity\n",
       "0     book1 2017-11-05         5  part1        15\n",
       "1     book2 2017-11-05        10  part2        20"
      ]
     },
     "execution_count": 3,
     "metadata": {},
     "output_type": "execute_result"
    }
   ],
   "source": [
    "# Create some bookings.  Can also load from sample CSV files\n",
    "bookings = pd.DataFrame([\n",
    "    (\"book1\", pd.Timestamp(\"2017-11-05\"), 5, \"part1\", 15),\n",
    "    (\"book2\", pd.Timestamp(\"2017-11-05\"), 10, \"part2\", 20)\n",
    "], columns=[\"BookingId\", \"DueDate\", \"Priority\", \"Part\", \"Quantity\"])\n",
    "bookings"
   ]
  },
  {
   "cell_type": "code",
   "execution_count": 4,
   "metadata": {
    "collapsed": true
   },
   "outputs": [],
   "source": [
    "results, simstat = run(bookings)"
   ]
  },
  {
   "cell_type": "code",
   "execution_count": 5,
   "metadata": {},
   "outputs": [
    {
     "data": {
      "application/vnd.plotly.v1+json": {
       "data": [
        {
         "marker": {
          "color": "white"
         },
         "name": "",
         "x": [
          "2016-11-05 07:01:14",
          "2016-11-05 07:06:14"
         ],
         "y": [
          5,
          5
         ]
        },
        {
         "marker": {
          "color": "white"
         },
         "name": "",
         "x": [
          "2016-11-05 07:02:28",
          "2016-11-05 07:22:28"
         ],
         "y": [
          4,
          4
         ]
        },
        {
         "marker": {
          "color": "white"
         },
         "name": "",
         "x": [
          "2016-11-05 07:07:38",
          "2016-11-05 08:11:38"
         ],
         "y": [
          3,
          3
         ]
        },
        {
         "marker": {
          "color": "white"
         },
         "name": "",
         "x": [
          "2016-11-05 07:08:42",
          "2016-11-05 07:13:42"
         ],
         "y": [
          5,
          5
         ]
        },
        {
         "marker": {
          "color": "white"
         },
         "name": "",
         "x": [
          "2016-11-05 07:15:06",
          "2016-11-05 08:19:06"
         ],
         "y": [
          2,
          2
         ]
        },
        {
         "marker": {
          "color": "white"
         },
         "name": "",
         "x": [
          "2016-11-05 07:23:52",
          "2016-11-05 08:31:52"
         ],
         "y": [
          1,
          1
         ]
        },
        {
         "marker": {
          "color": "white"
         },
         "name": "",
         "x": [
          "2016-11-05 07:24:56",
          "2016-11-05 07:44:56"
         ],
         "y": [
          4,
          4
         ]
        },
        {
         "marker": {
          "color": "white"
         },
         "name": "",
         "x": [
          "2016-11-05 07:46:20",
          "2016-11-05 08:54:20"
         ],
         "y": [
          0,
          0
         ]
        },
        {
         "marker": {
          "color": "white"
         },
         "name": "",
         "x": [
          "2016-11-05 07:47:24",
          "2016-11-05 08:07:24"
         ],
         "y": [
          4,
          4
         ]
        },
        {
         "marker": {
          "color": "white"
         },
         "name": "",
         "x": [
          "2016-11-05 08:09:52",
          "2016-11-05 08:29:52"
         ],
         "y": [
          4,
          4
         ]
        },
        {
         "marker": {
          "color": "white"
         },
         "name": "",
         "x": [
          "2016-11-05 08:11:48",
          "2016-11-05 09:19:48"
         ],
         "y": [
          3,
          3
         ]
        },
        {
         "marker": {
          "color": "white"
         },
         "name": "",
         "x": [
          "2016-11-05 08:13:02",
          "2016-11-05 08:28:02"
         ],
         "y": [
          5,
          5
         ]
        },
        {
         "marker": {
          "color": "white"
         },
         "name": "",
         "x": [
          "2016-11-05 08:29:26",
          "2016-11-05 08:54:26"
         ],
         "y": [
          2,
          2
         ]
        },
        {
         "marker": {
          "color": "white"
         },
         "name": "",
         "x": [
          "2016-11-05 08:30:30",
          "2016-11-05 08:45:30"
         ],
         "y": [
          5,
          5
         ]
        },
        {
         "marker": {
          "color": "white"
         },
         "name": "",
         "x": [
          "2016-11-05 08:33:16",
          "2016-11-05 09:13:16"
         ],
         "y": [
          4,
          4
         ]
        },
        {
         "marker": {
          "color": "white"
         },
         "name": "",
         "x": [
          "2016-11-05 08:54:26",
          "2016-11-05 09:58:26"
         ],
         "y": [
          2,
          2
         ]
        },
        {
         "marker": {
          "color": "white"
         },
         "name": "",
         "x": [
          "2016-11-05 09:19:58",
          "2016-11-05 09:44:58"
         ],
         "y": [
          3,
          3
         ]
        },
        {
         "marker": {
          "color": "white"
         },
         "name": "",
         "x": [
          "2016-11-05 09:19:58",
          "2016-11-05 10:27:58"
         ],
         "y": [
          1,
          1
         ]
        },
        {
         "marker": {
          "color": "white"
         },
         "name": "",
         "x": [
          "2016-11-05 09:21:12",
          "2016-11-05 10:01:12"
         ],
         "y": [
          4,
          4
         ]
        },
        {
         "marker": {
          "color": "white"
         },
         "name": "",
         "x": [
          "2016-11-05 09:44:58",
          "2016-11-05 10:48:58"
         ],
         "y": [
          3,
          3
         ]
        },
        {
         "marker": {
          "color": "white"
         },
         "name": "",
         "x": [
          "2016-11-05 09:58:36",
          "2016-11-05 11:06:36"
         ],
         "y": [
          2,
          2
         ]
        },
        {
         "marker": {
          "color": "white"
         },
         "name": "",
         "x": [
          "2016-11-05 09:59:50",
          "2016-11-05 10:19:50"
         ],
         "y": [
          5,
          5
         ]
        },
        {
         "marker": {
          "color": "white"
         },
         "name": "",
         "x": [
          "2016-11-05 10:02:36",
          "2016-11-05 11:10:36"
         ],
         "y": [
          0,
          0
         ]
        },
        {
         "marker": {
          "color": "white"
         },
         "name": "",
         "x": [
          "2016-11-05 10:03:40",
          "2016-11-05 10:43:40"
         ],
         "y": [
          4,
          4
         ]
        },
        {
         "marker": {
          "color": "white"
         },
         "name": "",
         "x": [
          "2016-11-05 11:06:46",
          "2016-11-05 11:31:46"
         ],
         "y": [
          2,
          2
         ]
        },
        {
         "marker": {
          "color": "white"
         },
         "name": "",
         "x": [
          "2016-11-05 11:08:00",
          "2016-11-05 11:28:00"
         ],
         "y": [
          5,
          5
         ]
        },
        {
         "marker": {
          "color": "white"
         },
         "name": "",
         "x": [
          "2016-11-05 11:09:14",
          "2016-11-05 11:49:14"
         ],
         "y": [
          4,
          4
         ]
        },
        {
         "marker": {
          "color": "white"
         },
         "name": "",
         "x": [
          "2016-11-05 11:10:46",
          "2016-11-05 12:18:46"
         ],
         "y": [
          0,
          0
         ]
        },
        {
         "marker": {
          "color": "white"
         },
         "name": "",
         "x": [
          "2016-11-05 11:29:24",
          "2016-11-05 11:54:24"
         ],
         "y": [
          3,
          3
         ]
        },
        {
         "marker": {
          "color": "white"
         },
         "name": "",
         "x": [
          "2016-11-05 11:31:46",
          "2016-11-05 12:35:46"
         ],
         "y": [
          2,
          2
         ]
        },
        {
         "marker": {
          "color": "white"
         },
         "name": "",
         "x": [
          "2016-11-05 11:50:38",
          "2016-11-05 12:58:38"
         ],
         "y": [
          1,
          1
         ]
        },
        {
         "marker": {
          "color": "white"
         },
         "name": "",
         "x": [
          "2016-11-05 11:51:42",
          "2016-11-05 12:31:42"
         ],
         "y": [
          4,
          4
         ]
        },
        {
         "marker": {
          "color": "white"
         },
         "name": "",
         "x": [
          "2016-11-05 11:54:24",
          "2016-11-05 12:58:24"
         ],
         "y": [
          3,
          3
         ]
        },
        {
         "marker": {
          "color": "white"
         },
         "name": "",
         "x": [
          "2016-11-05 12:33:06",
          "2016-11-05 13:41:06"
         ],
         "y": [
          0,
          0
         ]
        },
        {
         "marker": {
          "color": "white"
         },
         "name": "",
         "x": [
          "2016-11-05 12:34:10",
          "2016-11-05 13:14:10"
         ],
         "y": [
          4,
          4
         ]
        },
        {
         "marker": {
          "color": "white"
         },
         "name": "",
         "x": [
          "2016-11-05 12:37:10",
          "2016-11-05 12:57:10"
         ],
         "y": [
          5,
          5
         ]
        },
        {
         "marker": {
          "color": "white"
         },
         "name": "",
         "x": [
          "2016-11-05 12:58:34",
          "2016-11-05 13:23:34"
         ],
         "y": [
          2,
          2
         ]
        },
        {
         "marker": {
          "color": "white"
         },
         "name": "",
         "x": [
          "2016-11-05 12:59:48",
          "2016-11-05 13:19:48"
         ],
         "y": [
          5,
          5
         ]
        },
        {
         "marker": {
          "color": "white"
         },
         "name": "",
         "x": [
          "2016-11-05 13:15:34",
          "2016-11-05 14:23:34"
         ],
         "y": [
          1,
          1
         ]
        },
        {
         "marker": {
          "color": "white"
         },
         "name": "",
         "x": [
          "2016-11-05 13:16:38",
          "2016-11-05 13:36:38"
         ],
         "y": [
          4,
          4
         ]
        },
        {
         "marker": {
          "color": "white"
         },
         "name": "",
         "x": [
          "2016-11-05 13:21:12",
          "2016-11-05 13:46:12"
         ],
         "y": [
          3,
          3
         ]
        },
        {
         "marker": {
          "color": "white"
         },
         "name": "",
         "x": [
          "2016-11-05 13:23:34",
          "2016-11-05 14:27:34"
         ],
         "y": [
          2,
          2
         ]
        },
        {
         "marker": {
          "color": "white"
         },
         "name": "",
         "x": [
          "2016-11-05 13:39:06",
          "2016-11-05 13:59:06"
         ],
         "y": [
          4,
          4
         ]
        },
        {
         "marker": {
          "color": "white"
         },
         "name": "",
         "x": [
          "2016-11-05 13:46:12",
          "2016-11-05 14:50:12"
         ],
         "y": [
          3,
          3
         ]
        },
        {
         "marker": {
          "color": "white"
         },
         "name": "",
         "x": [
          "2016-11-05 14:01:34",
          "2016-11-05 14:21:34"
         ],
         "y": [
          4,
          4
         ]
        },
        {
         "marker": {
          "color": "white"
         },
         "name": "",
         "x": [
          "2016-11-05 14:24:58",
          "2016-11-05 14:44:58"
         ],
         "y": [
          4,
          4
         ]
        },
        {
         "marker": {
          "color": "white"
         },
         "name": "",
         "x": [
          "2016-11-05 14:28:58",
          "2016-11-05 14:48:58"
         ],
         "y": [
          5,
          5
         ]
        },
        {
         "marker": {
          "color": "white"
         },
         "name": "",
         "x": [
          "2016-11-05 14:50:22",
          "2016-11-05 15:15:22"
         ],
         "y": [
          2,
          2
         ]
        },
        {
         "marker": {
          "color": "white"
         },
         "name": "",
         "x": [
          "2016-11-05 14:51:36",
          "2016-11-05 15:11:36"
         ],
         "y": [
          5,
          5
         ]
        },
        {
         "marker": {
          "color": "white"
         },
         "name": "",
         "x": [
          "2016-11-05 15:13:00",
          "2016-11-05 15:38:00"
         ],
         "y": [
          3,
          3
         ]
        },
        {
         "marker": {
          "color": "white"
         },
         "name": "",
         "x": [
          "2016-11-05 15:15:22",
          "2016-11-05 16:19:22"
         ],
         "y": [
          2,
          2
         ]
        },
        {
         "marker": {
          "color": "white"
         },
         "name": "",
         "x": [
          "2016-11-05 15:38:00",
          "2016-11-05 16:42:00"
         ],
         "y": [
          3,
          3
         ]
        },
        {
         "marker": {
          "color": "white"
         },
         "name": "",
         "x": [
          "2016-11-05 16:20:46",
          "2016-11-05 16:40:46"
         ],
         "y": [
          5,
          5
         ]
        },
        {
         "marker": {
          "color": "white"
         },
         "name": "",
         "x": [
          "2016-11-05 16:42:10",
          "2016-11-05 17:07:10"
         ],
         "y": [
          2,
          2
         ]
        },
        {
         "marker": {
          "color": "white"
         },
         "name": "",
         "x": [
          "2016-11-05 16:43:24",
          "2016-11-05 17:03:24"
         ],
         "y": [
          5,
          5
         ]
        },
        {
         "marker": {
          "color": "white"
         },
         "name": "",
         "x": [
          "2016-11-05 17:04:48",
          "2016-11-05 17:29:48"
         ],
         "y": [
          3,
          3
         ]
        },
        {
         "marker": {
          "color": "white"
         },
         "name": "",
         "x": [
          "2016-11-05 17:07:10",
          "2016-11-05 18:11:10"
         ],
         "y": [
          2,
          2
         ]
        },
        {
         "marker": {
          "color": "white"
         },
         "name": "",
         "x": [
          "2016-11-05 17:29:48",
          "2016-11-05 18:33:48"
         ],
         "y": [
          3,
          3
         ]
        },
        {
         "marker": {
          "color": "white"
         },
         "name": "",
         "x": [
          "2016-11-05 18:12:34",
          "2016-11-05 18:32:34"
         ],
         "y": [
          5,
          5
         ]
        },
        {
         "marker": {
          "color": "white"
         },
         "name": "",
         "x": [
          "2016-11-05 18:33:58",
          "2016-11-05 18:58:58"
         ],
         "y": [
          2,
          2
         ]
        },
        {
         "marker": {
          "color": "white"
         },
         "name": "",
         "x": [
          "2016-11-05 18:35:12",
          "2016-11-05 18:55:12"
         ],
         "y": [
          5,
          5
         ]
        },
        {
         "marker": {
          "color": "white"
         },
         "name": "",
         "x": [
          "2016-11-05 18:56:36",
          "2016-11-05 19:21:36"
         ],
         "y": [
          3,
          3
         ]
        },
        {
         "marker": {
          "color": "white"
         },
         "name": "",
         "x": [
          "2016-11-05 18:58:58",
          "2016-11-05 20:02:58"
         ],
         "y": [
          2,
          2
         ]
        },
        {
         "marker": {
          "color": "white"
         },
         "name": "",
         "x": [
          "2016-11-05 19:21:36",
          "2016-11-05 20:25:36"
         ],
         "y": [
          3,
          3
         ]
        },
        {
         "marker": {
          "color": "white"
         },
         "name": "",
         "x": [
          "2016-11-05 20:04:22",
          "2016-11-05 20:24:22"
         ],
         "y": [
          5,
          5
         ]
        },
        {
         "marker": {
          "color": "white"
         },
         "name": "",
         "x": [
          "2016-11-05 20:25:46",
          "2016-11-05 20:50:46"
         ],
         "y": [
          2,
          2
         ]
        },
        {
         "marker": {
          "color": "white"
         },
         "name": "",
         "x": [
          "2016-11-05 20:27:00",
          "2016-11-05 20:42:00"
         ],
         "y": [
          5,
          5
         ]
        },
        {
         "marker": {
          "color": "white"
         },
         "name": "",
         "x": [
          "2016-11-05 20:43:24",
          "2016-11-05 21:08:24"
         ],
         "y": [
          3,
          3
         ]
        },
        {
         "marker": {
          "color": "white"
         },
         "name": "",
         "x": [
          "2016-11-05 20:50:46",
          "2016-11-05 21:54:46"
         ],
         "y": [
          2,
          2
         ]
        },
        {
         "marker": {
          "color": "white"
         },
         "name": "",
         "x": [
          "2016-11-05 21:09:48",
          "2016-11-05 21:14:48"
         ],
         "y": [
          5,
          5
         ]
        },
        {
         "marker": {
          "color": "white"
         },
         "name": "",
         "x": [
          "2016-11-05 21:56:10",
          "2016-11-05 22:11:10"
         ],
         "y": [
          5,
          5
         ]
        },
        {
         "marker": {
          "color": "white"
         },
         "name": "",
         "x": [
          "2016-11-05 22:12:34",
          "2016-11-05 22:37:34"
         ],
         "y": [
          3,
          3
         ]
        },
        {
         "marker": {
          "color": "white"
         },
         "name": "",
         "x": [
          "2016-11-05 22:38:58",
          "2016-11-05 22:43:58"
         ],
         "y": [
          5,
          5
         ]
        }
       ],
       "layout": {
        "height": 600,
        "hovermode": "closest",
        "shapes": [
         {
          "fillcolor": "rgb(31, 119, 180)",
          "line": {
           "width": 0
          },
          "opacity": 1,
          "type": "rect",
          "x0": "2016-11-05 07:01:14",
          "x1": "2016-11-05 07:06:14",
          "xref": "x",
          "y0": 4.8,
          "y1": 5.2,
          "yref": "y"
         },
         {
          "fillcolor": "rgb(31, 119, 180)",
          "line": {
           "width": 0
          },
          "opacity": 1,
          "type": "rect",
          "x0": "2016-11-05 07:02:28",
          "x1": "2016-11-05 07:22:28",
          "xref": "x",
          "y0": 3.8,
          "y1": 4.2,
          "yref": "y"
         },
         {
          "fillcolor": "rgb(255, 127, 14)",
          "line": {
           "width": 0
          },
          "opacity": 1,
          "type": "rect",
          "x0": "2016-11-05 07:07:38",
          "x1": "2016-11-05 08:11:38",
          "xref": "x",
          "y0": 2.8,
          "y1": 3.2,
          "yref": "y"
         },
         {
          "fillcolor": "rgb(31, 119, 180)",
          "line": {
           "width": 0
          },
          "opacity": 1,
          "type": "rect",
          "x0": "2016-11-05 07:08:42",
          "x1": "2016-11-05 07:13:42",
          "xref": "x",
          "y0": 4.8,
          "y1": 5.2,
          "yref": "y"
         },
         {
          "fillcolor": "rgb(255, 127, 14)",
          "line": {
           "width": 0
          },
          "opacity": 1,
          "type": "rect",
          "x0": "2016-11-05 07:15:06",
          "x1": "2016-11-05 08:19:06",
          "xref": "x",
          "y0": 1.8,
          "y1": 2.2,
          "yref": "y"
         },
         {
          "fillcolor": "rgb(255, 127, 14)",
          "line": {
           "width": 0
          },
          "opacity": 1,
          "type": "rect",
          "x0": "2016-11-05 07:23:52",
          "x1": "2016-11-05 08:31:52",
          "xref": "x",
          "y0": 0.8,
          "y1": 1.2,
          "yref": "y"
         },
         {
          "fillcolor": "rgb(31, 119, 180)",
          "line": {
           "width": 0
          },
          "opacity": 1,
          "type": "rect",
          "x0": "2016-11-05 07:24:56",
          "x1": "2016-11-05 07:44:56",
          "xref": "x",
          "y0": 3.8,
          "y1": 4.2,
          "yref": "y"
         },
         {
          "fillcolor": "rgb(255, 127, 14)",
          "line": {
           "width": 0
          },
          "opacity": 1,
          "type": "rect",
          "x0": "2016-11-05 07:46:20",
          "x1": "2016-11-05 08:54:20",
          "xref": "x",
          "y0": -0.2,
          "y1": 0.2,
          "yref": "y"
         },
         {
          "fillcolor": "rgb(31, 119, 180)",
          "line": {
           "width": 0
          },
          "opacity": 1,
          "type": "rect",
          "x0": "2016-11-05 07:47:24",
          "x1": "2016-11-05 08:07:24",
          "xref": "x",
          "y0": 3.8,
          "y1": 4.2,
          "yref": "y"
         },
         {
          "fillcolor": "rgb(31, 119, 180)",
          "line": {
           "width": 0
          },
          "opacity": 1,
          "type": "rect",
          "x0": "2016-11-05 08:09:52",
          "x1": "2016-11-05 08:29:52",
          "xref": "x",
          "y0": 3.8,
          "y1": 4.2,
          "yref": "y"
         },
         {
          "fillcolor": "rgb(255, 127, 14)",
          "line": {
           "width": 0
          },
          "opacity": 1,
          "type": "rect",
          "x0": "2016-11-05 08:11:48",
          "x1": "2016-11-05 09:19:48",
          "xref": "x",
          "y0": 2.8,
          "y1": 3.2,
          "yref": "y"
         },
         {
          "fillcolor": "rgb(31, 119, 180)",
          "line": {
           "width": 0
          },
          "opacity": 1,
          "type": "rect",
          "x0": "2016-11-05 08:13:02",
          "x1": "2016-11-05 08:28:02",
          "xref": "x",
          "y0": 4.8,
          "y1": 5.2,
          "yref": "y"
         },
         {
          "fillcolor": "rgb(255, 127, 14)",
          "line": {
           "width": 0
          },
          "opacity": 1,
          "type": "rect",
          "x0": "2016-11-05 08:29:26",
          "x1": "2016-11-05 08:54:26",
          "xref": "x",
          "y0": 1.8,
          "y1": 2.2,
          "yref": "y"
         },
         {
          "fillcolor": "rgb(31, 119, 180)",
          "line": {
           "width": 0
          },
          "opacity": 1,
          "type": "rect",
          "x0": "2016-11-05 08:30:30",
          "x1": "2016-11-05 08:45:30",
          "xref": "x",
          "y0": 4.8,
          "y1": 5.2,
          "yref": "y"
         },
         {
          "fillcolor": "rgb(31, 119, 180)",
          "line": {
           "width": 0
          },
          "opacity": 1,
          "type": "rect",
          "x0": "2016-11-05 08:33:16",
          "x1": "2016-11-05 09:13:16",
          "xref": "x",
          "y0": 3.8,
          "y1": 4.2,
          "yref": "y"
         },
         {
          "fillcolor": "rgb(255, 127, 14)",
          "line": {
           "width": 0
          },
          "opacity": 1,
          "type": "rect",
          "x0": "2016-11-05 08:54:26",
          "x1": "2016-11-05 09:58:26",
          "xref": "x",
          "y0": 1.8,
          "y1": 2.2,
          "yref": "y"
         },
         {
          "fillcolor": "rgb(255, 127, 14)",
          "line": {
           "width": 0
          },
          "opacity": 1,
          "type": "rect",
          "x0": "2016-11-05 09:19:58",
          "x1": "2016-11-05 09:44:58",
          "xref": "x",
          "y0": 2.8,
          "y1": 3.2,
          "yref": "y"
         },
         {
          "fillcolor": "rgb(255, 127, 14)",
          "line": {
           "width": 0
          },
          "opacity": 1,
          "type": "rect",
          "x0": "2016-11-05 09:19:58",
          "x1": "2016-11-05 10:27:58",
          "xref": "x",
          "y0": 0.8,
          "y1": 1.2,
          "yref": "y"
         },
         {
          "fillcolor": "rgb(31, 119, 180)",
          "line": {
           "width": 0
          },
          "opacity": 1,
          "type": "rect",
          "x0": "2016-11-05 09:21:12",
          "x1": "2016-11-05 10:01:12",
          "xref": "x",
          "y0": 3.8,
          "y1": 4.2,
          "yref": "y"
         },
         {
          "fillcolor": "rgb(255, 127, 14)",
          "line": {
           "width": 0
          },
          "opacity": 1,
          "type": "rect",
          "x0": "2016-11-05 09:44:58",
          "x1": "2016-11-05 10:48:58",
          "xref": "x",
          "y0": 2.8,
          "y1": 3.2,
          "yref": "y"
         },
         {
          "fillcolor": "rgb(255, 127, 14)",
          "line": {
           "width": 0
          },
          "opacity": 1,
          "type": "rect",
          "x0": "2016-11-05 09:58:36",
          "x1": "2016-11-05 11:06:36",
          "xref": "x",
          "y0": 1.8,
          "y1": 2.2,
          "yref": "y"
         },
         {
          "fillcolor": "rgb(31, 119, 180)",
          "line": {
           "width": 0
          },
          "opacity": 1,
          "type": "rect",
          "x0": "2016-11-05 09:59:50",
          "x1": "2016-11-05 10:19:50",
          "xref": "x",
          "y0": 4.8,
          "y1": 5.2,
          "yref": "y"
         },
         {
          "fillcolor": "rgb(255, 127, 14)",
          "line": {
           "width": 0
          },
          "opacity": 1,
          "type": "rect",
          "x0": "2016-11-05 10:02:36",
          "x1": "2016-11-05 11:10:36",
          "xref": "x",
          "y0": -0.2,
          "y1": 0.2,
          "yref": "y"
         },
         {
          "fillcolor": "rgb(31, 119, 180)",
          "line": {
           "width": 0
          },
          "opacity": 1,
          "type": "rect",
          "x0": "2016-11-05 10:03:40",
          "x1": "2016-11-05 10:43:40",
          "xref": "x",
          "y0": 3.8,
          "y1": 4.2,
          "yref": "y"
         },
         {
          "fillcolor": "rgb(255, 127, 14)",
          "line": {
           "width": 0
          },
          "opacity": 1,
          "type": "rect",
          "x0": "2016-11-05 11:06:46",
          "x1": "2016-11-05 11:31:46",
          "xref": "x",
          "y0": 1.8,
          "y1": 2.2,
          "yref": "y"
         },
         {
          "fillcolor": "rgb(31, 119, 180)",
          "line": {
           "width": 0
          },
          "opacity": 1,
          "type": "rect",
          "x0": "2016-11-05 11:08:00",
          "x1": "2016-11-05 11:28:00",
          "xref": "x",
          "y0": 4.8,
          "y1": 5.2,
          "yref": "y"
         },
         {
          "fillcolor": "rgb(31, 119, 180)",
          "line": {
           "width": 0
          },
          "opacity": 1,
          "type": "rect",
          "x0": "2016-11-05 11:09:14",
          "x1": "2016-11-05 11:49:14",
          "xref": "x",
          "y0": 3.8,
          "y1": 4.2,
          "yref": "y"
         },
         {
          "fillcolor": "rgb(255, 127, 14)",
          "line": {
           "width": 0
          },
          "opacity": 1,
          "type": "rect",
          "x0": "2016-11-05 11:10:46",
          "x1": "2016-11-05 12:18:46",
          "xref": "x",
          "y0": -0.2,
          "y1": 0.2,
          "yref": "y"
         },
         {
          "fillcolor": "rgb(255, 127, 14)",
          "line": {
           "width": 0
          },
          "opacity": 1,
          "type": "rect",
          "x0": "2016-11-05 11:29:24",
          "x1": "2016-11-05 11:54:24",
          "xref": "x",
          "y0": 2.8,
          "y1": 3.2,
          "yref": "y"
         },
         {
          "fillcolor": "rgb(255, 127, 14)",
          "line": {
           "width": 0
          },
          "opacity": 1,
          "type": "rect",
          "x0": "2016-11-05 11:31:46",
          "x1": "2016-11-05 12:35:46",
          "xref": "x",
          "y0": 1.8,
          "y1": 2.2,
          "yref": "y"
         },
         {
          "fillcolor": "rgb(255, 127, 14)",
          "line": {
           "width": 0
          },
          "opacity": 1,
          "type": "rect",
          "x0": "2016-11-05 11:50:38",
          "x1": "2016-11-05 12:58:38",
          "xref": "x",
          "y0": 0.8,
          "y1": 1.2,
          "yref": "y"
         },
         {
          "fillcolor": "rgb(31, 119, 180)",
          "line": {
           "width": 0
          },
          "opacity": 1,
          "type": "rect",
          "x0": "2016-11-05 11:51:42",
          "x1": "2016-11-05 12:31:42",
          "xref": "x",
          "y0": 3.8,
          "y1": 4.2,
          "yref": "y"
         },
         {
          "fillcolor": "rgb(255, 127, 14)",
          "line": {
           "width": 0
          },
          "opacity": 1,
          "type": "rect",
          "x0": "2016-11-05 11:54:24",
          "x1": "2016-11-05 12:58:24",
          "xref": "x",
          "y0": 2.8,
          "y1": 3.2,
          "yref": "y"
         },
         {
          "fillcolor": "rgb(255, 127, 14)",
          "line": {
           "width": 0
          },
          "opacity": 1,
          "type": "rect",
          "x0": "2016-11-05 12:33:06",
          "x1": "2016-11-05 13:41:06",
          "xref": "x",
          "y0": -0.2,
          "y1": 0.2,
          "yref": "y"
         },
         {
          "fillcolor": "rgb(31, 119, 180)",
          "line": {
           "width": 0
          },
          "opacity": 1,
          "type": "rect",
          "x0": "2016-11-05 12:34:10",
          "x1": "2016-11-05 13:14:10",
          "xref": "x",
          "y0": 3.8,
          "y1": 4.2,
          "yref": "y"
         },
         {
          "fillcolor": "rgb(31, 119, 180)",
          "line": {
           "width": 0
          },
          "opacity": 1,
          "type": "rect",
          "x0": "2016-11-05 12:37:10",
          "x1": "2016-11-05 12:57:10",
          "xref": "x",
          "y0": 4.8,
          "y1": 5.2,
          "yref": "y"
         },
         {
          "fillcolor": "rgb(255, 127, 14)",
          "line": {
           "width": 0
          },
          "opacity": 1,
          "type": "rect",
          "x0": "2016-11-05 12:58:34",
          "x1": "2016-11-05 13:23:34",
          "xref": "x",
          "y0": 1.8,
          "y1": 2.2,
          "yref": "y"
         },
         {
          "fillcolor": "rgb(31, 119, 180)",
          "line": {
           "width": 0
          },
          "opacity": 1,
          "type": "rect",
          "x0": "2016-11-05 12:59:48",
          "x1": "2016-11-05 13:19:48",
          "xref": "x",
          "y0": 4.8,
          "y1": 5.2,
          "yref": "y"
         },
         {
          "fillcolor": "rgb(255, 127, 14)",
          "line": {
           "width": 0
          },
          "opacity": 1,
          "type": "rect",
          "x0": "2016-11-05 13:15:34",
          "x1": "2016-11-05 14:23:34",
          "xref": "x",
          "y0": 0.8,
          "y1": 1.2,
          "yref": "y"
         },
         {
          "fillcolor": "rgb(31, 119, 180)",
          "line": {
           "width": 0
          },
          "opacity": 1,
          "type": "rect",
          "x0": "2016-11-05 13:16:38",
          "x1": "2016-11-05 13:36:38",
          "xref": "x",
          "y0": 3.8,
          "y1": 4.2,
          "yref": "y"
         },
         {
          "fillcolor": "rgb(255, 127, 14)",
          "line": {
           "width": 0
          },
          "opacity": 1,
          "type": "rect",
          "x0": "2016-11-05 13:21:12",
          "x1": "2016-11-05 13:46:12",
          "xref": "x",
          "y0": 2.8,
          "y1": 3.2,
          "yref": "y"
         },
         {
          "fillcolor": "rgb(255, 127, 14)",
          "line": {
           "width": 0
          },
          "opacity": 1,
          "type": "rect",
          "x0": "2016-11-05 13:23:34",
          "x1": "2016-11-05 14:27:34",
          "xref": "x",
          "y0": 1.8,
          "y1": 2.2,
          "yref": "y"
         },
         {
          "fillcolor": "rgb(31, 119, 180)",
          "line": {
           "width": 0
          },
          "opacity": 1,
          "type": "rect",
          "x0": "2016-11-05 13:39:06",
          "x1": "2016-11-05 13:59:06",
          "xref": "x",
          "y0": 3.8,
          "y1": 4.2,
          "yref": "y"
         },
         {
          "fillcolor": "rgb(255, 127, 14)",
          "line": {
           "width": 0
          },
          "opacity": 1,
          "type": "rect",
          "x0": "2016-11-05 13:46:12",
          "x1": "2016-11-05 14:50:12",
          "xref": "x",
          "y0": 2.8,
          "y1": 3.2,
          "yref": "y"
         },
         {
          "fillcolor": "rgb(31, 119, 180)",
          "line": {
           "width": 0
          },
          "opacity": 1,
          "type": "rect",
          "x0": "2016-11-05 14:01:34",
          "x1": "2016-11-05 14:21:34",
          "xref": "x",
          "y0": 3.8,
          "y1": 4.2,
          "yref": "y"
         },
         {
          "fillcolor": "rgb(31, 119, 180)",
          "line": {
           "width": 0
          },
          "opacity": 1,
          "type": "rect",
          "x0": "2016-11-05 14:24:58",
          "x1": "2016-11-05 14:44:58",
          "xref": "x",
          "y0": 3.8,
          "y1": 4.2,
          "yref": "y"
         },
         {
          "fillcolor": "rgb(31, 119, 180)",
          "line": {
           "width": 0
          },
          "opacity": 1,
          "type": "rect",
          "x0": "2016-11-05 14:28:58",
          "x1": "2016-11-05 14:48:58",
          "xref": "x",
          "y0": 4.8,
          "y1": 5.2,
          "yref": "y"
         },
         {
          "fillcolor": "rgb(255, 127, 14)",
          "line": {
           "width": 0
          },
          "opacity": 1,
          "type": "rect",
          "x0": "2016-11-05 14:50:22",
          "x1": "2016-11-05 15:15:22",
          "xref": "x",
          "y0": 1.8,
          "y1": 2.2,
          "yref": "y"
         },
         {
          "fillcolor": "rgb(31, 119, 180)",
          "line": {
           "width": 0
          },
          "opacity": 1,
          "type": "rect",
          "x0": "2016-11-05 14:51:36",
          "x1": "2016-11-05 15:11:36",
          "xref": "x",
          "y0": 4.8,
          "y1": 5.2,
          "yref": "y"
         },
         {
          "fillcolor": "rgb(255, 127, 14)",
          "line": {
           "width": 0
          },
          "opacity": 1,
          "type": "rect",
          "x0": "2016-11-05 15:13:00",
          "x1": "2016-11-05 15:38:00",
          "xref": "x",
          "y0": 2.8,
          "y1": 3.2,
          "yref": "y"
         },
         {
          "fillcolor": "rgb(255, 127, 14)",
          "line": {
           "width": 0
          },
          "opacity": 1,
          "type": "rect",
          "x0": "2016-11-05 15:15:22",
          "x1": "2016-11-05 16:19:22",
          "xref": "x",
          "y0": 1.8,
          "y1": 2.2,
          "yref": "y"
         },
         {
          "fillcolor": "rgb(255, 127, 14)",
          "line": {
           "width": 0
          },
          "opacity": 1,
          "type": "rect",
          "x0": "2016-11-05 15:38:00",
          "x1": "2016-11-05 16:42:00",
          "xref": "x",
          "y0": 2.8,
          "y1": 3.2,
          "yref": "y"
         },
         {
          "fillcolor": "rgb(31, 119, 180)",
          "line": {
           "width": 0
          },
          "opacity": 1,
          "type": "rect",
          "x0": "2016-11-05 16:20:46",
          "x1": "2016-11-05 16:40:46",
          "xref": "x",
          "y0": 4.8,
          "y1": 5.2,
          "yref": "y"
         },
         {
          "fillcolor": "rgb(255, 127, 14)",
          "line": {
           "width": 0
          },
          "opacity": 1,
          "type": "rect",
          "x0": "2016-11-05 16:42:10",
          "x1": "2016-11-05 17:07:10",
          "xref": "x",
          "y0": 1.8,
          "y1": 2.2,
          "yref": "y"
         },
         {
          "fillcolor": "rgb(31, 119, 180)",
          "line": {
           "width": 0
          },
          "opacity": 1,
          "type": "rect",
          "x0": "2016-11-05 16:43:24",
          "x1": "2016-11-05 17:03:24",
          "xref": "x",
          "y0": 4.8,
          "y1": 5.2,
          "yref": "y"
         },
         {
          "fillcolor": "rgb(255, 127, 14)",
          "line": {
           "width": 0
          },
          "opacity": 1,
          "type": "rect",
          "x0": "2016-11-05 17:04:48",
          "x1": "2016-11-05 17:29:48",
          "xref": "x",
          "y0": 2.8,
          "y1": 3.2,
          "yref": "y"
         },
         {
          "fillcolor": "rgb(255, 127, 14)",
          "line": {
           "width": 0
          },
          "opacity": 1,
          "type": "rect",
          "x0": "2016-11-05 17:07:10",
          "x1": "2016-11-05 18:11:10",
          "xref": "x",
          "y0": 1.8,
          "y1": 2.2,
          "yref": "y"
         },
         {
          "fillcolor": "rgb(255, 127, 14)",
          "line": {
           "width": 0
          },
          "opacity": 1,
          "type": "rect",
          "x0": "2016-11-05 17:29:48",
          "x1": "2016-11-05 18:33:48",
          "xref": "x",
          "y0": 2.8,
          "y1": 3.2,
          "yref": "y"
         },
         {
          "fillcolor": "rgb(31, 119, 180)",
          "line": {
           "width": 0
          },
          "opacity": 1,
          "type": "rect",
          "x0": "2016-11-05 18:12:34",
          "x1": "2016-11-05 18:32:34",
          "xref": "x",
          "y0": 4.8,
          "y1": 5.2,
          "yref": "y"
         },
         {
          "fillcolor": "rgb(255, 127, 14)",
          "line": {
           "width": 0
          },
          "opacity": 1,
          "type": "rect",
          "x0": "2016-11-05 18:33:58",
          "x1": "2016-11-05 18:58:58",
          "xref": "x",
          "y0": 1.8,
          "y1": 2.2,
          "yref": "y"
         },
         {
          "fillcolor": "rgb(31, 119, 180)",
          "line": {
           "width": 0
          },
          "opacity": 1,
          "type": "rect",
          "x0": "2016-11-05 18:35:12",
          "x1": "2016-11-05 18:55:12",
          "xref": "x",
          "y0": 4.8,
          "y1": 5.2,
          "yref": "y"
         },
         {
          "fillcolor": "rgb(255, 127, 14)",
          "line": {
           "width": 0
          },
          "opacity": 1,
          "type": "rect",
          "x0": "2016-11-05 18:56:36",
          "x1": "2016-11-05 19:21:36",
          "xref": "x",
          "y0": 2.8,
          "y1": 3.2,
          "yref": "y"
         },
         {
          "fillcolor": "rgb(255, 127, 14)",
          "line": {
           "width": 0
          },
          "opacity": 1,
          "type": "rect",
          "x0": "2016-11-05 18:58:58",
          "x1": "2016-11-05 20:02:58",
          "xref": "x",
          "y0": 1.8,
          "y1": 2.2,
          "yref": "y"
         },
         {
          "fillcolor": "rgb(255, 127, 14)",
          "line": {
           "width": 0
          },
          "opacity": 1,
          "type": "rect",
          "x0": "2016-11-05 19:21:36",
          "x1": "2016-11-05 20:25:36",
          "xref": "x",
          "y0": 2.8,
          "y1": 3.2,
          "yref": "y"
         },
         {
          "fillcolor": "rgb(31, 119, 180)",
          "line": {
           "width": 0
          },
          "opacity": 1,
          "type": "rect",
          "x0": "2016-11-05 20:04:22",
          "x1": "2016-11-05 20:24:22",
          "xref": "x",
          "y0": 4.8,
          "y1": 5.2,
          "yref": "y"
         },
         {
          "fillcolor": "rgb(255, 127, 14)",
          "line": {
           "width": 0
          },
          "opacity": 1,
          "type": "rect",
          "x0": "2016-11-05 20:25:46",
          "x1": "2016-11-05 20:50:46",
          "xref": "x",
          "y0": 1.8,
          "y1": 2.2,
          "yref": "y"
         },
         {
          "fillcolor": "rgb(31, 119, 180)",
          "line": {
           "width": 0
          },
          "opacity": 1,
          "type": "rect",
          "x0": "2016-11-05 20:27:00",
          "x1": "2016-11-05 20:42:00",
          "xref": "x",
          "y0": 4.8,
          "y1": 5.2,
          "yref": "y"
         },
         {
          "fillcolor": "rgb(255, 127, 14)",
          "line": {
           "width": 0
          },
          "opacity": 1,
          "type": "rect",
          "x0": "2016-11-05 20:43:24",
          "x1": "2016-11-05 21:08:24",
          "xref": "x",
          "y0": 2.8,
          "y1": 3.2,
          "yref": "y"
         },
         {
          "fillcolor": "rgb(255, 127, 14)",
          "line": {
           "width": 0
          },
          "opacity": 1,
          "type": "rect",
          "x0": "2016-11-05 20:50:46",
          "x1": "2016-11-05 21:54:46",
          "xref": "x",
          "y0": 1.8,
          "y1": 2.2,
          "yref": "y"
         },
         {
          "fillcolor": "rgb(31, 119, 180)",
          "line": {
           "width": 0
          },
          "opacity": 1,
          "type": "rect",
          "x0": "2016-11-05 21:09:48",
          "x1": "2016-11-05 21:14:48",
          "xref": "x",
          "y0": 4.8,
          "y1": 5.2,
          "yref": "y"
         },
         {
          "fillcolor": "rgb(31, 119, 180)",
          "line": {
           "width": 0
          },
          "opacity": 1,
          "type": "rect",
          "x0": "2016-11-05 21:56:10",
          "x1": "2016-11-05 22:11:10",
          "xref": "x",
          "y0": 4.8,
          "y1": 5.2,
          "yref": "y"
         },
         {
          "fillcolor": "rgb(255, 127, 14)",
          "line": {
           "width": 0
          },
          "opacity": 1,
          "type": "rect",
          "x0": "2016-11-05 22:12:34",
          "x1": "2016-11-05 22:37:34",
          "xref": "x",
          "y0": 2.8,
          "y1": 3.2,
          "yref": "y"
         },
         {
          "fillcolor": "rgb(31, 119, 180)",
          "line": {
           "width": 0
          },
          "opacity": 1,
          "type": "rect",
          "x0": "2016-11-05 22:38:58",
          "x1": "2016-11-05 22:43:58",
          "xref": "x",
          "y0": 4.8,
          "y1": 5.2,
          "yref": "y"
         }
        ],
        "showlegend": false,
        "title": "Gantt Chart",
        "width": 900,
        "xaxis": {
         "rangeselector": {
          "buttons": [
           {
            "count": 7,
            "label": "1w",
            "step": "day",
            "stepmode": "backward"
           },
           {
            "count": 1,
            "label": "1m",
            "step": "month",
            "stepmode": "backward"
           },
           {
            "count": 6,
            "label": "6m",
            "step": "month",
            "stepmode": "backward"
           },
           {
            "count": 1,
            "label": "YTD",
            "step": "year",
            "stepmode": "todate"
           },
           {
            "count": 1,
            "label": "1y",
            "step": "year",
            "stepmode": "backward"
           },
           {
            "step": "all"
           }
          ]
         },
         "showgrid": false,
         "type": "date",
         "zeroline": false
        },
        "yaxis": {
         "autorange": false,
         "range": [
          -1,
          7
         ],
         "showgrid": false,
         "ticktext": [
          "Machine3",
          "Machine4",
          "Machine2",
          "Machine1",
          "L/U2",
          "L/U1"
         ],
         "tickvals": [
          0,
          1,
          2,
          3,
          4,
          5
         ],
         "zeroline": false
        }
       }
      },
      "text/html": [
       "<div id=\"1ff33c91-710b-4cd9-9069-8ae84db1cacd\" style=\"height: 600px; width: 900px;\" class=\"plotly-graph-div\"></div><script type=\"text/javascript\">require([\"plotly\"], function(Plotly) { window.PLOTLYENV=window.PLOTLYENV || {};window.PLOTLYENV.BASE_URL=\"https://plot.ly\";Plotly.newPlot(\"1ff33c91-710b-4cd9-9069-8ae84db1cacd\", [{\"x\": [\"2016-11-05 07:01:14\", \"2016-11-05 07:06:14\"], \"y\": [5, 5], \"name\": \"\", \"marker\": {\"color\": \"white\"}}, {\"x\": [\"2016-11-05 07:02:28\", \"2016-11-05 07:22:28\"], \"y\": [4, 4], \"name\": \"\", \"marker\": {\"color\": \"white\"}}, {\"x\": [\"2016-11-05 07:07:38\", \"2016-11-05 08:11:38\"], \"y\": [3, 3], \"name\": \"\", \"marker\": {\"color\": \"white\"}}, {\"x\": [\"2016-11-05 07:08:42\", \"2016-11-05 07:13:42\"], \"y\": [5, 5], \"name\": \"\", \"marker\": {\"color\": \"white\"}}, {\"x\": [\"2016-11-05 07:15:06\", \"2016-11-05 08:19:06\"], \"y\": [2, 2], \"name\": \"\", \"marker\": {\"color\": \"white\"}}, {\"x\": [\"2016-11-05 07:23:52\", \"2016-11-05 08:31:52\"], \"y\": [1, 1], \"name\": \"\", \"marker\": {\"color\": \"white\"}}, {\"x\": [\"2016-11-05 07:24:56\", \"2016-11-05 07:44:56\"], \"y\": [4, 4], \"name\": \"\", \"marker\": {\"color\": \"white\"}}, {\"x\": [\"2016-11-05 07:46:20\", \"2016-11-05 08:54:20\"], \"y\": [0, 0], \"name\": \"\", \"marker\": {\"color\": \"white\"}}, {\"x\": [\"2016-11-05 07:47:24\", \"2016-11-05 08:07:24\"], \"y\": [4, 4], \"name\": \"\", \"marker\": {\"color\": \"white\"}}, {\"x\": [\"2016-11-05 08:09:52\", \"2016-11-05 08:29:52\"], \"y\": [4, 4], \"name\": \"\", \"marker\": {\"color\": \"white\"}}, {\"x\": [\"2016-11-05 08:11:48\", \"2016-11-05 09:19:48\"], \"y\": [3, 3], \"name\": \"\", \"marker\": {\"color\": \"white\"}}, {\"x\": [\"2016-11-05 08:13:02\", \"2016-11-05 08:28:02\"], \"y\": [5, 5], \"name\": \"\", \"marker\": {\"color\": \"white\"}}, {\"x\": [\"2016-11-05 08:29:26\", \"2016-11-05 08:54:26\"], \"y\": [2, 2], \"name\": \"\", \"marker\": {\"color\": \"white\"}}, {\"x\": [\"2016-11-05 08:30:30\", \"2016-11-05 08:45:30\"], \"y\": [5, 5], \"name\": \"\", \"marker\": {\"color\": \"white\"}}, {\"x\": [\"2016-11-05 08:33:16\", \"2016-11-05 09:13:16\"], \"y\": [4, 4], \"name\": \"\", \"marker\": {\"color\": \"white\"}}, {\"x\": [\"2016-11-05 08:54:26\", \"2016-11-05 09:58:26\"], \"y\": [2, 2], \"name\": \"\", \"marker\": {\"color\": \"white\"}}, {\"x\": [\"2016-11-05 09:19:58\", \"2016-11-05 09:44:58\"], \"y\": [3, 3], \"name\": \"\", \"marker\": {\"color\": \"white\"}}, {\"x\": [\"2016-11-05 09:19:58\", \"2016-11-05 10:27:58\"], \"y\": [1, 1], \"name\": \"\", \"marker\": {\"color\": \"white\"}}, {\"x\": [\"2016-11-05 09:21:12\", \"2016-11-05 10:01:12\"], \"y\": [4, 4], \"name\": \"\", \"marker\": {\"color\": \"white\"}}, {\"x\": [\"2016-11-05 09:44:58\", \"2016-11-05 10:48:58\"], \"y\": [3, 3], \"name\": \"\", \"marker\": {\"color\": \"white\"}}, {\"x\": [\"2016-11-05 09:58:36\", \"2016-11-05 11:06:36\"], \"y\": [2, 2], \"name\": \"\", \"marker\": {\"color\": \"white\"}}, {\"x\": [\"2016-11-05 09:59:50\", \"2016-11-05 10:19:50\"], \"y\": [5, 5], \"name\": \"\", \"marker\": {\"color\": \"white\"}}, {\"x\": [\"2016-11-05 10:02:36\", \"2016-11-05 11:10:36\"], \"y\": [0, 0], \"name\": \"\", \"marker\": {\"color\": \"white\"}}, {\"x\": [\"2016-11-05 10:03:40\", \"2016-11-05 10:43:40\"], \"y\": [4, 4], \"name\": \"\", \"marker\": {\"color\": \"white\"}}, {\"x\": [\"2016-11-05 11:06:46\", \"2016-11-05 11:31:46\"], \"y\": [2, 2], \"name\": \"\", \"marker\": {\"color\": \"white\"}}, {\"x\": [\"2016-11-05 11:08:00\", \"2016-11-05 11:28:00\"], \"y\": [5, 5], \"name\": \"\", \"marker\": {\"color\": \"white\"}}, {\"x\": [\"2016-11-05 11:09:14\", \"2016-11-05 11:49:14\"], \"y\": [4, 4], \"name\": \"\", \"marker\": {\"color\": \"white\"}}, {\"x\": [\"2016-11-05 11:10:46\", \"2016-11-05 12:18:46\"], \"y\": [0, 0], \"name\": \"\", \"marker\": {\"color\": \"white\"}}, {\"x\": [\"2016-11-05 11:29:24\", \"2016-11-05 11:54:24\"], \"y\": [3, 3], \"name\": \"\", \"marker\": {\"color\": \"white\"}}, {\"x\": [\"2016-11-05 11:31:46\", \"2016-11-05 12:35:46\"], \"y\": [2, 2], \"name\": \"\", \"marker\": {\"color\": \"white\"}}, {\"x\": [\"2016-11-05 11:50:38\", \"2016-11-05 12:58:38\"], \"y\": [1, 1], \"name\": \"\", \"marker\": {\"color\": \"white\"}}, {\"x\": [\"2016-11-05 11:51:42\", \"2016-11-05 12:31:42\"], \"y\": [4, 4], \"name\": \"\", \"marker\": {\"color\": \"white\"}}, {\"x\": [\"2016-11-05 11:54:24\", \"2016-11-05 12:58:24\"], \"y\": [3, 3], \"name\": \"\", \"marker\": {\"color\": \"white\"}}, {\"x\": [\"2016-11-05 12:33:06\", \"2016-11-05 13:41:06\"], \"y\": [0, 0], \"name\": \"\", \"marker\": {\"color\": \"white\"}}, {\"x\": [\"2016-11-05 12:34:10\", \"2016-11-05 13:14:10\"], \"y\": [4, 4], \"name\": \"\", \"marker\": {\"color\": \"white\"}}, {\"x\": [\"2016-11-05 12:37:10\", \"2016-11-05 12:57:10\"], \"y\": [5, 5], \"name\": \"\", \"marker\": {\"color\": \"white\"}}, {\"x\": [\"2016-11-05 12:58:34\", \"2016-11-05 13:23:34\"], \"y\": [2, 2], \"name\": \"\", \"marker\": {\"color\": \"white\"}}, {\"x\": [\"2016-11-05 12:59:48\", \"2016-11-05 13:19:48\"], \"y\": [5, 5], \"name\": \"\", \"marker\": {\"color\": \"white\"}}, {\"x\": [\"2016-11-05 13:15:34\", \"2016-11-05 14:23:34\"], \"y\": [1, 1], \"name\": \"\", \"marker\": {\"color\": \"white\"}}, {\"x\": [\"2016-11-05 13:16:38\", \"2016-11-05 13:36:38\"], \"y\": [4, 4], \"name\": \"\", \"marker\": {\"color\": \"white\"}}, {\"x\": [\"2016-11-05 13:21:12\", \"2016-11-05 13:46:12\"], \"y\": [3, 3], \"name\": \"\", \"marker\": {\"color\": \"white\"}}, {\"x\": [\"2016-11-05 13:23:34\", \"2016-11-05 14:27:34\"], \"y\": [2, 2], \"name\": \"\", \"marker\": {\"color\": \"white\"}}, {\"x\": [\"2016-11-05 13:39:06\", \"2016-11-05 13:59:06\"], \"y\": [4, 4], \"name\": \"\", \"marker\": {\"color\": \"white\"}}, {\"x\": [\"2016-11-05 13:46:12\", \"2016-11-05 14:50:12\"], \"y\": [3, 3], \"name\": \"\", \"marker\": {\"color\": \"white\"}}, {\"x\": [\"2016-11-05 14:01:34\", \"2016-11-05 14:21:34\"], \"y\": [4, 4], \"name\": \"\", \"marker\": {\"color\": \"white\"}}, {\"x\": [\"2016-11-05 14:24:58\", \"2016-11-05 14:44:58\"], \"y\": [4, 4], \"name\": \"\", \"marker\": {\"color\": \"white\"}}, {\"x\": [\"2016-11-05 14:28:58\", \"2016-11-05 14:48:58\"], \"y\": [5, 5], \"name\": \"\", \"marker\": {\"color\": \"white\"}}, {\"x\": [\"2016-11-05 14:50:22\", \"2016-11-05 15:15:22\"], \"y\": [2, 2], \"name\": \"\", \"marker\": {\"color\": \"white\"}}, {\"x\": [\"2016-11-05 14:51:36\", \"2016-11-05 15:11:36\"], \"y\": [5, 5], \"name\": \"\", \"marker\": {\"color\": \"white\"}}, {\"x\": [\"2016-11-05 15:13:00\", \"2016-11-05 15:38:00\"], \"y\": [3, 3], \"name\": \"\", \"marker\": {\"color\": \"white\"}}, {\"x\": [\"2016-11-05 15:15:22\", \"2016-11-05 16:19:22\"], \"y\": [2, 2], \"name\": \"\", \"marker\": {\"color\": \"white\"}}, {\"x\": [\"2016-11-05 15:38:00\", \"2016-11-05 16:42:00\"], \"y\": [3, 3], \"name\": \"\", \"marker\": {\"color\": \"white\"}}, {\"x\": [\"2016-11-05 16:20:46\", \"2016-11-05 16:40:46\"], \"y\": [5, 5], \"name\": \"\", \"marker\": {\"color\": \"white\"}}, {\"x\": [\"2016-11-05 16:42:10\", \"2016-11-05 17:07:10\"], \"y\": [2, 2], \"name\": \"\", \"marker\": {\"color\": \"white\"}}, {\"x\": [\"2016-11-05 16:43:24\", \"2016-11-05 17:03:24\"], \"y\": [5, 5], \"name\": \"\", \"marker\": {\"color\": \"white\"}}, {\"x\": [\"2016-11-05 17:04:48\", \"2016-11-05 17:29:48\"], \"y\": [3, 3], \"name\": \"\", \"marker\": {\"color\": \"white\"}}, {\"x\": [\"2016-11-05 17:07:10\", \"2016-11-05 18:11:10\"], \"y\": [2, 2], \"name\": \"\", \"marker\": {\"color\": \"white\"}}, {\"x\": [\"2016-11-05 17:29:48\", \"2016-11-05 18:33:48\"], \"y\": [3, 3], \"name\": \"\", \"marker\": {\"color\": \"white\"}}, {\"x\": [\"2016-11-05 18:12:34\", \"2016-11-05 18:32:34\"], \"y\": [5, 5], \"name\": \"\", \"marker\": {\"color\": \"white\"}}, {\"x\": [\"2016-11-05 18:33:58\", \"2016-11-05 18:58:58\"], \"y\": [2, 2], \"name\": \"\", \"marker\": {\"color\": \"white\"}}, {\"x\": [\"2016-11-05 18:35:12\", \"2016-11-05 18:55:12\"], \"y\": [5, 5], \"name\": \"\", \"marker\": {\"color\": \"white\"}}, {\"x\": [\"2016-11-05 18:56:36\", \"2016-11-05 19:21:36\"], \"y\": [3, 3], \"name\": \"\", \"marker\": {\"color\": \"white\"}}, {\"x\": [\"2016-11-05 18:58:58\", \"2016-11-05 20:02:58\"], \"y\": [2, 2], \"name\": \"\", \"marker\": {\"color\": \"white\"}}, {\"x\": [\"2016-11-05 19:21:36\", \"2016-11-05 20:25:36\"], \"y\": [3, 3], \"name\": \"\", \"marker\": {\"color\": \"white\"}}, {\"x\": [\"2016-11-05 20:04:22\", \"2016-11-05 20:24:22\"], \"y\": [5, 5], \"name\": \"\", \"marker\": {\"color\": \"white\"}}, {\"x\": [\"2016-11-05 20:25:46\", \"2016-11-05 20:50:46\"], \"y\": [2, 2], \"name\": \"\", \"marker\": {\"color\": \"white\"}}, {\"x\": [\"2016-11-05 20:27:00\", \"2016-11-05 20:42:00\"], \"y\": [5, 5], \"name\": \"\", \"marker\": {\"color\": \"white\"}}, {\"x\": [\"2016-11-05 20:43:24\", \"2016-11-05 21:08:24\"], \"y\": [3, 3], \"name\": \"\", \"marker\": {\"color\": \"white\"}}, {\"x\": [\"2016-11-05 20:50:46\", \"2016-11-05 21:54:46\"], \"y\": [2, 2], \"name\": \"\", \"marker\": {\"color\": \"white\"}}, {\"x\": [\"2016-11-05 21:09:48\", \"2016-11-05 21:14:48\"], \"y\": [5, 5], \"name\": \"\", \"marker\": {\"color\": \"white\"}}, {\"x\": [\"2016-11-05 21:56:10\", \"2016-11-05 22:11:10\"], \"y\": [5, 5], \"name\": \"\", \"marker\": {\"color\": \"white\"}}, {\"x\": [\"2016-11-05 22:12:34\", \"2016-11-05 22:37:34\"], \"y\": [3, 3], \"name\": \"\", \"marker\": {\"color\": \"white\"}}, {\"x\": [\"2016-11-05 22:38:58\", \"2016-11-05 22:43:58\"], \"y\": [5, 5], \"name\": \"\", \"marker\": {\"color\": \"white\"}}], {\"title\": \"Gantt Chart\", \"showlegend\": false, \"height\": 600, \"width\": 900, \"shapes\": [{\"x0\": \"2016-11-05 07:01:14\", \"x1\": \"2016-11-05 07:06:14\", \"type\": \"rect\", \"xref\": \"x\", \"yref\": \"y\", \"opacity\": 1, \"line\": {\"width\": 0}, \"y0\": 4.8, \"y1\": 5.2, \"fillcolor\": \"rgb(31, 119, 180)\"}, {\"x0\": \"2016-11-05 07:02:28\", \"x1\": \"2016-11-05 07:22:28\", \"type\": \"rect\", \"xref\": \"x\", \"yref\": \"y\", \"opacity\": 1, \"line\": {\"width\": 0}, \"y0\": 3.8, \"y1\": 4.2, \"fillcolor\": \"rgb(31, 119, 180)\"}, {\"x0\": \"2016-11-05 07:07:38\", \"x1\": \"2016-11-05 08:11:38\", \"type\": \"rect\", \"xref\": \"x\", \"yref\": \"y\", \"opacity\": 1, \"line\": {\"width\": 0}, \"y0\": 2.8, \"y1\": 3.2, \"fillcolor\": \"rgb(255, 127, 14)\"}, {\"x0\": \"2016-11-05 07:08:42\", \"x1\": \"2016-11-05 07:13:42\", \"type\": \"rect\", \"xref\": \"x\", \"yref\": \"y\", \"opacity\": 1, \"line\": {\"width\": 0}, \"y0\": 4.8, \"y1\": 5.2, \"fillcolor\": \"rgb(31, 119, 180)\"}, {\"x0\": \"2016-11-05 07:15:06\", \"x1\": \"2016-11-05 08:19:06\", \"type\": \"rect\", \"xref\": \"x\", \"yref\": \"y\", \"opacity\": 1, \"line\": {\"width\": 0}, \"y0\": 1.8, \"y1\": 2.2, \"fillcolor\": \"rgb(255, 127, 14)\"}, {\"x0\": \"2016-11-05 07:23:52\", \"x1\": \"2016-11-05 08:31:52\", \"type\": \"rect\", \"xref\": \"x\", \"yref\": \"y\", \"opacity\": 1, \"line\": {\"width\": 0}, \"y0\": 0.8, \"y1\": 1.2, \"fillcolor\": \"rgb(255, 127, 14)\"}, {\"x0\": \"2016-11-05 07:24:56\", \"x1\": \"2016-11-05 07:44:56\", \"type\": \"rect\", \"xref\": \"x\", \"yref\": \"y\", \"opacity\": 1, \"line\": {\"width\": 0}, \"y0\": 3.8, \"y1\": 4.2, \"fillcolor\": \"rgb(31, 119, 180)\"}, {\"x0\": \"2016-11-05 07:46:20\", \"x1\": \"2016-11-05 08:54:20\", \"type\": \"rect\", \"xref\": \"x\", \"yref\": \"y\", \"opacity\": 1, \"line\": {\"width\": 0}, \"y0\": -0.2, \"y1\": 0.2, \"fillcolor\": \"rgb(255, 127, 14)\"}, {\"x0\": \"2016-11-05 07:47:24\", \"x1\": \"2016-11-05 08:07:24\", \"type\": \"rect\", \"xref\": \"x\", \"yref\": \"y\", \"opacity\": 1, \"line\": {\"width\": 0}, \"y0\": 3.8, \"y1\": 4.2, \"fillcolor\": \"rgb(31, 119, 180)\"}, {\"x0\": \"2016-11-05 08:09:52\", \"x1\": \"2016-11-05 08:29:52\", \"type\": \"rect\", \"xref\": \"x\", \"yref\": \"y\", \"opacity\": 1, \"line\": {\"width\": 0}, \"y0\": 3.8, \"y1\": 4.2, \"fillcolor\": \"rgb(31, 119, 180)\"}, {\"x0\": \"2016-11-05 08:11:48\", \"x1\": \"2016-11-05 09:19:48\", \"type\": \"rect\", \"xref\": \"x\", \"yref\": \"y\", \"opacity\": 1, \"line\": {\"width\": 0}, \"y0\": 2.8, \"y1\": 3.2, \"fillcolor\": \"rgb(255, 127, 14)\"}, {\"x0\": \"2016-11-05 08:13:02\", \"x1\": \"2016-11-05 08:28:02\", \"type\": \"rect\", \"xref\": \"x\", \"yref\": \"y\", \"opacity\": 1, \"line\": {\"width\": 0}, \"y0\": 4.8, \"y1\": 5.2, \"fillcolor\": \"rgb(31, 119, 180)\"}, {\"x0\": \"2016-11-05 08:29:26\", \"x1\": \"2016-11-05 08:54:26\", \"type\": \"rect\", \"xref\": \"x\", \"yref\": \"y\", \"opacity\": 1, \"line\": {\"width\": 0}, \"y0\": 1.8, \"y1\": 2.2, \"fillcolor\": \"rgb(255, 127, 14)\"}, {\"x0\": \"2016-11-05 08:30:30\", \"x1\": \"2016-11-05 08:45:30\", \"type\": \"rect\", \"xref\": \"x\", \"yref\": \"y\", \"opacity\": 1, \"line\": {\"width\": 0}, \"y0\": 4.8, \"y1\": 5.2, \"fillcolor\": \"rgb(31, 119, 180)\"}, {\"x0\": \"2016-11-05 08:33:16\", \"x1\": \"2016-11-05 09:13:16\", \"type\": \"rect\", \"xref\": \"x\", \"yref\": \"y\", \"opacity\": 1, \"line\": {\"width\": 0}, \"y0\": 3.8, \"y1\": 4.2, \"fillcolor\": \"rgb(31, 119, 180)\"}, {\"x0\": \"2016-11-05 08:54:26\", \"x1\": \"2016-11-05 09:58:26\", \"type\": \"rect\", \"xref\": \"x\", \"yref\": \"y\", \"opacity\": 1, \"line\": {\"width\": 0}, \"y0\": 1.8, \"y1\": 2.2, \"fillcolor\": \"rgb(255, 127, 14)\"}, {\"x0\": \"2016-11-05 09:19:58\", \"x1\": \"2016-11-05 09:44:58\", \"type\": \"rect\", \"xref\": \"x\", \"yref\": \"y\", \"opacity\": 1, \"line\": {\"width\": 0}, \"y0\": 2.8, \"y1\": 3.2, \"fillcolor\": \"rgb(255, 127, 14)\"}, {\"x0\": \"2016-11-05 09:19:58\", \"x1\": \"2016-11-05 10:27:58\", \"type\": \"rect\", \"xref\": \"x\", \"yref\": \"y\", \"opacity\": 1, \"line\": {\"width\": 0}, \"y0\": 0.8, \"y1\": 1.2, \"fillcolor\": \"rgb(255, 127, 14)\"}, {\"x0\": \"2016-11-05 09:21:12\", \"x1\": \"2016-11-05 10:01:12\", \"type\": \"rect\", \"xref\": \"x\", \"yref\": \"y\", \"opacity\": 1, \"line\": {\"width\": 0}, \"y0\": 3.8, \"y1\": 4.2, \"fillcolor\": \"rgb(31, 119, 180)\"}, {\"x0\": \"2016-11-05 09:44:58\", \"x1\": \"2016-11-05 10:48:58\", \"type\": \"rect\", \"xref\": \"x\", \"yref\": \"y\", \"opacity\": 1, \"line\": {\"width\": 0}, \"y0\": 2.8, \"y1\": 3.2, \"fillcolor\": \"rgb(255, 127, 14)\"}, {\"x0\": \"2016-11-05 09:58:36\", \"x1\": \"2016-11-05 11:06:36\", \"type\": \"rect\", \"xref\": \"x\", \"yref\": \"y\", \"opacity\": 1, \"line\": {\"width\": 0}, \"y0\": 1.8, \"y1\": 2.2, \"fillcolor\": \"rgb(255, 127, 14)\"}, {\"x0\": \"2016-11-05 09:59:50\", \"x1\": \"2016-11-05 10:19:50\", \"type\": \"rect\", \"xref\": \"x\", \"yref\": \"y\", \"opacity\": 1, \"line\": {\"width\": 0}, \"y0\": 4.8, \"y1\": 5.2, \"fillcolor\": \"rgb(31, 119, 180)\"}, {\"x0\": \"2016-11-05 10:02:36\", \"x1\": \"2016-11-05 11:10:36\", \"type\": \"rect\", \"xref\": \"x\", \"yref\": \"y\", \"opacity\": 1, \"line\": {\"width\": 0}, \"y0\": -0.2, \"y1\": 0.2, \"fillcolor\": \"rgb(255, 127, 14)\"}, {\"x0\": \"2016-11-05 10:03:40\", \"x1\": \"2016-11-05 10:43:40\", \"type\": \"rect\", \"xref\": \"x\", \"yref\": \"y\", \"opacity\": 1, \"line\": {\"width\": 0}, \"y0\": 3.8, \"y1\": 4.2, \"fillcolor\": \"rgb(31, 119, 180)\"}, {\"x0\": \"2016-11-05 11:06:46\", \"x1\": \"2016-11-05 11:31:46\", \"type\": \"rect\", \"xref\": \"x\", \"yref\": \"y\", \"opacity\": 1, \"line\": {\"width\": 0}, \"y0\": 1.8, \"y1\": 2.2, \"fillcolor\": \"rgb(255, 127, 14)\"}, {\"x0\": \"2016-11-05 11:08:00\", \"x1\": \"2016-11-05 11:28:00\", \"type\": \"rect\", \"xref\": \"x\", \"yref\": \"y\", \"opacity\": 1, \"line\": {\"width\": 0}, \"y0\": 4.8, \"y1\": 5.2, \"fillcolor\": \"rgb(31, 119, 180)\"}, {\"x0\": \"2016-11-05 11:09:14\", \"x1\": \"2016-11-05 11:49:14\", \"type\": \"rect\", \"xref\": \"x\", \"yref\": \"y\", \"opacity\": 1, \"line\": {\"width\": 0}, \"y0\": 3.8, \"y1\": 4.2, \"fillcolor\": \"rgb(31, 119, 180)\"}, {\"x0\": \"2016-11-05 11:10:46\", \"x1\": \"2016-11-05 12:18:46\", \"type\": \"rect\", \"xref\": \"x\", \"yref\": \"y\", \"opacity\": 1, \"line\": {\"width\": 0}, \"y0\": -0.2, \"y1\": 0.2, \"fillcolor\": \"rgb(255, 127, 14)\"}, {\"x0\": \"2016-11-05 11:29:24\", \"x1\": \"2016-11-05 11:54:24\", \"type\": \"rect\", \"xref\": \"x\", \"yref\": \"y\", \"opacity\": 1, \"line\": {\"width\": 0}, \"y0\": 2.8, \"y1\": 3.2, \"fillcolor\": \"rgb(255, 127, 14)\"}, {\"x0\": \"2016-11-05 11:31:46\", \"x1\": \"2016-11-05 12:35:46\", \"type\": \"rect\", \"xref\": \"x\", \"yref\": \"y\", \"opacity\": 1, \"line\": {\"width\": 0}, \"y0\": 1.8, \"y1\": 2.2, \"fillcolor\": \"rgb(255, 127, 14)\"}, {\"x0\": \"2016-11-05 11:50:38\", \"x1\": \"2016-11-05 12:58:38\", \"type\": \"rect\", \"xref\": \"x\", \"yref\": \"y\", \"opacity\": 1, \"line\": {\"width\": 0}, \"y0\": 0.8, \"y1\": 1.2, \"fillcolor\": \"rgb(255, 127, 14)\"}, {\"x0\": \"2016-11-05 11:51:42\", \"x1\": \"2016-11-05 12:31:42\", \"type\": \"rect\", \"xref\": \"x\", \"yref\": \"y\", \"opacity\": 1, \"line\": {\"width\": 0}, \"y0\": 3.8, \"y1\": 4.2, \"fillcolor\": \"rgb(31, 119, 180)\"}, {\"x0\": \"2016-11-05 11:54:24\", \"x1\": \"2016-11-05 12:58:24\", \"type\": \"rect\", \"xref\": \"x\", \"yref\": \"y\", \"opacity\": 1, \"line\": {\"width\": 0}, \"y0\": 2.8, \"y1\": 3.2, \"fillcolor\": \"rgb(255, 127, 14)\"}, {\"x0\": \"2016-11-05 12:33:06\", \"x1\": \"2016-11-05 13:41:06\", \"type\": \"rect\", \"xref\": \"x\", \"yref\": \"y\", \"opacity\": 1, \"line\": {\"width\": 0}, \"y0\": -0.2, \"y1\": 0.2, \"fillcolor\": \"rgb(255, 127, 14)\"}, {\"x0\": \"2016-11-05 12:34:10\", \"x1\": \"2016-11-05 13:14:10\", \"type\": \"rect\", \"xref\": \"x\", \"yref\": \"y\", \"opacity\": 1, \"line\": {\"width\": 0}, \"y0\": 3.8, \"y1\": 4.2, \"fillcolor\": \"rgb(31, 119, 180)\"}, {\"x0\": \"2016-11-05 12:37:10\", \"x1\": \"2016-11-05 12:57:10\", \"type\": \"rect\", \"xref\": \"x\", \"yref\": \"y\", \"opacity\": 1, \"line\": {\"width\": 0}, \"y0\": 4.8, \"y1\": 5.2, \"fillcolor\": \"rgb(31, 119, 180)\"}, {\"x0\": \"2016-11-05 12:58:34\", \"x1\": \"2016-11-05 13:23:34\", \"type\": \"rect\", \"xref\": \"x\", \"yref\": \"y\", \"opacity\": 1, \"line\": {\"width\": 0}, \"y0\": 1.8, \"y1\": 2.2, \"fillcolor\": \"rgb(255, 127, 14)\"}, {\"x0\": \"2016-11-05 12:59:48\", \"x1\": \"2016-11-05 13:19:48\", \"type\": \"rect\", \"xref\": \"x\", \"yref\": \"y\", \"opacity\": 1, \"line\": {\"width\": 0}, \"y0\": 4.8, \"y1\": 5.2, \"fillcolor\": \"rgb(31, 119, 180)\"}, {\"x0\": \"2016-11-05 13:15:34\", \"x1\": \"2016-11-05 14:23:34\", \"type\": \"rect\", \"xref\": \"x\", \"yref\": \"y\", \"opacity\": 1, \"line\": {\"width\": 0}, \"y0\": 0.8, \"y1\": 1.2, \"fillcolor\": \"rgb(255, 127, 14)\"}, {\"x0\": \"2016-11-05 13:16:38\", \"x1\": \"2016-11-05 13:36:38\", \"type\": \"rect\", \"xref\": \"x\", \"yref\": \"y\", \"opacity\": 1, \"line\": {\"width\": 0}, \"y0\": 3.8, \"y1\": 4.2, \"fillcolor\": \"rgb(31, 119, 180)\"}, {\"x0\": \"2016-11-05 13:21:12\", \"x1\": \"2016-11-05 13:46:12\", \"type\": \"rect\", \"xref\": \"x\", \"yref\": \"y\", \"opacity\": 1, \"line\": {\"width\": 0}, \"y0\": 2.8, \"y1\": 3.2, \"fillcolor\": \"rgb(255, 127, 14)\"}, {\"x0\": \"2016-11-05 13:23:34\", \"x1\": \"2016-11-05 14:27:34\", \"type\": \"rect\", \"xref\": \"x\", \"yref\": \"y\", \"opacity\": 1, \"line\": {\"width\": 0}, \"y0\": 1.8, \"y1\": 2.2, \"fillcolor\": \"rgb(255, 127, 14)\"}, {\"x0\": \"2016-11-05 13:39:06\", \"x1\": \"2016-11-05 13:59:06\", \"type\": \"rect\", \"xref\": \"x\", \"yref\": \"y\", \"opacity\": 1, \"line\": {\"width\": 0}, \"y0\": 3.8, \"y1\": 4.2, \"fillcolor\": \"rgb(31, 119, 180)\"}, {\"x0\": \"2016-11-05 13:46:12\", \"x1\": \"2016-11-05 14:50:12\", \"type\": \"rect\", \"xref\": \"x\", \"yref\": \"y\", \"opacity\": 1, \"line\": {\"width\": 0}, \"y0\": 2.8, \"y1\": 3.2, \"fillcolor\": \"rgb(255, 127, 14)\"}, {\"x0\": \"2016-11-05 14:01:34\", \"x1\": \"2016-11-05 14:21:34\", \"type\": \"rect\", \"xref\": \"x\", \"yref\": \"y\", \"opacity\": 1, \"line\": {\"width\": 0}, \"y0\": 3.8, \"y1\": 4.2, \"fillcolor\": \"rgb(31, 119, 180)\"}, {\"x0\": \"2016-11-05 14:24:58\", \"x1\": \"2016-11-05 14:44:58\", \"type\": \"rect\", \"xref\": \"x\", \"yref\": \"y\", \"opacity\": 1, \"line\": {\"width\": 0}, \"y0\": 3.8, \"y1\": 4.2, \"fillcolor\": \"rgb(31, 119, 180)\"}, {\"x0\": \"2016-11-05 14:28:58\", \"x1\": \"2016-11-05 14:48:58\", \"type\": \"rect\", \"xref\": \"x\", \"yref\": \"y\", \"opacity\": 1, \"line\": {\"width\": 0}, \"y0\": 4.8, \"y1\": 5.2, \"fillcolor\": \"rgb(31, 119, 180)\"}, {\"x0\": \"2016-11-05 14:50:22\", \"x1\": \"2016-11-05 15:15:22\", \"type\": \"rect\", \"xref\": \"x\", \"yref\": \"y\", \"opacity\": 1, \"line\": {\"width\": 0}, \"y0\": 1.8, \"y1\": 2.2, \"fillcolor\": \"rgb(255, 127, 14)\"}, {\"x0\": \"2016-11-05 14:51:36\", \"x1\": \"2016-11-05 15:11:36\", \"type\": \"rect\", \"xref\": \"x\", \"yref\": \"y\", \"opacity\": 1, \"line\": {\"width\": 0}, \"y0\": 4.8, \"y1\": 5.2, \"fillcolor\": \"rgb(31, 119, 180)\"}, {\"x0\": \"2016-11-05 15:13:00\", \"x1\": \"2016-11-05 15:38:00\", \"type\": \"rect\", \"xref\": \"x\", \"yref\": \"y\", \"opacity\": 1, \"line\": {\"width\": 0}, \"y0\": 2.8, \"y1\": 3.2, \"fillcolor\": \"rgb(255, 127, 14)\"}, {\"x0\": \"2016-11-05 15:15:22\", \"x1\": \"2016-11-05 16:19:22\", \"type\": \"rect\", \"xref\": \"x\", \"yref\": \"y\", \"opacity\": 1, \"line\": {\"width\": 0}, \"y0\": 1.8, \"y1\": 2.2, \"fillcolor\": \"rgb(255, 127, 14)\"}, {\"x0\": \"2016-11-05 15:38:00\", \"x1\": \"2016-11-05 16:42:00\", \"type\": \"rect\", \"xref\": \"x\", \"yref\": \"y\", \"opacity\": 1, \"line\": {\"width\": 0}, \"y0\": 2.8, \"y1\": 3.2, \"fillcolor\": \"rgb(255, 127, 14)\"}, {\"x0\": \"2016-11-05 16:20:46\", \"x1\": \"2016-11-05 16:40:46\", \"type\": \"rect\", \"xref\": \"x\", \"yref\": \"y\", \"opacity\": 1, \"line\": {\"width\": 0}, \"y0\": 4.8, \"y1\": 5.2, \"fillcolor\": \"rgb(31, 119, 180)\"}, {\"x0\": \"2016-11-05 16:42:10\", \"x1\": \"2016-11-05 17:07:10\", \"type\": \"rect\", \"xref\": \"x\", \"yref\": \"y\", \"opacity\": 1, \"line\": {\"width\": 0}, \"y0\": 1.8, \"y1\": 2.2, \"fillcolor\": \"rgb(255, 127, 14)\"}, {\"x0\": \"2016-11-05 16:43:24\", \"x1\": \"2016-11-05 17:03:24\", \"type\": \"rect\", \"xref\": \"x\", \"yref\": \"y\", \"opacity\": 1, \"line\": {\"width\": 0}, \"y0\": 4.8, \"y1\": 5.2, \"fillcolor\": \"rgb(31, 119, 180)\"}, {\"x0\": \"2016-11-05 17:04:48\", \"x1\": \"2016-11-05 17:29:48\", \"type\": \"rect\", \"xref\": \"x\", \"yref\": \"y\", \"opacity\": 1, \"line\": {\"width\": 0}, \"y0\": 2.8, \"y1\": 3.2, \"fillcolor\": \"rgb(255, 127, 14)\"}, {\"x0\": \"2016-11-05 17:07:10\", \"x1\": \"2016-11-05 18:11:10\", \"type\": \"rect\", \"xref\": \"x\", \"yref\": \"y\", \"opacity\": 1, \"line\": {\"width\": 0}, \"y0\": 1.8, \"y1\": 2.2, \"fillcolor\": \"rgb(255, 127, 14)\"}, {\"x0\": \"2016-11-05 17:29:48\", \"x1\": \"2016-11-05 18:33:48\", \"type\": \"rect\", \"xref\": \"x\", \"yref\": \"y\", \"opacity\": 1, \"line\": {\"width\": 0}, \"y0\": 2.8, \"y1\": 3.2, \"fillcolor\": \"rgb(255, 127, 14)\"}, {\"x0\": \"2016-11-05 18:12:34\", \"x1\": \"2016-11-05 18:32:34\", \"type\": \"rect\", \"xref\": \"x\", \"yref\": \"y\", \"opacity\": 1, \"line\": {\"width\": 0}, \"y0\": 4.8, \"y1\": 5.2, \"fillcolor\": \"rgb(31, 119, 180)\"}, {\"x0\": \"2016-11-05 18:33:58\", \"x1\": \"2016-11-05 18:58:58\", \"type\": \"rect\", \"xref\": \"x\", \"yref\": \"y\", \"opacity\": 1, \"line\": {\"width\": 0}, \"y0\": 1.8, \"y1\": 2.2, \"fillcolor\": \"rgb(255, 127, 14)\"}, {\"x0\": \"2016-11-05 18:35:12\", \"x1\": \"2016-11-05 18:55:12\", \"type\": \"rect\", \"xref\": \"x\", \"yref\": \"y\", \"opacity\": 1, \"line\": {\"width\": 0}, \"y0\": 4.8, \"y1\": 5.2, \"fillcolor\": \"rgb(31, 119, 180)\"}, {\"x0\": \"2016-11-05 18:56:36\", \"x1\": \"2016-11-05 19:21:36\", \"type\": \"rect\", \"xref\": \"x\", \"yref\": \"y\", \"opacity\": 1, \"line\": {\"width\": 0}, \"y0\": 2.8, \"y1\": 3.2, \"fillcolor\": \"rgb(255, 127, 14)\"}, {\"x0\": \"2016-11-05 18:58:58\", \"x1\": \"2016-11-05 20:02:58\", \"type\": \"rect\", \"xref\": \"x\", \"yref\": \"y\", \"opacity\": 1, \"line\": {\"width\": 0}, \"y0\": 1.8, \"y1\": 2.2, \"fillcolor\": \"rgb(255, 127, 14)\"}, {\"x0\": \"2016-11-05 19:21:36\", \"x1\": \"2016-11-05 20:25:36\", \"type\": \"rect\", \"xref\": \"x\", \"yref\": \"y\", \"opacity\": 1, \"line\": {\"width\": 0}, \"y0\": 2.8, \"y1\": 3.2, \"fillcolor\": \"rgb(255, 127, 14)\"}, {\"x0\": \"2016-11-05 20:04:22\", \"x1\": \"2016-11-05 20:24:22\", \"type\": \"rect\", \"xref\": \"x\", \"yref\": \"y\", \"opacity\": 1, \"line\": {\"width\": 0}, \"y0\": 4.8, \"y1\": 5.2, \"fillcolor\": \"rgb(31, 119, 180)\"}, {\"x0\": \"2016-11-05 20:25:46\", \"x1\": \"2016-11-05 20:50:46\", \"type\": \"rect\", \"xref\": \"x\", \"yref\": \"y\", \"opacity\": 1, \"line\": {\"width\": 0}, \"y0\": 1.8, \"y1\": 2.2, \"fillcolor\": \"rgb(255, 127, 14)\"}, {\"x0\": \"2016-11-05 20:27:00\", \"x1\": \"2016-11-05 20:42:00\", \"type\": \"rect\", \"xref\": \"x\", \"yref\": \"y\", \"opacity\": 1, \"line\": {\"width\": 0}, \"y0\": 4.8, \"y1\": 5.2, \"fillcolor\": \"rgb(31, 119, 180)\"}, {\"x0\": \"2016-11-05 20:43:24\", \"x1\": \"2016-11-05 21:08:24\", \"type\": \"rect\", \"xref\": \"x\", \"yref\": \"y\", \"opacity\": 1, \"line\": {\"width\": 0}, \"y0\": 2.8, \"y1\": 3.2, \"fillcolor\": \"rgb(255, 127, 14)\"}, {\"x0\": \"2016-11-05 20:50:46\", \"x1\": \"2016-11-05 21:54:46\", \"type\": \"rect\", \"xref\": \"x\", \"yref\": \"y\", \"opacity\": 1, \"line\": {\"width\": 0}, \"y0\": 1.8, \"y1\": 2.2, \"fillcolor\": \"rgb(255, 127, 14)\"}, {\"x0\": \"2016-11-05 21:09:48\", \"x1\": \"2016-11-05 21:14:48\", \"type\": \"rect\", \"xref\": \"x\", \"yref\": \"y\", \"opacity\": 1, \"line\": {\"width\": 0}, \"y0\": 4.8, \"y1\": 5.2, \"fillcolor\": \"rgb(31, 119, 180)\"}, {\"x0\": \"2016-11-05 21:56:10\", \"x1\": \"2016-11-05 22:11:10\", \"type\": \"rect\", \"xref\": \"x\", \"yref\": \"y\", \"opacity\": 1, \"line\": {\"width\": 0}, \"y0\": 4.8, \"y1\": 5.2, \"fillcolor\": \"rgb(31, 119, 180)\"}, {\"x0\": \"2016-11-05 22:12:34\", \"x1\": \"2016-11-05 22:37:34\", \"type\": \"rect\", \"xref\": \"x\", \"yref\": \"y\", \"opacity\": 1, \"line\": {\"width\": 0}, \"y0\": 2.8, \"y1\": 3.2, \"fillcolor\": \"rgb(255, 127, 14)\"}, {\"x0\": \"2016-11-05 22:38:58\", \"x1\": \"2016-11-05 22:43:58\", \"type\": \"rect\", \"xref\": \"x\", \"yref\": \"y\", \"opacity\": 1, \"line\": {\"width\": 0}, \"y0\": 4.8, \"y1\": 5.2, \"fillcolor\": \"rgb(31, 119, 180)\"}], \"hovermode\": \"closest\", \"yaxis\": {\"showgrid\": false, \"ticktext\": [\"Machine3\", \"Machine4\", \"Machine2\", \"Machine1\", \"L/U2\", \"L/U1\"], \"tickvals\": [0, 1, 2, 3, 4, 5], \"range\": [-1, 7], \"autorange\": false, \"zeroline\": false}, \"xaxis\": {\"showgrid\": false, \"zeroline\": false, \"rangeselector\": {\"buttons\": [{\"count\": 7, \"label\": \"1w\", \"step\": \"day\", \"stepmode\": \"backward\"}, {\"count\": 1, \"label\": \"1m\", \"step\": \"month\", \"stepmode\": \"backward\"}, {\"count\": 6, \"label\": \"6m\", \"step\": \"month\", \"stepmode\": \"backward\"}, {\"count\": 1, \"label\": \"YTD\", \"step\": \"year\", \"stepmode\": \"todate\"}, {\"count\": 1, \"label\": \"1y\", \"step\": \"year\", \"stepmode\": \"backward\"}, {\"step\": \"all\"}]}, \"type\": \"date\"}}, {\"showLink\": true, \"linkText\": \"Export to plot.ly\"})});</script>"
      ],
      "text/vnd.plotly.v1+html": [
       "<div id=\"1ff33c91-710b-4cd9-9069-8ae84db1cacd\" style=\"height: 600px; width: 900px;\" class=\"plotly-graph-div\"></div><script type=\"text/javascript\">require([\"plotly\"], function(Plotly) { window.PLOTLYENV=window.PLOTLYENV || {};window.PLOTLYENV.BASE_URL=\"https://plot.ly\";Plotly.newPlot(\"1ff33c91-710b-4cd9-9069-8ae84db1cacd\", [{\"x\": [\"2016-11-05 07:01:14\", \"2016-11-05 07:06:14\"], \"y\": [5, 5], \"name\": \"\", \"marker\": {\"color\": \"white\"}}, {\"x\": [\"2016-11-05 07:02:28\", \"2016-11-05 07:22:28\"], \"y\": [4, 4], \"name\": \"\", \"marker\": {\"color\": \"white\"}}, {\"x\": [\"2016-11-05 07:07:38\", \"2016-11-05 08:11:38\"], \"y\": [3, 3], \"name\": \"\", \"marker\": {\"color\": \"white\"}}, {\"x\": [\"2016-11-05 07:08:42\", \"2016-11-05 07:13:42\"], \"y\": [5, 5], \"name\": \"\", \"marker\": {\"color\": \"white\"}}, {\"x\": [\"2016-11-05 07:15:06\", \"2016-11-05 08:19:06\"], \"y\": [2, 2], \"name\": \"\", \"marker\": {\"color\": \"white\"}}, {\"x\": [\"2016-11-05 07:23:52\", \"2016-11-05 08:31:52\"], \"y\": [1, 1], \"name\": \"\", \"marker\": {\"color\": \"white\"}}, {\"x\": [\"2016-11-05 07:24:56\", \"2016-11-05 07:44:56\"], \"y\": [4, 4], \"name\": \"\", \"marker\": {\"color\": \"white\"}}, {\"x\": [\"2016-11-05 07:46:20\", \"2016-11-05 08:54:20\"], \"y\": [0, 0], \"name\": \"\", \"marker\": {\"color\": \"white\"}}, {\"x\": [\"2016-11-05 07:47:24\", \"2016-11-05 08:07:24\"], \"y\": [4, 4], \"name\": \"\", \"marker\": {\"color\": \"white\"}}, {\"x\": [\"2016-11-05 08:09:52\", \"2016-11-05 08:29:52\"], \"y\": [4, 4], \"name\": \"\", \"marker\": {\"color\": \"white\"}}, {\"x\": [\"2016-11-05 08:11:48\", \"2016-11-05 09:19:48\"], \"y\": [3, 3], \"name\": \"\", \"marker\": {\"color\": \"white\"}}, {\"x\": [\"2016-11-05 08:13:02\", \"2016-11-05 08:28:02\"], \"y\": [5, 5], \"name\": \"\", \"marker\": {\"color\": \"white\"}}, {\"x\": [\"2016-11-05 08:29:26\", \"2016-11-05 08:54:26\"], \"y\": [2, 2], \"name\": \"\", \"marker\": {\"color\": \"white\"}}, {\"x\": [\"2016-11-05 08:30:30\", \"2016-11-05 08:45:30\"], \"y\": [5, 5], \"name\": \"\", \"marker\": {\"color\": \"white\"}}, {\"x\": [\"2016-11-05 08:33:16\", \"2016-11-05 09:13:16\"], \"y\": [4, 4], \"name\": \"\", \"marker\": {\"color\": \"white\"}}, {\"x\": [\"2016-11-05 08:54:26\", \"2016-11-05 09:58:26\"], \"y\": [2, 2], \"name\": \"\", \"marker\": {\"color\": \"white\"}}, {\"x\": [\"2016-11-05 09:19:58\", \"2016-11-05 09:44:58\"], \"y\": [3, 3], \"name\": \"\", \"marker\": {\"color\": \"white\"}}, {\"x\": [\"2016-11-05 09:19:58\", \"2016-11-05 10:27:58\"], \"y\": [1, 1], \"name\": \"\", \"marker\": {\"color\": \"white\"}}, {\"x\": [\"2016-11-05 09:21:12\", \"2016-11-05 10:01:12\"], \"y\": [4, 4], \"name\": \"\", \"marker\": {\"color\": \"white\"}}, {\"x\": [\"2016-11-05 09:44:58\", \"2016-11-05 10:48:58\"], \"y\": [3, 3], \"name\": \"\", \"marker\": {\"color\": \"white\"}}, {\"x\": [\"2016-11-05 09:58:36\", \"2016-11-05 11:06:36\"], \"y\": [2, 2], \"name\": \"\", \"marker\": {\"color\": \"white\"}}, {\"x\": [\"2016-11-05 09:59:50\", \"2016-11-05 10:19:50\"], \"y\": [5, 5], \"name\": \"\", \"marker\": {\"color\": \"white\"}}, {\"x\": [\"2016-11-05 10:02:36\", \"2016-11-05 11:10:36\"], \"y\": [0, 0], \"name\": \"\", \"marker\": {\"color\": \"white\"}}, {\"x\": [\"2016-11-05 10:03:40\", \"2016-11-05 10:43:40\"], \"y\": [4, 4], \"name\": \"\", \"marker\": {\"color\": \"white\"}}, {\"x\": [\"2016-11-05 11:06:46\", \"2016-11-05 11:31:46\"], \"y\": [2, 2], \"name\": \"\", \"marker\": {\"color\": \"white\"}}, {\"x\": [\"2016-11-05 11:08:00\", \"2016-11-05 11:28:00\"], \"y\": [5, 5], \"name\": \"\", \"marker\": {\"color\": \"white\"}}, {\"x\": [\"2016-11-05 11:09:14\", \"2016-11-05 11:49:14\"], \"y\": [4, 4], \"name\": \"\", \"marker\": {\"color\": \"white\"}}, {\"x\": [\"2016-11-05 11:10:46\", \"2016-11-05 12:18:46\"], \"y\": [0, 0], \"name\": \"\", \"marker\": {\"color\": \"white\"}}, {\"x\": [\"2016-11-05 11:29:24\", \"2016-11-05 11:54:24\"], \"y\": [3, 3], \"name\": \"\", \"marker\": {\"color\": \"white\"}}, {\"x\": [\"2016-11-05 11:31:46\", \"2016-11-05 12:35:46\"], \"y\": [2, 2], \"name\": \"\", \"marker\": {\"color\": \"white\"}}, {\"x\": [\"2016-11-05 11:50:38\", \"2016-11-05 12:58:38\"], \"y\": [1, 1], \"name\": \"\", \"marker\": {\"color\": \"white\"}}, {\"x\": [\"2016-11-05 11:51:42\", \"2016-11-05 12:31:42\"], \"y\": [4, 4], \"name\": \"\", \"marker\": {\"color\": \"white\"}}, {\"x\": [\"2016-11-05 11:54:24\", \"2016-11-05 12:58:24\"], \"y\": [3, 3], \"name\": \"\", \"marker\": {\"color\": \"white\"}}, {\"x\": [\"2016-11-05 12:33:06\", \"2016-11-05 13:41:06\"], \"y\": [0, 0], \"name\": \"\", \"marker\": {\"color\": \"white\"}}, {\"x\": [\"2016-11-05 12:34:10\", \"2016-11-05 13:14:10\"], \"y\": [4, 4], \"name\": \"\", \"marker\": {\"color\": \"white\"}}, {\"x\": [\"2016-11-05 12:37:10\", \"2016-11-05 12:57:10\"], \"y\": [5, 5], \"name\": \"\", \"marker\": {\"color\": \"white\"}}, {\"x\": [\"2016-11-05 12:58:34\", \"2016-11-05 13:23:34\"], \"y\": [2, 2], \"name\": \"\", \"marker\": {\"color\": \"white\"}}, {\"x\": [\"2016-11-05 12:59:48\", \"2016-11-05 13:19:48\"], \"y\": [5, 5], \"name\": \"\", \"marker\": {\"color\": \"white\"}}, {\"x\": [\"2016-11-05 13:15:34\", \"2016-11-05 14:23:34\"], \"y\": [1, 1], \"name\": \"\", \"marker\": {\"color\": \"white\"}}, {\"x\": [\"2016-11-05 13:16:38\", \"2016-11-05 13:36:38\"], \"y\": [4, 4], \"name\": \"\", \"marker\": {\"color\": \"white\"}}, {\"x\": [\"2016-11-05 13:21:12\", \"2016-11-05 13:46:12\"], \"y\": [3, 3], \"name\": \"\", \"marker\": {\"color\": \"white\"}}, {\"x\": [\"2016-11-05 13:23:34\", \"2016-11-05 14:27:34\"], \"y\": [2, 2], \"name\": \"\", \"marker\": {\"color\": \"white\"}}, {\"x\": [\"2016-11-05 13:39:06\", \"2016-11-05 13:59:06\"], \"y\": [4, 4], \"name\": \"\", \"marker\": {\"color\": \"white\"}}, {\"x\": [\"2016-11-05 13:46:12\", \"2016-11-05 14:50:12\"], \"y\": [3, 3], \"name\": \"\", \"marker\": {\"color\": \"white\"}}, {\"x\": [\"2016-11-05 14:01:34\", \"2016-11-05 14:21:34\"], \"y\": [4, 4], \"name\": \"\", \"marker\": {\"color\": \"white\"}}, {\"x\": [\"2016-11-05 14:24:58\", \"2016-11-05 14:44:58\"], \"y\": [4, 4], \"name\": \"\", \"marker\": {\"color\": \"white\"}}, {\"x\": [\"2016-11-05 14:28:58\", \"2016-11-05 14:48:58\"], \"y\": [5, 5], \"name\": \"\", \"marker\": {\"color\": \"white\"}}, {\"x\": [\"2016-11-05 14:50:22\", \"2016-11-05 15:15:22\"], \"y\": [2, 2], \"name\": \"\", \"marker\": {\"color\": \"white\"}}, {\"x\": [\"2016-11-05 14:51:36\", \"2016-11-05 15:11:36\"], \"y\": [5, 5], \"name\": \"\", \"marker\": {\"color\": \"white\"}}, {\"x\": [\"2016-11-05 15:13:00\", \"2016-11-05 15:38:00\"], \"y\": [3, 3], \"name\": \"\", \"marker\": {\"color\": \"white\"}}, {\"x\": [\"2016-11-05 15:15:22\", \"2016-11-05 16:19:22\"], \"y\": [2, 2], \"name\": \"\", \"marker\": {\"color\": \"white\"}}, {\"x\": [\"2016-11-05 15:38:00\", \"2016-11-05 16:42:00\"], \"y\": [3, 3], \"name\": \"\", \"marker\": {\"color\": \"white\"}}, {\"x\": [\"2016-11-05 16:20:46\", \"2016-11-05 16:40:46\"], \"y\": [5, 5], \"name\": \"\", \"marker\": {\"color\": \"white\"}}, {\"x\": [\"2016-11-05 16:42:10\", \"2016-11-05 17:07:10\"], \"y\": [2, 2], \"name\": \"\", \"marker\": {\"color\": \"white\"}}, {\"x\": [\"2016-11-05 16:43:24\", \"2016-11-05 17:03:24\"], \"y\": [5, 5], \"name\": \"\", \"marker\": {\"color\": \"white\"}}, {\"x\": [\"2016-11-05 17:04:48\", \"2016-11-05 17:29:48\"], \"y\": [3, 3], \"name\": \"\", \"marker\": {\"color\": \"white\"}}, {\"x\": [\"2016-11-05 17:07:10\", \"2016-11-05 18:11:10\"], \"y\": [2, 2], \"name\": \"\", \"marker\": {\"color\": \"white\"}}, {\"x\": [\"2016-11-05 17:29:48\", \"2016-11-05 18:33:48\"], \"y\": [3, 3], \"name\": \"\", \"marker\": {\"color\": \"white\"}}, {\"x\": [\"2016-11-05 18:12:34\", \"2016-11-05 18:32:34\"], \"y\": [5, 5], \"name\": \"\", \"marker\": {\"color\": \"white\"}}, {\"x\": [\"2016-11-05 18:33:58\", \"2016-11-05 18:58:58\"], \"y\": [2, 2], \"name\": \"\", \"marker\": {\"color\": \"white\"}}, {\"x\": [\"2016-11-05 18:35:12\", \"2016-11-05 18:55:12\"], \"y\": [5, 5], \"name\": \"\", \"marker\": {\"color\": \"white\"}}, {\"x\": [\"2016-11-05 18:56:36\", \"2016-11-05 19:21:36\"], \"y\": [3, 3], \"name\": \"\", \"marker\": {\"color\": \"white\"}}, {\"x\": [\"2016-11-05 18:58:58\", \"2016-11-05 20:02:58\"], \"y\": [2, 2], \"name\": \"\", \"marker\": {\"color\": \"white\"}}, {\"x\": [\"2016-11-05 19:21:36\", \"2016-11-05 20:25:36\"], \"y\": [3, 3], \"name\": \"\", \"marker\": {\"color\": \"white\"}}, {\"x\": [\"2016-11-05 20:04:22\", \"2016-11-05 20:24:22\"], \"y\": [5, 5], \"name\": \"\", \"marker\": {\"color\": \"white\"}}, {\"x\": [\"2016-11-05 20:25:46\", \"2016-11-05 20:50:46\"], \"y\": [2, 2], \"name\": \"\", \"marker\": {\"color\": \"white\"}}, {\"x\": [\"2016-11-05 20:27:00\", \"2016-11-05 20:42:00\"], \"y\": [5, 5], \"name\": \"\", \"marker\": {\"color\": \"white\"}}, {\"x\": [\"2016-11-05 20:43:24\", \"2016-11-05 21:08:24\"], \"y\": [3, 3], \"name\": \"\", \"marker\": {\"color\": \"white\"}}, {\"x\": [\"2016-11-05 20:50:46\", \"2016-11-05 21:54:46\"], \"y\": [2, 2], \"name\": \"\", \"marker\": {\"color\": \"white\"}}, {\"x\": [\"2016-11-05 21:09:48\", \"2016-11-05 21:14:48\"], \"y\": [5, 5], \"name\": \"\", \"marker\": {\"color\": \"white\"}}, {\"x\": [\"2016-11-05 21:56:10\", \"2016-11-05 22:11:10\"], \"y\": [5, 5], \"name\": \"\", \"marker\": {\"color\": \"white\"}}, {\"x\": [\"2016-11-05 22:12:34\", \"2016-11-05 22:37:34\"], \"y\": [3, 3], \"name\": \"\", \"marker\": {\"color\": \"white\"}}, {\"x\": [\"2016-11-05 22:38:58\", \"2016-11-05 22:43:58\"], \"y\": [5, 5], \"name\": \"\", \"marker\": {\"color\": \"white\"}}], {\"title\": \"Gantt Chart\", \"showlegend\": false, \"height\": 600, \"width\": 900, \"shapes\": [{\"x0\": \"2016-11-05 07:01:14\", \"x1\": \"2016-11-05 07:06:14\", \"type\": \"rect\", \"xref\": \"x\", \"yref\": \"y\", \"opacity\": 1, \"line\": {\"width\": 0}, \"y0\": 4.8, \"y1\": 5.2, \"fillcolor\": \"rgb(31, 119, 180)\"}, {\"x0\": \"2016-11-05 07:02:28\", \"x1\": \"2016-11-05 07:22:28\", \"type\": \"rect\", \"xref\": \"x\", \"yref\": \"y\", \"opacity\": 1, \"line\": {\"width\": 0}, \"y0\": 3.8, \"y1\": 4.2, \"fillcolor\": \"rgb(31, 119, 180)\"}, {\"x0\": \"2016-11-05 07:07:38\", \"x1\": \"2016-11-05 08:11:38\", \"type\": \"rect\", \"xref\": \"x\", \"yref\": \"y\", \"opacity\": 1, \"line\": {\"width\": 0}, \"y0\": 2.8, \"y1\": 3.2, \"fillcolor\": \"rgb(255, 127, 14)\"}, {\"x0\": \"2016-11-05 07:08:42\", \"x1\": \"2016-11-05 07:13:42\", \"type\": \"rect\", \"xref\": \"x\", \"yref\": \"y\", \"opacity\": 1, \"line\": {\"width\": 0}, \"y0\": 4.8, \"y1\": 5.2, \"fillcolor\": \"rgb(31, 119, 180)\"}, {\"x0\": \"2016-11-05 07:15:06\", \"x1\": \"2016-11-05 08:19:06\", \"type\": \"rect\", \"xref\": \"x\", \"yref\": \"y\", \"opacity\": 1, \"line\": {\"width\": 0}, \"y0\": 1.8, \"y1\": 2.2, \"fillcolor\": \"rgb(255, 127, 14)\"}, {\"x0\": \"2016-11-05 07:23:52\", \"x1\": \"2016-11-05 08:31:52\", \"type\": \"rect\", \"xref\": \"x\", \"yref\": \"y\", \"opacity\": 1, \"line\": {\"width\": 0}, \"y0\": 0.8, \"y1\": 1.2, \"fillcolor\": \"rgb(255, 127, 14)\"}, {\"x0\": \"2016-11-05 07:24:56\", \"x1\": \"2016-11-05 07:44:56\", \"type\": \"rect\", \"xref\": \"x\", \"yref\": \"y\", \"opacity\": 1, \"line\": {\"width\": 0}, \"y0\": 3.8, \"y1\": 4.2, \"fillcolor\": \"rgb(31, 119, 180)\"}, {\"x0\": \"2016-11-05 07:46:20\", \"x1\": \"2016-11-05 08:54:20\", \"type\": \"rect\", \"xref\": \"x\", \"yref\": \"y\", \"opacity\": 1, \"line\": {\"width\": 0}, \"y0\": -0.2, \"y1\": 0.2, \"fillcolor\": \"rgb(255, 127, 14)\"}, {\"x0\": \"2016-11-05 07:47:24\", \"x1\": \"2016-11-05 08:07:24\", \"type\": \"rect\", \"xref\": \"x\", \"yref\": \"y\", \"opacity\": 1, \"line\": {\"width\": 0}, \"y0\": 3.8, \"y1\": 4.2, \"fillcolor\": \"rgb(31, 119, 180)\"}, {\"x0\": \"2016-11-05 08:09:52\", \"x1\": \"2016-11-05 08:29:52\", \"type\": \"rect\", \"xref\": \"x\", \"yref\": \"y\", \"opacity\": 1, \"line\": {\"width\": 0}, \"y0\": 3.8, \"y1\": 4.2, \"fillcolor\": \"rgb(31, 119, 180)\"}, {\"x0\": \"2016-11-05 08:11:48\", \"x1\": \"2016-11-05 09:19:48\", \"type\": \"rect\", \"xref\": \"x\", \"yref\": \"y\", \"opacity\": 1, \"line\": {\"width\": 0}, \"y0\": 2.8, \"y1\": 3.2, \"fillcolor\": \"rgb(255, 127, 14)\"}, {\"x0\": \"2016-11-05 08:13:02\", \"x1\": \"2016-11-05 08:28:02\", \"type\": \"rect\", \"xref\": \"x\", \"yref\": \"y\", \"opacity\": 1, \"line\": {\"width\": 0}, \"y0\": 4.8, \"y1\": 5.2, \"fillcolor\": \"rgb(31, 119, 180)\"}, {\"x0\": \"2016-11-05 08:29:26\", \"x1\": \"2016-11-05 08:54:26\", \"type\": \"rect\", \"xref\": \"x\", \"yref\": \"y\", \"opacity\": 1, \"line\": {\"width\": 0}, \"y0\": 1.8, \"y1\": 2.2, \"fillcolor\": \"rgb(255, 127, 14)\"}, {\"x0\": \"2016-11-05 08:30:30\", \"x1\": \"2016-11-05 08:45:30\", \"type\": \"rect\", \"xref\": \"x\", \"yref\": \"y\", \"opacity\": 1, \"line\": {\"width\": 0}, \"y0\": 4.8, \"y1\": 5.2, \"fillcolor\": \"rgb(31, 119, 180)\"}, {\"x0\": \"2016-11-05 08:33:16\", \"x1\": \"2016-11-05 09:13:16\", \"type\": \"rect\", \"xref\": \"x\", \"yref\": \"y\", \"opacity\": 1, \"line\": {\"width\": 0}, \"y0\": 3.8, \"y1\": 4.2, \"fillcolor\": \"rgb(31, 119, 180)\"}, {\"x0\": \"2016-11-05 08:54:26\", \"x1\": \"2016-11-05 09:58:26\", \"type\": \"rect\", \"xref\": \"x\", \"yref\": \"y\", \"opacity\": 1, \"line\": {\"width\": 0}, \"y0\": 1.8, \"y1\": 2.2, \"fillcolor\": \"rgb(255, 127, 14)\"}, {\"x0\": \"2016-11-05 09:19:58\", \"x1\": \"2016-11-05 09:44:58\", \"type\": \"rect\", \"xref\": \"x\", \"yref\": \"y\", \"opacity\": 1, \"line\": {\"width\": 0}, \"y0\": 2.8, \"y1\": 3.2, \"fillcolor\": \"rgb(255, 127, 14)\"}, {\"x0\": \"2016-11-05 09:19:58\", \"x1\": \"2016-11-05 10:27:58\", \"type\": \"rect\", \"xref\": \"x\", \"yref\": \"y\", \"opacity\": 1, \"line\": {\"width\": 0}, \"y0\": 0.8, \"y1\": 1.2, \"fillcolor\": \"rgb(255, 127, 14)\"}, {\"x0\": \"2016-11-05 09:21:12\", \"x1\": \"2016-11-05 10:01:12\", \"type\": \"rect\", \"xref\": \"x\", \"yref\": \"y\", \"opacity\": 1, \"line\": {\"width\": 0}, \"y0\": 3.8, \"y1\": 4.2, \"fillcolor\": \"rgb(31, 119, 180)\"}, {\"x0\": \"2016-11-05 09:44:58\", \"x1\": \"2016-11-05 10:48:58\", \"type\": \"rect\", \"xref\": \"x\", \"yref\": \"y\", \"opacity\": 1, \"line\": {\"width\": 0}, \"y0\": 2.8, \"y1\": 3.2, \"fillcolor\": \"rgb(255, 127, 14)\"}, {\"x0\": \"2016-11-05 09:58:36\", \"x1\": \"2016-11-05 11:06:36\", \"type\": \"rect\", \"xref\": \"x\", \"yref\": \"y\", \"opacity\": 1, \"line\": {\"width\": 0}, \"y0\": 1.8, \"y1\": 2.2, \"fillcolor\": \"rgb(255, 127, 14)\"}, {\"x0\": \"2016-11-05 09:59:50\", \"x1\": \"2016-11-05 10:19:50\", \"type\": \"rect\", \"xref\": \"x\", \"yref\": \"y\", \"opacity\": 1, \"line\": {\"width\": 0}, \"y0\": 4.8, \"y1\": 5.2, \"fillcolor\": \"rgb(31, 119, 180)\"}, {\"x0\": \"2016-11-05 10:02:36\", \"x1\": \"2016-11-05 11:10:36\", \"type\": \"rect\", \"xref\": \"x\", \"yref\": \"y\", \"opacity\": 1, \"line\": {\"width\": 0}, \"y0\": -0.2, \"y1\": 0.2, \"fillcolor\": \"rgb(255, 127, 14)\"}, {\"x0\": \"2016-11-05 10:03:40\", \"x1\": \"2016-11-05 10:43:40\", \"type\": \"rect\", \"xref\": \"x\", \"yref\": \"y\", \"opacity\": 1, \"line\": {\"width\": 0}, \"y0\": 3.8, \"y1\": 4.2, \"fillcolor\": \"rgb(31, 119, 180)\"}, {\"x0\": \"2016-11-05 11:06:46\", \"x1\": \"2016-11-05 11:31:46\", \"type\": \"rect\", \"xref\": \"x\", \"yref\": \"y\", \"opacity\": 1, \"line\": {\"width\": 0}, \"y0\": 1.8, \"y1\": 2.2, \"fillcolor\": \"rgb(255, 127, 14)\"}, {\"x0\": \"2016-11-05 11:08:00\", \"x1\": \"2016-11-05 11:28:00\", \"type\": \"rect\", \"xref\": \"x\", \"yref\": \"y\", \"opacity\": 1, \"line\": {\"width\": 0}, \"y0\": 4.8, \"y1\": 5.2, \"fillcolor\": \"rgb(31, 119, 180)\"}, {\"x0\": \"2016-11-05 11:09:14\", \"x1\": \"2016-11-05 11:49:14\", \"type\": \"rect\", \"xref\": \"x\", \"yref\": \"y\", \"opacity\": 1, \"line\": {\"width\": 0}, \"y0\": 3.8, \"y1\": 4.2, \"fillcolor\": \"rgb(31, 119, 180)\"}, {\"x0\": \"2016-11-05 11:10:46\", \"x1\": \"2016-11-05 12:18:46\", \"type\": \"rect\", \"xref\": \"x\", \"yref\": \"y\", \"opacity\": 1, \"line\": {\"width\": 0}, \"y0\": -0.2, \"y1\": 0.2, \"fillcolor\": \"rgb(255, 127, 14)\"}, {\"x0\": \"2016-11-05 11:29:24\", \"x1\": \"2016-11-05 11:54:24\", \"type\": \"rect\", \"xref\": \"x\", \"yref\": \"y\", \"opacity\": 1, \"line\": {\"width\": 0}, \"y0\": 2.8, \"y1\": 3.2, \"fillcolor\": \"rgb(255, 127, 14)\"}, {\"x0\": \"2016-11-05 11:31:46\", \"x1\": \"2016-11-05 12:35:46\", \"type\": \"rect\", \"xref\": \"x\", \"yref\": \"y\", \"opacity\": 1, \"line\": {\"width\": 0}, \"y0\": 1.8, \"y1\": 2.2, \"fillcolor\": \"rgb(255, 127, 14)\"}, {\"x0\": \"2016-11-05 11:50:38\", \"x1\": \"2016-11-05 12:58:38\", \"type\": \"rect\", \"xref\": \"x\", \"yref\": \"y\", \"opacity\": 1, \"line\": {\"width\": 0}, \"y0\": 0.8, \"y1\": 1.2, \"fillcolor\": \"rgb(255, 127, 14)\"}, {\"x0\": \"2016-11-05 11:51:42\", \"x1\": \"2016-11-05 12:31:42\", \"type\": \"rect\", \"xref\": \"x\", \"yref\": \"y\", \"opacity\": 1, \"line\": {\"width\": 0}, \"y0\": 3.8, \"y1\": 4.2, \"fillcolor\": \"rgb(31, 119, 180)\"}, {\"x0\": \"2016-11-05 11:54:24\", \"x1\": \"2016-11-05 12:58:24\", \"type\": \"rect\", \"xref\": \"x\", \"yref\": \"y\", \"opacity\": 1, \"line\": {\"width\": 0}, \"y0\": 2.8, \"y1\": 3.2, \"fillcolor\": \"rgb(255, 127, 14)\"}, {\"x0\": \"2016-11-05 12:33:06\", \"x1\": \"2016-11-05 13:41:06\", \"type\": \"rect\", \"xref\": \"x\", \"yref\": \"y\", \"opacity\": 1, \"line\": {\"width\": 0}, \"y0\": -0.2, \"y1\": 0.2, \"fillcolor\": \"rgb(255, 127, 14)\"}, {\"x0\": \"2016-11-05 12:34:10\", \"x1\": \"2016-11-05 13:14:10\", \"type\": \"rect\", \"xref\": \"x\", \"yref\": \"y\", \"opacity\": 1, \"line\": {\"width\": 0}, \"y0\": 3.8, \"y1\": 4.2, \"fillcolor\": \"rgb(31, 119, 180)\"}, {\"x0\": \"2016-11-05 12:37:10\", \"x1\": \"2016-11-05 12:57:10\", \"type\": \"rect\", \"xref\": \"x\", \"yref\": \"y\", \"opacity\": 1, \"line\": {\"width\": 0}, \"y0\": 4.8, \"y1\": 5.2, \"fillcolor\": \"rgb(31, 119, 180)\"}, {\"x0\": \"2016-11-05 12:58:34\", \"x1\": \"2016-11-05 13:23:34\", \"type\": \"rect\", \"xref\": \"x\", \"yref\": \"y\", \"opacity\": 1, \"line\": {\"width\": 0}, \"y0\": 1.8, \"y1\": 2.2, \"fillcolor\": \"rgb(255, 127, 14)\"}, {\"x0\": \"2016-11-05 12:59:48\", \"x1\": \"2016-11-05 13:19:48\", \"type\": \"rect\", \"xref\": \"x\", \"yref\": \"y\", \"opacity\": 1, \"line\": {\"width\": 0}, \"y0\": 4.8, \"y1\": 5.2, \"fillcolor\": \"rgb(31, 119, 180)\"}, {\"x0\": \"2016-11-05 13:15:34\", \"x1\": \"2016-11-05 14:23:34\", \"type\": \"rect\", \"xref\": \"x\", \"yref\": \"y\", \"opacity\": 1, \"line\": {\"width\": 0}, \"y0\": 0.8, \"y1\": 1.2, \"fillcolor\": \"rgb(255, 127, 14)\"}, {\"x0\": \"2016-11-05 13:16:38\", \"x1\": \"2016-11-05 13:36:38\", \"type\": \"rect\", \"xref\": \"x\", \"yref\": \"y\", \"opacity\": 1, \"line\": {\"width\": 0}, \"y0\": 3.8, \"y1\": 4.2, \"fillcolor\": \"rgb(31, 119, 180)\"}, {\"x0\": \"2016-11-05 13:21:12\", \"x1\": \"2016-11-05 13:46:12\", \"type\": \"rect\", \"xref\": \"x\", \"yref\": \"y\", \"opacity\": 1, \"line\": {\"width\": 0}, \"y0\": 2.8, \"y1\": 3.2, \"fillcolor\": \"rgb(255, 127, 14)\"}, {\"x0\": \"2016-11-05 13:23:34\", \"x1\": \"2016-11-05 14:27:34\", \"type\": \"rect\", \"xref\": \"x\", \"yref\": \"y\", \"opacity\": 1, \"line\": {\"width\": 0}, \"y0\": 1.8, \"y1\": 2.2, \"fillcolor\": \"rgb(255, 127, 14)\"}, {\"x0\": \"2016-11-05 13:39:06\", \"x1\": \"2016-11-05 13:59:06\", \"type\": \"rect\", \"xref\": \"x\", \"yref\": \"y\", \"opacity\": 1, \"line\": {\"width\": 0}, \"y0\": 3.8, \"y1\": 4.2, \"fillcolor\": \"rgb(31, 119, 180)\"}, {\"x0\": \"2016-11-05 13:46:12\", \"x1\": \"2016-11-05 14:50:12\", \"type\": \"rect\", \"xref\": \"x\", \"yref\": \"y\", \"opacity\": 1, \"line\": {\"width\": 0}, \"y0\": 2.8, \"y1\": 3.2, \"fillcolor\": \"rgb(255, 127, 14)\"}, {\"x0\": \"2016-11-05 14:01:34\", \"x1\": \"2016-11-05 14:21:34\", \"type\": \"rect\", \"xref\": \"x\", \"yref\": \"y\", \"opacity\": 1, \"line\": {\"width\": 0}, \"y0\": 3.8, \"y1\": 4.2, \"fillcolor\": \"rgb(31, 119, 180)\"}, {\"x0\": \"2016-11-05 14:24:58\", \"x1\": \"2016-11-05 14:44:58\", \"type\": \"rect\", \"xref\": \"x\", \"yref\": \"y\", \"opacity\": 1, \"line\": {\"width\": 0}, \"y0\": 3.8, \"y1\": 4.2, \"fillcolor\": \"rgb(31, 119, 180)\"}, {\"x0\": \"2016-11-05 14:28:58\", \"x1\": \"2016-11-05 14:48:58\", \"type\": \"rect\", \"xref\": \"x\", \"yref\": \"y\", \"opacity\": 1, \"line\": {\"width\": 0}, \"y0\": 4.8, \"y1\": 5.2, \"fillcolor\": \"rgb(31, 119, 180)\"}, {\"x0\": \"2016-11-05 14:50:22\", \"x1\": \"2016-11-05 15:15:22\", \"type\": \"rect\", \"xref\": \"x\", \"yref\": \"y\", \"opacity\": 1, \"line\": {\"width\": 0}, \"y0\": 1.8, \"y1\": 2.2, \"fillcolor\": \"rgb(255, 127, 14)\"}, {\"x0\": \"2016-11-05 14:51:36\", \"x1\": \"2016-11-05 15:11:36\", \"type\": \"rect\", \"xref\": \"x\", \"yref\": \"y\", \"opacity\": 1, \"line\": {\"width\": 0}, \"y0\": 4.8, \"y1\": 5.2, \"fillcolor\": \"rgb(31, 119, 180)\"}, {\"x0\": \"2016-11-05 15:13:00\", \"x1\": \"2016-11-05 15:38:00\", \"type\": \"rect\", \"xref\": \"x\", \"yref\": \"y\", \"opacity\": 1, \"line\": {\"width\": 0}, \"y0\": 2.8, \"y1\": 3.2, \"fillcolor\": \"rgb(255, 127, 14)\"}, {\"x0\": \"2016-11-05 15:15:22\", \"x1\": \"2016-11-05 16:19:22\", \"type\": \"rect\", \"xref\": \"x\", \"yref\": \"y\", \"opacity\": 1, \"line\": {\"width\": 0}, \"y0\": 1.8, \"y1\": 2.2, \"fillcolor\": \"rgb(255, 127, 14)\"}, {\"x0\": \"2016-11-05 15:38:00\", \"x1\": \"2016-11-05 16:42:00\", \"type\": \"rect\", \"xref\": \"x\", \"yref\": \"y\", \"opacity\": 1, \"line\": {\"width\": 0}, \"y0\": 2.8, \"y1\": 3.2, \"fillcolor\": \"rgb(255, 127, 14)\"}, {\"x0\": \"2016-11-05 16:20:46\", \"x1\": \"2016-11-05 16:40:46\", \"type\": \"rect\", \"xref\": \"x\", \"yref\": \"y\", \"opacity\": 1, \"line\": {\"width\": 0}, \"y0\": 4.8, \"y1\": 5.2, \"fillcolor\": \"rgb(31, 119, 180)\"}, {\"x0\": \"2016-11-05 16:42:10\", \"x1\": \"2016-11-05 17:07:10\", \"type\": \"rect\", \"xref\": \"x\", \"yref\": \"y\", \"opacity\": 1, \"line\": {\"width\": 0}, \"y0\": 1.8, \"y1\": 2.2, \"fillcolor\": \"rgb(255, 127, 14)\"}, {\"x0\": \"2016-11-05 16:43:24\", \"x1\": \"2016-11-05 17:03:24\", \"type\": \"rect\", \"xref\": \"x\", \"yref\": \"y\", \"opacity\": 1, \"line\": {\"width\": 0}, \"y0\": 4.8, \"y1\": 5.2, \"fillcolor\": \"rgb(31, 119, 180)\"}, {\"x0\": \"2016-11-05 17:04:48\", \"x1\": \"2016-11-05 17:29:48\", \"type\": \"rect\", \"xref\": \"x\", \"yref\": \"y\", \"opacity\": 1, \"line\": {\"width\": 0}, \"y0\": 2.8, \"y1\": 3.2, \"fillcolor\": \"rgb(255, 127, 14)\"}, {\"x0\": \"2016-11-05 17:07:10\", \"x1\": \"2016-11-05 18:11:10\", \"type\": \"rect\", \"xref\": \"x\", \"yref\": \"y\", \"opacity\": 1, \"line\": {\"width\": 0}, \"y0\": 1.8, \"y1\": 2.2, \"fillcolor\": \"rgb(255, 127, 14)\"}, {\"x0\": \"2016-11-05 17:29:48\", \"x1\": \"2016-11-05 18:33:48\", \"type\": \"rect\", \"xref\": \"x\", \"yref\": \"y\", \"opacity\": 1, \"line\": {\"width\": 0}, \"y0\": 2.8, \"y1\": 3.2, \"fillcolor\": \"rgb(255, 127, 14)\"}, {\"x0\": \"2016-11-05 18:12:34\", \"x1\": \"2016-11-05 18:32:34\", \"type\": \"rect\", \"xref\": \"x\", \"yref\": \"y\", \"opacity\": 1, \"line\": {\"width\": 0}, \"y0\": 4.8, \"y1\": 5.2, \"fillcolor\": \"rgb(31, 119, 180)\"}, {\"x0\": \"2016-11-05 18:33:58\", \"x1\": \"2016-11-05 18:58:58\", \"type\": \"rect\", \"xref\": \"x\", \"yref\": \"y\", \"opacity\": 1, \"line\": {\"width\": 0}, \"y0\": 1.8, \"y1\": 2.2, \"fillcolor\": \"rgb(255, 127, 14)\"}, {\"x0\": \"2016-11-05 18:35:12\", \"x1\": \"2016-11-05 18:55:12\", \"type\": \"rect\", \"xref\": \"x\", \"yref\": \"y\", \"opacity\": 1, \"line\": {\"width\": 0}, \"y0\": 4.8, \"y1\": 5.2, \"fillcolor\": \"rgb(31, 119, 180)\"}, {\"x0\": \"2016-11-05 18:56:36\", \"x1\": \"2016-11-05 19:21:36\", \"type\": \"rect\", \"xref\": \"x\", \"yref\": \"y\", \"opacity\": 1, \"line\": {\"width\": 0}, \"y0\": 2.8, \"y1\": 3.2, \"fillcolor\": \"rgb(255, 127, 14)\"}, {\"x0\": \"2016-11-05 18:58:58\", \"x1\": \"2016-11-05 20:02:58\", \"type\": \"rect\", \"xref\": \"x\", \"yref\": \"y\", \"opacity\": 1, \"line\": {\"width\": 0}, \"y0\": 1.8, \"y1\": 2.2, \"fillcolor\": \"rgb(255, 127, 14)\"}, {\"x0\": \"2016-11-05 19:21:36\", \"x1\": \"2016-11-05 20:25:36\", \"type\": \"rect\", \"xref\": \"x\", \"yref\": \"y\", \"opacity\": 1, \"line\": {\"width\": 0}, \"y0\": 2.8, \"y1\": 3.2, \"fillcolor\": \"rgb(255, 127, 14)\"}, {\"x0\": \"2016-11-05 20:04:22\", \"x1\": \"2016-11-05 20:24:22\", \"type\": \"rect\", \"xref\": \"x\", \"yref\": \"y\", \"opacity\": 1, \"line\": {\"width\": 0}, \"y0\": 4.8, \"y1\": 5.2, \"fillcolor\": \"rgb(31, 119, 180)\"}, {\"x0\": \"2016-11-05 20:25:46\", \"x1\": \"2016-11-05 20:50:46\", \"type\": \"rect\", \"xref\": \"x\", \"yref\": \"y\", \"opacity\": 1, \"line\": {\"width\": 0}, \"y0\": 1.8, \"y1\": 2.2, \"fillcolor\": \"rgb(255, 127, 14)\"}, {\"x0\": \"2016-11-05 20:27:00\", \"x1\": \"2016-11-05 20:42:00\", \"type\": \"rect\", \"xref\": \"x\", \"yref\": \"y\", \"opacity\": 1, \"line\": {\"width\": 0}, \"y0\": 4.8, \"y1\": 5.2, \"fillcolor\": \"rgb(31, 119, 180)\"}, {\"x0\": \"2016-11-05 20:43:24\", \"x1\": \"2016-11-05 21:08:24\", \"type\": \"rect\", \"xref\": \"x\", \"yref\": \"y\", \"opacity\": 1, \"line\": {\"width\": 0}, \"y0\": 2.8, \"y1\": 3.2, \"fillcolor\": \"rgb(255, 127, 14)\"}, {\"x0\": \"2016-11-05 20:50:46\", \"x1\": \"2016-11-05 21:54:46\", \"type\": \"rect\", \"xref\": \"x\", \"yref\": \"y\", \"opacity\": 1, \"line\": {\"width\": 0}, \"y0\": 1.8, \"y1\": 2.2, \"fillcolor\": \"rgb(255, 127, 14)\"}, {\"x0\": \"2016-11-05 21:09:48\", \"x1\": \"2016-11-05 21:14:48\", \"type\": \"rect\", \"xref\": \"x\", \"yref\": \"y\", \"opacity\": 1, \"line\": {\"width\": 0}, \"y0\": 4.8, \"y1\": 5.2, \"fillcolor\": \"rgb(31, 119, 180)\"}, {\"x0\": \"2016-11-05 21:56:10\", \"x1\": \"2016-11-05 22:11:10\", \"type\": \"rect\", \"xref\": \"x\", \"yref\": \"y\", \"opacity\": 1, \"line\": {\"width\": 0}, \"y0\": 4.8, \"y1\": 5.2, \"fillcolor\": \"rgb(31, 119, 180)\"}, {\"x0\": \"2016-11-05 22:12:34\", \"x1\": \"2016-11-05 22:37:34\", \"type\": \"rect\", \"xref\": \"x\", \"yref\": \"y\", \"opacity\": 1, \"line\": {\"width\": 0}, \"y0\": 2.8, \"y1\": 3.2, \"fillcolor\": \"rgb(255, 127, 14)\"}, {\"x0\": \"2016-11-05 22:38:58\", \"x1\": \"2016-11-05 22:43:58\", \"type\": \"rect\", \"xref\": \"x\", \"yref\": \"y\", \"opacity\": 1, \"line\": {\"width\": 0}, \"y0\": 4.8, \"y1\": 5.2, \"fillcolor\": \"rgb(31, 119, 180)\"}], \"hovermode\": \"closest\", \"yaxis\": {\"showgrid\": false, \"ticktext\": [\"Machine3\", \"Machine4\", \"Machine2\", \"Machine1\", \"L/U2\", \"L/U1\"], \"tickvals\": [0, 1, 2, 3, 4, 5], \"range\": [-1, 7], \"autorange\": false, \"zeroline\": false}, \"xaxis\": {\"showgrid\": false, \"zeroline\": false, \"rangeselector\": {\"buttons\": [{\"count\": 7, \"label\": \"1w\", \"step\": \"day\", \"stepmode\": \"backward\"}, {\"count\": 1, \"label\": \"1m\", \"step\": \"month\", \"stepmode\": \"backward\"}, {\"count\": 6, \"label\": \"6m\", \"step\": \"month\", \"stepmode\": \"backward\"}, {\"count\": 1, \"label\": \"YTD\", \"step\": \"year\", \"stepmode\": \"todate\"}, {\"count\": 1, \"label\": \"1y\", \"step\": \"year\", \"stepmode\": \"backward\"}, {\"step\": \"all\"}]}, \"type\": \"date\"}}, {\"showLink\": true, \"linkText\": \"Export to plot.ly\"})});</script>"
      ]
     },
     "metadata": {},
     "output_type": "display_data"
    }
   ],
   "source": [
    "simstat[\"Task\"] = simstat[\"StationGroup\"] + simstat[\"StationNum\"].apply(str)\n",
    "simstat[\"Start\"] = simstat[\"StartUTC\"]\n",
    "simstat[\"Finish\"] = simstat[\"EndUTC\"]\n",
    "plotly.offline.iplot(ff.create_gantt(simstat, index_col=\"StationGroup\", group_tasks=True))"
   ]
  },
  {
   "cell_type": "code",
   "execution_count": null,
   "metadata": {
    "collapsed": true
   },
   "outputs": [],
   "source": []
  }
 ],
 "metadata": {
  "kernelspec": {
   "display_name": "Python 3",
   "language": "python",
   "name": "python3"
  },
  "language_info": {
   "codemirror_mode": {
    "name": "ipython",
    "version": 3
   },
   "file_extension": ".py",
   "mimetype": "text/x-python",
   "name": "python",
   "nbconvert_exporter": "python",
   "pygments_lexer": "ipython3",
   "version": "3.6.4"
  }
 },
 "nbformat": 4,
 "nbformat_minor": 2
}
