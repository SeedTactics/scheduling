{
 "cells": [
  {
   "cell_type": "code",
   "execution_count": 1,
   "metadata": {},
   "outputs": [
    {
     "data": {
      "text/html": [
       "<script>requirejs.config({paths: { 'plotly': ['https://cdn.plot.ly/plotly-latest.min']},});if(!window.Plotly) {{require(['plotly'],function(plotly) {window.Plotly=plotly;});}}</script>"
      ],
      "text/vnd.plotly.v1+html": [
       "<script>requirejs.config({paths: { 'plotly': ['https://cdn.plot.ly/plotly-latest.min']},});if(!window.Plotly) {{require(['plotly'],function(plotly) {window.Plotly=plotly;});}}</script>"
      ]
     },
     "metadata": {},
     "output_type": "display_data"
    }
   ],
   "source": [
    "import plotly\n",
    "import numpy as nd\n",
    "import pandas as pd\n",
    "import plotly.graph_objs as go\n",
    "import functools\n",
    "import allocate\n",
    "plotly.offline.init_notebook_mode(connected=True)\n",
    "%matplotlib inline"
   ]
  },
  {
   "cell_type": "code",
   "execution_count": 2,
   "metadata": {
    "collapsed": true
   },
   "outputs": [],
   "source": [
    "run = functools.partial(\n",
    "    allocate.allocate,\n",
    "    flex_file=\"sample-flex.json\",\n",
    "    allocatecli=\"../allocatecli\",\n",
    "    plugin=\"../../pegboard/lib/pegboard/allocate/bin/Debug/netstandard2.0/BlackMaple.Pegboard.Allocate.dll\")"
   ]
  },
  {
   "cell_type": "code",
   "execution_count": 3,
   "metadata": {},
   "outputs": [
    {
     "data": {
      "text/html": [
       "<div>\n",
       "<style scoped>\n",
       "    .dataframe tbody tr th:only-of-type {\n",
       "        vertical-align: middle;\n",
       "    }\n",
       "\n",
       "    .dataframe tbody tr th {\n",
       "        vertical-align: top;\n",
       "    }\n",
       "\n",
       "    .dataframe thead th {\n",
       "        text-align: right;\n",
       "    }\n",
       "</style>\n",
       "<table border=\"1\" class=\"dataframe\">\n",
       "  <thead>\n",
       "    <tr style=\"text-align: right;\">\n",
       "      <th></th>\n",
       "      <th>BookingId</th>\n",
       "      <th>DueDate</th>\n",
       "      <th>Priority</th>\n",
       "      <th>Part</th>\n",
       "      <th>Quantity</th>\n",
       "    </tr>\n",
       "  </thead>\n",
       "  <tbody>\n",
       "    <tr>\n",
       "      <th>0</th>\n",
       "      <td>book1</td>\n",
       "      <td>2017-11-05</td>\n",
       "      <td>5</td>\n",
       "      <td>part1</td>\n",
       "      <td>15</td>\n",
       "    </tr>\n",
       "    <tr>\n",
       "      <th>1</th>\n",
       "      <td>book2</td>\n",
       "      <td>2017-11-05</td>\n",
       "      <td>10</td>\n",
       "      <td>part2</td>\n",
       "      <td>20</td>\n",
       "    </tr>\n",
       "  </tbody>\n",
       "</table>\n",
       "</div>"
      ],
      "text/plain": [
       "  BookingId    DueDate  Priority   Part  Quantity\n",
       "0     book1 2017-11-05         5  part1        15\n",
       "1     book2 2017-11-05        10  part2        20"
      ]
     },
     "execution_count": 3,
     "metadata": {},
     "output_type": "execute_result"
    }
   ],
   "source": [
    "# Create some bookings.  Can also load from sample CSV files\n",
    "bookings = pd.DataFrame([\n",
    "    (\"book1\", pd.Timestamp(\"2017-11-05\"), 5, \"part1\", 15),\n",
    "    (\"book2\", pd.Timestamp(\"2017-11-05\"), 10, \"part2\", 20)\n",
    "], columns=[\"BookingId\", \"DueDate\", \"Priority\", \"Part\", \"Quantity\"])\n",
    "bookings"
   ]
  },
  {
   "cell_type": "code",
   "execution_count": 6,
   "metadata": {},
   "outputs": [
    {
     "name": "stdout",
     "output_type": "stream",
     "text": [
      "Simulation from 2016-11-05T12:00:00Z to 2016-11-06T13:00:00Z UTC\n",
      "* part1 \n",
      "    Priority: 100\n",
      "    Proc 1\n",
      "        Path 0\n",
      "            Completed 15\n",
      "            Pallets pal1-1,pal1-2\n",
      "            Loads 1\n",
      "            Stops Machine1,Machine2\n",
      "            Unload 1\n",
      "    Proc 2\n",
      "        Path 0\n",
      "            Pallets pal1-1,pal1-2\n",
      "            Loads 1\n",
      "            Stops Machine1,Machine2\n",
      "            Unload 1\n",
      "* part2 \n",
      "    Priority: 100\n",
      "    Proc 1\n",
      "        Path 0\n",
      "            Completed 20\n",
      "            Pallets pal2,pal3-1,pal3-2,pal3-3\n",
      "            Loads 2\n",
      "            Stops Machine1,Machine2,Machine3,Machine4\n",
      "            Unload 2\n"
     ]
    }
   ],
   "source": [
    "results = run(bookings)\n",
    "allocate.print_result_summary(results)"
   ]
  },
  {
   "cell_type": "code",
   "execution_count": 7,
   "metadata": {},
   "outputs": [
    {
     "data": {
      "text/html": [
       "<div>\n",
       "<style scoped>\n",
       "    .dataframe tbody tr th:only-of-type {\n",
       "        vertical-align: middle;\n",
       "    }\n",
       "\n",
       "    .dataframe tbody tr th {\n",
       "        vertical-align: top;\n",
       "    }\n",
       "\n",
       "    .dataframe thead th {\n",
       "        text-align: right;\n",
       "    }\n",
       "</style>\n",
       "<table border=\"1\" class=\"dataframe\">\n",
       "  <thead>\n",
       "    <tr style=\"text-align: right;\">\n",
       "      <th></th>\n",
       "      <th>EndUTC</th>\n",
       "      <th>PlannedDownTime</th>\n",
       "      <th>SimulationId</th>\n",
       "      <th>StartUTC</th>\n",
       "      <th>StationGroup</th>\n",
       "      <th>StationNum</th>\n",
       "      <th>UtilizationTime</th>\n",
       "    </tr>\n",
       "  </thead>\n",
       "  <tbody>\n",
       "    <tr>\n",
       "      <th>0</th>\n",
       "      <td>2016-11-05 12:06:14</td>\n",
       "      <td>0 days</td>\n",
       "      <td>schId1234</td>\n",
       "      <td>2016-11-05 12:01:14</td>\n",
       "      <td>L/U</td>\n",
       "      <td>1</td>\n",
       "      <td>00:05:00</td>\n",
       "    </tr>\n",
       "    <tr>\n",
       "      <th>1</th>\n",
       "      <td>2016-11-05 12:22:28</td>\n",
       "      <td>0 days</td>\n",
       "      <td>schId1234</td>\n",
       "      <td>2016-11-05 12:02:28</td>\n",
       "      <td>L/U</td>\n",
       "      <td>2</td>\n",
       "      <td>00:20:00</td>\n",
       "    </tr>\n",
       "    <tr>\n",
       "      <th>2</th>\n",
       "      <td>2016-11-05 13:11:38</td>\n",
       "      <td>0 days</td>\n",
       "      <td>schId1234</td>\n",
       "      <td>2016-11-05 12:07:38</td>\n",
       "      <td>Machine</td>\n",
       "      <td>1</td>\n",
       "      <td>01:04:00</td>\n",
       "    </tr>\n",
       "    <tr>\n",
       "      <th>3</th>\n",
       "      <td>2016-11-05 12:13:42</td>\n",
       "      <td>0 days</td>\n",
       "      <td>schId1234</td>\n",
       "      <td>2016-11-05 12:08:42</td>\n",
       "      <td>L/U</td>\n",
       "      <td>1</td>\n",
       "      <td>00:05:00</td>\n",
       "    </tr>\n",
       "    <tr>\n",
       "      <th>4</th>\n",
       "      <td>2016-11-05 13:19:06</td>\n",
       "      <td>0 days</td>\n",
       "      <td>schId1234</td>\n",
       "      <td>2016-11-05 12:15:06</td>\n",
       "      <td>Machine</td>\n",
       "      <td>2</td>\n",
       "      <td>01:04:00</td>\n",
       "    </tr>\n",
       "    <tr>\n",
       "      <th>5</th>\n",
       "      <td>2016-11-05 13:31:52</td>\n",
       "      <td>0 days</td>\n",
       "      <td>schId1234</td>\n",
       "      <td>2016-11-05 12:23:52</td>\n",
       "      <td>Machine</td>\n",
       "      <td>3</td>\n",
       "      <td>01:08:00</td>\n",
       "    </tr>\n",
       "    <tr>\n",
       "      <th>6</th>\n",
       "      <td>2016-11-05 12:44:56</td>\n",
       "      <td>0 days</td>\n",
       "      <td>schId1234</td>\n",
       "      <td>2016-11-05 12:24:56</td>\n",
       "      <td>L/U</td>\n",
       "      <td>2</td>\n",
       "      <td>00:20:00</td>\n",
       "    </tr>\n",
       "    <tr>\n",
       "      <th>7</th>\n",
       "      <td>2016-11-05 13:54:20</td>\n",
       "      <td>0 days</td>\n",
       "      <td>schId1234</td>\n",
       "      <td>2016-11-05 12:46:20</td>\n",
       "      <td>Machine</td>\n",
       "      <td>4</td>\n",
       "      <td>01:08:00</td>\n",
       "    </tr>\n",
       "    <tr>\n",
       "      <th>8</th>\n",
       "      <td>2016-11-05 13:07:24</td>\n",
       "      <td>0 days</td>\n",
       "      <td>schId1234</td>\n",
       "      <td>2016-11-05 12:47:24</td>\n",
       "      <td>L/U</td>\n",
       "      <td>2</td>\n",
       "      <td>00:20:00</td>\n",
       "    </tr>\n",
       "    <tr>\n",
       "      <th>9</th>\n",
       "      <td>2016-11-05 13:29:52</td>\n",
       "      <td>0 days</td>\n",
       "      <td>schId1234</td>\n",
       "      <td>2016-11-05 13:09:52</td>\n",
       "      <td>L/U</td>\n",
       "      <td>2</td>\n",
       "      <td>00:20:00</td>\n",
       "    </tr>\n",
       "    <tr>\n",
       "      <th>10</th>\n",
       "      <td>2016-11-05 14:19:48</td>\n",
       "      <td>0 days</td>\n",
       "      <td>schId1234</td>\n",
       "      <td>2016-11-05 13:11:48</td>\n",
       "      <td>Machine</td>\n",
       "      <td>1</td>\n",
       "      <td>01:08:00</td>\n",
       "    </tr>\n",
       "    <tr>\n",
       "      <th>11</th>\n",
       "      <td>2016-11-05 13:28:02</td>\n",
       "      <td>0 days</td>\n",
       "      <td>schId1234</td>\n",
       "      <td>2016-11-05 13:13:02</td>\n",
       "      <td>L/U</td>\n",
       "      <td>1</td>\n",
       "      <td>00:15:00</td>\n",
       "    </tr>\n",
       "    <tr>\n",
       "      <th>12</th>\n",
       "      <td>2016-11-05 13:54:26</td>\n",
       "      <td>0 days</td>\n",
       "      <td>schId1234</td>\n",
       "      <td>2016-11-05 13:29:26</td>\n",
       "      <td>Machine</td>\n",
       "      <td>2</td>\n",
       "      <td>00:25:00</td>\n",
       "    </tr>\n",
       "    <tr>\n",
       "      <th>13</th>\n",
       "      <td>2016-11-05 13:45:30</td>\n",
       "      <td>0 days</td>\n",
       "      <td>schId1234</td>\n",
       "      <td>2016-11-05 13:30:30</td>\n",
       "      <td>L/U</td>\n",
       "      <td>1</td>\n",
       "      <td>00:15:00</td>\n",
       "    </tr>\n",
       "    <tr>\n",
       "      <th>14</th>\n",
       "      <td>2016-11-05 14:40:02</td>\n",
       "      <td>0 days</td>\n",
       "      <td>schId1234</td>\n",
       "      <td>2016-11-05 13:32:02</td>\n",
       "      <td>Machine</td>\n",
       "      <td>3</td>\n",
       "      <td>01:08:00</td>\n",
       "    </tr>\n",
       "    <tr>\n",
       "      <th>15</th>\n",
       "      <td>2016-11-05 14:13:16</td>\n",
       "      <td>0 days</td>\n",
       "      <td>schId1234</td>\n",
       "      <td>2016-11-05 13:33:16</td>\n",
       "      <td>L/U</td>\n",
       "      <td>2</td>\n",
       "      <td>00:40:00</td>\n",
       "    </tr>\n",
       "    <tr>\n",
       "      <th>16</th>\n",
       "      <td>2016-11-05 14:58:26</td>\n",
       "      <td>0 days</td>\n",
       "      <td>schId1234</td>\n",
       "      <td>2016-11-05 13:54:26</td>\n",
       "      <td>Machine</td>\n",
       "      <td>2</td>\n",
       "      <td>01:04:00</td>\n",
       "    </tr>\n",
       "    <tr>\n",
       "      <th>17</th>\n",
       "      <td>2016-11-05 15:23:36</td>\n",
       "      <td>0 days</td>\n",
       "      <td>schId1234</td>\n",
       "      <td>2016-11-05 14:58:36</td>\n",
       "      <td>Machine</td>\n",
       "      <td>2</td>\n",
       "      <td>00:25:00</td>\n",
       "    </tr>\n",
       "    <tr>\n",
       "      <th>18</th>\n",
       "      <td>2016-11-05 16:06:36</td>\n",
       "      <td>0 days</td>\n",
       "      <td>schId1234</td>\n",
       "      <td>2016-11-05 14:58:36</td>\n",
       "      <td>Machine</td>\n",
       "      <td>4</td>\n",
       "      <td>01:08:00</td>\n",
       "    </tr>\n",
       "    <tr>\n",
       "      <th>19</th>\n",
       "      <td>2016-11-05 15:19:50</td>\n",
       "      <td>0 days</td>\n",
       "      <td>schId1234</td>\n",
       "      <td>2016-11-05 14:59:50</td>\n",
       "      <td>L/U</td>\n",
       "      <td>1</td>\n",
       "      <td>00:20:00</td>\n",
       "    </tr>\n",
       "    <tr>\n",
       "      <th>20</th>\n",
       "      <td>2016-11-05 15:41:04</td>\n",
       "      <td>0 days</td>\n",
       "      <td>schId1234</td>\n",
       "      <td>2016-11-05 15:01:04</td>\n",
       "      <td>L/U</td>\n",
       "      <td>2</td>\n",
       "      <td>00:40:00</td>\n",
       "    </tr>\n",
       "    <tr>\n",
       "      <th>21</th>\n",
       "      <td>2016-11-05 15:46:14</td>\n",
       "      <td>0 days</td>\n",
       "      <td>schId1234</td>\n",
       "      <td>2016-11-05 15:21:14</td>\n",
       "      <td>Machine</td>\n",
       "      <td>1</td>\n",
       "      <td>00:25:00</td>\n",
       "    </tr>\n",
       "    <tr>\n",
       "      <th>22</th>\n",
       "      <td>2016-11-05 16:27:36</td>\n",
       "      <td>0 days</td>\n",
       "      <td>schId1234</td>\n",
       "      <td>2016-11-05 15:23:36</td>\n",
       "      <td>Machine</td>\n",
       "      <td>2</td>\n",
       "      <td>01:04:00</td>\n",
       "    </tr>\n",
       "    <tr>\n",
       "      <th>23</th>\n",
       "      <td>2016-11-05 16:50:28</td>\n",
       "      <td>0 days</td>\n",
       "      <td>schId1234</td>\n",
       "      <td>2016-11-05 15:42:28</td>\n",
       "      <td>Machine</td>\n",
       "      <td>3</td>\n",
       "      <td>01:08:00</td>\n",
       "    </tr>\n",
       "    <tr>\n",
       "      <th>24</th>\n",
       "      <td>2016-11-05 16:23:32</td>\n",
       "      <td>0 days</td>\n",
       "      <td>schId1234</td>\n",
       "      <td>2016-11-05 15:43:32</td>\n",
       "      <td>L/U</td>\n",
       "      <td>2</td>\n",
       "      <td>00:40:00</td>\n",
       "    </tr>\n",
       "    <tr>\n",
       "      <th>25</th>\n",
       "      <td>2016-11-05 16:50:14</td>\n",
       "      <td>0 days</td>\n",
       "      <td>schId1234</td>\n",
       "      <td>2016-11-05 15:46:14</td>\n",
       "      <td>Machine</td>\n",
       "      <td>1</td>\n",
       "      <td>01:04:00</td>\n",
       "    </tr>\n",
       "    <tr>\n",
       "      <th>26</th>\n",
       "      <td>2016-11-05 17:32:56</td>\n",
       "      <td>0 days</td>\n",
       "      <td>schId1234</td>\n",
       "      <td>2016-11-05 16:24:56</td>\n",
       "      <td>Machine</td>\n",
       "      <td>4</td>\n",
       "      <td>01:08:00</td>\n",
       "    </tr>\n",
       "    <tr>\n",
       "      <th>27</th>\n",
       "      <td>2016-11-05 17:06:00</td>\n",
       "      <td>0 days</td>\n",
       "      <td>schId1234</td>\n",
       "      <td>2016-11-05 16:26:00</td>\n",
       "      <td>L/U</td>\n",
       "      <td>2</td>\n",
       "      <td>00:40:00</td>\n",
       "    </tr>\n",
       "    <tr>\n",
       "      <th>28</th>\n",
       "      <td>2016-11-05 16:49:00</td>\n",
       "      <td>0 days</td>\n",
       "      <td>schId1234</td>\n",
       "      <td>2016-11-05 16:29:00</td>\n",
       "      <td>L/U</td>\n",
       "      <td>1</td>\n",
       "      <td>00:20:00</td>\n",
       "    </tr>\n",
       "    <tr>\n",
       "      <th>29</th>\n",
       "      <td>2016-11-05 17:15:24</td>\n",
       "      <td>0 days</td>\n",
       "      <td>schId1234</td>\n",
       "      <td>2016-11-05 16:50:24</td>\n",
       "      <td>Machine</td>\n",
       "      <td>2</td>\n",
       "      <td>00:25:00</td>\n",
       "    </tr>\n",
       "    <tr>\n",
       "      <th>...</th>\n",
       "      <td>...</td>\n",
       "      <td>...</td>\n",
       "      <td>...</td>\n",
       "      <td>...</td>\n",
       "      <td>...</td>\n",
       "      <td>...</td>\n",
       "      <td>...</td>\n",
       "    </tr>\n",
       "    <tr>\n",
       "      <th>43</th>\n",
       "      <td>2016-11-05 20:11:12</td>\n",
       "      <td>0 days</td>\n",
       "      <td>schId1234</td>\n",
       "      <td>2016-11-05 19:07:12</td>\n",
       "      <td>Machine</td>\n",
       "      <td>2</td>\n",
       "      <td>01:04:00</td>\n",
       "    </tr>\n",
       "    <tr>\n",
       "      <th>44</th>\n",
       "      <td>2016-11-05 19:44:58</td>\n",
       "      <td>0 days</td>\n",
       "      <td>schId1234</td>\n",
       "      <td>2016-11-05 19:24:58</td>\n",
       "      <td>L/U</td>\n",
       "      <td>2</td>\n",
       "      <td>00:20:00</td>\n",
       "    </tr>\n",
       "    <tr>\n",
       "      <th>45</th>\n",
       "      <td>2016-11-05 20:05:58</td>\n",
       "      <td>0 days</td>\n",
       "      <td>schId1234</td>\n",
       "      <td>2016-11-05 19:45:58</td>\n",
       "      <td>L/U</td>\n",
       "      <td>1</td>\n",
       "      <td>00:20:00</td>\n",
       "    </tr>\n",
       "    <tr>\n",
       "      <th>46</th>\n",
       "      <td>2016-11-05 20:08:26</td>\n",
       "      <td>0 days</td>\n",
       "      <td>schId1234</td>\n",
       "      <td>2016-11-05 19:48:26</td>\n",
       "      <td>L/U</td>\n",
       "      <td>2</td>\n",
       "      <td>00:20:00</td>\n",
       "    </tr>\n",
       "    <tr>\n",
       "      <th>47</th>\n",
       "      <td>2016-11-05 20:32:22</td>\n",
       "      <td>0 days</td>\n",
       "      <td>schId1234</td>\n",
       "      <td>2016-11-05 20:07:22</td>\n",
       "      <td>Machine</td>\n",
       "      <td>1</td>\n",
       "      <td>00:25:00</td>\n",
       "    </tr>\n",
       "    <tr>\n",
       "      <th>48</th>\n",
       "      <td>2016-11-05 20:32:36</td>\n",
       "      <td>0 days</td>\n",
       "      <td>schId1234</td>\n",
       "      <td>2016-11-05 20:12:36</td>\n",
       "      <td>L/U</td>\n",
       "      <td>1</td>\n",
       "      <td>00:20:00</td>\n",
       "    </tr>\n",
       "    <tr>\n",
       "      <th>49</th>\n",
       "      <td>2016-11-05 21:36:22</td>\n",
       "      <td>0 days</td>\n",
       "      <td>schId1234</td>\n",
       "      <td>2016-11-05 20:32:22</td>\n",
       "      <td>Machine</td>\n",
       "      <td>1</td>\n",
       "      <td>01:04:00</td>\n",
       "    </tr>\n",
       "    <tr>\n",
       "      <th>50</th>\n",
       "      <td>2016-11-05 20:59:00</td>\n",
       "      <td>0 days</td>\n",
       "      <td>schId1234</td>\n",
       "      <td>2016-11-05 20:34:00</td>\n",
       "      <td>Machine</td>\n",
       "      <td>2</td>\n",
       "      <td>00:25:00</td>\n",
       "    </tr>\n",
       "    <tr>\n",
       "      <th>51</th>\n",
       "      <td>2016-11-05 22:03:00</td>\n",
       "      <td>0 days</td>\n",
       "      <td>schId1234</td>\n",
       "      <td>2016-11-05 20:59:00</td>\n",
       "      <td>Machine</td>\n",
       "      <td>2</td>\n",
       "      <td>01:04:00</td>\n",
       "    </tr>\n",
       "    <tr>\n",
       "      <th>52</th>\n",
       "      <td>2016-11-05 21:57:46</td>\n",
       "      <td>0 days</td>\n",
       "      <td>schId1234</td>\n",
       "      <td>2016-11-05 21:37:46</td>\n",
       "      <td>L/U</td>\n",
       "      <td>1</td>\n",
       "      <td>00:20:00</td>\n",
       "    </tr>\n",
       "    <tr>\n",
       "      <th>53</th>\n",
       "      <td>2016-11-05 22:24:10</td>\n",
       "      <td>0 days</td>\n",
       "      <td>schId1234</td>\n",
       "      <td>2016-11-05 21:59:10</td>\n",
       "      <td>Machine</td>\n",
       "      <td>1</td>\n",
       "      <td>00:25:00</td>\n",
       "    </tr>\n",
       "    <tr>\n",
       "      <th>54</th>\n",
       "      <td>2016-11-05 22:24:24</td>\n",
       "      <td>0 days</td>\n",
       "      <td>schId1234</td>\n",
       "      <td>2016-11-05 22:04:24</td>\n",
       "      <td>L/U</td>\n",
       "      <td>1</td>\n",
       "      <td>00:20:00</td>\n",
       "    </tr>\n",
       "    <tr>\n",
       "      <th>55</th>\n",
       "      <td>2016-11-05 23:28:10</td>\n",
       "      <td>0 days</td>\n",
       "      <td>schId1234</td>\n",
       "      <td>2016-11-05 22:24:10</td>\n",
       "      <td>Machine</td>\n",
       "      <td>1</td>\n",
       "      <td>01:04:00</td>\n",
       "    </tr>\n",
       "    <tr>\n",
       "      <th>56</th>\n",
       "      <td>2016-11-05 22:50:48</td>\n",
       "      <td>0 days</td>\n",
       "      <td>schId1234</td>\n",
       "      <td>2016-11-05 22:25:48</td>\n",
       "      <td>Machine</td>\n",
       "      <td>2</td>\n",
       "      <td>00:25:00</td>\n",
       "    </tr>\n",
       "    <tr>\n",
       "      <th>57</th>\n",
       "      <td>2016-11-05 23:54:48</td>\n",
       "      <td>0 days</td>\n",
       "      <td>schId1234</td>\n",
       "      <td>2016-11-05 22:50:48</td>\n",
       "      <td>Machine</td>\n",
       "      <td>2</td>\n",
       "      <td>01:04:00</td>\n",
       "    </tr>\n",
       "    <tr>\n",
       "      <th>58</th>\n",
       "      <td>2016-11-05 23:49:34</td>\n",
       "      <td>0 days</td>\n",
       "      <td>schId1234</td>\n",
       "      <td>2016-11-05 23:29:34</td>\n",
       "      <td>L/U</td>\n",
       "      <td>1</td>\n",
       "      <td>00:20:00</td>\n",
       "    </tr>\n",
       "    <tr>\n",
       "      <th>59</th>\n",
       "      <td>2016-11-06 00:15:58</td>\n",
       "      <td>0 days</td>\n",
       "      <td>schId1234</td>\n",
       "      <td>2016-11-05 23:50:58</td>\n",
       "      <td>Machine</td>\n",
       "      <td>1</td>\n",
       "      <td>00:25:00</td>\n",
       "    </tr>\n",
       "    <tr>\n",
       "      <th>60</th>\n",
       "      <td>2016-11-06 00:16:12</td>\n",
       "      <td>0 days</td>\n",
       "      <td>schId1234</td>\n",
       "      <td>2016-11-05 23:56:12</td>\n",
       "      <td>L/U</td>\n",
       "      <td>1</td>\n",
       "      <td>00:20:00</td>\n",
       "    </tr>\n",
       "    <tr>\n",
       "      <th>61</th>\n",
       "      <td>2016-11-06 01:19:58</td>\n",
       "      <td>0 days</td>\n",
       "      <td>schId1234</td>\n",
       "      <td>2016-11-06 00:15:58</td>\n",
       "      <td>Machine</td>\n",
       "      <td>1</td>\n",
       "      <td>01:04:00</td>\n",
       "    </tr>\n",
       "    <tr>\n",
       "      <th>62</th>\n",
       "      <td>2016-11-06 00:42:36</td>\n",
       "      <td>0 days</td>\n",
       "      <td>schId1234</td>\n",
       "      <td>2016-11-06 00:17:36</td>\n",
       "      <td>Machine</td>\n",
       "      <td>2</td>\n",
       "      <td>00:25:00</td>\n",
       "    </tr>\n",
       "    <tr>\n",
       "      <th>63</th>\n",
       "      <td>2016-11-06 01:46:36</td>\n",
       "      <td>0 days</td>\n",
       "      <td>schId1234</td>\n",
       "      <td>2016-11-06 00:42:36</td>\n",
       "      <td>Machine</td>\n",
       "      <td>2</td>\n",
       "      <td>01:04:00</td>\n",
       "    </tr>\n",
       "    <tr>\n",
       "      <th>64</th>\n",
       "      <td>2016-11-06 01:41:22</td>\n",
       "      <td>0 days</td>\n",
       "      <td>schId1234</td>\n",
       "      <td>2016-11-06 01:21:22</td>\n",
       "      <td>L/U</td>\n",
       "      <td>1</td>\n",
       "      <td>00:20:00</td>\n",
       "    </tr>\n",
       "    <tr>\n",
       "      <th>65</th>\n",
       "      <td>2016-11-06 02:07:46</td>\n",
       "      <td>0 days</td>\n",
       "      <td>schId1234</td>\n",
       "      <td>2016-11-06 01:42:46</td>\n",
       "      <td>Machine</td>\n",
       "      <td>1</td>\n",
       "      <td>00:25:00</td>\n",
       "    </tr>\n",
       "    <tr>\n",
       "      <th>66</th>\n",
       "      <td>2016-11-06 02:03:00</td>\n",
       "      <td>0 days</td>\n",
       "      <td>schId1234</td>\n",
       "      <td>2016-11-06 01:48:00</td>\n",
       "      <td>L/U</td>\n",
       "      <td>1</td>\n",
       "      <td>00:15:00</td>\n",
       "    </tr>\n",
       "    <tr>\n",
       "      <th>67</th>\n",
       "      <td>2016-11-06 02:29:24</td>\n",
       "      <td>0 days</td>\n",
       "      <td>schId1234</td>\n",
       "      <td>2016-11-06 02:04:24</td>\n",
       "      <td>Machine</td>\n",
       "      <td>2</td>\n",
       "      <td>00:25:00</td>\n",
       "    </tr>\n",
       "    <tr>\n",
       "      <th>68</th>\n",
       "      <td>2016-11-06 03:11:46</td>\n",
       "      <td>0 days</td>\n",
       "      <td>schId1234</td>\n",
       "      <td>2016-11-06 02:07:46</td>\n",
       "      <td>Machine</td>\n",
       "      <td>1</td>\n",
       "      <td>01:04:00</td>\n",
       "    </tr>\n",
       "    <tr>\n",
       "      <th>69</th>\n",
       "      <td>2016-11-06 02:35:48</td>\n",
       "      <td>0 days</td>\n",
       "      <td>schId1234</td>\n",
       "      <td>2016-11-06 02:30:48</td>\n",
       "      <td>L/U</td>\n",
       "      <td>1</td>\n",
       "      <td>00:05:00</td>\n",
       "    </tr>\n",
       "    <tr>\n",
       "      <th>70</th>\n",
       "      <td>2016-11-06 03:28:10</td>\n",
       "      <td>0 days</td>\n",
       "      <td>schId1234</td>\n",
       "      <td>2016-11-06 03:13:10</td>\n",
       "      <td>L/U</td>\n",
       "      <td>1</td>\n",
       "      <td>00:15:00</td>\n",
       "    </tr>\n",
       "    <tr>\n",
       "      <th>71</th>\n",
       "      <td>2016-11-06 03:54:34</td>\n",
       "      <td>0 days</td>\n",
       "      <td>schId1234</td>\n",
       "      <td>2016-11-06 03:29:34</td>\n",
       "      <td>Machine</td>\n",
       "      <td>2</td>\n",
       "      <td>00:25:00</td>\n",
       "    </tr>\n",
       "    <tr>\n",
       "      <th>72</th>\n",
       "      <td>2016-11-06 04:00:58</td>\n",
       "      <td>0 days</td>\n",
       "      <td>schId1234</td>\n",
       "      <td>2016-11-06 03:55:58</td>\n",
       "      <td>L/U</td>\n",
       "      <td>1</td>\n",
       "      <td>00:05:00</td>\n",
       "    </tr>\n",
       "  </tbody>\n",
       "</table>\n",
       "<p>73 rows × 7 columns</p>\n",
       "</div>"
      ],
      "text/plain": [
       "                EndUTC PlannedDownTime SimulationId            StartUTC  \\\n",
       "0  2016-11-05 12:06:14          0 days    schId1234 2016-11-05 12:01:14   \n",
       "1  2016-11-05 12:22:28          0 days    schId1234 2016-11-05 12:02:28   \n",
       "2  2016-11-05 13:11:38          0 days    schId1234 2016-11-05 12:07:38   \n",
       "3  2016-11-05 12:13:42          0 days    schId1234 2016-11-05 12:08:42   \n",
       "4  2016-11-05 13:19:06          0 days    schId1234 2016-11-05 12:15:06   \n",
       "5  2016-11-05 13:31:52          0 days    schId1234 2016-11-05 12:23:52   \n",
       "6  2016-11-05 12:44:56          0 days    schId1234 2016-11-05 12:24:56   \n",
       "7  2016-11-05 13:54:20          0 days    schId1234 2016-11-05 12:46:20   \n",
       "8  2016-11-05 13:07:24          0 days    schId1234 2016-11-05 12:47:24   \n",
       "9  2016-11-05 13:29:52          0 days    schId1234 2016-11-05 13:09:52   \n",
       "10 2016-11-05 14:19:48          0 days    schId1234 2016-11-05 13:11:48   \n",
       "11 2016-11-05 13:28:02          0 days    schId1234 2016-11-05 13:13:02   \n",
       "12 2016-11-05 13:54:26          0 days    schId1234 2016-11-05 13:29:26   \n",
       "13 2016-11-05 13:45:30          0 days    schId1234 2016-11-05 13:30:30   \n",
       "14 2016-11-05 14:40:02          0 days    schId1234 2016-11-05 13:32:02   \n",
       "15 2016-11-05 14:13:16          0 days    schId1234 2016-11-05 13:33:16   \n",
       "16 2016-11-05 14:58:26          0 days    schId1234 2016-11-05 13:54:26   \n",
       "17 2016-11-05 15:23:36          0 days    schId1234 2016-11-05 14:58:36   \n",
       "18 2016-11-05 16:06:36          0 days    schId1234 2016-11-05 14:58:36   \n",
       "19 2016-11-05 15:19:50          0 days    schId1234 2016-11-05 14:59:50   \n",
       "20 2016-11-05 15:41:04          0 days    schId1234 2016-11-05 15:01:04   \n",
       "21 2016-11-05 15:46:14          0 days    schId1234 2016-11-05 15:21:14   \n",
       "22 2016-11-05 16:27:36          0 days    schId1234 2016-11-05 15:23:36   \n",
       "23 2016-11-05 16:50:28          0 days    schId1234 2016-11-05 15:42:28   \n",
       "24 2016-11-05 16:23:32          0 days    schId1234 2016-11-05 15:43:32   \n",
       "25 2016-11-05 16:50:14          0 days    schId1234 2016-11-05 15:46:14   \n",
       "26 2016-11-05 17:32:56          0 days    schId1234 2016-11-05 16:24:56   \n",
       "27 2016-11-05 17:06:00          0 days    schId1234 2016-11-05 16:26:00   \n",
       "28 2016-11-05 16:49:00          0 days    schId1234 2016-11-05 16:29:00   \n",
       "29 2016-11-05 17:15:24          0 days    schId1234 2016-11-05 16:50:24   \n",
       "..                 ...             ...          ...                 ...   \n",
       "43 2016-11-05 20:11:12          0 days    schId1234 2016-11-05 19:07:12   \n",
       "44 2016-11-05 19:44:58          0 days    schId1234 2016-11-05 19:24:58   \n",
       "45 2016-11-05 20:05:58          0 days    schId1234 2016-11-05 19:45:58   \n",
       "46 2016-11-05 20:08:26          0 days    schId1234 2016-11-05 19:48:26   \n",
       "47 2016-11-05 20:32:22          0 days    schId1234 2016-11-05 20:07:22   \n",
       "48 2016-11-05 20:32:36          0 days    schId1234 2016-11-05 20:12:36   \n",
       "49 2016-11-05 21:36:22          0 days    schId1234 2016-11-05 20:32:22   \n",
       "50 2016-11-05 20:59:00          0 days    schId1234 2016-11-05 20:34:00   \n",
       "51 2016-11-05 22:03:00          0 days    schId1234 2016-11-05 20:59:00   \n",
       "52 2016-11-05 21:57:46          0 days    schId1234 2016-11-05 21:37:46   \n",
       "53 2016-11-05 22:24:10          0 days    schId1234 2016-11-05 21:59:10   \n",
       "54 2016-11-05 22:24:24          0 days    schId1234 2016-11-05 22:04:24   \n",
       "55 2016-11-05 23:28:10          0 days    schId1234 2016-11-05 22:24:10   \n",
       "56 2016-11-05 22:50:48          0 days    schId1234 2016-11-05 22:25:48   \n",
       "57 2016-11-05 23:54:48          0 days    schId1234 2016-11-05 22:50:48   \n",
       "58 2016-11-05 23:49:34          0 days    schId1234 2016-11-05 23:29:34   \n",
       "59 2016-11-06 00:15:58          0 days    schId1234 2016-11-05 23:50:58   \n",
       "60 2016-11-06 00:16:12          0 days    schId1234 2016-11-05 23:56:12   \n",
       "61 2016-11-06 01:19:58          0 days    schId1234 2016-11-06 00:15:58   \n",
       "62 2016-11-06 00:42:36          0 days    schId1234 2016-11-06 00:17:36   \n",
       "63 2016-11-06 01:46:36          0 days    schId1234 2016-11-06 00:42:36   \n",
       "64 2016-11-06 01:41:22          0 days    schId1234 2016-11-06 01:21:22   \n",
       "65 2016-11-06 02:07:46          0 days    schId1234 2016-11-06 01:42:46   \n",
       "66 2016-11-06 02:03:00          0 days    schId1234 2016-11-06 01:48:00   \n",
       "67 2016-11-06 02:29:24          0 days    schId1234 2016-11-06 02:04:24   \n",
       "68 2016-11-06 03:11:46          0 days    schId1234 2016-11-06 02:07:46   \n",
       "69 2016-11-06 02:35:48          0 days    schId1234 2016-11-06 02:30:48   \n",
       "70 2016-11-06 03:28:10          0 days    schId1234 2016-11-06 03:13:10   \n",
       "71 2016-11-06 03:54:34          0 days    schId1234 2016-11-06 03:29:34   \n",
       "72 2016-11-06 04:00:58          0 days    schId1234 2016-11-06 03:55:58   \n",
       "\n",
       "   StationGroup  StationNum UtilizationTime  \n",
       "0           L/U           1        00:05:00  \n",
       "1           L/U           2        00:20:00  \n",
       "2       Machine           1        01:04:00  \n",
       "3           L/U           1        00:05:00  \n",
       "4       Machine           2        01:04:00  \n",
       "5       Machine           3        01:08:00  \n",
       "6           L/U           2        00:20:00  \n",
       "7       Machine           4        01:08:00  \n",
       "8           L/U           2        00:20:00  \n",
       "9           L/U           2        00:20:00  \n",
       "10      Machine           1        01:08:00  \n",
       "11          L/U           1        00:15:00  \n",
       "12      Machine           2        00:25:00  \n",
       "13          L/U           1        00:15:00  \n",
       "14      Machine           3        01:08:00  \n",
       "15          L/U           2        00:40:00  \n",
       "16      Machine           2        01:04:00  \n",
       "17      Machine           2        00:25:00  \n",
       "18      Machine           4        01:08:00  \n",
       "19          L/U           1        00:20:00  \n",
       "20          L/U           2        00:40:00  \n",
       "21      Machine           1        00:25:00  \n",
       "22      Machine           2        01:04:00  \n",
       "23      Machine           3        01:08:00  \n",
       "24          L/U           2        00:40:00  \n",
       "25      Machine           1        01:04:00  \n",
       "26      Machine           4        01:08:00  \n",
       "27          L/U           2        00:40:00  \n",
       "28          L/U           1        00:20:00  \n",
       "29      Machine           2        00:25:00  \n",
       "..          ...         ...             ...  \n",
       "43      Machine           2        01:04:00  \n",
       "44          L/U           2        00:20:00  \n",
       "45          L/U           1        00:20:00  \n",
       "46          L/U           2        00:20:00  \n",
       "47      Machine           1        00:25:00  \n",
       "48          L/U           1        00:20:00  \n",
       "49      Machine           1        01:04:00  \n",
       "50      Machine           2        00:25:00  \n",
       "51      Machine           2        01:04:00  \n",
       "52          L/U           1        00:20:00  \n",
       "53      Machine           1        00:25:00  \n",
       "54          L/U           1        00:20:00  \n",
       "55      Machine           1        01:04:00  \n",
       "56      Machine           2        00:25:00  \n",
       "57      Machine           2        01:04:00  \n",
       "58          L/U           1        00:20:00  \n",
       "59      Machine           1        00:25:00  \n",
       "60          L/U           1        00:20:00  \n",
       "61      Machine           1        01:04:00  \n",
       "62      Machine           2        00:25:00  \n",
       "63      Machine           2        01:04:00  \n",
       "64          L/U           1        00:20:00  \n",
       "65      Machine           1        00:25:00  \n",
       "66          L/U           1        00:15:00  \n",
       "67      Machine           2        00:25:00  \n",
       "68      Machine           1        01:04:00  \n",
       "69          L/U           1        00:05:00  \n",
       "70          L/U           1        00:15:00  \n",
       "71      Machine           2        00:25:00  \n",
       "72          L/U           1        00:05:00  \n",
       "\n",
       "[73 rows x 7 columns]"
      ]
     },
     "execution_count": 7,
     "metadata": {},
     "output_type": "execute_result"
    }
   ],
   "source": [
    "simstat = allocate.simstat(results)\n",
    "simstat"
   ]
  },
  {
   "cell_type": "code",
   "execution_count": 8,
   "metadata": {},
   "outputs": [
    {
     "data": {
      "application/vnd.plotly.v1+json": {
       "data": [
        {
         "marker": {
          "color": "white"
         },
         "name": "",
         "x": [
          "2016-11-05 12:01:14",
          "2016-11-05 12:06:14"
         ],
         "y": [
          5,
          5
         ]
        },
        {
         "marker": {
          "color": "white"
         },
         "name": "",
         "x": [
          "2016-11-05 12:02:28",
          "2016-11-05 12:22:28"
         ],
         "y": [
          4,
          4
         ]
        },
        {
         "marker": {
          "color": "white"
         },
         "name": "",
         "x": [
          "2016-11-05 12:07:38",
          "2016-11-05 13:11:38"
         ],
         "y": [
          3,
          3
         ]
        },
        {
         "marker": {
          "color": "white"
         },
         "name": "",
         "x": [
          "2016-11-05 12:08:42",
          "2016-11-05 12:13:42"
         ],
         "y": [
          5,
          5
         ]
        },
        {
         "marker": {
          "color": "white"
         },
         "name": "",
         "x": [
          "2016-11-05 12:15:06",
          "2016-11-05 13:19:06"
         ],
         "y": [
          2,
          2
         ]
        },
        {
         "marker": {
          "color": "white"
         },
         "name": "",
         "x": [
          "2016-11-05 12:23:52",
          "2016-11-05 13:31:52"
         ],
         "y": [
          1,
          1
         ]
        },
        {
         "marker": {
          "color": "white"
         },
         "name": "",
         "x": [
          "2016-11-05 12:24:56",
          "2016-11-05 12:44:56"
         ],
         "y": [
          4,
          4
         ]
        },
        {
         "marker": {
          "color": "white"
         },
         "name": "",
         "x": [
          "2016-11-05 12:46:20",
          "2016-11-05 13:54:20"
         ],
         "y": [
          0,
          0
         ]
        },
        {
         "marker": {
          "color": "white"
         },
         "name": "",
         "x": [
          "2016-11-05 12:47:24",
          "2016-11-05 13:07:24"
         ],
         "y": [
          4,
          4
         ]
        },
        {
         "marker": {
          "color": "white"
         },
         "name": "",
         "x": [
          "2016-11-05 13:09:52",
          "2016-11-05 13:29:52"
         ],
         "y": [
          4,
          4
         ]
        },
        {
         "marker": {
          "color": "white"
         },
         "name": "",
         "x": [
          "2016-11-05 13:11:48",
          "2016-11-05 14:19:48"
         ],
         "y": [
          3,
          3
         ]
        },
        {
         "marker": {
          "color": "white"
         },
         "name": "",
         "x": [
          "2016-11-05 13:13:02",
          "2016-11-05 13:28:02"
         ],
         "y": [
          5,
          5
         ]
        },
        {
         "marker": {
          "color": "white"
         },
         "name": "",
         "x": [
          "2016-11-05 13:29:26",
          "2016-11-05 13:54:26"
         ],
         "y": [
          2,
          2
         ]
        },
        {
         "marker": {
          "color": "white"
         },
         "name": "",
         "x": [
          "2016-11-05 13:30:30",
          "2016-11-05 13:45:30"
         ],
         "y": [
          5,
          5
         ]
        },
        {
         "marker": {
          "color": "white"
         },
         "name": "",
         "x": [
          "2016-11-05 13:32:02",
          "2016-11-05 14:40:02"
         ],
         "y": [
          1,
          1
         ]
        },
        {
         "marker": {
          "color": "white"
         },
         "name": "",
         "x": [
          "2016-11-05 13:33:16",
          "2016-11-05 14:13:16"
         ],
         "y": [
          4,
          4
         ]
        },
        {
         "marker": {
          "color": "white"
         },
         "name": "",
         "x": [
          "2016-11-05 13:54:26",
          "2016-11-05 14:58:26"
         ],
         "y": [
          2,
          2
         ]
        },
        {
         "marker": {
          "color": "white"
         },
         "name": "",
         "x": [
          "2016-11-05 14:58:36",
          "2016-11-05 15:23:36"
         ],
         "y": [
          2,
          2
         ]
        },
        {
         "marker": {
          "color": "white"
         },
         "name": "",
         "x": [
          "2016-11-05 14:58:36",
          "2016-11-05 16:06:36"
         ],
         "y": [
          0,
          0
         ]
        },
        {
         "marker": {
          "color": "white"
         },
         "name": "",
         "x": [
          "2016-11-05 14:59:50",
          "2016-11-05 15:19:50"
         ],
         "y": [
          5,
          5
         ]
        },
        {
         "marker": {
          "color": "white"
         },
         "name": "",
         "x": [
          "2016-11-05 15:01:04",
          "2016-11-05 15:41:04"
         ],
         "y": [
          4,
          4
         ]
        },
        {
         "marker": {
          "color": "white"
         },
         "name": "",
         "x": [
          "2016-11-05 15:21:14",
          "2016-11-05 15:46:14"
         ],
         "y": [
          3,
          3
         ]
        },
        {
         "marker": {
          "color": "white"
         },
         "name": "",
         "x": [
          "2016-11-05 15:23:36",
          "2016-11-05 16:27:36"
         ],
         "y": [
          2,
          2
         ]
        },
        {
         "marker": {
          "color": "white"
         },
         "name": "",
         "x": [
          "2016-11-05 15:42:28",
          "2016-11-05 16:50:28"
         ],
         "y": [
          1,
          1
         ]
        },
        {
         "marker": {
          "color": "white"
         },
         "name": "",
         "x": [
          "2016-11-05 15:43:32",
          "2016-11-05 16:23:32"
         ],
         "y": [
          4,
          4
         ]
        },
        {
         "marker": {
          "color": "white"
         },
         "name": "",
         "x": [
          "2016-11-05 15:46:14",
          "2016-11-05 16:50:14"
         ],
         "y": [
          3,
          3
         ]
        },
        {
         "marker": {
          "color": "white"
         },
         "name": "",
         "x": [
          "2016-11-05 16:24:56",
          "2016-11-05 17:32:56"
         ],
         "y": [
          0,
          0
         ]
        },
        {
         "marker": {
          "color": "white"
         },
         "name": "",
         "x": [
          "2016-11-05 16:26:00",
          "2016-11-05 17:06:00"
         ],
         "y": [
          4,
          4
         ]
        },
        {
         "marker": {
          "color": "white"
         },
         "name": "",
         "x": [
          "2016-11-05 16:29:00",
          "2016-11-05 16:49:00"
         ],
         "y": [
          5,
          5
         ]
        },
        {
         "marker": {
          "color": "white"
         },
         "name": "",
         "x": [
          "2016-11-05 16:50:24",
          "2016-11-05 17:15:24"
         ],
         "y": [
          2,
          2
         ]
        },
        {
         "marker": {
          "color": "white"
         },
         "name": "",
         "x": [
          "2016-11-05 16:51:38",
          "2016-11-05 17:11:38"
         ],
         "y": [
          5,
          5
         ]
        },
        {
         "marker": {
          "color": "white"
         },
         "name": "",
         "x": [
          "2016-11-05 17:07:24",
          "2016-11-05 18:15:24"
         ],
         "y": [
          3,
          3
         ]
        },
        {
         "marker": {
          "color": "white"
         },
         "name": "",
         "x": [
          "2016-11-05 17:08:28",
          "2016-11-05 17:48:28"
         ],
         "y": [
          4,
          4
         ]
        },
        {
         "marker": {
          "color": "white"
         },
         "name": "",
         "x": [
          "2016-11-05 17:15:24",
          "2016-11-05 18:19:24"
         ],
         "y": [
          2,
          2
         ]
        },
        {
         "marker": {
          "color": "white"
         },
         "name": "",
         "x": [
          "2016-11-05 17:50:56",
          "2016-11-05 18:30:56"
         ],
         "y": [
          4,
          4
         ]
        },
        {
         "marker": {
          "color": "white"
         },
         "name": "",
         "x": [
          "2016-11-05 18:15:34",
          "2016-11-05 18:40:34"
         ],
         "y": [
          3,
          3
         ]
        },
        {
         "marker": {
          "color": "white"
         },
         "name": "",
         "x": [
          "2016-11-05 18:15:34",
          "2016-11-05 19:23:34"
         ],
         "y": [
          1,
          1
         ]
        },
        {
         "marker": {
          "color": "white"
         },
         "name": "",
         "x": [
          "2016-11-05 18:20:48",
          "2016-11-05 18:40:48"
         ],
         "y": [
          5,
          5
         ]
        },
        {
         "marker": {
          "color": "white"
         },
         "name": "",
         "x": [
          "2016-11-05 18:32:20",
          "2016-11-05 19:40:20"
         ],
         "y": [
          0,
          0
         ]
        },
        {
         "marker": {
          "color": "white"
         },
         "name": "",
         "x": [
          "2016-11-05 18:33:24",
          "2016-11-05 18:53:24"
         ],
         "y": [
          4,
          4
         ]
        },
        {
         "marker": {
          "color": "white"
         },
         "name": "",
         "x": [
          "2016-11-05 18:40:34",
          "2016-11-05 19:44:34"
         ],
         "y": [
          3,
          3
         ]
        },
        {
         "marker": {
          "color": "white"
         },
         "name": "",
         "x": [
          "2016-11-05 18:42:12",
          "2016-11-05 19:07:12"
         ],
         "y": [
          2,
          2
         ]
        },
        {
         "marker": {
          "color": "white"
         },
         "name": "",
         "x": [
          "2016-11-05 18:55:52",
          "2016-11-05 19:15:52"
         ],
         "y": [
          4,
          4
         ]
        },
        {
         "marker": {
          "color": "white"
         },
         "name": "",
         "x": [
          "2016-11-05 19:07:12",
          "2016-11-05 20:11:12"
         ],
         "y": [
          2,
          2
         ]
        },
        {
         "marker": {
          "color": "white"
         },
         "name": "",
         "x": [
          "2016-11-05 19:24:58",
          "2016-11-05 19:44:58"
         ],
         "y": [
          4,
          4
         ]
        },
        {
         "marker": {
          "color": "white"
         },
         "name": "",
         "x": [
          "2016-11-05 19:45:58",
          "2016-11-05 20:05:58"
         ],
         "y": [
          5,
          5
         ]
        },
        {
         "marker": {
          "color": "white"
         },
         "name": "",
         "x": [
          "2016-11-05 19:48:26",
          "2016-11-05 20:08:26"
         ],
         "y": [
          4,
          4
         ]
        },
        {
         "marker": {
          "color": "white"
         },
         "name": "",
         "x": [
          "2016-11-05 20:07:22",
          "2016-11-05 20:32:22"
         ],
         "y": [
          3,
          3
         ]
        },
        {
         "marker": {
          "color": "white"
         },
         "name": "",
         "x": [
          "2016-11-05 20:12:36",
          "2016-11-05 20:32:36"
         ],
         "y": [
          5,
          5
         ]
        },
        {
         "marker": {
          "color": "white"
         },
         "name": "",
         "x": [
          "2016-11-05 20:32:22",
          "2016-11-05 21:36:22"
         ],
         "y": [
          3,
          3
         ]
        },
        {
         "marker": {
          "color": "white"
         },
         "name": "",
         "x": [
          "2016-11-05 20:34:00",
          "2016-11-05 20:59:00"
         ],
         "y": [
          2,
          2
         ]
        },
        {
         "marker": {
          "color": "white"
         },
         "name": "",
         "x": [
          "2016-11-05 20:59:00",
          "2016-11-05 22:03:00"
         ],
         "y": [
          2,
          2
         ]
        },
        {
         "marker": {
          "color": "white"
         },
         "name": "",
         "x": [
          "2016-11-05 21:37:46",
          "2016-11-05 21:57:46"
         ],
         "y": [
          5,
          5
         ]
        },
        {
         "marker": {
          "color": "white"
         },
         "name": "",
         "x": [
          "2016-11-05 21:59:10",
          "2016-11-05 22:24:10"
         ],
         "y": [
          3,
          3
         ]
        },
        {
         "marker": {
          "color": "white"
         },
         "name": "",
         "x": [
          "2016-11-05 22:04:24",
          "2016-11-05 22:24:24"
         ],
         "y": [
          5,
          5
         ]
        },
        {
         "marker": {
          "color": "white"
         },
         "name": "",
         "x": [
          "2016-11-05 22:24:10",
          "2016-11-05 23:28:10"
         ],
         "y": [
          3,
          3
         ]
        },
        {
         "marker": {
          "color": "white"
         },
         "name": "",
         "x": [
          "2016-11-05 22:25:48",
          "2016-11-05 22:50:48"
         ],
         "y": [
          2,
          2
         ]
        },
        {
         "marker": {
          "color": "white"
         },
         "name": "",
         "x": [
          "2016-11-05 22:50:48",
          "2016-11-05 23:54:48"
         ],
         "y": [
          2,
          2
         ]
        },
        {
         "marker": {
          "color": "white"
         },
         "name": "",
         "x": [
          "2016-11-05 23:29:34",
          "2016-11-05 23:49:34"
         ],
         "y": [
          5,
          5
         ]
        },
        {
         "marker": {
          "color": "white"
         },
         "name": "",
         "x": [
          "2016-11-05 23:50:58",
          "2016-11-06 00:15:58"
         ],
         "y": [
          3,
          3
         ]
        },
        {
         "marker": {
          "color": "white"
         },
         "name": "",
         "x": [
          "2016-11-05 23:56:12",
          "2016-11-06 00:16:12"
         ],
         "y": [
          5,
          5
         ]
        },
        {
         "marker": {
          "color": "white"
         },
         "name": "",
         "x": [
          "2016-11-06 00:15:58",
          "2016-11-06 01:19:58"
         ],
         "y": [
          3,
          3
         ]
        },
        {
         "marker": {
          "color": "white"
         },
         "name": "",
         "x": [
          "2016-11-06 00:17:36",
          "2016-11-06 00:42:36"
         ],
         "y": [
          2,
          2
         ]
        },
        {
         "marker": {
          "color": "white"
         },
         "name": "",
         "x": [
          "2016-11-06 00:42:36",
          "2016-11-06 01:46:36"
         ],
         "y": [
          2,
          2
         ]
        },
        {
         "marker": {
          "color": "white"
         },
         "name": "",
         "x": [
          "2016-11-06 01:21:22",
          "2016-11-06 01:41:22"
         ],
         "y": [
          5,
          5
         ]
        },
        {
         "marker": {
          "color": "white"
         },
         "name": "",
         "x": [
          "2016-11-06 01:42:46",
          "2016-11-06 02:07:46"
         ],
         "y": [
          3,
          3
         ]
        },
        {
         "marker": {
          "color": "white"
         },
         "name": "",
         "x": [
          "2016-11-06 01:48:00",
          "2016-11-06 02:03:00"
         ],
         "y": [
          5,
          5
         ]
        },
        {
         "marker": {
          "color": "white"
         },
         "name": "",
         "x": [
          "2016-11-06 02:04:24",
          "2016-11-06 02:29:24"
         ],
         "y": [
          2,
          2
         ]
        },
        {
         "marker": {
          "color": "white"
         },
         "name": "",
         "x": [
          "2016-11-06 02:07:46",
          "2016-11-06 03:11:46"
         ],
         "y": [
          3,
          3
         ]
        },
        {
         "marker": {
          "color": "white"
         },
         "name": "",
         "x": [
          "2016-11-06 02:30:48",
          "2016-11-06 02:35:48"
         ],
         "y": [
          5,
          5
         ]
        },
        {
         "marker": {
          "color": "white"
         },
         "name": "",
         "x": [
          "2016-11-06 03:13:10",
          "2016-11-06 03:28:10"
         ],
         "y": [
          5,
          5
         ]
        },
        {
         "marker": {
          "color": "white"
         },
         "name": "",
         "x": [
          "2016-11-06 03:29:34",
          "2016-11-06 03:54:34"
         ],
         "y": [
          2,
          2
         ]
        },
        {
         "marker": {
          "color": "white"
         },
         "name": "",
         "x": [
          "2016-11-06 03:55:58",
          "2016-11-06 04:00:58"
         ],
         "y": [
          5,
          5
         ]
        }
       ],
       "layout": {
        "height": 600,
        "hovermode": "closest",
        "shapes": [
         {
          "fillcolor": "rgb(31, 119, 180)",
          "line": {
           "width": 0
          },
          "opacity": 1,
          "type": "rect",
          "x0": "2016-11-05 12:01:14",
          "x1": "2016-11-05 12:06:14",
          "xref": "x",
          "y0": 4.8,
          "y1": 5.2,
          "yref": "y"
         },
         {
          "fillcolor": "rgb(31, 119, 180)",
          "line": {
           "width": 0
          },
          "opacity": 1,
          "type": "rect",
          "x0": "2016-11-05 12:02:28",
          "x1": "2016-11-05 12:22:28",
          "xref": "x",
          "y0": 3.8,
          "y1": 4.2,
          "yref": "y"
         },
         {
          "fillcolor": "rgb(255, 127, 14)",
          "line": {
           "width": 0
          },
          "opacity": 1,
          "type": "rect",
          "x0": "2016-11-05 12:07:38",
          "x1": "2016-11-05 13:11:38",
          "xref": "x",
          "y0": 2.8,
          "y1": 3.2,
          "yref": "y"
         },
         {
          "fillcolor": "rgb(31, 119, 180)",
          "line": {
           "width": 0
          },
          "opacity": 1,
          "type": "rect",
          "x0": "2016-11-05 12:08:42",
          "x1": "2016-11-05 12:13:42",
          "xref": "x",
          "y0": 4.8,
          "y1": 5.2,
          "yref": "y"
         },
         {
          "fillcolor": "rgb(255, 127, 14)",
          "line": {
           "width": 0
          },
          "opacity": 1,
          "type": "rect",
          "x0": "2016-11-05 12:15:06",
          "x1": "2016-11-05 13:19:06",
          "xref": "x",
          "y0": 1.8,
          "y1": 2.2,
          "yref": "y"
         },
         {
          "fillcolor": "rgb(255, 127, 14)",
          "line": {
           "width": 0
          },
          "opacity": 1,
          "type": "rect",
          "x0": "2016-11-05 12:23:52",
          "x1": "2016-11-05 13:31:52",
          "xref": "x",
          "y0": 0.8,
          "y1": 1.2,
          "yref": "y"
         },
         {
          "fillcolor": "rgb(31, 119, 180)",
          "line": {
           "width": 0
          },
          "opacity": 1,
          "type": "rect",
          "x0": "2016-11-05 12:24:56",
          "x1": "2016-11-05 12:44:56",
          "xref": "x",
          "y0": 3.8,
          "y1": 4.2,
          "yref": "y"
         },
         {
          "fillcolor": "rgb(255, 127, 14)",
          "line": {
           "width": 0
          },
          "opacity": 1,
          "type": "rect",
          "x0": "2016-11-05 12:46:20",
          "x1": "2016-11-05 13:54:20",
          "xref": "x",
          "y0": -0.2,
          "y1": 0.2,
          "yref": "y"
         },
         {
          "fillcolor": "rgb(31, 119, 180)",
          "line": {
           "width": 0
          },
          "opacity": 1,
          "type": "rect",
          "x0": "2016-11-05 12:47:24",
          "x1": "2016-11-05 13:07:24",
          "xref": "x",
          "y0": 3.8,
          "y1": 4.2,
          "yref": "y"
         },
         {
          "fillcolor": "rgb(31, 119, 180)",
          "line": {
           "width": 0
          },
          "opacity": 1,
          "type": "rect",
          "x0": "2016-11-05 13:09:52",
          "x1": "2016-11-05 13:29:52",
          "xref": "x",
          "y0": 3.8,
          "y1": 4.2,
          "yref": "y"
         },
         {
          "fillcolor": "rgb(255, 127, 14)",
          "line": {
           "width": 0
          },
          "opacity": 1,
          "type": "rect",
          "x0": "2016-11-05 13:11:48",
          "x1": "2016-11-05 14:19:48",
          "xref": "x",
          "y0": 2.8,
          "y1": 3.2,
          "yref": "y"
         },
         {
          "fillcolor": "rgb(31, 119, 180)",
          "line": {
           "width": 0
          },
          "opacity": 1,
          "type": "rect",
          "x0": "2016-11-05 13:13:02",
          "x1": "2016-11-05 13:28:02",
          "xref": "x",
          "y0": 4.8,
          "y1": 5.2,
          "yref": "y"
         },
         {
          "fillcolor": "rgb(255, 127, 14)",
          "line": {
           "width": 0
          },
          "opacity": 1,
          "type": "rect",
          "x0": "2016-11-05 13:29:26",
          "x1": "2016-11-05 13:54:26",
          "xref": "x",
          "y0": 1.8,
          "y1": 2.2,
          "yref": "y"
         },
         {
          "fillcolor": "rgb(31, 119, 180)",
          "line": {
           "width": 0
          },
          "opacity": 1,
          "type": "rect",
          "x0": "2016-11-05 13:30:30",
          "x1": "2016-11-05 13:45:30",
          "xref": "x",
          "y0": 4.8,
          "y1": 5.2,
          "yref": "y"
         },
         {
          "fillcolor": "rgb(255, 127, 14)",
          "line": {
           "width": 0
          },
          "opacity": 1,
          "type": "rect",
          "x0": "2016-11-05 13:32:02",
          "x1": "2016-11-05 14:40:02",
          "xref": "x",
          "y0": 0.8,
          "y1": 1.2,
          "yref": "y"
         },
         {
          "fillcolor": "rgb(31, 119, 180)",
          "line": {
           "width": 0
          },
          "opacity": 1,
          "type": "rect",
          "x0": "2016-11-05 13:33:16",
          "x1": "2016-11-05 14:13:16",
          "xref": "x",
          "y0": 3.8,
          "y1": 4.2,
          "yref": "y"
         },
         {
          "fillcolor": "rgb(255, 127, 14)",
          "line": {
           "width": 0
          },
          "opacity": 1,
          "type": "rect",
          "x0": "2016-11-05 13:54:26",
          "x1": "2016-11-05 14:58:26",
          "xref": "x",
          "y0": 1.8,
          "y1": 2.2,
          "yref": "y"
         },
         {
          "fillcolor": "rgb(255, 127, 14)",
          "line": {
           "width": 0
          },
          "opacity": 1,
          "type": "rect",
          "x0": "2016-11-05 14:58:36",
          "x1": "2016-11-05 15:23:36",
          "xref": "x",
          "y0": 1.8,
          "y1": 2.2,
          "yref": "y"
         },
         {
          "fillcolor": "rgb(255, 127, 14)",
          "line": {
           "width": 0
          },
          "opacity": 1,
          "type": "rect",
          "x0": "2016-11-05 14:58:36",
          "x1": "2016-11-05 16:06:36",
          "xref": "x",
          "y0": -0.2,
          "y1": 0.2,
          "yref": "y"
         },
         {
          "fillcolor": "rgb(31, 119, 180)",
          "line": {
           "width": 0
          },
          "opacity": 1,
          "type": "rect",
          "x0": "2016-11-05 14:59:50",
          "x1": "2016-11-05 15:19:50",
          "xref": "x",
          "y0": 4.8,
          "y1": 5.2,
          "yref": "y"
         },
         {
          "fillcolor": "rgb(31, 119, 180)",
          "line": {
           "width": 0
          },
          "opacity": 1,
          "type": "rect",
          "x0": "2016-11-05 15:01:04",
          "x1": "2016-11-05 15:41:04",
          "xref": "x",
          "y0": 3.8,
          "y1": 4.2,
          "yref": "y"
         },
         {
          "fillcolor": "rgb(255, 127, 14)",
          "line": {
           "width": 0
          },
          "opacity": 1,
          "type": "rect",
          "x0": "2016-11-05 15:21:14",
          "x1": "2016-11-05 15:46:14",
          "xref": "x",
          "y0": 2.8,
          "y1": 3.2,
          "yref": "y"
         },
         {
          "fillcolor": "rgb(255, 127, 14)",
          "line": {
           "width": 0
          },
          "opacity": 1,
          "type": "rect",
          "x0": "2016-11-05 15:23:36",
          "x1": "2016-11-05 16:27:36",
          "xref": "x",
          "y0": 1.8,
          "y1": 2.2,
          "yref": "y"
         },
         {
          "fillcolor": "rgb(255, 127, 14)",
          "line": {
           "width": 0
          },
          "opacity": 1,
          "type": "rect",
          "x0": "2016-11-05 15:42:28",
          "x1": "2016-11-05 16:50:28",
          "xref": "x",
          "y0": 0.8,
          "y1": 1.2,
          "yref": "y"
         },
         {
          "fillcolor": "rgb(31, 119, 180)",
          "line": {
           "width": 0
          },
          "opacity": 1,
          "type": "rect",
          "x0": "2016-11-05 15:43:32",
          "x1": "2016-11-05 16:23:32",
          "xref": "x",
          "y0": 3.8,
          "y1": 4.2,
          "yref": "y"
         },
         {
          "fillcolor": "rgb(255, 127, 14)",
          "line": {
           "width": 0
          },
          "opacity": 1,
          "type": "rect",
          "x0": "2016-11-05 15:46:14",
          "x1": "2016-11-05 16:50:14",
          "xref": "x",
          "y0": 2.8,
          "y1": 3.2,
          "yref": "y"
         },
         {
          "fillcolor": "rgb(255, 127, 14)",
          "line": {
           "width": 0
          },
          "opacity": 1,
          "type": "rect",
          "x0": "2016-11-05 16:24:56",
          "x1": "2016-11-05 17:32:56",
          "xref": "x",
          "y0": -0.2,
          "y1": 0.2,
          "yref": "y"
         },
         {
          "fillcolor": "rgb(31, 119, 180)",
          "line": {
           "width": 0
          },
          "opacity": 1,
          "type": "rect",
          "x0": "2016-11-05 16:26:00",
          "x1": "2016-11-05 17:06:00",
          "xref": "x",
          "y0": 3.8,
          "y1": 4.2,
          "yref": "y"
         },
         {
          "fillcolor": "rgb(31, 119, 180)",
          "line": {
           "width": 0
          },
          "opacity": 1,
          "type": "rect",
          "x0": "2016-11-05 16:29:00",
          "x1": "2016-11-05 16:49:00",
          "xref": "x",
          "y0": 4.8,
          "y1": 5.2,
          "yref": "y"
         },
         {
          "fillcolor": "rgb(255, 127, 14)",
          "line": {
           "width": 0
          },
          "opacity": 1,
          "type": "rect",
          "x0": "2016-11-05 16:50:24",
          "x1": "2016-11-05 17:15:24",
          "xref": "x",
          "y0": 1.8,
          "y1": 2.2,
          "yref": "y"
         },
         {
          "fillcolor": "rgb(31, 119, 180)",
          "line": {
           "width": 0
          },
          "opacity": 1,
          "type": "rect",
          "x0": "2016-11-05 16:51:38",
          "x1": "2016-11-05 17:11:38",
          "xref": "x",
          "y0": 4.8,
          "y1": 5.2,
          "yref": "y"
         },
         {
          "fillcolor": "rgb(255, 127, 14)",
          "line": {
           "width": 0
          },
          "opacity": 1,
          "type": "rect",
          "x0": "2016-11-05 17:07:24",
          "x1": "2016-11-05 18:15:24",
          "xref": "x",
          "y0": 2.8,
          "y1": 3.2,
          "yref": "y"
         },
         {
          "fillcolor": "rgb(31, 119, 180)",
          "line": {
           "width": 0
          },
          "opacity": 1,
          "type": "rect",
          "x0": "2016-11-05 17:08:28",
          "x1": "2016-11-05 17:48:28",
          "xref": "x",
          "y0": 3.8,
          "y1": 4.2,
          "yref": "y"
         },
         {
          "fillcolor": "rgb(255, 127, 14)",
          "line": {
           "width": 0
          },
          "opacity": 1,
          "type": "rect",
          "x0": "2016-11-05 17:15:24",
          "x1": "2016-11-05 18:19:24",
          "xref": "x",
          "y0": 1.8,
          "y1": 2.2,
          "yref": "y"
         },
         {
          "fillcolor": "rgb(31, 119, 180)",
          "line": {
           "width": 0
          },
          "opacity": 1,
          "type": "rect",
          "x0": "2016-11-05 17:50:56",
          "x1": "2016-11-05 18:30:56",
          "xref": "x",
          "y0": 3.8,
          "y1": 4.2,
          "yref": "y"
         },
         {
          "fillcolor": "rgb(255, 127, 14)",
          "line": {
           "width": 0
          },
          "opacity": 1,
          "type": "rect",
          "x0": "2016-11-05 18:15:34",
          "x1": "2016-11-05 18:40:34",
          "xref": "x",
          "y0": 2.8,
          "y1": 3.2,
          "yref": "y"
         },
         {
          "fillcolor": "rgb(255, 127, 14)",
          "line": {
           "width": 0
          },
          "opacity": 1,
          "type": "rect",
          "x0": "2016-11-05 18:15:34",
          "x1": "2016-11-05 19:23:34",
          "xref": "x",
          "y0": 0.8,
          "y1": 1.2,
          "yref": "y"
         },
         {
          "fillcolor": "rgb(31, 119, 180)",
          "line": {
           "width": 0
          },
          "opacity": 1,
          "type": "rect",
          "x0": "2016-11-05 18:20:48",
          "x1": "2016-11-05 18:40:48",
          "xref": "x",
          "y0": 4.8,
          "y1": 5.2,
          "yref": "y"
         },
         {
          "fillcolor": "rgb(255, 127, 14)",
          "line": {
           "width": 0
          },
          "opacity": 1,
          "type": "rect",
          "x0": "2016-11-05 18:32:20",
          "x1": "2016-11-05 19:40:20",
          "xref": "x",
          "y0": -0.2,
          "y1": 0.2,
          "yref": "y"
         },
         {
          "fillcolor": "rgb(31, 119, 180)",
          "line": {
           "width": 0
          },
          "opacity": 1,
          "type": "rect",
          "x0": "2016-11-05 18:33:24",
          "x1": "2016-11-05 18:53:24",
          "xref": "x",
          "y0": 3.8,
          "y1": 4.2,
          "yref": "y"
         },
         {
          "fillcolor": "rgb(255, 127, 14)",
          "line": {
           "width": 0
          },
          "opacity": 1,
          "type": "rect",
          "x0": "2016-11-05 18:40:34",
          "x1": "2016-11-05 19:44:34",
          "xref": "x",
          "y0": 2.8,
          "y1": 3.2,
          "yref": "y"
         },
         {
          "fillcolor": "rgb(255, 127, 14)",
          "line": {
           "width": 0
          },
          "opacity": 1,
          "type": "rect",
          "x0": "2016-11-05 18:42:12",
          "x1": "2016-11-05 19:07:12",
          "xref": "x",
          "y0": 1.8,
          "y1": 2.2,
          "yref": "y"
         },
         {
          "fillcolor": "rgb(31, 119, 180)",
          "line": {
           "width": 0
          },
          "opacity": 1,
          "type": "rect",
          "x0": "2016-11-05 18:55:52",
          "x1": "2016-11-05 19:15:52",
          "xref": "x",
          "y0": 3.8,
          "y1": 4.2,
          "yref": "y"
         },
         {
          "fillcolor": "rgb(255, 127, 14)",
          "line": {
           "width": 0
          },
          "opacity": 1,
          "type": "rect",
          "x0": "2016-11-05 19:07:12",
          "x1": "2016-11-05 20:11:12",
          "xref": "x",
          "y0": 1.8,
          "y1": 2.2,
          "yref": "y"
         },
         {
          "fillcolor": "rgb(31, 119, 180)",
          "line": {
           "width": 0
          },
          "opacity": 1,
          "type": "rect",
          "x0": "2016-11-05 19:24:58",
          "x1": "2016-11-05 19:44:58",
          "xref": "x",
          "y0": 3.8,
          "y1": 4.2,
          "yref": "y"
         },
         {
          "fillcolor": "rgb(31, 119, 180)",
          "line": {
           "width": 0
          },
          "opacity": 1,
          "type": "rect",
          "x0": "2016-11-05 19:45:58",
          "x1": "2016-11-05 20:05:58",
          "xref": "x",
          "y0": 4.8,
          "y1": 5.2,
          "yref": "y"
         },
         {
          "fillcolor": "rgb(31, 119, 180)",
          "line": {
           "width": 0
          },
          "opacity": 1,
          "type": "rect",
          "x0": "2016-11-05 19:48:26",
          "x1": "2016-11-05 20:08:26",
          "xref": "x",
          "y0": 3.8,
          "y1": 4.2,
          "yref": "y"
         },
         {
          "fillcolor": "rgb(255, 127, 14)",
          "line": {
           "width": 0
          },
          "opacity": 1,
          "type": "rect",
          "x0": "2016-11-05 20:07:22",
          "x1": "2016-11-05 20:32:22",
          "xref": "x",
          "y0": 2.8,
          "y1": 3.2,
          "yref": "y"
         },
         {
          "fillcolor": "rgb(31, 119, 180)",
          "line": {
           "width": 0
          },
          "opacity": 1,
          "type": "rect",
          "x0": "2016-11-05 20:12:36",
          "x1": "2016-11-05 20:32:36",
          "xref": "x",
          "y0": 4.8,
          "y1": 5.2,
          "yref": "y"
         },
         {
          "fillcolor": "rgb(255, 127, 14)",
          "line": {
           "width": 0
          },
          "opacity": 1,
          "type": "rect",
          "x0": "2016-11-05 20:32:22",
          "x1": "2016-11-05 21:36:22",
          "xref": "x",
          "y0": 2.8,
          "y1": 3.2,
          "yref": "y"
         },
         {
          "fillcolor": "rgb(255, 127, 14)",
          "line": {
           "width": 0
          },
          "opacity": 1,
          "type": "rect",
          "x0": "2016-11-05 20:34:00",
          "x1": "2016-11-05 20:59:00",
          "xref": "x",
          "y0": 1.8,
          "y1": 2.2,
          "yref": "y"
         },
         {
          "fillcolor": "rgb(255, 127, 14)",
          "line": {
           "width": 0
          },
          "opacity": 1,
          "type": "rect",
          "x0": "2016-11-05 20:59:00",
          "x1": "2016-11-05 22:03:00",
          "xref": "x",
          "y0": 1.8,
          "y1": 2.2,
          "yref": "y"
         },
         {
          "fillcolor": "rgb(31, 119, 180)",
          "line": {
           "width": 0
          },
          "opacity": 1,
          "type": "rect",
          "x0": "2016-11-05 21:37:46",
          "x1": "2016-11-05 21:57:46",
          "xref": "x",
          "y0": 4.8,
          "y1": 5.2,
          "yref": "y"
         },
         {
          "fillcolor": "rgb(255, 127, 14)",
          "line": {
           "width": 0
          },
          "opacity": 1,
          "type": "rect",
          "x0": "2016-11-05 21:59:10",
          "x1": "2016-11-05 22:24:10",
          "xref": "x",
          "y0": 2.8,
          "y1": 3.2,
          "yref": "y"
         },
         {
          "fillcolor": "rgb(31, 119, 180)",
          "line": {
           "width": 0
          },
          "opacity": 1,
          "type": "rect",
          "x0": "2016-11-05 22:04:24",
          "x1": "2016-11-05 22:24:24",
          "xref": "x",
          "y0": 4.8,
          "y1": 5.2,
          "yref": "y"
         },
         {
          "fillcolor": "rgb(255, 127, 14)",
          "line": {
           "width": 0
          },
          "opacity": 1,
          "type": "rect",
          "x0": "2016-11-05 22:24:10",
          "x1": "2016-11-05 23:28:10",
          "xref": "x",
          "y0": 2.8,
          "y1": 3.2,
          "yref": "y"
         },
         {
          "fillcolor": "rgb(255, 127, 14)",
          "line": {
           "width": 0
          },
          "opacity": 1,
          "type": "rect",
          "x0": "2016-11-05 22:25:48",
          "x1": "2016-11-05 22:50:48",
          "xref": "x",
          "y0": 1.8,
          "y1": 2.2,
          "yref": "y"
         },
         {
          "fillcolor": "rgb(255, 127, 14)",
          "line": {
           "width": 0
          },
          "opacity": 1,
          "type": "rect",
          "x0": "2016-11-05 22:50:48",
          "x1": "2016-11-05 23:54:48",
          "xref": "x",
          "y0": 1.8,
          "y1": 2.2,
          "yref": "y"
         },
         {
          "fillcolor": "rgb(31, 119, 180)",
          "line": {
           "width": 0
          },
          "opacity": 1,
          "type": "rect",
          "x0": "2016-11-05 23:29:34",
          "x1": "2016-11-05 23:49:34",
          "xref": "x",
          "y0": 4.8,
          "y1": 5.2,
          "yref": "y"
         },
         {
          "fillcolor": "rgb(255, 127, 14)",
          "line": {
           "width": 0
          },
          "opacity": 1,
          "type": "rect",
          "x0": "2016-11-05 23:50:58",
          "x1": "2016-11-06 00:15:58",
          "xref": "x",
          "y0": 2.8,
          "y1": 3.2,
          "yref": "y"
         },
         {
          "fillcolor": "rgb(31, 119, 180)",
          "line": {
           "width": 0
          },
          "opacity": 1,
          "type": "rect",
          "x0": "2016-11-05 23:56:12",
          "x1": "2016-11-06 00:16:12",
          "xref": "x",
          "y0": 4.8,
          "y1": 5.2,
          "yref": "y"
         },
         {
          "fillcolor": "rgb(255, 127, 14)",
          "line": {
           "width": 0
          },
          "opacity": 1,
          "type": "rect",
          "x0": "2016-11-06 00:15:58",
          "x1": "2016-11-06 01:19:58",
          "xref": "x",
          "y0": 2.8,
          "y1": 3.2,
          "yref": "y"
         },
         {
          "fillcolor": "rgb(255, 127, 14)",
          "line": {
           "width": 0
          },
          "opacity": 1,
          "type": "rect",
          "x0": "2016-11-06 00:17:36",
          "x1": "2016-11-06 00:42:36",
          "xref": "x",
          "y0": 1.8,
          "y1": 2.2,
          "yref": "y"
         },
         {
          "fillcolor": "rgb(255, 127, 14)",
          "line": {
           "width": 0
          },
          "opacity": 1,
          "type": "rect",
          "x0": "2016-11-06 00:42:36",
          "x1": "2016-11-06 01:46:36",
          "xref": "x",
          "y0": 1.8,
          "y1": 2.2,
          "yref": "y"
         },
         {
          "fillcolor": "rgb(31, 119, 180)",
          "line": {
           "width": 0
          },
          "opacity": 1,
          "type": "rect",
          "x0": "2016-11-06 01:21:22",
          "x1": "2016-11-06 01:41:22",
          "xref": "x",
          "y0": 4.8,
          "y1": 5.2,
          "yref": "y"
         },
         {
          "fillcolor": "rgb(255, 127, 14)",
          "line": {
           "width": 0
          },
          "opacity": 1,
          "type": "rect",
          "x0": "2016-11-06 01:42:46",
          "x1": "2016-11-06 02:07:46",
          "xref": "x",
          "y0": 2.8,
          "y1": 3.2,
          "yref": "y"
         },
         {
          "fillcolor": "rgb(31, 119, 180)",
          "line": {
           "width": 0
          },
          "opacity": 1,
          "type": "rect",
          "x0": "2016-11-06 01:48:00",
          "x1": "2016-11-06 02:03:00",
          "xref": "x",
          "y0": 4.8,
          "y1": 5.2,
          "yref": "y"
         },
         {
          "fillcolor": "rgb(255, 127, 14)",
          "line": {
           "width": 0
          },
          "opacity": 1,
          "type": "rect",
          "x0": "2016-11-06 02:04:24",
          "x1": "2016-11-06 02:29:24",
          "xref": "x",
          "y0": 1.8,
          "y1": 2.2,
          "yref": "y"
         },
         {
          "fillcolor": "rgb(255, 127, 14)",
          "line": {
           "width": 0
          },
          "opacity": 1,
          "type": "rect",
          "x0": "2016-11-06 02:07:46",
          "x1": "2016-11-06 03:11:46",
          "xref": "x",
          "y0": 2.8,
          "y1": 3.2,
          "yref": "y"
         },
         {
          "fillcolor": "rgb(31, 119, 180)",
          "line": {
           "width": 0
          },
          "opacity": 1,
          "type": "rect",
          "x0": "2016-11-06 02:30:48",
          "x1": "2016-11-06 02:35:48",
          "xref": "x",
          "y0": 4.8,
          "y1": 5.2,
          "yref": "y"
         },
         {
          "fillcolor": "rgb(31, 119, 180)",
          "line": {
           "width": 0
          },
          "opacity": 1,
          "type": "rect",
          "x0": "2016-11-06 03:13:10",
          "x1": "2016-11-06 03:28:10",
          "xref": "x",
          "y0": 4.8,
          "y1": 5.2,
          "yref": "y"
         },
         {
          "fillcolor": "rgb(255, 127, 14)",
          "line": {
           "width": 0
          },
          "opacity": 1,
          "type": "rect",
          "x0": "2016-11-06 03:29:34",
          "x1": "2016-11-06 03:54:34",
          "xref": "x",
          "y0": 1.8,
          "y1": 2.2,
          "yref": "y"
         },
         {
          "fillcolor": "rgb(31, 119, 180)",
          "line": {
           "width": 0
          },
          "opacity": 1,
          "type": "rect",
          "x0": "2016-11-06 03:55:58",
          "x1": "2016-11-06 04:00:58",
          "xref": "x",
          "y0": 4.8,
          "y1": 5.2,
          "yref": "y"
         }
        ],
        "showlegend": false,
        "title": "Gantt Chart",
        "width": 900,
        "xaxis": {
         "rangeselector": {
          "buttons": [
           {
            "count": 7,
            "label": "1w",
            "step": "day",
            "stepmode": "backward"
           },
           {
            "count": 1,
            "label": "1m",
            "step": "month",
            "stepmode": "backward"
           },
           {
            "count": 6,
            "label": "6m",
            "step": "month",
            "stepmode": "backward"
           },
           {
            "count": 1,
            "label": "YTD",
            "step": "year",
            "stepmode": "todate"
           },
           {
            "count": 1,
            "label": "1y",
            "step": "year",
            "stepmode": "backward"
           },
           {
            "step": "all"
           }
          ]
         },
         "showgrid": false,
         "type": "date",
         "zeroline": false
        },
        "yaxis": {
         "autorange": false,
         "range": [
          -1,
          7
         ],
         "showgrid": false,
         "ticktext": [
          "Machine4",
          "Machine3",
          "Machine2",
          "Machine1",
          "L/U2",
          "L/U1"
         ],
         "tickvals": [
          0,
          1,
          2,
          3,
          4,
          5
         ],
         "zeroline": false
        }
       }
      },
      "text/html": [
       "<div id=\"293369ce-13c8-40cd-8ce4-d3556c9f5acd\" style=\"height: 600px; width: 900px;\" class=\"plotly-graph-div\"></div><script type=\"text/javascript\">require([\"plotly\"], function(Plotly) { window.PLOTLYENV=window.PLOTLYENV || {};window.PLOTLYENV.BASE_URL=\"https://plot.ly\";Plotly.newPlot(\"293369ce-13c8-40cd-8ce4-d3556c9f5acd\", [{\"x\": [\"2016-11-05 12:01:14\", \"2016-11-05 12:06:14\"], \"y\": [5, 5], \"name\": \"\", \"marker\": {\"color\": \"white\"}}, {\"x\": [\"2016-11-05 12:02:28\", \"2016-11-05 12:22:28\"], \"y\": [4, 4], \"name\": \"\", \"marker\": {\"color\": \"white\"}}, {\"x\": [\"2016-11-05 12:07:38\", \"2016-11-05 13:11:38\"], \"y\": [3, 3], \"name\": \"\", \"marker\": {\"color\": \"white\"}}, {\"x\": [\"2016-11-05 12:08:42\", \"2016-11-05 12:13:42\"], \"y\": [5, 5], \"name\": \"\", \"marker\": {\"color\": \"white\"}}, {\"x\": [\"2016-11-05 12:15:06\", \"2016-11-05 13:19:06\"], \"y\": [2, 2], \"name\": \"\", \"marker\": {\"color\": \"white\"}}, {\"x\": [\"2016-11-05 12:23:52\", \"2016-11-05 13:31:52\"], \"y\": [1, 1], \"name\": \"\", \"marker\": {\"color\": \"white\"}}, {\"x\": [\"2016-11-05 12:24:56\", \"2016-11-05 12:44:56\"], \"y\": [4, 4], \"name\": \"\", \"marker\": {\"color\": \"white\"}}, {\"x\": [\"2016-11-05 12:46:20\", \"2016-11-05 13:54:20\"], \"y\": [0, 0], \"name\": \"\", \"marker\": {\"color\": \"white\"}}, {\"x\": [\"2016-11-05 12:47:24\", \"2016-11-05 13:07:24\"], \"y\": [4, 4], \"name\": \"\", \"marker\": {\"color\": \"white\"}}, {\"x\": [\"2016-11-05 13:09:52\", \"2016-11-05 13:29:52\"], \"y\": [4, 4], \"name\": \"\", \"marker\": {\"color\": \"white\"}}, {\"x\": [\"2016-11-05 13:11:48\", \"2016-11-05 14:19:48\"], \"y\": [3, 3], \"name\": \"\", \"marker\": {\"color\": \"white\"}}, {\"x\": [\"2016-11-05 13:13:02\", \"2016-11-05 13:28:02\"], \"y\": [5, 5], \"name\": \"\", \"marker\": {\"color\": \"white\"}}, {\"x\": [\"2016-11-05 13:29:26\", \"2016-11-05 13:54:26\"], \"y\": [2, 2], \"name\": \"\", \"marker\": {\"color\": \"white\"}}, {\"x\": [\"2016-11-05 13:30:30\", \"2016-11-05 13:45:30\"], \"y\": [5, 5], \"name\": \"\", \"marker\": {\"color\": \"white\"}}, {\"x\": [\"2016-11-05 13:32:02\", \"2016-11-05 14:40:02\"], \"y\": [1, 1], \"name\": \"\", \"marker\": {\"color\": \"white\"}}, {\"x\": [\"2016-11-05 13:33:16\", \"2016-11-05 14:13:16\"], \"y\": [4, 4], \"name\": \"\", \"marker\": {\"color\": \"white\"}}, {\"x\": [\"2016-11-05 13:54:26\", \"2016-11-05 14:58:26\"], \"y\": [2, 2], \"name\": \"\", \"marker\": {\"color\": \"white\"}}, {\"x\": [\"2016-11-05 14:58:36\", \"2016-11-05 15:23:36\"], \"y\": [2, 2], \"name\": \"\", \"marker\": {\"color\": \"white\"}}, {\"x\": [\"2016-11-05 14:58:36\", \"2016-11-05 16:06:36\"], \"y\": [0, 0], \"name\": \"\", \"marker\": {\"color\": \"white\"}}, {\"x\": [\"2016-11-05 14:59:50\", \"2016-11-05 15:19:50\"], \"y\": [5, 5], \"name\": \"\", \"marker\": {\"color\": \"white\"}}, {\"x\": [\"2016-11-05 15:01:04\", \"2016-11-05 15:41:04\"], \"y\": [4, 4], \"name\": \"\", \"marker\": {\"color\": \"white\"}}, {\"x\": [\"2016-11-05 15:21:14\", \"2016-11-05 15:46:14\"], \"y\": [3, 3], \"name\": \"\", \"marker\": {\"color\": \"white\"}}, {\"x\": [\"2016-11-05 15:23:36\", \"2016-11-05 16:27:36\"], \"y\": [2, 2], \"name\": \"\", \"marker\": {\"color\": \"white\"}}, {\"x\": [\"2016-11-05 15:42:28\", \"2016-11-05 16:50:28\"], \"y\": [1, 1], \"name\": \"\", \"marker\": {\"color\": \"white\"}}, {\"x\": [\"2016-11-05 15:43:32\", \"2016-11-05 16:23:32\"], \"y\": [4, 4], \"name\": \"\", \"marker\": {\"color\": \"white\"}}, {\"x\": [\"2016-11-05 15:46:14\", \"2016-11-05 16:50:14\"], \"y\": [3, 3], \"name\": \"\", \"marker\": {\"color\": \"white\"}}, {\"x\": [\"2016-11-05 16:24:56\", \"2016-11-05 17:32:56\"], \"y\": [0, 0], \"name\": \"\", \"marker\": {\"color\": \"white\"}}, {\"x\": [\"2016-11-05 16:26:00\", \"2016-11-05 17:06:00\"], \"y\": [4, 4], \"name\": \"\", \"marker\": {\"color\": \"white\"}}, {\"x\": [\"2016-11-05 16:29:00\", \"2016-11-05 16:49:00\"], \"y\": [5, 5], \"name\": \"\", \"marker\": {\"color\": \"white\"}}, {\"x\": [\"2016-11-05 16:50:24\", \"2016-11-05 17:15:24\"], \"y\": [2, 2], \"name\": \"\", \"marker\": {\"color\": \"white\"}}, {\"x\": [\"2016-11-05 16:51:38\", \"2016-11-05 17:11:38\"], \"y\": [5, 5], \"name\": \"\", \"marker\": {\"color\": \"white\"}}, {\"x\": [\"2016-11-05 17:07:24\", \"2016-11-05 18:15:24\"], \"y\": [3, 3], \"name\": \"\", \"marker\": {\"color\": \"white\"}}, {\"x\": [\"2016-11-05 17:08:28\", \"2016-11-05 17:48:28\"], \"y\": [4, 4], \"name\": \"\", \"marker\": {\"color\": \"white\"}}, {\"x\": [\"2016-11-05 17:15:24\", \"2016-11-05 18:19:24\"], \"y\": [2, 2], \"name\": \"\", \"marker\": {\"color\": \"white\"}}, {\"x\": [\"2016-11-05 17:50:56\", \"2016-11-05 18:30:56\"], \"y\": [4, 4], \"name\": \"\", \"marker\": {\"color\": \"white\"}}, {\"x\": [\"2016-11-05 18:15:34\", \"2016-11-05 18:40:34\"], \"y\": [3, 3], \"name\": \"\", \"marker\": {\"color\": \"white\"}}, {\"x\": [\"2016-11-05 18:15:34\", \"2016-11-05 19:23:34\"], \"y\": [1, 1], \"name\": \"\", \"marker\": {\"color\": \"white\"}}, {\"x\": [\"2016-11-05 18:20:48\", \"2016-11-05 18:40:48\"], \"y\": [5, 5], \"name\": \"\", \"marker\": {\"color\": \"white\"}}, {\"x\": [\"2016-11-05 18:32:20\", \"2016-11-05 19:40:20\"], \"y\": [0, 0], \"name\": \"\", \"marker\": {\"color\": \"white\"}}, {\"x\": [\"2016-11-05 18:33:24\", \"2016-11-05 18:53:24\"], \"y\": [4, 4], \"name\": \"\", \"marker\": {\"color\": \"white\"}}, {\"x\": [\"2016-11-05 18:40:34\", \"2016-11-05 19:44:34\"], \"y\": [3, 3], \"name\": \"\", \"marker\": {\"color\": \"white\"}}, {\"x\": [\"2016-11-05 18:42:12\", \"2016-11-05 19:07:12\"], \"y\": [2, 2], \"name\": \"\", \"marker\": {\"color\": \"white\"}}, {\"x\": [\"2016-11-05 18:55:52\", \"2016-11-05 19:15:52\"], \"y\": [4, 4], \"name\": \"\", \"marker\": {\"color\": \"white\"}}, {\"x\": [\"2016-11-05 19:07:12\", \"2016-11-05 20:11:12\"], \"y\": [2, 2], \"name\": \"\", \"marker\": {\"color\": \"white\"}}, {\"x\": [\"2016-11-05 19:24:58\", \"2016-11-05 19:44:58\"], \"y\": [4, 4], \"name\": \"\", \"marker\": {\"color\": \"white\"}}, {\"x\": [\"2016-11-05 19:45:58\", \"2016-11-05 20:05:58\"], \"y\": [5, 5], \"name\": \"\", \"marker\": {\"color\": \"white\"}}, {\"x\": [\"2016-11-05 19:48:26\", \"2016-11-05 20:08:26\"], \"y\": [4, 4], \"name\": \"\", \"marker\": {\"color\": \"white\"}}, {\"x\": [\"2016-11-05 20:07:22\", \"2016-11-05 20:32:22\"], \"y\": [3, 3], \"name\": \"\", \"marker\": {\"color\": \"white\"}}, {\"x\": [\"2016-11-05 20:12:36\", \"2016-11-05 20:32:36\"], \"y\": [5, 5], \"name\": \"\", \"marker\": {\"color\": \"white\"}}, {\"x\": [\"2016-11-05 20:32:22\", \"2016-11-05 21:36:22\"], \"y\": [3, 3], \"name\": \"\", \"marker\": {\"color\": \"white\"}}, {\"x\": [\"2016-11-05 20:34:00\", \"2016-11-05 20:59:00\"], \"y\": [2, 2], \"name\": \"\", \"marker\": {\"color\": \"white\"}}, {\"x\": [\"2016-11-05 20:59:00\", \"2016-11-05 22:03:00\"], \"y\": [2, 2], \"name\": \"\", \"marker\": {\"color\": \"white\"}}, {\"x\": [\"2016-11-05 21:37:46\", \"2016-11-05 21:57:46\"], \"y\": [5, 5], \"name\": \"\", \"marker\": {\"color\": \"white\"}}, {\"x\": [\"2016-11-05 21:59:10\", \"2016-11-05 22:24:10\"], \"y\": [3, 3], \"name\": \"\", \"marker\": {\"color\": \"white\"}}, {\"x\": [\"2016-11-05 22:04:24\", \"2016-11-05 22:24:24\"], \"y\": [5, 5], \"name\": \"\", \"marker\": {\"color\": \"white\"}}, {\"x\": [\"2016-11-05 22:24:10\", \"2016-11-05 23:28:10\"], \"y\": [3, 3], \"name\": \"\", \"marker\": {\"color\": \"white\"}}, {\"x\": [\"2016-11-05 22:25:48\", \"2016-11-05 22:50:48\"], \"y\": [2, 2], \"name\": \"\", \"marker\": {\"color\": \"white\"}}, {\"x\": [\"2016-11-05 22:50:48\", \"2016-11-05 23:54:48\"], \"y\": [2, 2], \"name\": \"\", \"marker\": {\"color\": \"white\"}}, {\"x\": [\"2016-11-05 23:29:34\", \"2016-11-05 23:49:34\"], \"y\": [5, 5], \"name\": \"\", \"marker\": {\"color\": \"white\"}}, {\"x\": [\"2016-11-05 23:50:58\", \"2016-11-06 00:15:58\"], \"y\": [3, 3], \"name\": \"\", \"marker\": {\"color\": \"white\"}}, {\"x\": [\"2016-11-05 23:56:12\", \"2016-11-06 00:16:12\"], \"y\": [5, 5], \"name\": \"\", \"marker\": {\"color\": \"white\"}}, {\"x\": [\"2016-11-06 00:15:58\", \"2016-11-06 01:19:58\"], \"y\": [3, 3], \"name\": \"\", \"marker\": {\"color\": \"white\"}}, {\"x\": [\"2016-11-06 00:17:36\", \"2016-11-06 00:42:36\"], \"y\": [2, 2], \"name\": \"\", \"marker\": {\"color\": \"white\"}}, {\"x\": [\"2016-11-06 00:42:36\", \"2016-11-06 01:46:36\"], \"y\": [2, 2], \"name\": \"\", \"marker\": {\"color\": \"white\"}}, {\"x\": [\"2016-11-06 01:21:22\", \"2016-11-06 01:41:22\"], \"y\": [5, 5], \"name\": \"\", \"marker\": {\"color\": \"white\"}}, {\"x\": [\"2016-11-06 01:42:46\", \"2016-11-06 02:07:46\"], \"y\": [3, 3], \"name\": \"\", \"marker\": {\"color\": \"white\"}}, {\"x\": [\"2016-11-06 01:48:00\", \"2016-11-06 02:03:00\"], \"y\": [5, 5], \"name\": \"\", \"marker\": {\"color\": \"white\"}}, {\"x\": [\"2016-11-06 02:04:24\", \"2016-11-06 02:29:24\"], \"y\": [2, 2], \"name\": \"\", \"marker\": {\"color\": \"white\"}}, {\"x\": [\"2016-11-06 02:07:46\", \"2016-11-06 03:11:46\"], \"y\": [3, 3], \"name\": \"\", \"marker\": {\"color\": \"white\"}}, {\"x\": [\"2016-11-06 02:30:48\", \"2016-11-06 02:35:48\"], \"y\": [5, 5], \"name\": \"\", \"marker\": {\"color\": \"white\"}}, {\"x\": [\"2016-11-06 03:13:10\", \"2016-11-06 03:28:10\"], \"y\": [5, 5], \"name\": \"\", \"marker\": {\"color\": \"white\"}}, {\"x\": [\"2016-11-06 03:29:34\", \"2016-11-06 03:54:34\"], \"y\": [2, 2], \"name\": \"\", \"marker\": {\"color\": \"white\"}}, {\"x\": [\"2016-11-06 03:55:58\", \"2016-11-06 04:00:58\"], \"y\": [5, 5], \"name\": \"\", \"marker\": {\"color\": \"white\"}}], {\"title\": \"Gantt Chart\", \"showlegend\": false, \"height\": 600, \"width\": 900, \"shapes\": [{\"x0\": \"2016-11-05 12:01:14\", \"x1\": \"2016-11-05 12:06:14\", \"type\": \"rect\", \"xref\": \"x\", \"yref\": \"y\", \"opacity\": 1, \"line\": {\"width\": 0}, \"y0\": 4.8, \"y1\": 5.2, \"fillcolor\": \"rgb(31, 119, 180)\"}, {\"x0\": \"2016-11-05 12:02:28\", \"x1\": \"2016-11-05 12:22:28\", \"type\": \"rect\", \"xref\": \"x\", \"yref\": \"y\", \"opacity\": 1, \"line\": {\"width\": 0}, \"y0\": 3.8, \"y1\": 4.2, \"fillcolor\": \"rgb(31, 119, 180)\"}, {\"x0\": \"2016-11-05 12:07:38\", \"x1\": \"2016-11-05 13:11:38\", \"type\": \"rect\", \"xref\": \"x\", \"yref\": \"y\", \"opacity\": 1, \"line\": {\"width\": 0}, \"y0\": 2.8, \"y1\": 3.2, \"fillcolor\": \"rgb(255, 127, 14)\"}, {\"x0\": \"2016-11-05 12:08:42\", \"x1\": \"2016-11-05 12:13:42\", \"type\": \"rect\", \"xref\": \"x\", \"yref\": \"y\", \"opacity\": 1, \"line\": {\"width\": 0}, \"y0\": 4.8, \"y1\": 5.2, \"fillcolor\": \"rgb(31, 119, 180)\"}, {\"x0\": \"2016-11-05 12:15:06\", \"x1\": \"2016-11-05 13:19:06\", \"type\": \"rect\", \"xref\": \"x\", \"yref\": \"y\", \"opacity\": 1, \"line\": {\"width\": 0}, \"y0\": 1.8, \"y1\": 2.2, \"fillcolor\": \"rgb(255, 127, 14)\"}, {\"x0\": \"2016-11-05 12:23:52\", \"x1\": \"2016-11-05 13:31:52\", \"type\": \"rect\", \"xref\": \"x\", \"yref\": \"y\", \"opacity\": 1, \"line\": {\"width\": 0}, \"y0\": 0.8, \"y1\": 1.2, \"fillcolor\": \"rgb(255, 127, 14)\"}, {\"x0\": \"2016-11-05 12:24:56\", \"x1\": \"2016-11-05 12:44:56\", \"type\": \"rect\", \"xref\": \"x\", \"yref\": \"y\", \"opacity\": 1, \"line\": {\"width\": 0}, \"y0\": 3.8, \"y1\": 4.2, \"fillcolor\": \"rgb(31, 119, 180)\"}, {\"x0\": \"2016-11-05 12:46:20\", \"x1\": \"2016-11-05 13:54:20\", \"type\": \"rect\", \"xref\": \"x\", \"yref\": \"y\", \"opacity\": 1, \"line\": {\"width\": 0}, \"y0\": -0.2, \"y1\": 0.2, \"fillcolor\": \"rgb(255, 127, 14)\"}, {\"x0\": \"2016-11-05 12:47:24\", \"x1\": \"2016-11-05 13:07:24\", \"type\": \"rect\", \"xref\": \"x\", \"yref\": \"y\", \"opacity\": 1, \"line\": {\"width\": 0}, \"y0\": 3.8, \"y1\": 4.2, \"fillcolor\": \"rgb(31, 119, 180)\"}, {\"x0\": \"2016-11-05 13:09:52\", \"x1\": \"2016-11-05 13:29:52\", \"type\": \"rect\", \"xref\": \"x\", \"yref\": \"y\", \"opacity\": 1, \"line\": {\"width\": 0}, \"y0\": 3.8, \"y1\": 4.2, \"fillcolor\": \"rgb(31, 119, 180)\"}, {\"x0\": \"2016-11-05 13:11:48\", \"x1\": \"2016-11-05 14:19:48\", \"type\": \"rect\", \"xref\": \"x\", \"yref\": \"y\", \"opacity\": 1, \"line\": {\"width\": 0}, \"y0\": 2.8, \"y1\": 3.2, \"fillcolor\": \"rgb(255, 127, 14)\"}, {\"x0\": \"2016-11-05 13:13:02\", \"x1\": \"2016-11-05 13:28:02\", \"type\": \"rect\", \"xref\": \"x\", \"yref\": \"y\", \"opacity\": 1, \"line\": {\"width\": 0}, \"y0\": 4.8, \"y1\": 5.2, \"fillcolor\": \"rgb(31, 119, 180)\"}, {\"x0\": \"2016-11-05 13:29:26\", \"x1\": \"2016-11-05 13:54:26\", \"type\": \"rect\", \"xref\": \"x\", \"yref\": \"y\", \"opacity\": 1, \"line\": {\"width\": 0}, \"y0\": 1.8, \"y1\": 2.2, \"fillcolor\": \"rgb(255, 127, 14)\"}, {\"x0\": \"2016-11-05 13:30:30\", \"x1\": \"2016-11-05 13:45:30\", \"type\": \"rect\", \"xref\": \"x\", \"yref\": \"y\", \"opacity\": 1, \"line\": {\"width\": 0}, \"y0\": 4.8, \"y1\": 5.2, \"fillcolor\": \"rgb(31, 119, 180)\"}, {\"x0\": \"2016-11-05 13:32:02\", \"x1\": \"2016-11-05 14:40:02\", \"type\": \"rect\", \"xref\": \"x\", \"yref\": \"y\", \"opacity\": 1, \"line\": {\"width\": 0}, \"y0\": 0.8, \"y1\": 1.2, \"fillcolor\": \"rgb(255, 127, 14)\"}, {\"x0\": \"2016-11-05 13:33:16\", \"x1\": \"2016-11-05 14:13:16\", \"type\": \"rect\", \"xref\": \"x\", \"yref\": \"y\", \"opacity\": 1, \"line\": {\"width\": 0}, \"y0\": 3.8, \"y1\": 4.2, \"fillcolor\": \"rgb(31, 119, 180)\"}, {\"x0\": \"2016-11-05 13:54:26\", \"x1\": \"2016-11-05 14:58:26\", \"type\": \"rect\", \"xref\": \"x\", \"yref\": \"y\", \"opacity\": 1, \"line\": {\"width\": 0}, \"y0\": 1.8, \"y1\": 2.2, \"fillcolor\": \"rgb(255, 127, 14)\"}, {\"x0\": \"2016-11-05 14:58:36\", \"x1\": \"2016-11-05 15:23:36\", \"type\": \"rect\", \"xref\": \"x\", \"yref\": \"y\", \"opacity\": 1, \"line\": {\"width\": 0}, \"y0\": 1.8, \"y1\": 2.2, \"fillcolor\": \"rgb(255, 127, 14)\"}, {\"x0\": \"2016-11-05 14:58:36\", \"x1\": \"2016-11-05 16:06:36\", \"type\": \"rect\", \"xref\": \"x\", \"yref\": \"y\", \"opacity\": 1, \"line\": {\"width\": 0}, \"y0\": -0.2, \"y1\": 0.2, \"fillcolor\": \"rgb(255, 127, 14)\"}, {\"x0\": \"2016-11-05 14:59:50\", \"x1\": \"2016-11-05 15:19:50\", \"type\": \"rect\", \"xref\": \"x\", \"yref\": \"y\", \"opacity\": 1, \"line\": {\"width\": 0}, \"y0\": 4.8, \"y1\": 5.2, \"fillcolor\": \"rgb(31, 119, 180)\"}, {\"x0\": \"2016-11-05 15:01:04\", \"x1\": \"2016-11-05 15:41:04\", \"type\": \"rect\", \"xref\": \"x\", \"yref\": \"y\", \"opacity\": 1, \"line\": {\"width\": 0}, \"y0\": 3.8, \"y1\": 4.2, \"fillcolor\": \"rgb(31, 119, 180)\"}, {\"x0\": \"2016-11-05 15:21:14\", \"x1\": \"2016-11-05 15:46:14\", \"type\": \"rect\", \"xref\": \"x\", \"yref\": \"y\", \"opacity\": 1, \"line\": {\"width\": 0}, \"y0\": 2.8, \"y1\": 3.2, \"fillcolor\": \"rgb(255, 127, 14)\"}, {\"x0\": \"2016-11-05 15:23:36\", \"x1\": \"2016-11-05 16:27:36\", \"type\": \"rect\", \"xref\": \"x\", \"yref\": \"y\", \"opacity\": 1, \"line\": {\"width\": 0}, \"y0\": 1.8, \"y1\": 2.2, \"fillcolor\": \"rgb(255, 127, 14)\"}, {\"x0\": \"2016-11-05 15:42:28\", \"x1\": \"2016-11-05 16:50:28\", \"type\": \"rect\", \"xref\": \"x\", \"yref\": \"y\", \"opacity\": 1, \"line\": {\"width\": 0}, \"y0\": 0.8, \"y1\": 1.2, \"fillcolor\": \"rgb(255, 127, 14)\"}, {\"x0\": \"2016-11-05 15:43:32\", \"x1\": \"2016-11-05 16:23:32\", \"type\": \"rect\", \"xref\": \"x\", \"yref\": \"y\", \"opacity\": 1, \"line\": {\"width\": 0}, \"y0\": 3.8, \"y1\": 4.2, \"fillcolor\": \"rgb(31, 119, 180)\"}, {\"x0\": \"2016-11-05 15:46:14\", \"x1\": \"2016-11-05 16:50:14\", \"type\": \"rect\", \"xref\": \"x\", \"yref\": \"y\", \"opacity\": 1, \"line\": {\"width\": 0}, \"y0\": 2.8, \"y1\": 3.2, \"fillcolor\": \"rgb(255, 127, 14)\"}, {\"x0\": \"2016-11-05 16:24:56\", \"x1\": \"2016-11-05 17:32:56\", \"type\": \"rect\", \"xref\": \"x\", \"yref\": \"y\", \"opacity\": 1, \"line\": {\"width\": 0}, \"y0\": -0.2, \"y1\": 0.2, \"fillcolor\": \"rgb(255, 127, 14)\"}, {\"x0\": \"2016-11-05 16:26:00\", \"x1\": \"2016-11-05 17:06:00\", \"type\": \"rect\", \"xref\": \"x\", \"yref\": \"y\", \"opacity\": 1, \"line\": {\"width\": 0}, \"y0\": 3.8, \"y1\": 4.2, \"fillcolor\": \"rgb(31, 119, 180)\"}, {\"x0\": \"2016-11-05 16:29:00\", \"x1\": \"2016-11-05 16:49:00\", \"type\": \"rect\", \"xref\": \"x\", \"yref\": \"y\", \"opacity\": 1, \"line\": {\"width\": 0}, \"y0\": 4.8, \"y1\": 5.2, \"fillcolor\": \"rgb(31, 119, 180)\"}, {\"x0\": \"2016-11-05 16:50:24\", \"x1\": \"2016-11-05 17:15:24\", \"type\": \"rect\", \"xref\": \"x\", \"yref\": \"y\", \"opacity\": 1, \"line\": {\"width\": 0}, \"y0\": 1.8, \"y1\": 2.2, \"fillcolor\": \"rgb(255, 127, 14)\"}, {\"x0\": \"2016-11-05 16:51:38\", \"x1\": \"2016-11-05 17:11:38\", \"type\": \"rect\", \"xref\": \"x\", \"yref\": \"y\", \"opacity\": 1, \"line\": {\"width\": 0}, \"y0\": 4.8, \"y1\": 5.2, \"fillcolor\": \"rgb(31, 119, 180)\"}, {\"x0\": \"2016-11-05 17:07:24\", \"x1\": \"2016-11-05 18:15:24\", \"type\": \"rect\", \"xref\": \"x\", \"yref\": \"y\", \"opacity\": 1, \"line\": {\"width\": 0}, \"y0\": 2.8, \"y1\": 3.2, \"fillcolor\": \"rgb(255, 127, 14)\"}, {\"x0\": \"2016-11-05 17:08:28\", \"x1\": \"2016-11-05 17:48:28\", \"type\": \"rect\", \"xref\": \"x\", \"yref\": \"y\", \"opacity\": 1, \"line\": {\"width\": 0}, \"y0\": 3.8, \"y1\": 4.2, \"fillcolor\": \"rgb(31, 119, 180)\"}, {\"x0\": \"2016-11-05 17:15:24\", \"x1\": \"2016-11-05 18:19:24\", \"type\": \"rect\", \"xref\": \"x\", \"yref\": \"y\", \"opacity\": 1, \"line\": {\"width\": 0}, \"y0\": 1.8, \"y1\": 2.2, \"fillcolor\": \"rgb(255, 127, 14)\"}, {\"x0\": \"2016-11-05 17:50:56\", \"x1\": \"2016-11-05 18:30:56\", \"type\": \"rect\", \"xref\": \"x\", \"yref\": \"y\", \"opacity\": 1, \"line\": {\"width\": 0}, \"y0\": 3.8, \"y1\": 4.2, \"fillcolor\": \"rgb(31, 119, 180)\"}, {\"x0\": \"2016-11-05 18:15:34\", \"x1\": \"2016-11-05 18:40:34\", \"type\": \"rect\", \"xref\": \"x\", \"yref\": \"y\", \"opacity\": 1, \"line\": {\"width\": 0}, \"y0\": 2.8, \"y1\": 3.2, \"fillcolor\": \"rgb(255, 127, 14)\"}, {\"x0\": \"2016-11-05 18:15:34\", \"x1\": \"2016-11-05 19:23:34\", \"type\": \"rect\", \"xref\": \"x\", \"yref\": \"y\", \"opacity\": 1, \"line\": {\"width\": 0}, \"y0\": 0.8, \"y1\": 1.2, \"fillcolor\": \"rgb(255, 127, 14)\"}, {\"x0\": \"2016-11-05 18:20:48\", \"x1\": \"2016-11-05 18:40:48\", \"type\": \"rect\", \"xref\": \"x\", \"yref\": \"y\", \"opacity\": 1, \"line\": {\"width\": 0}, \"y0\": 4.8, \"y1\": 5.2, \"fillcolor\": \"rgb(31, 119, 180)\"}, {\"x0\": \"2016-11-05 18:32:20\", \"x1\": \"2016-11-05 19:40:20\", \"type\": \"rect\", \"xref\": \"x\", \"yref\": \"y\", \"opacity\": 1, \"line\": {\"width\": 0}, \"y0\": -0.2, \"y1\": 0.2, \"fillcolor\": \"rgb(255, 127, 14)\"}, {\"x0\": \"2016-11-05 18:33:24\", \"x1\": \"2016-11-05 18:53:24\", \"type\": \"rect\", \"xref\": \"x\", \"yref\": \"y\", \"opacity\": 1, \"line\": {\"width\": 0}, \"y0\": 3.8, \"y1\": 4.2, \"fillcolor\": \"rgb(31, 119, 180)\"}, {\"x0\": \"2016-11-05 18:40:34\", \"x1\": \"2016-11-05 19:44:34\", \"type\": \"rect\", \"xref\": \"x\", \"yref\": \"y\", \"opacity\": 1, \"line\": {\"width\": 0}, \"y0\": 2.8, \"y1\": 3.2, \"fillcolor\": \"rgb(255, 127, 14)\"}, {\"x0\": \"2016-11-05 18:42:12\", \"x1\": \"2016-11-05 19:07:12\", \"type\": \"rect\", \"xref\": \"x\", \"yref\": \"y\", \"opacity\": 1, \"line\": {\"width\": 0}, \"y0\": 1.8, \"y1\": 2.2, \"fillcolor\": \"rgb(255, 127, 14)\"}, {\"x0\": \"2016-11-05 18:55:52\", \"x1\": \"2016-11-05 19:15:52\", \"type\": \"rect\", \"xref\": \"x\", \"yref\": \"y\", \"opacity\": 1, \"line\": {\"width\": 0}, \"y0\": 3.8, \"y1\": 4.2, \"fillcolor\": \"rgb(31, 119, 180)\"}, {\"x0\": \"2016-11-05 19:07:12\", \"x1\": \"2016-11-05 20:11:12\", \"type\": \"rect\", \"xref\": \"x\", \"yref\": \"y\", \"opacity\": 1, \"line\": {\"width\": 0}, \"y0\": 1.8, \"y1\": 2.2, \"fillcolor\": \"rgb(255, 127, 14)\"}, {\"x0\": \"2016-11-05 19:24:58\", \"x1\": \"2016-11-05 19:44:58\", \"type\": \"rect\", \"xref\": \"x\", \"yref\": \"y\", \"opacity\": 1, \"line\": {\"width\": 0}, \"y0\": 3.8, \"y1\": 4.2, \"fillcolor\": \"rgb(31, 119, 180)\"}, {\"x0\": \"2016-11-05 19:45:58\", \"x1\": \"2016-11-05 20:05:58\", \"type\": \"rect\", \"xref\": \"x\", \"yref\": \"y\", \"opacity\": 1, \"line\": {\"width\": 0}, \"y0\": 4.8, \"y1\": 5.2, \"fillcolor\": \"rgb(31, 119, 180)\"}, {\"x0\": \"2016-11-05 19:48:26\", \"x1\": \"2016-11-05 20:08:26\", \"type\": \"rect\", \"xref\": \"x\", \"yref\": \"y\", \"opacity\": 1, \"line\": {\"width\": 0}, \"y0\": 3.8, \"y1\": 4.2, \"fillcolor\": \"rgb(31, 119, 180)\"}, {\"x0\": \"2016-11-05 20:07:22\", \"x1\": \"2016-11-05 20:32:22\", \"type\": \"rect\", \"xref\": \"x\", \"yref\": \"y\", \"opacity\": 1, \"line\": {\"width\": 0}, \"y0\": 2.8, \"y1\": 3.2, \"fillcolor\": \"rgb(255, 127, 14)\"}, {\"x0\": \"2016-11-05 20:12:36\", \"x1\": \"2016-11-05 20:32:36\", \"type\": \"rect\", \"xref\": \"x\", \"yref\": \"y\", \"opacity\": 1, \"line\": {\"width\": 0}, \"y0\": 4.8, \"y1\": 5.2, \"fillcolor\": \"rgb(31, 119, 180)\"}, {\"x0\": \"2016-11-05 20:32:22\", \"x1\": \"2016-11-05 21:36:22\", \"type\": \"rect\", \"xref\": \"x\", \"yref\": \"y\", \"opacity\": 1, \"line\": {\"width\": 0}, \"y0\": 2.8, \"y1\": 3.2, \"fillcolor\": \"rgb(255, 127, 14)\"}, {\"x0\": \"2016-11-05 20:34:00\", \"x1\": \"2016-11-05 20:59:00\", \"type\": \"rect\", \"xref\": \"x\", \"yref\": \"y\", \"opacity\": 1, \"line\": {\"width\": 0}, \"y0\": 1.8, \"y1\": 2.2, \"fillcolor\": \"rgb(255, 127, 14)\"}, {\"x0\": \"2016-11-05 20:59:00\", \"x1\": \"2016-11-05 22:03:00\", \"type\": \"rect\", \"xref\": \"x\", \"yref\": \"y\", \"opacity\": 1, \"line\": {\"width\": 0}, \"y0\": 1.8, \"y1\": 2.2, \"fillcolor\": \"rgb(255, 127, 14)\"}, {\"x0\": \"2016-11-05 21:37:46\", \"x1\": \"2016-11-05 21:57:46\", \"type\": \"rect\", \"xref\": \"x\", \"yref\": \"y\", \"opacity\": 1, \"line\": {\"width\": 0}, \"y0\": 4.8, \"y1\": 5.2, \"fillcolor\": \"rgb(31, 119, 180)\"}, {\"x0\": \"2016-11-05 21:59:10\", \"x1\": \"2016-11-05 22:24:10\", \"type\": \"rect\", \"xref\": \"x\", \"yref\": \"y\", \"opacity\": 1, \"line\": {\"width\": 0}, \"y0\": 2.8, \"y1\": 3.2, \"fillcolor\": \"rgb(255, 127, 14)\"}, {\"x0\": \"2016-11-05 22:04:24\", \"x1\": \"2016-11-05 22:24:24\", \"type\": \"rect\", \"xref\": \"x\", \"yref\": \"y\", \"opacity\": 1, \"line\": {\"width\": 0}, \"y0\": 4.8, \"y1\": 5.2, \"fillcolor\": \"rgb(31, 119, 180)\"}, {\"x0\": \"2016-11-05 22:24:10\", \"x1\": \"2016-11-05 23:28:10\", \"type\": \"rect\", \"xref\": \"x\", \"yref\": \"y\", \"opacity\": 1, \"line\": {\"width\": 0}, \"y0\": 2.8, \"y1\": 3.2, \"fillcolor\": \"rgb(255, 127, 14)\"}, {\"x0\": \"2016-11-05 22:25:48\", \"x1\": \"2016-11-05 22:50:48\", \"type\": \"rect\", \"xref\": \"x\", \"yref\": \"y\", \"opacity\": 1, \"line\": {\"width\": 0}, \"y0\": 1.8, \"y1\": 2.2, \"fillcolor\": \"rgb(255, 127, 14)\"}, {\"x0\": \"2016-11-05 22:50:48\", \"x1\": \"2016-11-05 23:54:48\", \"type\": \"rect\", \"xref\": \"x\", \"yref\": \"y\", \"opacity\": 1, \"line\": {\"width\": 0}, \"y0\": 1.8, \"y1\": 2.2, \"fillcolor\": \"rgb(255, 127, 14)\"}, {\"x0\": \"2016-11-05 23:29:34\", \"x1\": \"2016-11-05 23:49:34\", \"type\": \"rect\", \"xref\": \"x\", \"yref\": \"y\", \"opacity\": 1, \"line\": {\"width\": 0}, \"y0\": 4.8, \"y1\": 5.2, \"fillcolor\": \"rgb(31, 119, 180)\"}, {\"x0\": \"2016-11-05 23:50:58\", \"x1\": \"2016-11-06 00:15:58\", \"type\": \"rect\", \"xref\": \"x\", \"yref\": \"y\", \"opacity\": 1, \"line\": {\"width\": 0}, \"y0\": 2.8, \"y1\": 3.2, \"fillcolor\": \"rgb(255, 127, 14)\"}, {\"x0\": \"2016-11-05 23:56:12\", \"x1\": \"2016-11-06 00:16:12\", \"type\": \"rect\", \"xref\": \"x\", \"yref\": \"y\", \"opacity\": 1, \"line\": {\"width\": 0}, \"y0\": 4.8, \"y1\": 5.2, \"fillcolor\": \"rgb(31, 119, 180)\"}, {\"x0\": \"2016-11-06 00:15:58\", \"x1\": \"2016-11-06 01:19:58\", \"type\": \"rect\", \"xref\": \"x\", \"yref\": \"y\", \"opacity\": 1, \"line\": {\"width\": 0}, \"y0\": 2.8, \"y1\": 3.2, \"fillcolor\": \"rgb(255, 127, 14)\"}, {\"x0\": \"2016-11-06 00:17:36\", \"x1\": \"2016-11-06 00:42:36\", \"type\": \"rect\", \"xref\": \"x\", \"yref\": \"y\", \"opacity\": 1, \"line\": {\"width\": 0}, \"y0\": 1.8, \"y1\": 2.2, \"fillcolor\": \"rgb(255, 127, 14)\"}, {\"x0\": \"2016-11-06 00:42:36\", \"x1\": \"2016-11-06 01:46:36\", \"type\": \"rect\", \"xref\": \"x\", \"yref\": \"y\", \"opacity\": 1, \"line\": {\"width\": 0}, \"y0\": 1.8, \"y1\": 2.2, \"fillcolor\": \"rgb(255, 127, 14)\"}, {\"x0\": \"2016-11-06 01:21:22\", \"x1\": \"2016-11-06 01:41:22\", \"type\": \"rect\", \"xref\": \"x\", \"yref\": \"y\", \"opacity\": 1, \"line\": {\"width\": 0}, \"y0\": 4.8, \"y1\": 5.2, \"fillcolor\": \"rgb(31, 119, 180)\"}, {\"x0\": \"2016-11-06 01:42:46\", \"x1\": \"2016-11-06 02:07:46\", \"type\": \"rect\", \"xref\": \"x\", \"yref\": \"y\", \"opacity\": 1, \"line\": {\"width\": 0}, \"y0\": 2.8, \"y1\": 3.2, \"fillcolor\": \"rgb(255, 127, 14)\"}, {\"x0\": \"2016-11-06 01:48:00\", \"x1\": \"2016-11-06 02:03:00\", \"type\": \"rect\", \"xref\": \"x\", \"yref\": \"y\", \"opacity\": 1, \"line\": {\"width\": 0}, \"y0\": 4.8, \"y1\": 5.2, \"fillcolor\": \"rgb(31, 119, 180)\"}, {\"x0\": \"2016-11-06 02:04:24\", \"x1\": \"2016-11-06 02:29:24\", \"type\": \"rect\", \"xref\": \"x\", \"yref\": \"y\", \"opacity\": 1, \"line\": {\"width\": 0}, \"y0\": 1.8, \"y1\": 2.2, \"fillcolor\": \"rgb(255, 127, 14)\"}, {\"x0\": \"2016-11-06 02:07:46\", \"x1\": \"2016-11-06 03:11:46\", \"type\": \"rect\", \"xref\": \"x\", \"yref\": \"y\", \"opacity\": 1, \"line\": {\"width\": 0}, \"y0\": 2.8, \"y1\": 3.2, \"fillcolor\": \"rgb(255, 127, 14)\"}, {\"x0\": \"2016-11-06 02:30:48\", \"x1\": \"2016-11-06 02:35:48\", \"type\": \"rect\", \"xref\": \"x\", \"yref\": \"y\", \"opacity\": 1, \"line\": {\"width\": 0}, \"y0\": 4.8, \"y1\": 5.2, \"fillcolor\": \"rgb(31, 119, 180)\"}, {\"x0\": \"2016-11-06 03:13:10\", \"x1\": \"2016-11-06 03:28:10\", \"type\": \"rect\", \"xref\": \"x\", \"yref\": \"y\", \"opacity\": 1, \"line\": {\"width\": 0}, \"y0\": 4.8, \"y1\": 5.2, \"fillcolor\": \"rgb(31, 119, 180)\"}, {\"x0\": \"2016-11-06 03:29:34\", \"x1\": \"2016-11-06 03:54:34\", \"type\": \"rect\", \"xref\": \"x\", \"yref\": \"y\", \"opacity\": 1, \"line\": {\"width\": 0}, \"y0\": 1.8, \"y1\": 2.2, \"fillcolor\": \"rgb(255, 127, 14)\"}, {\"x0\": \"2016-11-06 03:55:58\", \"x1\": \"2016-11-06 04:00:58\", \"type\": \"rect\", \"xref\": \"x\", \"yref\": \"y\", \"opacity\": 1, \"line\": {\"width\": 0}, \"y0\": 4.8, \"y1\": 5.2, \"fillcolor\": \"rgb(31, 119, 180)\"}], \"hovermode\": \"closest\", \"yaxis\": {\"showgrid\": false, \"ticktext\": [\"Machine4\", \"Machine3\", \"Machine2\", \"Machine1\", \"L/U2\", \"L/U1\"], \"tickvals\": [0, 1, 2, 3, 4, 5], \"range\": [-1, 7], \"autorange\": false, \"zeroline\": false}, \"xaxis\": {\"showgrid\": false, \"zeroline\": false, \"rangeselector\": {\"buttons\": [{\"count\": 7, \"label\": \"1w\", \"step\": \"day\", \"stepmode\": \"backward\"}, {\"count\": 1, \"label\": \"1m\", \"step\": \"month\", \"stepmode\": \"backward\"}, {\"count\": 6, \"label\": \"6m\", \"step\": \"month\", \"stepmode\": \"backward\"}, {\"count\": 1, \"label\": \"YTD\", \"step\": \"year\", \"stepmode\": \"todate\"}, {\"count\": 1, \"label\": \"1y\", \"step\": \"year\", \"stepmode\": \"backward\"}, {\"step\": \"all\"}]}, \"type\": \"date\"}}, {\"showLink\": true, \"linkText\": \"Export to plot.ly\"})});</script>"
      ],
      "text/vnd.plotly.v1+html": [
       "<div id=\"293369ce-13c8-40cd-8ce4-d3556c9f5acd\" style=\"height: 600px; width: 900px;\" class=\"plotly-graph-div\"></div><script type=\"text/javascript\">require([\"plotly\"], function(Plotly) { window.PLOTLYENV=window.PLOTLYENV || {};window.PLOTLYENV.BASE_URL=\"https://plot.ly\";Plotly.newPlot(\"293369ce-13c8-40cd-8ce4-d3556c9f5acd\", [{\"x\": [\"2016-11-05 12:01:14\", \"2016-11-05 12:06:14\"], \"y\": [5, 5], \"name\": \"\", \"marker\": {\"color\": \"white\"}}, {\"x\": [\"2016-11-05 12:02:28\", \"2016-11-05 12:22:28\"], \"y\": [4, 4], \"name\": \"\", \"marker\": {\"color\": \"white\"}}, {\"x\": [\"2016-11-05 12:07:38\", \"2016-11-05 13:11:38\"], \"y\": [3, 3], \"name\": \"\", \"marker\": {\"color\": \"white\"}}, {\"x\": [\"2016-11-05 12:08:42\", \"2016-11-05 12:13:42\"], \"y\": [5, 5], \"name\": \"\", \"marker\": {\"color\": \"white\"}}, {\"x\": [\"2016-11-05 12:15:06\", \"2016-11-05 13:19:06\"], \"y\": [2, 2], \"name\": \"\", \"marker\": {\"color\": \"white\"}}, {\"x\": [\"2016-11-05 12:23:52\", \"2016-11-05 13:31:52\"], \"y\": [1, 1], \"name\": \"\", \"marker\": {\"color\": \"white\"}}, {\"x\": [\"2016-11-05 12:24:56\", \"2016-11-05 12:44:56\"], \"y\": [4, 4], \"name\": \"\", \"marker\": {\"color\": \"white\"}}, {\"x\": [\"2016-11-05 12:46:20\", \"2016-11-05 13:54:20\"], \"y\": [0, 0], \"name\": \"\", \"marker\": {\"color\": \"white\"}}, {\"x\": [\"2016-11-05 12:47:24\", \"2016-11-05 13:07:24\"], \"y\": [4, 4], \"name\": \"\", \"marker\": {\"color\": \"white\"}}, {\"x\": [\"2016-11-05 13:09:52\", \"2016-11-05 13:29:52\"], \"y\": [4, 4], \"name\": \"\", \"marker\": {\"color\": \"white\"}}, {\"x\": [\"2016-11-05 13:11:48\", \"2016-11-05 14:19:48\"], \"y\": [3, 3], \"name\": \"\", \"marker\": {\"color\": \"white\"}}, {\"x\": [\"2016-11-05 13:13:02\", \"2016-11-05 13:28:02\"], \"y\": [5, 5], \"name\": \"\", \"marker\": {\"color\": \"white\"}}, {\"x\": [\"2016-11-05 13:29:26\", \"2016-11-05 13:54:26\"], \"y\": [2, 2], \"name\": \"\", \"marker\": {\"color\": \"white\"}}, {\"x\": [\"2016-11-05 13:30:30\", \"2016-11-05 13:45:30\"], \"y\": [5, 5], \"name\": \"\", \"marker\": {\"color\": \"white\"}}, {\"x\": [\"2016-11-05 13:32:02\", \"2016-11-05 14:40:02\"], \"y\": [1, 1], \"name\": \"\", \"marker\": {\"color\": \"white\"}}, {\"x\": [\"2016-11-05 13:33:16\", \"2016-11-05 14:13:16\"], \"y\": [4, 4], \"name\": \"\", \"marker\": {\"color\": \"white\"}}, {\"x\": [\"2016-11-05 13:54:26\", \"2016-11-05 14:58:26\"], \"y\": [2, 2], \"name\": \"\", \"marker\": {\"color\": \"white\"}}, {\"x\": [\"2016-11-05 14:58:36\", \"2016-11-05 15:23:36\"], \"y\": [2, 2], \"name\": \"\", \"marker\": {\"color\": \"white\"}}, {\"x\": [\"2016-11-05 14:58:36\", \"2016-11-05 16:06:36\"], \"y\": [0, 0], \"name\": \"\", \"marker\": {\"color\": \"white\"}}, {\"x\": [\"2016-11-05 14:59:50\", \"2016-11-05 15:19:50\"], \"y\": [5, 5], \"name\": \"\", \"marker\": {\"color\": \"white\"}}, {\"x\": [\"2016-11-05 15:01:04\", \"2016-11-05 15:41:04\"], \"y\": [4, 4], \"name\": \"\", \"marker\": {\"color\": \"white\"}}, {\"x\": [\"2016-11-05 15:21:14\", \"2016-11-05 15:46:14\"], \"y\": [3, 3], \"name\": \"\", \"marker\": {\"color\": \"white\"}}, {\"x\": [\"2016-11-05 15:23:36\", \"2016-11-05 16:27:36\"], \"y\": [2, 2], \"name\": \"\", \"marker\": {\"color\": \"white\"}}, {\"x\": [\"2016-11-05 15:42:28\", \"2016-11-05 16:50:28\"], \"y\": [1, 1], \"name\": \"\", \"marker\": {\"color\": \"white\"}}, {\"x\": [\"2016-11-05 15:43:32\", \"2016-11-05 16:23:32\"], \"y\": [4, 4], \"name\": \"\", \"marker\": {\"color\": \"white\"}}, {\"x\": [\"2016-11-05 15:46:14\", \"2016-11-05 16:50:14\"], \"y\": [3, 3], \"name\": \"\", \"marker\": {\"color\": \"white\"}}, {\"x\": [\"2016-11-05 16:24:56\", \"2016-11-05 17:32:56\"], \"y\": [0, 0], \"name\": \"\", \"marker\": {\"color\": \"white\"}}, {\"x\": [\"2016-11-05 16:26:00\", \"2016-11-05 17:06:00\"], \"y\": [4, 4], \"name\": \"\", \"marker\": {\"color\": \"white\"}}, {\"x\": [\"2016-11-05 16:29:00\", \"2016-11-05 16:49:00\"], \"y\": [5, 5], \"name\": \"\", \"marker\": {\"color\": \"white\"}}, {\"x\": [\"2016-11-05 16:50:24\", \"2016-11-05 17:15:24\"], \"y\": [2, 2], \"name\": \"\", \"marker\": {\"color\": \"white\"}}, {\"x\": [\"2016-11-05 16:51:38\", \"2016-11-05 17:11:38\"], \"y\": [5, 5], \"name\": \"\", \"marker\": {\"color\": \"white\"}}, {\"x\": [\"2016-11-05 17:07:24\", \"2016-11-05 18:15:24\"], \"y\": [3, 3], \"name\": \"\", \"marker\": {\"color\": \"white\"}}, {\"x\": [\"2016-11-05 17:08:28\", \"2016-11-05 17:48:28\"], \"y\": [4, 4], \"name\": \"\", \"marker\": {\"color\": \"white\"}}, {\"x\": [\"2016-11-05 17:15:24\", \"2016-11-05 18:19:24\"], \"y\": [2, 2], \"name\": \"\", \"marker\": {\"color\": \"white\"}}, {\"x\": [\"2016-11-05 17:50:56\", \"2016-11-05 18:30:56\"], \"y\": [4, 4], \"name\": \"\", \"marker\": {\"color\": \"white\"}}, {\"x\": [\"2016-11-05 18:15:34\", \"2016-11-05 18:40:34\"], \"y\": [3, 3], \"name\": \"\", \"marker\": {\"color\": \"white\"}}, {\"x\": [\"2016-11-05 18:15:34\", \"2016-11-05 19:23:34\"], \"y\": [1, 1], \"name\": \"\", \"marker\": {\"color\": \"white\"}}, {\"x\": [\"2016-11-05 18:20:48\", \"2016-11-05 18:40:48\"], \"y\": [5, 5], \"name\": \"\", \"marker\": {\"color\": \"white\"}}, {\"x\": [\"2016-11-05 18:32:20\", \"2016-11-05 19:40:20\"], \"y\": [0, 0], \"name\": \"\", \"marker\": {\"color\": \"white\"}}, {\"x\": [\"2016-11-05 18:33:24\", \"2016-11-05 18:53:24\"], \"y\": [4, 4], \"name\": \"\", \"marker\": {\"color\": \"white\"}}, {\"x\": [\"2016-11-05 18:40:34\", \"2016-11-05 19:44:34\"], \"y\": [3, 3], \"name\": \"\", \"marker\": {\"color\": \"white\"}}, {\"x\": [\"2016-11-05 18:42:12\", \"2016-11-05 19:07:12\"], \"y\": [2, 2], \"name\": \"\", \"marker\": {\"color\": \"white\"}}, {\"x\": [\"2016-11-05 18:55:52\", \"2016-11-05 19:15:52\"], \"y\": [4, 4], \"name\": \"\", \"marker\": {\"color\": \"white\"}}, {\"x\": [\"2016-11-05 19:07:12\", \"2016-11-05 20:11:12\"], \"y\": [2, 2], \"name\": \"\", \"marker\": {\"color\": \"white\"}}, {\"x\": [\"2016-11-05 19:24:58\", \"2016-11-05 19:44:58\"], \"y\": [4, 4], \"name\": \"\", \"marker\": {\"color\": \"white\"}}, {\"x\": [\"2016-11-05 19:45:58\", \"2016-11-05 20:05:58\"], \"y\": [5, 5], \"name\": \"\", \"marker\": {\"color\": \"white\"}}, {\"x\": [\"2016-11-05 19:48:26\", \"2016-11-05 20:08:26\"], \"y\": [4, 4], \"name\": \"\", \"marker\": {\"color\": \"white\"}}, {\"x\": [\"2016-11-05 20:07:22\", \"2016-11-05 20:32:22\"], \"y\": [3, 3], \"name\": \"\", \"marker\": {\"color\": \"white\"}}, {\"x\": [\"2016-11-05 20:12:36\", \"2016-11-05 20:32:36\"], \"y\": [5, 5], \"name\": \"\", \"marker\": {\"color\": \"white\"}}, {\"x\": [\"2016-11-05 20:32:22\", \"2016-11-05 21:36:22\"], \"y\": [3, 3], \"name\": \"\", \"marker\": {\"color\": \"white\"}}, {\"x\": [\"2016-11-05 20:34:00\", \"2016-11-05 20:59:00\"], \"y\": [2, 2], \"name\": \"\", \"marker\": {\"color\": \"white\"}}, {\"x\": [\"2016-11-05 20:59:00\", \"2016-11-05 22:03:00\"], \"y\": [2, 2], \"name\": \"\", \"marker\": {\"color\": \"white\"}}, {\"x\": [\"2016-11-05 21:37:46\", \"2016-11-05 21:57:46\"], \"y\": [5, 5], \"name\": \"\", \"marker\": {\"color\": \"white\"}}, {\"x\": [\"2016-11-05 21:59:10\", \"2016-11-05 22:24:10\"], \"y\": [3, 3], \"name\": \"\", \"marker\": {\"color\": \"white\"}}, {\"x\": [\"2016-11-05 22:04:24\", \"2016-11-05 22:24:24\"], \"y\": [5, 5], \"name\": \"\", \"marker\": {\"color\": \"white\"}}, {\"x\": [\"2016-11-05 22:24:10\", \"2016-11-05 23:28:10\"], \"y\": [3, 3], \"name\": \"\", \"marker\": {\"color\": \"white\"}}, {\"x\": [\"2016-11-05 22:25:48\", \"2016-11-05 22:50:48\"], \"y\": [2, 2], \"name\": \"\", \"marker\": {\"color\": \"white\"}}, {\"x\": [\"2016-11-05 22:50:48\", \"2016-11-05 23:54:48\"], \"y\": [2, 2], \"name\": \"\", \"marker\": {\"color\": \"white\"}}, {\"x\": [\"2016-11-05 23:29:34\", \"2016-11-05 23:49:34\"], \"y\": [5, 5], \"name\": \"\", \"marker\": {\"color\": \"white\"}}, {\"x\": [\"2016-11-05 23:50:58\", \"2016-11-06 00:15:58\"], \"y\": [3, 3], \"name\": \"\", \"marker\": {\"color\": \"white\"}}, {\"x\": [\"2016-11-05 23:56:12\", \"2016-11-06 00:16:12\"], \"y\": [5, 5], \"name\": \"\", \"marker\": {\"color\": \"white\"}}, {\"x\": [\"2016-11-06 00:15:58\", \"2016-11-06 01:19:58\"], \"y\": [3, 3], \"name\": \"\", \"marker\": {\"color\": \"white\"}}, {\"x\": [\"2016-11-06 00:17:36\", \"2016-11-06 00:42:36\"], \"y\": [2, 2], \"name\": \"\", \"marker\": {\"color\": \"white\"}}, {\"x\": [\"2016-11-06 00:42:36\", \"2016-11-06 01:46:36\"], \"y\": [2, 2], \"name\": \"\", \"marker\": {\"color\": \"white\"}}, {\"x\": [\"2016-11-06 01:21:22\", \"2016-11-06 01:41:22\"], \"y\": [5, 5], \"name\": \"\", \"marker\": {\"color\": \"white\"}}, {\"x\": [\"2016-11-06 01:42:46\", \"2016-11-06 02:07:46\"], \"y\": [3, 3], \"name\": \"\", \"marker\": {\"color\": \"white\"}}, {\"x\": [\"2016-11-06 01:48:00\", \"2016-11-06 02:03:00\"], \"y\": [5, 5], \"name\": \"\", \"marker\": {\"color\": \"white\"}}, {\"x\": [\"2016-11-06 02:04:24\", \"2016-11-06 02:29:24\"], \"y\": [2, 2], \"name\": \"\", \"marker\": {\"color\": \"white\"}}, {\"x\": [\"2016-11-06 02:07:46\", \"2016-11-06 03:11:46\"], \"y\": [3, 3], \"name\": \"\", \"marker\": {\"color\": \"white\"}}, {\"x\": [\"2016-11-06 02:30:48\", \"2016-11-06 02:35:48\"], \"y\": [5, 5], \"name\": \"\", \"marker\": {\"color\": \"white\"}}, {\"x\": [\"2016-11-06 03:13:10\", \"2016-11-06 03:28:10\"], \"y\": [5, 5], \"name\": \"\", \"marker\": {\"color\": \"white\"}}, {\"x\": [\"2016-11-06 03:29:34\", \"2016-11-06 03:54:34\"], \"y\": [2, 2], \"name\": \"\", \"marker\": {\"color\": \"white\"}}, {\"x\": [\"2016-11-06 03:55:58\", \"2016-11-06 04:00:58\"], \"y\": [5, 5], \"name\": \"\", \"marker\": {\"color\": \"white\"}}], {\"title\": \"Gantt Chart\", \"showlegend\": false, \"height\": 600, \"width\": 900, \"shapes\": [{\"x0\": \"2016-11-05 12:01:14\", \"x1\": \"2016-11-05 12:06:14\", \"type\": \"rect\", \"xref\": \"x\", \"yref\": \"y\", \"opacity\": 1, \"line\": {\"width\": 0}, \"y0\": 4.8, \"y1\": 5.2, \"fillcolor\": \"rgb(31, 119, 180)\"}, {\"x0\": \"2016-11-05 12:02:28\", \"x1\": \"2016-11-05 12:22:28\", \"type\": \"rect\", \"xref\": \"x\", \"yref\": \"y\", \"opacity\": 1, \"line\": {\"width\": 0}, \"y0\": 3.8, \"y1\": 4.2, \"fillcolor\": \"rgb(31, 119, 180)\"}, {\"x0\": \"2016-11-05 12:07:38\", \"x1\": \"2016-11-05 13:11:38\", \"type\": \"rect\", \"xref\": \"x\", \"yref\": \"y\", \"opacity\": 1, \"line\": {\"width\": 0}, \"y0\": 2.8, \"y1\": 3.2, \"fillcolor\": \"rgb(255, 127, 14)\"}, {\"x0\": \"2016-11-05 12:08:42\", \"x1\": \"2016-11-05 12:13:42\", \"type\": \"rect\", \"xref\": \"x\", \"yref\": \"y\", \"opacity\": 1, \"line\": {\"width\": 0}, \"y0\": 4.8, \"y1\": 5.2, \"fillcolor\": \"rgb(31, 119, 180)\"}, {\"x0\": \"2016-11-05 12:15:06\", \"x1\": \"2016-11-05 13:19:06\", \"type\": \"rect\", \"xref\": \"x\", \"yref\": \"y\", \"opacity\": 1, \"line\": {\"width\": 0}, \"y0\": 1.8, \"y1\": 2.2, \"fillcolor\": \"rgb(255, 127, 14)\"}, {\"x0\": \"2016-11-05 12:23:52\", \"x1\": \"2016-11-05 13:31:52\", \"type\": \"rect\", \"xref\": \"x\", \"yref\": \"y\", \"opacity\": 1, \"line\": {\"width\": 0}, \"y0\": 0.8, \"y1\": 1.2, \"fillcolor\": \"rgb(255, 127, 14)\"}, {\"x0\": \"2016-11-05 12:24:56\", \"x1\": \"2016-11-05 12:44:56\", \"type\": \"rect\", \"xref\": \"x\", \"yref\": \"y\", \"opacity\": 1, \"line\": {\"width\": 0}, \"y0\": 3.8, \"y1\": 4.2, \"fillcolor\": \"rgb(31, 119, 180)\"}, {\"x0\": \"2016-11-05 12:46:20\", \"x1\": \"2016-11-05 13:54:20\", \"type\": \"rect\", \"xref\": \"x\", \"yref\": \"y\", \"opacity\": 1, \"line\": {\"width\": 0}, \"y0\": -0.2, \"y1\": 0.2, \"fillcolor\": \"rgb(255, 127, 14)\"}, {\"x0\": \"2016-11-05 12:47:24\", \"x1\": \"2016-11-05 13:07:24\", \"type\": \"rect\", \"xref\": \"x\", \"yref\": \"y\", \"opacity\": 1, \"line\": {\"width\": 0}, \"y0\": 3.8, \"y1\": 4.2, \"fillcolor\": \"rgb(31, 119, 180)\"}, {\"x0\": \"2016-11-05 13:09:52\", \"x1\": \"2016-11-05 13:29:52\", \"type\": \"rect\", \"xref\": \"x\", \"yref\": \"y\", \"opacity\": 1, \"line\": {\"width\": 0}, \"y0\": 3.8, \"y1\": 4.2, \"fillcolor\": \"rgb(31, 119, 180)\"}, {\"x0\": \"2016-11-05 13:11:48\", \"x1\": \"2016-11-05 14:19:48\", \"type\": \"rect\", \"xref\": \"x\", \"yref\": \"y\", \"opacity\": 1, \"line\": {\"width\": 0}, \"y0\": 2.8, \"y1\": 3.2, \"fillcolor\": \"rgb(255, 127, 14)\"}, {\"x0\": \"2016-11-05 13:13:02\", \"x1\": \"2016-11-05 13:28:02\", \"type\": \"rect\", \"xref\": \"x\", \"yref\": \"y\", \"opacity\": 1, \"line\": {\"width\": 0}, \"y0\": 4.8, \"y1\": 5.2, \"fillcolor\": \"rgb(31, 119, 180)\"}, {\"x0\": \"2016-11-05 13:29:26\", \"x1\": \"2016-11-05 13:54:26\", \"type\": \"rect\", \"xref\": \"x\", \"yref\": \"y\", \"opacity\": 1, \"line\": {\"width\": 0}, \"y0\": 1.8, \"y1\": 2.2, \"fillcolor\": \"rgb(255, 127, 14)\"}, {\"x0\": \"2016-11-05 13:30:30\", \"x1\": \"2016-11-05 13:45:30\", \"type\": \"rect\", \"xref\": \"x\", \"yref\": \"y\", \"opacity\": 1, \"line\": {\"width\": 0}, \"y0\": 4.8, \"y1\": 5.2, \"fillcolor\": \"rgb(31, 119, 180)\"}, {\"x0\": \"2016-11-05 13:32:02\", \"x1\": \"2016-11-05 14:40:02\", \"type\": \"rect\", \"xref\": \"x\", \"yref\": \"y\", \"opacity\": 1, \"line\": {\"width\": 0}, \"y0\": 0.8, \"y1\": 1.2, \"fillcolor\": \"rgb(255, 127, 14)\"}, {\"x0\": \"2016-11-05 13:33:16\", \"x1\": \"2016-11-05 14:13:16\", \"type\": \"rect\", \"xref\": \"x\", \"yref\": \"y\", \"opacity\": 1, \"line\": {\"width\": 0}, \"y0\": 3.8, \"y1\": 4.2, \"fillcolor\": \"rgb(31, 119, 180)\"}, {\"x0\": \"2016-11-05 13:54:26\", \"x1\": \"2016-11-05 14:58:26\", \"type\": \"rect\", \"xref\": \"x\", \"yref\": \"y\", \"opacity\": 1, \"line\": {\"width\": 0}, \"y0\": 1.8, \"y1\": 2.2, \"fillcolor\": \"rgb(255, 127, 14)\"}, {\"x0\": \"2016-11-05 14:58:36\", \"x1\": \"2016-11-05 15:23:36\", \"type\": \"rect\", \"xref\": \"x\", \"yref\": \"y\", \"opacity\": 1, \"line\": {\"width\": 0}, \"y0\": 1.8, \"y1\": 2.2, \"fillcolor\": \"rgb(255, 127, 14)\"}, {\"x0\": \"2016-11-05 14:58:36\", \"x1\": \"2016-11-05 16:06:36\", \"type\": \"rect\", \"xref\": \"x\", \"yref\": \"y\", \"opacity\": 1, \"line\": {\"width\": 0}, \"y0\": -0.2, \"y1\": 0.2, \"fillcolor\": \"rgb(255, 127, 14)\"}, {\"x0\": \"2016-11-05 14:59:50\", \"x1\": \"2016-11-05 15:19:50\", \"type\": \"rect\", \"xref\": \"x\", \"yref\": \"y\", \"opacity\": 1, \"line\": {\"width\": 0}, \"y0\": 4.8, \"y1\": 5.2, \"fillcolor\": \"rgb(31, 119, 180)\"}, {\"x0\": \"2016-11-05 15:01:04\", \"x1\": \"2016-11-05 15:41:04\", \"type\": \"rect\", \"xref\": \"x\", \"yref\": \"y\", \"opacity\": 1, \"line\": {\"width\": 0}, \"y0\": 3.8, \"y1\": 4.2, \"fillcolor\": \"rgb(31, 119, 180)\"}, {\"x0\": \"2016-11-05 15:21:14\", \"x1\": \"2016-11-05 15:46:14\", \"type\": \"rect\", \"xref\": \"x\", \"yref\": \"y\", \"opacity\": 1, \"line\": {\"width\": 0}, \"y0\": 2.8, \"y1\": 3.2, \"fillcolor\": \"rgb(255, 127, 14)\"}, {\"x0\": \"2016-11-05 15:23:36\", \"x1\": \"2016-11-05 16:27:36\", \"type\": \"rect\", \"xref\": \"x\", \"yref\": \"y\", \"opacity\": 1, \"line\": {\"width\": 0}, \"y0\": 1.8, \"y1\": 2.2, \"fillcolor\": \"rgb(255, 127, 14)\"}, {\"x0\": \"2016-11-05 15:42:28\", \"x1\": \"2016-11-05 16:50:28\", \"type\": \"rect\", \"xref\": \"x\", \"yref\": \"y\", \"opacity\": 1, \"line\": {\"width\": 0}, \"y0\": 0.8, \"y1\": 1.2, \"fillcolor\": \"rgb(255, 127, 14)\"}, {\"x0\": \"2016-11-05 15:43:32\", \"x1\": \"2016-11-05 16:23:32\", \"type\": \"rect\", \"xref\": \"x\", \"yref\": \"y\", \"opacity\": 1, \"line\": {\"width\": 0}, \"y0\": 3.8, \"y1\": 4.2, \"fillcolor\": \"rgb(31, 119, 180)\"}, {\"x0\": \"2016-11-05 15:46:14\", \"x1\": \"2016-11-05 16:50:14\", \"type\": \"rect\", \"xref\": \"x\", \"yref\": \"y\", \"opacity\": 1, \"line\": {\"width\": 0}, \"y0\": 2.8, \"y1\": 3.2, \"fillcolor\": \"rgb(255, 127, 14)\"}, {\"x0\": \"2016-11-05 16:24:56\", \"x1\": \"2016-11-05 17:32:56\", \"type\": \"rect\", \"xref\": \"x\", \"yref\": \"y\", \"opacity\": 1, \"line\": {\"width\": 0}, \"y0\": -0.2, \"y1\": 0.2, \"fillcolor\": \"rgb(255, 127, 14)\"}, {\"x0\": \"2016-11-05 16:26:00\", \"x1\": \"2016-11-05 17:06:00\", \"type\": \"rect\", \"xref\": \"x\", \"yref\": \"y\", \"opacity\": 1, \"line\": {\"width\": 0}, \"y0\": 3.8, \"y1\": 4.2, \"fillcolor\": \"rgb(31, 119, 180)\"}, {\"x0\": \"2016-11-05 16:29:00\", \"x1\": \"2016-11-05 16:49:00\", \"type\": \"rect\", \"xref\": \"x\", \"yref\": \"y\", \"opacity\": 1, \"line\": {\"width\": 0}, \"y0\": 4.8, \"y1\": 5.2, \"fillcolor\": \"rgb(31, 119, 180)\"}, {\"x0\": \"2016-11-05 16:50:24\", \"x1\": \"2016-11-05 17:15:24\", \"type\": \"rect\", \"xref\": \"x\", \"yref\": \"y\", \"opacity\": 1, \"line\": {\"width\": 0}, \"y0\": 1.8, \"y1\": 2.2, \"fillcolor\": \"rgb(255, 127, 14)\"}, {\"x0\": \"2016-11-05 16:51:38\", \"x1\": \"2016-11-05 17:11:38\", \"type\": \"rect\", \"xref\": \"x\", \"yref\": \"y\", \"opacity\": 1, \"line\": {\"width\": 0}, \"y0\": 4.8, \"y1\": 5.2, \"fillcolor\": \"rgb(31, 119, 180)\"}, {\"x0\": \"2016-11-05 17:07:24\", \"x1\": \"2016-11-05 18:15:24\", \"type\": \"rect\", \"xref\": \"x\", \"yref\": \"y\", \"opacity\": 1, \"line\": {\"width\": 0}, \"y0\": 2.8, \"y1\": 3.2, \"fillcolor\": \"rgb(255, 127, 14)\"}, {\"x0\": \"2016-11-05 17:08:28\", \"x1\": \"2016-11-05 17:48:28\", \"type\": \"rect\", \"xref\": \"x\", \"yref\": \"y\", \"opacity\": 1, \"line\": {\"width\": 0}, \"y0\": 3.8, \"y1\": 4.2, \"fillcolor\": \"rgb(31, 119, 180)\"}, {\"x0\": \"2016-11-05 17:15:24\", \"x1\": \"2016-11-05 18:19:24\", \"type\": \"rect\", \"xref\": \"x\", \"yref\": \"y\", \"opacity\": 1, \"line\": {\"width\": 0}, \"y0\": 1.8, \"y1\": 2.2, \"fillcolor\": \"rgb(255, 127, 14)\"}, {\"x0\": \"2016-11-05 17:50:56\", \"x1\": \"2016-11-05 18:30:56\", \"type\": \"rect\", \"xref\": \"x\", \"yref\": \"y\", \"opacity\": 1, \"line\": {\"width\": 0}, \"y0\": 3.8, \"y1\": 4.2, \"fillcolor\": \"rgb(31, 119, 180)\"}, {\"x0\": \"2016-11-05 18:15:34\", \"x1\": \"2016-11-05 18:40:34\", \"type\": \"rect\", \"xref\": \"x\", \"yref\": \"y\", \"opacity\": 1, \"line\": {\"width\": 0}, \"y0\": 2.8, \"y1\": 3.2, \"fillcolor\": \"rgb(255, 127, 14)\"}, {\"x0\": \"2016-11-05 18:15:34\", \"x1\": \"2016-11-05 19:23:34\", \"type\": \"rect\", \"xref\": \"x\", \"yref\": \"y\", \"opacity\": 1, \"line\": {\"width\": 0}, \"y0\": 0.8, \"y1\": 1.2, \"fillcolor\": \"rgb(255, 127, 14)\"}, {\"x0\": \"2016-11-05 18:20:48\", \"x1\": \"2016-11-05 18:40:48\", \"type\": \"rect\", \"xref\": \"x\", \"yref\": \"y\", \"opacity\": 1, \"line\": {\"width\": 0}, \"y0\": 4.8, \"y1\": 5.2, \"fillcolor\": \"rgb(31, 119, 180)\"}, {\"x0\": \"2016-11-05 18:32:20\", \"x1\": \"2016-11-05 19:40:20\", \"type\": \"rect\", \"xref\": \"x\", \"yref\": \"y\", \"opacity\": 1, \"line\": {\"width\": 0}, \"y0\": -0.2, \"y1\": 0.2, \"fillcolor\": \"rgb(255, 127, 14)\"}, {\"x0\": \"2016-11-05 18:33:24\", \"x1\": \"2016-11-05 18:53:24\", \"type\": \"rect\", \"xref\": \"x\", \"yref\": \"y\", \"opacity\": 1, \"line\": {\"width\": 0}, \"y0\": 3.8, \"y1\": 4.2, \"fillcolor\": \"rgb(31, 119, 180)\"}, {\"x0\": \"2016-11-05 18:40:34\", \"x1\": \"2016-11-05 19:44:34\", \"type\": \"rect\", \"xref\": \"x\", \"yref\": \"y\", \"opacity\": 1, \"line\": {\"width\": 0}, \"y0\": 2.8, \"y1\": 3.2, \"fillcolor\": \"rgb(255, 127, 14)\"}, {\"x0\": \"2016-11-05 18:42:12\", \"x1\": \"2016-11-05 19:07:12\", \"type\": \"rect\", \"xref\": \"x\", \"yref\": \"y\", \"opacity\": 1, \"line\": {\"width\": 0}, \"y0\": 1.8, \"y1\": 2.2, \"fillcolor\": \"rgb(255, 127, 14)\"}, {\"x0\": \"2016-11-05 18:55:52\", \"x1\": \"2016-11-05 19:15:52\", \"type\": \"rect\", \"xref\": \"x\", \"yref\": \"y\", \"opacity\": 1, \"line\": {\"width\": 0}, \"y0\": 3.8, \"y1\": 4.2, \"fillcolor\": \"rgb(31, 119, 180)\"}, {\"x0\": \"2016-11-05 19:07:12\", \"x1\": \"2016-11-05 20:11:12\", \"type\": \"rect\", \"xref\": \"x\", \"yref\": \"y\", \"opacity\": 1, \"line\": {\"width\": 0}, \"y0\": 1.8, \"y1\": 2.2, \"fillcolor\": \"rgb(255, 127, 14)\"}, {\"x0\": \"2016-11-05 19:24:58\", \"x1\": \"2016-11-05 19:44:58\", \"type\": \"rect\", \"xref\": \"x\", \"yref\": \"y\", \"opacity\": 1, \"line\": {\"width\": 0}, \"y0\": 3.8, \"y1\": 4.2, \"fillcolor\": \"rgb(31, 119, 180)\"}, {\"x0\": \"2016-11-05 19:45:58\", \"x1\": \"2016-11-05 20:05:58\", \"type\": \"rect\", \"xref\": \"x\", \"yref\": \"y\", \"opacity\": 1, \"line\": {\"width\": 0}, \"y0\": 4.8, \"y1\": 5.2, \"fillcolor\": \"rgb(31, 119, 180)\"}, {\"x0\": \"2016-11-05 19:48:26\", \"x1\": \"2016-11-05 20:08:26\", \"type\": \"rect\", \"xref\": \"x\", \"yref\": \"y\", \"opacity\": 1, \"line\": {\"width\": 0}, \"y0\": 3.8, \"y1\": 4.2, \"fillcolor\": \"rgb(31, 119, 180)\"}, {\"x0\": \"2016-11-05 20:07:22\", \"x1\": \"2016-11-05 20:32:22\", \"type\": \"rect\", \"xref\": \"x\", \"yref\": \"y\", \"opacity\": 1, \"line\": {\"width\": 0}, \"y0\": 2.8, \"y1\": 3.2, \"fillcolor\": \"rgb(255, 127, 14)\"}, {\"x0\": \"2016-11-05 20:12:36\", \"x1\": \"2016-11-05 20:32:36\", \"type\": \"rect\", \"xref\": \"x\", \"yref\": \"y\", \"opacity\": 1, \"line\": {\"width\": 0}, \"y0\": 4.8, \"y1\": 5.2, \"fillcolor\": \"rgb(31, 119, 180)\"}, {\"x0\": \"2016-11-05 20:32:22\", \"x1\": \"2016-11-05 21:36:22\", \"type\": \"rect\", \"xref\": \"x\", \"yref\": \"y\", \"opacity\": 1, \"line\": {\"width\": 0}, \"y0\": 2.8, \"y1\": 3.2, \"fillcolor\": \"rgb(255, 127, 14)\"}, {\"x0\": \"2016-11-05 20:34:00\", \"x1\": \"2016-11-05 20:59:00\", \"type\": \"rect\", \"xref\": \"x\", \"yref\": \"y\", \"opacity\": 1, \"line\": {\"width\": 0}, \"y0\": 1.8, \"y1\": 2.2, \"fillcolor\": \"rgb(255, 127, 14)\"}, {\"x0\": \"2016-11-05 20:59:00\", \"x1\": \"2016-11-05 22:03:00\", \"type\": \"rect\", \"xref\": \"x\", \"yref\": \"y\", \"opacity\": 1, \"line\": {\"width\": 0}, \"y0\": 1.8, \"y1\": 2.2, \"fillcolor\": \"rgb(255, 127, 14)\"}, {\"x0\": \"2016-11-05 21:37:46\", \"x1\": \"2016-11-05 21:57:46\", \"type\": \"rect\", \"xref\": \"x\", \"yref\": \"y\", \"opacity\": 1, \"line\": {\"width\": 0}, \"y0\": 4.8, \"y1\": 5.2, \"fillcolor\": \"rgb(31, 119, 180)\"}, {\"x0\": \"2016-11-05 21:59:10\", \"x1\": \"2016-11-05 22:24:10\", \"type\": \"rect\", \"xref\": \"x\", \"yref\": \"y\", \"opacity\": 1, \"line\": {\"width\": 0}, \"y0\": 2.8, \"y1\": 3.2, \"fillcolor\": \"rgb(255, 127, 14)\"}, {\"x0\": \"2016-11-05 22:04:24\", \"x1\": \"2016-11-05 22:24:24\", \"type\": \"rect\", \"xref\": \"x\", \"yref\": \"y\", \"opacity\": 1, \"line\": {\"width\": 0}, \"y0\": 4.8, \"y1\": 5.2, \"fillcolor\": \"rgb(31, 119, 180)\"}, {\"x0\": \"2016-11-05 22:24:10\", \"x1\": \"2016-11-05 23:28:10\", \"type\": \"rect\", \"xref\": \"x\", \"yref\": \"y\", \"opacity\": 1, \"line\": {\"width\": 0}, \"y0\": 2.8, \"y1\": 3.2, \"fillcolor\": \"rgb(255, 127, 14)\"}, {\"x0\": \"2016-11-05 22:25:48\", \"x1\": \"2016-11-05 22:50:48\", \"type\": \"rect\", \"xref\": \"x\", \"yref\": \"y\", \"opacity\": 1, \"line\": {\"width\": 0}, \"y0\": 1.8, \"y1\": 2.2, \"fillcolor\": \"rgb(255, 127, 14)\"}, {\"x0\": \"2016-11-05 22:50:48\", \"x1\": \"2016-11-05 23:54:48\", \"type\": \"rect\", \"xref\": \"x\", \"yref\": \"y\", \"opacity\": 1, \"line\": {\"width\": 0}, \"y0\": 1.8, \"y1\": 2.2, \"fillcolor\": \"rgb(255, 127, 14)\"}, {\"x0\": \"2016-11-05 23:29:34\", \"x1\": \"2016-11-05 23:49:34\", \"type\": \"rect\", \"xref\": \"x\", \"yref\": \"y\", \"opacity\": 1, \"line\": {\"width\": 0}, \"y0\": 4.8, \"y1\": 5.2, \"fillcolor\": \"rgb(31, 119, 180)\"}, {\"x0\": \"2016-11-05 23:50:58\", \"x1\": \"2016-11-06 00:15:58\", \"type\": \"rect\", \"xref\": \"x\", \"yref\": \"y\", \"opacity\": 1, \"line\": {\"width\": 0}, \"y0\": 2.8, \"y1\": 3.2, \"fillcolor\": \"rgb(255, 127, 14)\"}, {\"x0\": \"2016-11-05 23:56:12\", \"x1\": \"2016-11-06 00:16:12\", \"type\": \"rect\", \"xref\": \"x\", \"yref\": \"y\", \"opacity\": 1, \"line\": {\"width\": 0}, \"y0\": 4.8, \"y1\": 5.2, \"fillcolor\": \"rgb(31, 119, 180)\"}, {\"x0\": \"2016-11-06 00:15:58\", \"x1\": \"2016-11-06 01:19:58\", \"type\": \"rect\", \"xref\": \"x\", \"yref\": \"y\", \"opacity\": 1, \"line\": {\"width\": 0}, \"y0\": 2.8, \"y1\": 3.2, \"fillcolor\": \"rgb(255, 127, 14)\"}, {\"x0\": \"2016-11-06 00:17:36\", \"x1\": \"2016-11-06 00:42:36\", \"type\": \"rect\", \"xref\": \"x\", \"yref\": \"y\", \"opacity\": 1, \"line\": {\"width\": 0}, \"y0\": 1.8, \"y1\": 2.2, \"fillcolor\": \"rgb(255, 127, 14)\"}, {\"x0\": \"2016-11-06 00:42:36\", \"x1\": \"2016-11-06 01:46:36\", \"type\": \"rect\", \"xref\": \"x\", \"yref\": \"y\", \"opacity\": 1, \"line\": {\"width\": 0}, \"y0\": 1.8, \"y1\": 2.2, \"fillcolor\": \"rgb(255, 127, 14)\"}, {\"x0\": \"2016-11-06 01:21:22\", \"x1\": \"2016-11-06 01:41:22\", \"type\": \"rect\", \"xref\": \"x\", \"yref\": \"y\", \"opacity\": 1, \"line\": {\"width\": 0}, \"y0\": 4.8, \"y1\": 5.2, \"fillcolor\": \"rgb(31, 119, 180)\"}, {\"x0\": \"2016-11-06 01:42:46\", \"x1\": \"2016-11-06 02:07:46\", \"type\": \"rect\", \"xref\": \"x\", \"yref\": \"y\", \"opacity\": 1, \"line\": {\"width\": 0}, \"y0\": 2.8, \"y1\": 3.2, \"fillcolor\": \"rgb(255, 127, 14)\"}, {\"x0\": \"2016-11-06 01:48:00\", \"x1\": \"2016-11-06 02:03:00\", \"type\": \"rect\", \"xref\": \"x\", \"yref\": \"y\", \"opacity\": 1, \"line\": {\"width\": 0}, \"y0\": 4.8, \"y1\": 5.2, \"fillcolor\": \"rgb(31, 119, 180)\"}, {\"x0\": \"2016-11-06 02:04:24\", \"x1\": \"2016-11-06 02:29:24\", \"type\": \"rect\", \"xref\": \"x\", \"yref\": \"y\", \"opacity\": 1, \"line\": {\"width\": 0}, \"y0\": 1.8, \"y1\": 2.2, \"fillcolor\": \"rgb(255, 127, 14)\"}, {\"x0\": \"2016-11-06 02:07:46\", \"x1\": \"2016-11-06 03:11:46\", \"type\": \"rect\", \"xref\": \"x\", \"yref\": \"y\", \"opacity\": 1, \"line\": {\"width\": 0}, \"y0\": 2.8, \"y1\": 3.2, \"fillcolor\": \"rgb(255, 127, 14)\"}, {\"x0\": \"2016-11-06 02:30:48\", \"x1\": \"2016-11-06 02:35:48\", \"type\": \"rect\", \"xref\": \"x\", \"yref\": \"y\", \"opacity\": 1, \"line\": {\"width\": 0}, \"y0\": 4.8, \"y1\": 5.2, \"fillcolor\": \"rgb(31, 119, 180)\"}, {\"x0\": \"2016-11-06 03:13:10\", \"x1\": \"2016-11-06 03:28:10\", \"type\": \"rect\", \"xref\": \"x\", \"yref\": \"y\", \"opacity\": 1, \"line\": {\"width\": 0}, \"y0\": 4.8, \"y1\": 5.2, \"fillcolor\": \"rgb(31, 119, 180)\"}, {\"x0\": \"2016-11-06 03:29:34\", \"x1\": \"2016-11-06 03:54:34\", \"type\": \"rect\", \"xref\": \"x\", \"yref\": \"y\", \"opacity\": 1, \"line\": {\"width\": 0}, \"y0\": 1.8, \"y1\": 2.2, \"fillcolor\": \"rgb(255, 127, 14)\"}, {\"x0\": \"2016-11-06 03:55:58\", \"x1\": \"2016-11-06 04:00:58\", \"type\": \"rect\", \"xref\": \"x\", \"yref\": \"y\", \"opacity\": 1, \"line\": {\"width\": 0}, \"y0\": 4.8, \"y1\": 5.2, \"fillcolor\": \"rgb(31, 119, 180)\"}], \"hovermode\": \"closest\", \"yaxis\": {\"showgrid\": false, \"ticktext\": [\"Machine4\", \"Machine3\", \"Machine2\", \"Machine1\", \"L/U2\", \"L/U1\"], \"tickvals\": [0, 1, 2, 3, 4, 5], \"range\": [-1, 7], \"autorange\": false, \"zeroline\": false}, \"xaxis\": {\"showgrid\": false, \"zeroline\": false, \"rangeselector\": {\"buttons\": [{\"count\": 7, \"label\": \"1w\", \"step\": \"day\", \"stepmode\": \"backward\"}, {\"count\": 1, \"label\": \"1m\", \"step\": \"month\", \"stepmode\": \"backward\"}, {\"count\": 6, \"label\": \"6m\", \"step\": \"month\", \"stepmode\": \"backward\"}, {\"count\": 1, \"label\": \"YTD\", \"step\": \"year\", \"stepmode\": \"todate\"}, {\"count\": 1, \"label\": \"1y\", \"step\": \"year\", \"stepmode\": \"backward\"}, {\"step\": \"all\"}]}, \"type\": \"date\"}}, {\"showLink\": true, \"linkText\": \"Export to plot.ly\"})});</script>"
      ]
     },
     "metadata": {},
     "output_type": "display_data"
    }
   ],
   "source": [
    "plotly.offline.iplot(allocate.plot_simstat(simstat))"
   ]
  },
  {
   "cell_type": "code",
   "execution_count": 9,
   "metadata": {},
   "outputs": [
    {
     "data": {
      "text/html": [
       "<div>\n",
       "<style scoped>\n",
       "    .dataframe tbody tr th:only-of-type {\n",
       "        vertical-align: middle;\n",
       "    }\n",
       "\n",
       "    .dataframe tbody tr th {\n",
       "        vertical-align: top;\n",
       "    }\n",
       "\n",
       "    .dataframe thead th {\n",
       "        text-align: right;\n",
       "    }\n",
       "</style>\n",
       "<table border=\"1\" class=\"dataframe\">\n",
       "  <thead>\n",
       "    <tr style=\"text-align: right;\">\n",
       "      <th></th>\n",
       "      <th>Quantity</th>\n",
       "      <th>TimeUTC</th>\n",
       "      <th>Part</th>\n",
       "      <th>Process</th>\n",
       "      <th>Path</th>\n",
       "    </tr>\n",
       "  </thead>\n",
       "  <tbody>\n",
       "    <tr>\n",
       "      <th>0</th>\n",
       "      <td>1</td>\n",
       "      <td>2016-11-05T13:28:02Z</td>\n",
       "      <td>part1</td>\n",
       "      <td>1</td>\n",
       "      <td>0</td>\n",
       "    </tr>\n",
       "    <tr>\n",
       "      <th>1</th>\n",
       "      <td>2</td>\n",
       "      <td>2016-11-05T13:45:30Z</td>\n",
       "      <td>part1</td>\n",
       "      <td>1</td>\n",
       "      <td>0</td>\n",
       "    </tr>\n",
       "    <tr>\n",
       "      <th>2</th>\n",
       "      <td>3</td>\n",
       "      <td>2016-11-05T15:19:50Z</td>\n",
       "      <td>part1</td>\n",
       "      <td>1</td>\n",
       "      <td>0</td>\n",
       "    </tr>\n",
       "    <tr>\n",
       "      <th>3</th>\n",
       "      <td>4</td>\n",
       "      <td>2016-11-05T16:49:00Z</td>\n",
       "      <td>part1</td>\n",
       "      <td>1</td>\n",
       "      <td>0</td>\n",
       "    </tr>\n",
       "    <tr>\n",
       "      <th>4</th>\n",
       "      <td>5</td>\n",
       "      <td>2016-11-05T17:11:38Z</td>\n",
       "      <td>part1</td>\n",
       "      <td>1</td>\n",
       "      <td>0</td>\n",
       "    </tr>\n",
       "    <tr>\n",
       "      <th>5</th>\n",
       "      <td>6</td>\n",
       "      <td>2016-11-05T18:40:48Z</td>\n",
       "      <td>part1</td>\n",
       "      <td>1</td>\n",
       "      <td>0</td>\n",
       "    </tr>\n",
       "    <tr>\n",
       "      <th>6</th>\n",
       "      <td>7</td>\n",
       "      <td>2016-11-05T20:05:58Z</td>\n",
       "      <td>part1</td>\n",
       "      <td>1</td>\n",
       "      <td>0</td>\n",
       "    </tr>\n",
       "    <tr>\n",
       "      <th>7</th>\n",
       "      <td>8</td>\n",
       "      <td>2016-11-05T20:32:36Z</td>\n",
       "      <td>part1</td>\n",
       "      <td>1</td>\n",
       "      <td>0</td>\n",
       "    </tr>\n",
       "    <tr>\n",
       "      <th>8</th>\n",
       "      <td>9</td>\n",
       "      <td>2016-11-05T21:57:46Z</td>\n",
       "      <td>part1</td>\n",
       "      <td>1</td>\n",
       "      <td>0</td>\n",
       "    </tr>\n",
       "    <tr>\n",
       "      <th>9</th>\n",
       "      <td>10</td>\n",
       "      <td>2016-11-05T22:24:24Z</td>\n",
       "      <td>part1</td>\n",
       "      <td>1</td>\n",
       "      <td>0</td>\n",
       "    </tr>\n",
       "    <tr>\n",
       "      <th>10</th>\n",
       "      <td>11</td>\n",
       "      <td>2016-11-05T23:49:34Z</td>\n",
       "      <td>part1</td>\n",
       "      <td>1</td>\n",
       "      <td>0</td>\n",
       "    </tr>\n",
       "    <tr>\n",
       "      <th>11</th>\n",
       "      <td>12</td>\n",
       "      <td>2016-11-06T00:16:12Z</td>\n",
       "      <td>part1</td>\n",
       "      <td>1</td>\n",
       "      <td>0</td>\n",
       "    </tr>\n",
       "    <tr>\n",
       "      <th>12</th>\n",
       "      <td>13</td>\n",
       "      <td>2016-11-06T01:41:22Z</td>\n",
       "      <td>part1</td>\n",
       "      <td>1</td>\n",
       "      <td>0</td>\n",
       "    </tr>\n",
       "    <tr>\n",
       "      <th>13</th>\n",
       "      <td>14</td>\n",
       "      <td>2016-11-06T02:03:00Z</td>\n",
       "      <td>part1</td>\n",
       "      <td>1</td>\n",
       "      <td>0</td>\n",
       "    </tr>\n",
       "    <tr>\n",
       "      <th>14</th>\n",
       "      <td>15</td>\n",
       "      <td>2016-11-06T03:28:10Z</td>\n",
       "      <td>part1</td>\n",
       "      <td>1</td>\n",
       "      <td>0</td>\n",
       "    </tr>\n",
       "    <tr>\n",
       "      <th>0</th>\n",
       "      <td>1</td>\n",
       "      <td>2016-11-05T15:19:50Z</td>\n",
       "      <td>part1</td>\n",
       "      <td>2</td>\n",
       "      <td>0</td>\n",
       "    </tr>\n",
       "    <tr>\n",
       "      <th>1</th>\n",
       "      <td>2</td>\n",
       "      <td>2016-11-05T16:49:00Z</td>\n",
       "      <td>part1</td>\n",
       "      <td>2</td>\n",
       "      <td>0</td>\n",
       "    </tr>\n",
       "    <tr>\n",
       "      <th>2</th>\n",
       "      <td>3</td>\n",
       "      <td>2016-11-05T17:11:38Z</td>\n",
       "      <td>part1</td>\n",
       "      <td>2</td>\n",
       "      <td>0</td>\n",
       "    </tr>\n",
       "    <tr>\n",
       "      <th>3</th>\n",
       "      <td>4</td>\n",
       "      <td>2016-11-05T18:40:48Z</td>\n",
       "      <td>part1</td>\n",
       "      <td>2</td>\n",
       "      <td>0</td>\n",
       "    </tr>\n",
       "    <tr>\n",
       "      <th>4</th>\n",
       "      <td>5</td>\n",
       "      <td>2016-11-05T20:05:58Z</td>\n",
       "      <td>part1</td>\n",
       "      <td>2</td>\n",
       "      <td>0</td>\n",
       "    </tr>\n",
       "    <tr>\n",
       "      <th>5</th>\n",
       "      <td>6</td>\n",
       "      <td>2016-11-05T20:32:36Z</td>\n",
       "      <td>part1</td>\n",
       "      <td>2</td>\n",
       "      <td>0</td>\n",
       "    </tr>\n",
       "    <tr>\n",
       "      <th>6</th>\n",
       "      <td>7</td>\n",
       "      <td>2016-11-05T21:57:46Z</td>\n",
       "      <td>part1</td>\n",
       "      <td>2</td>\n",
       "      <td>0</td>\n",
       "    </tr>\n",
       "    <tr>\n",
       "      <th>7</th>\n",
       "      <td>8</td>\n",
       "      <td>2016-11-05T22:24:24Z</td>\n",
       "      <td>part1</td>\n",
       "      <td>2</td>\n",
       "      <td>0</td>\n",
       "    </tr>\n",
       "    <tr>\n",
       "      <th>8</th>\n",
       "      <td>9</td>\n",
       "      <td>2016-11-05T23:49:34Z</td>\n",
       "      <td>part1</td>\n",
       "      <td>2</td>\n",
       "      <td>0</td>\n",
       "    </tr>\n",
       "    <tr>\n",
       "      <th>9</th>\n",
       "      <td>10</td>\n",
       "      <td>2016-11-06T00:16:12Z</td>\n",
       "      <td>part1</td>\n",
       "      <td>2</td>\n",
       "      <td>0</td>\n",
       "    </tr>\n",
       "    <tr>\n",
       "      <th>10</th>\n",
       "      <td>11</td>\n",
       "      <td>2016-11-06T01:41:22Z</td>\n",
       "      <td>part1</td>\n",
       "      <td>2</td>\n",
       "      <td>0</td>\n",
       "    </tr>\n",
       "    <tr>\n",
       "      <th>11</th>\n",
       "      <td>12</td>\n",
       "      <td>2016-11-06T02:03:00Z</td>\n",
       "      <td>part1</td>\n",
       "      <td>2</td>\n",
       "      <td>0</td>\n",
       "    </tr>\n",
       "    <tr>\n",
       "      <th>12</th>\n",
       "      <td>13</td>\n",
       "      <td>2016-11-06T02:35:48Z</td>\n",
       "      <td>part1</td>\n",
       "      <td>2</td>\n",
       "      <td>0</td>\n",
       "    </tr>\n",
       "    <tr>\n",
       "      <th>13</th>\n",
       "      <td>14</td>\n",
       "      <td>2016-11-06T03:28:10Z</td>\n",
       "      <td>part1</td>\n",
       "      <td>2</td>\n",
       "      <td>0</td>\n",
       "    </tr>\n",
       "    <tr>\n",
       "      <th>14</th>\n",
       "      <td>15</td>\n",
       "      <td>2016-11-06T04:00:58Z</td>\n",
       "      <td>part1</td>\n",
       "      <td>2</td>\n",
       "      <td>0</td>\n",
       "    </tr>\n",
       "    <tr>\n",
       "      <th>0</th>\n",
       "      <td>2</td>\n",
       "      <td>2016-11-05T14:13:16Z</td>\n",
       "      <td>part2</td>\n",
       "      <td>1</td>\n",
       "      <td>0</td>\n",
       "    </tr>\n",
       "    <tr>\n",
       "      <th>1</th>\n",
       "      <td>4</td>\n",
       "      <td>2016-11-05T15:41:04Z</td>\n",
       "      <td>part2</td>\n",
       "      <td>1</td>\n",
       "      <td>0</td>\n",
       "    </tr>\n",
       "    <tr>\n",
       "      <th>2</th>\n",
       "      <td>6</td>\n",
       "      <td>2016-11-05T16:23:32Z</td>\n",
       "      <td>part2</td>\n",
       "      <td>1</td>\n",
       "      <td>0</td>\n",
       "    </tr>\n",
       "    <tr>\n",
       "      <th>3</th>\n",
       "      <td>8</td>\n",
       "      <td>2016-11-05T17:06:00Z</td>\n",
       "      <td>part2</td>\n",
       "      <td>1</td>\n",
       "      <td>0</td>\n",
       "    </tr>\n",
       "    <tr>\n",
       "      <th>4</th>\n",
       "      <td>10</td>\n",
       "      <td>2016-11-05T17:48:28Z</td>\n",
       "      <td>part2</td>\n",
       "      <td>1</td>\n",
       "      <td>0</td>\n",
       "    </tr>\n",
       "    <tr>\n",
       "      <th>5</th>\n",
       "      <td>12</td>\n",
       "      <td>2016-11-05T18:30:56Z</td>\n",
       "      <td>part2</td>\n",
       "      <td>1</td>\n",
       "      <td>0</td>\n",
       "    </tr>\n",
       "    <tr>\n",
       "      <th>6</th>\n",
       "      <td>14</td>\n",
       "      <td>2016-11-05T18:53:24Z</td>\n",
       "      <td>part2</td>\n",
       "      <td>1</td>\n",
       "      <td>0</td>\n",
       "    </tr>\n",
       "    <tr>\n",
       "      <th>7</th>\n",
       "      <td>16</td>\n",
       "      <td>2016-11-05T19:15:52Z</td>\n",
       "      <td>part2</td>\n",
       "      <td>1</td>\n",
       "      <td>0</td>\n",
       "    </tr>\n",
       "    <tr>\n",
       "      <th>8</th>\n",
       "      <td>18</td>\n",
       "      <td>2016-11-05T19:44:58Z</td>\n",
       "      <td>part2</td>\n",
       "      <td>1</td>\n",
       "      <td>0</td>\n",
       "    </tr>\n",
       "    <tr>\n",
       "      <th>9</th>\n",
       "      <td>20</td>\n",
       "      <td>2016-11-05T20:08:26Z</td>\n",
       "      <td>part2</td>\n",
       "      <td>1</td>\n",
       "      <td>0</td>\n",
       "    </tr>\n",
       "  </tbody>\n",
       "</table>\n",
       "</div>"
      ],
      "text/plain": [
       "    Quantity               TimeUTC   Part  Process  Path\n",
       "0          1  2016-11-05T13:28:02Z  part1        1     0\n",
       "1          2  2016-11-05T13:45:30Z  part1        1     0\n",
       "2          3  2016-11-05T15:19:50Z  part1        1     0\n",
       "3          4  2016-11-05T16:49:00Z  part1        1     0\n",
       "4          5  2016-11-05T17:11:38Z  part1        1     0\n",
       "5          6  2016-11-05T18:40:48Z  part1        1     0\n",
       "6          7  2016-11-05T20:05:58Z  part1        1     0\n",
       "7          8  2016-11-05T20:32:36Z  part1        1     0\n",
       "8          9  2016-11-05T21:57:46Z  part1        1     0\n",
       "9         10  2016-11-05T22:24:24Z  part1        1     0\n",
       "10        11  2016-11-05T23:49:34Z  part1        1     0\n",
       "11        12  2016-11-06T00:16:12Z  part1        1     0\n",
       "12        13  2016-11-06T01:41:22Z  part1        1     0\n",
       "13        14  2016-11-06T02:03:00Z  part1        1     0\n",
       "14        15  2016-11-06T03:28:10Z  part1        1     0\n",
       "0          1  2016-11-05T15:19:50Z  part1        2     0\n",
       "1          2  2016-11-05T16:49:00Z  part1        2     0\n",
       "2          3  2016-11-05T17:11:38Z  part1        2     0\n",
       "3          4  2016-11-05T18:40:48Z  part1        2     0\n",
       "4          5  2016-11-05T20:05:58Z  part1        2     0\n",
       "5          6  2016-11-05T20:32:36Z  part1        2     0\n",
       "6          7  2016-11-05T21:57:46Z  part1        2     0\n",
       "7          8  2016-11-05T22:24:24Z  part1        2     0\n",
       "8          9  2016-11-05T23:49:34Z  part1        2     0\n",
       "9         10  2016-11-06T00:16:12Z  part1        2     0\n",
       "10        11  2016-11-06T01:41:22Z  part1        2     0\n",
       "11        12  2016-11-06T02:03:00Z  part1        2     0\n",
       "12        13  2016-11-06T02:35:48Z  part1        2     0\n",
       "13        14  2016-11-06T03:28:10Z  part1        2     0\n",
       "14        15  2016-11-06T04:00:58Z  part1        2     0\n",
       "0          2  2016-11-05T14:13:16Z  part2        1     0\n",
       "1          4  2016-11-05T15:41:04Z  part2        1     0\n",
       "2          6  2016-11-05T16:23:32Z  part2        1     0\n",
       "3          8  2016-11-05T17:06:00Z  part2        1     0\n",
       "4         10  2016-11-05T17:48:28Z  part2        1     0\n",
       "5         12  2016-11-05T18:30:56Z  part2        1     0\n",
       "6         14  2016-11-05T18:53:24Z  part2        1     0\n",
       "7         16  2016-11-05T19:15:52Z  part2        1     0\n",
       "8         18  2016-11-05T19:44:58Z  part2        1     0\n",
       "9         20  2016-11-05T20:08:26Z  part2        1     0"
      ]
     },
     "execution_count": 9,
     "metadata": {},
     "output_type": "execute_result"
    }
   ],
   "source": [
    "simprod = allocate.simprod(results)\n",
    "simprod"
   ]
  },
  {
   "cell_type": "code",
   "execution_count": 10,
   "metadata": {},
   "outputs": [
    {
     "data": {
      "application/vnd.plotly.v1+json": {
       "data": [
        {
         "name": "part1 1:0",
         "type": "scatter",
         "x": [
          "2016-11-05T13:28:02Z",
          "2016-11-05T13:45:30Z",
          "2016-11-05T15:19:50Z",
          "2016-11-05T16:49:00Z",
          "2016-11-05T17:11:38Z",
          "2016-11-05T18:40:48Z",
          "2016-11-05T20:05:58Z",
          "2016-11-05T20:32:36Z",
          "2016-11-05T21:57:46Z",
          "2016-11-05T22:24:24Z",
          "2016-11-05T23:49:34Z",
          "2016-11-06T00:16:12Z",
          "2016-11-06T01:41:22Z",
          "2016-11-06T02:03:00Z",
          "2016-11-06T03:28:10Z"
         ],
         "y": [
          1,
          2,
          3,
          4,
          5,
          6,
          7,
          8,
          9,
          10,
          11,
          12,
          13,
          14,
          15
         ]
        },
        {
         "name": "part1 2:0",
         "type": "scatter",
         "x": [
          "2016-11-05T15:19:50Z",
          "2016-11-05T16:49:00Z",
          "2016-11-05T17:11:38Z",
          "2016-11-05T18:40:48Z",
          "2016-11-05T20:05:58Z",
          "2016-11-05T20:32:36Z",
          "2016-11-05T21:57:46Z",
          "2016-11-05T22:24:24Z",
          "2016-11-05T23:49:34Z",
          "2016-11-06T00:16:12Z",
          "2016-11-06T01:41:22Z",
          "2016-11-06T02:03:00Z",
          "2016-11-06T02:35:48Z",
          "2016-11-06T03:28:10Z",
          "2016-11-06T04:00:58Z"
         ],
         "y": [
          1,
          2,
          3,
          4,
          5,
          6,
          7,
          8,
          9,
          10,
          11,
          12,
          13,
          14,
          15
         ]
        },
        {
         "name": "part2 1:0",
         "type": "scatter",
         "x": [
          "2016-11-05T14:13:16Z",
          "2016-11-05T15:41:04Z",
          "2016-11-05T16:23:32Z",
          "2016-11-05T17:06:00Z",
          "2016-11-05T17:48:28Z",
          "2016-11-05T18:30:56Z",
          "2016-11-05T18:53:24Z",
          "2016-11-05T19:15:52Z",
          "2016-11-05T19:44:58Z",
          "2016-11-05T20:08:26Z"
         ],
         "y": [
          2,
          4,
          6,
          8,
          10,
          12,
          14,
          16,
          18,
          20
         ]
        }
       ],
       "layout": {}
      },
      "text/html": [
       "<div id=\"2d330a34-f7e2-429e-91ea-c03aa35f3d45\" style=\"height: 525px; width: 100%;\" class=\"plotly-graph-div\"></div><script type=\"text/javascript\">require([\"plotly\"], function(Plotly) { window.PLOTLYENV=window.PLOTLYENV || {};window.PLOTLYENV.BASE_URL=\"https://plot.ly\";Plotly.newPlot(\"2d330a34-f7e2-429e-91ea-c03aa35f3d45\", [{\"type\": \"scatter\", \"x\": [\"2016-11-05T13:28:02Z\", \"2016-11-05T13:45:30Z\", \"2016-11-05T15:19:50Z\", \"2016-11-05T16:49:00Z\", \"2016-11-05T17:11:38Z\", \"2016-11-05T18:40:48Z\", \"2016-11-05T20:05:58Z\", \"2016-11-05T20:32:36Z\", \"2016-11-05T21:57:46Z\", \"2016-11-05T22:24:24Z\", \"2016-11-05T23:49:34Z\", \"2016-11-06T00:16:12Z\", \"2016-11-06T01:41:22Z\", \"2016-11-06T02:03:00Z\", \"2016-11-06T03:28:10Z\"], \"y\": [1, 2, 3, 4, 5, 6, 7, 8, 9, 10, 11, 12, 13, 14, 15], \"name\": \"part1 1:0\"}, {\"type\": \"scatter\", \"x\": [\"2016-11-05T15:19:50Z\", \"2016-11-05T16:49:00Z\", \"2016-11-05T17:11:38Z\", \"2016-11-05T18:40:48Z\", \"2016-11-05T20:05:58Z\", \"2016-11-05T20:32:36Z\", \"2016-11-05T21:57:46Z\", \"2016-11-05T22:24:24Z\", \"2016-11-05T23:49:34Z\", \"2016-11-06T00:16:12Z\", \"2016-11-06T01:41:22Z\", \"2016-11-06T02:03:00Z\", \"2016-11-06T02:35:48Z\", \"2016-11-06T03:28:10Z\", \"2016-11-06T04:00:58Z\"], \"y\": [1, 2, 3, 4, 5, 6, 7, 8, 9, 10, 11, 12, 13, 14, 15], \"name\": \"part1 2:0\"}, {\"type\": \"scatter\", \"x\": [\"2016-11-05T14:13:16Z\", \"2016-11-05T15:41:04Z\", \"2016-11-05T16:23:32Z\", \"2016-11-05T17:06:00Z\", \"2016-11-05T17:48:28Z\", \"2016-11-05T18:30:56Z\", \"2016-11-05T18:53:24Z\", \"2016-11-05T19:15:52Z\", \"2016-11-05T19:44:58Z\", \"2016-11-05T20:08:26Z\"], \"y\": [2, 4, 6, 8, 10, 12, 14, 16, 18, 20], \"name\": \"part2 1:0\"}], {}, {\"showLink\": true, \"linkText\": \"Export to plot.ly\"})});</script>"
      ],
      "text/vnd.plotly.v1+html": [
       "<div id=\"2d330a34-f7e2-429e-91ea-c03aa35f3d45\" style=\"height: 525px; width: 100%;\" class=\"plotly-graph-div\"></div><script type=\"text/javascript\">require([\"plotly\"], function(Plotly) { window.PLOTLYENV=window.PLOTLYENV || {};window.PLOTLYENV.BASE_URL=\"https://plot.ly\";Plotly.newPlot(\"2d330a34-f7e2-429e-91ea-c03aa35f3d45\", [{\"type\": \"scatter\", \"x\": [\"2016-11-05T13:28:02Z\", \"2016-11-05T13:45:30Z\", \"2016-11-05T15:19:50Z\", \"2016-11-05T16:49:00Z\", \"2016-11-05T17:11:38Z\", \"2016-11-05T18:40:48Z\", \"2016-11-05T20:05:58Z\", \"2016-11-05T20:32:36Z\", \"2016-11-05T21:57:46Z\", \"2016-11-05T22:24:24Z\", \"2016-11-05T23:49:34Z\", \"2016-11-06T00:16:12Z\", \"2016-11-06T01:41:22Z\", \"2016-11-06T02:03:00Z\", \"2016-11-06T03:28:10Z\"], \"y\": [1, 2, 3, 4, 5, 6, 7, 8, 9, 10, 11, 12, 13, 14, 15], \"name\": \"part1 1:0\"}, {\"type\": \"scatter\", \"x\": [\"2016-11-05T15:19:50Z\", \"2016-11-05T16:49:00Z\", \"2016-11-05T17:11:38Z\", \"2016-11-05T18:40:48Z\", \"2016-11-05T20:05:58Z\", \"2016-11-05T20:32:36Z\", \"2016-11-05T21:57:46Z\", \"2016-11-05T22:24:24Z\", \"2016-11-05T23:49:34Z\", \"2016-11-06T00:16:12Z\", \"2016-11-06T01:41:22Z\", \"2016-11-06T02:03:00Z\", \"2016-11-06T02:35:48Z\", \"2016-11-06T03:28:10Z\", \"2016-11-06T04:00:58Z\"], \"y\": [1, 2, 3, 4, 5, 6, 7, 8, 9, 10, 11, 12, 13, 14, 15], \"name\": \"part1 2:0\"}, {\"type\": \"scatter\", \"x\": [\"2016-11-05T14:13:16Z\", \"2016-11-05T15:41:04Z\", \"2016-11-05T16:23:32Z\", \"2016-11-05T17:06:00Z\", \"2016-11-05T17:48:28Z\", \"2016-11-05T18:30:56Z\", \"2016-11-05T18:53:24Z\", \"2016-11-05T19:15:52Z\", \"2016-11-05T19:44:58Z\", \"2016-11-05T20:08:26Z\"], \"y\": [2, 4, 6, 8, 10, 12, 14, 16, 18, 20], \"name\": \"part2 1:0\"}], {}, {\"showLink\": true, \"linkText\": \"Export to plot.ly\"})});</script>"
      ]
     },
     "metadata": {},
     "output_type": "display_data"
    }
   ],
   "source": [
    "plotly.offline.iplot(allocate.plot_simprod(results))"
   ]
  },
  {
   "cell_type": "code",
   "execution_count": 11,
   "metadata": {},
   "outputs": [],
   "source": [
    "# Generate 30 days of orders using the Poisson distribution with the given rates\n",
    "order_rates = [(\"part1\", 10), (\"part2\", 15)]\n",
    "bookings = pd.concat(\n",
    "    [\n",
    "        pd.DataFrame({\n",
    "            \"BookingId\": [part + \"-\" + str(i) for i in range(0,30)],\n",
    "            \"Part\": part,\n",
    "            \"Priority\": 100,\n",
    "            \"Quantity\": pd.Series(nd.random.poisson(lam=lam, size=30)),\n",
    "            \"DueDate\": pd.date_range(start=\"2018-01-15\", periods=30)\n",
    "        })\n",
    "        for (part,lam) in order_rates\n",
    "    ]\n",
    ")"
   ]
  },
  {
   "cell_type": "code",
   "execution_count": 12,
   "metadata": {},
   "outputs": [
    {
     "data": {
      "application/vnd.plotly.v1+json": {
       "data": [
        {
         "name": "part1",
         "type": "bar",
         "x": [
          "2018-01-15",
          "2018-01-16",
          "2018-01-17",
          "2018-01-18",
          "2018-01-19",
          "2018-01-20",
          "2018-01-21",
          "2018-01-22",
          "2018-01-23",
          "2018-01-24",
          "2018-01-25",
          "2018-01-26",
          "2018-01-27",
          "2018-01-28",
          "2018-01-29",
          "2018-01-30",
          "2018-01-31",
          "2018-02-01",
          "2018-02-02",
          "2018-02-03",
          "2018-02-04",
          "2018-02-05",
          "2018-02-06",
          "2018-02-07",
          "2018-02-08",
          "2018-02-09",
          "2018-02-10",
          "2018-02-11",
          "2018-02-12",
          "2018-02-13"
         ],
         "y": [
          8,
          9,
          3,
          7,
          10,
          3,
          8,
          10,
          8,
          13,
          12,
          14,
          7,
          12,
          11,
          15,
          13,
          9,
          7,
          10,
          15,
          12,
          8,
          10,
          10,
          9,
          9,
          10,
          7,
          8
         ]
        },
        {
         "name": "part2",
         "type": "bar",
         "x": [
          "2018-01-15",
          "2018-01-16",
          "2018-01-17",
          "2018-01-18",
          "2018-01-19",
          "2018-01-20",
          "2018-01-21",
          "2018-01-22",
          "2018-01-23",
          "2018-01-24",
          "2018-01-25",
          "2018-01-26",
          "2018-01-27",
          "2018-01-28",
          "2018-01-29",
          "2018-01-30",
          "2018-01-31",
          "2018-02-01",
          "2018-02-02",
          "2018-02-03",
          "2018-02-04",
          "2018-02-05",
          "2018-02-06",
          "2018-02-07",
          "2018-02-08",
          "2018-02-09",
          "2018-02-10",
          "2018-02-11",
          "2018-02-12",
          "2018-02-13"
         ],
         "y": [
          11,
          15,
          16,
          21,
          16,
          9,
          19,
          18,
          11,
          14,
          16,
          14,
          13,
          22,
          18,
          20,
          15,
          19,
          20,
          13,
          12,
          21,
          18,
          10,
          12,
          10,
          11,
          14,
          12,
          10
         ]
        }
       ],
       "layout": {
        "barmode": "stack"
       }
      },
      "text/html": [
       "<div id=\"df3ad733-e862-4065-9b06-db2e59ff08ac\" style=\"height: 525px; width: 100%;\" class=\"plotly-graph-div\"></div><script type=\"text/javascript\">require([\"plotly\"], function(Plotly) { window.PLOTLYENV=window.PLOTLYENV || {};window.PLOTLYENV.BASE_URL=\"https://plot.ly\";Plotly.newPlot(\"df3ad733-e862-4065-9b06-db2e59ff08ac\", [{\"type\": \"bar\", \"x\": [\"2018-01-15\", \"2018-01-16\", \"2018-01-17\", \"2018-01-18\", \"2018-01-19\", \"2018-01-20\", \"2018-01-21\", \"2018-01-22\", \"2018-01-23\", \"2018-01-24\", \"2018-01-25\", \"2018-01-26\", \"2018-01-27\", \"2018-01-28\", \"2018-01-29\", \"2018-01-30\", \"2018-01-31\", \"2018-02-01\", \"2018-02-02\", \"2018-02-03\", \"2018-02-04\", \"2018-02-05\", \"2018-02-06\", \"2018-02-07\", \"2018-02-08\", \"2018-02-09\", \"2018-02-10\", \"2018-02-11\", \"2018-02-12\", \"2018-02-13\"], \"y\": [8, 9, 3, 7, 10, 3, 8, 10, 8, 13, 12, 14, 7, 12, 11, 15, 13, 9, 7, 10, 15, 12, 8, 10, 10, 9, 9, 10, 7, 8], \"name\": \"part1\"}, {\"type\": \"bar\", \"x\": [\"2018-01-15\", \"2018-01-16\", \"2018-01-17\", \"2018-01-18\", \"2018-01-19\", \"2018-01-20\", \"2018-01-21\", \"2018-01-22\", \"2018-01-23\", \"2018-01-24\", \"2018-01-25\", \"2018-01-26\", \"2018-01-27\", \"2018-01-28\", \"2018-01-29\", \"2018-01-30\", \"2018-01-31\", \"2018-02-01\", \"2018-02-02\", \"2018-02-03\", \"2018-02-04\", \"2018-02-05\", \"2018-02-06\", \"2018-02-07\", \"2018-02-08\", \"2018-02-09\", \"2018-02-10\", \"2018-02-11\", \"2018-02-12\", \"2018-02-13\"], \"y\": [11, 15, 16, 21, 16, 9, 19, 18, 11, 14, 16, 14, 13, 22, 18, 20, 15, 19, 20, 13, 12, 21, 18, 10, 12, 10, 11, 14, 12, 10], \"name\": \"part2\"}], {\"barmode\": \"stack\"}, {\"showLink\": true, \"linkText\": \"Export to plot.ly\"})});</script>"
      ],
      "text/vnd.plotly.v1+html": [
       "<div id=\"df3ad733-e862-4065-9b06-db2e59ff08ac\" style=\"height: 525px; width: 100%;\" class=\"plotly-graph-div\"></div><script type=\"text/javascript\">require([\"plotly\"], function(Plotly) { window.PLOTLYENV=window.PLOTLYENV || {};window.PLOTLYENV.BASE_URL=\"https://plot.ly\";Plotly.newPlot(\"df3ad733-e862-4065-9b06-db2e59ff08ac\", [{\"type\": \"bar\", \"x\": [\"2018-01-15\", \"2018-01-16\", \"2018-01-17\", \"2018-01-18\", \"2018-01-19\", \"2018-01-20\", \"2018-01-21\", \"2018-01-22\", \"2018-01-23\", \"2018-01-24\", \"2018-01-25\", \"2018-01-26\", \"2018-01-27\", \"2018-01-28\", \"2018-01-29\", \"2018-01-30\", \"2018-01-31\", \"2018-02-01\", \"2018-02-02\", \"2018-02-03\", \"2018-02-04\", \"2018-02-05\", \"2018-02-06\", \"2018-02-07\", \"2018-02-08\", \"2018-02-09\", \"2018-02-10\", \"2018-02-11\", \"2018-02-12\", \"2018-02-13\"], \"y\": [8, 9, 3, 7, 10, 3, 8, 10, 8, 13, 12, 14, 7, 12, 11, 15, 13, 9, 7, 10, 15, 12, 8, 10, 10, 9, 9, 10, 7, 8], \"name\": \"part1\"}, {\"type\": \"bar\", \"x\": [\"2018-01-15\", \"2018-01-16\", \"2018-01-17\", \"2018-01-18\", \"2018-01-19\", \"2018-01-20\", \"2018-01-21\", \"2018-01-22\", \"2018-01-23\", \"2018-01-24\", \"2018-01-25\", \"2018-01-26\", \"2018-01-27\", \"2018-01-28\", \"2018-01-29\", \"2018-01-30\", \"2018-01-31\", \"2018-02-01\", \"2018-02-02\", \"2018-02-03\", \"2018-02-04\", \"2018-02-05\", \"2018-02-06\", \"2018-02-07\", \"2018-02-08\", \"2018-02-09\", \"2018-02-10\", \"2018-02-11\", \"2018-02-12\", \"2018-02-13\"], \"y\": [11, 15, 16, 21, 16, 9, 19, 18, 11, 14, 16, 14, 13, 22, 18, 20, 15, 19, 20, 13, 12, 21, 18, 10, 12, 10, 11, 14, 12, 10], \"name\": \"part2\"}], {\"barmode\": \"stack\"}, {\"showLink\": true, \"linkText\": \"Export to plot.ly\"})});</script>"
      ]
     },
     "metadata": {},
     "output_type": "display_data"
    }
   ],
   "source": [
    "plotly.offline.iplot(\n",
    "    go.Figure(\n",
    "        data=\n",
    "          [ go.Bar(\n",
    "                x=bookings[bookings.Part==part][\"DueDate\"],\n",
    "                y=bookings[bookings.Part==part][\"Quantity\"],\n",
    "                name=part)\n",
    "            for part in bookings.Part.unique()\n",
    "          ],\n",
    "        layout=go.Layout(barmode='stack')\n",
    "))"
   ]
  },
  {
   "cell_type": "code",
   "execution_count": 13,
   "metadata": {},
   "outputs": [
    {
     "name": "stdout",
     "output_type": "stream",
     "text": [
      "Simulation from 2016-11-05T12:00:00Z to 2016-11-06T13:00:00Z UTC\n",
      "* part1 \n",
      "    Priority: 100\n",
      "    Proc 1\n",
      "        Path 0\n",
      "            Completed 19\n",
      "            Pallets pal1-1,pal1-2\n",
      "            Loads 1\n",
      "            Stops Machine1,Machine2\n",
      "            Unload 1\n",
      "    Proc 2\n",
      "        Path 0\n",
      "            Pallets pal1-1,pal1-2\n",
      "            Loads 1\n",
      "            Stops Machine1,Machine2\n",
      "            Unload 1\n",
      "* part2 \n",
      "    Priority: 100\n",
      "    Proc 1\n",
      "        Path 0\n",
      "            Completed 58\n",
      "            Pallets pal2,pal3-1,pal3-2,pal3-3\n",
      "            Loads 2\n",
      "            Stops Machine1,Machine2,Machine3,Machine4\n",
      "            Unload 2\n"
     ]
    }
   ],
   "source": [
    "results = run(bookings)\n",
    "allocate.print_result_summary(results)"
   ]
  },
  {
   "cell_type": "code",
   "execution_count": 14,
   "metadata": {},
   "outputs": [
    {
     "data": {
      "application/vnd.plotly.v1+json": {
       "data": [
        {
         "name": "part1 1:0",
         "type": "scatter",
         "x": [
          "2016-11-05T13:29:16Z",
          "2016-11-05T13:48:34Z",
          "2016-11-05T16:11:36Z",
          "2016-11-05T16:35:18Z",
          "2016-11-05T18:03:24Z",
          "2016-11-05T19:32:34Z",
          "2016-11-05T19:55:12Z",
          "2016-11-05T21:47:06Z",
          "2016-11-05T22:17:12Z",
          "2016-11-05T23:38:54Z",
          "2016-11-06T01:08:18Z",
          "2016-11-06T02:37:28Z",
          "2016-11-06T03:00:06Z",
          "2016-11-06T04:29:16Z",
          "2016-11-06T05:58:26Z",
          "2016-11-06T06:21:04Z",
          "2016-11-06T07:50:14Z",
          "2016-11-06T09:15:06Z",
          "2016-11-06T10:22:34Z"
         ],
         "y": [
          1,
          2,
          3,
          4,
          5,
          6,
          7,
          8,
          9,
          10,
          11,
          12,
          13,
          14,
          15,
          16,
          17,
          18,
          19
         ]
        },
        {
         "name": "part1 2:0",
         "type": "scatter",
         "x": [
          "2016-11-05T16:11:36Z",
          "2016-11-05T16:35:18Z",
          "2016-11-05T18:03:24Z",
          "2016-11-05T19:32:34Z",
          "2016-11-05T19:55:12Z",
          "2016-11-05T21:47:06Z",
          "2016-11-05T22:17:12Z",
          "2016-11-05T23:38:54Z",
          "2016-11-06T01:08:18Z",
          "2016-11-06T02:37:28Z",
          "2016-11-06T03:00:06Z",
          "2016-11-06T04:29:16Z",
          "2016-11-06T05:58:26Z",
          "2016-11-06T06:21:04Z",
          "2016-11-06T07:50:14Z",
          "2016-11-06T09:15:06Z",
          "2016-11-06T09:47:54Z",
          "2016-11-06T10:22:34Z",
          "2016-11-06T10:55:22Z"
         ],
         "y": [
          1,
          2,
          3,
          4,
          5,
          6,
          7,
          8,
          9,
          10,
          11,
          12,
          13,
          14,
          15,
          16,
          17,
          18,
          19
         ]
        },
        {
         "name": "part2 1:0",
         "type": "scatter",
         "x": [
          "2016-11-05T14:12:20Z",
          "2016-11-05T15:02:26Z",
          "2016-11-05T15:44:54Z",
          "2016-11-05T16:27:22Z",
          "2016-11-05T17:09:50Z",
          "2016-11-05T17:52:18Z",
          "2016-11-05T18:34:46Z",
          "2016-11-05T19:17:14Z",
          "2016-11-05T19:59:42Z",
          "2016-11-05T20:42:10Z",
          "2016-11-05T21:24:38Z",
          "2016-11-05T22:08:20Z",
          "2016-11-05T22:50:48Z",
          "2016-11-05T23:33:16Z",
          "2016-11-06T00:15:44Z",
          "2016-11-06T00:58:12Z",
          "2016-11-06T01:40:40Z",
          "2016-11-06T02:23:08Z",
          "2016-11-06T03:05:36Z",
          "2016-11-06T03:48:04Z",
          "2016-11-06T04:50:30Z",
          "2016-11-06T05:32:58Z",
          "2016-11-06T06:15:26Z",
          "2016-11-06T06:57:54Z",
          "2016-11-06T08:11:28Z",
          "2016-11-06T08:33:56Z",
          "2016-11-06T08:56:24Z",
          "2016-11-06T09:18:52Z",
          "2016-11-06T10:06:34Z"
         ],
         "y": [
          2,
          4,
          6,
          8,
          10,
          12,
          14,
          16,
          18,
          20,
          22,
          24,
          26,
          28,
          30,
          32,
          34,
          36,
          38,
          40,
          42,
          44,
          46,
          48,
          50,
          52,
          54,
          56,
          58
         ]
        }
       ],
       "layout": {}
      },
      "text/html": [
       "<div id=\"dc7de23d-9f28-4690-ba5c-513e1afe8e72\" style=\"height: 525px; width: 100%;\" class=\"plotly-graph-div\"></div><script type=\"text/javascript\">require([\"plotly\"], function(Plotly) { window.PLOTLYENV=window.PLOTLYENV || {};window.PLOTLYENV.BASE_URL=\"https://plot.ly\";Plotly.newPlot(\"dc7de23d-9f28-4690-ba5c-513e1afe8e72\", [{\"type\": \"scatter\", \"x\": [\"2016-11-05T13:29:16Z\", \"2016-11-05T13:48:34Z\", \"2016-11-05T16:11:36Z\", \"2016-11-05T16:35:18Z\", \"2016-11-05T18:03:24Z\", \"2016-11-05T19:32:34Z\", \"2016-11-05T19:55:12Z\", \"2016-11-05T21:47:06Z\", \"2016-11-05T22:17:12Z\", \"2016-11-05T23:38:54Z\", \"2016-11-06T01:08:18Z\", \"2016-11-06T02:37:28Z\", \"2016-11-06T03:00:06Z\", \"2016-11-06T04:29:16Z\", \"2016-11-06T05:58:26Z\", \"2016-11-06T06:21:04Z\", \"2016-11-06T07:50:14Z\", \"2016-11-06T09:15:06Z\", \"2016-11-06T10:22:34Z\"], \"y\": [1, 2, 3, 4, 5, 6, 7, 8, 9, 10, 11, 12, 13, 14, 15, 16, 17, 18, 19], \"name\": \"part1 1:0\"}, {\"type\": \"scatter\", \"x\": [\"2016-11-05T16:11:36Z\", \"2016-11-05T16:35:18Z\", \"2016-11-05T18:03:24Z\", \"2016-11-05T19:32:34Z\", \"2016-11-05T19:55:12Z\", \"2016-11-05T21:47:06Z\", \"2016-11-05T22:17:12Z\", \"2016-11-05T23:38:54Z\", \"2016-11-06T01:08:18Z\", \"2016-11-06T02:37:28Z\", \"2016-11-06T03:00:06Z\", \"2016-11-06T04:29:16Z\", \"2016-11-06T05:58:26Z\", \"2016-11-06T06:21:04Z\", \"2016-11-06T07:50:14Z\", \"2016-11-06T09:15:06Z\", \"2016-11-06T09:47:54Z\", \"2016-11-06T10:22:34Z\", \"2016-11-06T10:55:22Z\"], \"y\": [1, 2, 3, 4, 5, 6, 7, 8, 9, 10, 11, 12, 13, 14, 15, 16, 17, 18, 19], \"name\": \"part1 2:0\"}, {\"type\": \"scatter\", \"x\": [\"2016-11-05T14:12:20Z\", \"2016-11-05T15:02:26Z\", \"2016-11-05T15:44:54Z\", \"2016-11-05T16:27:22Z\", \"2016-11-05T17:09:50Z\", \"2016-11-05T17:52:18Z\", \"2016-11-05T18:34:46Z\", \"2016-11-05T19:17:14Z\", \"2016-11-05T19:59:42Z\", \"2016-11-05T20:42:10Z\", \"2016-11-05T21:24:38Z\", \"2016-11-05T22:08:20Z\", \"2016-11-05T22:50:48Z\", \"2016-11-05T23:33:16Z\", \"2016-11-06T00:15:44Z\", \"2016-11-06T00:58:12Z\", \"2016-11-06T01:40:40Z\", \"2016-11-06T02:23:08Z\", \"2016-11-06T03:05:36Z\", \"2016-11-06T03:48:04Z\", \"2016-11-06T04:50:30Z\", \"2016-11-06T05:32:58Z\", \"2016-11-06T06:15:26Z\", \"2016-11-06T06:57:54Z\", \"2016-11-06T08:11:28Z\", \"2016-11-06T08:33:56Z\", \"2016-11-06T08:56:24Z\", \"2016-11-06T09:18:52Z\", \"2016-11-06T10:06:34Z\"], \"y\": [2, 4, 6, 8, 10, 12, 14, 16, 18, 20, 22, 24, 26, 28, 30, 32, 34, 36, 38, 40, 42, 44, 46, 48, 50, 52, 54, 56, 58], \"name\": \"part2 1:0\"}], {}, {\"showLink\": true, \"linkText\": \"Export to plot.ly\"})});</script>"
      ],
      "text/vnd.plotly.v1+html": [
       "<div id=\"dc7de23d-9f28-4690-ba5c-513e1afe8e72\" style=\"height: 525px; width: 100%;\" class=\"plotly-graph-div\"></div><script type=\"text/javascript\">require([\"plotly\"], function(Plotly) { window.PLOTLYENV=window.PLOTLYENV || {};window.PLOTLYENV.BASE_URL=\"https://plot.ly\";Plotly.newPlot(\"dc7de23d-9f28-4690-ba5c-513e1afe8e72\", [{\"type\": \"scatter\", \"x\": [\"2016-11-05T13:29:16Z\", \"2016-11-05T13:48:34Z\", \"2016-11-05T16:11:36Z\", \"2016-11-05T16:35:18Z\", \"2016-11-05T18:03:24Z\", \"2016-11-05T19:32:34Z\", \"2016-11-05T19:55:12Z\", \"2016-11-05T21:47:06Z\", \"2016-11-05T22:17:12Z\", \"2016-11-05T23:38:54Z\", \"2016-11-06T01:08:18Z\", \"2016-11-06T02:37:28Z\", \"2016-11-06T03:00:06Z\", \"2016-11-06T04:29:16Z\", \"2016-11-06T05:58:26Z\", \"2016-11-06T06:21:04Z\", \"2016-11-06T07:50:14Z\", \"2016-11-06T09:15:06Z\", \"2016-11-06T10:22:34Z\"], \"y\": [1, 2, 3, 4, 5, 6, 7, 8, 9, 10, 11, 12, 13, 14, 15, 16, 17, 18, 19], \"name\": \"part1 1:0\"}, {\"type\": \"scatter\", \"x\": [\"2016-11-05T16:11:36Z\", \"2016-11-05T16:35:18Z\", \"2016-11-05T18:03:24Z\", \"2016-11-05T19:32:34Z\", \"2016-11-05T19:55:12Z\", \"2016-11-05T21:47:06Z\", \"2016-11-05T22:17:12Z\", \"2016-11-05T23:38:54Z\", \"2016-11-06T01:08:18Z\", \"2016-11-06T02:37:28Z\", \"2016-11-06T03:00:06Z\", \"2016-11-06T04:29:16Z\", \"2016-11-06T05:58:26Z\", \"2016-11-06T06:21:04Z\", \"2016-11-06T07:50:14Z\", \"2016-11-06T09:15:06Z\", \"2016-11-06T09:47:54Z\", \"2016-11-06T10:22:34Z\", \"2016-11-06T10:55:22Z\"], \"y\": [1, 2, 3, 4, 5, 6, 7, 8, 9, 10, 11, 12, 13, 14, 15, 16, 17, 18, 19], \"name\": \"part1 2:0\"}, {\"type\": \"scatter\", \"x\": [\"2016-11-05T14:12:20Z\", \"2016-11-05T15:02:26Z\", \"2016-11-05T15:44:54Z\", \"2016-11-05T16:27:22Z\", \"2016-11-05T17:09:50Z\", \"2016-11-05T17:52:18Z\", \"2016-11-05T18:34:46Z\", \"2016-11-05T19:17:14Z\", \"2016-11-05T19:59:42Z\", \"2016-11-05T20:42:10Z\", \"2016-11-05T21:24:38Z\", \"2016-11-05T22:08:20Z\", \"2016-11-05T22:50:48Z\", \"2016-11-05T23:33:16Z\", \"2016-11-06T00:15:44Z\", \"2016-11-06T00:58:12Z\", \"2016-11-06T01:40:40Z\", \"2016-11-06T02:23:08Z\", \"2016-11-06T03:05:36Z\", \"2016-11-06T03:48:04Z\", \"2016-11-06T04:50:30Z\", \"2016-11-06T05:32:58Z\", \"2016-11-06T06:15:26Z\", \"2016-11-06T06:57:54Z\", \"2016-11-06T08:11:28Z\", \"2016-11-06T08:33:56Z\", \"2016-11-06T08:56:24Z\", \"2016-11-06T09:18:52Z\", \"2016-11-06T10:06:34Z\"], \"y\": [2, 4, 6, 8, 10, 12, 14, 16, 18, 20, 22, 24, 26, 28, 30, 32, 34, 36, 38, 40, 42, 44, 46, 48, 50, 52, 54, 56, 58], \"name\": \"part2 1:0\"}], {}, {\"showLink\": true, \"linkText\": \"Export to plot.ly\"})});</script>"
      ]
     },
     "metadata": {},
     "output_type": "display_data"
    }
   ],
   "source": [
    "plotly.offline.iplot(allocate.plot_simprod(results))"
   ]
  },
  {
   "cell_type": "code",
   "execution_count": 15,
   "metadata": {},
   "outputs": [
    {
     "data": {
      "application/vnd.plotly.v1+json": {
       "data": [
        {
         "marker": {
          "color": "white"
         },
         "name": "",
         "x": [
          "2016-11-05 12:01:14",
          "2016-11-05 12:21:14"
         ],
         "y": [
          5,
          5
         ]
        },
        {
         "marker": {
          "color": "white"
         },
         "name": "",
         "x": [
          "2016-11-05 12:02:28",
          "2016-11-05 12:07:28"
         ],
         "y": [
          4,
          4
         ]
        },
        {
         "marker": {
          "color": "white"
         },
         "name": "",
         "x": [
          "2016-11-05 12:08:52",
          "2016-11-05 13:12:52"
         ],
         "y": [
          3,
          3
         ]
        },
        {
         "marker": {
          "color": "white"
         },
         "name": "",
         "x": [
          "2016-11-05 12:09:56",
          "2016-11-05 12:14:56"
         ],
         "y": [
          4,
          4
         ]
        },
        {
         "marker": {
          "color": "white"
         },
         "name": "",
         "x": [
          "2016-11-05 12:16:20",
          "2016-11-05 13:20:20"
         ],
         "y": [
          2,
          2
         ]
        },
        {
         "marker": {
          "color": "white"
         },
         "name": "",
         "x": [
          "2016-11-05 12:22:38",
          "2016-11-05 13:30:38"
         ],
         "y": [
          1,
          1
         ]
        },
        {
         "marker": {
          "color": "white"
         },
         "name": "",
         "x": [
          "2016-11-05 12:23:42",
          "2016-11-05 12:43:42"
         ],
         "y": [
          5,
          5
         ]
        },
        {
         "marker": {
          "color": "white"
         },
         "name": "",
         "x": [
          "2016-11-05 12:45:06",
          "2016-11-05 13:53:06"
         ],
         "y": [
          0,
          0
         ]
        },
        {
         "marker": {
          "color": "white"
         },
         "name": "",
         "x": [
          "2016-11-05 12:46:10",
          "2016-11-05 13:06:10"
         ],
         "y": [
          5,
          5
         ]
        },
        {
         "marker": {
          "color": "white"
         },
         "name": "",
         "x": [
          "2016-11-05 13:08:38",
          "2016-11-05 13:28:38"
         ],
         "y": [
          5,
          5
         ]
        },
        {
         "marker": {
          "color": "white"
         },
         "name": "",
         "x": [
          "2016-11-05 13:13:02",
          "2016-11-05 14:21:02"
         ],
         "y": [
          3,
          3
         ]
        },
        {
         "marker": {
          "color": "white"
         },
         "name": "",
         "x": [
          "2016-11-05 13:14:16",
          "2016-11-05 13:29:16"
         ],
         "y": [
          4,
          4
         ]
        },
        {
         "marker": {
          "color": "white"
         },
         "name": "",
         "x": [
          "2016-11-05 13:30:02",
          "2016-11-05 14:38:02"
         ],
         "y": [
          2,
          2
         ]
        },
        {
         "marker": {
          "color": "white"
         },
         "name": "",
         "x": [
          "2016-11-05 13:32:20",
          "2016-11-05 14:12:20"
         ],
         "y": [
          5,
          5
         ]
        },
        {
         "marker": {
          "color": "white"
         },
         "name": "",
         "x": [
          "2016-11-05 13:33:34",
          "2016-11-05 13:48:34"
         ],
         "y": [
          4,
          4
         ]
        },
        {
         "marker": {
          "color": "white"
         },
         "name": "",
         "x": [
          "2016-11-05 14:21:12",
          "2016-11-05 14:46:12"
         ],
         "y": [
          3,
          3
         ]
        },
        {
         "marker": {
          "color": "white"
         },
         "name": "",
         "x": [
          "2016-11-05 14:22:26",
          "2016-11-05 15:02:26"
         ],
         "y": [
          5,
          5
         ]
        },
        {
         "marker": {
          "color": "white"
         },
         "name": "",
         "x": [
          "2016-11-05 14:38:12",
          "2016-11-05 15:03:12"
         ],
         "y": [
          2,
          2
         ]
        },
        {
         "marker": {
          "color": "white"
         },
         "name": "",
         "x": [
          "2016-11-05 14:38:12",
          "2016-11-05 15:46:12"
         ],
         "y": [
          1,
          1
         ]
        },
        {
         "marker": {
          "color": "white"
         },
         "name": "",
         "x": [
          "2016-11-05 14:46:12",
          "2016-11-05 15:50:12"
         ],
         "y": [
          3,
          3
         ]
        },
        {
         "marker": {
          "color": "white"
         },
         "name": "",
         "x": [
          "2016-11-05 15:03:12",
          "2016-11-05 16:07:12"
         ],
         "y": [
          2,
          2
         ]
        },
        {
         "marker": {
          "color": "white"
         },
         "name": "",
         "x": [
          "2016-11-05 15:03:50",
          "2016-11-05 16:11:50"
         ],
         "y": [
          0,
          0
         ]
        },
        {
         "marker": {
          "color": "white"
         },
         "name": "",
         "x": [
          "2016-11-05 15:04:54",
          "2016-11-05 15:44:54"
         ],
         "y": [
          5,
          5
         ]
        },
        {
         "marker": {
          "color": "white"
         },
         "name": "",
         "x": [
          "2016-11-05 15:46:22",
          "2016-11-05 16:54:22"
         ],
         "y": [
          1,
          1
         ]
        },
        {
         "marker": {
          "color": "white"
         },
         "name": "",
         "x": [
          "2016-11-05 15:47:22",
          "2016-11-05 16:27:22"
         ],
         "y": [
          5,
          5
         ]
        },
        {
         "marker": {
          "color": "white"
         },
         "name": "",
         "x": [
          "2016-11-05 15:51:36",
          "2016-11-05 16:11:36"
         ],
         "y": [
          4,
          4
         ]
        },
        {
         "marker": {
          "color": "white"
         },
         "name": "",
         "x": [
          "2016-11-05 16:13:00",
          "2016-11-05 16:38:00"
         ],
         "y": [
          3,
          3
         ]
        },
        {
         "marker": {
          "color": "white"
         },
         "name": "",
         "x": [
          "2016-11-05 16:15:18",
          "2016-11-05 16:35:18"
         ],
         "y": [
          4,
          4
         ]
        },
        {
         "marker": {
          "color": "white"
         },
         "name": "",
         "x": [
          "2016-11-05 16:28:46",
          "2016-11-05 17:36:46"
         ],
         "y": [
          2,
          2
         ]
        },
        {
         "marker": {
          "color": "white"
         },
         "name": "",
         "x": [
          "2016-11-05 16:29:50",
          "2016-11-05 17:09:50"
         ],
         "y": [
          5,
          5
         ]
        },
        {
         "marker": {
          "color": "white"
         },
         "name": "",
         "x": [
          "2016-11-05 16:38:00",
          "2016-11-05 17:42:00"
         ],
         "y": [
          3,
          3
         ]
        },
        {
         "marker": {
          "color": "white"
         },
         "name": "",
         "x": [
          "2016-11-05 17:12:18",
          "2016-11-05 17:52:18"
         ],
         "y": [
          5,
          5
         ]
        },
        {
         "marker": {
          "color": "white"
         },
         "name": "",
         "x": [
          "2016-11-05 17:42:10",
          "2016-11-05 18:07:10"
         ],
         "y": [
          3,
          3
         ]
        },
        {
         "marker": {
          "color": "white"
         },
         "name": "",
         "x": [
          "2016-11-05 17:42:10",
          "2016-11-05 18:50:10"
         ],
         "y": [
          0,
          0
         ]
        },
        {
         "marker": {
          "color": "white"
         },
         "name": "",
         "x": [
          "2016-11-05 17:43:24",
          "2016-11-05 18:03:24"
         ],
         "y": [
          4,
          4
         ]
        },
        {
         "marker": {
          "color": "white"
         },
         "name": "",
         "x": [
          "2016-11-05 17:53:42",
          "2016-11-05 19:01:42"
         ],
         "y": [
          1,
          1
         ]
        },
        {
         "marker": {
          "color": "white"
         },
         "name": "",
         "x": [
          "2016-11-05 17:54:46",
          "2016-11-05 18:34:46"
         ],
         "y": [
          5,
          5
         ]
        },
        {
         "marker": {
          "color": "white"
         },
         "name": "",
         "x": [
          "2016-11-05 18:04:48",
          "2016-11-05 18:29:48"
         ],
         "y": [
          2,
          2
         ]
        },
        {
         "marker": {
          "color": "white"
         },
         "name": "",
         "x": [
          "2016-11-05 18:07:10",
          "2016-11-05 19:11:10"
         ],
         "y": [
          3,
          3
         ]
        },
        {
         "marker": {
          "color": "white"
         },
         "name": "",
         "x": [
          "2016-11-05 18:29:48",
          "2016-11-05 19:33:48"
         ],
         "y": [
          2,
          2
         ]
        },
        {
         "marker": {
          "color": "white"
         },
         "name": "",
         "x": [
          "2016-11-05 18:37:14",
          "2016-11-05 19:17:14"
         ],
         "y": [
          5,
          5
         ]
        },
        {
         "marker": {
          "color": "white"
         },
         "name": "",
         "x": [
          "2016-11-05 19:01:52",
          "2016-11-05 20:09:52"
         ],
         "y": [
          1,
          1
         ]
        },
        {
         "marker": {
          "color": "white"
         },
         "name": "",
         "x": [
          "2016-11-05 19:12:34",
          "2016-11-05 19:32:34"
         ],
         "y": [
          4,
          4
         ]
        },
        {
         "marker": {
          "color": "white"
         },
         "name": "",
         "x": [
          "2016-11-05 19:18:38",
          "2016-11-05 20:26:38"
         ],
         "y": [
          3,
          3
         ]
        },
        {
         "marker": {
          "color": "white"
         },
         "name": "",
         "x": [
          "2016-11-05 19:19:42",
          "2016-11-05 19:59:42"
         ],
         "y": [
          5,
          5
         ]
        },
        {
         "marker": {
          "color": "white"
         },
         "name": "",
         "x": [
          "2016-11-05 19:35:12",
          "2016-11-05 19:55:12"
         ],
         "y": [
          4,
          4
         ]
        },
        {
         "marker": {
          "color": "white"
         },
         "name": "",
         "x": [
          "2016-11-05 19:56:36",
          "2016-11-05 20:21:36"
         ],
         "y": [
          2,
          2
         ]
        },
        {
         "marker": {
          "color": "white"
         },
         "name": "",
         "x": [
          "2016-11-05 20:02:10",
          "2016-11-05 20:42:10"
         ],
         "y": [
          5,
          5
         ]
        },
        {
         "marker": {
          "color": "white"
         },
         "name": "",
         "x": [
          "2016-11-05 20:21:36",
          "2016-11-05 21:25:36"
         ],
         "y": [
          2,
          2
         ]
        },
        {
         "marker": {
          "color": "white"
         },
         "name": "",
         "x": [
          "2016-11-05 20:26:48",
          "2016-11-05 20:51:48"
         ],
         "y": [
          3,
          3
         ]
        },
        {
         "marker": {
          "color": "white"
         },
         "name": "",
         "x": [
          "2016-11-05 20:26:48",
          "2016-11-05 21:34:48"
         ],
         "y": [
          0,
          0
         ]
        },
        {
         "marker": {
          "color": "white"
         },
         "name": "",
         "x": [
          "2016-11-05 20:43:34",
          "2016-11-05 21:51:34"
         ],
         "y": [
          1,
          1
         ]
        },
        {
         "marker": {
          "color": "white"
         },
         "name": "",
         "x": [
          "2016-11-05 20:44:38",
          "2016-11-05 21:24:38"
         ],
         "y": [
          5,
          5
         ]
        },
        {
         "marker": {
          "color": "white"
         },
         "name": "",
         "x": [
          "2016-11-05 20:51:48",
          "2016-11-05 21:55:48"
         ],
         "y": [
          3,
          3
         ]
        },
        {
         "marker": {
          "color": "white"
         },
         "name": "",
         "x": [
          "2016-11-05 21:27:06",
          "2016-11-05 21:47:06"
         ],
         "y": [
          4,
          4
         ]
        },
        {
         "marker": {
          "color": "white"
         },
         "name": "",
         "x": [
          "2016-11-05 21:28:20",
          "2016-11-05 22:08:20"
         ],
         "y": [
          5,
          5
         ]
        },
        {
         "marker": {
          "color": "white"
         },
         "name": "",
         "x": [
          "2016-11-05 21:34:58",
          "2016-11-05 22:42:58"
         ],
         "y": [
          0,
          0
         ]
        },
        {
         "marker": {
          "color": "white"
         },
         "name": "",
         "x": [
          "2016-11-05 21:48:30",
          "2016-11-05 22:13:30"
         ],
         "y": [
          2,
          2
         ]
        },
        {
         "marker": {
          "color": "white"
         },
         "name": "",
         "x": [
          "2016-11-05 21:57:12",
          "2016-11-05 22:17:12"
         ],
         "y": [
          4,
          4
         ]
        },
        {
         "marker": {
          "color": "white"
         },
         "name": "",
         "x": [
          "2016-11-05 22:09:44",
          "2016-11-05 23:17:44"
         ],
         "y": [
          3,
          3
         ]
        },
        {
         "marker": {
          "color": "white"
         },
         "name": "",
         "x": [
          "2016-11-05 22:10:48",
          "2016-11-05 22:50:48"
         ],
         "y": [
          5,
          5
         ]
        },
        {
         "marker": {
          "color": "white"
         },
         "name": "",
         "x": [
          "2016-11-05 22:13:30",
          "2016-11-05 23:17:30"
         ],
         "y": [
          2,
          2
         ]
        },
        {
         "marker": {
          "color": "white"
         },
         "name": "",
         "x": [
          "2016-11-05 22:53:16",
          "2016-11-05 23:33:16"
         ],
         "y": [
          5,
          5
         ]
        },
        {
         "marker": {
          "color": "white"
         },
         "name": "",
         "x": [
          "2016-11-05 23:17:54",
          "2016-11-05 23:42:54"
         ],
         "y": [
          3,
          3
         ]
        },
        {
         "marker": {
          "color": "white"
         },
         "name": "",
         "x": [
          "2016-11-05 23:17:54",
          "2016-11-06 00:25:54"
         ],
         "y": [
          1,
          1
         ]
        },
        {
         "marker": {
          "color": "white"
         },
         "name": "",
         "x": [
          "2016-11-05 23:18:54",
          "2016-11-05 23:38:54"
         ],
         "y": [
          4,
          4
         ]
        },
        {
         "marker": {
          "color": "white"
         },
         "name": "",
         "x": [
          "2016-11-05 23:34:40",
          "2016-11-06 00:42:40"
         ],
         "y": [
          2,
          2
         ]
        },
        {
         "marker": {
          "color": "white"
         },
         "name": "",
         "x": [
          "2016-11-05 23:35:44",
          "2016-11-06 00:15:44"
         ],
         "y": [
          5,
          5
         ]
        },
        {
         "marker": {
          "color": "white"
         },
         "name": "",
         "x": [
          "2016-11-05 23:42:54",
          "2016-11-06 00:46:54"
         ],
         "y": [
          3,
          3
         ]
        },
        {
         "marker": {
          "color": "white"
         },
         "name": "",
         "x": [
          "2016-11-06 00:18:12",
          "2016-11-06 00:58:12"
         ],
         "y": [
          5,
          5
         ]
        },
        {
         "marker": {
          "color": "white"
         },
         "name": "",
         "x": [
          "2016-11-06 00:47:04",
          "2016-11-06 01:12:04"
         ],
         "y": [
          3,
          3
         ]
        },
        {
         "marker": {
          "color": "white"
         },
         "name": "",
         "x": [
          "2016-11-06 00:47:04",
          "2016-11-06 01:55:04"
         ],
         "y": [
          0,
          0
         ]
        },
        {
         "marker": {
          "color": "white"
         },
         "name": "",
         "x": [
          "2016-11-06 00:48:18",
          "2016-11-06 01:08:18"
         ],
         "y": [
          4,
          4
         ]
        },
        {
         "marker": {
          "color": "white"
         },
         "name": "",
         "x": [
          "2016-11-06 00:59:36",
          "2016-11-06 02:07:36"
         ],
         "y": [
          1,
          1
         ]
        },
        {
         "marker": {
          "color": "white"
         },
         "name": "",
         "x": [
          "2016-11-06 01:00:40",
          "2016-11-06 01:40:40"
         ],
         "y": [
          5,
          5
         ]
        },
        {
         "marker": {
          "color": "white"
         },
         "name": "",
         "x": [
          "2016-11-06 01:09:42",
          "2016-11-06 01:34:42"
         ],
         "y": [
          2,
          2
         ]
        },
        {
         "marker": {
          "color": "white"
         },
         "name": "",
         "x": [
          "2016-11-06 01:12:04",
          "2016-11-06 02:16:04"
         ],
         "y": [
          3,
          3
         ]
        },
        {
         "marker": {
          "color": "white"
         },
         "name": "",
         "x": [
          "2016-11-06 01:34:42",
          "2016-11-06 02:38:42"
         ],
         "y": [
          2,
          2
         ]
        },
        {
         "marker": {
          "color": "white"
         },
         "name": "",
         "x": [
          "2016-11-06 01:43:08",
          "2016-11-06 02:23:08"
         ],
         "y": [
          5,
          5
         ]
        },
        {
         "marker": {
          "color": "white"
         },
         "name": "",
         "x": [
          "2016-11-06 02:16:14",
          "2016-11-06 03:24:14"
         ],
         "y": [
          3,
          3
         ]
        },
        {
         "marker": {
          "color": "white"
         },
         "name": "",
         "x": [
          "2016-11-06 02:17:28",
          "2016-11-06 02:37:28"
         ],
         "y": [
          4,
          4
         ]
        },
        {
         "marker": {
          "color": "white"
         },
         "name": "",
         "x": [
          "2016-11-06 02:24:32",
          "2016-11-06 03:32:32"
         ],
         "y": [
          0,
          0
         ]
        },
        {
         "marker": {
          "color": "white"
         },
         "name": "",
         "x": [
          "2016-11-06 02:25:36",
          "2016-11-06 03:05:36"
         ],
         "y": [
          5,
          5
         ]
        },
        {
         "marker": {
          "color": "white"
         },
         "name": "",
         "x": [
          "2016-11-06 02:38:52",
          "2016-11-06 03:03:52"
         ],
         "y": [
          2,
          2
         ]
        },
        {
         "marker": {
          "color": "white"
         },
         "name": "",
         "x": [
          "2016-11-06 02:40:06",
          "2016-11-06 03:00:06"
         ],
         "y": [
          4,
          4
         ]
        },
        {
         "marker": {
          "color": "white"
         },
         "name": "",
         "x": [
          "2016-11-06 03:03:52",
          "2016-11-06 04:07:52"
         ],
         "y": [
          2,
          2
         ]
        },
        {
         "marker": {
          "color": "white"
         },
         "name": "",
         "x": [
          "2016-11-06 03:08:04",
          "2016-11-06 03:48:04"
         ],
         "y": [
          5,
          5
         ]
        },
        {
         "marker": {
          "color": "white"
         },
         "name": "",
         "x": [
          "2016-11-06 04:08:02",
          "2016-11-06 04:33:02"
         ],
         "y": [
          2,
          2
         ]
        },
        {
         "marker": {
          "color": "white"
         },
         "name": "",
         "x": [
          "2016-11-06 04:08:02",
          "2016-11-06 05:16:02"
         ],
         "y": [
          1,
          1
         ]
        },
        {
         "marker": {
          "color": "white"
         },
         "name": "",
         "x": [
          "2016-11-06 04:08:02",
          "2016-11-06 05:16:02"
         ],
         "y": [
          0,
          0
         ]
        },
        {
         "marker": {
          "color": "white"
         },
         "name": "",
         "x": [
          "2016-11-06 04:09:16",
          "2016-11-06 04:29:16"
         ],
         "y": [
          4,
          4
         ]
        },
        {
         "marker": {
          "color": "white"
         },
         "name": "",
         "x": [
          "2016-11-06 04:10:30",
          "2016-11-06 04:50:30"
         ],
         "y": [
          5,
          5
         ]
        },
        {
         "marker": {
          "color": "white"
         },
         "name": "",
         "x": [
          "2016-11-06 04:30:40",
          "2016-11-06 04:55:40"
         ],
         "y": [
          3,
          3
         ]
        },
        {
         "marker": {
          "color": "white"
         },
         "name": "",
         "x": [
          "2016-11-06 04:33:02",
          "2016-11-06 05:37:02"
         ],
         "y": [
          2,
          2
         ]
        },
        {
         "marker": {
          "color": "white"
         },
         "name": "",
         "x": [
          "2016-11-06 04:52:58",
          "2016-11-06 05:32:58"
         ],
         "y": [
          5,
          5
         ]
        },
        {
         "marker": {
          "color": "white"
         },
         "name": "",
         "x": [
          "2016-11-06 04:55:40",
          "2016-11-06 05:59:40"
         ],
         "y": [
          3,
          3
         ]
        },
        {
         "marker": {
          "color": "white"
         },
         "name": "",
         "x": [
          "2016-11-06 05:16:12",
          "2016-11-06 06:24:12"
         ],
         "y": [
          1,
          1
         ]
        },
        {
         "marker": {
          "color": "white"
         },
         "name": "",
         "x": [
          "2016-11-06 05:34:22",
          "2016-11-06 06:42:22"
         ],
         "y": [
          0,
          0
         ]
        },
        {
         "marker": {
          "color": "white"
         },
         "name": "",
         "x": [
          "2016-11-06 05:35:26",
          "2016-11-06 06:15:26"
         ],
         "y": [
          5,
          5
         ]
        },
        {
         "marker": {
          "color": "white"
         },
         "name": "",
         "x": [
          "2016-11-06 05:38:26",
          "2016-11-06 05:58:26"
         ],
         "y": [
          4,
          4
         ]
        },
        {
         "marker": {
          "color": "white"
         },
         "name": "",
         "x": [
          "2016-11-06 05:59:50",
          "2016-11-06 06:24:50"
         ],
         "y": [
          2,
          2
         ]
        },
        {
         "marker": {
          "color": "white"
         },
         "name": "",
         "x": [
          "2016-11-06 06:01:04",
          "2016-11-06 06:21:04"
         ],
         "y": [
          4,
          4
         ]
        },
        {
         "marker": {
          "color": "white"
         },
         "name": "",
         "x": [
          "2016-11-06 06:16:50",
          "2016-11-06 07:24:50"
         ],
         "y": [
          3,
          3
         ]
        },
        {
         "marker": {
          "color": "white"
         },
         "name": "",
         "x": [
          "2016-11-06 06:17:54",
          "2016-11-06 06:57:54"
         ],
         "y": [
          5,
          5
         ]
        },
        {
         "marker": {
          "color": "white"
         },
         "name": "",
         "x": [
          "2016-11-06 06:24:50",
          "2016-11-06 07:28:50"
         ],
         "y": [
          2,
          2
         ]
        },
        {
         "marker": {
          "color": "white"
         },
         "name": "",
         "x": [
          "2016-11-06 07:29:00",
          "2016-11-06 07:54:00"
         ],
         "y": [
          2,
          2
         ]
        },
        {
         "marker": {
          "color": "white"
         },
         "name": "",
         "x": [
          "2016-11-06 07:29:00",
          "2016-11-06 08:37:00"
         ],
         "y": [
          3,
          3
         ]
        },
        {
         "marker": {
          "color": "white"
         },
         "name": "",
         "x": [
          "2016-11-06 07:30:14",
          "2016-11-06 07:50:14"
         ],
         "y": [
          4,
          4
         ]
        },
        {
         "marker": {
          "color": "white"
         },
         "name": "",
         "x": [
          "2016-11-06 07:31:28",
          "2016-11-06 08:11:28"
         ],
         "y": [
          5,
          5
         ]
        },
        {
         "marker": {
          "color": "white"
         },
         "name": "",
         "x": [
          "2016-11-06 07:54:00",
          "2016-11-06 08:58:00"
         ],
         "y": [
          2,
          2
         ]
        },
        {
         "marker": {
          "color": "white"
         },
         "name": "",
         "x": [
          "2016-11-06 08:13:56",
          "2016-11-06 08:33:56"
         ],
         "y": [
          5,
          5
         ]
        },
        {
         "marker": {
          "color": "white"
         },
         "name": "",
         "x": [
          "2016-11-06 08:36:24",
          "2016-11-06 08:56:24"
         ],
         "y": [
          5,
          5
         ]
        },
        {
         "marker": {
          "color": "white"
         },
         "name": "",
         "x": [
          "2016-11-06 08:37:10",
          "2016-11-06 09:02:10"
         ],
         "y": [
          3,
          3
         ]
        },
        {
         "marker": {
          "color": "white"
         },
         "name": "",
         "x": [
          "2016-11-06 08:37:10",
          "2016-11-06 09:45:10"
         ],
         "y": [
          0,
          0
         ]
        },
        {
         "marker": {
          "color": "white"
         },
         "name": "",
         "x": [
          "2016-11-06 08:58:52",
          "2016-11-06 09:18:52"
         ],
         "y": [
          5,
          5
         ]
        },
        {
         "marker": {
          "color": "white"
         },
         "name": "",
         "x": [
          "2016-11-06 09:00:06",
          "2016-11-06 09:15:06"
         ],
         "y": [
          4,
          4
         ]
        },
        {
         "marker": {
          "color": "white"
         },
         "name": "",
         "x": [
          "2016-11-06 09:02:10",
          "2016-11-06 10:06:10"
         ],
         "y": [
          3,
          3
         ]
        },
        {
         "marker": {
          "color": "white"
         },
         "name": "",
         "x": [
          "2016-11-06 09:16:30",
          "2016-11-06 09:41:30"
         ],
         "y": [
          2,
          2
         ]
        },
        {
         "marker": {
          "color": "white"
         },
         "name": "",
         "x": [
          "2016-11-06 09:42:54",
          "2016-11-06 09:47:54"
         ],
         "y": [
          4,
          4
         ]
        },
        {
         "marker": {
          "color": "white"
         },
         "name": "",
         "x": [
          "2016-11-06 09:46:34",
          "2016-11-06 10:06:34"
         ],
         "y": [
          5,
          5
         ]
        },
        {
         "marker": {
          "color": "white"
         },
         "name": "",
         "x": [
          "2016-11-06 10:07:34",
          "2016-11-06 10:22:34"
         ],
         "y": [
          4,
          4
         ]
        },
        {
         "marker": {
          "color": "white"
         },
         "name": "",
         "x": [
          "2016-11-06 10:23:58",
          "2016-11-06 10:48:58"
         ],
         "y": [
          2,
          2
         ]
        },
        {
         "marker": {
          "color": "white"
         },
         "name": "",
         "x": [
          "2016-11-06 10:50:22",
          "2016-11-06 10:55:22"
         ],
         "y": [
          4,
          4
         ]
        }
       ],
       "layout": {
        "height": 600,
        "hovermode": "closest",
        "shapes": [
         {
          "fillcolor": "rgb(31, 119, 180)",
          "line": {
           "width": 0
          },
          "opacity": 1,
          "type": "rect",
          "x0": "2016-11-05 12:01:14",
          "x1": "2016-11-05 12:21:14",
          "xref": "x",
          "y0": 4.8,
          "y1": 5.2,
          "yref": "y"
         },
         {
          "fillcolor": "rgb(31, 119, 180)",
          "line": {
           "width": 0
          },
          "opacity": 1,
          "type": "rect",
          "x0": "2016-11-05 12:02:28",
          "x1": "2016-11-05 12:07:28",
          "xref": "x",
          "y0": 3.8,
          "y1": 4.2,
          "yref": "y"
         },
         {
          "fillcolor": "rgb(255, 127, 14)",
          "line": {
           "width": 0
          },
          "opacity": 1,
          "type": "rect",
          "x0": "2016-11-05 12:08:52",
          "x1": "2016-11-05 13:12:52",
          "xref": "x",
          "y0": 2.8,
          "y1": 3.2,
          "yref": "y"
         },
         {
          "fillcolor": "rgb(31, 119, 180)",
          "line": {
           "width": 0
          },
          "opacity": 1,
          "type": "rect",
          "x0": "2016-11-05 12:09:56",
          "x1": "2016-11-05 12:14:56",
          "xref": "x",
          "y0": 3.8,
          "y1": 4.2,
          "yref": "y"
         },
         {
          "fillcolor": "rgb(255, 127, 14)",
          "line": {
           "width": 0
          },
          "opacity": 1,
          "type": "rect",
          "x0": "2016-11-05 12:16:20",
          "x1": "2016-11-05 13:20:20",
          "xref": "x",
          "y0": 1.8,
          "y1": 2.2,
          "yref": "y"
         },
         {
          "fillcolor": "rgb(255, 127, 14)",
          "line": {
           "width": 0
          },
          "opacity": 1,
          "type": "rect",
          "x0": "2016-11-05 12:22:38",
          "x1": "2016-11-05 13:30:38",
          "xref": "x",
          "y0": 0.8,
          "y1": 1.2,
          "yref": "y"
         },
         {
          "fillcolor": "rgb(31, 119, 180)",
          "line": {
           "width": 0
          },
          "opacity": 1,
          "type": "rect",
          "x0": "2016-11-05 12:23:42",
          "x1": "2016-11-05 12:43:42",
          "xref": "x",
          "y0": 4.8,
          "y1": 5.2,
          "yref": "y"
         },
         {
          "fillcolor": "rgb(255, 127, 14)",
          "line": {
           "width": 0
          },
          "opacity": 1,
          "type": "rect",
          "x0": "2016-11-05 12:45:06",
          "x1": "2016-11-05 13:53:06",
          "xref": "x",
          "y0": -0.2,
          "y1": 0.2,
          "yref": "y"
         },
         {
          "fillcolor": "rgb(31, 119, 180)",
          "line": {
           "width": 0
          },
          "opacity": 1,
          "type": "rect",
          "x0": "2016-11-05 12:46:10",
          "x1": "2016-11-05 13:06:10",
          "xref": "x",
          "y0": 4.8,
          "y1": 5.2,
          "yref": "y"
         },
         {
          "fillcolor": "rgb(31, 119, 180)",
          "line": {
           "width": 0
          },
          "opacity": 1,
          "type": "rect",
          "x0": "2016-11-05 13:08:38",
          "x1": "2016-11-05 13:28:38",
          "xref": "x",
          "y0": 4.8,
          "y1": 5.2,
          "yref": "y"
         },
         {
          "fillcolor": "rgb(255, 127, 14)",
          "line": {
           "width": 0
          },
          "opacity": 1,
          "type": "rect",
          "x0": "2016-11-05 13:13:02",
          "x1": "2016-11-05 14:21:02",
          "xref": "x",
          "y0": 2.8,
          "y1": 3.2,
          "yref": "y"
         },
         {
          "fillcolor": "rgb(31, 119, 180)",
          "line": {
           "width": 0
          },
          "opacity": 1,
          "type": "rect",
          "x0": "2016-11-05 13:14:16",
          "x1": "2016-11-05 13:29:16",
          "xref": "x",
          "y0": 3.8,
          "y1": 4.2,
          "yref": "y"
         },
         {
          "fillcolor": "rgb(255, 127, 14)",
          "line": {
           "width": 0
          },
          "opacity": 1,
          "type": "rect",
          "x0": "2016-11-05 13:30:02",
          "x1": "2016-11-05 14:38:02",
          "xref": "x",
          "y0": 1.8,
          "y1": 2.2,
          "yref": "y"
         },
         {
          "fillcolor": "rgb(31, 119, 180)",
          "line": {
           "width": 0
          },
          "opacity": 1,
          "type": "rect",
          "x0": "2016-11-05 13:32:20",
          "x1": "2016-11-05 14:12:20",
          "xref": "x",
          "y0": 4.8,
          "y1": 5.2,
          "yref": "y"
         },
         {
          "fillcolor": "rgb(31, 119, 180)",
          "line": {
           "width": 0
          },
          "opacity": 1,
          "type": "rect",
          "x0": "2016-11-05 13:33:34",
          "x1": "2016-11-05 13:48:34",
          "xref": "x",
          "y0": 3.8,
          "y1": 4.2,
          "yref": "y"
         },
         {
          "fillcolor": "rgb(255, 127, 14)",
          "line": {
           "width": 0
          },
          "opacity": 1,
          "type": "rect",
          "x0": "2016-11-05 14:21:12",
          "x1": "2016-11-05 14:46:12",
          "xref": "x",
          "y0": 2.8,
          "y1": 3.2,
          "yref": "y"
         },
         {
          "fillcolor": "rgb(31, 119, 180)",
          "line": {
           "width": 0
          },
          "opacity": 1,
          "type": "rect",
          "x0": "2016-11-05 14:22:26",
          "x1": "2016-11-05 15:02:26",
          "xref": "x",
          "y0": 4.8,
          "y1": 5.2,
          "yref": "y"
         },
         {
          "fillcolor": "rgb(255, 127, 14)",
          "line": {
           "width": 0
          },
          "opacity": 1,
          "type": "rect",
          "x0": "2016-11-05 14:38:12",
          "x1": "2016-11-05 15:03:12",
          "xref": "x",
          "y0": 1.8,
          "y1": 2.2,
          "yref": "y"
         },
         {
          "fillcolor": "rgb(255, 127, 14)",
          "line": {
           "width": 0
          },
          "opacity": 1,
          "type": "rect",
          "x0": "2016-11-05 14:38:12",
          "x1": "2016-11-05 15:46:12",
          "xref": "x",
          "y0": 0.8,
          "y1": 1.2,
          "yref": "y"
         },
         {
          "fillcolor": "rgb(255, 127, 14)",
          "line": {
           "width": 0
          },
          "opacity": 1,
          "type": "rect",
          "x0": "2016-11-05 14:46:12",
          "x1": "2016-11-05 15:50:12",
          "xref": "x",
          "y0": 2.8,
          "y1": 3.2,
          "yref": "y"
         },
         {
          "fillcolor": "rgb(255, 127, 14)",
          "line": {
           "width": 0
          },
          "opacity": 1,
          "type": "rect",
          "x0": "2016-11-05 15:03:12",
          "x1": "2016-11-05 16:07:12",
          "xref": "x",
          "y0": 1.8,
          "y1": 2.2,
          "yref": "y"
         },
         {
          "fillcolor": "rgb(255, 127, 14)",
          "line": {
           "width": 0
          },
          "opacity": 1,
          "type": "rect",
          "x0": "2016-11-05 15:03:50",
          "x1": "2016-11-05 16:11:50",
          "xref": "x",
          "y0": -0.2,
          "y1": 0.2,
          "yref": "y"
         },
         {
          "fillcolor": "rgb(31, 119, 180)",
          "line": {
           "width": 0
          },
          "opacity": 1,
          "type": "rect",
          "x0": "2016-11-05 15:04:54",
          "x1": "2016-11-05 15:44:54",
          "xref": "x",
          "y0": 4.8,
          "y1": 5.2,
          "yref": "y"
         },
         {
          "fillcolor": "rgb(255, 127, 14)",
          "line": {
           "width": 0
          },
          "opacity": 1,
          "type": "rect",
          "x0": "2016-11-05 15:46:22",
          "x1": "2016-11-05 16:54:22",
          "xref": "x",
          "y0": 0.8,
          "y1": 1.2,
          "yref": "y"
         },
         {
          "fillcolor": "rgb(31, 119, 180)",
          "line": {
           "width": 0
          },
          "opacity": 1,
          "type": "rect",
          "x0": "2016-11-05 15:47:22",
          "x1": "2016-11-05 16:27:22",
          "xref": "x",
          "y0": 4.8,
          "y1": 5.2,
          "yref": "y"
         },
         {
          "fillcolor": "rgb(31, 119, 180)",
          "line": {
           "width": 0
          },
          "opacity": 1,
          "type": "rect",
          "x0": "2016-11-05 15:51:36",
          "x1": "2016-11-05 16:11:36",
          "xref": "x",
          "y0": 3.8,
          "y1": 4.2,
          "yref": "y"
         },
         {
          "fillcolor": "rgb(255, 127, 14)",
          "line": {
           "width": 0
          },
          "opacity": 1,
          "type": "rect",
          "x0": "2016-11-05 16:13:00",
          "x1": "2016-11-05 16:38:00",
          "xref": "x",
          "y0": 2.8,
          "y1": 3.2,
          "yref": "y"
         },
         {
          "fillcolor": "rgb(31, 119, 180)",
          "line": {
           "width": 0
          },
          "opacity": 1,
          "type": "rect",
          "x0": "2016-11-05 16:15:18",
          "x1": "2016-11-05 16:35:18",
          "xref": "x",
          "y0": 3.8,
          "y1": 4.2,
          "yref": "y"
         },
         {
          "fillcolor": "rgb(255, 127, 14)",
          "line": {
           "width": 0
          },
          "opacity": 1,
          "type": "rect",
          "x0": "2016-11-05 16:28:46",
          "x1": "2016-11-05 17:36:46",
          "xref": "x",
          "y0": 1.8,
          "y1": 2.2,
          "yref": "y"
         },
         {
          "fillcolor": "rgb(31, 119, 180)",
          "line": {
           "width": 0
          },
          "opacity": 1,
          "type": "rect",
          "x0": "2016-11-05 16:29:50",
          "x1": "2016-11-05 17:09:50",
          "xref": "x",
          "y0": 4.8,
          "y1": 5.2,
          "yref": "y"
         },
         {
          "fillcolor": "rgb(255, 127, 14)",
          "line": {
           "width": 0
          },
          "opacity": 1,
          "type": "rect",
          "x0": "2016-11-05 16:38:00",
          "x1": "2016-11-05 17:42:00",
          "xref": "x",
          "y0": 2.8,
          "y1": 3.2,
          "yref": "y"
         },
         {
          "fillcolor": "rgb(31, 119, 180)",
          "line": {
           "width": 0
          },
          "opacity": 1,
          "type": "rect",
          "x0": "2016-11-05 17:12:18",
          "x1": "2016-11-05 17:52:18",
          "xref": "x",
          "y0": 4.8,
          "y1": 5.2,
          "yref": "y"
         },
         {
          "fillcolor": "rgb(255, 127, 14)",
          "line": {
           "width": 0
          },
          "opacity": 1,
          "type": "rect",
          "x0": "2016-11-05 17:42:10",
          "x1": "2016-11-05 18:07:10",
          "xref": "x",
          "y0": 2.8,
          "y1": 3.2,
          "yref": "y"
         },
         {
          "fillcolor": "rgb(255, 127, 14)",
          "line": {
           "width": 0
          },
          "opacity": 1,
          "type": "rect",
          "x0": "2016-11-05 17:42:10",
          "x1": "2016-11-05 18:50:10",
          "xref": "x",
          "y0": -0.2,
          "y1": 0.2,
          "yref": "y"
         },
         {
          "fillcolor": "rgb(31, 119, 180)",
          "line": {
           "width": 0
          },
          "opacity": 1,
          "type": "rect",
          "x0": "2016-11-05 17:43:24",
          "x1": "2016-11-05 18:03:24",
          "xref": "x",
          "y0": 3.8,
          "y1": 4.2,
          "yref": "y"
         },
         {
          "fillcolor": "rgb(255, 127, 14)",
          "line": {
           "width": 0
          },
          "opacity": 1,
          "type": "rect",
          "x0": "2016-11-05 17:53:42",
          "x1": "2016-11-05 19:01:42",
          "xref": "x",
          "y0": 0.8,
          "y1": 1.2,
          "yref": "y"
         },
         {
          "fillcolor": "rgb(31, 119, 180)",
          "line": {
           "width": 0
          },
          "opacity": 1,
          "type": "rect",
          "x0": "2016-11-05 17:54:46",
          "x1": "2016-11-05 18:34:46",
          "xref": "x",
          "y0": 4.8,
          "y1": 5.2,
          "yref": "y"
         },
         {
          "fillcolor": "rgb(255, 127, 14)",
          "line": {
           "width": 0
          },
          "opacity": 1,
          "type": "rect",
          "x0": "2016-11-05 18:04:48",
          "x1": "2016-11-05 18:29:48",
          "xref": "x",
          "y0": 1.8,
          "y1": 2.2,
          "yref": "y"
         },
         {
          "fillcolor": "rgb(255, 127, 14)",
          "line": {
           "width": 0
          },
          "opacity": 1,
          "type": "rect",
          "x0": "2016-11-05 18:07:10",
          "x1": "2016-11-05 19:11:10",
          "xref": "x",
          "y0": 2.8,
          "y1": 3.2,
          "yref": "y"
         },
         {
          "fillcolor": "rgb(255, 127, 14)",
          "line": {
           "width": 0
          },
          "opacity": 1,
          "type": "rect",
          "x0": "2016-11-05 18:29:48",
          "x1": "2016-11-05 19:33:48",
          "xref": "x",
          "y0": 1.8,
          "y1": 2.2,
          "yref": "y"
         },
         {
          "fillcolor": "rgb(31, 119, 180)",
          "line": {
           "width": 0
          },
          "opacity": 1,
          "type": "rect",
          "x0": "2016-11-05 18:37:14",
          "x1": "2016-11-05 19:17:14",
          "xref": "x",
          "y0": 4.8,
          "y1": 5.2,
          "yref": "y"
         },
         {
          "fillcolor": "rgb(255, 127, 14)",
          "line": {
           "width": 0
          },
          "opacity": 1,
          "type": "rect",
          "x0": "2016-11-05 19:01:52",
          "x1": "2016-11-05 20:09:52",
          "xref": "x",
          "y0": 0.8,
          "y1": 1.2,
          "yref": "y"
         },
         {
          "fillcolor": "rgb(31, 119, 180)",
          "line": {
           "width": 0
          },
          "opacity": 1,
          "type": "rect",
          "x0": "2016-11-05 19:12:34",
          "x1": "2016-11-05 19:32:34",
          "xref": "x",
          "y0": 3.8,
          "y1": 4.2,
          "yref": "y"
         },
         {
          "fillcolor": "rgb(255, 127, 14)",
          "line": {
           "width": 0
          },
          "opacity": 1,
          "type": "rect",
          "x0": "2016-11-05 19:18:38",
          "x1": "2016-11-05 20:26:38",
          "xref": "x",
          "y0": 2.8,
          "y1": 3.2,
          "yref": "y"
         },
         {
          "fillcolor": "rgb(31, 119, 180)",
          "line": {
           "width": 0
          },
          "opacity": 1,
          "type": "rect",
          "x0": "2016-11-05 19:19:42",
          "x1": "2016-11-05 19:59:42",
          "xref": "x",
          "y0": 4.8,
          "y1": 5.2,
          "yref": "y"
         },
         {
          "fillcolor": "rgb(31, 119, 180)",
          "line": {
           "width": 0
          },
          "opacity": 1,
          "type": "rect",
          "x0": "2016-11-05 19:35:12",
          "x1": "2016-11-05 19:55:12",
          "xref": "x",
          "y0": 3.8,
          "y1": 4.2,
          "yref": "y"
         },
         {
          "fillcolor": "rgb(255, 127, 14)",
          "line": {
           "width": 0
          },
          "opacity": 1,
          "type": "rect",
          "x0": "2016-11-05 19:56:36",
          "x1": "2016-11-05 20:21:36",
          "xref": "x",
          "y0": 1.8,
          "y1": 2.2,
          "yref": "y"
         },
         {
          "fillcolor": "rgb(31, 119, 180)",
          "line": {
           "width": 0
          },
          "opacity": 1,
          "type": "rect",
          "x0": "2016-11-05 20:02:10",
          "x1": "2016-11-05 20:42:10",
          "xref": "x",
          "y0": 4.8,
          "y1": 5.2,
          "yref": "y"
         },
         {
          "fillcolor": "rgb(255, 127, 14)",
          "line": {
           "width": 0
          },
          "opacity": 1,
          "type": "rect",
          "x0": "2016-11-05 20:21:36",
          "x1": "2016-11-05 21:25:36",
          "xref": "x",
          "y0": 1.8,
          "y1": 2.2,
          "yref": "y"
         },
         {
          "fillcolor": "rgb(255, 127, 14)",
          "line": {
           "width": 0
          },
          "opacity": 1,
          "type": "rect",
          "x0": "2016-11-05 20:26:48",
          "x1": "2016-11-05 20:51:48",
          "xref": "x",
          "y0": 2.8,
          "y1": 3.2,
          "yref": "y"
         },
         {
          "fillcolor": "rgb(255, 127, 14)",
          "line": {
           "width": 0
          },
          "opacity": 1,
          "type": "rect",
          "x0": "2016-11-05 20:26:48",
          "x1": "2016-11-05 21:34:48",
          "xref": "x",
          "y0": -0.2,
          "y1": 0.2,
          "yref": "y"
         },
         {
          "fillcolor": "rgb(255, 127, 14)",
          "line": {
           "width": 0
          },
          "opacity": 1,
          "type": "rect",
          "x0": "2016-11-05 20:43:34",
          "x1": "2016-11-05 21:51:34",
          "xref": "x",
          "y0": 0.8,
          "y1": 1.2,
          "yref": "y"
         },
         {
          "fillcolor": "rgb(31, 119, 180)",
          "line": {
           "width": 0
          },
          "opacity": 1,
          "type": "rect",
          "x0": "2016-11-05 20:44:38",
          "x1": "2016-11-05 21:24:38",
          "xref": "x",
          "y0": 4.8,
          "y1": 5.2,
          "yref": "y"
         },
         {
          "fillcolor": "rgb(255, 127, 14)",
          "line": {
           "width": 0
          },
          "opacity": 1,
          "type": "rect",
          "x0": "2016-11-05 20:51:48",
          "x1": "2016-11-05 21:55:48",
          "xref": "x",
          "y0": 2.8,
          "y1": 3.2,
          "yref": "y"
         },
         {
          "fillcolor": "rgb(31, 119, 180)",
          "line": {
           "width": 0
          },
          "opacity": 1,
          "type": "rect",
          "x0": "2016-11-05 21:27:06",
          "x1": "2016-11-05 21:47:06",
          "xref": "x",
          "y0": 3.8,
          "y1": 4.2,
          "yref": "y"
         },
         {
          "fillcolor": "rgb(31, 119, 180)",
          "line": {
           "width": 0
          },
          "opacity": 1,
          "type": "rect",
          "x0": "2016-11-05 21:28:20",
          "x1": "2016-11-05 22:08:20",
          "xref": "x",
          "y0": 4.8,
          "y1": 5.2,
          "yref": "y"
         },
         {
          "fillcolor": "rgb(255, 127, 14)",
          "line": {
           "width": 0
          },
          "opacity": 1,
          "type": "rect",
          "x0": "2016-11-05 21:34:58",
          "x1": "2016-11-05 22:42:58",
          "xref": "x",
          "y0": -0.2,
          "y1": 0.2,
          "yref": "y"
         },
         {
          "fillcolor": "rgb(255, 127, 14)",
          "line": {
           "width": 0
          },
          "opacity": 1,
          "type": "rect",
          "x0": "2016-11-05 21:48:30",
          "x1": "2016-11-05 22:13:30",
          "xref": "x",
          "y0": 1.8,
          "y1": 2.2,
          "yref": "y"
         },
         {
          "fillcolor": "rgb(31, 119, 180)",
          "line": {
           "width": 0
          },
          "opacity": 1,
          "type": "rect",
          "x0": "2016-11-05 21:57:12",
          "x1": "2016-11-05 22:17:12",
          "xref": "x",
          "y0": 3.8,
          "y1": 4.2,
          "yref": "y"
         },
         {
          "fillcolor": "rgb(255, 127, 14)",
          "line": {
           "width": 0
          },
          "opacity": 1,
          "type": "rect",
          "x0": "2016-11-05 22:09:44",
          "x1": "2016-11-05 23:17:44",
          "xref": "x",
          "y0": 2.8,
          "y1": 3.2,
          "yref": "y"
         },
         {
          "fillcolor": "rgb(31, 119, 180)",
          "line": {
           "width": 0
          },
          "opacity": 1,
          "type": "rect",
          "x0": "2016-11-05 22:10:48",
          "x1": "2016-11-05 22:50:48",
          "xref": "x",
          "y0": 4.8,
          "y1": 5.2,
          "yref": "y"
         },
         {
          "fillcolor": "rgb(255, 127, 14)",
          "line": {
           "width": 0
          },
          "opacity": 1,
          "type": "rect",
          "x0": "2016-11-05 22:13:30",
          "x1": "2016-11-05 23:17:30",
          "xref": "x",
          "y0": 1.8,
          "y1": 2.2,
          "yref": "y"
         },
         {
          "fillcolor": "rgb(31, 119, 180)",
          "line": {
           "width": 0
          },
          "opacity": 1,
          "type": "rect",
          "x0": "2016-11-05 22:53:16",
          "x1": "2016-11-05 23:33:16",
          "xref": "x",
          "y0": 4.8,
          "y1": 5.2,
          "yref": "y"
         },
         {
          "fillcolor": "rgb(255, 127, 14)",
          "line": {
           "width": 0
          },
          "opacity": 1,
          "type": "rect",
          "x0": "2016-11-05 23:17:54",
          "x1": "2016-11-05 23:42:54",
          "xref": "x",
          "y0": 2.8,
          "y1": 3.2,
          "yref": "y"
         },
         {
          "fillcolor": "rgb(255, 127, 14)",
          "line": {
           "width": 0
          },
          "opacity": 1,
          "type": "rect",
          "x0": "2016-11-05 23:17:54",
          "x1": "2016-11-06 00:25:54",
          "xref": "x",
          "y0": 0.8,
          "y1": 1.2,
          "yref": "y"
         },
         {
          "fillcolor": "rgb(31, 119, 180)",
          "line": {
           "width": 0
          },
          "opacity": 1,
          "type": "rect",
          "x0": "2016-11-05 23:18:54",
          "x1": "2016-11-05 23:38:54",
          "xref": "x",
          "y0": 3.8,
          "y1": 4.2,
          "yref": "y"
         },
         {
          "fillcolor": "rgb(255, 127, 14)",
          "line": {
           "width": 0
          },
          "opacity": 1,
          "type": "rect",
          "x0": "2016-11-05 23:34:40",
          "x1": "2016-11-06 00:42:40",
          "xref": "x",
          "y0": 1.8,
          "y1": 2.2,
          "yref": "y"
         },
         {
          "fillcolor": "rgb(31, 119, 180)",
          "line": {
           "width": 0
          },
          "opacity": 1,
          "type": "rect",
          "x0": "2016-11-05 23:35:44",
          "x1": "2016-11-06 00:15:44",
          "xref": "x",
          "y0": 4.8,
          "y1": 5.2,
          "yref": "y"
         },
         {
          "fillcolor": "rgb(255, 127, 14)",
          "line": {
           "width": 0
          },
          "opacity": 1,
          "type": "rect",
          "x0": "2016-11-05 23:42:54",
          "x1": "2016-11-06 00:46:54",
          "xref": "x",
          "y0": 2.8,
          "y1": 3.2,
          "yref": "y"
         },
         {
          "fillcolor": "rgb(31, 119, 180)",
          "line": {
           "width": 0
          },
          "opacity": 1,
          "type": "rect",
          "x0": "2016-11-06 00:18:12",
          "x1": "2016-11-06 00:58:12",
          "xref": "x",
          "y0": 4.8,
          "y1": 5.2,
          "yref": "y"
         },
         {
          "fillcolor": "rgb(255, 127, 14)",
          "line": {
           "width": 0
          },
          "opacity": 1,
          "type": "rect",
          "x0": "2016-11-06 00:47:04",
          "x1": "2016-11-06 01:12:04",
          "xref": "x",
          "y0": 2.8,
          "y1": 3.2,
          "yref": "y"
         },
         {
          "fillcolor": "rgb(255, 127, 14)",
          "line": {
           "width": 0
          },
          "opacity": 1,
          "type": "rect",
          "x0": "2016-11-06 00:47:04",
          "x1": "2016-11-06 01:55:04",
          "xref": "x",
          "y0": -0.2,
          "y1": 0.2,
          "yref": "y"
         },
         {
          "fillcolor": "rgb(31, 119, 180)",
          "line": {
           "width": 0
          },
          "opacity": 1,
          "type": "rect",
          "x0": "2016-11-06 00:48:18",
          "x1": "2016-11-06 01:08:18",
          "xref": "x",
          "y0": 3.8,
          "y1": 4.2,
          "yref": "y"
         },
         {
          "fillcolor": "rgb(255, 127, 14)",
          "line": {
           "width": 0
          },
          "opacity": 1,
          "type": "rect",
          "x0": "2016-11-06 00:59:36",
          "x1": "2016-11-06 02:07:36",
          "xref": "x",
          "y0": 0.8,
          "y1": 1.2,
          "yref": "y"
         },
         {
          "fillcolor": "rgb(31, 119, 180)",
          "line": {
           "width": 0
          },
          "opacity": 1,
          "type": "rect",
          "x0": "2016-11-06 01:00:40",
          "x1": "2016-11-06 01:40:40",
          "xref": "x",
          "y0": 4.8,
          "y1": 5.2,
          "yref": "y"
         },
         {
          "fillcolor": "rgb(255, 127, 14)",
          "line": {
           "width": 0
          },
          "opacity": 1,
          "type": "rect",
          "x0": "2016-11-06 01:09:42",
          "x1": "2016-11-06 01:34:42",
          "xref": "x",
          "y0": 1.8,
          "y1": 2.2,
          "yref": "y"
         },
         {
          "fillcolor": "rgb(255, 127, 14)",
          "line": {
           "width": 0
          },
          "opacity": 1,
          "type": "rect",
          "x0": "2016-11-06 01:12:04",
          "x1": "2016-11-06 02:16:04",
          "xref": "x",
          "y0": 2.8,
          "y1": 3.2,
          "yref": "y"
         },
         {
          "fillcolor": "rgb(255, 127, 14)",
          "line": {
           "width": 0
          },
          "opacity": 1,
          "type": "rect",
          "x0": "2016-11-06 01:34:42",
          "x1": "2016-11-06 02:38:42",
          "xref": "x",
          "y0": 1.8,
          "y1": 2.2,
          "yref": "y"
         },
         {
          "fillcolor": "rgb(31, 119, 180)",
          "line": {
           "width": 0
          },
          "opacity": 1,
          "type": "rect",
          "x0": "2016-11-06 01:43:08",
          "x1": "2016-11-06 02:23:08",
          "xref": "x",
          "y0": 4.8,
          "y1": 5.2,
          "yref": "y"
         },
         {
          "fillcolor": "rgb(255, 127, 14)",
          "line": {
           "width": 0
          },
          "opacity": 1,
          "type": "rect",
          "x0": "2016-11-06 02:16:14",
          "x1": "2016-11-06 03:24:14",
          "xref": "x",
          "y0": 2.8,
          "y1": 3.2,
          "yref": "y"
         },
         {
          "fillcolor": "rgb(31, 119, 180)",
          "line": {
           "width": 0
          },
          "opacity": 1,
          "type": "rect",
          "x0": "2016-11-06 02:17:28",
          "x1": "2016-11-06 02:37:28",
          "xref": "x",
          "y0": 3.8,
          "y1": 4.2,
          "yref": "y"
         },
         {
          "fillcolor": "rgb(255, 127, 14)",
          "line": {
           "width": 0
          },
          "opacity": 1,
          "type": "rect",
          "x0": "2016-11-06 02:24:32",
          "x1": "2016-11-06 03:32:32",
          "xref": "x",
          "y0": -0.2,
          "y1": 0.2,
          "yref": "y"
         },
         {
          "fillcolor": "rgb(31, 119, 180)",
          "line": {
           "width": 0
          },
          "opacity": 1,
          "type": "rect",
          "x0": "2016-11-06 02:25:36",
          "x1": "2016-11-06 03:05:36",
          "xref": "x",
          "y0": 4.8,
          "y1": 5.2,
          "yref": "y"
         },
         {
          "fillcolor": "rgb(255, 127, 14)",
          "line": {
           "width": 0
          },
          "opacity": 1,
          "type": "rect",
          "x0": "2016-11-06 02:38:52",
          "x1": "2016-11-06 03:03:52",
          "xref": "x",
          "y0": 1.8,
          "y1": 2.2,
          "yref": "y"
         },
         {
          "fillcolor": "rgb(31, 119, 180)",
          "line": {
           "width": 0
          },
          "opacity": 1,
          "type": "rect",
          "x0": "2016-11-06 02:40:06",
          "x1": "2016-11-06 03:00:06",
          "xref": "x",
          "y0": 3.8,
          "y1": 4.2,
          "yref": "y"
         },
         {
          "fillcolor": "rgb(255, 127, 14)",
          "line": {
           "width": 0
          },
          "opacity": 1,
          "type": "rect",
          "x0": "2016-11-06 03:03:52",
          "x1": "2016-11-06 04:07:52",
          "xref": "x",
          "y0": 1.8,
          "y1": 2.2,
          "yref": "y"
         },
         {
          "fillcolor": "rgb(31, 119, 180)",
          "line": {
           "width": 0
          },
          "opacity": 1,
          "type": "rect",
          "x0": "2016-11-06 03:08:04",
          "x1": "2016-11-06 03:48:04",
          "xref": "x",
          "y0": 4.8,
          "y1": 5.2,
          "yref": "y"
         },
         {
          "fillcolor": "rgb(255, 127, 14)",
          "line": {
           "width": 0
          },
          "opacity": 1,
          "type": "rect",
          "x0": "2016-11-06 04:08:02",
          "x1": "2016-11-06 04:33:02",
          "xref": "x",
          "y0": 1.8,
          "y1": 2.2,
          "yref": "y"
         },
         {
          "fillcolor": "rgb(255, 127, 14)",
          "line": {
           "width": 0
          },
          "opacity": 1,
          "type": "rect",
          "x0": "2016-11-06 04:08:02",
          "x1": "2016-11-06 05:16:02",
          "xref": "x",
          "y0": 0.8,
          "y1": 1.2,
          "yref": "y"
         },
         {
          "fillcolor": "rgb(255, 127, 14)",
          "line": {
           "width": 0
          },
          "opacity": 1,
          "type": "rect",
          "x0": "2016-11-06 04:08:02",
          "x1": "2016-11-06 05:16:02",
          "xref": "x",
          "y0": -0.2,
          "y1": 0.2,
          "yref": "y"
         },
         {
          "fillcolor": "rgb(31, 119, 180)",
          "line": {
           "width": 0
          },
          "opacity": 1,
          "type": "rect",
          "x0": "2016-11-06 04:09:16",
          "x1": "2016-11-06 04:29:16",
          "xref": "x",
          "y0": 3.8,
          "y1": 4.2,
          "yref": "y"
         },
         {
          "fillcolor": "rgb(31, 119, 180)",
          "line": {
           "width": 0
          },
          "opacity": 1,
          "type": "rect",
          "x0": "2016-11-06 04:10:30",
          "x1": "2016-11-06 04:50:30",
          "xref": "x",
          "y0": 4.8,
          "y1": 5.2,
          "yref": "y"
         },
         {
          "fillcolor": "rgb(255, 127, 14)",
          "line": {
           "width": 0
          },
          "opacity": 1,
          "type": "rect",
          "x0": "2016-11-06 04:30:40",
          "x1": "2016-11-06 04:55:40",
          "xref": "x",
          "y0": 2.8,
          "y1": 3.2,
          "yref": "y"
         },
         {
          "fillcolor": "rgb(255, 127, 14)",
          "line": {
           "width": 0
          },
          "opacity": 1,
          "type": "rect",
          "x0": "2016-11-06 04:33:02",
          "x1": "2016-11-06 05:37:02",
          "xref": "x",
          "y0": 1.8,
          "y1": 2.2,
          "yref": "y"
         },
         {
          "fillcolor": "rgb(31, 119, 180)",
          "line": {
           "width": 0
          },
          "opacity": 1,
          "type": "rect",
          "x0": "2016-11-06 04:52:58",
          "x1": "2016-11-06 05:32:58",
          "xref": "x",
          "y0": 4.8,
          "y1": 5.2,
          "yref": "y"
         },
         {
          "fillcolor": "rgb(255, 127, 14)",
          "line": {
           "width": 0
          },
          "opacity": 1,
          "type": "rect",
          "x0": "2016-11-06 04:55:40",
          "x1": "2016-11-06 05:59:40",
          "xref": "x",
          "y0": 2.8,
          "y1": 3.2,
          "yref": "y"
         },
         {
          "fillcolor": "rgb(255, 127, 14)",
          "line": {
           "width": 0
          },
          "opacity": 1,
          "type": "rect",
          "x0": "2016-11-06 05:16:12",
          "x1": "2016-11-06 06:24:12",
          "xref": "x",
          "y0": 0.8,
          "y1": 1.2,
          "yref": "y"
         },
         {
          "fillcolor": "rgb(255, 127, 14)",
          "line": {
           "width": 0
          },
          "opacity": 1,
          "type": "rect",
          "x0": "2016-11-06 05:34:22",
          "x1": "2016-11-06 06:42:22",
          "xref": "x",
          "y0": -0.2,
          "y1": 0.2,
          "yref": "y"
         },
         {
          "fillcolor": "rgb(31, 119, 180)",
          "line": {
           "width": 0
          },
          "opacity": 1,
          "type": "rect",
          "x0": "2016-11-06 05:35:26",
          "x1": "2016-11-06 06:15:26",
          "xref": "x",
          "y0": 4.8,
          "y1": 5.2,
          "yref": "y"
         },
         {
          "fillcolor": "rgb(31, 119, 180)",
          "line": {
           "width": 0
          },
          "opacity": 1,
          "type": "rect",
          "x0": "2016-11-06 05:38:26",
          "x1": "2016-11-06 05:58:26",
          "xref": "x",
          "y0": 3.8,
          "y1": 4.2,
          "yref": "y"
         },
         {
          "fillcolor": "rgb(255, 127, 14)",
          "line": {
           "width": 0
          },
          "opacity": 1,
          "type": "rect",
          "x0": "2016-11-06 05:59:50",
          "x1": "2016-11-06 06:24:50",
          "xref": "x",
          "y0": 1.8,
          "y1": 2.2,
          "yref": "y"
         },
         {
          "fillcolor": "rgb(31, 119, 180)",
          "line": {
           "width": 0
          },
          "opacity": 1,
          "type": "rect",
          "x0": "2016-11-06 06:01:04",
          "x1": "2016-11-06 06:21:04",
          "xref": "x",
          "y0": 3.8,
          "y1": 4.2,
          "yref": "y"
         },
         {
          "fillcolor": "rgb(255, 127, 14)",
          "line": {
           "width": 0
          },
          "opacity": 1,
          "type": "rect",
          "x0": "2016-11-06 06:16:50",
          "x1": "2016-11-06 07:24:50",
          "xref": "x",
          "y0": 2.8,
          "y1": 3.2,
          "yref": "y"
         },
         {
          "fillcolor": "rgb(31, 119, 180)",
          "line": {
           "width": 0
          },
          "opacity": 1,
          "type": "rect",
          "x0": "2016-11-06 06:17:54",
          "x1": "2016-11-06 06:57:54",
          "xref": "x",
          "y0": 4.8,
          "y1": 5.2,
          "yref": "y"
         },
         {
          "fillcolor": "rgb(255, 127, 14)",
          "line": {
           "width": 0
          },
          "opacity": 1,
          "type": "rect",
          "x0": "2016-11-06 06:24:50",
          "x1": "2016-11-06 07:28:50",
          "xref": "x",
          "y0": 1.8,
          "y1": 2.2,
          "yref": "y"
         },
         {
          "fillcolor": "rgb(255, 127, 14)",
          "line": {
           "width": 0
          },
          "opacity": 1,
          "type": "rect",
          "x0": "2016-11-06 07:29:00",
          "x1": "2016-11-06 07:54:00",
          "xref": "x",
          "y0": 1.8,
          "y1": 2.2,
          "yref": "y"
         },
         {
          "fillcolor": "rgb(255, 127, 14)",
          "line": {
           "width": 0
          },
          "opacity": 1,
          "type": "rect",
          "x0": "2016-11-06 07:29:00",
          "x1": "2016-11-06 08:37:00",
          "xref": "x",
          "y0": 2.8,
          "y1": 3.2,
          "yref": "y"
         },
         {
          "fillcolor": "rgb(31, 119, 180)",
          "line": {
           "width": 0
          },
          "opacity": 1,
          "type": "rect",
          "x0": "2016-11-06 07:30:14",
          "x1": "2016-11-06 07:50:14",
          "xref": "x",
          "y0": 3.8,
          "y1": 4.2,
          "yref": "y"
         },
         {
          "fillcolor": "rgb(31, 119, 180)",
          "line": {
           "width": 0
          },
          "opacity": 1,
          "type": "rect",
          "x0": "2016-11-06 07:31:28",
          "x1": "2016-11-06 08:11:28",
          "xref": "x",
          "y0": 4.8,
          "y1": 5.2,
          "yref": "y"
         },
         {
          "fillcolor": "rgb(255, 127, 14)",
          "line": {
           "width": 0
          },
          "opacity": 1,
          "type": "rect",
          "x0": "2016-11-06 07:54:00",
          "x1": "2016-11-06 08:58:00",
          "xref": "x",
          "y0": 1.8,
          "y1": 2.2,
          "yref": "y"
         },
         {
          "fillcolor": "rgb(31, 119, 180)",
          "line": {
           "width": 0
          },
          "opacity": 1,
          "type": "rect",
          "x0": "2016-11-06 08:13:56",
          "x1": "2016-11-06 08:33:56",
          "xref": "x",
          "y0": 4.8,
          "y1": 5.2,
          "yref": "y"
         },
         {
          "fillcolor": "rgb(31, 119, 180)",
          "line": {
           "width": 0
          },
          "opacity": 1,
          "type": "rect",
          "x0": "2016-11-06 08:36:24",
          "x1": "2016-11-06 08:56:24",
          "xref": "x",
          "y0": 4.8,
          "y1": 5.2,
          "yref": "y"
         },
         {
          "fillcolor": "rgb(255, 127, 14)",
          "line": {
           "width": 0
          },
          "opacity": 1,
          "type": "rect",
          "x0": "2016-11-06 08:37:10",
          "x1": "2016-11-06 09:02:10",
          "xref": "x",
          "y0": 2.8,
          "y1": 3.2,
          "yref": "y"
         },
         {
          "fillcolor": "rgb(255, 127, 14)",
          "line": {
           "width": 0
          },
          "opacity": 1,
          "type": "rect",
          "x0": "2016-11-06 08:37:10",
          "x1": "2016-11-06 09:45:10",
          "xref": "x",
          "y0": -0.2,
          "y1": 0.2,
          "yref": "y"
         },
         {
          "fillcolor": "rgb(31, 119, 180)",
          "line": {
           "width": 0
          },
          "opacity": 1,
          "type": "rect",
          "x0": "2016-11-06 08:58:52",
          "x1": "2016-11-06 09:18:52",
          "xref": "x",
          "y0": 4.8,
          "y1": 5.2,
          "yref": "y"
         },
         {
          "fillcolor": "rgb(31, 119, 180)",
          "line": {
           "width": 0
          },
          "opacity": 1,
          "type": "rect",
          "x0": "2016-11-06 09:00:06",
          "x1": "2016-11-06 09:15:06",
          "xref": "x",
          "y0": 3.8,
          "y1": 4.2,
          "yref": "y"
         },
         {
          "fillcolor": "rgb(255, 127, 14)",
          "line": {
           "width": 0
          },
          "opacity": 1,
          "type": "rect",
          "x0": "2016-11-06 09:02:10",
          "x1": "2016-11-06 10:06:10",
          "xref": "x",
          "y0": 2.8,
          "y1": 3.2,
          "yref": "y"
         },
         {
          "fillcolor": "rgb(255, 127, 14)",
          "line": {
           "width": 0
          },
          "opacity": 1,
          "type": "rect",
          "x0": "2016-11-06 09:16:30",
          "x1": "2016-11-06 09:41:30",
          "xref": "x",
          "y0": 1.8,
          "y1": 2.2,
          "yref": "y"
         },
         {
          "fillcolor": "rgb(31, 119, 180)",
          "line": {
           "width": 0
          },
          "opacity": 1,
          "type": "rect",
          "x0": "2016-11-06 09:42:54",
          "x1": "2016-11-06 09:47:54",
          "xref": "x",
          "y0": 3.8,
          "y1": 4.2,
          "yref": "y"
         },
         {
          "fillcolor": "rgb(31, 119, 180)",
          "line": {
           "width": 0
          },
          "opacity": 1,
          "type": "rect",
          "x0": "2016-11-06 09:46:34",
          "x1": "2016-11-06 10:06:34",
          "xref": "x",
          "y0": 4.8,
          "y1": 5.2,
          "yref": "y"
         },
         {
          "fillcolor": "rgb(31, 119, 180)",
          "line": {
           "width": 0
          },
          "opacity": 1,
          "type": "rect",
          "x0": "2016-11-06 10:07:34",
          "x1": "2016-11-06 10:22:34",
          "xref": "x",
          "y0": 3.8,
          "y1": 4.2,
          "yref": "y"
         },
         {
          "fillcolor": "rgb(255, 127, 14)",
          "line": {
           "width": 0
          },
          "opacity": 1,
          "type": "rect",
          "x0": "2016-11-06 10:23:58",
          "x1": "2016-11-06 10:48:58",
          "xref": "x",
          "y0": 1.8,
          "y1": 2.2,
          "yref": "y"
         },
         {
          "fillcolor": "rgb(31, 119, 180)",
          "line": {
           "width": 0
          },
          "opacity": 1,
          "type": "rect",
          "x0": "2016-11-06 10:50:22",
          "x1": "2016-11-06 10:55:22",
          "xref": "x",
          "y0": 3.8,
          "y1": 4.2,
          "yref": "y"
         }
        ],
        "showlegend": false,
        "title": "Gantt Chart",
        "width": 900,
        "xaxis": {
         "rangeselector": {
          "buttons": [
           {
            "count": 7,
            "label": "1w",
            "step": "day",
            "stepmode": "backward"
           },
           {
            "count": 1,
            "label": "1m",
            "step": "month",
            "stepmode": "backward"
           },
           {
            "count": 6,
            "label": "6m",
            "step": "month",
            "stepmode": "backward"
           },
           {
            "count": 1,
            "label": "YTD",
            "step": "year",
            "stepmode": "todate"
           },
           {
            "count": 1,
            "label": "1y",
            "step": "year",
            "stepmode": "backward"
           },
           {
            "step": "all"
           }
          ]
         },
         "showgrid": false,
         "type": "date",
         "zeroline": false
        },
        "yaxis": {
         "autorange": false,
         "range": [
          -1,
          7
         ],
         "showgrid": false,
         "ticktext": [
          "Machine4",
          "Machine3",
          "Machine1",
          "Machine2",
          "L/U1",
          "L/U2"
         ],
         "tickvals": [
          0,
          1,
          2,
          3,
          4,
          5
         ],
         "zeroline": false
        }
       }
      },
      "text/html": [
       "<div id=\"22c69572-5323-4eb1-a292-9e673dff4f54\" style=\"height: 600px; width: 900px;\" class=\"plotly-graph-div\"></div><script type=\"text/javascript\">require([\"plotly\"], function(Plotly) { window.PLOTLYENV=window.PLOTLYENV || {};window.PLOTLYENV.BASE_URL=\"https://plot.ly\";Plotly.newPlot(\"22c69572-5323-4eb1-a292-9e673dff4f54\", [{\"x\": [\"2016-11-05 12:01:14\", \"2016-11-05 12:21:14\"], \"y\": [5, 5], \"name\": \"\", \"marker\": {\"color\": \"white\"}}, {\"x\": [\"2016-11-05 12:02:28\", \"2016-11-05 12:07:28\"], \"y\": [4, 4], \"name\": \"\", \"marker\": {\"color\": \"white\"}}, {\"x\": [\"2016-11-05 12:08:52\", \"2016-11-05 13:12:52\"], \"y\": [3, 3], \"name\": \"\", \"marker\": {\"color\": \"white\"}}, {\"x\": [\"2016-11-05 12:09:56\", \"2016-11-05 12:14:56\"], \"y\": [4, 4], \"name\": \"\", \"marker\": {\"color\": \"white\"}}, {\"x\": [\"2016-11-05 12:16:20\", \"2016-11-05 13:20:20\"], \"y\": [2, 2], \"name\": \"\", \"marker\": {\"color\": \"white\"}}, {\"x\": [\"2016-11-05 12:22:38\", \"2016-11-05 13:30:38\"], \"y\": [1, 1], \"name\": \"\", \"marker\": {\"color\": \"white\"}}, {\"x\": [\"2016-11-05 12:23:42\", \"2016-11-05 12:43:42\"], \"y\": [5, 5], \"name\": \"\", \"marker\": {\"color\": \"white\"}}, {\"x\": [\"2016-11-05 12:45:06\", \"2016-11-05 13:53:06\"], \"y\": [0, 0], \"name\": \"\", \"marker\": {\"color\": \"white\"}}, {\"x\": [\"2016-11-05 12:46:10\", \"2016-11-05 13:06:10\"], \"y\": [5, 5], \"name\": \"\", \"marker\": {\"color\": \"white\"}}, {\"x\": [\"2016-11-05 13:08:38\", \"2016-11-05 13:28:38\"], \"y\": [5, 5], \"name\": \"\", \"marker\": {\"color\": \"white\"}}, {\"x\": [\"2016-11-05 13:13:02\", \"2016-11-05 14:21:02\"], \"y\": [3, 3], \"name\": \"\", \"marker\": {\"color\": \"white\"}}, {\"x\": [\"2016-11-05 13:14:16\", \"2016-11-05 13:29:16\"], \"y\": [4, 4], \"name\": \"\", \"marker\": {\"color\": \"white\"}}, {\"x\": [\"2016-11-05 13:30:02\", \"2016-11-05 14:38:02\"], \"y\": [2, 2], \"name\": \"\", \"marker\": {\"color\": \"white\"}}, {\"x\": [\"2016-11-05 13:32:20\", \"2016-11-05 14:12:20\"], \"y\": [5, 5], \"name\": \"\", \"marker\": {\"color\": \"white\"}}, {\"x\": [\"2016-11-05 13:33:34\", \"2016-11-05 13:48:34\"], \"y\": [4, 4], \"name\": \"\", \"marker\": {\"color\": \"white\"}}, {\"x\": [\"2016-11-05 14:21:12\", \"2016-11-05 14:46:12\"], \"y\": [3, 3], \"name\": \"\", \"marker\": {\"color\": \"white\"}}, {\"x\": [\"2016-11-05 14:22:26\", \"2016-11-05 15:02:26\"], \"y\": [5, 5], \"name\": \"\", \"marker\": {\"color\": \"white\"}}, {\"x\": [\"2016-11-05 14:38:12\", \"2016-11-05 15:03:12\"], \"y\": [2, 2], \"name\": \"\", \"marker\": {\"color\": \"white\"}}, {\"x\": [\"2016-11-05 14:38:12\", \"2016-11-05 15:46:12\"], \"y\": [1, 1], \"name\": \"\", \"marker\": {\"color\": \"white\"}}, {\"x\": [\"2016-11-05 14:46:12\", \"2016-11-05 15:50:12\"], \"y\": [3, 3], \"name\": \"\", \"marker\": {\"color\": \"white\"}}, {\"x\": [\"2016-11-05 15:03:12\", \"2016-11-05 16:07:12\"], \"y\": [2, 2], \"name\": \"\", \"marker\": {\"color\": \"white\"}}, {\"x\": [\"2016-11-05 15:03:50\", \"2016-11-05 16:11:50\"], \"y\": [0, 0], \"name\": \"\", \"marker\": {\"color\": \"white\"}}, {\"x\": [\"2016-11-05 15:04:54\", \"2016-11-05 15:44:54\"], \"y\": [5, 5], \"name\": \"\", \"marker\": {\"color\": \"white\"}}, {\"x\": [\"2016-11-05 15:46:22\", \"2016-11-05 16:54:22\"], \"y\": [1, 1], \"name\": \"\", \"marker\": {\"color\": \"white\"}}, {\"x\": [\"2016-11-05 15:47:22\", \"2016-11-05 16:27:22\"], \"y\": [5, 5], \"name\": \"\", \"marker\": {\"color\": \"white\"}}, {\"x\": [\"2016-11-05 15:51:36\", \"2016-11-05 16:11:36\"], \"y\": [4, 4], \"name\": \"\", \"marker\": {\"color\": \"white\"}}, {\"x\": [\"2016-11-05 16:13:00\", \"2016-11-05 16:38:00\"], \"y\": [3, 3], \"name\": \"\", \"marker\": {\"color\": \"white\"}}, {\"x\": [\"2016-11-05 16:15:18\", \"2016-11-05 16:35:18\"], \"y\": [4, 4], \"name\": \"\", \"marker\": {\"color\": \"white\"}}, {\"x\": [\"2016-11-05 16:28:46\", \"2016-11-05 17:36:46\"], \"y\": [2, 2], \"name\": \"\", \"marker\": {\"color\": \"white\"}}, {\"x\": [\"2016-11-05 16:29:50\", \"2016-11-05 17:09:50\"], \"y\": [5, 5], \"name\": \"\", \"marker\": {\"color\": \"white\"}}, {\"x\": [\"2016-11-05 16:38:00\", \"2016-11-05 17:42:00\"], \"y\": [3, 3], \"name\": \"\", \"marker\": {\"color\": \"white\"}}, {\"x\": [\"2016-11-05 17:12:18\", \"2016-11-05 17:52:18\"], \"y\": [5, 5], \"name\": \"\", \"marker\": {\"color\": \"white\"}}, {\"x\": [\"2016-11-05 17:42:10\", \"2016-11-05 18:07:10\"], \"y\": [3, 3], \"name\": \"\", \"marker\": {\"color\": \"white\"}}, {\"x\": [\"2016-11-05 17:42:10\", \"2016-11-05 18:50:10\"], \"y\": [0, 0], \"name\": \"\", \"marker\": {\"color\": \"white\"}}, {\"x\": [\"2016-11-05 17:43:24\", \"2016-11-05 18:03:24\"], \"y\": [4, 4], \"name\": \"\", \"marker\": {\"color\": \"white\"}}, {\"x\": [\"2016-11-05 17:53:42\", \"2016-11-05 19:01:42\"], \"y\": [1, 1], \"name\": \"\", \"marker\": {\"color\": \"white\"}}, {\"x\": [\"2016-11-05 17:54:46\", \"2016-11-05 18:34:46\"], \"y\": [5, 5], \"name\": \"\", \"marker\": {\"color\": \"white\"}}, {\"x\": [\"2016-11-05 18:04:48\", \"2016-11-05 18:29:48\"], \"y\": [2, 2], \"name\": \"\", \"marker\": {\"color\": \"white\"}}, {\"x\": [\"2016-11-05 18:07:10\", \"2016-11-05 19:11:10\"], \"y\": [3, 3], \"name\": \"\", \"marker\": {\"color\": \"white\"}}, {\"x\": [\"2016-11-05 18:29:48\", \"2016-11-05 19:33:48\"], \"y\": [2, 2], \"name\": \"\", \"marker\": {\"color\": \"white\"}}, {\"x\": [\"2016-11-05 18:37:14\", \"2016-11-05 19:17:14\"], \"y\": [5, 5], \"name\": \"\", \"marker\": {\"color\": \"white\"}}, {\"x\": [\"2016-11-05 19:01:52\", \"2016-11-05 20:09:52\"], \"y\": [1, 1], \"name\": \"\", \"marker\": {\"color\": \"white\"}}, {\"x\": [\"2016-11-05 19:12:34\", \"2016-11-05 19:32:34\"], \"y\": [4, 4], \"name\": \"\", \"marker\": {\"color\": \"white\"}}, {\"x\": [\"2016-11-05 19:18:38\", \"2016-11-05 20:26:38\"], \"y\": [3, 3], \"name\": \"\", \"marker\": {\"color\": \"white\"}}, {\"x\": [\"2016-11-05 19:19:42\", \"2016-11-05 19:59:42\"], \"y\": [5, 5], \"name\": \"\", \"marker\": {\"color\": \"white\"}}, {\"x\": [\"2016-11-05 19:35:12\", \"2016-11-05 19:55:12\"], \"y\": [4, 4], \"name\": \"\", \"marker\": {\"color\": \"white\"}}, {\"x\": [\"2016-11-05 19:56:36\", \"2016-11-05 20:21:36\"], \"y\": [2, 2], \"name\": \"\", \"marker\": {\"color\": \"white\"}}, {\"x\": [\"2016-11-05 20:02:10\", \"2016-11-05 20:42:10\"], \"y\": [5, 5], \"name\": \"\", \"marker\": {\"color\": \"white\"}}, {\"x\": [\"2016-11-05 20:21:36\", \"2016-11-05 21:25:36\"], \"y\": [2, 2], \"name\": \"\", \"marker\": {\"color\": \"white\"}}, {\"x\": [\"2016-11-05 20:26:48\", \"2016-11-05 20:51:48\"], \"y\": [3, 3], \"name\": \"\", \"marker\": {\"color\": \"white\"}}, {\"x\": [\"2016-11-05 20:26:48\", \"2016-11-05 21:34:48\"], \"y\": [0, 0], \"name\": \"\", \"marker\": {\"color\": \"white\"}}, {\"x\": [\"2016-11-05 20:43:34\", \"2016-11-05 21:51:34\"], \"y\": [1, 1], \"name\": \"\", \"marker\": {\"color\": \"white\"}}, {\"x\": [\"2016-11-05 20:44:38\", \"2016-11-05 21:24:38\"], \"y\": [5, 5], \"name\": \"\", \"marker\": {\"color\": \"white\"}}, {\"x\": [\"2016-11-05 20:51:48\", \"2016-11-05 21:55:48\"], \"y\": [3, 3], \"name\": \"\", \"marker\": {\"color\": \"white\"}}, {\"x\": [\"2016-11-05 21:27:06\", \"2016-11-05 21:47:06\"], \"y\": [4, 4], \"name\": \"\", \"marker\": {\"color\": \"white\"}}, {\"x\": [\"2016-11-05 21:28:20\", \"2016-11-05 22:08:20\"], \"y\": [5, 5], \"name\": \"\", \"marker\": {\"color\": \"white\"}}, {\"x\": [\"2016-11-05 21:34:58\", \"2016-11-05 22:42:58\"], \"y\": [0, 0], \"name\": \"\", \"marker\": {\"color\": \"white\"}}, {\"x\": [\"2016-11-05 21:48:30\", \"2016-11-05 22:13:30\"], \"y\": [2, 2], \"name\": \"\", \"marker\": {\"color\": \"white\"}}, {\"x\": [\"2016-11-05 21:57:12\", \"2016-11-05 22:17:12\"], \"y\": [4, 4], \"name\": \"\", \"marker\": {\"color\": \"white\"}}, {\"x\": [\"2016-11-05 22:09:44\", \"2016-11-05 23:17:44\"], \"y\": [3, 3], \"name\": \"\", \"marker\": {\"color\": \"white\"}}, {\"x\": [\"2016-11-05 22:10:48\", \"2016-11-05 22:50:48\"], \"y\": [5, 5], \"name\": \"\", \"marker\": {\"color\": \"white\"}}, {\"x\": [\"2016-11-05 22:13:30\", \"2016-11-05 23:17:30\"], \"y\": [2, 2], \"name\": \"\", \"marker\": {\"color\": \"white\"}}, {\"x\": [\"2016-11-05 22:53:16\", \"2016-11-05 23:33:16\"], \"y\": [5, 5], \"name\": \"\", \"marker\": {\"color\": \"white\"}}, {\"x\": [\"2016-11-05 23:17:54\", \"2016-11-05 23:42:54\"], \"y\": [3, 3], \"name\": \"\", \"marker\": {\"color\": \"white\"}}, {\"x\": [\"2016-11-05 23:17:54\", \"2016-11-06 00:25:54\"], \"y\": [1, 1], \"name\": \"\", \"marker\": {\"color\": \"white\"}}, {\"x\": [\"2016-11-05 23:18:54\", \"2016-11-05 23:38:54\"], \"y\": [4, 4], \"name\": \"\", \"marker\": {\"color\": \"white\"}}, {\"x\": [\"2016-11-05 23:34:40\", \"2016-11-06 00:42:40\"], \"y\": [2, 2], \"name\": \"\", \"marker\": {\"color\": \"white\"}}, {\"x\": [\"2016-11-05 23:35:44\", \"2016-11-06 00:15:44\"], \"y\": [5, 5], \"name\": \"\", \"marker\": {\"color\": \"white\"}}, {\"x\": [\"2016-11-05 23:42:54\", \"2016-11-06 00:46:54\"], \"y\": [3, 3], \"name\": \"\", \"marker\": {\"color\": \"white\"}}, {\"x\": [\"2016-11-06 00:18:12\", \"2016-11-06 00:58:12\"], \"y\": [5, 5], \"name\": \"\", \"marker\": {\"color\": \"white\"}}, {\"x\": [\"2016-11-06 00:47:04\", \"2016-11-06 01:12:04\"], \"y\": [3, 3], \"name\": \"\", \"marker\": {\"color\": \"white\"}}, {\"x\": [\"2016-11-06 00:47:04\", \"2016-11-06 01:55:04\"], \"y\": [0, 0], \"name\": \"\", \"marker\": {\"color\": \"white\"}}, {\"x\": [\"2016-11-06 00:48:18\", \"2016-11-06 01:08:18\"], \"y\": [4, 4], \"name\": \"\", \"marker\": {\"color\": \"white\"}}, {\"x\": [\"2016-11-06 00:59:36\", \"2016-11-06 02:07:36\"], \"y\": [1, 1], \"name\": \"\", \"marker\": {\"color\": \"white\"}}, {\"x\": [\"2016-11-06 01:00:40\", \"2016-11-06 01:40:40\"], \"y\": [5, 5], \"name\": \"\", \"marker\": {\"color\": \"white\"}}, {\"x\": [\"2016-11-06 01:09:42\", \"2016-11-06 01:34:42\"], \"y\": [2, 2], \"name\": \"\", \"marker\": {\"color\": \"white\"}}, {\"x\": [\"2016-11-06 01:12:04\", \"2016-11-06 02:16:04\"], \"y\": [3, 3], \"name\": \"\", \"marker\": {\"color\": \"white\"}}, {\"x\": [\"2016-11-06 01:34:42\", \"2016-11-06 02:38:42\"], \"y\": [2, 2], \"name\": \"\", \"marker\": {\"color\": \"white\"}}, {\"x\": [\"2016-11-06 01:43:08\", \"2016-11-06 02:23:08\"], \"y\": [5, 5], \"name\": \"\", \"marker\": {\"color\": \"white\"}}, {\"x\": [\"2016-11-06 02:16:14\", \"2016-11-06 03:24:14\"], \"y\": [3, 3], \"name\": \"\", \"marker\": {\"color\": \"white\"}}, {\"x\": [\"2016-11-06 02:17:28\", \"2016-11-06 02:37:28\"], \"y\": [4, 4], \"name\": \"\", \"marker\": {\"color\": \"white\"}}, {\"x\": [\"2016-11-06 02:24:32\", \"2016-11-06 03:32:32\"], \"y\": [0, 0], \"name\": \"\", \"marker\": {\"color\": \"white\"}}, {\"x\": [\"2016-11-06 02:25:36\", \"2016-11-06 03:05:36\"], \"y\": [5, 5], \"name\": \"\", \"marker\": {\"color\": \"white\"}}, {\"x\": [\"2016-11-06 02:38:52\", \"2016-11-06 03:03:52\"], \"y\": [2, 2], \"name\": \"\", \"marker\": {\"color\": \"white\"}}, {\"x\": [\"2016-11-06 02:40:06\", \"2016-11-06 03:00:06\"], \"y\": [4, 4], \"name\": \"\", \"marker\": {\"color\": \"white\"}}, {\"x\": [\"2016-11-06 03:03:52\", \"2016-11-06 04:07:52\"], \"y\": [2, 2], \"name\": \"\", \"marker\": {\"color\": \"white\"}}, {\"x\": [\"2016-11-06 03:08:04\", \"2016-11-06 03:48:04\"], \"y\": [5, 5], \"name\": \"\", \"marker\": {\"color\": \"white\"}}, {\"x\": [\"2016-11-06 04:08:02\", \"2016-11-06 04:33:02\"], \"y\": [2, 2], \"name\": \"\", \"marker\": {\"color\": \"white\"}}, {\"x\": [\"2016-11-06 04:08:02\", \"2016-11-06 05:16:02\"], \"y\": [1, 1], \"name\": \"\", \"marker\": {\"color\": \"white\"}}, {\"x\": [\"2016-11-06 04:08:02\", \"2016-11-06 05:16:02\"], \"y\": [0, 0], \"name\": \"\", \"marker\": {\"color\": \"white\"}}, {\"x\": [\"2016-11-06 04:09:16\", \"2016-11-06 04:29:16\"], \"y\": [4, 4], \"name\": \"\", \"marker\": {\"color\": \"white\"}}, {\"x\": [\"2016-11-06 04:10:30\", \"2016-11-06 04:50:30\"], \"y\": [5, 5], \"name\": \"\", \"marker\": {\"color\": \"white\"}}, {\"x\": [\"2016-11-06 04:30:40\", \"2016-11-06 04:55:40\"], \"y\": [3, 3], \"name\": \"\", \"marker\": {\"color\": \"white\"}}, {\"x\": [\"2016-11-06 04:33:02\", \"2016-11-06 05:37:02\"], \"y\": [2, 2], \"name\": \"\", \"marker\": {\"color\": \"white\"}}, {\"x\": [\"2016-11-06 04:52:58\", \"2016-11-06 05:32:58\"], \"y\": [5, 5], \"name\": \"\", \"marker\": {\"color\": \"white\"}}, {\"x\": [\"2016-11-06 04:55:40\", \"2016-11-06 05:59:40\"], \"y\": [3, 3], \"name\": \"\", \"marker\": {\"color\": \"white\"}}, {\"x\": [\"2016-11-06 05:16:12\", \"2016-11-06 06:24:12\"], \"y\": [1, 1], \"name\": \"\", \"marker\": {\"color\": \"white\"}}, {\"x\": [\"2016-11-06 05:34:22\", \"2016-11-06 06:42:22\"], \"y\": [0, 0], \"name\": \"\", \"marker\": {\"color\": \"white\"}}, {\"x\": [\"2016-11-06 05:35:26\", \"2016-11-06 06:15:26\"], \"y\": [5, 5], \"name\": \"\", \"marker\": {\"color\": \"white\"}}, {\"x\": [\"2016-11-06 05:38:26\", \"2016-11-06 05:58:26\"], \"y\": [4, 4], \"name\": \"\", \"marker\": {\"color\": \"white\"}}, {\"x\": [\"2016-11-06 05:59:50\", \"2016-11-06 06:24:50\"], \"y\": [2, 2], \"name\": \"\", \"marker\": {\"color\": \"white\"}}, {\"x\": [\"2016-11-06 06:01:04\", \"2016-11-06 06:21:04\"], \"y\": [4, 4], \"name\": \"\", \"marker\": {\"color\": \"white\"}}, {\"x\": [\"2016-11-06 06:16:50\", \"2016-11-06 07:24:50\"], \"y\": [3, 3], \"name\": \"\", \"marker\": {\"color\": \"white\"}}, {\"x\": [\"2016-11-06 06:17:54\", \"2016-11-06 06:57:54\"], \"y\": [5, 5], \"name\": \"\", \"marker\": {\"color\": \"white\"}}, {\"x\": [\"2016-11-06 06:24:50\", \"2016-11-06 07:28:50\"], \"y\": [2, 2], \"name\": \"\", \"marker\": {\"color\": \"white\"}}, {\"x\": [\"2016-11-06 07:29:00\", \"2016-11-06 07:54:00\"], \"y\": [2, 2], \"name\": \"\", \"marker\": {\"color\": \"white\"}}, {\"x\": [\"2016-11-06 07:29:00\", \"2016-11-06 08:37:00\"], \"y\": [3, 3], \"name\": \"\", \"marker\": {\"color\": \"white\"}}, {\"x\": [\"2016-11-06 07:30:14\", \"2016-11-06 07:50:14\"], \"y\": [4, 4], \"name\": \"\", \"marker\": {\"color\": \"white\"}}, {\"x\": [\"2016-11-06 07:31:28\", \"2016-11-06 08:11:28\"], \"y\": [5, 5], \"name\": \"\", \"marker\": {\"color\": \"white\"}}, {\"x\": [\"2016-11-06 07:54:00\", \"2016-11-06 08:58:00\"], \"y\": [2, 2], \"name\": \"\", \"marker\": {\"color\": \"white\"}}, {\"x\": [\"2016-11-06 08:13:56\", \"2016-11-06 08:33:56\"], \"y\": [5, 5], \"name\": \"\", \"marker\": {\"color\": \"white\"}}, {\"x\": [\"2016-11-06 08:36:24\", \"2016-11-06 08:56:24\"], \"y\": [5, 5], \"name\": \"\", \"marker\": {\"color\": \"white\"}}, {\"x\": [\"2016-11-06 08:37:10\", \"2016-11-06 09:02:10\"], \"y\": [3, 3], \"name\": \"\", \"marker\": {\"color\": \"white\"}}, {\"x\": [\"2016-11-06 08:37:10\", \"2016-11-06 09:45:10\"], \"y\": [0, 0], \"name\": \"\", \"marker\": {\"color\": \"white\"}}, {\"x\": [\"2016-11-06 08:58:52\", \"2016-11-06 09:18:52\"], \"y\": [5, 5], \"name\": \"\", \"marker\": {\"color\": \"white\"}}, {\"x\": [\"2016-11-06 09:00:06\", \"2016-11-06 09:15:06\"], \"y\": [4, 4], \"name\": \"\", \"marker\": {\"color\": \"white\"}}, {\"x\": [\"2016-11-06 09:02:10\", \"2016-11-06 10:06:10\"], \"y\": [3, 3], \"name\": \"\", \"marker\": {\"color\": \"white\"}}, {\"x\": [\"2016-11-06 09:16:30\", \"2016-11-06 09:41:30\"], \"y\": [2, 2], \"name\": \"\", \"marker\": {\"color\": \"white\"}}, {\"x\": [\"2016-11-06 09:42:54\", \"2016-11-06 09:47:54\"], \"y\": [4, 4], \"name\": \"\", \"marker\": {\"color\": \"white\"}}, {\"x\": [\"2016-11-06 09:46:34\", \"2016-11-06 10:06:34\"], \"y\": [5, 5], \"name\": \"\", \"marker\": {\"color\": \"white\"}}, {\"x\": [\"2016-11-06 10:07:34\", \"2016-11-06 10:22:34\"], \"y\": [4, 4], \"name\": \"\", \"marker\": {\"color\": \"white\"}}, {\"x\": [\"2016-11-06 10:23:58\", \"2016-11-06 10:48:58\"], \"y\": [2, 2], \"name\": \"\", \"marker\": {\"color\": \"white\"}}, {\"x\": [\"2016-11-06 10:50:22\", \"2016-11-06 10:55:22\"], \"y\": [4, 4], \"name\": \"\", \"marker\": {\"color\": \"white\"}}], {\"title\": \"Gantt Chart\", \"showlegend\": false, \"height\": 600, \"width\": 900, \"shapes\": [{\"x0\": \"2016-11-05 12:01:14\", \"x1\": \"2016-11-05 12:21:14\", \"type\": \"rect\", \"xref\": \"x\", \"yref\": \"y\", \"opacity\": 1, \"line\": {\"width\": 0}, \"y0\": 4.8, \"y1\": 5.2, \"fillcolor\": \"rgb(31, 119, 180)\"}, {\"x0\": \"2016-11-05 12:02:28\", \"x1\": \"2016-11-05 12:07:28\", \"type\": \"rect\", \"xref\": \"x\", \"yref\": \"y\", \"opacity\": 1, \"line\": {\"width\": 0}, \"y0\": 3.8, \"y1\": 4.2, \"fillcolor\": \"rgb(31, 119, 180)\"}, {\"x0\": \"2016-11-05 12:08:52\", \"x1\": \"2016-11-05 13:12:52\", \"type\": \"rect\", \"xref\": \"x\", \"yref\": \"y\", \"opacity\": 1, \"line\": {\"width\": 0}, \"y0\": 2.8, \"y1\": 3.2, \"fillcolor\": \"rgb(255, 127, 14)\"}, {\"x0\": \"2016-11-05 12:09:56\", \"x1\": \"2016-11-05 12:14:56\", \"type\": \"rect\", \"xref\": \"x\", \"yref\": \"y\", \"opacity\": 1, \"line\": {\"width\": 0}, \"y0\": 3.8, \"y1\": 4.2, \"fillcolor\": \"rgb(31, 119, 180)\"}, {\"x0\": \"2016-11-05 12:16:20\", \"x1\": \"2016-11-05 13:20:20\", \"type\": \"rect\", \"xref\": \"x\", \"yref\": \"y\", \"opacity\": 1, \"line\": {\"width\": 0}, \"y0\": 1.8, \"y1\": 2.2, \"fillcolor\": \"rgb(255, 127, 14)\"}, {\"x0\": \"2016-11-05 12:22:38\", \"x1\": \"2016-11-05 13:30:38\", \"type\": \"rect\", \"xref\": \"x\", \"yref\": \"y\", \"opacity\": 1, \"line\": {\"width\": 0}, \"y0\": 0.8, \"y1\": 1.2, \"fillcolor\": \"rgb(255, 127, 14)\"}, {\"x0\": \"2016-11-05 12:23:42\", \"x1\": \"2016-11-05 12:43:42\", \"type\": \"rect\", \"xref\": \"x\", \"yref\": \"y\", \"opacity\": 1, \"line\": {\"width\": 0}, \"y0\": 4.8, \"y1\": 5.2, \"fillcolor\": \"rgb(31, 119, 180)\"}, {\"x0\": \"2016-11-05 12:45:06\", \"x1\": \"2016-11-05 13:53:06\", \"type\": \"rect\", \"xref\": \"x\", \"yref\": \"y\", \"opacity\": 1, \"line\": {\"width\": 0}, \"y0\": -0.2, \"y1\": 0.2, \"fillcolor\": \"rgb(255, 127, 14)\"}, {\"x0\": \"2016-11-05 12:46:10\", \"x1\": \"2016-11-05 13:06:10\", \"type\": \"rect\", \"xref\": \"x\", \"yref\": \"y\", \"opacity\": 1, \"line\": {\"width\": 0}, \"y0\": 4.8, \"y1\": 5.2, \"fillcolor\": \"rgb(31, 119, 180)\"}, {\"x0\": \"2016-11-05 13:08:38\", \"x1\": \"2016-11-05 13:28:38\", \"type\": \"rect\", \"xref\": \"x\", \"yref\": \"y\", \"opacity\": 1, \"line\": {\"width\": 0}, \"y0\": 4.8, \"y1\": 5.2, \"fillcolor\": \"rgb(31, 119, 180)\"}, {\"x0\": \"2016-11-05 13:13:02\", \"x1\": \"2016-11-05 14:21:02\", \"type\": \"rect\", \"xref\": \"x\", \"yref\": \"y\", \"opacity\": 1, \"line\": {\"width\": 0}, \"y0\": 2.8, \"y1\": 3.2, \"fillcolor\": \"rgb(255, 127, 14)\"}, {\"x0\": \"2016-11-05 13:14:16\", \"x1\": \"2016-11-05 13:29:16\", \"type\": \"rect\", \"xref\": \"x\", \"yref\": \"y\", \"opacity\": 1, \"line\": {\"width\": 0}, \"y0\": 3.8, \"y1\": 4.2, \"fillcolor\": \"rgb(31, 119, 180)\"}, {\"x0\": \"2016-11-05 13:30:02\", \"x1\": \"2016-11-05 14:38:02\", \"type\": \"rect\", \"xref\": \"x\", \"yref\": \"y\", \"opacity\": 1, \"line\": {\"width\": 0}, \"y0\": 1.8, \"y1\": 2.2, \"fillcolor\": \"rgb(255, 127, 14)\"}, {\"x0\": \"2016-11-05 13:32:20\", \"x1\": \"2016-11-05 14:12:20\", \"type\": \"rect\", \"xref\": \"x\", \"yref\": \"y\", \"opacity\": 1, \"line\": {\"width\": 0}, \"y0\": 4.8, \"y1\": 5.2, \"fillcolor\": \"rgb(31, 119, 180)\"}, {\"x0\": \"2016-11-05 13:33:34\", \"x1\": \"2016-11-05 13:48:34\", \"type\": \"rect\", \"xref\": \"x\", \"yref\": \"y\", \"opacity\": 1, \"line\": {\"width\": 0}, \"y0\": 3.8, \"y1\": 4.2, \"fillcolor\": \"rgb(31, 119, 180)\"}, {\"x0\": \"2016-11-05 14:21:12\", \"x1\": \"2016-11-05 14:46:12\", \"type\": \"rect\", \"xref\": \"x\", \"yref\": \"y\", \"opacity\": 1, \"line\": {\"width\": 0}, \"y0\": 2.8, \"y1\": 3.2, \"fillcolor\": \"rgb(255, 127, 14)\"}, {\"x0\": \"2016-11-05 14:22:26\", \"x1\": \"2016-11-05 15:02:26\", \"type\": \"rect\", \"xref\": \"x\", \"yref\": \"y\", \"opacity\": 1, \"line\": {\"width\": 0}, \"y0\": 4.8, \"y1\": 5.2, \"fillcolor\": \"rgb(31, 119, 180)\"}, {\"x0\": \"2016-11-05 14:38:12\", \"x1\": \"2016-11-05 15:03:12\", \"type\": \"rect\", \"xref\": \"x\", \"yref\": \"y\", \"opacity\": 1, \"line\": {\"width\": 0}, \"y0\": 1.8, \"y1\": 2.2, \"fillcolor\": \"rgb(255, 127, 14)\"}, {\"x0\": \"2016-11-05 14:38:12\", \"x1\": \"2016-11-05 15:46:12\", \"type\": \"rect\", \"xref\": \"x\", \"yref\": \"y\", \"opacity\": 1, \"line\": {\"width\": 0}, \"y0\": 0.8, \"y1\": 1.2, \"fillcolor\": \"rgb(255, 127, 14)\"}, {\"x0\": \"2016-11-05 14:46:12\", \"x1\": \"2016-11-05 15:50:12\", \"type\": \"rect\", \"xref\": \"x\", \"yref\": \"y\", \"opacity\": 1, \"line\": {\"width\": 0}, \"y0\": 2.8, \"y1\": 3.2, \"fillcolor\": \"rgb(255, 127, 14)\"}, {\"x0\": \"2016-11-05 15:03:12\", \"x1\": \"2016-11-05 16:07:12\", \"type\": \"rect\", \"xref\": \"x\", \"yref\": \"y\", \"opacity\": 1, \"line\": {\"width\": 0}, \"y0\": 1.8, \"y1\": 2.2, \"fillcolor\": \"rgb(255, 127, 14)\"}, {\"x0\": \"2016-11-05 15:03:50\", \"x1\": \"2016-11-05 16:11:50\", \"type\": \"rect\", \"xref\": \"x\", \"yref\": \"y\", \"opacity\": 1, \"line\": {\"width\": 0}, \"y0\": -0.2, \"y1\": 0.2, \"fillcolor\": \"rgb(255, 127, 14)\"}, {\"x0\": \"2016-11-05 15:04:54\", \"x1\": \"2016-11-05 15:44:54\", \"type\": \"rect\", \"xref\": \"x\", \"yref\": \"y\", \"opacity\": 1, \"line\": {\"width\": 0}, \"y0\": 4.8, \"y1\": 5.2, \"fillcolor\": \"rgb(31, 119, 180)\"}, {\"x0\": \"2016-11-05 15:46:22\", \"x1\": \"2016-11-05 16:54:22\", \"type\": \"rect\", \"xref\": \"x\", \"yref\": \"y\", \"opacity\": 1, \"line\": {\"width\": 0}, \"y0\": 0.8, \"y1\": 1.2, \"fillcolor\": \"rgb(255, 127, 14)\"}, {\"x0\": \"2016-11-05 15:47:22\", \"x1\": \"2016-11-05 16:27:22\", \"type\": \"rect\", \"xref\": \"x\", \"yref\": \"y\", \"opacity\": 1, \"line\": {\"width\": 0}, \"y0\": 4.8, \"y1\": 5.2, \"fillcolor\": \"rgb(31, 119, 180)\"}, {\"x0\": \"2016-11-05 15:51:36\", \"x1\": \"2016-11-05 16:11:36\", \"type\": \"rect\", \"xref\": \"x\", \"yref\": \"y\", \"opacity\": 1, \"line\": {\"width\": 0}, \"y0\": 3.8, \"y1\": 4.2, \"fillcolor\": \"rgb(31, 119, 180)\"}, {\"x0\": \"2016-11-05 16:13:00\", \"x1\": \"2016-11-05 16:38:00\", \"type\": \"rect\", \"xref\": \"x\", \"yref\": \"y\", \"opacity\": 1, \"line\": {\"width\": 0}, \"y0\": 2.8, \"y1\": 3.2, \"fillcolor\": \"rgb(255, 127, 14)\"}, {\"x0\": \"2016-11-05 16:15:18\", \"x1\": \"2016-11-05 16:35:18\", \"type\": \"rect\", \"xref\": \"x\", \"yref\": \"y\", \"opacity\": 1, \"line\": {\"width\": 0}, \"y0\": 3.8, \"y1\": 4.2, \"fillcolor\": \"rgb(31, 119, 180)\"}, {\"x0\": \"2016-11-05 16:28:46\", \"x1\": \"2016-11-05 17:36:46\", \"type\": \"rect\", \"xref\": \"x\", \"yref\": \"y\", \"opacity\": 1, \"line\": {\"width\": 0}, \"y0\": 1.8, \"y1\": 2.2, \"fillcolor\": \"rgb(255, 127, 14)\"}, {\"x0\": \"2016-11-05 16:29:50\", \"x1\": \"2016-11-05 17:09:50\", \"type\": \"rect\", \"xref\": \"x\", \"yref\": \"y\", \"opacity\": 1, \"line\": {\"width\": 0}, \"y0\": 4.8, \"y1\": 5.2, \"fillcolor\": \"rgb(31, 119, 180)\"}, {\"x0\": \"2016-11-05 16:38:00\", \"x1\": \"2016-11-05 17:42:00\", \"type\": \"rect\", \"xref\": \"x\", \"yref\": \"y\", \"opacity\": 1, \"line\": {\"width\": 0}, \"y0\": 2.8, \"y1\": 3.2, \"fillcolor\": \"rgb(255, 127, 14)\"}, {\"x0\": \"2016-11-05 17:12:18\", \"x1\": \"2016-11-05 17:52:18\", \"type\": \"rect\", \"xref\": \"x\", \"yref\": \"y\", \"opacity\": 1, \"line\": {\"width\": 0}, \"y0\": 4.8, \"y1\": 5.2, \"fillcolor\": \"rgb(31, 119, 180)\"}, {\"x0\": \"2016-11-05 17:42:10\", \"x1\": \"2016-11-05 18:07:10\", \"type\": \"rect\", \"xref\": \"x\", \"yref\": \"y\", \"opacity\": 1, \"line\": {\"width\": 0}, \"y0\": 2.8, \"y1\": 3.2, \"fillcolor\": \"rgb(255, 127, 14)\"}, {\"x0\": \"2016-11-05 17:42:10\", \"x1\": \"2016-11-05 18:50:10\", \"type\": \"rect\", \"xref\": \"x\", \"yref\": \"y\", \"opacity\": 1, \"line\": {\"width\": 0}, \"y0\": -0.2, \"y1\": 0.2, \"fillcolor\": \"rgb(255, 127, 14)\"}, {\"x0\": \"2016-11-05 17:43:24\", \"x1\": \"2016-11-05 18:03:24\", \"type\": \"rect\", \"xref\": \"x\", \"yref\": \"y\", \"opacity\": 1, \"line\": {\"width\": 0}, \"y0\": 3.8, \"y1\": 4.2, \"fillcolor\": \"rgb(31, 119, 180)\"}, {\"x0\": \"2016-11-05 17:53:42\", \"x1\": \"2016-11-05 19:01:42\", \"type\": \"rect\", \"xref\": \"x\", \"yref\": \"y\", \"opacity\": 1, \"line\": {\"width\": 0}, \"y0\": 0.8, \"y1\": 1.2, \"fillcolor\": \"rgb(255, 127, 14)\"}, {\"x0\": \"2016-11-05 17:54:46\", \"x1\": \"2016-11-05 18:34:46\", \"type\": \"rect\", \"xref\": \"x\", \"yref\": \"y\", \"opacity\": 1, \"line\": {\"width\": 0}, \"y0\": 4.8, \"y1\": 5.2, \"fillcolor\": \"rgb(31, 119, 180)\"}, {\"x0\": \"2016-11-05 18:04:48\", \"x1\": \"2016-11-05 18:29:48\", \"type\": \"rect\", \"xref\": \"x\", \"yref\": \"y\", \"opacity\": 1, \"line\": {\"width\": 0}, \"y0\": 1.8, \"y1\": 2.2, \"fillcolor\": \"rgb(255, 127, 14)\"}, {\"x0\": \"2016-11-05 18:07:10\", \"x1\": \"2016-11-05 19:11:10\", \"type\": \"rect\", \"xref\": \"x\", \"yref\": \"y\", \"opacity\": 1, \"line\": {\"width\": 0}, \"y0\": 2.8, \"y1\": 3.2, \"fillcolor\": \"rgb(255, 127, 14)\"}, {\"x0\": \"2016-11-05 18:29:48\", \"x1\": \"2016-11-05 19:33:48\", \"type\": \"rect\", \"xref\": \"x\", \"yref\": \"y\", \"opacity\": 1, \"line\": {\"width\": 0}, \"y0\": 1.8, \"y1\": 2.2, \"fillcolor\": \"rgb(255, 127, 14)\"}, {\"x0\": \"2016-11-05 18:37:14\", \"x1\": \"2016-11-05 19:17:14\", \"type\": \"rect\", \"xref\": \"x\", \"yref\": \"y\", \"opacity\": 1, \"line\": {\"width\": 0}, \"y0\": 4.8, \"y1\": 5.2, \"fillcolor\": \"rgb(31, 119, 180)\"}, {\"x0\": \"2016-11-05 19:01:52\", \"x1\": \"2016-11-05 20:09:52\", \"type\": \"rect\", \"xref\": \"x\", \"yref\": \"y\", \"opacity\": 1, \"line\": {\"width\": 0}, \"y0\": 0.8, \"y1\": 1.2, \"fillcolor\": \"rgb(255, 127, 14)\"}, {\"x0\": \"2016-11-05 19:12:34\", \"x1\": \"2016-11-05 19:32:34\", \"type\": \"rect\", \"xref\": \"x\", \"yref\": \"y\", \"opacity\": 1, \"line\": {\"width\": 0}, \"y0\": 3.8, \"y1\": 4.2, \"fillcolor\": \"rgb(31, 119, 180)\"}, {\"x0\": \"2016-11-05 19:18:38\", \"x1\": \"2016-11-05 20:26:38\", \"type\": \"rect\", \"xref\": \"x\", \"yref\": \"y\", \"opacity\": 1, \"line\": {\"width\": 0}, \"y0\": 2.8, \"y1\": 3.2, \"fillcolor\": \"rgb(255, 127, 14)\"}, {\"x0\": \"2016-11-05 19:19:42\", \"x1\": \"2016-11-05 19:59:42\", \"type\": \"rect\", \"xref\": \"x\", \"yref\": \"y\", \"opacity\": 1, \"line\": {\"width\": 0}, \"y0\": 4.8, \"y1\": 5.2, \"fillcolor\": \"rgb(31, 119, 180)\"}, {\"x0\": \"2016-11-05 19:35:12\", \"x1\": \"2016-11-05 19:55:12\", \"type\": \"rect\", \"xref\": \"x\", \"yref\": \"y\", \"opacity\": 1, \"line\": {\"width\": 0}, \"y0\": 3.8, \"y1\": 4.2, \"fillcolor\": \"rgb(31, 119, 180)\"}, {\"x0\": \"2016-11-05 19:56:36\", \"x1\": \"2016-11-05 20:21:36\", \"type\": \"rect\", \"xref\": \"x\", \"yref\": \"y\", \"opacity\": 1, \"line\": {\"width\": 0}, \"y0\": 1.8, \"y1\": 2.2, \"fillcolor\": \"rgb(255, 127, 14)\"}, {\"x0\": \"2016-11-05 20:02:10\", \"x1\": \"2016-11-05 20:42:10\", \"type\": \"rect\", \"xref\": \"x\", \"yref\": \"y\", \"opacity\": 1, \"line\": {\"width\": 0}, \"y0\": 4.8, \"y1\": 5.2, \"fillcolor\": \"rgb(31, 119, 180)\"}, {\"x0\": \"2016-11-05 20:21:36\", \"x1\": \"2016-11-05 21:25:36\", \"type\": \"rect\", \"xref\": \"x\", \"yref\": \"y\", \"opacity\": 1, \"line\": {\"width\": 0}, \"y0\": 1.8, \"y1\": 2.2, \"fillcolor\": \"rgb(255, 127, 14)\"}, {\"x0\": \"2016-11-05 20:26:48\", \"x1\": \"2016-11-05 20:51:48\", \"type\": \"rect\", \"xref\": \"x\", \"yref\": \"y\", \"opacity\": 1, \"line\": {\"width\": 0}, \"y0\": 2.8, \"y1\": 3.2, \"fillcolor\": \"rgb(255, 127, 14)\"}, {\"x0\": \"2016-11-05 20:26:48\", \"x1\": \"2016-11-05 21:34:48\", \"type\": \"rect\", \"xref\": \"x\", \"yref\": \"y\", \"opacity\": 1, \"line\": {\"width\": 0}, \"y0\": -0.2, \"y1\": 0.2, \"fillcolor\": \"rgb(255, 127, 14)\"}, {\"x0\": \"2016-11-05 20:43:34\", \"x1\": \"2016-11-05 21:51:34\", \"type\": \"rect\", \"xref\": \"x\", \"yref\": \"y\", \"opacity\": 1, \"line\": {\"width\": 0}, \"y0\": 0.8, \"y1\": 1.2, \"fillcolor\": \"rgb(255, 127, 14)\"}, {\"x0\": \"2016-11-05 20:44:38\", \"x1\": \"2016-11-05 21:24:38\", \"type\": \"rect\", \"xref\": \"x\", \"yref\": \"y\", \"opacity\": 1, \"line\": {\"width\": 0}, \"y0\": 4.8, \"y1\": 5.2, \"fillcolor\": \"rgb(31, 119, 180)\"}, {\"x0\": \"2016-11-05 20:51:48\", \"x1\": \"2016-11-05 21:55:48\", \"type\": \"rect\", \"xref\": \"x\", \"yref\": \"y\", \"opacity\": 1, \"line\": {\"width\": 0}, \"y0\": 2.8, \"y1\": 3.2, \"fillcolor\": \"rgb(255, 127, 14)\"}, {\"x0\": \"2016-11-05 21:27:06\", \"x1\": \"2016-11-05 21:47:06\", \"type\": \"rect\", \"xref\": \"x\", \"yref\": \"y\", \"opacity\": 1, \"line\": {\"width\": 0}, \"y0\": 3.8, \"y1\": 4.2, \"fillcolor\": \"rgb(31, 119, 180)\"}, {\"x0\": \"2016-11-05 21:28:20\", \"x1\": \"2016-11-05 22:08:20\", \"type\": \"rect\", \"xref\": \"x\", \"yref\": \"y\", \"opacity\": 1, \"line\": {\"width\": 0}, \"y0\": 4.8, \"y1\": 5.2, \"fillcolor\": \"rgb(31, 119, 180)\"}, {\"x0\": \"2016-11-05 21:34:58\", \"x1\": \"2016-11-05 22:42:58\", \"type\": \"rect\", \"xref\": \"x\", \"yref\": \"y\", \"opacity\": 1, \"line\": {\"width\": 0}, \"y0\": -0.2, \"y1\": 0.2, \"fillcolor\": \"rgb(255, 127, 14)\"}, {\"x0\": \"2016-11-05 21:48:30\", \"x1\": \"2016-11-05 22:13:30\", \"type\": \"rect\", \"xref\": \"x\", \"yref\": \"y\", \"opacity\": 1, \"line\": {\"width\": 0}, \"y0\": 1.8, \"y1\": 2.2, \"fillcolor\": \"rgb(255, 127, 14)\"}, {\"x0\": \"2016-11-05 21:57:12\", \"x1\": \"2016-11-05 22:17:12\", \"type\": \"rect\", \"xref\": \"x\", \"yref\": \"y\", \"opacity\": 1, \"line\": {\"width\": 0}, \"y0\": 3.8, \"y1\": 4.2, \"fillcolor\": \"rgb(31, 119, 180)\"}, {\"x0\": \"2016-11-05 22:09:44\", \"x1\": \"2016-11-05 23:17:44\", \"type\": \"rect\", \"xref\": \"x\", \"yref\": \"y\", \"opacity\": 1, \"line\": {\"width\": 0}, \"y0\": 2.8, \"y1\": 3.2, \"fillcolor\": \"rgb(255, 127, 14)\"}, {\"x0\": \"2016-11-05 22:10:48\", \"x1\": \"2016-11-05 22:50:48\", \"type\": \"rect\", \"xref\": \"x\", \"yref\": \"y\", \"opacity\": 1, \"line\": {\"width\": 0}, \"y0\": 4.8, \"y1\": 5.2, \"fillcolor\": \"rgb(31, 119, 180)\"}, {\"x0\": \"2016-11-05 22:13:30\", \"x1\": \"2016-11-05 23:17:30\", \"type\": \"rect\", \"xref\": \"x\", \"yref\": \"y\", \"opacity\": 1, \"line\": {\"width\": 0}, \"y0\": 1.8, \"y1\": 2.2, \"fillcolor\": \"rgb(255, 127, 14)\"}, {\"x0\": \"2016-11-05 22:53:16\", \"x1\": \"2016-11-05 23:33:16\", \"type\": \"rect\", \"xref\": \"x\", \"yref\": \"y\", \"opacity\": 1, \"line\": {\"width\": 0}, \"y0\": 4.8, \"y1\": 5.2, \"fillcolor\": \"rgb(31, 119, 180)\"}, {\"x0\": \"2016-11-05 23:17:54\", \"x1\": \"2016-11-05 23:42:54\", \"type\": \"rect\", \"xref\": \"x\", \"yref\": \"y\", \"opacity\": 1, \"line\": {\"width\": 0}, \"y0\": 2.8, \"y1\": 3.2, \"fillcolor\": \"rgb(255, 127, 14)\"}, {\"x0\": \"2016-11-05 23:17:54\", \"x1\": \"2016-11-06 00:25:54\", \"type\": \"rect\", \"xref\": \"x\", \"yref\": \"y\", \"opacity\": 1, \"line\": {\"width\": 0}, \"y0\": 0.8, \"y1\": 1.2, \"fillcolor\": \"rgb(255, 127, 14)\"}, {\"x0\": \"2016-11-05 23:18:54\", \"x1\": \"2016-11-05 23:38:54\", \"type\": \"rect\", \"xref\": \"x\", \"yref\": \"y\", \"opacity\": 1, \"line\": {\"width\": 0}, \"y0\": 3.8, \"y1\": 4.2, \"fillcolor\": \"rgb(31, 119, 180)\"}, {\"x0\": \"2016-11-05 23:34:40\", \"x1\": \"2016-11-06 00:42:40\", \"type\": \"rect\", \"xref\": \"x\", \"yref\": \"y\", \"opacity\": 1, \"line\": {\"width\": 0}, \"y0\": 1.8, \"y1\": 2.2, \"fillcolor\": \"rgb(255, 127, 14)\"}, {\"x0\": \"2016-11-05 23:35:44\", \"x1\": \"2016-11-06 00:15:44\", \"type\": \"rect\", \"xref\": \"x\", \"yref\": \"y\", \"opacity\": 1, \"line\": {\"width\": 0}, \"y0\": 4.8, \"y1\": 5.2, \"fillcolor\": \"rgb(31, 119, 180)\"}, {\"x0\": \"2016-11-05 23:42:54\", \"x1\": \"2016-11-06 00:46:54\", \"type\": \"rect\", \"xref\": \"x\", \"yref\": \"y\", \"opacity\": 1, \"line\": {\"width\": 0}, \"y0\": 2.8, \"y1\": 3.2, \"fillcolor\": \"rgb(255, 127, 14)\"}, {\"x0\": \"2016-11-06 00:18:12\", \"x1\": \"2016-11-06 00:58:12\", \"type\": \"rect\", \"xref\": \"x\", \"yref\": \"y\", \"opacity\": 1, \"line\": {\"width\": 0}, \"y0\": 4.8, \"y1\": 5.2, \"fillcolor\": \"rgb(31, 119, 180)\"}, {\"x0\": \"2016-11-06 00:47:04\", \"x1\": \"2016-11-06 01:12:04\", \"type\": \"rect\", \"xref\": \"x\", \"yref\": \"y\", \"opacity\": 1, \"line\": {\"width\": 0}, \"y0\": 2.8, \"y1\": 3.2, \"fillcolor\": \"rgb(255, 127, 14)\"}, {\"x0\": \"2016-11-06 00:47:04\", \"x1\": \"2016-11-06 01:55:04\", \"type\": \"rect\", \"xref\": \"x\", \"yref\": \"y\", \"opacity\": 1, \"line\": {\"width\": 0}, \"y0\": -0.2, \"y1\": 0.2, \"fillcolor\": \"rgb(255, 127, 14)\"}, {\"x0\": \"2016-11-06 00:48:18\", \"x1\": \"2016-11-06 01:08:18\", \"type\": \"rect\", \"xref\": \"x\", \"yref\": \"y\", \"opacity\": 1, \"line\": {\"width\": 0}, \"y0\": 3.8, \"y1\": 4.2, \"fillcolor\": \"rgb(31, 119, 180)\"}, {\"x0\": \"2016-11-06 00:59:36\", \"x1\": \"2016-11-06 02:07:36\", \"type\": \"rect\", \"xref\": \"x\", \"yref\": \"y\", \"opacity\": 1, \"line\": {\"width\": 0}, \"y0\": 0.8, \"y1\": 1.2, \"fillcolor\": \"rgb(255, 127, 14)\"}, {\"x0\": \"2016-11-06 01:00:40\", \"x1\": \"2016-11-06 01:40:40\", \"type\": \"rect\", \"xref\": \"x\", \"yref\": \"y\", \"opacity\": 1, \"line\": {\"width\": 0}, \"y0\": 4.8, \"y1\": 5.2, \"fillcolor\": \"rgb(31, 119, 180)\"}, {\"x0\": \"2016-11-06 01:09:42\", \"x1\": \"2016-11-06 01:34:42\", \"type\": \"rect\", \"xref\": \"x\", \"yref\": \"y\", \"opacity\": 1, \"line\": {\"width\": 0}, \"y0\": 1.8, \"y1\": 2.2, \"fillcolor\": \"rgb(255, 127, 14)\"}, {\"x0\": \"2016-11-06 01:12:04\", \"x1\": \"2016-11-06 02:16:04\", \"type\": \"rect\", \"xref\": \"x\", \"yref\": \"y\", \"opacity\": 1, \"line\": {\"width\": 0}, \"y0\": 2.8, \"y1\": 3.2, \"fillcolor\": \"rgb(255, 127, 14)\"}, {\"x0\": \"2016-11-06 01:34:42\", \"x1\": \"2016-11-06 02:38:42\", \"type\": \"rect\", \"xref\": \"x\", \"yref\": \"y\", \"opacity\": 1, \"line\": {\"width\": 0}, \"y0\": 1.8, \"y1\": 2.2, \"fillcolor\": \"rgb(255, 127, 14)\"}, {\"x0\": \"2016-11-06 01:43:08\", \"x1\": \"2016-11-06 02:23:08\", \"type\": \"rect\", \"xref\": \"x\", \"yref\": \"y\", \"opacity\": 1, \"line\": {\"width\": 0}, \"y0\": 4.8, \"y1\": 5.2, \"fillcolor\": \"rgb(31, 119, 180)\"}, {\"x0\": \"2016-11-06 02:16:14\", \"x1\": \"2016-11-06 03:24:14\", \"type\": \"rect\", \"xref\": \"x\", \"yref\": \"y\", \"opacity\": 1, \"line\": {\"width\": 0}, \"y0\": 2.8, \"y1\": 3.2, \"fillcolor\": \"rgb(255, 127, 14)\"}, {\"x0\": \"2016-11-06 02:17:28\", \"x1\": \"2016-11-06 02:37:28\", \"type\": \"rect\", \"xref\": \"x\", \"yref\": \"y\", \"opacity\": 1, \"line\": {\"width\": 0}, \"y0\": 3.8, \"y1\": 4.2, \"fillcolor\": \"rgb(31, 119, 180)\"}, {\"x0\": \"2016-11-06 02:24:32\", \"x1\": \"2016-11-06 03:32:32\", \"type\": \"rect\", \"xref\": \"x\", \"yref\": \"y\", \"opacity\": 1, \"line\": {\"width\": 0}, \"y0\": -0.2, \"y1\": 0.2, \"fillcolor\": \"rgb(255, 127, 14)\"}, {\"x0\": \"2016-11-06 02:25:36\", \"x1\": \"2016-11-06 03:05:36\", \"type\": \"rect\", \"xref\": \"x\", \"yref\": \"y\", \"opacity\": 1, \"line\": {\"width\": 0}, \"y0\": 4.8, \"y1\": 5.2, \"fillcolor\": \"rgb(31, 119, 180)\"}, {\"x0\": \"2016-11-06 02:38:52\", \"x1\": \"2016-11-06 03:03:52\", \"type\": \"rect\", \"xref\": \"x\", \"yref\": \"y\", \"opacity\": 1, \"line\": {\"width\": 0}, \"y0\": 1.8, \"y1\": 2.2, \"fillcolor\": \"rgb(255, 127, 14)\"}, {\"x0\": \"2016-11-06 02:40:06\", \"x1\": \"2016-11-06 03:00:06\", \"type\": \"rect\", \"xref\": \"x\", \"yref\": \"y\", \"opacity\": 1, \"line\": {\"width\": 0}, \"y0\": 3.8, \"y1\": 4.2, \"fillcolor\": \"rgb(31, 119, 180)\"}, {\"x0\": \"2016-11-06 03:03:52\", \"x1\": \"2016-11-06 04:07:52\", \"type\": \"rect\", \"xref\": \"x\", \"yref\": \"y\", \"opacity\": 1, \"line\": {\"width\": 0}, \"y0\": 1.8, \"y1\": 2.2, \"fillcolor\": \"rgb(255, 127, 14)\"}, {\"x0\": \"2016-11-06 03:08:04\", \"x1\": \"2016-11-06 03:48:04\", \"type\": \"rect\", \"xref\": \"x\", \"yref\": \"y\", \"opacity\": 1, \"line\": {\"width\": 0}, \"y0\": 4.8, \"y1\": 5.2, \"fillcolor\": \"rgb(31, 119, 180)\"}, {\"x0\": \"2016-11-06 04:08:02\", \"x1\": \"2016-11-06 04:33:02\", \"type\": \"rect\", \"xref\": \"x\", \"yref\": \"y\", \"opacity\": 1, \"line\": {\"width\": 0}, \"y0\": 1.8, \"y1\": 2.2, \"fillcolor\": \"rgb(255, 127, 14)\"}, {\"x0\": \"2016-11-06 04:08:02\", \"x1\": \"2016-11-06 05:16:02\", \"type\": \"rect\", \"xref\": \"x\", \"yref\": \"y\", \"opacity\": 1, \"line\": {\"width\": 0}, \"y0\": 0.8, \"y1\": 1.2, \"fillcolor\": \"rgb(255, 127, 14)\"}, {\"x0\": \"2016-11-06 04:08:02\", \"x1\": \"2016-11-06 05:16:02\", \"type\": \"rect\", \"xref\": \"x\", \"yref\": \"y\", \"opacity\": 1, \"line\": {\"width\": 0}, \"y0\": -0.2, \"y1\": 0.2, \"fillcolor\": \"rgb(255, 127, 14)\"}, {\"x0\": \"2016-11-06 04:09:16\", \"x1\": \"2016-11-06 04:29:16\", \"type\": \"rect\", \"xref\": \"x\", \"yref\": \"y\", \"opacity\": 1, \"line\": {\"width\": 0}, \"y0\": 3.8, \"y1\": 4.2, \"fillcolor\": \"rgb(31, 119, 180)\"}, {\"x0\": \"2016-11-06 04:10:30\", \"x1\": \"2016-11-06 04:50:30\", \"type\": \"rect\", \"xref\": \"x\", \"yref\": \"y\", \"opacity\": 1, \"line\": {\"width\": 0}, \"y0\": 4.8, \"y1\": 5.2, \"fillcolor\": \"rgb(31, 119, 180)\"}, {\"x0\": \"2016-11-06 04:30:40\", \"x1\": \"2016-11-06 04:55:40\", \"type\": \"rect\", \"xref\": \"x\", \"yref\": \"y\", \"opacity\": 1, \"line\": {\"width\": 0}, \"y0\": 2.8, \"y1\": 3.2, \"fillcolor\": \"rgb(255, 127, 14)\"}, {\"x0\": \"2016-11-06 04:33:02\", \"x1\": \"2016-11-06 05:37:02\", \"type\": \"rect\", \"xref\": \"x\", \"yref\": \"y\", \"opacity\": 1, \"line\": {\"width\": 0}, \"y0\": 1.8, \"y1\": 2.2, \"fillcolor\": \"rgb(255, 127, 14)\"}, {\"x0\": \"2016-11-06 04:52:58\", \"x1\": \"2016-11-06 05:32:58\", \"type\": \"rect\", \"xref\": \"x\", \"yref\": \"y\", \"opacity\": 1, \"line\": {\"width\": 0}, \"y0\": 4.8, \"y1\": 5.2, \"fillcolor\": \"rgb(31, 119, 180)\"}, {\"x0\": \"2016-11-06 04:55:40\", \"x1\": \"2016-11-06 05:59:40\", \"type\": \"rect\", \"xref\": \"x\", \"yref\": \"y\", \"opacity\": 1, \"line\": {\"width\": 0}, \"y0\": 2.8, \"y1\": 3.2, \"fillcolor\": \"rgb(255, 127, 14)\"}, {\"x0\": \"2016-11-06 05:16:12\", \"x1\": \"2016-11-06 06:24:12\", \"type\": \"rect\", \"xref\": \"x\", \"yref\": \"y\", \"opacity\": 1, \"line\": {\"width\": 0}, \"y0\": 0.8, \"y1\": 1.2, \"fillcolor\": \"rgb(255, 127, 14)\"}, {\"x0\": \"2016-11-06 05:34:22\", \"x1\": \"2016-11-06 06:42:22\", \"type\": \"rect\", \"xref\": \"x\", \"yref\": \"y\", \"opacity\": 1, \"line\": {\"width\": 0}, \"y0\": -0.2, \"y1\": 0.2, \"fillcolor\": \"rgb(255, 127, 14)\"}, {\"x0\": \"2016-11-06 05:35:26\", \"x1\": \"2016-11-06 06:15:26\", \"type\": \"rect\", \"xref\": \"x\", \"yref\": \"y\", \"opacity\": 1, \"line\": {\"width\": 0}, \"y0\": 4.8, \"y1\": 5.2, \"fillcolor\": \"rgb(31, 119, 180)\"}, {\"x0\": \"2016-11-06 05:38:26\", \"x1\": \"2016-11-06 05:58:26\", \"type\": \"rect\", \"xref\": \"x\", \"yref\": \"y\", \"opacity\": 1, \"line\": {\"width\": 0}, \"y0\": 3.8, \"y1\": 4.2, \"fillcolor\": \"rgb(31, 119, 180)\"}, {\"x0\": \"2016-11-06 05:59:50\", \"x1\": \"2016-11-06 06:24:50\", \"type\": \"rect\", \"xref\": \"x\", \"yref\": \"y\", \"opacity\": 1, \"line\": {\"width\": 0}, \"y0\": 1.8, \"y1\": 2.2, \"fillcolor\": \"rgb(255, 127, 14)\"}, {\"x0\": \"2016-11-06 06:01:04\", \"x1\": \"2016-11-06 06:21:04\", \"type\": \"rect\", \"xref\": \"x\", \"yref\": \"y\", \"opacity\": 1, \"line\": {\"width\": 0}, \"y0\": 3.8, \"y1\": 4.2, \"fillcolor\": \"rgb(31, 119, 180)\"}, {\"x0\": \"2016-11-06 06:16:50\", \"x1\": \"2016-11-06 07:24:50\", \"type\": \"rect\", \"xref\": \"x\", \"yref\": \"y\", \"opacity\": 1, \"line\": {\"width\": 0}, \"y0\": 2.8, \"y1\": 3.2, \"fillcolor\": \"rgb(255, 127, 14)\"}, {\"x0\": \"2016-11-06 06:17:54\", \"x1\": \"2016-11-06 06:57:54\", \"type\": \"rect\", \"xref\": \"x\", \"yref\": \"y\", \"opacity\": 1, \"line\": {\"width\": 0}, \"y0\": 4.8, \"y1\": 5.2, \"fillcolor\": \"rgb(31, 119, 180)\"}, {\"x0\": \"2016-11-06 06:24:50\", \"x1\": \"2016-11-06 07:28:50\", \"type\": \"rect\", \"xref\": \"x\", \"yref\": \"y\", \"opacity\": 1, \"line\": {\"width\": 0}, \"y0\": 1.8, \"y1\": 2.2, \"fillcolor\": \"rgb(255, 127, 14)\"}, {\"x0\": \"2016-11-06 07:29:00\", \"x1\": \"2016-11-06 07:54:00\", \"type\": \"rect\", \"xref\": \"x\", \"yref\": \"y\", \"opacity\": 1, \"line\": {\"width\": 0}, \"y0\": 1.8, \"y1\": 2.2, \"fillcolor\": \"rgb(255, 127, 14)\"}, {\"x0\": \"2016-11-06 07:29:00\", \"x1\": \"2016-11-06 08:37:00\", \"type\": \"rect\", \"xref\": \"x\", \"yref\": \"y\", \"opacity\": 1, \"line\": {\"width\": 0}, \"y0\": 2.8, \"y1\": 3.2, \"fillcolor\": \"rgb(255, 127, 14)\"}, {\"x0\": \"2016-11-06 07:30:14\", \"x1\": \"2016-11-06 07:50:14\", \"type\": \"rect\", \"xref\": \"x\", \"yref\": \"y\", \"opacity\": 1, \"line\": {\"width\": 0}, \"y0\": 3.8, \"y1\": 4.2, \"fillcolor\": \"rgb(31, 119, 180)\"}, {\"x0\": \"2016-11-06 07:31:28\", \"x1\": \"2016-11-06 08:11:28\", \"type\": \"rect\", \"xref\": \"x\", \"yref\": \"y\", \"opacity\": 1, \"line\": {\"width\": 0}, \"y0\": 4.8, \"y1\": 5.2, \"fillcolor\": \"rgb(31, 119, 180)\"}, {\"x0\": \"2016-11-06 07:54:00\", \"x1\": \"2016-11-06 08:58:00\", \"type\": \"rect\", \"xref\": \"x\", \"yref\": \"y\", \"opacity\": 1, \"line\": {\"width\": 0}, \"y0\": 1.8, \"y1\": 2.2, \"fillcolor\": \"rgb(255, 127, 14)\"}, {\"x0\": \"2016-11-06 08:13:56\", \"x1\": \"2016-11-06 08:33:56\", \"type\": \"rect\", \"xref\": \"x\", \"yref\": \"y\", \"opacity\": 1, \"line\": {\"width\": 0}, \"y0\": 4.8, \"y1\": 5.2, \"fillcolor\": \"rgb(31, 119, 180)\"}, {\"x0\": \"2016-11-06 08:36:24\", \"x1\": \"2016-11-06 08:56:24\", \"type\": \"rect\", \"xref\": \"x\", \"yref\": \"y\", \"opacity\": 1, \"line\": {\"width\": 0}, \"y0\": 4.8, \"y1\": 5.2, \"fillcolor\": \"rgb(31, 119, 180)\"}, {\"x0\": \"2016-11-06 08:37:10\", \"x1\": \"2016-11-06 09:02:10\", \"type\": \"rect\", \"xref\": \"x\", \"yref\": \"y\", \"opacity\": 1, \"line\": {\"width\": 0}, \"y0\": 2.8, \"y1\": 3.2, \"fillcolor\": \"rgb(255, 127, 14)\"}, {\"x0\": \"2016-11-06 08:37:10\", \"x1\": \"2016-11-06 09:45:10\", \"type\": \"rect\", \"xref\": \"x\", \"yref\": \"y\", \"opacity\": 1, \"line\": {\"width\": 0}, \"y0\": -0.2, \"y1\": 0.2, \"fillcolor\": \"rgb(255, 127, 14)\"}, {\"x0\": \"2016-11-06 08:58:52\", \"x1\": \"2016-11-06 09:18:52\", \"type\": \"rect\", \"xref\": \"x\", \"yref\": \"y\", \"opacity\": 1, \"line\": {\"width\": 0}, \"y0\": 4.8, \"y1\": 5.2, \"fillcolor\": \"rgb(31, 119, 180)\"}, {\"x0\": \"2016-11-06 09:00:06\", \"x1\": \"2016-11-06 09:15:06\", \"type\": \"rect\", \"xref\": \"x\", \"yref\": \"y\", \"opacity\": 1, \"line\": {\"width\": 0}, \"y0\": 3.8, \"y1\": 4.2, \"fillcolor\": \"rgb(31, 119, 180)\"}, {\"x0\": \"2016-11-06 09:02:10\", \"x1\": \"2016-11-06 10:06:10\", \"type\": \"rect\", \"xref\": \"x\", \"yref\": \"y\", \"opacity\": 1, \"line\": {\"width\": 0}, \"y0\": 2.8, \"y1\": 3.2, \"fillcolor\": \"rgb(255, 127, 14)\"}, {\"x0\": \"2016-11-06 09:16:30\", \"x1\": \"2016-11-06 09:41:30\", \"type\": \"rect\", \"xref\": \"x\", \"yref\": \"y\", \"opacity\": 1, \"line\": {\"width\": 0}, \"y0\": 1.8, \"y1\": 2.2, \"fillcolor\": \"rgb(255, 127, 14)\"}, {\"x0\": \"2016-11-06 09:42:54\", \"x1\": \"2016-11-06 09:47:54\", \"type\": \"rect\", \"xref\": \"x\", \"yref\": \"y\", \"opacity\": 1, \"line\": {\"width\": 0}, \"y0\": 3.8, \"y1\": 4.2, \"fillcolor\": \"rgb(31, 119, 180)\"}, {\"x0\": \"2016-11-06 09:46:34\", \"x1\": \"2016-11-06 10:06:34\", \"type\": \"rect\", \"xref\": \"x\", \"yref\": \"y\", \"opacity\": 1, \"line\": {\"width\": 0}, \"y0\": 4.8, \"y1\": 5.2, \"fillcolor\": \"rgb(31, 119, 180)\"}, {\"x0\": \"2016-11-06 10:07:34\", \"x1\": \"2016-11-06 10:22:34\", \"type\": \"rect\", \"xref\": \"x\", \"yref\": \"y\", \"opacity\": 1, \"line\": {\"width\": 0}, \"y0\": 3.8, \"y1\": 4.2, \"fillcolor\": \"rgb(31, 119, 180)\"}, {\"x0\": \"2016-11-06 10:23:58\", \"x1\": \"2016-11-06 10:48:58\", \"type\": \"rect\", \"xref\": \"x\", \"yref\": \"y\", \"opacity\": 1, \"line\": {\"width\": 0}, \"y0\": 1.8, \"y1\": 2.2, \"fillcolor\": \"rgb(255, 127, 14)\"}, {\"x0\": \"2016-11-06 10:50:22\", \"x1\": \"2016-11-06 10:55:22\", \"type\": \"rect\", \"xref\": \"x\", \"yref\": \"y\", \"opacity\": 1, \"line\": {\"width\": 0}, \"y0\": 3.8, \"y1\": 4.2, \"fillcolor\": \"rgb(31, 119, 180)\"}], \"hovermode\": \"closest\", \"yaxis\": {\"showgrid\": false, \"ticktext\": [\"Machine4\", \"Machine3\", \"Machine1\", \"Machine2\", \"L/U1\", \"L/U2\"], \"tickvals\": [0, 1, 2, 3, 4, 5], \"range\": [-1, 7], \"autorange\": false, \"zeroline\": false}, \"xaxis\": {\"showgrid\": false, \"zeroline\": false, \"rangeselector\": {\"buttons\": [{\"count\": 7, \"label\": \"1w\", \"step\": \"day\", \"stepmode\": \"backward\"}, {\"count\": 1, \"label\": \"1m\", \"step\": \"month\", \"stepmode\": \"backward\"}, {\"count\": 6, \"label\": \"6m\", \"step\": \"month\", \"stepmode\": \"backward\"}, {\"count\": 1, \"label\": \"YTD\", \"step\": \"year\", \"stepmode\": \"todate\"}, {\"count\": 1, \"label\": \"1y\", \"step\": \"year\", \"stepmode\": \"backward\"}, {\"step\": \"all\"}]}, \"type\": \"date\"}}, {\"showLink\": true, \"linkText\": \"Export to plot.ly\"})});</script>"
      ],
      "text/vnd.plotly.v1+html": [
       "<div id=\"22c69572-5323-4eb1-a292-9e673dff4f54\" style=\"height: 600px; width: 900px;\" class=\"plotly-graph-div\"></div><script type=\"text/javascript\">require([\"plotly\"], function(Plotly) { window.PLOTLYENV=window.PLOTLYENV || {};window.PLOTLYENV.BASE_URL=\"https://plot.ly\";Plotly.newPlot(\"22c69572-5323-4eb1-a292-9e673dff4f54\", [{\"x\": [\"2016-11-05 12:01:14\", \"2016-11-05 12:21:14\"], \"y\": [5, 5], \"name\": \"\", \"marker\": {\"color\": \"white\"}}, {\"x\": [\"2016-11-05 12:02:28\", \"2016-11-05 12:07:28\"], \"y\": [4, 4], \"name\": \"\", \"marker\": {\"color\": \"white\"}}, {\"x\": [\"2016-11-05 12:08:52\", \"2016-11-05 13:12:52\"], \"y\": [3, 3], \"name\": \"\", \"marker\": {\"color\": \"white\"}}, {\"x\": [\"2016-11-05 12:09:56\", \"2016-11-05 12:14:56\"], \"y\": [4, 4], \"name\": \"\", \"marker\": {\"color\": \"white\"}}, {\"x\": [\"2016-11-05 12:16:20\", \"2016-11-05 13:20:20\"], \"y\": [2, 2], \"name\": \"\", \"marker\": {\"color\": \"white\"}}, {\"x\": [\"2016-11-05 12:22:38\", \"2016-11-05 13:30:38\"], \"y\": [1, 1], \"name\": \"\", \"marker\": {\"color\": \"white\"}}, {\"x\": [\"2016-11-05 12:23:42\", \"2016-11-05 12:43:42\"], \"y\": [5, 5], \"name\": \"\", \"marker\": {\"color\": \"white\"}}, {\"x\": [\"2016-11-05 12:45:06\", \"2016-11-05 13:53:06\"], \"y\": [0, 0], \"name\": \"\", \"marker\": {\"color\": \"white\"}}, {\"x\": [\"2016-11-05 12:46:10\", \"2016-11-05 13:06:10\"], \"y\": [5, 5], \"name\": \"\", \"marker\": {\"color\": \"white\"}}, {\"x\": [\"2016-11-05 13:08:38\", \"2016-11-05 13:28:38\"], \"y\": [5, 5], \"name\": \"\", \"marker\": {\"color\": \"white\"}}, {\"x\": [\"2016-11-05 13:13:02\", \"2016-11-05 14:21:02\"], \"y\": [3, 3], \"name\": \"\", \"marker\": {\"color\": \"white\"}}, {\"x\": [\"2016-11-05 13:14:16\", \"2016-11-05 13:29:16\"], \"y\": [4, 4], \"name\": \"\", \"marker\": {\"color\": \"white\"}}, {\"x\": [\"2016-11-05 13:30:02\", \"2016-11-05 14:38:02\"], \"y\": [2, 2], \"name\": \"\", \"marker\": {\"color\": \"white\"}}, {\"x\": [\"2016-11-05 13:32:20\", \"2016-11-05 14:12:20\"], \"y\": [5, 5], \"name\": \"\", \"marker\": {\"color\": \"white\"}}, {\"x\": [\"2016-11-05 13:33:34\", \"2016-11-05 13:48:34\"], \"y\": [4, 4], \"name\": \"\", \"marker\": {\"color\": \"white\"}}, {\"x\": [\"2016-11-05 14:21:12\", \"2016-11-05 14:46:12\"], \"y\": [3, 3], \"name\": \"\", \"marker\": {\"color\": \"white\"}}, {\"x\": [\"2016-11-05 14:22:26\", \"2016-11-05 15:02:26\"], \"y\": [5, 5], \"name\": \"\", \"marker\": {\"color\": \"white\"}}, {\"x\": [\"2016-11-05 14:38:12\", \"2016-11-05 15:03:12\"], \"y\": [2, 2], \"name\": \"\", \"marker\": {\"color\": \"white\"}}, {\"x\": [\"2016-11-05 14:38:12\", \"2016-11-05 15:46:12\"], \"y\": [1, 1], \"name\": \"\", \"marker\": {\"color\": \"white\"}}, {\"x\": [\"2016-11-05 14:46:12\", \"2016-11-05 15:50:12\"], \"y\": [3, 3], \"name\": \"\", \"marker\": {\"color\": \"white\"}}, {\"x\": [\"2016-11-05 15:03:12\", \"2016-11-05 16:07:12\"], \"y\": [2, 2], \"name\": \"\", \"marker\": {\"color\": \"white\"}}, {\"x\": [\"2016-11-05 15:03:50\", \"2016-11-05 16:11:50\"], \"y\": [0, 0], \"name\": \"\", \"marker\": {\"color\": \"white\"}}, {\"x\": [\"2016-11-05 15:04:54\", \"2016-11-05 15:44:54\"], \"y\": [5, 5], \"name\": \"\", \"marker\": {\"color\": \"white\"}}, {\"x\": [\"2016-11-05 15:46:22\", \"2016-11-05 16:54:22\"], \"y\": [1, 1], \"name\": \"\", \"marker\": {\"color\": \"white\"}}, {\"x\": [\"2016-11-05 15:47:22\", \"2016-11-05 16:27:22\"], \"y\": [5, 5], \"name\": \"\", \"marker\": {\"color\": \"white\"}}, {\"x\": [\"2016-11-05 15:51:36\", \"2016-11-05 16:11:36\"], \"y\": [4, 4], \"name\": \"\", \"marker\": {\"color\": \"white\"}}, {\"x\": [\"2016-11-05 16:13:00\", \"2016-11-05 16:38:00\"], \"y\": [3, 3], \"name\": \"\", \"marker\": {\"color\": \"white\"}}, {\"x\": [\"2016-11-05 16:15:18\", \"2016-11-05 16:35:18\"], \"y\": [4, 4], \"name\": \"\", \"marker\": {\"color\": \"white\"}}, {\"x\": [\"2016-11-05 16:28:46\", \"2016-11-05 17:36:46\"], \"y\": [2, 2], \"name\": \"\", \"marker\": {\"color\": \"white\"}}, {\"x\": [\"2016-11-05 16:29:50\", \"2016-11-05 17:09:50\"], \"y\": [5, 5], \"name\": \"\", \"marker\": {\"color\": \"white\"}}, {\"x\": [\"2016-11-05 16:38:00\", \"2016-11-05 17:42:00\"], \"y\": [3, 3], \"name\": \"\", \"marker\": {\"color\": \"white\"}}, {\"x\": [\"2016-11-05 17:12:18\", \"2016-11-05 17:52:18\"], \"y\": [5, 5], \"name\": \"\", \"marker\": {\"color\": \"white\"}}, {\"x\": [\"2016-11-05 17:42:10\", \"2016-11-05 18:07:10\"], \"y\": [3, 3], \"name\": \"\", \"marker\": {\"color\": \"white\"}}, {\"x\": [\"2016-11-05 17:42:10\", \"2016-11-05 18:50:10\"], \"y\": [0, 0], \"name\": \"\", \"marker\": {\"color\": \"white\"}}, {\"x\": [\"2016-11-05 17:43:24\", \"2016-11-05 18:03:24\"], \"y\": [4, 4], \"name\": \"\", \"marker\": {\"color\": \"white\"}}, {\"x\": [\"2016-11-05 17:53:42\", \"2016-11-05 19:01:42\"], \"y\": [1, 1], \"name\": \"\", \"marker\": {\"color\": \"white\"}}, {\"x\": [\"2016-11-05 17:54:46\", \"2016-11-05 18:34:46\"], \"y\": [5, 5], \"name\": \"\", \"marker\": {\"color\": \"white\"}}, {\"x\": [\"2016-11-05 18:04:48\", \"2016-11-05 18:29:48\"], \"y\": [2, 2], \"name\": \"\", \"marker\": {\"color\": \"white\"}}, {\"x\": [\"2016-11-05 18:07:10\", \"2016-11-05 19:11:10\"], \"y\": [3, 3], \"name\": \"\", \"marker\": {\"color\": \"white\"}}, {\"x\": [\"2016-11-05 18:29:48\", \"2016-11-05 19:33:48\"], \"y\": [2, 2], \"name\": \"\", \"marker\": {\"color\": \"white\"}}, {\"x\": [\"2016-11-05 18:37:14\", \"2016-11-05 19:17:14\"], \"y\": [5, 5], \"name\": \"\", \"marker\": {\"color\": \"white\"}}, {\"x\": [\"2016-11-05 19:01:52\", \"2016-11-05 20:09:52\"], \"y\": [1, 1], \"name\": \"\", \"marker\": {\"color\": \"white\"}}, {\"x\": [\"2016-11-05 19:12:34\", \"2016-11-05 19:32:34\"], \"y\": [4, 4], \"name\": \"\", \"marker\": {\"color\": \"white\"}}, {\"x\": [\"2016-11-05 19:18:38\", \"2016-11-05 20:26:38\"], \"y\": [3, 3], \"name\": \"\", \"marker\": {\"color\": \"white\"}}, {\"x\": [\"2016-11-05 19:19:42\", \"2016-11-05 19:59:42\"], \"y\": [5, 5], \"name\": \"\", \"marker\": {\"color\": \"white\"}}, {\"x\": [\"2016-11-05 19:35:12\", \"2016-11-05 19:55:12\"], \"y\": [4, 4], \"name\": \"\", \"marker\": {\"color\": \"white\"}}, {\"x\": [\"2016-11-05 19:56:36\", \"2016-11-05 20:21:36\"], \"y\": [2, 2], \"name\": \"\", \"marker\": {\"color\": \"white\"}}, {\"x\": [\"2016-11-05 20:02:10\", \"2016-11-05 20:42:10\"], \"y\": [5, 5], \"name\": \"\", \"marker\": {\"color\": \"white\"}}, {\"x\": [\"2016-11-05 20:21:36\", \"2016-11-05 21:25:36\"], \"y\": [2, 2], \"name\": \"\", \"marker\": {\"color\": \"white\"}}, {\"x\": [\"2016-11-05 20:26:48\", \"2016-11-05 20:51:48\"], \"y\": [3, 3], \"name\": \"\", \"marker\": {\"color\": \"white\"}}, {\"x\": [\"2016-11-05 20:26:48\", \"2016-11-05 21:34:48\"], \"y\": [0, 0], \"name\": \"\", \"marker\": {\"color\": \"white\"}}, {\"x\": [\"2016-11-05 20:43:34\", \"2016-11-05 21:51:34\"], \"y\": [1, 1], \"name\": \"\", \"marker\": {\"color\": \"white\"}}, {\"x\": [\"2016-11-05 20:44:38\", \"2016-11-05 21:24:38\"], \"y\": [5, 5], \"name\": \"\", \"marker\": {\"color\": \"white\"}}, {\"x\": [\"2016-11-05 20:51:48\", \"2016-11-05 21:55:48\"], \"y\": [3, 3], \"name\": \"\", \"marker\": {\"color\": \"white\"}}, {\"x\": [\"2016-11-05 21:27:06\", \"2016-11-05 21:47:06\"], \"y\": [4, 4], \"name\": \"\", \"marker\": {\"color\": \"white\"}}, {\"x\": [\"2016-11-05 21:28:20\", \"2016-11-05 22:08:20\"], \"y\": [5, 5], \"name\": \"\", \"marker\": {\"color\": \"white\"}}, {\"x\": [\"2016-11-05 21:34:58\", \"2016-11-05 22:42:58\"], \"y\": [0, 0], \"name\": \"\", \"marker\": {\"color\": \"white\"}}, {\"x\": [\"2016-11-05 21:48:30\", \"2016-11-05 22:13:30\"], \"y\": [2, 2], \"name\": \"\", \"marker\": {\"color\": \"white\"}}, {\"x\": [\"2016-11-05 21:57:12\", \"2016-11-05 22:17:12\"], \"y\": [4, 4], \"name\": \"\", \"marker\": {\"color\": \"white\"}}, {\"x\": [\"2016-11-05 22:09:44\", \"2016-11-05 23:17:44\"], \"y\": [3, 3], \"name\": \"\", \"marker\": {\"color\": \"white\"}}, {\"x\": [\"2016-11-05 22:10:48\", \"2016-11-05 22:50:48\"], \"y\": [5, 5], \"name\": \"\", \"marker\": {\"color\": \"white\"}}, {\"x\": [\"2016-11-05 22:13:30\", \"2016-11-05 23:17:30\"], \"y\": [2, 2], \"name\": \"\", \"marker\": {\"color\": \"white\"}}, {\"x\": [\"2016-11-05 22:53:16\", \"2016-11-05 23:33:16\"], \"y\": [5, 5], \"name\": \"\", \"marker\": {\"color\": \"white\"}}, {\"x\": [\"2016-11-05 23:17:54\", \"2016-11-05 23:42:54\"], \"y\": [3, 3], \"name\": \"\", \"marker\": {\"color\": \"white\"}}, {\"x\": [\"2016-11-05 23:17:54\", \"2016-11-06 00:25:54\"], \"y\": [1, 1], \"name\": \"\", \"marker\": {\"color\": \"white\"}}, {\"x\": [\"2016-11-05 23:18:54\", \"2016-11-05 23:38:54\"], \"y\": [4, 4], \"name\": \"\", \"marker\": {\"color\": \"white\"}}, {\"x\": [\"2016-11-05 23:34:40\", \"2016-11-06 00:42:40\"], \"y\": [2, 2], \"name\": \"\", \"marker\": {\"color\": \"white\"}}, {\"x\": [\"2016-11-05 23:35:44\", \"2016-11-06 00:15:44\"], \"y\": [5, 5], \"name\": \"\", \"marker\": {\"color\": \"white\"}}, {\"x\": [\"2016-11-05 23:42:54\", \"2016-11-06 00:46:54\"], \"y\": [3, 3], \"name\": \"\", \"marker\": {\"color\": \"white\"}}, {\"x\": [\"2016-11-06 00:18:12\", \"2016-11-06 00:58:12\"], \"y\": [5, 5], \"name\": \"\", \"marker\": {\"color\": \"white\"}}, {\"x\": [\"2016-11-06 00:47:04\", \"2016-11-06 01:12:04\"], \"y\": [3, 3], \"name\": \"\", \"marker\": {\"color\": \"white\"}}, {\"x\": [\"2016-11-06 00:47:04\", \"2016-11-06 01:55:04\"], \"y\": [0, 0], \"name\": \"\", \"marker\": {\"color\": \"white\"}}, {\"x\": [\"2016-11-06 00:48:18\", \"2016-11-06 01:08:18\"], \"y\": [4, 4], \"name\": \"\", \"marker\": {\"color\": \"white\"}}, {\"x\": [\"2016-11-06 00:59:36\", \"2016-11-06 02:07:36\"], \"y\": [1, 1], \"name\": \"\", \"marker\": {\"color\": \"white\"}}, {\"x\": [\"2016-11-06 01:00:40\", \"2016-11-06 01:40:40\"], \"y\": [5, 5], \"name\": \"\", \"marker\": {\"color\": \"white\"}}, {\"x\": [\"2016-11-06 01:09:42\", \"2016-11-06 01:34:42\"], \"y\": [2, 2], \"name\": \"\", \"marker\": {\"color\": \"white\"}}, {\"x\": [\"2016-11-06 01:12:04\", \"2016-11-06 02:16:04\"], \"y\": [3, 3], \"name\": \"\", \"marker\": {\"color\": \"white\"}}, {\"x\": [\"2016-11-06 01:34:42\", \"2016-11-06 02:38:42\"], \"y\": [2, 2], \"name\": \"\", \"marker\": {\"color\": \"white\"}}, {\"x\": [\"2016-11-06 01:43:08\", \"2016-11-06 02:23:08\"], \"y\": [5, 5], \"name\": \"\", \"marker\": {\"color\": \"white\"}}, {\"x\": [\"2016-11-06 02:16:14\", \"2016-11-06 03:24:14\"], \"y\": [3, 3], \"name\": \"\", \"marker\": {\"color\": \"white\"}}, {\"x\": [\"2016-11-06 02:17:28\", \"2016-11-06 02:37:28\"], \"y\": [4, 4], \"name\": \"\", \"marker\": {\"color\": \"white\"}}, {\"x\": [\"2016-11-06 02:24:32\", \"2016-11-06 03:32:32\"], \"y\": [0, 0], \"name\": \"\", \"marker\": {\"color\": \"white\"}}, {\"x\": [\"2016-11-06 02:25:36\", \"2016-11-06 03:05:36\"], \"y\": [5, 5], \"name\": \"\", \"marker\": {\"color\": \"white\"}}, {\"x\": [\"2016-11-06 02:38:52\", \"2016-11-06 03:03:52\"], \"y\": [2, 2], \"name\": \"\", \"marker\": {\"color\": \"white\"}}, {\"x\": [\"2016-11-06 02:40:06\", \"2016-11-06 03:00:06\"], \"y\": [4, 4], \"name\": \"\", \"marker\": {\"color\": \"white\"}}, {\"x\": [\"2016-11-06 03:03:52\", \"2016-11-06 04:07:52\"], \"y\": [2, 2], \"name\": \"\", \"marker\": {\"color\": \"white\"}}, {\"x\": [\"2016-11-06 03:08:04\", \"2016-11-06 03:48:04\"], \"y\": [5, 5], \"name\": \"\", \"marker\": {\"color\": \"white\"}}, {\"x\": [\"2016-11-06 04:08:02\", \"2016-11-06 04:33:02\"], \"y\": [2, 2], \"name\": \"\", \"marker\": {\"color\": \"white\"}}, {\"x\": [\"2016-11-06 04:08:02\", \"2016-11-06 05:16:02\"], \"y\": [1, 1], \"name\": \"\", \"marker\": {\"color\": \"white\"}}, {\"x\": [\"2016-11-06 04:08:02\", \"2016-11-06 05:16:02\"], \"y\": [0, 0], \"name\": \"\", \"marker\": {\"color\": \"white\"}}, {\"x\": [\"2016-11-06 04:09:16\", \"2016-11-06 04:29:16\"], \"y\": [4, 4], \"name\": \"\", \"marker\": {\"color\": \"white\"}}, {\"x\": [\"2016-11-06 04:10:30\", \"2016-11-06 04:50:30\"], \"y\": [5, 5], \"name\": \"\", \"marker\": {\"color\": \"white\"}}, {\"x\": [\"2016-11-06 04:30:40\", \"2016-11-06 04:55:40\"], \"y\": [3, 3], \"name\": \"\", \"marker\": {\"color\": \"white\"}}, {\"x\": [\"2016-11-06 04:33:02\", \"2016-11-06 05:37:02\"], \"y\": [2, 2], \"name\": \"\", \"marker\": {\"color\": \"white\"}}, {\"x\": [\"2016-11-06 04:52:58\", \"2016-11-06 05:32:58\"], \"y\": [5, 5], \"name\": \"\", \"marker\": {\"color\": \"white\"}}, {\"x\": [\"2016-11-06 04:55:40\", \"2016-11-06 05:59:40\"], \"y\": [3, 3], \"name\": \"\", \"marker\": {\"color\": \"white\"}}, {\"x\": [\"2016-11-06 05:16:12\", \"2016-11-06 06:24:12\"], \"y\": [1, 1], \"name\": \"\", \"marker\": {\"color\": \"white\"}}, {\"x\": [\"2016-11-06 05:34:22\", \"2016-11-06 06:42:22\"], \"y\": [0, 0], \"name\": \"\", \"marker\": {\"color\": \"white\"}}, {\"x\": [\"2016-11-06 05:35:26\", \"2016-11-06 06:15:26\"], \"y\": [5, 5], \"name\": \"\", \"marker\": {\"color\": \"white\"}}, {\"x\": [\"2016-11-06 05:38:26\", \"2016-11-06 05:58:26\"], \"y\": [4, 4], \"name\": \"\", \"marker\": {\"color\": \"white\"}}, {\"x\": [\"2016-11-06 05:59:50\", \"2016-11-06 06:24:50\"], \"y\": [2, 2], \"name\": \"\", \"marker\": {\"color\": \"white\"}}, {\"x\": [\"2016-11-06 06:01:04\", \"2016-11-06 06:21:04\"], \"y\": [4, 4], \"name\": \"\", \"marker\": {\"color\": \"white\"}}, {\"x\": [\"2016-11-06 06:16:50\", \"2016-11-06 07:24:50\"], \"y\": [3, 3], \"name\": \"\", \"marker\": {\"color\": \"white\"}}, {\"x\": [\"2016-11-06 06:17:54\", \"2016-11-06 06:57:54\"], \"y\": [5, 5], \"name\": \"\", \"marker\": {\"color\": \"white\"}}, {\"x\": [\"2016-11-06 06:24:50\", \"2016-11-06 07:28:50\"], \"y\": [2, 2], \"name\": \"\", \"marker\": {\"color\": \"white\"}}, {\"x\": [\"2016-11-06 07:29:00\", \"2016-11-06 07:54:00\"], \"y\": [2, 2], \"name\": \"\", \"marker\": {\"color\": \"white\"}}, {\"x\": [\"2016-11-06 07:29:00\", \"2016-11-06 08:37:00\"], \"y\": [3, 3], \"name\": \"\", \"marker\": {\"color\": \"white\"}}, {\"x\": [\"2016-11-06 07:30:14\", \"2016-11-06 07:50:14\"], \"y\": [4, 4], \"name\": \"\", \"marker\": {\"color\": \"white\"}}, {\"x\": [\"2016-11-06 07:31:28\", \"2016-11-06 08:11:28\"], \"y\": [5, 5], \"name\": \"\", \"marker\": {\"color\": \"white\"}}, {\"x\": [\"2016-11-06 07:54:00\", \"2016-11-06 08:58:00\"], \"y\": [2, 2], \"name\": \"\", \"marker\": {\"color\": \"white\"}}, {\"x\": [\"2016-11-06 08:13:56\", \"2016-11-06 08:33:56\"], \"y\": [5, 5], \"name\": \"\", \"marker\": {\"color\": \"white\"}}, {\"x\": [\"2016-11-06 08:36:24\", \"2016-11-06 08:56:24\"], \"y\": [5, 5], \"name\": \"\", \"marker\": {\"color\": \"white\"}}, {\"x\": [\"2016-11-06 08:37:10\", \"2016-11-06 09:02:10\"], \"y\": [3, 3], \"name\": \"\", \"marker\": {\"color\": \"white\"}}, {\"x\": [\"2016-11-06 08:37:10\", \"2016-11-06 09:45:10\"], \"y\": [0, 0], \"name\": \"\", \"marker\": {\"color\": \"white\"}}, {\"x\": [\"2016-11-06 08:58:52\", \"2016-11-06 09:18:52\"], \"y\": [5, 5], \"name\": \"\", \"marker\": {\"color\": \"white\"}}, {\"x\": [\"2016-11-06 09:00:06\", \"2016-11-06 09:15:06\"], \"y\": [4, 4], \"name\": \"\", \"marker\": {\"color\": \"white\"}}, {\"x\": [\"2016-11-06 09:02:10\", \"2016-11-06 10:06:10\"], \"y\": [3, 3], \"name\": \"\", \"marker\": {\"color\": \"white\"}}, {\"x\": [\"2016-11-06 09:16:30\", \"2016-11-06 09:41:30\"], \"y\": [2, 2], \"name\": \"\", \"marker\": {\"color\": \"white\"}}, {\"x\": [\"2016-11-06 09:42:54\", \"2016-11-06 09:47:54\"], \"y\": [4, 4], \"name\": \"\", \"marker\": {\"color\": \"white\"}}, {\"x\": [\"2016-11-06 09:46:34\", \"2016-11-06 10:06:34\"], \"y\": [5, 5], \"name\": \"\", \"marker\": {\"color\": \"white\"}}, {\"x\": [\"2016-11-06 10:07:34\", \"2016-11-06 10:22:34\"], \"y\": [4, 4], \"name\": \"\", \"marker\": {\"color\": \"white\"}}, {\"x\": [\"2016-11-06 10:23:58\", \"2016-11-06 10:48:58\"], \"y\": [2, 2], \"name\": \"\", \"marker\": {\"color\": \"white\"}}, {\"x\": [\"2016-11-06 10:50:22\", \"2016-11-06 10:55:22\"], \"y\": [4, 4], \"name\": \"\", \"marker\": {\"color\": \"white\"}}], {\"title\": \"Gantt Chart\", \"showlegend\": false, \"height\": 600, \"width\": 900, \"shapes\": [{\"x0\": \"2016-11-05 12:01:14\", \"x1\": \"2016-11-05 12:21:14\", \"type\": \"rect\", \"xref\": \"x\", \"yref\": \"y\", \"opacity\": 1, \"line\": {\"width\": 0}, \"y0\": 4.8, \"y1\": 5.2, \"fillcolor\": \"rgb(31, 119, 180)\"}, {\"x0\": \"2016-11-05 12:02:28\", \"x1\": \"2016-11-05 12:07:28\", \"type\": \"rect\", \"xref\": \"x\", \"yref\": \"y\", \"opacity\": 1, \"line\": {\"width\": 0}, \"y0\": 3.8, \"y1\": 4.2, \"fillcolor\": \"rgb(31, 119, 180)\"}, {\"x0\": \"2016-11-05 12:08:52\", \"x1\": \"2016-11-05 13:12:52\", \"type\": \"rect\", \"xref\": \"x\", \"yref\": \"y\", \"opacity\": 1, \"line\": {\"width\": 0}, \"y0\": 2.8, \"y1\": 3.2, \"fillcolor\": \"rgb(255, 127, 14)\"}, {\"x0\": \"2016-11-05 12:09:56\", \"x1\": \"2016-11-05 12:14:56\", \"type\": \"rect\", \"xref\": \"x\", \"yref\": \"y\", \"opacity\": 1, \"line\": {\"width\": 0}, \"y0\": 3.8, \"y1\": 4.2, \"fillcolor\": \"rgb(31, 119, 180)\"}, {\"x0\": \"2016-11-05 12:16:20\", \"x1\": \"2016-11-05 13:20:20\", \"type\": \"rect\", \"xref\": \"x\", \"yref\": \"y\", \"opacity\": 1, \"line\": {\"width\": 0}, \"y0\": 1.8, \"y1\": 2.2, \"fillcolor\": \"rgb(255, 127, 14)\"}, {\"x0\": \"2016-11-05 12:22:38\", \"x1\": \"2016-11-05 13:30:38\", \"type\": \"rect\", \"xref\": \"x\", \"yref\": \"y\", \"opacity\": 1, \"line\": {\"width\": 0}, \"y0\": 0.8, \"y1\": 1.2, \"fillcolor\": \"rgb(255, 127, 14)\"}, {\"x0\": \"2016-11-05 12:23:42\", \"x1\": \"2016-11-05 12:43:42\", \"type\": \"rect\", \"xref\": \"x\", \"yref\": \"y\", \"opacity\": 1, \"line\": {\"width\": 0}, \"y0\": 4.8, \"y1\": 5.2, \"fillcolor\": \"rgb(31, 119, 180)\"}, {\"x0\": \"2016-11-05 12:45:06\", \"x1\": \"2016-11-05 13:53:06\", \"type\": \"rect\", \"xref\": \"x\", \"yref\": \"y\", \"opacity\": 1, \"line\": {\"width\": 0}, \"y0\": -0.2, \"y1\": 0.2, \"fillcolor\": \"rgb(255, 127, 14)\"}, {\"x0\": \"2016-11-05 12:46:10\", \"x1\": \"2016-11-05 13:06:10\", \"type\": \"rect\", \"xref\": \"x\", \"yref\": \"y\", \"opacity\": 1, \"line\": {\"width\": 0}, \"y0\": 4.8, \"y1\": 5.2, \"fillcolor\": \"rgb(31, 119, 180)\"}, {\"x0\": \"2016-11-05 13:08:38\", \"x1\": \"2016-11-05 13:28:38\", \"type\": \"rect\", \"xref\": \"x\", \"yref\": \"y\", \"opacity\": 1, \"line\": {\"width\": 0}, \"y0\": 4.8, \"y1\": 5.2, \"fillcolor\": \"rgb(31, 119, 180)\"}, {\"x0\": \"2016-11-05 13:13:02\", \"x1\": \"2016-11-05 14:21:02\", \"type\": \"rect\", \"xref\": \"x\", \"yref\": \"y\", \"opacity\": 1, \"line\": {\"width\": 0}, \"y0\": 2.8, \"y1\": 3.2, \"fillcolor\": \"rgb(255, 127, 14)\"}, {\"x0\": \"2016-11-05 13:14:16\", \"x1\": \"2016-11-05 13:29:16\", \"type\": \"rect\", \"xref\": \"x\", \"yref\": \"y\", \"opacity\": 1, \"line\": {\"width\": 0}, \"y0\": 3.8, \"y1\": 4.2, \"fillcolor\": \"rgb(31, 119, 180)\"}, {\"x0\": \"2016-11-05 13:30:02\", \"x1\": \"2016-11-05 14:38:02\", \"type\": \"rect\", \"xref\": \"x\", \"yref\": \"y\", \"opacity\": 1, \"line\": {\"width\": 0}, \"y0\": 1.8, \"y1\": 2.2, \"fillcolor\": \"rgb(255, 127, 14)\"}, {\"x0\": \"2016-11-05 13:32:20\", \"x1\": \"2016-11-05 14:12:20\", \"type\": \"rect\", \"xref\": \"x\", \"yref\": \"y\", \"opacity\": 1, \"line\": {\"width\": 0}, \"y0\": 4.8, \"y1\": 5.2, \"fillcolor\": \"rgb(31, 119, 180)\"}, {\"x0\": \"2016-11-05 13:33:34\", \"x1\": \"2016-11-05 13:48:34\", \"type\": \"rect\", \"xref\": \"x\", \"yref\": \"y\", \"opacity\": 1, \"line\": {\"width\": 0}, \"y0\": 3.8, \"y1\": 4.2, \"fillcolor\": \"rgb(31, 119, 180)\"}, {\"x0\": \"2016-11-05 14:21:12\", \"x1\": \"2016-11-05 14:46:12\", \"type\": \"rect\", \"xref\": \"x\", \"yref\": \"y\", \"opacity\": 1, \"line\": {\"width\": 0}, \"y0\": 2.8, \"y1\": 3.2, \"fillcolor\": \"rgb(255, 127, 14)\"}, {\"x0\": \"2016-11-05 14:22:26\", \"x1\": \"2016-11-05 15:02:26\", \"type\": \"rect\", \"xref\": \"x\", \"yref\": \"y\", \"opacity\": 1, \"line\": {\"width\": 0}, \"y0\": 4.8, \"y1\": 5.2, \"fillcolor\": \"rgb(31, 119, 180)\"}, {\"x0\": \"2016-11-05 14:38:12\", \"x1\": \"2016-11-05 15:03:12\", \"type\": \"rect\", \"xref\": \"x\", \"yref\": \"y\", \"opacity\": 1, \"line\": {\"width\": 0}, \"y0\": 1.8, \"y1\": 2.2, \"fillcolor\": \"rgb(255, 127, 14)\"}, {\"x0\": \"2016-11-05 14:38:12\", \"x1\": \"2016-11-05 15:46:12\", \"type\": \"rect\", \"xref\": \"x\", \"yref\": \"y\", \"opacity\": 1, \"line\": {\"width\": 0}, \"y0\": 0.8, \"y1\": 1.2, \"fillcolor\": \"rgb(255, 127, 14)\"}, {\"x0\": \"2016-11-05 14:46:12\", \"x1\": \"2016-11-05 15:50:12\", \"type\": \"rect\", \"xref\": \"x\", \"yref\": \"y\", \"opacity\": 1, \"line\": {\"width\": 0}, \"y0\": 2.8, \"y1\": 3.2, \"fillcolor\": \"rgb(255, 127, 14)\"}, {\"x0\": \"2016-11-05 15:03:12\", \"x1\": \"2016-11-05 16:07:12\", \"type\": \"rect\", \"xref\": \"x\", \"yref\": \"y\", \"opacity\": 1, \"line\": {\"width\": 0}, \"y0\": 1.8, \"y1\": 2.2, \"fillcolor\": \"rgb(255, 127, 14)\"}, {\"x0\": \"2016-11-05 15:03:50\", \"x1\": \"2016-11-05 16:11:50\", \"type\": \"rect\", \"xref\": \"x\", \"yref\": \"y\", \"opacity\": 1, \"line\": {\"width\": 0}, \"y0\": -0.2, \"y1\": 0.2, \"fillcolor\": \"rgb(255, 127, 14)\"}, {\"x0\": \"2016-11-05 15:04:54\", \"x1\": \"2016-11-05 15:44:54\", \"type\": \"rect\", \"xref\": \"x\", \"yref\": \"y\", \"opacity\": 1, \"line\": {\"width\": 0}, \"y0\": 4.8, \"y1\": 5.2, \"fillcolor\": \"rgb(31, 119, 180)\"}, {\"x0\": \"2016-11-05 15:46:22\", \"x1\": \"2016-11-05 16:54:22\", \"type\": \"rect\", \"xref\": \"x\", \"yref\": \"y\", \"opacity\": 1, \"line\": {\"width\": 0}, \"y0\": 0.8, \"y1\": 1.2, \"fillcolor\": \"rgb(255, 127, 14)\"}, {\"x0\": \"2016-11-05 15:47:22\", \"x1\": \"2016-11-05 16:27:22\", \"type\": \"rect\", \"xref\": \"x\", \"yref\": \"y\", \"opacity\": 1, \"line\": {\"width\": 0}, \"y0\": 4.8, \"y1\": 5.2, \"fillcolor\": \"rgb(31, 119, 180)\"}, {\"x0\": \"2016-11-05 15:51:36\", \"x1\": \"2016-11-05 16:11:36\", \"type\": \"rect\", \"xref\": \"x\", \"yref\": \"y\", \"opacity\": 1, \"line\": {\"width\": 0}, \"y0\": 3.8, \"y1\": 4.2, \"fillcolor\": \"rgb(31, 119, 180)\"}, {\"x0\": \"2016-11-05 16:13:00\", \"x1\": \"2016-11-05 16:38:00\", \"type\": \"rect\", \"xref\": \"x\", \"yref\": \"y\", \"opacity\": 1, \"line\": {\"width\": 0}, \"y0\": 2.8, \"y1\": 3.2, \"fillcolor\": \"rgb(255, 127, 14)\"}, {\"x0\": \"2016-11-05 16:15:18\", \"x1\": \"2016-11-05 16:35:18\", \"type\": \"rect\", \"xref\": \"x\", \"yref\": \"y\", \"opacity\": 1, \"line\": {\"width\": 0}, \"y0\": 3.8, \"y1\": 4.2, \"fillcolor\": \"rgb(31, 119, 180)\"}, {\"x0\": \"2016-11-05 16:28:46\", \"x1\": \"2016-11-05 17:36:46\", \"type\": \"rect\", \"xref\": \"x\", \"yref\": \"y\", \"opacity\": 1, \"line\": {\"width\": 0}, \"y0\": 1.8, \"y1\": 2.2, \"fillcolor\": \"rgb(255, 127, 14)\"}, {\"x0\": \"2016-11-05 16:29:50\", \"x1\": \"2016-11-05 17:09:50\", \"type\": \"rect\", \"xref\": \"x\", \"yref\": \"y\", \"opacity\": 1, \"line\": {\"width\": 0}, \"y0\": 4.8, \"y1\": 5.2, \"fillcolor\": \"rgb(31, 119, 180)\"}, {\"x0\": \"2016-11-05 16:38:00\", \"x1\": \"2016-11-05 17:42:00\", \"type\": \"rect\", \"xref\": \"x\", \"yref\": \"y\", \"opacity\": 1, \"line\": {\"width\": 0}, \"y0\": 2.8, \"y1\": 3.2, \"fillcolor\": \"rgb(255, 127, 14)\"}, {\"x0\": \"2016-11-05 17:12:18\", \"x1\": \"2016-11-05 17:52:18\", \"type\": \"rect\", \"xref\": \"x\", \"yref\": \"y\", \"opacity\": 1, \"line\": {\"width\": 0}, \"y0\": 4.8, \"y1\": 5.2, \"fillcolor\": \"rgb(31, 119, 180)\"}, {\"x0\": \"2016-11-05 17:42:10\", \"x1\": \"2016-11-05 18:07:10\", \"type\": \"rect\", \"xref\": \"x\", \"yref\": \"y\", \"opacity\": 1, \"line\": {\"width\": 0}, \"y0\": 2.8, \"y1\": 3.2, \"fillcolor\": \"rgb(255, 127, 14)\"}, {\"x0\": \"2016-11-05 17:42:10\", \"x1\": \"2016-11-05 18:50:10\", \"type\": \"rect\", \"xref\": \"x\", \"yref\": \"y\", \"opacity\": 1, \"line\": {\"width\": 0}, \"y0\": -0.2, \"y1\": 0.2, \"fillcolor\": \"rgb(255, 127, 14)\"}, {\"x0\": \"2016-11-05 17:43:24\", \"x1\": \"2016-11-05 18:03:24\", \"type\": \"rect\", \"xref\": \"x\", \"yref\": \"y\", \"opacity\": 1, \"line\": {\"width\": 0}, \"y0\": 3.8, \"y1\": 4.2, \"fillcolor\": \"rgb(31, 119, 180)\"}, {\"x0\": \"2016-11-05 17:53:42\", \"x1\": \"2016-11-05 19:01:42\", \"type\": \"rect\", \"xref\": \"x\", \"yref\": \"y\", \"opacity\": 1, \"line\": {\"width\": 0}, \"y0\": 0.8, \"y1\": 1.2, \"fillcolor\": \"rgb(255, 127, 14)\"}, {\"x0\": \"2016-11-05 17:54:46\", \"x1\": \"2016-11-05 18:34:46\", \"type\": \"rect\", \"xref\": \"x\", \"yref\": \"y\", \"opacity\": 1, \"line\": {\"width\": 0}, \"y0\": 4.8, \"y1\": 5.2, \"fillcolor\": \"rgb(31, 119, 180)\"}, {\"x0\": \"2016-11-05 18:04:48\", \"x1\": \"2016-11-05 18:29:48\", \"type\": \"rect\", \"xref\": \"x\", \"yref\": \"y\", \"opacity\": 1, \"line\": {\"width\": 0}, \"y0\": 1.8, \"y1\": 2.2, \"fillcolor\": \"rgb(255, 127, 14)\"}, {\"x0\": \"2016-11-05 18:07:10\", \"x1\": \"2016-11-05 19:11:10\", \"type\": \"rect\", \"xref\": \"x\", \"yref\": \"y\", \"opacity\": 1, \"line\": {\"width\": 0}, \"y0\": 2.8, \"y1\": 3.2, \"fillcolor\": \"rgb(255, 127, 14)\"}, {\"x0\": \"2016-11-05 18:29:48\", \"x1\": \"2016-11-05 19:33:48\", \"type\": \"rect\", \"xref\": \"x\", \"yref\": \"y\", \"opacity\": 1, \"line\": {\"width\": 0}, \"y0\": 1.8, \"y1\": 2.2, \"fillcolor\": \"rgb(255, 127, 14)\"}, {\"x0\": \"2016-11-05 18:37:14\", \"x1\": \"2016-11-05 19:17:14\", \"type\": \"rect\", \"xref\": \"x\", \"yref\": \"y\", \"opacity\": 1, \"line\": {\"width\": 0}, \"y0\": 4.8, \"y1\": 5.2, \"fillcolor\": \"rgb(31, 119, 180)\"}, {\"x0\": \"2016-11-05 19:01:52\", \"x1\": \"2016-11-05 20:09:52\", \"type\": \"rect\", \"xref\": \"x\", \"yref\": \"y\", \"opacity\": 1, \"line\": {\"width\": 0}, \"y0\": 0.8, \"y1\": 1.2, \"fillcolor\": \"rgb(255, 127, 14)\"}, {\"x0\": \"2016-11-05 19:12:34\", \"x1\": \"2016-11-05 19:32:34\", \"type\": \"rect\", \"xref\": \"x\", \"yref\": \"y\", \"opacity\": 1, \"line\": {\"width\": 0}, \"y0\": 3.8, \"y1\": 4.2, \"fillcolor\": \"rgb(31, 119, 180)\"}, {\"x0\": \"2016-11-05 19:18:38\", \"x1\": \"2016-11-05 20:26:38\", \"type\": \"rect\", \"xref\": \"x\", \"yref\": \"y\", \"opacity\": 1, \"line\": {\"width\": 0}, \"y0\": 2.8, \"y1\": 3.2, \"fillcolor\": \"rgb(255, 127, 14)\"}, {\"x0\": \"2016-11-05 19:19:42\", \"x1\": \"2016-11-05 19:59:42\", \"type\": \"rect\", \"xref\": \"x\", \"yref\": \"y\", \"opacity\": 1, \"line\": {\"width\": 0}, \"y0\": 4.8, \"y1\": 5.2, \"fillcolor\": \"rgb(31, 119, 180)\"}, {\"x0\": \"2016-11-05 19:35:12\", \"x1\": \"2016-11-05 19:55:12\", \"type\": \"rect\", \"xref\": \"x\", \"yref\": \"y\", \"opacity\": 1, \"line\": {\"width\": 0}, \"y0\": 3.8, \"y1\": 4.2, \"fillcolor\": \"rgb(31, 119, 180)\"}, {\"x0\": \"2016-11-05 19:56:36\", \"x1\": \"2016-11-05 20:21:36\", \"type\": \"rect\", \"xref\": \"x\", \"yref\": \"y\", \"opacity\": 1, \"line\": {\"width\": 0}, \"y0\": 1.8, \"y1\": 2.2, \"fillcolor\": \"rgb(255, 127, 14)\"}, {\"x0\": \"2016-11-05 20:02:10\", \"x1\": \"2016-11-05 20:42:10\", \"type\": \"rect\", \"xref\": \"x\", \"yref\": \"y\", \"opacity\": 1, \"line\": {\"width\": 0}, \"y0\": 4.8, \"y1\": 5.2, \"fillcolor\": \"rgb(31, 119, 180)\"}, {\"x0\": \"2016-11-05 20:21:36\", \"x1\": \"2016-11-05 21:25:36\", \"type\": \"rect\", \"xref\": \"x\", \"yref\": \"y\", \"opacity\": 1, \"line\": {\"width\": 0}, \"y0\": 1.8, \"y1\": 2.2, \"fillcolor\": \"rgb(255, 127, 14)\"}, {\"x0\": \"2016-11-05 20:26:48\", \"x1\": \"2016-11-05 20:51:48\", \"type\": \"rect\", \"xref\": \"x\", \"yref\": \"y\", \"opacity\": 1, \"line\": {\"width\": 0}, \"y0\": 2.8, \"y1\": 3.2, \"fillcolor\": \"rgb(255, 127, 14)\"}, {\"x0\": \"2016-11-05 20:26:48\", \"x1\": \"2016-11-05 21:34:48\", \"type\": \"rect\", \"xref\": \"x\", \"yref\": \"y\", \"opacity\": 1, \"line\": {\"width\": 0}, \"y0\": -0.2, \"y1\": 0.2, \"fillcolor\": \"rgb(255, 127, 14)\"}, {\"x0\": \"2016-11-05 20:43:34\", \"x1\": \"2016-11-05 21:51:34\", \"type\": \"rect\", \"xref\": \"x\", \"yref\": \"y\", \"opacity\": 1, \"line\": {\"width\": 0}, \"y0\": 0.8, \"y1\": 1.2, \"fillcolor\": \"rgb(255, 127, 14)\"}, {\"x0\": \"2016-11-05 20:44:38\", \"x1\": \"2016-11-05 21:24:38\", \"type\": \"rect\", \"xref\": \"x\", \"yref\": \"y\", \"opacity\": 1, \"line\": {\"width\": 0}, \"y0\": 4.8, \"y1\": 5.2, \"fillcolor\": \"rgb(31, 119, 180)\"}, {\"x0\": \"2016-11-05 20:51:48\", \"x1\": \"2016-11-05 21:55:48\", \"type\": \"rect\", \"xref\": \"x\", \"yref\": \"y\", \"opacity\": 1, \"line\": {\"width\": 0}, \"y0\": 2.8, \"y1\": 3.2, \"fillcolor\": \"rgb(255, 127, 14)\"}, {\"x0\": \"2016-11-05 21:27:06\", \"x1\": \"2016-11-05 21:47:06\", \"type\": \"rect\", \"xref\": \"x\", \"yref\": \"y\", \"opacity\": 1, \"line\": {\"width\": 0}, \"y0\": 3.8, \"y1\": 4.2, \"fillcolor\": \"rgb(31, 119, 180)\"}, {\"x0\": \"2016-11-05 21:28:20\", \"x1\": \"2016-11-05 22:08:20\", \"type\": \"rect\", \"xref\": \"x\", \"yref\": \"y\", \"opacity\": 1, \"line\": {\"width\": 0}, \"y0\": 4.8, \"y1\": 5.2, \"fillcolor\": \"rgb(31, 119, 180)\"}, {\"x0\": \"2016-11-05 21:34:58\", \"x1\": \"2016-11-05 22:42:58\", \"type\": \"rect\", \"xref\": \"x\", \"yref\": \"y\", \"opacity\": 1, \"line\": {\"width\": 0}, \"y0\": -0.2, \"y1\": 0.2, \"fillcolor\": \"rgb(255, 127, 14)\"}, {\"x0\": \"2016-11-05 21:48:30\", \"x1\": \"2016-11-05 22:13:30\", \"type\": \"rect\", \"xref\": \"x\", \"yref\": \"y\", \"opacity\": 1, \"line\": {\"width\": 0}, \"y0\": 1.8, \"y1\": 2.2, \"fillcolor\": \"rgb(255, 127, 14)\"}, {\"x0\": \"2016-11-05 21:57:12\", \"x1\": \"2016-11-05 22:17:12\", \"type\": \"rect\", \"xref\": \"x\", \"yref\": \"y\", \"opacity\": 1, \"line\": {\"width\": 0}, \"y0\": 3.8, \"y1\": 4.2, \"fillcolor\": \"rgb(31, 119, 180)\"}, {\"x0\": \"2016-11-05 22:09:44\", \"x1\": \"2016-11-05 23:17:44\", \"type\": \"rect\", \"xref\": \"x\", \"yref\": \"y\", \"opacity\": 1, \"line\": {\"width\": 0}, \"y0\": 2.8, \"y1\": 3.2, \"fillcolor\": \"rgb(255, 127, 14)\"}, {\"x0\": \"2016-11-05 22:10:48\", \"x1\": \"2016-11-05 22:50:48\", \"type\": \"rect\", \"xref\": \"x\", \"yref\": \"y\", \"opacity\": 1, \"line\": {\"width\": 0}, \"y0\": 4.8, \"y1\": 5.2, \"fillcolor\": \"rgb(31, 119, 180)\"}, {\"x0\": \"2016-11-05 22:13:30\", \"x1\": \"2016-11-05 23:17:30\", \"type\": \"rect\", \"xref\": \"x\", \"yref\": \"y\", \"opacity\": 1, \"line\": {\"width\": 0}, \"y0\": 1.8, \"y1\": 2.2, \"fillcolor\": \"rgb(255, 127, 14)\"}, {\"x0\": \"2016-11-05 22:53:16\", \"x1\": \"2016-11-05 23:33:16\", \"type\": \"rect\", \"xref\": \"x\", \"yref\": \"y\", \"opacity\": 1, \"line\": {\"width\": 0}, \"y0\": 4.8, \"y1\": 5.2, \"fillcolor\": \"rgb(31, 119, 180)\"}, {\"x0\": \"2016-11-05 23:17:54\", \"x1\": \"2016-11-05 23:42:54\", \"type\": \"rect\", \"xref\": \"x\", \"yref\": \"y\", \"opacity\": 1, \"line\": {\"width\": 0}, \"y0\": 2.8, \"y1\": 3.2, \"fillcolor\": \"rgb(255, 127, 14)\"}, {\"x0\": \"2016-11-05 23:17:54\", \"x1\": \"2016-11-06 00:25:54\", \"type\": \"rect\", \"xref\": \"x\", \"yref\": \"y\", \"opacity\": 1, \"line\": {\"width\": 0}, \"y0\": 0.8, \"y1\": 1.2, \"fillcolor\": \"rgb(255, 127, 14)\"}, {\"x0\": \"2016-11-05 23:18:54\", \"x1\": \"2016-11-05 23:38:54\", \"type\": \"rect\", \"xref\": \"x\", \"yref\": \"y\", \"opacity\": 1, \"line\": {\"width\": 0}, \"y0\": 3.8, \"y1\": 4.2, \"fillcolor\": \"rgb(31, 119, 180)\"}, {\"x0\": \"2016-11-05 23:34:40\", \"x1\": \"2016-11-06 00:42:40\", \"type\": \"rect\", \"xref\": \"x\", \"yref\": \"y\", \"opacity\": 1, \"line\": {\"width\": 0}, \"y0\": 1.8, \"y1\": 2.2, \"fillcolor\": \"rgb(255, 127, 14)\"}, {\"x0\": \"2016-11-05 23:35:44\", \"x1\": \"2016-11-06 00:15:44\", \"type\": \"rect\", \"xref\": \"x\", \"yref\": \"y\", \"opacity\": 1, \"line\": {\"width\": 0}, \"y0\": 4.8, \"y1\": 5.2, \"fillcolor\": \"rgb(31, 119, 180)\"}, {\"x0\": \"2016-11-05 23:42:54\", \"x1\": \"2016-11-06 00:46:54\", \"type\": \"rect\", \"xref\": \"x\", \"yref\": \"y\", \"opacity\": 1, \"line\": {\"width\": 0}, \"y0\": 2.8, \"y1\": 3.2, \"fillcolor\": \"rgb(255, 127, 14)\"}, {\"x0\": \"2016-11-06 00:18:12\", \"x1\": \"2016-11-06 00:58:12\", \"type\": \"rect\", \"xref\": \"x\", \"yref\": \"y\", \"opacity\": 1, \"line\": {\"width\": 0}, \"y0\": 4.8, \"y1\": 5.2, \"fillcolor\": \"rgb(31, 119, 180)\"}, {\"x0\": \"2016-11-06 00:47:04\", \"x1\": \"2016-11-06 01:12:04\", \"type\": \"rect\", \"xref\": \"x\", \"yref\": \"y\", \"opacity\": 1, \"line\": {\"width\": 0}, \"y0\": 2.8, \"y1\": 3.2, \"fillcolor\": \"rgb(255, 127, 14)\"}, {\"x0\": \"2016-11-06 00:47:04\", \"x1\": \"2016-11-06 01:55:04\", \"type\": \"rect\", \"xref\": \"x\", \"yref\": \"y\", \"opacity\": 1, \"line\": {\"width\": 0}, \"y0\": -0.2, \"y1\": 0.2, \"fillcolor\": \"rgb(255, 127, 14)\"}, {\"x0\": \"2016-11-06 00:48:18\", \"x1\": \"2016-11-06 01:08:18\", \"type\": \"rect\", \"xref\": \"x\", \"yref\": \"y\", \"opacity\": 1, \"line\": {\"width\": 0}, \"y0\": 3.8, \"y1\": 4.2, \"fillcolor\": \"rgb(31, 119, 180)\"}, {\"x0\": \"2016-11-06 00:59:36\", \"x1\": \"2016-11-06 02:07:36\", \"type\": \"rect\", \"xref\": \"x\", \"yref\": \"y\", \"opacity\": 1, \"line\": {\"width\": 0}, \"y0\": 0.8, \"y1\": 1.2, \"fillcolor\": \"rgb(255, 127, 14)\"}, {\"x0\": \"2016-11-06 01:00:40\", \"x1\": \"2016-11-06 01:40:40\", \"type\": \"rect\", \"xref\": \"x\", \"yref\": \"y\", \"opacity\": 1, \"line\": {\"width\": 0}, \"y0\": 4.8, \"y1\": 5.2, \"fillcolor\": \"rgb(31, 119, 180)\"}, {\"x0\": \"2016-11-06 01:09:42\", \"x1\": \"2016-11-06 01:34:42\", \"type\": \"rect\", \"xref\": \"x\", \"yref\": \"y\", \"opacity\": 1, \"line\": {\"width\": 0}, \"y0\": 1.8, \"y1\": 2.2, \"fillcolor\": \"rgb(255, 127, 14)\"}, {\"x0\": \"2016-11-06 01:12:04\", \"x1\": \"2016-11-06 02:16:04\", \"type\": \"rect\", \"xref\": \"x\", \"yref\": \"y\", \"opacity\": 1, \"line\": {\"width\": 0}, \"y0\": 2.8, \"y1\": 3.2, \"fillcolor\": \"rgb(255, 127, 14)\"}, {\"x0\": \"2016-11-06 01:34:42\", \"x1\": \"2016-11-06 02:38:42\", \"type\": \"rect\", \"xref\": \"x\", \"yref\": \"y\", \"opacity\": 1, \"line\": {\"width\": 0}, \"y0\": 1.8, \"y1\": 2.2, \"fillcolor\": \"rgb(255, 127, 14)\"}, {\"x0\": \"2016-11-06 01:43:08\", \"x1\": \"2016-11-06 02:23:08\", \"type\": \"rect\", \"xref\": \"x\", \"yref\": \"y\", \"opacity\": 1, \"line\": {\"width\": 0}, \"y0\": 4.8, \"y1\": 5.2, \"fillcolor\": \"rgb(31, 119, 180)\"}, {\"x0\": \"2016-11-06 02:16:14\", \"x1\": \"2016-11-06 03:24:14\", \"type\": \"rect\", \"xref\": \"x\", \"yref\": \"y\", \"opacity\": 1, \"line\": {\"width\": 0}, \"y0\": 2.8, \"y1\": 3.2, \"fillcolor\": \"rgb(255, 127, 14)\"}, {\"x0\": \"2016-11-06 02:17:28\", \"x1\": \"2016-11-06 02:37:28\", \"type\": \"rect\", \"xref\": \"x\", \"yref\": \"y\", \"opacity\": 1, \"line\": {\"width\": 0}, \"y0\": 3.8, \"y1\": 4.2, \"fillcolor\": \"rgb(31, 119, 180)\"}, {\"x0\": \"2016-11-06 02:24:32\", \"x1\": \"2016-11-06 03:32:32\", \"type\": \"rect\", \"xref\": \"x\", \"yref\": \"y\", \"opacity\": 1, \"line\": {\"width\": 0}, \"y0\": -0.2, \"y1\": 0.2, \"fillcolor\": \"rgb(255, 127, 14)\"}, {\"x0\": \"2016-11-06 02:25:36\", \"x1\": \"2016-11-06 03:05:36\", \"type\": \"rect\", \"xref\": \"x\", \"yref\": \"y\", \"opacity\": 1, \"line\": {\"width\": 0}, \"y0\": 4.8, \"y1\": 5.2, \"fillcolor\": \"rgb(31, 119, 180)\"}, {\"x0\": \"2016-11-06 02:38:52\", \"x1\": \"2016-11-06 03:03:52\", \"type\": \"rect\", \"xref\": \"x\", \"yref\": \"y\", \"opacity\": 1, \"line\": {\"width\": 0}, \"y0\": 1.8, \"y1\": 2.2, \"fillcolor\": \"rgb(255, 127, 14)\"}, {\"x0\": \"2016-11-06 02:40:06\", \"x1\": \"2016-11-06 03:00:06\", \"type\": \"rect\", \"xref\": \"x\", \"yref\": \"y\", \"opacity\": 1, \"line\": {\"width\": 0}, \"y0\": 3.8, \"y1\": 4.2, \"fillcolor\": \"rgb(31, 119, 180)\"}, {\"x0\": \"2016-11-06 03:03:52\", \"x1\": \"2016-11-06 04:07:52\", \"type\": \"rect\", \"xref\": \"x\", \"yref\": \"y\", \"opacity\": 1, \"line\": {\"width\": 0}, \"y0\": 1.8, \"y1\": 2.2, \"fillcolor\": \"rgb(255, 127, 14)\"}, {\"x0\": \"2016-11-06 03:08:04\", \"x1\": \"2016-11-06 03:48:04\", \"type\": \"rect\", \"xref\": \"x\", \"yref\": \"y\", \"opacity\": 1, \"line\": {\"width\": 0}, \"y0\": 4.8, \"y1\": 5.2, \"fillcolor\": \"rgb(31, 119, 180)\"}, {\"x0\": \"2016-11-06 04:08:02\", \"x1\": \"2016-11-06 04:33:02\", \"type\": \"rect\", \"xref\": \"x\", \"yref\": \"y\", \"opacity\": 1, \"line\": {\"width\": 0}, \"y0\": 1.8, \"y1\": 2.2, \"fillcolor\": \"rgb(255, 127, 14)\"}, {\"x0\": \"2016-11-06 04:08:02\", \"x1\": \"2016-11-06 05:16:02\", \"type\": \"rect\", \"xref\": \"x\", \"yref\": \"y\", \"opacity\": 1, \"line\": {\"width\": 0}, \"y0\": 0.8, \"y1\": 1.2, \"fillcolor\": \"rgb(255, 127, 14)\"}, {\"x0\": \"2016-11-06 04:08:02\", \"x1\": \"2016-11-06 05:16:02\", \"type\": \"rect\", \"xref\": \"x\", \"yref\": \"y\", \"opacity\": 1, \"line\": {\"width\": 0}, \"y0\": -0.2, \"y1\": 0.2, \"fillcolor\": \"rgb(255, 127, 14)\"}, {\"x0\": \"2016-11-06 04:09:16\", \"x1\": \"2016-11-06 04:29:16\", \"type\": \"rect\", \"xref\": \"x\", \"yref\": \"y\", \"opacity\": 1, \"line\": {\"width\": 0}, \"y0\": 3.8, \"y1\": 4.2, \"fillcolor\": \"rgb(31, 119, 180)\"}, {\"x0\": \"2016-11-06 04:10:30\", \"x1\": \"2016-11-06 04:50:30\", \"type\": \"rect\", \"xref\": \"x\", \"yref\": \"y\", \"opacity\": 1, \"line\": {\"width\": 0}, \"y0\": 4.8, \"y1\": 5.2, \"fillcolor\": \"rgb(31, 119, 180)\"}, {\"x0\": \"2016-11-06 04:30:40\", \"x1\": \"2016-11-06 04:55:40\", \"type\": \"rect\", \"xref\": \"x\", \"yref\": \"y\", \"opacity\": 1, \"line\": {\"width\": 0}, \"y0\": 2.8, \"y1\": 3.2, \"fillcolor\": \"rgb(255, 127, 14)\"}, {\"x0\": \"2016-11-06 04:33:02\", \"x1\": \"2016-11-06 05:37:02\", \"type\": \"rect\", \"xref\": \"x\", \"yref\": \"y\", \"opacity\": 1, \"line\": {\"width\": 0}, \"y0\": 1.8, \"y1\": 2.2, \"fillcolor\": \"rgb(255, 127, 14)\"}, {\"x0\": \"2016-11-06 04:52:58\", \"x1\": \"2016-11-06 05:32:58\", \"type\": \"rect\", \"xref\": \"x\", \"yref\": \"y\", \"opacity\": 1, \"line\": {\"width\": 0}, \"y0\": 4.8, \"y1\": 5.2, \"fillcolor\": \"rgb(31, 119, 180)\"}, {\"x0\": \"2016-11-06 04:55:40\", \"x1\": \"2016-11-06 05:59:40\", \"type\": \"rect\", \"xref\": \"x\", \"yref\": \"y\", \"opacity\": 1, \"line\": {\"width\": 0}, \"y0\": 2.8, \"y1\": 3.2, \"fillcolor\": \"rgb(255, 127, 14)\"}, {\"x0\": \"2016-11-06 05:16:12\", \"x1\": \"2016-11-06 06:24:12\", \"type\": \"rect\", \"xref\": \"x\", \"yref\": \"y\", \"opacity\": 1, \"line\": {\"width\": 0}, \"y0\": 0.8, \"y1\": 1.2, \"fillcolor\": \"rgb(255, 127, 14)\"}, {\"x0\": \"2016-11-06 05:34:22\", \"x1\": \"2016-11-06 06:42:22\", \"type\": \"rect\", \"xref\": \"x\", \"yref\": \"y\", \"opacity\": 1, \"line\": {\"width\": 0}, \"y0\": -0.2, \"y1\": 0.2, \"fillcolor\": \"rgb(255, 127, 14)\"}, {\"x0\": \"2016-11-06 05:35:26\", \"x1\": \"2016-11-06 06:15:26\", \"type\": \"rect\", \"xref\": \"x\", \"yref\": \"y\", \"opacity\": 1, \"line\": {\"width\": 0}, \"y0\": 4.8, \"y1\": 5.2, \"fillcolor\": \"rgb(31, 119, 180)\"}, {\"x0\": \"2016-11-06 05:38:26\", \"x1\": \"2016-11-06 05:58:26\", \"type\": \"rect\", \"xref\": \"x\", \"yref\": \"y\", \"opacity\": 1, \"line\": {\"width\": 0}, \"y0\": 3.8, \"y1\": 4.2, \"fillcolor\": \"rgb(31, 119, 180)\"}, {\"x0\": \"2016-11-06 05:59:50\", \"x1\": \"2016-11-06 06:24:50\", \"type\": \"rect\", \"xref\": \"x\", \"yref\": \"y\", \"opacity\": 1, \"line\": {\"width\": 0}, \"y0\": 1.8, \"y1\": 2.2, \"fillcolor\": \"rgb(255, 127, 14)\"}, {\"x0\": \"2016-11-06 06:01:04\", \"x1\": \"2016-11-06 06:21:04\", \"type\": \"rect\", \"xref\": \"x\", \"yref\": \"y\", \"opacity\": 1, \"line\": {\"width\": 0}, \"y0\": 3.8, \"y1\": 4.2, \"fillcolor\": \"rgb(31, 119, 180)\"}, {\"x0\": \"2016-11-06 06:16:50\", \"x1\": \"2016-11-06 07:24:50\", \"type\": \"rect\", \"xref\": \"x\", \"yref\": \"y\", \"opacity\": 1, \"line\": {\"width\": 0}, \"y0\": 2.8, \"y1\": 3.2, \"fillcolor\": \"rgb(255, 127, 14)\"}, {\"x0\": \"2016-11-06 06:17:54\", \"x1\": \"2016-11-06 06:57:54\", \"type\": \"rect\", \"xref\": \"x\", \"yref\": \"y\", \"opacity\": 1, \"line\": {\"width\": 0}, \"y0\": 4.8, \"y1\": 5.2, \"fillcolor\": \"rgb(31, 119, 180)\"}, {\"x0\": \"2016-11-06 06:24:50\", \"x1\": \"2016-11-06 07:28:50\", \"type\": \"rect\", \"xref\": \"x\", \"yref\": \"y\", \"opacity\": 1, \"line\": {\"width\": 0}, \"y0\": 1.8, \"y1\": 2.2, \"fillcolor\": \"rgb(255, 127, 14)\"}, {\"x0\": \"2016-11-06 07:29:00\", \"x1\": \"2016-11-06 07:54:00\", \"type\": \"rect\", \"xref\": \"x\", \"yref\": \"y\", \"opacity\": 1, \"line\": {\"width\": 0}, \"y0\": 1.8, \"y1\": 2.2, \"fillcolor\": \"rgb(255, 127, 14)\"}, {\"x0\": \"2016-11-06 07:29:00\", \"x1\": \"2016-11-06 08:37:00\", \"type\": \"rect\", \"xref\": \"x\", \"yref\": \"y\", \"opacity\": 1, \"line\": {\"width\": 0}, \"y0\": 2.8, \"y1\": 3.2, \"fillcolor\": \"rgb(255, 127, 14)\"}, {\"x0\": \"2016-11-06 07:30:14\", \"x1\": \"2016-11-06 07:50:14\", \"type\": \"rect\", \"xref\": \"x\", \"yref\": \"y\", \"opacity\": 1, \"line\": {\"width\": 0}, \"y0\": 3.8, \"y1\": 4.2, \"fillcolor\": \"rgb(31, 119, 180)\"}, {\"x0\": \"2016-11-06 07:31:28\", \"x1\": \"2016-11-06 08:11:28\", \"type\": \"rect\", \"xref\": \"x\", \"yref\": \"y\", \"opacity\": 1, \"line\": {\"width\": 0}, \"y0\": 4.8, \"y1\": 5.2, \"fillcolor\": \"rgb(31, 119, 180)\"}, {\"x0\": \"2016-11-06 07:54:00\", \"x1\": \"2016-11-06 08:58:00\", \"type\": \"rect\", \"xref\": \"x\", \"yref\": \"y\", \"opacity\": 1, \"line\": {\"width\": 0}, \"y0\": 1.8, \"y1\": 2.2, \"fillcolor\": \"rgb(255, 127, 14)\"}, {\"x0\": \"2016-11-06 08:13:56\", \"x1\": \"2016-11-06 08:33:56\", \"type\": \"rect\", \"xref\": \"x\", \"yref\": \"y\", \"opacity\": 1, \"line\": {\"width\": 0}, \"y0\": 4.8, \"y1\": 5.2, \"fillcolor\": \"rgb(31, 119, 180)\"}, {\"x0\": \"2016-11-06 08:36:24\", \"x1\": \"2016-11-06 08:56:24\", \"type\": \"rect\", \"xref\": \"x\", \"yref\": \"y\", \"opacity\": 1, \"line\": {\"width\": 0}, \"y0\": 4.8, \"y1\": 5.2, \"fillcolor\": \"rgb(31, 119, 180)\"}, {\"x0\": \"2016-11-06 08:37:10\", \"x1\": \"2016-11-06 09:02:10\", \"type\": \"rect\", \"xref\": \"x\", \"yref\": \"y\", \"opacity\": 1, \"line\": {\"width\": 0}, \"y0\": 2.8, \"y1\": 3.2, \"fillcolor\": \"rgb(255, 127, 14)\"}, {\"x0\": \"2016-11-06 08:37:10\", \"x1\": \"2016-11-06 09:45:10\", \"type\": \"rect\", \"xref\": \"x\", \"yref\": \"y\", \"opacity\": 1, \"line\": {\"width\": 0}, \"y0\": -0.2, \"y1\": 0.2, \"fillcolor\": \"rgb(255, 127, 14)\"}, {\"x0\": \"2016-11-06 08:58:52\", \"x1\": \"2016-11-06 09:18:52\", \"type\": \"rect\", \"xref\": \"x\", \"yref\": \"y\", \"opacity\": 1, \"line\": {\"width\": 0}, \"y0\": 4.8, \"y1\": 5.2, \"fillcolor\": \"rgb(31, 119, 180)\"}, {\"x0\": \"2016-11-06 09:00:06\", \"x1\": \"2016-11-06 09:15:06\", \"type\": \"rect\", \"xref\": \"x\", \"yref\": \"y\", \"opacity\": 1, \"line\": {\"width\": 0}, \"y0\": 3.8, \"y1\": 4.2, \"fillcolor\": \"rgb(31, 119, 180)\"}, {\"x0\": \"2016-11-06 09:02:10\", \"x1\": \"2016-11-06 10:06:10\", \"type\": \"rect\", \"xref\": \"x\", \"yref\": \"y\", \"opacity\": 1, \"line\": {\"width\": 0}, \"y0\": 2.8, \"y1\": 3.2, \"fillcolor\": \"rgb(255, 127, 14)\"}, {\"x0\": \"2016-11-06 09:16:30\", \"x1\": \"2016-11-06 09:41:30\", \"type\": \"rect\", \"xref\": \"x\", \"yref\": \"y\", \"opacity\": 1, \"line\": {\"width\": 0}, \"y0\": 1.8, \"y1\": 2.2, \"fillcolor\": \"rgb(255, 127, 14)\"}, {\"x0\": \"2016-11-06 09:42:54\", \"x1\": \"2016-11-06 09:47:54\", \"type\": \"rect\", \"xref\": \"x\", \"yref\": \"y\", \"opacity\": 1, \"line\": {\"width\": 0}, \"y0\": 3.8, \"y1\": 4.2, \"fillcolor\": \"rgb(31, 119, 180)\"}, {\"x0\": \"2016-11-06 09:46:34\", \"x1\": \"2016-11-06 10:06:34\", \"type\": \"rect\", \"xref\": \"x\", \"yref\": \"y\", \"opacity\": 1, \"line\": {\"width\": 0}, \"y0\": 4.8, \"y1\": 5.2, \"fillcolor\": \"rgb(31, 119, 180)\"}, {\"x0\": \"2016-11-06 10:07:34\", \"x1\": \"2016-11-06 10:22:34\", \"type\": \"rect\", \"xref\": \"x\", \"yref\": \"y\", \"opacity\": 1, \"line\": {\"width\": 0}, \"y0\": 3.8, \"y1\": 4.2, \"fillcolor\": \"rgb(31, 119, 180)\"}, {\"x0\": \"2016-11-06 10:23:58\", \"x1\": \"2016-11-06 10:48:58\", \"type\": \"rect\", \"xref\": \"x\", \"yref\": \"y\", \"opacity\": 1, \"line\": {\"width\": 0}, \"y0\": 1.8, \"y1\": 2.2, \"fillcolor\": \"rgb(255, 127, 14)\"}, {\"x0\": \"2016-11-06 10:50:22\", \"x1\": \"2016-11-06 10:55:22\", \"type\": \"rect\", \"xref\": \"x\", \"yref\": \"y\", \"opacity\": 1, \"line\": {\"width\": 0}, \"y0\": 3.8, \"y1\": 4.2, \"fillcolor\": \"rgb(31, 119, 180)\"}], \"hovermode\": \"closest\", \"yaxis\": {\"showgrid\": false, \"ticktext\": [\"Machine4\", \"Machine3\", \"Machine1\", \"Machine2\", \"L/U1\", \"L/U2\"], \"tickvals\": [0, 1, 2, 3, 4, 5], \"range\": [-1, 7], \"autorange\": false, \"zeroline\": false}, \"xaxis\": {\"showgrid\": false, \"zeroline\": false, \"rangeselector\": {\"buttons\": [{\"count\": 7, \"label\": \"1w\", \"step\": \"day\", \"stepmode\": \"backward\"}, {\"count\": 1, \"label\": \"1m\", \"step\": \"month\", \"stepmode\": \"backward\"}, {\"count\": 6, \"label\": \"6m\", \"step\": \"month\", \"stepmode\": \"backward\"}, {\"count\": 1, \"label\": \"YTD\", \"step\": \"year\", \"stepmode\": \"todate\"}, {\"count\": 1, \"label\": \"1y\", \"step\": \"year\", \"stepmode\": \"backward\"}, {\"step\": \"all\"}]}, \"type\": \"date\"}}, {\"showLink\": true, \"linkText\": \"Export to plot.ly\"})});</script>"
      ]
     },
     "metadata": {},
     "output_type": "display_data"
    }
   ],
   "source": [
    "plotly.offline.iplot(allocate.plot_simstat(allocate.simstat(results)))"
   ]
  },
  {
   "cell_type": "code",
   "execution_count": null,
   "metadata": {
    "collapsed": true
   },
   "outputs": [],
   "source": []
  }
 ],
 "metadata": {
  "kernelspec": {
   "display_name": "Python 3",
   "language": "python",
   "name": "python3"
  },
  "language_info": {
   "codemirror_mode": {
    "name": "ipython",
    "version": 3
   },
   "file_extension": ".py",
   "mimetype": "text/x-python",
   "name": "python",
   "nbconvert_exporter": "python",
   "pygments_lexer": "ipython3",
   "version": "3.6.4"
  }
 },
 "nbformat": 4,
 "nbformat_minor": 2
}
