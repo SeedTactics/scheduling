{
 "cells": [
  {
   "cell_type": "code",
   "execution_count": 1,
   "metadata": {},
   "outputs": [
    {
     "data": {
      "text/html": [
       "<script>requirejs.config({paths: { 'plotly': ['https://cdn.plot.ly/plotly-latest.min']},});if(!window.Plotly) {{require(['plotly'],function(plotly) {window.Plotly=plotly;});}}</script>"
      ],
      "text/vnd.plotly.v1+html": [
       "<script>requirejs.config({paths: { 'plotly': ['https://cdn.plot.ly/plotly-latest.min']},});if(!window.Plotly) {{require(['plotly'],function(plotly) {window.Plotly=plotly;});}}</script>"
      ]
     },
     "metadata": {},
     "output_type": "display_data"
    }
   ],
   "source": [
    "import plotly\n",
    "import plotly.figure_factory as ff\n",
    "import numpy as nd\n",
    "import pandas as pd\n",
    "import subprocess\n",
    "import json\n",
    "plotly.offline.init_notebook_mode(connected=True)"
   ]
  },
  {
   "cell_type": "code",
   "execution_count": 2,
   "metadata": {},
   "outputs": [],
   "source": [
    "import re\n",
    "# Compied and modified from https://github.com/pandas-dev/pandas/pull/19065 until new pandas release\n",
    "iso_pater = re.compile(r\"\"\"P\n",
    "                        (?:(?P<days>-?[0-9]*)D)?\n",
    "                        T\n",
    "                        (?:(?P<hours>[0-9]{1,2}H))?\n",
    "                        (?:(?P<minutes>[0-9]{1,2}M))?\n",
    "                        (?:\n",
    "                          (?P<seconds>[0-9]{0,2})?\n",
    "                          (\\.\n",
    "                          (?P<milliseconds>[0-9]{1,3})\n",
    "                          (?P<microseconds>[0-9]{0,3})\n",
    "                          (?P<nanoseconds>[0-9]{0,3})\n",
    "                          )?S\n",
    "                        )?\"\"\", re.VERBOSE)\n",
    "\n",
    "\n",
    "def parse_iso_format_string(iso_fmt):\n",
    "    t = pd.Timedelta(0)\n",
    "    match = re.match(iso_pater, iso_fmt)\n",
    "    if match:\n",
    "        match_dict = match.groupdict(default='0')\n",
    "        for comp in ['milliseconds', 'microseconds', 'nanoseconds']:\n",
    "            match_dict[comp] = '{:0<3}'.format(match_dict[comp])\n",
    "        for k, v in match_dict.items():\n",
    "            t += pd.Timedelta(v, unit=k)\n",
    "    else:\n",
    "        raise ValueError(\"Invalid ISO 8601 Duration format - \"\n",
    "                         \"{}\".format(iso_fmt))\n",
    "    return t"
   ]
  },
  {
   "cell_type": "code",
   "execution_count": 3,
   "metadata": {},
   "outputs": [],
   "source": [
    "def allocate(bookings, prev_parts=[]):\n",
    "    # I generally use one notebook per flex plan, so change this when I copy and paste the allocate function\n",
    "    flex_file = \"sample-flex.json\"\n",
    "    \n",
    "    # The path to the plugin DLL built using netstandard.  Note that the csproj should include\n",
    "    # <CopyLocalLockFileAssemblies>true</CopyLocalLockFileAssemblies> so dependencies can be loaded\n",
    "    plugin = \"../../pegboard/lib/pegboard/allocate/bin/Debug/netstandard2.0/BlackMaple.Pegboard.Allocate.dll\"\n",
    "    \n",
    "    # Run the allocate and load the results\n",
    "    blst = []\n",
    "    for b in bookings.groupby(\"BookingId\"):\n",
    "        blst.append({\"BookingId\":b[0],\n",
    "                     \"DueDate\":b[1][\"DueDate\"].iloc[0].isoformat(),\n",
    "                     \"Priority\":b[1][\"Priority\"].iloc[0].item(),\n",
    "                     \"Parts\": [{\"BookingId\":b[0], \"Part\":p[\"Part\"], \"Quantity\":p[\"Quantity\"]}\n",
    "                               for _,p in b[1].iterrows()]})\n",
    "    bookings_json = json.dumps({\"UnscheduledBookings\": blst, \"ScheduledParts\": prev_parts})\n",
    "    proc = subprocess.run(args=[\"dotnet\", \"run\", \"-p\", \"../allocatecli\", \"--\",\n",
    "                                \"-f\", flex_file, \"-p\", plugin],\n",
    "                          input=bookings_json,\n",
    "                          encoding=\"utf-8\",\n",
    "                          stdout=subprocess.PIPE,\n",
    "                          stderr=subprocess.PIPE)\n",
    "    if proc.returncode != 0:\n",
    "        print(proc.stderr)\n",
    "        raise Exception()\n",
    "    results = json.loads(proc.stdout)\n",
    "    \n",
    "    # Convert the results to pandas frames\n",
    "    simstat = pd.DataFrame(results[\"SimStations\"])\n",
    "    simstat[\"StartUTC\"] = pd.to_datetime(simstat[\"StartUTC\"])\n",
    "    simstat[\"EndUTC\"] = pd.to_datetime(simstat[\"EndUTC\"])\n",
    "    simstat[\"PlannedDownTime\"] = simstat[\"PlannedDownTime\"].apply(parse_iso_format_string)\n",
    "    simstat[\"UtilizationTime\"] = simstat[\"UtilizationTime\"].apply(parse_iso_format_string)\n",
    "    return results, simstat"
   ]
  },
  {
   "cell_type": "code",
   "execution_count": 4,
   "metadata": {},
   "outputs": [
    {
     "data": {
      "text/html": [
       "<div>\n",
       "<style scoped>\n",
       "    .dataframe tbody tr th:only-of-type {\n",
       "        vertical-align: middle;\n",
       "    }\n",
       "\n",
       "    .dataframe tbody tr th {\n",
       "        vertical-align: top;\n",
       "    }\n",
       "\n",
       "    .dataframe thead th {\n",
       "        text-align: right;\n",
       "    }\n",
       "</style>\n",
       "<table border=\"1\" class=\"dataframe\">\n",
       "  <thead>\n",
       "    <tr style=\"text-align: right;\">\n",
       "      <th></th>\n",
       "      <th>BookingId</th>\n",
       "      <th>DueDate</th>\n",
       "      <th>Priority</th>\n",
       "      <th>Part</th>\n",
       "      <th>Quantity</th>\n",
       "    </tr>\n",
       "  </thead>\n",
       "  <tbody>\n",
       "    <tr>\n",
       "      <th>0</th>\n",
       "      <td>book1</td>\n",
       "      <td>2017-11-05</td>\n",
       "      <td>5</td>\n",
       "      <td>part1</td>\n",
       "      <td>15</td>\n",
       "    </tr>\n",
       "    <tr>\n",
       "      <th>1</th>\n",
       "      <td>book2</td>\n",
       "      <td>2017-11-05</td>\n",
       "      <td>10</td>\n",
       "      <td>part2</td>\n",
       "      <td>20</td>\n",
       "    </tr>\n",
       "  </tbody>\n",
       "</table>\n",
       "</div>"
      ],
      "text/plain": [
       "  BookingId    DueDate  Priority   Part  Quantity\n",
       "0     book1 2017-11-05         5  part1        15\n",
       "1     book2 2017-11-05        10  part2        20"
      ]
     },
     "execution_count": 4,
     "metadata": {},
     "output_type": "execute_result"
    }
   ],
   "source": [
    "# Create some bookings.  Can also load from sample CSV files\n",
    "bookings = pd.DataFrame([\n",
    "    (\"book1\", pd.Timestamp(\"2017-11-05\"), 5, \"part1\", 15),\n",
    "    (\"book2\", pd.Timestamp(\"2017-11-05\"), 10, \"part2\", 20)\n",
    "], columns=[\"BookingId\", \"DueDate\", \"Priority\", \"Part\", \"Quantity\"])\n",
    "bookings"
   ]
  },
  {
   "cell_type": "code",
   "execution_count": 5,
   "metadata": {},
   "outputs": [],
   "source": [
    "results, simstat = allocate(bookings)"
   ]
  },
  {
   "cell_type": "code",
   "execution_count": 6,
   "metadata": {},
   "outputs": [
    {
     "data": {
      "application/vnd.plotly.v1+json": {
       "data": [
        {
         "marker": {
          "color": "white"
         },
         "name": "",
         "x": [
          "2016-11-05 07:01:14",
          "2016-11-05 07:06:14"
         ],
         "y": [
          5,
          5
         ]
        },
        {
         "marker": {
          "color": "white"
         },
         "name": "",
         "x": [
          "2016-11-05 07:02:28",
          "2016-11-05 07:22:28"
         ],
         "y": [
          4,
          4
         ]
        },
        {
         "marker": {
          "color": "white"
         },
         "name": "",
         "x": [
          "2016-11-05 07:07:38",
          "2016-11-05 08:11:38"
         ],
         "y": [
          3,
          3
         ]
        },
        {
         "marker": {
          "color": "white"
         },
         "name": "",
         "x": [
          "2016-11-05 07:08:42",
          "2016-11-05 07:13:42"
         ],
         "y": [
          5,
          5
         ]
        },
        {
         "marker": {
          "color": "white"
         },
         "name": "",
         "x": [
          "2016-11-05 07:15:06",
          "2016-11-05 08:19:06"
         ],
         "y": [
          2,
          2
         ]
        },
        {
         "marker": {
          "color": "white"
         },
         "name": "",
         "x": [
          "2016-11-05 07:23:52",
          "2016-11-05 08:31:52"
         ],
         "y": [
          1,
          1
         ]
        },
        {
         "marker": {
          "color": "white"
         },
         "name": "",
         "x": [
          "2016-11-05 07:24:56",
          "2016-11-05 07:44:56"
         ],
         "y": [
          4,
          4
         ]
        },
        {
         "marker": {
          "color": "white"
         },
         "name": "",
         "x": [
          "2016-11-05 07:46:20",
          "2016-11-05 08:54:20"
         ],
         "y": [
          0,
          0
         ]
        },
        {
         "marker": {
          "color": "white"
         },
         "name": "",
         "x": [
          "2016-11-05 07:47:24",
          "2016-11-05 08:07:24"
         ],
         "y": [
          4,
          4
         ]
        },
        {
         "marker": {
          "color": "white"
         },
         "name": "",
         "x": [
          "2016-11-05 08:09:52",
          "2016-11-05 08:29:52"
         ],
         "y": [
          4,
          4
         ]
        },
        {
         "marker": {
          "color": "white"
         },
         "name": "",
         "x": [
          "2016-11-05 08:11:48",
          "2016-11-05 09:19:48"
         ],
         "y": [
          3,
          3
         ]
        },
        {
         "marker": {
          "color": "white"
         },
         "name": "",
         "x": [
          "2016-11-05 08:13:02",
          "2016-11-05 08:28:02"
         ],
         "y": [
          5,
          5
         ]
        },
        {
         "marker": {
          "color": "white"
         },
         "name": "",
         "x": [
          "2016-11-05 08:29:26",
          "2016-11-05 08:54:26"
         ],
         "y": [
          2,
          2
         ]
        },
        {
         "marker": {
          "color": "white"
         },
         "name": "",
         "x": [
          "2016-11-05 08:30:30",
          "2016-11-05 08:45:30"
         ],
         "y": [
          5,
          5
         ]
        },
        {
         "marker": {
          "color": "white"
         },
         "name": "",
         "x": [
          "2016-11-05 08:33:16",
          "2016-11-05 09:13:16"
         ],
         "y": [
          4,
          4
         ]
        },
        {
         "marker": {
          "color": "white"
         },
         "name": "",
         "x": [
          "2016-11-05 08:54:26",
          "2016-11-05 09:58:26"
         ],
         "y": [
          2,
          2
         ]
        },
        {
         "marker": {
          "color": "white"
         },
         "name": "",
         "x": [
          "2016-11-05 09:58:36",
          "2016-11-05 11:06:36"
         ],
         "y": [
          3,
          3
         ]
        },
        {
         "marker": {
          "color": "white"
         },
         "name": "",
         "x": [
          "2016-11-05 09:58:36",
          "2016-11-05 10:23:36"
         ],
         "y": [
          2,
          2
         ]
        },
        {
         "marker": {
          "color": "white"
         },
         "name": "",
         "x": [
          "2016-11-05 09:58:36",
          "2016-11-05 11:06:36"
         ],
         "y": [
          1,
          1
         ]
        },
        {
         "marker": {
          "color": "white"
         },
         "name": "",
         "x": [
          "2016-11-05 09:59:50",
          "2016-11-05 10:19:50"
         ],
         "y": [
          5,
          5
         ]
        },
        {
         "marker": {
          "color": "white"
         },
         "name": "",
         "x": [
          "2016-11-05 10:01:04",
          "2016-11-05 10:41:04"
         ],
         "y": [
          4,
          4
         ]
        },
        {
         "marker": {
          "color": "white"
         },
         "name": "",
         "x": [
          "2016-11-05 10:23:36",
          "2016-11-05 11:27:36"
         ],
         "y": [
          2,
          2
         ]
        },
        {
         "marker": {
          "color": "white"
         },
         "name": "",
         "x": [
          "2016-11-05 10:43:32",
          "2016-11-05 11:23:32"
         ],
         "y": [
          4,
          4
         ]
        },
        {
         "marker": {
          "color": "white"
         },
         "name": "",
         "x": [
          "2016-11-05 11:06:46",
          "2016-11-05 11:31:46"
         ],
         "y": [
          3,
          3
         ]
        },
        {
         "marker": {
          "color": "white"
         },
         "name": "",
         "x": [
          "2016-11-05 11:06:46",
          "2016-11-05 12:14:46"
         ],
         "y": [
          0,
          0
         ]
        },
        {
         "marker": {
          "color": "white"
         },
         "name": "",
         "x": [
          "2016-11-05 11:24:56",
          "2016-11-05 12:32:56"
         ],
         "y": [
          1,
          1
         ]
        },
        {
         "marker": {
          "color": "white"
         },
         "name": "",
         "x": [
          "2016-11-05 11:26:00",
          "2016-11-05 12:06:00"
         ],
         "y": [
          4,
          4
         ]
        },
        {
         "marker": {
          "color": "white"
         },
         "name": "",
         "x": [
          "2016-11-05 11:29:00",
          "2016-11-05 11:49:00"
         ],
         "y": [
          5,
          5
         ]
        },
        {
         "marker": {
          "color": "white"
         },
         "name": "",
         "x": [
          "2016-11-05 11:31:46",
          "2016-11-05 12:35:46"
         ],
         "y": [
          3,
          3
         ]
        },
        {
         "marker": {
          "color": "white"
         },
         "name": "",
         "x": [
          "2016-11-05 11:50:24",
          "2016-11-05 12:15:24"
         ],
         "y": [
          2,
          2
         ]
        },
        {
         "marker": {
          "color": "white"
         },
         "name": "",
         "x": [
          "2016-11-05 12:08:28",
          "2016-11-05 12:48:28"
         ],
         "y": [
          4,
          4
         ]
        },
        {
         "marker": {
          "color": "white"
         },
         "name": "",
         "x": [
          "2016-11-05 12:15:24",
          "2016-11-05 13:19:24"
         ],
         "y": [
          2,
          2
         ]
        },
        {
         "marker": {
          "color": "white"
         },
         "name": "",
         "x": [
          "2016-11-05 12:37:10",
          "2016-11-05 12:57:10"
         ],
         "y": [
          5,
          5
         ]
        },
        {
         "marker": {
          "color": "white"
         },
         "name": "",
         "x": [
          "2016-11-05 13:19:34",
          "2016-11-05 14:27:34"
         ],
         "y": [
          3,
          3
         ]
        },
        {
         "marker": {
          "color": "white"
         },
         "name": "",
         "x": [
          "2016-11-05 13:19:34",
          "2016-11-05 14:27:34"
         ],
         "y": [
          2,
          2
         ]
        },
        {
         "marker": {
          "color": "white"
         },
         "name": "",
         "x": [
          "2016-11-05 13:20:48",
          "2016-11-05 13:40:48"
         ],
         "y": [
          5,
          5
         ]
        },
        {
         "marker": {
          "color": "white"
         },
         "name": "",
         "x": [
          "2016-11-05 13:22:02",
          "2016-11-05 14:02:02"
         ],
         "y": [
          4,
          4
         ]
        },
        {
         "marker": {
          "color": "white"
         },
         "name": "",
         "x": [
          "2016-11-05 14:04:30",
          "2016-11-05 14:24:30"
         ],
         "y": [
          4,
          4
         ]
        },
        {
         "marker": {
          "color": "white"
         },
         "name": "",
         "x": [
          "2016-11-05 14:27:44",
          "2016-11-05 14:52:44"
         ],
         "y": [
          3,
          3
         ]
        },
        {
         "marker": {
          "color": "white"
         },
         "name": "",
         "x": [
          "2016-11-05 14:27:44",
          "2016-11-05 14:52:44"
         ],
         "y": [
          2,
          2
         ]
        },
        {
         "marker": {
          "color": "white"
         },
         "name": "",
         "x": [
          "2016-11-05 14:27:44",
          "2016-11-05 15:35:44"
         ],
         "y": [
          1,
          1
         ]
        },
        {
         "marker": {
          "color": "white"
         },
         "name": "",
         "x": [
          "2016-11-05 14:28:58",
          "2016-11-05 14:48:58"
         ],
         "y": [
          4,
          4
         ]
        },
        {
         "marker": {
          "color": "white"
         },
         "name": "",
         "x": [
          "2016-11-05 14:51:26",
          "2016-11-05 15:11:26"
         ],
         "y": [
          4,
          4
         ]
        },
        {
         "marker": {
          "color": "white"
         },
         "name": "",
         "x": [
          "2016-11-05 14:52:44",
          "2016-11-05 15:56:44"
         ],
         "y": [
          3,
          3
         ]
        },
        {
         "marker": {
          "color": "white"
         },
         "name": "",
         "x": [
          "2016-11-05 14:52:44",
          "2016-11-05 15:56:44"
         ],
         "y": [
          2,
          2
         ]
        },
        {
         "marker": {
          "color": "white"
         },
         "name": "",
         "x": [
          "2016-11-05 15:37:08",
          "2016-11-05 15:57:08"
         ],
         "y": [
          4,
          4
         ]
        },
        {
         "marker": {
          "color": "white"
         },
         "name": "",
         "x": [
          "2016-11-05 15:58:08",
          "2016-11-05 16:18:08"
         ],
         "y": [
          5,
          5
         ]
        },
        {
         "marker": {
          "color": "white"
         },
         "name": "",
         "x": [
          "2016-11-05 16:19:32",
          "2016-11-05 16:44:32"
         ],
         "y": [
          3,
          3
         ]
        },
        {
         "marker": {
          "color": "white"
         },
         "name": "",
         "x": [
          "2016-11-05 16:20:36",
          "2016-11-05 16:40:36"
         ],
         "y": [
          5,
          5
         ]
        },
        {
         "marker": {
          "color": "white"
         },
         "name": "",
         "x": [
          "2016-11-05 16:42:00",
          "2016-11-05 17:07:00"
         ],
         "y": [
          2,
          2
         ]
        },
        {
         "marker": {
          "color": "white"
         },
         "name": "",
         "x": [
          "2016-11-05 16:44:32",
          "2016-11-05 17:48:32"
         ],
         "y": [
          3,
          3
         ]
        },
        {
         "marker": {
          "color": "white"
         },
         "name": "",
         "x": [
          "2016-11-05 17:07:00",
          "2016-11-05 18:11:00"
         ],
         "y": [
          2,
          2
         ]
        },
        {
         "marker": {
          "color": "white"
         },
         "name": "",
         "x": [
          "2016-11-05 17:49:56",
          "2016-11-05 18:09:56"
         ],
         "y": [
          5,
          5
         ]
        },
        {
         "marker": {
          "color": "white"
         },
         "name": "",
         "x": [
          "2016-11-05 18:11:20",
          "2016-11-05 18:36:20"
         ],
         "y": [
          3,
          3
         ]
        },
        {
         "marker": {
          "color": "white"
         },
         "name": "",
         "x": [
          "2016-11-05 18:12:24",
          "2016-11-05 18:32:24"
         ],
         "y": [
          5,
          5
         ]
        },
        {
         "marker": {
          "color": "white"
         },
         "name": "",
         "x": [
          "2016-11-05 18:33:48",
          "2016-11-05 18:58:48"
         ],
         "y": [
          2,
          2
         ]
        },
        {
         "marker": {
          "color": "white"
         },
         "name": "",
         "x": [
          "2016-11-05 18:36:20",
          "2016-11-05 19:40:20"
         ],
         "y": [
          3,
          3
         ]
        },
        {
         "marker": {
          "color": "white"
         },
         "name": "",
         "x": [
          "2016-11-05 18:58:48",
          "2016-11-05 20:02:48"
         ],
         "y": [
          2,
          2
         ]
        },
        {
         "marker": {
          "color": "white"
         },
         "name": "",
         "x": [
          "2016-11-05 19:41:44",
          "2016-11-05 20:01:44"
         ],
         "y": [
          5,
          5
         ]
        },
        {
         "marker": {
          "color": "white"
         },
         "name": "",
         "x": [
          "2016-11-05 20:03:08",
          "2016-11-05 20:28:08"
         ],
         "y": [
          3,
          3
         ]
        },
        {
         "marker": {
          "color": "white"
         },
         "name": "",
         "x": [
          "2016-11-05 20:04:12",
          "2016-11-05 20:24:12"
         ],
         "y": [
          5,
          5
         ]
        },
        {
         "marker": {
          "color": "white"
         },
         "name": "",
         "x": [
          "2016-11-05 20:25:36",
          "2016-11-05 20:50:36"
         ],
         "y": [
          2,
          2
         ]
        },
        {
         "marker": {
          "color": "white"
         },
         "name": "",
         "x": [
          "2016-11-05 20:28:08",
          "2016-11-05 21:32:08"
         ],
         "y": [
          3,
          3
         ]
        },
        {
         "marker": {
          "color": "white"
         },
         "name": "",
         "x": [
          "2016-11-05 20:50:36",
          "2016-11-05 21:54:36"
         ],
         "y": [
          2,
          2
         ]
        },
        {
         "marker": {
          "color": "white"
         },
         "name": "",
         "x": [
          "2016-11-05 21:33:32",
          "2016-11-05 21:53:32"
         ],
         "y": [
          5,
          5
         ]
        },
        {
         "marker": {
          "color": "white"
         },
         "name": "",
         "x": [
          "2016-11-05 21:54:56",
          "2016-11-05 22:19:56"
         ],
         "y": [
          3,
          3
         ]
        },
        {
         "marker": {
          "color": "white"
         },
         "name": "",
         "x": [
          "2016-11-05 21:56:00",
          "2016-11-05 22:11:00"
         ],
         "y": [
          5,
          5
         ]
        },
        {
         "marker": {
          "color": "white"
         },
         "name": "",
         "x": [
          "2016-11-05 22:12:24",
          "2016-11-05 22:37:24"
         ],
         "y": [
          2,
          2
         ]
        },
        {
         "marker": {
          "color": "white"
         },
         "name": "",
         "x": [
          "2016-11-05 22:19:56",
          "2016-11-05 23:23:56"
         ],
         "y": [
          3,
          3
         ]
        },
        {
         "marker": {
          "color": "white"
         },
         "name": "",
         "x": [
          "2016-11-05 22:38:48",
          "2016-11-05 22:43:48"
         ],
         "y": [
          5,
          5
         ]
        },
        {
         "marker": {
          "color": "white"
         },
         "name": "",
         "x": [
          "2016-11-05 23:25:20",
          "2016-11-05 23:40:20"
         ],
         "y": [
          5,
          5
         ]
        },
        {
         "marker": {
          "color": "white"
         },
         "name": "",
         "x": [
          "2016-11-05 23:41:44",
          "2016-11-06 00:06:44"
         ],
         "y": [
          2,
          2
         ]
        },
        {
         "marker": {
          "color": "white"
         },
         "name": "",
         "x": [
          "2016-11-06 00:08:08",
          "2016-11-06 00:13:08"
         ],
         "y": [
          5,
          5
         ]
        }
       ],
       "layout": {
        "height": 600,
        "hovermode": "closest",
        "shapes": [
         {
          "fillcolor": "rgb(31, 119, 180)",
          "line": {
           "width": 0
          },
          "opacity": 1,
          "type": "rect",
          "x0": "2016-11-05 07:01:14",
          "x1": "2016-11-05 07:06:14",
          "xref": "x",
          "y0": 4.8,
          "y1": 5.2,
          "yref": "y"
         },
         {
          "fillcolor": "rgb(31, 119, 180)",
          "line": {
           "width": 0
          },
          "opacity": 1,
          "type": "rect",
          "x0": "2016-11-05 07:02:28",
          "x1": "2016-11-05 07:22:28",
          "xref": "x",
          "y0": 3.8,
          "y1": 4.2,
          "yref": "y"
         },
         {
          "fillcolor": "rgb(255, 127, 14)",
          "line": {
           "width": 0
          },
          "opacity": 1,
          "type": "rect",
          "x0": "2016-11-05 07:07:38",
          "x1": "2016-11-05 08:11:38",
          "xref": "x",
          "y0": 2.8,
          "y1": 3.2,
          "yref": "y"
         },
         {
          "fillcolor": "rgb(31, 119, 180)",
          "line": {
           "width": 0
          },
          "opacity": 1,
          "type": "rect",
          "x0": "2016-11-05 07:08:42",
          "x1": "2016-11-05 07:13:42",
          "xref": "x",
          "y0": 4.8,
          "y1": 5.2,
          "yref": "y"
         },
         {
          "fillcolor": "rgb(255, 127, 14)",
          "line": {
           "width": 0
          },
          "opacity": 1,
          "type": "rect",
          "x0": "2016-11-05 07:15:06",
          "x1": "2016-11-05 08:19:06",
          "xref": "x",
          "y0": 1.8,
          "y1": 2.2,
          "yref": "y"
         },
         {
          "fillcolor": "rgb(255, 127, 14)",
          "line": {
           "width": 0
          },
          "opacity": 1,
          "type": "rect",
          "x0": "2016-11-05 07:23:52",
          "x1": "2016-11-05 08:31:52",
          "xref": "x",
          "y0": 0.8,
          "y1": 1.2,
          "yref": "y"
         },
         {
          "fillcolor": "rgb(31, 119, 180)",
          "line": {
           "width": 0
          },
          "opacity": 1,
          "type": "rect",
          "x0": "2016-11-05 07:24:56",
          "x1": "2016-11-05 07:44:56",
          "xref": "x",
          "y0": 3.8,
          "y1": 4.2,
          "yref": "y"
         },
         {
          "fillcolor": "rgb(255, 127, 14)",
          "line": {
           "width": 0
          },
          "opacity": 1,
          "type": "rect",
          "x0": "2016-11-05 07:46:20",
          "x1": "2016-11-05 08:54:20",
          "xref": "x",
          "y0": -0.2,
          "y1": 0.2,
          "yref": "y"
         },
         {
          "fillcolor": "rgb(31, 119, 180)",
          "line": {
           "width": 0
          },
          "opacity": 1,
          "type": "rect",
          "x0": "2016-11-05 07:47:24",
          "x1": "2016-11-05 08:07:24",
          "xref": "x",
          "y0": 3.8,
          "y1": 4.2,
          "yref": "y"
         },
         {
          "fillcolor": "rgb(31, 119, 180)",
          "line": {
           "width": 0
          },
          "opacity": 1,
          "type": "rect",
          "x0": "2016-11-05 08:09:52",
          "x1": "2016-11-05 08:29:52",
          "xref": "x",
          "y0": 3.8,
          "y1": 4.2,
          "yref": "y"
         },
         {
          "fillcolor": "rgb(255, 127, 14)",
          "line": {
           "width": 0
          },
          "opacity": 1,
          "type": "rect",
          "x0": "2016-11-05 08:11:48",
          "x1": "2016-11-05 09:19:48",
          "xref": "x",
          "y0": 2.8,
          "y1": 3.2,
          "yref": "y"
         },
         {
          "fillcolor": "rgb(31, 119, 180)",
          "line": {
           "width": 0
          },
          "opacity": 1,
          "type": "rect",
          "x0": "2016-11-05 08:13:02",
          "x1": "2016-11-05 08:28:02",
          "xref": "x",
          "y0": 4.8,
          "y1": 5.2,
          "yref": "y"
         },
         {
          "fillcolor": "rgb(255, 127, 14)",
          "line": {
           "width": 0
          },
          "opacity": 1,
          "type": "rect",
          "x0": "2016-11-05 08:29:26",
          "x1": "2016-11-05 08:54:26",
          "xref": "x",
          "y0": 1.8,
          "y1": 2.2,
          "yref": "y"
         },
         {
          "fillcolor": "rgb(31, 119, 180)",
          "line": {
           "width": 0
          },
          "opacity": 1,
          "type": "rect",
          "x0": "2016-11-05 08:30:30",
          "x1": "2016-11-05 08:45:30",
          "xref": "x",
          "y0": 4.8,
          "y1": 5.2,
          "yref": "y"
         },
         {
          "fillcolor": "rgb(31, 119, 180)",
          "line": {
           "width": 0
          },
          "opacity": 1,
          "type": "rect",
          "x0": "2016-11-05 08:33:16",
          "x1": "2016-11-05 09:13:16",
          "xref": "x",
          "y0": 3.8,
          "y1": 4.2,
          "yref": "y"
         },
         {
          "fillcolor": "rgb(255, 127, 14)",
          "line": {
           "width": 0
          },
          "opacity": 1,
          "type": "rect",
          "x0": "2016-11-05 08:54:26",
          "x1": "2016-11-05 09:58:26",
          "xref": "x",
          "y0": 1.8,
          "y1": 2.2,
          "yref": "y"
         },
         {
          "fillcolor": "rgb(255, 127, 14)",
          "line": {
           "width": 0
          },
          "opacity": 1,
          "type": "rect",
          "x0": "2016-11-05 09:58:36",
          "x1": "2016-11-05 11:06:36",
          "xref": "x",
          "y0": 2.8,
          "y1": 3.2,
          "yref": "y"
         },
         {
          "fillcolor": "rgb(255, 127, 14)",
          "line": {
           "width": 0
          },
          "opacity": 1,
          "type": "rect",
          "x0": "2016-11-05 09:58:36",
          "x1": "2016-11-05 10:23:36",
          "xref": "x",
          "y0": 1.8,
          "y1": 2.2,
          "yref": "y"
         },
         {
          "fillcolor": "rgb(255, 127, 14)",
          "line": {
           "width": 0
          },
          "opacity": 1,
          "type": "rect",
          "x0": "2016-11-05 09:58:36",
          "x1": "2016-11-05 11:06:36",
          "xref": "x",
          "y0": 0.8,
          "y1": 1.2,
          "yref": "y"
         },
         {
          "fillcolor": "rgb(31, 119, 180)",
          "line": {
           "width": 0
          },
          "opacity": 1,
          "type": "rect",
          "x0": "2016-11-05 09:59:50",
          "x1": "2016-11-05 10:19:50",
          "xref": "x",
          "y0": 4.8,
          "y1": 5.2,
          "yref": "y"
         },
         {
          "fillcolor": "rgb(31, 119, 180)",
          "line": {
           "width": 0
          },
          "opacity": 1,
          "type": "rect",
          "x0": "2016-11-05 10:01:04",
          "x1": "2016-11-05 10:41:04",
          "xref": "x",
          "y0": 3.8,
          "y1": 4.2,
          "yref": "y"
         },
         {
          "fillcolor": "rgb(255, 127, 14)",
          "line": {
           "width": 0
          },
          "opacity": 1,
          "type": "rect",
          "x0": "2016-11-05 10:23:36",
          "x1": "2016-11-05 11:27:36",
          "xref": "x",
          "y0": 1.8,
          "y1": 2.2,
          "yref": "y"
         },
         {
          "fillcolor": "rgb(31, 119, 180)",
          "line": {
           "width": 0
          },
          "opacity": 1,
          "type": "rect",
          "x0": "2016-11-05 10:43:32",
          "x1": "2016-11-05 11:23:32",
          "xref": "x",
          "y0": 3.8,
          "y1": 4.2,
          "yref": "y"
         },
         {
          "fillcolor": "rgb(255, 127, 14)",
          "line": {
           "width": 0
          },
          "opacity": 1,
          "type": "rect",
          "x0": "2016-11-05 11:06:46",
          "x1": "2016-11-05 11:31:46",
          "xref": "x",
          "y0": 2.8,
          "y1": 3.2,
          "yref": "y"
         },
         {
          "fillcolor": "rgb(255, 127, 14)",
          "line": {
           "width": 0
          },
          "opacity": 1,
          "type": "rect",
          "x0": "2016-11-05 11:06:46",
          "x1": "2016-11-05 12:14:46",
          "xref": "x",
          "y0": -0.2,
          "y1": 0.2,
          "yref": "y"
         },
         {
          "fillcolor": "rgb(255, 127, 14)",
          "line": {
           "width": 0
          },
          "opacity": 1,
          "type": "rect",
          "x0": "2016-11-05 11:24:56",
          "x1": "2016-11-05 12:32:56",
          "xref": "x",
          "y0": 0.8,
          "y1": 1.2,
          "yref": "y"
         },
         {
          "fillcolor": "rgb(31, 119, 180)",
          "line": {
           "width": 0
          },
          "opacity": 1,
          "type": "rect",
          "x0": "2016-11-05 11:26:00",
          "x1": "2016-11-05 12:06:00",
          "xref": "x",
          "y0": 3.8,
          "y1": 4.2,
          "yref": "y"
         },
         {
          "fillcolor": "rgb(31, 119, 180)",
          "line": {
           "width": 0
          },
          "opacity": 1,
          "type": "rect",
          "x0": "2016-11-05 11:29:00",
          "x1": "2016-11-05 11:49:00",
          "xref": "x",
          "y0": 4.8,
          "y1": 5.2,
          "yref": "y"
         },
         {
          "fillcolor": "rgb(255, 127, 14)",
          "line": {
           "width": 0
          },
          "opacity": 1,
          "type": "rect",
          "x0": "2016-11-05 11:31:46",
          "x1": "2016-11-05 12:35:46",
          "xref": "x",
          "y0": 2.8,
          "y1": 3.2,
          "yref": "y"
         },
         {
          "fillcolor": "rgb(255, 127, 14)",
          "line": {
           "width": 0
          },
          "opacity": 1,
          "type": "rect",
          "x0": "2016-11-05 11:50:24",
          "x1": "2016-11-05 12:15:24",
          "xref": "x",
          "y0": 1.8,
          "y1": 2.2,
          "yref": "y"
         },
         {
          "fillcolor": "rgb(31, 119, 180)",
          "line": {
           "width": 0
          },
          "opacity": 1,
          "type": "rect",
          "x0": "2016-11-05 12:08:28",
          "x1": "2016-11-05 12:48:28",
          "xref": "x",
          "y0": 3.8,
          "y1": 4.2,
          "yref": "y"
         },
         {
          "fillcolor": "rgb(255, 127, 14)",
          "line": {
           "width": 0
          },
          "opacity": 1,
          "type": "rect",
          "x0": "2016-11-05 12:15:24",
          "x1": "2016-11-05 13:19:24",
          "xref": "x",
          "y0": 1.8,
          "y1": 2.2,
          "yref": "y"
         },
         {
          "fillcolor": "rgb(31, 119, 180)",
          "line": {
           "width": 0
          },
          "opacity": 1,
          "type": "rect",
          "x0": "2016-11-05 12:37:10",
          "x1": "2016-11-05 12:57:10",
          "xref": "x",
          "y0": 4.8,
          "y1": 5.2,
          "yref": "y"
         },
         {
          "fillcolor": "rgb(255, 127, 14)",
          "line": {
           "width": 0
          },
          "opacity": 1,
          "type": "rect",
          "x0": "2016-11-05 13:19:34",
          "x1": "2016-11-05 14:27:34",
          "xref": "x",
          "y0": 2.8,
          "y1": 3.2,
          "yref": "y"
         },
         {
          "fillcolor": "rgb(255, 127, 14)",
          "line": {
           "width": 0
          },
          "opacity": 1,
          "type": "rect",
          "x0": "2016-11-05 13:19:34",
          "x1": "2016-11-05 14:27:34",
          "xref": "x",
          "y0": 1.8,
          "y1": 2.2,
          "yref": "y"
         },
         {
          "fillcolor": "rgb(31, 119, 180)",
          "line": {
           "width": 0
          },
          "opacity": 1,
          "type": "rect",
          "x0": "2016-11-05 13:20:48",
          "x1": "2016-11-05 13:40:48",
          "xref": "x",
          "y0": 4.8,
          "y1": 5.2,
          "yref": "y"
         },
         {
          "fillcolor": "rgb(31, 119, 180)",
          "line": {
           "width": 0
          },
          "opacity": 1,
          "type": "rect",
          "x0": "2016-11-05 13:22:02",
          "x1": "2016-11-05 14:02:02",
          "xref": "x",
          "y0": 3.8,
          "y1": 4.2,
          "yref": "y"
         },
         {
          "fillcolor": "rgb(31, 119, 180)",
          "line": {
           "width": 0
          },
          "opacity": 1,
          "type": "rect",
          "x0": "2016-11-05 14:04:30",
          "x1": "2016-11-05 14:24:30",
          "xref": "x",
          "y0": 3.8,
          "y1": 4.2,
          "yref": "y"
         },
         {
          "fillcolor": "rgb(255, 127, 14)",
          "line": {
           "width": 0
          },
          "opacity": 1,
          "type": "rect",
          "x0": "2016-11-05 14:27:44",
          "x1": "2016-11-05 14:52:44",
          "xref": "x",
          "y0": 2.8,
          "y1": 3.2,
          "yref": "y"
         },
         {
          "fillcolor": "rgb(255, 127, 14)",
          "line": {
           "width": 0
          },
          "opacity": 1,
          "type": "rect",
          "x0": "2016-11-05 14:27:44",
          "x1": "2016-11-05 14:52:44",
          "xref": "x",
          "y0": 1.8,
          "y1": 2.2,
          "yref": "y"
         },
         {
          "fillcolor": "rgb(255, 127, 14)",
          "line": {
           "width": 0
          },
          "opacity": 1,
          "type": "rect",
          "x0": "2016-11-05 14:27:44",
          "x1": "2016-11-05 15:35:44",
          "xref": "x",
          "y0": 0.8,
          "y1": 1.2,
          "yref": "y"
         },
         {
          "fillcolor": "rgb(31, 119, 180)",
          "line": {
           "width": 0
          },
          "opacity": 1,
          "type": "rect",
          "x0": "2016-11-05 14:28:58",
          "x1": "2016-11-05 14:48:58",
          "xref": "x",
          "y0": 3.8,
          "y1": 4.2,
          "yref": "y"
         },
         {
          "fillcolor": "rgb(31, 119, 180)",
          "line": {
           "width": 0
          },
          "opacity": 1,
          "type": "rect",
          "x0": "2016-11-05 14:51:26",
          "x1": "2016-11-05 15:11:26",
          "xref": "x",
          "y0": 3.8,
          "y1": 4.2,
          "yref": "y"
         },
         {
          "fillcolor": "rgb(255, 127, 14)",
          "line": {
           "width": 0
          },
          "opacity": 1,
          "type": "rect",
          "x0": "2016-11-05 14:52:44",
          "x1": "2016-11-05 15:56:44",
          "xref": "x",
          "y0": 2.8,
          "y1": 3.2,
          "yref": "y"
         },
         {
          "fillcolor": "rgb(255, 127, 14)",
          "line": {
           "width": 0
          },
          "opacity": 1,
          "type": "rect",
          "x0": "2016-11-05 14:52:44",
          "x1": "2016-11-05 15:56:44",
          "xref": "x",
          "y0": 1.8,
          "y1": 2.2,
          "yref": "y"
         },
         {
          "fillcolor": "rgb(31, 119, 180)",
          "line": {
           "width": 0
          },
          "opacity": 1,
          "type": "rect",
          "x0": "2016-11-05 15:37:08",
          "x1": "2016-11-05 15:57:08",
          "xref": "x",
          "y0": 3.8,
          "y1": 4.2,
          "yref": "y"
         },
         {
          "fillcolor": "rgb(31, 119, 180)",
          "line": {
           "width": 0
          },
          "opacity": 1,
          "type": "rect",
          "x0": "2016-11-05 15:58:08",
          "x1": "2016-11-05 16:18:08",
          "xref": "x",
          "y0": 4.8,
          "y1": 5.2,
          "yref": "y"
         },
         {
          "fillcolor": "rgb(255, 127, 14)",
          "line": {
           "width": 0
          },
          "opacity": 1,
          "type": "rect",
          "x0": "2016-11-05 16:19:32",
          "x1": "2016-11-05 16:44:32",
          "xref": "x",
          "y0": 2.8,
          "y1": 3.2,
          "yref": "y"
         },
         {
          "fillcolor": "rgb(31, 119, 180)",
          "line": {
           "width": 0
          },
          "opacity": 1,
          "type": "rect",
          "x0": "2016-11-05 16:20:36",
          "x1": "2016-11-05 16:40:36",
          "xref": "x",
          "y0": 4.8,
          "y1": 5.2,
          "yref": "y"
         },
         {
          "fillcolor": "rgb(255, 127, 14)",
          "line": {
           "width": 0
          },
          "opacity": 1,
          "type": "rect",
          "x0": "2016-11-05 16:42:00",
          "x1": "2016-11-05 17:07:00",
          "xref": "x",
          "y0": 1.8,
          "y1": 2.2,
          "yref": "y"
         },
         {
          "fillcolor": "rgb(255, 127, 14)",
          "line": {
           "width": 0
          },
          "opacity": 1,
          "type": "rect",
          "x0": "2016-11-05 16:44:32",
          "x1": "2016-11-05 17:48:32",
          "xref": "x",
          "y0": 2.8,
          "y1": 3.2,
          "yref": "y"
         },
         {
          "fillcolor": "rgb(255, 127, 14)",
          "line": {
           "width": 0
          },
          "opacity": 1,
          "type": "rect",
          "x0": "2016-11-05 17:07:00",
          "x1": "2016-11-05 18:11:00",
          "xref": "x",
          "y0": 1.8,
          "y1": 2.2,
          "yref": "y"
         },
         {
          "fillcolor": "rgb(31, 119, 180)",
          "line": {
           "width": 0
          },
          "opacity": 1,
          "type": "rect",
          "x0": "2016-11-05 17:49:56",
          "x1": "2016-11-05 18:09:56",
          "xref": "x",
          "y0": 4.8,
          "y1": 5.2,
          "yref": "y"
         },
         {
          "fillcolor": "rgb(255, 127, 14)",
          "line": {
           "width": 0
          },
          "opacity": 1,
          "type": "rect",
          "x0": "2016-11-05 18:11:20",
          "x1": "2016-11-05 18:36:20",
          "xref": "x",
          "y0": 2.8,
          "y1": 3.2,
          "yref": "y"
         },
         {
          "fillcolor": "rgb(31, 119, 180)",
          "line": {
           "width": 0
          },
          "opacity": 1,
          "type": "rect",
          "x0": "2016-11-05 18:12:24",
          "x1": "2016-11-05 18:32:24",
          "xref": "x",
          "y0": 4.8,
          "y1": 5.2,
          "yref": "y"
         },
         {
          "fillcolor": "rgb(255, 127, 14)",
          "line": {
           "width": 0
          },
          "opacity": 1,
          "type": "rect",
          "x0": "2016-11-05 18:33:48",
          "x1": "2016-11-05 18:58:48",
          "xref": "x",
          "y0": 1.8,
          "y1": 2.2,
          "yref": "y"
         },
         {
          "fillcolor": "rgb(255, 127, 14)",
          "line": {
           "width": 0
          },
          "opacity": 1,
          "type": "rect",
          "x0": "2016-11-05 18:36:20",
          "x1": "2016-11-05 19:40:20",
          "xref": "x",
          "y0": 2.8,
          "y1": 3.2,
          "yref": "y"
         },
         {
          "fillcolor": "rgb(255, 127, 14)",
          "line": {
           "width": 0
          },
          "opacity": 1,
          "type": "rect",
          "x0": "2016-11-05 18:58:48",
          "x1": "2016-11-05 20:02:48",
          "xref": "x",
          "y0": 1.8,
          "y1": 2.2,
          "yref": "y"
         },
         {
          "fillcolor": "rgb(31, 119, 180)",
          "line": {
           "width": 0
          },
          "opacity": 1,
          "type": "rect",
          "x0": "2016-11-05 19:41:44",
          "x1": "2016-11-05 20:01:44",
          "xref": "x",
          "y0": 4.8,
          "y1": 5.2,
          "yref": "y"
         },
         {
          "fillcolor": "rgb(255, 127, 14)",
          "line": {
           "width": 0
          },
          "opacity": 1,
          "type": "rect",
          "x0": "2016-11-05 20:03:08",
          "x1": "2016-11-05 20:28:08",
          "xref": "x",
          "y0": 2.8,
          "y1": 3.2,
          "yref": "y"
         },
         {
          "fillcolor": "rgb(31, 119, 180)",
          "line": {
           "width": 0
          },
          "opacity": 1,
          "type": "rect",
          "x0": "2016-11-05 20:04:12",
          "x1": "2016-11-05 20:24:12",
          "xref": "x",
          "y0": 4.8,
          "y1": 5.2,
          "yref": "y"
         },
         {
          "fillcolor": "rgb(255, 127, 14)",
          "line": {
           "width": 0
          },
          "opacity": 1,
          "type": "rect",
          "x0": "2016-11-05 20:25:36",
          "x1": "2016-11-05 20:50:36",
          "xref": "x",
          "y0": 1.8,
          "y1": 2.2,
          "yref": "y"
         },
         {
          "fillcolor": "rgb(255, 127, 14)",
          "line": {
           "width": 0
          },
          "opacity": 1,
          "type": "rect",
          "x0": "2016-11-05 20:28:08",
          "x1": "2016-11-05 21:32:08",
          "xref": "x",
          "y0": 2.8,
          "y1": 3.2,
          "yref": "y"
         },
         {
          "fillcolor": "rgb(255, 127, 14)",
          "line": {
           "width": 0
          },
          "opacity": 1,
          "type": "rect",
          "x0": "2016-11-05 20:50:36",
          "x1": "2016-11-05 21:54:36",
          "xref": "x",
          "y0": 1.8,
          "y1": 2.2,
          "yref": "y"
         },
         {
          "fillcolor": "rgb(31, 119, 180)",
          "line": {
           "width": 0
          },
          "opacity": 1,
          "type": "rect",
          "x0": "2016-11-05 21:33:32",
          "x1": "2016-11-05 21:53:32",
          "xref": "x",
          "y0": 4.8,
          "y1": 5.2,
          "yref": "y"
         },
         {
          "fillcolor": "rgb(255, 127, 14)",
          "line": {
           "width": 0
          },
          "opacity": 1,
          "type": "rect",
          "x0": "2016-11-05 21:54:56",
          "x1": "2016-11-05 22:19:56",
          "xref": "x",
          "y0": 2.8,
          "y1": 3.2,
          "yref": "y"
         },
         {
          "fillcolor": "rgb(31, 119, 180)",
          "line": {
           "width": 0
          },
          "opacity": 1,
          "type": "rect",
          "x0": "2016-11-05 21:56:00",
          "x1": "2016-11-05 22:11:00",
          "xref": "x",
          "y0": 4.8,
          "y1": 5.2,
          "yref": "y"
         },
         {
          "fillcolor": "rgb(255, 127, 14)",
          "line": {
           "width": 0
          },
          "opacity": 1,
          "type": "rect",
          "x0": "2016-11-05 22:12:24",
          "x1": "2016-11-05 22:37:24",
          "xref": "x",
          "y0": 1.8,
          "y1": 2.2,
          "yref": "y"
         },
         {
          "fillcolor": "rgb(255, 127, 14)",
          "line": {
           "width": 0
          },
          "opacity": 1,
          "type": "rect",
          "x0": "2016-11-05 22:19:56",
          "x1": "2016-11-05 23:23:56",
          "xref": "x",
          "y0": 2.8,
          "y1": 3.2,
          "yref": "y"
         },
         {
          "fillcolor": "rgb(31, 119, 180)",
          "line": {
           "width": 0
          },
          "opacity": 1,
          "type": "rect",
          "x0": "2016-11-05 22:38:48",
          "x1": "2016-11-05 22:43:48",
          "xref": "x",
          "y0": 4.8,
          "y1": 5.2,
          "yref": "y"
         },
         {
          "fillcolor": "rgb(31, 119, 180)",
          "line": {
           "width": 0
          },
          "opacity": 1,
          "type": "rect",
          "x0": "2016-11-05 23:25:20",
          "x1": "2016-11-05 23:40:20",
          "xref": "x",
          "y0": 4.8,
          "y1": 5.2,
          "yref": "y"
         },
         {
          "fillcolor": "rgb(255, 127, 14)",
          "line": {
           "width": 0
          },
          "opacity": 1,
          "type": "rect",
          "x0": "2016-11-05 23:41:44",
          "x1": "2016-11-06 00:06:44",
          "xref": "x",
          "y0": 1.8,
          "y1": 2.2,
          "yref": "y"
         },
         {
          "fillcolor": "rgb(31, 119, 180)",
          "line": {
           "width": 0
          },
          "opacity": 1,
          "type": "rect",
          "x0": "2016-11-06 00:08:08",
          "x1": "2016-11-06 00:13:08",
          "xref": "x",
          "y0": 4.8,
          "y1": 5.2,
          "yref": "y"
         }
        ],
        "showlegend": false,
        "title": "Gantt Chart",
        "width": 900,
        "xaxis": {
         "rangeselector": {
          "buttons": [
           {
            "count": 7,
            "label": "1w",
            "step": "day",
            "stepmode": "backward"
           },
           {
            "count": 1,
            "label": "1m",
            "step": "month",
            "stepmode": "backward"
           },
           {
            "count": 6,
            "label": "6m",
            "step": "month",
            "stepmode": "backward"
           },
           {
            "count": 1,
            "label": "YTD",
            "step": "year",
            "stepmode": "todate"
           },
           {
            "count": 1,
            "label": "1y",
            "step": "year",
            "stepmode": "backward"
           },
           {
            "step": "all"
           }
          ]
         },
         "showgrid": false,
         "type": "date",
         "zeroline": false
        },
        "yaxis": {
         "autorange": false,
         "range": [
          -1,
          7
         ],
         "showgrid": false,
         "ticktext": [
          "Machine3",
          "Machine4",
          "Machine2",
          "Machine1",
          "L/U2",
          "L/U1"
         ],
         "tickvals": [
          0,
          1,
          2,
          3,
          4,
          5
         ],
         "zeroline": false
        }
       }
      },
      "text/html": [
       "<div id=\"fc92ff80-dc92-4e1f-a912-5353a255b0eb\" style=\"height: 600px; width: 900px;\" class=\"plotly-graph-div\"></div><script type=\"text/javascript\">require([\"plotly\"], function(Plotly) { window.PLOTLYENV=window.PLOTLYENV || {};window.PLOTLYENV.BASE_URL=\"https://plot.ly\";Plotly.newPlot(\"fc92ff80-dc92-4e1f-a912-5353a255b0eb\", [{\"x\": [\"2016-11-05 07:01:14\", \"2016-11-05 07:06:14\"], \"y\": [5, 5], \"name\": \"\", \"marker\": {\"color\": \"white\"}}, {\"x\": [\"2016-11-05 07:02:28\", \"2016-11-05 07:22:28\"], \"y\": [4, 4], \"name\": \"\", \"marker\": {\"color\": \"white\"}}, {\"x\": [\"2016-11-05 07:07:38\", \"2016-11-05 08:11:38\"], \"y\": [3, 3], \"name\": \"\", \"marker\": {\"color\": \"white\"}}, {\"x\": [\"2016-11-05 07:08:42\", \"2016-11-05 07:13:42\"], \"y\": [5, 5], \"name\": \"\", \"marker\": {\"color\": \"white\"}}, {\"x\": [\"2016-11-05 07:15:06\", \"2016-11-05 08:19:06\"], \"y\": [2, 2], \"name\": \"\", \"marker\": {\"color\": \"white\"}}, {\"x\": [\"2016-11-05 07:23:52\", \"2016-11-05 08:31:52\"], \"y\": [1, 1], \"name\": \"\", \"marker\": {\"color\": \"white\"}}, {\"x\": [\"2016-11-05 07:24:56\", \"2016-11-05 07:44:56\"], \"y\": [4, 4], \"name\": \"\", \"marker\": {\"color\": \"white\"}}, {\"x\": [\"2016-11-05 07:46:20\", \"2016-11-05 08:54:20\"], \"y\": [0, 0], \"name\": \"\", \"marker\": {\"color\": \"white\"}}, {\"x\": [\"2016-11-05 07:47:24\", \"2016-11-05 08:07:24\"], \"y\": [4, 4], \"name\": \"\", \"marker\": {\"color\": \"white\"}}, {\"x\": [\"2016-11-05 08:09:52\", \"2016-11-05 08:29:52\"], \"y\": [4, 4], \"name\": \"\", \"marker\": {\"color\": \"white\"}}, {\"x\": [\"2016-11-05 08:11:48\", \"2016-11-05 09:19:48\"], \"y\": [3, 3], \"name\": \"\", \"marker\": {\"color\": \"white\"}}, {\"x\": [\"2016-11-05 08:13:02\", \"2016-11-05 08:28:02\"], \"y\": [5, 5], \"name\": \"\", \"marker\": {\"color\": \"white\"}}, {\"x\": [\"2016-11-05 08:29:26\", \"2016-11-05 08:54:26\"], \"y\": [2, 2], \"name\": \"\", \"marker\": {\"color\": \"white\"}}, {\"x\": [\"2016-11-05 08:30:30\", \"2016-11-05 08:45:30\"], \"y\": [5, 5], \"name\": \"\", \"marker\": {\"color\": \"white\"}}, {\"x\": [\"2016-11-05 08:33:16\", \"2016-11-05 09:13:16\"], \"y\": [4, 4], \"name\": \"\", \"marker\": {\"color\": \"white\"}}, {\"x\": [\"2016-11-05 08:54:26\", \"2016-11-05 09:58:26\"], \"y\": [2, 2], \"name\": \"\", \"marker\": {\"color\": \"white\"}}, {\"x\": [\"2016-11-05 09:58:36\", \"2016-11-05 11:06:36\"], \"y\": [3, 3], \"name\": \"\", \"marker\": {\"color\": \"white\"}}, {\"x\": [\"2016-11-05 09:58:36\", \"2016-11-05 10:23:36\"], \"y\": [2, 2], \"name\": \"\", \"marker\": {\"color\": \"white\"}}, {\"x\": [\"2016-11-05 09:58:36\", \"2016-11-05 11:06:36\"], \"y\": [1, 1], \"name\": \"\", \"marker\": {\"color\": \"white\"}}, {\"x\": [\"2016-11-05 09:59:50\", \"2016-11-05 10:19:50\"], \"y\": [5, 5], \"name\": \"\", \"marker\": {\"color\": \"white\"}}, {\"x\": [\"2016-11-05 10:01:04\", \"2016-11-05 10:41:04\"], \"y\": [4, 4], \"name\": \"\", \"marker\": {\"color\": \"white\"}}, {\"x\": [\"2016-11-05 10:23:36\", \"2016-11-05 11:27:36\"], \"y\": [2, 2], \"name\": \"\", \"marker\": {\"color\": \"white\"}}, {\"x\": [\"2016-11-05 10:43:32\", \"2016-11-05 11:23:32\"], \"y\": [4, 4], \"name\": \"\", \"marker\": {\"color\": \"white\"}}, {\"x\": [\"2016-11-05 11:06:46\", \"2016-11-05 11:31:46\"], \"y\": [3, 3], \"name\": \"\", \"marker\": {\"color\": \"white\"}}, {\"x\": [\"2016-11-05 11:06:46\", \"2016-11-05 12:14:46\"], \"y\": [0, 0], \"name\": \"\", \"marker\": {\"color\": \"white\"}}, {\"x\": [\"2016-11-05 11:24:56\", \"2016-11-05 12:32:56\"], \"y\": [1, 1], \"name\": \"\", \"marker\": {\"color\": \"white\"}}, {\"x\": [\"2016-11-05 11:26:00\", \"2016-11-05 12:06:00\"], \"y\": [4, 4], \"name\": \"\", \"marker\": {\"color\": \"white\"}}, {\"x\": [\"2016-11-05 11:29:00\", \"2016-11-05 11:49:00\"], \"y\": [5, 5], \"name\": \"\", \"marker\": {\"color\": \"white\"}}, {\"x\": [\"2016-11-05 11:31:46\", \"2016-11-05 12:35:46\"], \"y\": [3, 3], \"name\": \"\", \"marker\": {\"color\": \"white\"}}, {\"x\": [\"2016-11-05 11:50:24\", \"2016-11-05 12:15:24\"], \"y\": [2, 2], \"name\": \"\", \"marker\": {\"color\": \"white\"}}, {\"x\": [\"2016-11-05 12:08:28\", \"2016-11-05 12:48:28\"], \"y\": [4, 4], \"name\": \"\", \"marker\": {\"color\": \"white\"}}, {\"x\": [\"2016-11-05 12:15:24\", \"2016-11-05 13:19:24\"], \"y\": [2, 2], \"name\": \"\", \"marker\": {\"color\": \"white\"}}, {\"x\": [\"2016-11-05 12:37:10\", \"2016-11-05 12:57:10\"], \"y\": [5, 5], \"name\": \"\", \"marker\": {\"color\": \"white\"}}, {\"x\": [\"2016-11-05 13:19:34\", \"2016-11-05 14:27:34\"], \"y\": [3, 3], \"name\": \"\", \"marker\": {\"color\": \"white\"}}, {\"x\": [\"2016-11-05 13:19:34\", \"2016-11-05 14:27:34\"], \"y\": [2, 2], \"name\": \"\", \"marker\": {\"color\": \"white\"}}, {\"x\": [\"2016-11-05 13:20:48\", \"2016-11-05 13:40:48\"], \"y\": [5, 5], \"name\": \"\", \"marker\": {\"color\": \"white\"}}, {\"x\": [\"2016-11-05 13:22:02\", \"2016-11-05 14:02:02\"], \"y\": [4, 4], \"name\": \"\", \"marker\": {\"color\": \"white\"}}, {\"x\": [\"2016-11-05 14:04:30\", \"2016-11-05 14:24:30\"], \"y\": [4, 4], \"name\": \"\", \"marker\": {\"color\": \"white\"}}, {\"x\": [\"2016-11-05 14:27:44\", \"2016-11-05 14:52:44\"], \"y\": [3, 3], \"name\": \"\", \"marker\": {\"color\": \"white\"}}, {\"x\": [\"2016-11-05 14:27:44\", \"2016-11-05 14:52:44\"], \"y\": [2, 2], \"name\": \"\", \"marker\": {\"color\": \"white\"}}, {\"x\": [\"2016-11-05 14:27:44\", \"2016-11-05 15:35:44\"], \"y\": [1, 1], \"name\": \"\", \"marker\": {\"color\": \"white\"}}, {\"x\": [\"2016-11-05 14:28:58\", \"2016-11-05 14:48:58\"], \"y\": [4, 4], \"name\": \"\", \"marker\": {\"color\": \"white\"}}, {\"x\": [\"2016-11-05 14:51:26\", \"2016-11-05 15:11:26\"], \"y\": [4, 4], \"name\": \"\", \"marker\": {\"color\": \"white\"}}, {\"x\": [\"2016-11-05 14:52:44\", \"2016-11-05 15:56:44\"], \"y\": [3, 3], \"name\": \"\", \"marker\": {\"color\": \"white\"}}, {\"x\": [\"2016-11-05 14:52:44\", \"2016-11-05 15:56:44\"], \"y\": [2, 2], \"name\": \"\", \"marker\": {\"color\": \"white\"}}, {\"x\": [\"2016-11-05 15:37:08\", \"2016-11-05 15:57:08\"], \"y\": [4, 4], \"name\": \"\", \"marker\": {\"color\": \"white\"}}, {\"x\": [\"2016-11-05 15:58:08\", \"2016-11-05 16:18:08\"], \"y\": [5, 5], \"name\": \"\", \"marker\": {\"color\": \"white\"}}, {\"x\": [\"2016-11-05 16:19:32\", \"2016-11-05 16:44:32\"], \"y\": [3, 3], \"name\": \"\", \"marker\": {\"color\": \"white\"}}, {\"x\": [\"2016-11-05 16:20:36\", \"2016-11-05 16:40:36\"], \"y\": [5, 5], \"name\": \"\", \"marker\": {\"color\": \"white\"}}, {\"x\": [\"2016-11-05 16:42:00\", \"2016-11-05 17:07:00\"], \"y\": [2, 2], \"name\": \"\", \"marker\": {\"color\": \"white\"}}, {\"x\": [\"2016-11-05 16:44:32\", \"2016-11-05 17:48:32\"], \"y\": [3, 3], \"name\": \"\", \"marker\": {\"color\": \"white\"}}, {\"x\": [\"2016-11-05 17:07:00\", \"2016-11-05 18:11:00\"], \"y\": [2, 2], \"name\": \"\", \"marker\": {\"color\": \"white\"}}, {\"x\": [\"2016-11-05 17:49:56\", \"2016-11-05 18:09:56\"], \"y\": [5, 5], \"name\": \"\", \"marker\": {\"color\": \"white\"}}, {\"x\": [\"2016-11-05 18:11:20\", \"2016-11-05 18:36:20\"], \"y\": [3, 3], \"name\": \"\", \"marker\": {\"color\": \"white\"}}, {\"x\": [\"2016-11-05 18:12:24\", \"2016-11-05 18:32:24\"], \"y\": [5, 5], \"name\": \"\", \"marker\": {\"color\": \"white\"}}, {\"x\": [\"2016-11-05 18:33:48\", \"2016-11-05 18:58:48\"], \"y\": [2, 2], \"name\": \"\", \"marker\": {\"color\": \"white\"}}, {\"x\": [\"2016-11-05 18:36:20\", \"2016-11-05 19:40:20\"], \"y\": [3, 3], \"name\": \"\", \"marker\": {\"color\": \"white\"}}, {\"x\": [\"2016-11-05 18:58:48\", \"2016-11-05 20:02:48\"], \"y\": [2, 2], \"name\": \"\", \"marker\": {\"color\": \"white\"}}, {\"x\": [\"2016-11-05 19:41:44\", \"2016-11-05 20:01:44\"], \"y\": [5, 5], \"name\": \"\", \"marker\": {\"color\": \"white\"}}, {\"x\": [\"2016-11-05 20:03:08\", \"2016-11-05 20:28:08\"], \"y\": [3, 3], \"name\": \"\", \"marker\": {\"color\": \"white\"}}, {\"x\": [\"2016-11-05 20:04:12\", \"2016-11-05 20:24:12\"], \"y\": [5, 5], \"name\": \"\", \"marker\": {\"color\": \"white\"}}, {\"x\": [\"2016-11-05 20:25:36\", \"2016-11-05 20:50:36\"], \"y\": [2, 2], \"name\": \"\", \"marker\": {\"color\": \"white\"}}, {\"x\": [\"2016-11-05 20:28:08\", \"2016-11-05 21:32:08\"], \"y\": [3, 3], \"name\": \"\", \"marker\": {\"color\": \"white\"}}, {\"x\": [\"2016-11-05 20:50:36\", \"2016-11-05 21:54:36\"], \"y\": [2, 2], \"name\": \"\", \"marker\": {\"color\": \"white\"}}, {\"x\": [\"2016-11-05 21:33:32\", \"2016-11-05 21:53:32\"], \"y\": [5, 5], \"name\": \"\", \"marker\": {\"color\": \"white\"}}, {\"x\": [\"2016-11-05 21:54:56\", \"2016-11-05 22:19:56\"], \"y\": [3, 3], \"name\": \"\", \"marker\": {\"color\": \"white\"}}, {\"x\": [\"2016-11-05 21:56:00\", \"2016-11-05 22:11:00\"], \"y\": [5, 5], \"name\": \"\", \"marker\": {\"color\": \"white\"}}, {\"x\": [\"2016-11-05 22:12:24\", \"2016-11-05 22:37:24\"], \"y\": [2, 2], \"name\": \"\", \"marker\": {\"color\": \"white\"}}, {\"x\": [\"2016-11-05 22:19:56\", \"2016-11-05 23:23:56\"], \"y\": [3, 3], \"name\": \"\", \"marker\": {\"color\": \"white\"}}, {\"x\": [\"2016-11-05 22:38:48\", \"2016-11-05 22:43:48\"], \"y\": [5, 5], \"name\": \"\", \"marker\": {\"color\": \"white\"}}, {\"x\": [\"2016-11-05 23:25:20\", \"2016-11-05 23:40:20\"], \"y\": [5, 5], \"name\": \"\", \"marker\": {\"color\": \"white\"}}, {\"x\": [\"2016-11-05 23:41:44\", \"2016-11-06 00:06:44\"], \"y\": [2, 2], \"name\": \"\", \"marker\": {\"color\": \"white\"}}, {\"x\": [\"2016-11-06 00:08:08\", \"2016-11-06 00:13:08\"], \"y\": [5, 5], \"name\": \"\", \"marker\": {\"color\": \"white\"}}], {\"title\": \"Gantt Chart\", \"showlegend\": false, \"height\": 600, \"width\": 900, \"shapes\": [{\"x0\": \"2016-11-05 07:01:14\", \"x1\": \"2016-11-05 07:06:14\", \"type\": \"rect\", \"xref\": \"x\", \"yref\": \"y\", \"opacity\": 1, \"line\": {\"width\": 0}, \"y0\": 4.8, \"y1\": 5.2, \"fillcolor\": \"rgb(31, 119, 180)\"}, {\"x0\": \"2016-11-05 07:02:28\", \"x1\": \"2016-11-05 07:22:28\", \"type\": \"rect\", \"xref\": \"x\", \"yref\": \"y\", \"opacity\": 1, \"line\": {\"width\": 0}, \"y0\": 3.8, \"y1\": 4.2, \"fillcolor\": \"rgb(31, 119, 180)\"}, {\"x0\": \"2016-11-05 07:07:38\", \"x1\": \"2016-11-05 08:11:38\", \"type\": \"rect\", \"xref\": \"x\", \"yref\": \"y\", \"opacity\": 1, \"line\": {\"width\": 0}, \"y0\": 2.8, \"y1\": 3.2, \"fillcolor\": \"rgb(255, 127, 14)\"}, {\"x0\": \"2016-11-05 07:08:42\", \"x1\": \"2016-11-05 07:13:42\", \"type\": \"rect\", \"xref\": \"x\", \"yref\": \"y\", \"opacity\": 1, \"line\": {\"width\": 0}, \"y0\": 4.8, \"y1\": 5.2, \"fillcolor\": \"rgb(31, 119, 180)\"}, {\"x0\": \"2016-11-05 07:15:06\", \"x1\": \"2016-11-05 08:19:06\", \"type\": \"rect\", \"xref\": \"x\", \"yref\": \"y\", \"opacity\": 1, \"line\": {\"width\": 0}, \"y0\": 1.8, \"y1\": 2.2, \"fillcolor\": \"rgb(255, 127, 14)\"}, {\"x0\": \"2016-11-05 07:23:52\", \"x1\": \"2016-11-05 08:31:52\", \"type\": \"rect\", \"xref\": \"x\", \"yref\": \"y\", \"opacity\": 1, \"line\": {\"width\": 0}, \"y0\": 0.8, \"y1\": 1.2, \"fillcolor\": \"rgb(255, 127, 14)\"}, {\"x0\": \"2016-11-05 07:24:56\", \"x1\": \"2016-11-05 07:44:56\", \"type\": \"rect\", \"xref\": \"x\", \"yref\": \"y\", \"opacity\": 1, \"line\": {\"width\": 0}, \"y0\": 3.8, \"y1\": 4.2, \"fillcolor\": \"rgb(31, 119, 180)\"}, {\"x0\": \"2016-11-05 07:46:20\", \"x1\": \"2016-11-05 08:54:20\", \"type\": \"rect\", \"xref\": \"x\", \"yref\": \"y\", \"opacity\": 1, \"line\": {\"width\": 0}, \"y0\": -0.2, \"y1\": 0.2, \"fillcolor\": \"rgb(255, 127, 14)\"}, {\"x0\": \"2016-11-05 07:47:24\", \"x1\": \"2016-11-05 08:07:24\", \"type\": \"rect\", \"xref\": \"x\", \"yref\": \"y\", \"opacity\": 1, \"line\": {\"width\": 0}, \"y0\": 3.8, \"y1\": 4.2, \"fillcolor\": \"rgb(31, 119, 180)\"}, {\"x0\": \"2016-11-05 08:09:52\", \"x1\": \"2016-11-05 08:29:52\", \"type\": \"rect\", \"xref\": \"x\", \"yref\": \"y\", \"opacity\": 1, \"line\": {\"width\": 0}, \"y0\": 3.8, \"y1\": 4.2, \"fillcolor\": \"rgb(31, 119, 180)\"}, {\"x0\": \"2016-11-05 08:11:48\", \"x1\": \"2016-11-05 09:19:48\", \"type\": \"rect\", \"xref\": \"x\", \"yref\": \"y\", \"opacity\": 1, \"line\": {\"width\": 0}, \"y0\": 2.8, \"y1\": 3.2, \"fillcolor\": \"rgb(255, 127, 14)\"}, {\"x0\": \"2016-11-05 08:13:02\", \"x1\": \"2016-11-05 08:28:02\", \"type\": \"rect\", \"xref\": \"x\", \"yref\": \"y\", \"opacity\": 1, \"line\": {\"width\": 0}, \"y0\": 4.8, \"y1\": 5.2, \"fillcolor\": \"rgb(31, 119, 180)\"}, {\"x0\": \"2016-11-05 08:29:26\", \"x1\": \"2016-11-05 08:54:26\", \"type\": \"rect\", \"xref\": \"x\", \"yref\": \"y\", \"opacity\": 1, \"line\": {\"width\": 0}, \"y0\": 1.8, \"y1\": 2.2, \"fillcolor\": \"rgb(255, 127, 14)\"}, {\"x0\": \"2016-11-05 08:30:30\", \"x1\": \"2016-11-05 08:45:30\", \"type\": \"rect\", \"xref\": \"x\", \"yref\": \"y\", \"opacity\": 1, \"line\": {\"width\": 0}, \"y0\": 4.8, \"y1\": 5.2, \"fillcolor\": \"rgb(31, 119, 180)\"}, {\"x0\": \"2016-11-05 08:33:16\", \"x1\": \"2016-11-05 09:13:16\", \"type\": \"rect\", \"xref\": \"x\", \"yref\": \"y\", \"opacity\": 1, \"line\": {\"width\": 0}, \"y0\": 3.8, \"y1\": 4.2, \"fillcolor\": \"rgb(31, 119, 180)\"}, {\"x0\": \"2016-11-05 08:54:26\", \"x1\": \"2016-11-05 09:58:26\", \"type\": \"rect\", \"xref\": \"x\", \"yref\": \"y\", \"opacity\": 1, \"line\": {\"width\": 0}, \"y0\": 1.8, \"y1\": 2.2, \"fillcolor\": \"rgb(255, 127, 14)\"}, {\"x0\": \"2016-11-05 09:58:36\", \"x1\": \"2016-11-05 11:06:36\", \"type\": \"rect\", \"xref\": \"x\", \"yref\": \"y\", \"opacity\": 1, \"line\": {\"width\": 0}, \"y0\": 2.8, \"y1\": 3.2, \"fillcolor\": \"rgb(255, 127, 14)\"}, {\"x0\": \"2016-11-05 09:58:36\", \"x1\": \"2016-11-05 10:23:36\", \"type\": \"rect\", \"xref\": \"x\", \"yref\": \"y\", \"opacity\": 1, \"line\": {\"width\": 0}, \"y0\": 1.8, \"y1\": 2.2, \"fillcolor\": \"rgb(255, 127, 14)\"}, {\"x0\": \"2016-11-05 09:58:36\", \"x1\": \"2016-11-05 11:06:36\", \"type\": \"rect\", \"xref\": \"x\", \"yref\": \"y\", \"opacity\": 1, \"line\": {\"width\": 0}, \"y0\": 0.8, \"y1\": 1.2, \"fillcolor\": \"rgb(255, 127, 14)\"}, {\"x0\": \"2016-11-05 09:59:50\", \"x1\": \"2016-11-05 10:19:50\", \"type\": \"rect\", \"xref\": \"x\", \"yref\": \"y\", \"opacity\": 1, \"line\": {\"width\": 0}, \"y0\": 4.8, \"y1\": 5.2, \"fillcolor\": \"rgb(31, 119, 180)\"}, {\"x0\": \"2016-11-05 10:01:04\", \"x1\": \"2016-11-05 10:41:04\", \"type\": \"rect\", \"xref\": \"x\", \"yref\": \"y\", \"opacity\": 1, \"line\": {\"width\": 0}, \"y0\": 3.8, \"y1\": 4.2, \"fillcolor\": \"rgb(31, 119, 180)\"}, {\"x0\": \"2016-11-05 10:23:36\", \"x1\": \"2016-11-05 11:27:36\", \"type\": \"rect\", \"xref\": \"x\", \"yref\": \"y\", \"opacity\": 1, \"line\": {\"width\": 0}, \"y0\": 1.8, \"y1\": 2.2, \"fillcolor\": \"rgb(255, 127, 14)\"}, {\"x0\": \"2016-11-05 10:43:32\", \"x1\": \"2016-11-05 11:23:32\", \"type\": \"rect\", \"xref\": \"x\", \"yref\": \"y\", \"opacity\": 1, \"line\": {\"width\": 0}, \"y0\": 3.8, \"y1\": 4.2, \"fillcolor\": \"rgb(31, 119, 180)\"}, {\"x0\": \"2016-11-05 11:06:46\", \"x1\": \"2016-11-05 11:31:46\", \"type\": \"rect\", \"xref\": \"x\", \"yref\": \"y\", \"opacity\": 1, \"line\": {\"width\": 0}, \"y0\": 2.8, \"y1\": 3.2, \"fillcolor\": \"rgb(255, 127, 14)\"}, {\"x0\": \"2016-11-05 11:06:46\", \"x1\": \"2016-11-05 12:14:46\", \"type\": \"rect\", \"xref\": \"x\", \"yref\": \"y\", \"opacity\": 1, \"line\": {\"width\": 0}, \"y0\": -0.2, \"y1\": 0.2, \"fillcolor\": \"rgb(255, 127, 14)\"}, {\"x0\": \"2016-11-05 11:24:56\", \"x1\": \"2016-11-05 12:32:56\", \"type\": \"rect\", \"xref\": \"x\", \"yref\": \"y\", \"opacity\": 1, \"line\": {\"width\": 0}, \"y0\": 0.8, \"y1\": 1.2, \"fillcolor\": \"rgb(255, 127, 14)\"}, {\"x0\": \"2016-11-05 11:26:00\", \"x1\": \"2016-11-05 12:06:00\", \"type\": \"rect\", \"xref\": \"x\", \"yref\": \"y\", \"opacity\": 1, \"line\": {\"width\": 0}, \"y0\": 3.8, \"y1\": 4.2, \"fillcolor\": \"rgb(31, 119, 180)\"}, {\"x0\": \"2016-11-05 11:29:00\", \"x1\": \"2016-11-05 11:49:00\", \"type\": \"rect\", \"xref\": \"x\", \"yref\": \"y\", \"opacity\": 1, \"line\": {\"width\": 0}, \"y0\": 4.8, \"y1\": 5.2, \"fillcolor\": \"rgb(31, 119, 180)\"}, {\"x0\": \"2016-11-05 11:31:46\", \"x1\": \"2016-11-05 12:35:46\", \"type\": \"rect\", \"xref\": \"x\", \"yref\": \"y\", \"opacity\": 1, \"line\": {\"width\": 0}, \"y0\": 2.8, \"y1\": 3.2, \"fillcolor\": \"rgb(255, 127, 14)\"}, {\"x0\": \"2016-11-05 11:50:24\", \"x1\": \"2016-11-05 12:15:24\", \"type\": \"rect\", \"xref\": \"x\", \"yref\": \"y\", \"opacity\": 1, \"line\": {\"width\": 0}, \"y0\": 1.8, \"y1\": 2.2, \"fillcolor\": \"rgb(255, 127, 14)\"}, {\"x0\": \"2016-11-05 12:08:28\", \"x1\": \"2016-11-05 12:48:28\", \"type\": \"rect\", \"xref\": \"x\", \"yref\": \"y\", \"opacity\": 1, \"line\": {\"width\": 0}, \"y0\": 3.8, \"y1\": 4.2, \"fillcolor\": \"rgb(31, 119, 180)\"}, {\"x0\": \"2016-11-05 12:15:24\", \"x1\": \"2016-11-05 13:19:24\", \"type\": \"rect\", \"xref\": \"x\", \"yref\": \"y\", \"opacity\": 1, \"line\": {\"width\": 0}, \"y0\": 1.8, \"y1\": 2.2, \"fillcolor\": \"rgb(255, 127, 14)\"}, {\"x0\": \"2016-11-05 12:37:10\", \"x1\": \"2016-11-05 12:57:10\", \"type\": \"rect\", \"xref\": \"x\", \"yref\": \"y\", \"opacity\": 1, \"line\": {\"width\": 0}, \"y0\": 4.8, \"y1\": 5.2, \"fillcolor\": \"rgb(31, 119, 180)\"}, {\"x0\": \"2016-11-05 13:19:34\", \"x1\": \"2016-11-05 14:27:34\", \"type\": \"rect\", \"xref\": \"x\", \"yref\": \"y\", \"opacity\": 1, \"line\": {\"width\": 0}, \"y0\": 2.8, \"y1\": 3.2, \"fillcolor\": \"rgb(255, 127, 14)\"}, {\"x0\": \"2016-11-05 13:19:34\", \"x1\": \"2016-11-05 14:27:34\", \"type\": \"rect\", \"xref\": \"x\", \"yref\": \"y\", \"opacity\": 1, \"line\": {\"width\": 0}, \"y0\": 1.8, \"y1\": 2.2, \"fillcolor\": \"rgb(255, 127, 14)\"}, {\"x0\": \"2016-11-05 13:20:48\", \"x1\": \"2016-11-05 13:40:48\", \"type\": \"rect\", \"xref\": \"x\", \"yref\": \"y\", \"opacity\": 1, \"line\": {\"width\": 0}, \"y0\": 4.8, \"y1\": 5.2, \"fillcolor\": \"rgb(31, 119, 180)\"}, {\"x0\": \"2016-11-05 13:22:02\", \"x1\": \"2016-11-05 14:02:02\", \"type\": \"rect\", \"xref\": \"x\", \"yref\": \"y\", \"opacity\": 1, \"line\": {\"width\": 0}, \"y0\": 3.8, \"y1\": 4.2, \"fillcolor\": \"rgb(31, 119, 180)\"}, {\"x0\": \"2016-11-05 14:04:30\", \"x1\": \"2016-11-05 14:24:30\", \"type\": \"rect\", \"xref\": \"x\", \"yref\": \"y\", \"opacity\": 1, \"line\": {\"width\": 0}, \"y0\": 3.8, \"y1\": 4.2, \"fillcolor\": \"rgb(31, 119, 180)\"}, {\"x0\": \"2016-11-05 14:27:44\", \"x1\": \"2016-11-05 14:52:44\", \"type\": \"rect\", \"xref\": \"x\", \"yref\": \"y\", \"opacity\": 1, \"line\": {\"width\": 0}, \"y0\": 2.8, \"y1\": 3.2, \"fillcolor\": \"rgb(255, 127, 14)\"}, {\"x0\": \"2016-11-05 14:27:44\", \"x1\": \"2016-11-05 14:52:44\", \"type\": \"rect\", \"xref\": \"x\", \"yref\": \"y\", \"opacity\": 1, \"line\": {\"width\": 0}, \"y0\": 1.8, \"y1\": 2.2, \"fillcolor\": \"rgb(255, 127, 14)\"}, {\"x0\": \"2016-11-05 14:27:44\", \"x1\": \"2016-11-05 15:35:44\", \"type\": \"rect\", \"xref\": \"x\", \"yref\": \"y\", \"opacity\": 1, \"line\": {\"width\": 0}, \"y0\": 0.8, \"y1\": 1.2, \"fillcolor\": \"rgb(255, 127, 14)\"}, {\"x0\": \"2016-11-05 14:28:58\", \"x1\": \"2016-11-05 14:48:58\", \"type\": \"rect\", \"xref\": \"x\", \"yref\": \"y\", \"opacity\": 1, \"line\": {\"width\": 0}, \"y0\": 3.8, \"y1\": 4.2, \"fillcolor\": \"rgb(31, 119, 180)\"}, {\"x0\": \"2016-11-05 14:51:26\", \"x1\": \"2016-11-05 15:11:26\", \"type\": \"rect\", \"xref\": \"x\", \"yref\": \"y\", \"opacity\": 1, \"line\": {\"width\": 0}, \"y0\": 3.8, \"y1\": 4.2, \"fillcolor\": \"rgb(31, 119, 180)\"}, {\"x0\": \"2016-11-05 14:52:44\", \"x1\": \"2016-11-05 15:56:44\", \"type\": \"rect\", \"xref\": \"x\", \"yref\": \"y\", \"opacity\": 1, \"line\": {\"width\": 0}, \"y0\": 2.8, \"y1\": 3.2, \"fillcolor\": \"rgb(255, 127, 14)\"}, {\"x0\": \"2016-11-05 14:52:44\", \"x1\": \"2016-11-05 15:56:44\", \"type\": \"rect\", \"xref\": \"x\", \"yref\": \"y\", \"opacity\": 1, \"line\": {\"width\": 0}, \"y0\": 1.8, \"y1\": 2.2, \"fillcolor\": \"rgb(255, 127, 14)\"}, {\"x0\": \"2016-11-05 15:37:08\", \"x1\": \"2016-11-05 15:57:08\", \"type\": \"rect\", \"xref\": \"x\", \"yref\": \"y\", \"opacity\": 1, \"line\": {\"width\": 0}, \"y0\": 3.8, \"y1\": 4.2, \"fillcolor\": \"rgb(31, 119, 180)\"}, {\"x0\": \"2016-11-05 15:58:08\", \"x1\": \"2016-11-05 16:18:08\", \"type\": \"rect\", \"xref\": \"x\", \"yref\": \"y\", \"opacity\": 1, \"line\": {\"width\": 0}, \"y0\": 4.8, \"y1\": 5.2, \"fillcolor\": \"rgb(31, 119, 180)\"}, {\"x0\": \"2016-11-05 16:19:32\", \"x1\": \"2016-11-05 16:44:32\", \"type\": \"rect\", \"xref\": \"x\", \"yref\": \"y\", \"opacity\": 1, \"line\": {\"width\": 0}, \"y0\": 2.8, \"y1\": 3.2, \"fillcolor\": \"rgb(255, 127, 14)\"}, {\"x0\": \"2016-11-05 16:20:36\", \"x1\": \"2016-11-05 16:40:36\", \"type\": \"rect\", \"xref\": \"x\", \"yref\": \"y\", \"opacity\": 1, \"line\": {\"width\": 0}, \"y0\": 4.8, \"y1\": 5.2, \"fillcolor\": \"rgb(31, 119, 180)\"}, {\"x0\": \"2016-11-05 16:42:00\", \"x1\": \"2016-11-05 17:07:00\", \"type\": \"rect\", \"xref\": \"x\", \"yref\": \"y\", \"opacity\": 1, \"line\": {\"width\": 0}, \"y0\": 1.8, \"y1\": 2.2, \"fillcolor\": \"rgb(255, 127, 14)\"}, {\"x0\": \"2016-11-05 16:44:32\", \"x1\": \"2016-11-05 17:48:32\", \"type\": \"rect\", \"xref\": \"x\", \"yref\": \"y\", \"opacity\": 1, \"line\": {\"width\": 0}, \"y0\": 2.8, \"y1\": 3.2, \"fillcolor\": \"rgb(255, 127, 14)\"}, {\"x0\": \"2016-11-05 17:07:00\", \"x1\": \"2016-11-05 18:11:00\", \"type\": \"rect\", \"xref\": \"x\", \"yref\": \"y\", \"opacity\": 1, \"line\": {\"width\": 0}, \"y0\": 1.8, \"y1\": 2.2, \"fillcolor\": \"rgb(255, 127, 14)\"}, {\"x0\": \"2016-11-05 17:49:56\", \"x1\": \"2016-11-05 18:09:56\", \"type\": \"rect\", \"xref\": \"x\", \"yref\": \"y\", \"opacity\": 1, \"line\": {\"width\": 0}, \"y0\": 4.8, \"y1\": 5.2, \"fillcolor\": \"rgb(31, 119, 180)\"}, {\"x0\": \"2016-11-05 18:11:20\", \"x1\": \"2016-11-05 18:36:20\", \"type\": \"rect\", \"xref\": \"x\", \"yref\": \"y\", \"opacity\": 1, \"line\": {\"width\": 0}, \"y0\": 2.8, \"y1\": 3.2, \"fillcolor\": \"rgb(255, 127, 14)\"}, {\"x0\": \"2016-11-05 18:12:24\", \"x1\": \"2016-11-05 18:32:24\", \"type\": \"rect\", \"xref\": \"x\", \"yref\": \"y\", \"opacity\": 1, \"line\": {\"width\": 0}, \"y0\": 4.8, \"y1\": 5.2, \"fillcolor\": \"rgb(31, 119, 180)\"}, {\"x0\": \"2016-11-05 18:33:48\", \"x1\": \"2016-11-05 18:58:48\", \"type\": \"rect\", \"xref\": \"x\", \"yref\": \"y\", \"opacity\": 1, \"line\": {\"width\": 0}, \"y0\": 1.8, \"y1\": 2.2, \"fillcolor\": \"rgb(255, 127, 14)\"}, {\"x0\": \"2016-11-05 18:36:20\", \"x1\": \"2016-11-05 19:40:20\", \"type\": \"rect\", \"xref\": \"x\", \"yref\": \"y\", \"opacity\": 1, \"line\": {\"width\": 0}, \"y0\": 2.8, \"y1\": 3.2, \"fillcolor\": \"rgb(255, 127, 14)\"}, {\"x0\": \"2016-11-05 18:58:48\", \"x1\": \"2016-11-05 20:02:48\", \"type\": \"rect\", \"xref\": \"x\", \"yref\": \"y\", \"opacity\": 1, \"line\": {\"width\": 0}, \"y0\": 1.8, \"y1\": 2.2, \"fillcolor\": \"rgb(255, 127, 14)\"}, {\"x0\": \"2016-11-05 19:41:44\", \"x1\": \"2016-11-05 20:01:44\", \"type\": \"rect\", \"xref\": \"x\", \"yref\": \"y\", \"opacity\": 1, \"line\": {\"width\": 0}, \"y0\": 4.8, \"y1\": 5.2, \"fillcolor\": \"rgb(31, 119, 180)\"}, {\"x0\": \"2016-11-05 20:03:08\", \"x1\": \"2016-11-05 20:28:08\", \"type\": \"rect\", \"xref\": \"x\", \"yref\": \"y\", \"opacity\": 1, \"line\": {\"width\": 0}, \"y0\": 2.8, \"y1\": 3.2, \"fillcolor\": \"rgb(255, 127, 14)\"}, {\"x0\": \"2016-11-05 20:04:12\", \"x1\": \"2016-11-05 20:24:12\", \"type\": \"rect\", \"xref\": \"x\", \"yref\": \"y\", \"opacity\": 1, \"line\": {\"width\": 0}, \"y0\": 4.8, \"y1\": 5.2, \"fillcolor\": \"rgb(31, 119, 180)\"}, {\"x0\": \"2016-11-05 20:25:36\", \"x1\": \"2016-11-05 20:50:36\", \"type\": \"rect\", \"xref\": \"x\", \"yref\": \"y\", \"opacity\": 1, \"line\": {\"width\": 0}, \"y0\": 1.8, \"y1\": 2.2, \"fillcolor\": \"rgb(255, 127, 14)\"}, {\"x0\": \"2016-11-05 20:28:08\", \"x1\": \"2016-11-05 21:32:08\", \"type\": \"rect\", \"xref\": \"x\", \"yref\": \"y\", \"opacity\": 1, \"line\": {\"width\": 0}, \"y0\": 2.8, \"y1\": 3.2, \"fillcolor\": \"rgb(255, 127, 14)\"}, {\"x0\": \"2016-11-05 20:50:36\", \"x1\": \"2016-11-05 21:54:36\", \"type\": \"rect\", \"xref\": \"x\", \"yref\": \"y\", \"opacity\": 1, \"line\": {\"width\": 0}, \"y0\": 1.8, \"y1\": 2.2, \"fillcolor\": \"rgb(255, 127, 14)\"}, {\"x0\": \"2016-11-05 21:33:32\", \"x1\": \"2016-11-05 21:53:32\", \"type\": \"rect\", \"xref\": \"x\", \"yref\": \"y\", \"opacity\": 1, \"line\": {\"width\": 0}, \"y0\": 4.8, \"y1\": 5.2, \"fillcolor\": \"rgb(31, 119, 180)\"}, {\"x0\": \"2016-11-05 21:54:56\", \"x1\": \"2016-11-05 22:19:56\", \"type\": \"rect\", \"xref\": \"x\", \"yref\": \"y\", \"opacity\": 1, \"line\": {\"width\": 0}, \"y0\": 2.8, \"y1\": 3.2, \"fillcolor\": \"rgb(255, 127, 14)\"}, {\"x0\": \"2016-11-05 21:56:00\", \"x1\": \"2016-11-05 22:11:00\", \"type\": \"rect\", \"xref\": \"x\", \"yref\": \"y\", \"opacity\": 1, \"line\": {\"width\": 0}, \"y0\": 4.8, \"y1\": 5.2, \"fillcolor\": \"rgb(31, 119, 180)\"}, {\"x0\": \"2016-11-05 22:12:24\", \"x1\": \"2016-11-05 22:37:24\", \"type\": \"rect\", \"xref\": \"x\", \"yref\": \"y\", \"opacity\": 1, \"line\": {\"width\": 0}, \"y0\": 1.8, \"y1\": 2.2, \"fillcolor\": \"rgb(255, 127, 14)\"}, {\"x0\": \"2016-11-05 22:19:56\", \"x1\": \"2016-11-05 23:23:56\", \"type\": \"rect\", \"xref\": \"x\", \"yref\": \"y\", \"opacity\": 1, \"line\": {\"width\": 0}, \"y0\": 2.8, \"y1\": 3.2, \"fillcolor\": \"rgb(255, 127, 14)\"}, {\"x0\": \"2016-11-05 22:38:48\", \"x1\": \"2016-11-05 22:43:48\", \"type\": \"rect\", \"xref\": \"x\", \"yref\": \"y\", \"opacity\": 1, \"line\": {\"width\": 0}, \"y0\": 4.8, \"y1\": 5.2, \"fillcolor\": \"rgb(31, 119, 180)\"}, {\"x0\": \"2016-11-05 23:25:20\", \"x1\": \"2016-11-05 23:40:20\", \"type\": \"rect\", \"xref\": \"x\", \"yref\": \"y\", \"opacity\": 1, \"line\": {\"width\": 0}, \"y0\": 4.8, \"y1\": 5.2, \"fillcolor\": \"rgb(31, 119, 180)\"}, {\"x0\": \"2016-11-05 23:41:44\", \"x1\": \"2016-11-06 00:06:44\", \"type\": \"rect\", \"xref\": \"x\", \"yref\": \"y\", \"opacity\": 1, \"line\": {\"width\": 0}, \"y0\": 1.8, \"y1\": 2.2, \"fillcolor\": \"rgb(255, 127, 14)\"}, {\"x0\": \"2016-11-06 00:08:08\", \"x1\": \"2016-11-06 00:13:08\", \"type\": \"rect\", \"xref\": \"x\", \"yref\": \"y\", \"opacity\": 1, \"line\": {\"width\": 0}, \"y0\": 4.8, \"y1\": 5.2, \"fillcolor\": \"rgb(31, 119, 180)\"}], \"hovermode\": \"closest\", \"yaxis\": {\"showgrid\": false, \"ticktext\": [\"Machine3\", \"Machine4\", \"Machine2\", \"Machine1\", \"L/U2\", \"L/U1\"], \"tickvals\": [0, 1, 2, 3, 4, 5], \"range\": [-1, 7], \"autorange\": false, \"zeroline\": false}, \"xaxis\": {\"showgrid\": false, \"zeroline\": false, \"rangeselector\": {\"buttons\": [{\"count\": 7, \"label\": \"1w\", \"step\": \"day\", \"stepmode\": \"backward\"}, {\"count\": 1, \"label\": \"1m\", \"step\": \"month\", \"stepmode\": \"backward\"}, {\"count\": 6, \"label\": \"6m\", \"step\": \"month\", \"stepmode\": \"backward\"}, {\"count\": 1, \"label\": \"YTD\", \"step\": \"year\", \"stepmode\": \"todate\"}, {\"count\": 1, \"label\": \"1y\", \"step\": \"year\", \"stepmode\": \"backward\"}, {\"step\": \"all\"}]}, \"type\": \"date\"}}, {\"showLink\": true, \"linkText\": \"Export to plot.ly\"})});</script>"
      ],
      "text/vnd.plotly.v1+html": [
       "<div id=\"fc92ff80-dc92-4e1f-a912-5353a255b0eb\" style=\"height: 600px; width: 900px;\" class=\"plotly-graph-div\"></div><script type=\"text/javascript\">require([\"plotly\"], function(Plotly) { window.PLOTLYENV=window.PLOTLYENV || {};window.PLOTLYENV.BASE_URL=\"https://plot.ly\";Plotly.newPlot(\"fc92ff80-dc92-4e1f-a912-5353a255b0eb\", [{\"x\": [\"2016-11-05 07:01:14\", \"2016-11-05 07:06:14\"], \"y\": [5, 5], \"name\": \"\", \"marker\": {\"color\": \"white\"}}, {\"x\": [\"2016-11-05 07:02:28\", \"2016-11-05 07:22:28\"], \"y\": [4, 4], \"name\": \"\", \"marker\": {\"color\": \"white\"}}, {\"x\": [\"2016-11-05 07:07:38\", \"2016-11-05 08:11:38\"], \"y\": [3, 3], \"name\": \"\", \"marker\": {\"color\": \"white\"}}, {\"x\": [\"2016-11-05 07:08:42\", \"2016-11-05 07:13:42\"], \"y\": [5, 5], \"name\": \"\", \"marker\": {\"color\": \"white\"}}, {\"x\": [\"2016-11-05 07:15:06\", \"2016-11-05 08:19:06\"], \"y\": [2, 2], \"name\": \"\", \"marker\": {\"color\": \"white\"}}, {\"x\": [\"2016-11-05 07:23:52\", \"2016-11-05 08:31:52\"], \"y\": [1, 1], \"name\": \"\", \"marker\": {\"color\": \"white\"}}, {\"x\": [\"2016-11-05 07:24:56\", \"2016-11-05 07:44:56\"], \"y\": [4, 4], \"name\": \"\", \"marker\": {\"color\": \"white\"}}, {\"x\": [\"2016-11-05 07:46:20\", \"2016-11-05 08:54:20\"], \"y\": [0, 0], \"name\": \"\", \"marker\": {\"color\": \"white\"}}, {\"x\": [\"2016-11-05 07:47:24\", \"2016-11-05 08:07:24\"], \"y\": [4, 4], \"name\": \"\", \"marker\": {\"color\": \"white\"}}, {\"x\": [\"2016-11-05 08:09:52\", \"2016-11-05 08:29:52\"], \"y\": [4, 4], \"name\": \"\", \"marker\": {\"color\": \"white\"}}, {\"x\": [\"2016-11-05 08:11:48\", \"2016-11-05 09:19:48\"], \"y\": [3, 3], \"name\": \"\", \"marker\": {\"color\": \"white\"}}, {\"x\": [\"2016-11-05 08:13:02\", \"2016-11-05 08:28:02\"], \"y\": [5, 5], \"name\": \"\", \"marker\": {\"color\": \"white\"}}, {\"x\": [\"2016-11-05 08:29:26\", \"2016-11-05 08:54:26\"], \"y\": [2, 2], \"name\": \"\", \"marker\": {\"color\": \"white\"}}, {\"x\": [\"2016-11-05 08:30:30\", \"2016-11-05 08:45:30\"], \"y\": [5, 5], \"name\": \"\", \"marker\": {\"color\": \"white\"}}, {\"x\": [\"2016-11-05 08:33:16\", \"2016-11-05 09:13:16\"], \"y\": [4, 4], \"name\": \"\", \"marker\": {\"color\": \"white\"}}, {\"x\": [\"2016-11-05 08:54:26\", \"2016-11-05 09:58:26\"], \"y\": [2, 2], \"name\": \"\", \"marker\": {\"color\": \"white\"}}, {\"x\": [\"2016-11-05 09:58:36\", \"2016-11-05 11:06:36\"], \"y\": [3, 3], \"name\": \"\", \"marker\": {\"color\": \"white\"}}, {\"x\": [\"2016-11-05 09:58:36\", \"2016-11-05 10:23:36\"], \"y\": [2, 2], \"name\": \"\", \"marker\": {\"color\": \"white\"}}, {\"x\": [\"2016-11-05 09:58:36\", \"2016-11-05 11:06:36\"], \"y\": [1, 1], \"name\": \"\", \"marker\": {\"color\": \"white\"}}, {\"x\": [\"2016-11-05 09:59:50\", \"2016-11-05 10:19:50\"], \"y\": [5, 5], \"name\": \"\", \"marker\": {\"color\": \"white\"}}, {\"x\": [\"2016-11-05 10:01:04\", \"2016-11-05 10:41:04\"], \"y\": [4, 4], \"name\": \"\", \"marker\": {\"color\": \"white\"}}, {\"x\": [\"2016-11-05 10:23:36\", \"2016-11-05 11:27:36\"], \"y\": [2, 2], \"name\": \"\", \"marker\": {\"color\": \"white\"}}, {\"x\": [\"2016-11-05 10:43:32\", \"2016-11-05 11:23:32\"], \"y\": [4, 4], \"name\": \"\", \"marker\": {\"color\": \"white\"}}, {\"x\": [\"2016-11-05 11:06:46\", \"2016-11-05 11:31:46\"], \"y\": [3, 3], \"name\": \"\", \"marker\": {\"color\": \"white\"}}, {\"x\": [\"2016-11-05 11:06:46\", \"2016-11-05 12:14:46\"], \"y\": [0, 0], \"name\": \"\", \"marker\": {\"color\": \"white\"}}, {\"x\": [\"2016-11-05 11:24:56\", \"2016-11-05 12:32:56\"], \"y\": [1, 1], \"name\": \"\", \"marker\": {\"color\": \"white\"}}, {\"x\": [\"2016-11-05 11:26:00\", \"2016-11-05 12:06:00\"], \"y\": [4, 4], \"name\": \"\", \"marker\": {\"color\": \"white\"}}, {\"x\": [\"2016-11-05 11:29:00\", \"2016-11-05 11:49:00\"], \"y\": [5, 5], \"name\": \"\", \"marker\": {\"color\": \"white\"}}, {\"x\": [\"2016-11-05 11:31:46\", \"2016-11-05 12:35:46\"], \"y\": [3, 3], \"name\": \"\", \"marker\": {\"color\": \"white\"}}, {\"x\": [\"2016-11-05 11:50:24\", \"2016-11-05 12:15:24\"], \"y\": [2, 2], \"name\": \"\", \"marker\": {\"color\": \"white\"}}, {\"x\": [\"2016-11-05 12:08:28\", \"2016-11-05 12:48:28\"], \"y\": [4, 4], \"name\": \"\", \"marker\": {\"color\": \"white\"}}, {\"x\": [\"2016-11-05 12:15:24\", \"2016-11-05 13:19:24\"], \"y\": [2, 2], \"name\": \"\", \"marker\": {\"color\": \"white\"}}, {\"x\": [\"2016-11-05 12:37:10\", \"2016-11-05 12:57:10\"], \"y\": [5, 5], \"name\": \"\", \"marker\": {\"color\": \"white\"}}, {\"x\": [\"2016-11-05 13:19:34\", \"2016-11-05 14:27:34\"], \"y\": [3, 3], \"name\": \"\", \"marker\": {\"color\": \"white\"}}, {\"x\": [\"2016-11-05 13:19:34\", \"2016-11-05 14:27:34\"], \"y\": [2, 2], \"name\": \"\", \"marker\": {\"color\": \"white\"}}, {\"x\": [\"2016-11-05 13:20:48\", \"2016-11-05 13:40:48\"], \"y\": [5, 5], \"name\": \"\", \"marker\": {\"color\": \"white\"}}, {\"x\": [\"2016-11-05 13:22:02\", \"2016-11-05 14:02:02\"], \"y\": [4, 4], \"name\": \"\", \"marker\": {\"color\": \"white\"}}, {\"x\": [\"2016-11-05 14:04:30\", \"2016-11-05 14:24:30\"], \"y\": [4, 4], \"name\": \"\", \"marker\": {\"color\": \"white\"}}, {\"x\": [\"2016-11-05 14:27:44\", \"2016-11-05 14:52:44\"], \"y\": [3, 3], \"name\": \"\", \"marker\": {\"color\": \"white\"}}, {\"x\": [\"2016-11-05 14:27:44\", \"2016-11-05 14:52:44\"], \"y\": [2, 2], \"name\": \"\", \"marker\": {\"color\": \"white\"}}, {\"x\": [\"2016-11-05 14:27:44\", \"2016-11-05 15:35:44\"], \"y\": [1, 1], \"name\": \"\", \"marker\": {\"color\": \"white\"}}, {\"x\": [\"2016-11-05 14:28:58\", \"2016-11-05 14:48:58\"], \"y\": [4, 4], \"name\": \"\", \"marker\": {\"color\": \"white\"}}, {\"x\": [\"2016-11-05 14:51:26\", \"2016-11-05 15:11:26\"], \"y\": [4, 4], \"name\": \"\", \"marker\": {\"color\": \"white\"}}, {\"x\": [\"2016-11-05 14:52:44\", \"2016-11-05 15:56:44\"], \"y\": [3, 3], \"name\": \"\", \"marker\": {\"color\": \"white\"}}, {\"x\": [\"2016-11-05 14:52:44\", \"2016-11-05 15:56:44\"], \"y\": [2, 2], \"name\": \"\", \"marker\": {\"color\": \"white\"}}, {\"x\": [\"2016-11-05 15:37:08\", \"2016-11-05 15:57:08\"], \"y\": [4, 4], \"name\": \"\", \"marker\": {\"color\": \"white\"}}, {\"x\": [\"2016-11-05 15:58:08\", \"2016-11-05 16:18:08\"], \"y\": [5, 5], \"name\": \"\", \"marker\": {\"color\": \"white\"}}, {\"x\": [\"2016-11-05 16:19:32\", \"2016-11-05 16:44:32\"], \"y\": [3, 3], \"name\": \"\", \"marker\": {\"color\": \"white\"}}, {\"x\": [\"2016-11-05 16:20:36\", \"2016-11-05 16:40:36\"], \"y\": [5, 5], \"name\": \"\", \"marker\": {\"color\": \"white\"}}, {\"x\": [\"2016-11-05 16:42:00\", \"2016-11-05 17:07:00\"], \"y\": [2, 2], \"name\": \"\", \"marker\": {\"color\": \"white\"}}, {\"x\": [\"2016-11-05 16:44:32\", \"2016-11-05 17:48:32\"], \"y\": [3, 3], \"name\": \"\", \"marker\": {\"color\": \"white\"}}, {\"x\": [\"2016-11-05 17:07:00\", \"2016-11-05 18:11:00\"], \"y\": [2, 2], \"name\": \"\", \"marker\": {\"color\": \"white\"}}, {\"x\": [\"2016-11-05 17:49:56\", \"2016-11-05 18:09:56\"], \"y\": [5, 5], \"name\": \"\", \"marker\": {\"color\": \"white\"}}, {\"x\": [\"2016-11-05 18:11:20\", \"2016-11-05 18:36:20\"], \"y\": [3, 3], \"name\": \"\", \"marker\": {\"color\": \"white\"}}, {\"x\": [\"2016-11-05 18:12:24\", \"2016-11-05 18:32:24\"], \"y\": [5, 5], \"name\": \"\", \"marker\": {\"color\": \"white\"}}, {\"x\": [\"2016-11-05 18:33:48\", \"2016-11-05 18:58:48\"], \"y\": [2, 2], \"name\": \"\", \"marker\": {\"color\": \"white\"}}, {\"x\": [\"2016-11-05 18:36:20\", \"2016-11-05 19:40:20\"], \"y\": [3, 3], \"name\": \"\", \"marker\": {\"color\": \"white\"}}, {\"x\": [\"2016-11-05 18:58:48\", \"2016-11-05 20:02:48\"], \"y\": [2, 2], \"name\": \"\", \"marker\": {\"color\": \"white\"}}, {\"x\": [\"2016-11-05 19:41:44\", \"2016-11-05 20:01:44\"], \"y\": [5, 5], \"name\": \"\", \"marker\": {\"color\": \"white\"}}, {\"x\": [\"2016-11-05 20:03:08\", \"2016-11-05 20:28:08\"], \"y\": [3, 3], \"name\": \"\", \"marker\": {\"color\": \"white\"}}, {\"x\": [\"2016-11-05 20:04:12\", \"2016-11-05 20:24:12\"], \"y\": [5, 5], \"name\": \"\", \"marker\": {\"color\": \"white\"}}, {\"x\": [\"2016-11-05 20:25:36\", \"2016-11-05 20:50:36\"], \"y\": [2, 2], \"name\": \"\", \"marker\": {\"color\": \"white\"}}, {\"x\": [\"2016-11-05 20:28:08\", \"2016-11-05 21:32:08\"], \"y\": [3, 3], \"name\": \"\", \"marker\": {\"color\": \"white\"}}, {\"x\": [\"2016-11-05 20:50:36\", \"2016-11-05 21:54:36\"], \"y\": [2, 2], \"name\": \"\", \"marker\": {\"color\": \"white\"}}, {\"x\": [\"2016-11-05 21:33:32\", \"2016-11-05 21:53:32\"], \"y\": [5, 5], \"name\": \"\", \"marker\": {\"color\": \"white\"}}, {\"x\": [\"2016-11-05 21:54:56\", \"2016-11-05 22:19:56\"], \"y\": [3, 3], \"name\": \"\", \"marker\": {\"color\": \"white\"}}, {\"x\": [\"2016-11-05 21:56:00\", \"2016-11-05 22:11:00\"], \"y\": [5, 5], \"name\": \"\", \"marker\": {\"color\": \"white\"}}, {\"x\": [\"2016-11-05 22:12:24\", \"2016-11-05 22:37:24\"], \"y\": [2, 2], \"name\": \"\", \"marker\": {\"color\": \"white\"}}, {\"x\": [\"2016-11-05 22:19:56\", \"2016-11-05 23:23:56\"], \"y\": [3, 3], \"name\": \"\", \"marker\": {\"color\": \"white\"}}, {\"x\": [\"2016-11-05 22:38:48\", \"2016-11-05 22:43:48\"], \"y\": [5, 5], \"name\": \"\", \"marker\": {\"color\": \"white\"}}, {\"x\": [\"2016-11-05 23:25:20\", \"2016-11-05 23:40:20\"], \"y\": [5, 5], \"name\": \"\", \"marker\": {\"color\": \"white\"}}, {\"x\": [\"2016-11-05 23:41:44\", \"2016-11-06 00:06:44\"], \"y\": [2, 2], \"name\": \"\", \"marker\": {\"color\": \"white\"}}, {\"x\": [\"2016-11-06 00:08:08\", \"2016-11-06 00:13:08\"], \"y\": [5, 5], \"name\": \"\", \"marker\": {\"color\": \"white\"}}], {\"title\": \"Gantt Chart\", \"showlegend\": false, \"height\": 600, \"width\": 900, \"shapes\": [{\"x0\": \"2016-11-05 07:01:14\", \"x1\": \"2016-11-05 07:06:14\", \"type\": \"rect\", \"xref\": \"x\", \"yref\": \"y\", \"opacity\": 1, \"line\": {\"width\": 0}, \"y0\": 4.8, \"y1\": 5.2, \"fillcolor\": \"rgb(31, 119, 180)\"}, {\"x0\": \"2016-11-05 07:02:28\", \"x1\": \"2016-11-05 07:22:28\", \"type\": \"rect\", \"xref\": \"x\", \"yref\": \"y\", \"opacity\": 1, \"line\": {\"width\": 0}, \"y0\": 3.8, \"y1\": 4.2, \"fillcolor\": \"rgb(31, 119, 180)\"}, {\"x0\": \"2016-11-05 07:07:38\", \"x1\": \"2016-11-05 08:11:38\", \"type\": \"rect\", \"xref\": \"x\", \"yref\": \"y\", \"opacity\": 1, \"line\": {\"width\": 0}, \"y0\": 2.8, \"y1\": 3.2, \"fillcolor\": \"rgb(255, 127, 14)\"}, {\"x0\": \"2016-11-05 07:08:42\", \"x1\": \"2016-11-05 07:13:42\", \"type\": \"rect\", \"xref\": \"x\", \"yref\": \"y\", \"opacity\": 1, \"line\": {\"width\": 0}, \"y0\": 4.8, \"y1\": 5.2, \"fillcolor\": \"rgb(31, 119, 180)\"}, {\"x0\": \"2016-11-05 07:15:06\", \"x1\": \"2016-11-05 08:19:06\", \"type\": \"rect\", \"xref\": \"x\", \"yref\": \"y\", \"opacity\": 1, \"line\": {\"width\": 0}, \"y0\": 1.8, \"y1\": 2.2, \"fillcolor\": \"rgb(255, 127, 14)\"}, {\"x0\": \"2016-11-05 07:23:52\", \"x1\": \"2016-11-05 08:31:52\", \"type\": \"rect\", \"xref\": \"x\", \"yref\": \"y\", \"opacity\": 1, \"line\": {\"width\": 0}, \"y0\": 0.8, \"y1\": 1.2, \"fillcolor\": \"rgb(255, 127, 14)\"}, {\"x0\": \"2016-11-05 07:24:56\", \"x1\": \"2016-11-05 07:44:56\", \"type\": \"rect\", \"xref\": \"x\", \"yref\": \"y\", \"opacity\": 1, \"line\": {\"width\": 0}, \"y0\": 3.8, \"y1\": 4.2, \"fillcolor\": \"rgb(31, 119, 180)\"}, {\"x0\": \"2016-11-05 07:46:20\", \"x1\": \"2016-11-05 08:54:20\", \"type\": \"rect\", \"xref\": \"x\", \"yref\": \"y\", \"opacity\": 1, \"line\": {\"width\": 0}, \"y0\": -0.2, \"y1\": 0.2, \"fillcolor\": \"rgb(255, 127, 14)\"}, {\"x0\": \"2016-11-05 07:47:24\", \"x1\": \"2016-11-05 08:07:24\", \"type\": \"rect\", \"xref\": \"x\", \"yref\": \"y\", \"opacity\": 1, \"line\": {\"width\": 0}, \"y0\": 3.8, \"y1\": 4.2, \"fillcolor\": \"rgb(31, 119, 180)\"}, {\"x0\": \"2016-11-05 08:09:52\", \"x1\": \"2016-11-05 08:29:52\", \"type\": \"rect\", \"xref\": \"x\", \"yref\": \"y\", \"opacity\": 1, \"line\": {\"width\": 0}, \"y0\": 3.8, \"y1\": 4.2, \"fillcolor\": \"rgb(31, 119, 180)\"}, {\"x0\": \"2016-11-05 08:11:48\", \"x1\": \"2016-11-05 09:19:48\", \"type\": \"rect\", \"xref\": \"x\", \"yref\": \"y\", \"opacity\": 1, \"line\": {\"width\": 0}, \"y0\": 2.8, \"y1\": 3.2, \"fillcolor\": \"rgb(255, 127, 14)\"}, {\"x0\": \"2016-11-05 08:13:02\", \"x1\": \"2016-11-05 08:28:02\", \"type\": \"rect\", \"xref\": \"x\", \"yref\": \"y\", \"opacity\": 1, \"line\": {\"width\": 0}, \"y0\": 4.8, \"y1\": 5.2, \"fillcolor\": \"rgb(31, 119, 180)\"}, {\"x0\": \"2016-11-05 08:29:26\", \"x1\": \"2016-11-05 08:54:26\", \"type\": \"rect\", \"xref\": \"x\", \"yref\": \"y\", \"opacity\": 1, \"line\": {\"width\": 0}, \"y0\": 1.8, \"y1\": 2.2, \"fillcolor\": \"rgb(255, 127, 14)\"}, {\"x0\": \"2016-11-05 08:30:30\", \"x1\": \"2016-11-05 08:45:30\", \"type\": \"rect\", \"xref\": \"x\", \"yref\": \"y\", \"opacity\": 1, \"line\": {\"width\": 0}, \"y0\": 4.8, \"y1\": 5.2, \"fillcolor\": \"rgb(31, 119, 180)\"}, {\"x0\": \"2016-11-05 08:33:16\", \"x1\": \"2016-11-05 09:13:16\", \"type\": \"rect\", \"xref\": \"x\", \"yref\": \"y\", \"opacity\": 1, \"line\": {\"width\": 0}, \"y0\": 3.8, \"y1\": 4.2, \"fillcolor\": \"rgb(31, 119, 180)\"}, {\"x0\": \"2016-11-05 08:54:26\", \"x1\": \"2016-11-05 09:58:26\", \"type\": \"rect\", \"xref\": \"x\", \"yref\": \"y\", \"opacity\": 1, \"line\": {\"width\": 0}, \"y0\": 1.8, \"y1\": 2.2, \"fillcolor\": \"rgb(255, 127, 14)\"}, {\"x0\": \"2016-11-05 09:58:36\", \"x1\": \"2016-11-05 11:06:36\", \"type\": \"rect\", \"xref\": \"x\", \"yref\": \"y\", \"opacity\": 1, \"line\": {\"width\": 0}, \"y0\": 2.8, \"y1\": 3.2, \"fillcolor\": \"rgb(255, 127, 14)\"}, {\"x0\": \"2016-11-05 09:58:36\", \"x1\": \"2016-11-05 10:23:36\", \"type\": \"rect\", \"xref\": \"x\", \"yref\": \"y\", \"opacity\": 1, \"line\": {\"width\": 0}, \"y0\": 1.8, \"y1\": 2.2, \"fillcolor\": \"rgb(255, 127, 14)\"}, {\"x0\": \"2016-11-05 09:58:36\", \"x1\": \"2016-11-05 11:06:36\", \"type\": \"rect\", \"xref\": \"x\", \"yref\": \"y\", \"opacity\": 1, \"line\": {\"width\": 0}, \"y0\": 0.8, \"y1\": 1.2, \"fillcolor\": \"rgb(255, 127, 14)\"}, {\"x0\": \"2016-11-05 09:59:50\", \"x1\": \"2016-11-05 10:19:50\", \"type\": \"rect\", \"xref\": \"x\", \"yref\": \"y\", \"opacity\": 1, \"line\": {\"width\": 0}, \"y0\": 4.8, \"y1\": 5.2, \"fillcolor\": \"rgb(31, 119, 180)\"}, {\"x0\": \"2016-11-05 10:01:04\", \"x1\": \"2016-11-05 10:41:04\", \"type\": \"rect\", \"xref\": \"x\", \"yref\": \"y\", \"opacity\": 1, \"line\": {\"width\": 0}, \"y0\": 3.8, \"y1\": 4.2, \"fillcolor\": \"rgb(31, 119, 180)\"}, {\"x0\": \"2016-11-05 10:23:36\", \"x1\": \"2016-11-05 11:27:36\", \"type\": \"rect\", \"xref\": \"x\", \"yref\": \"y\", \"opacity\": 1, \"line\": {\"width\": 0}, \"y0\": 1.8, \"y1\": 2.2, \"fillcolor\": \"rgb(255, 127, 14)\"}, {\"x0\": \"2016-11-05 10:43:32\", \"x1\": \"2016-11-05 11:23:32\", \"type\": \"rect\", \"xref\": \"x\", \"yref\": \"y\", \"opacity\": 1, \"line\": {\"width\": 0}, \"y0\": 3.8, \"y1\": 4.2, \"fillcolor\": \"rgb(31, 119, 180)\"}, {\"x0\": \"2016-11-05 11:06:46\", \"x1\": \"2016-11-05 11:31:46\", \"type\": \"rect\", \"xref\": \"x\", \"yref\": \"y\", \"opacity\": 1, \"line\": {\"width\": 0}, \"y0\": 2.8, \"y1\": 3.2, \"fillcolor\": \"rgb(255, 127, 14)\"}, {\"x0\": \"2016-11-05 11:06:46\", \"x1\": \"2016-11-05 12:14:46\", \"type\": \"rect\", \"xref\": \"x\", \"yref\": \"y\", \"opacity\": 1, \"line\": {\"width\": 0}, \"y0\": -0.2, \"y1\": 0.2, \"fillcolor\": \"rgb(255, 127, 14)\"}, {\"x0\": \"2016-11-05 11:24:56\", \"x1\": \"2016-11-05 12:32:56\", \"type\": \"rect\", \"xref\": \"x\", \"yref\": \"y\", \"opacity\": 1, \"line\": {\"width\": 0}, \"y0\": 0.8, \"y1\": 1.2, \"fillcolor\": \"rgb(255, 127, 14)\"}, {\"x0\": \"2016-11-05 11:26:00\", \"x1\": \"2016-11-05 12:06:00\", \"type\": \"rect\", \"xref\": \"x\", \"yref\": \"y\", \"opacity\": 1, \"line\": {\"width\": 0}, \"y0\": 3.8, \"y1\": 4.2, \"fillcolor\": \"rgb(31, 119, 180)\"}, {\"x0\": \"2016-11-05 11:29:00\", \"x1\": \"2016-11-05 11:49:00\", \"type\": \"rect\", \"xref\": \"x\", \"yref\": \"y\", \"opacity\": 1, \"line\": {\"width\": 0}, \"y0\": 4.8, \"y1\": 5.2, \"fillcolor\": \"rgb(31, 119, 180)\"}, {\"x0\": \"2016-11-05 11:31:46\", \"x1\": \"2016-11-05 12:35:46\", \"type\": \"rect\", \"xref\": \"x\", \"yref\": \"y\", \"opacity\": 1, \"line\": {\"width\": 0}, \"y0\": 2.8, \"y1\": 3.2, \"fillcolor\": \"rgb(255, 127, 14)\"}, {\"x0\": \"2016-11-05 11:50:24\", \"x1\": \"2016-11-05 12:15:24\", \"type\": \"rect\", \"xref\": \"x\", \"yref\": \"y\", \"opacity\": 1, \"line\": {\"width\": 0}, \"y0\": 1.8, \"y1\": 2.2, \"fillcolor\": \"rgb(255, 127, 14)\"}, {\"x0\": \"2016-11-05 12:08:28\", \"x1\": \"2016-11-05 12:48:28\", \"type\": \"rect\", \"xref\": \"x\", \"yref\": \"y\", \"opacity\": 1, \"line\": {\"width\": 0}, \"y0\": 3.8, \"y1\": 4.2, \"fillcolor\": \"rgb(31, 119, 180)\"}, {\"x0\": \"2016-11-05 12:15:24\", \"x1\": \"2016-11-05 13:19:24\", \"type\": \"rect\", \"xref\": \"x\", \"yref\": \"y\", \"opacity\": 1, \"line\": {\"width\": 0}, \"y0\": 1.8, \"y1\": 2.2, \"fillcolor\": \"rgb(255, 127, 14)\"}, {\"x0\": \"2016-11-05 12:37:10\", \"x1\": \"2016-11-05 12:57:10\", \"type\": \"rect\", \"xref\": \"x\", \"yref\": \"y\", \"opacity\": 1, \"line\": {\"width\": 0}, \"y0\": 4.8, \"y1\": 5.2, \"fillcolor\": \"rgb(31, 119, 180)\"}, {\"x0\": \"2016-11-05 13:19:34\", \"x1\": \"2016-11-05 14:27:34\", \"type\": \"rect\", \"xref\": \"x\", \"yref\": \"y\", \"opacity\": 1, \"line\": {\"width\": 0}, \"y0\": 2.8, \"y1\": 3.2, \"fillcolor\": \"rgb(255, 127, 14)\"}, {\"x0\": \"2016-11-05 13:19:34\", \"x1\": \"2016-11-05 14:27:34\", \"type\": \"rect\", \"xref\": \"x\", \"yref\": \"y\", \"opacity\": 1, \"line\": {\"width\": 0}, \"y0\": 1.8, \"y1\": 2.2, \"fillcolor\": \"rgb(255, 127, 14)\"}, {\"x0\": \"2016-11-05 13:20:48\", \"x1\": \"2016-11-05 13:40:48\", \"type\": \"rect\", \"xref\": \"x\", \"yref\": \"y\", \"opacity\": 1, \"line\": {\"width\": 0}, \"y0\": 4.8, \"y1\": 5.2, \"fillcolor\": \"rgb(31, 119, 180)\"}, {\"x0\": \"2016-11-05 13:22:02\", \"x1\": \"2016-11-05 14:02:02\", \"type\": \"rect\", \"xref\": \"x\", \"yref\": \"y\", \"opacity\": 1, \"line\": {\"width\": 0}, \"y0\": 3.8, \"y1\": 4.2, \"fillcolor\": \"rgb(31, 119, 180)\"}, {\"x0\": \"2016-11-05 14:04:30\", \"x1\": \"2016-11-05 14:24:30\", \"type\": \"rect\", \"xref\": \"x\", \"yref\": \"y\", \"opacity\": 1, \"line\": {\"width\": 0}, \"y0\": 3.8, \"y1\": 4.2, \"fillcolor\": \"rgb(31, 119, 180)\"}, {\"x0\": \"2016-11-05 14:27:44\", \"x1\": \"2016-11-05 14:52:44\", \"type\": \"rect\", \"xref\": \"x\", \"yref\": \"y\", \"opacity\": 1, \"line\": {\"width\": 0}, \"y0\": 2.8, \"y1\": 3.2, \"fillcolor\": \"rgb(255, 127, 14)\"}, {\"x0\": \"2016-11-05 14:27:44\", \"x1\": \"2016-11-05 14:52:44\", \"type\": \"rect\", \"xref\": \"x\", \"yref\": \"y\", \"opacity\": 1, \"line\": {\"width\": 0}, \"y0\": 1.8, \"y1\": 2.2, \"fillcolor\": \"rgb(255, 127, 14)\"}, {\"x0\": \"2016-11-05 14:27:44\", \"x1\": \"2016-11-05 15:35:44\", \"type\": \"rect\", \"xref\": \"x\", \"yref\": \"y\", \"opacity\": 1, \"line\": {\"width\": 0}, \"y0\": 0.8, \"y1\": 1.2, \"fillcolor\": \"rgb(255, 127, 14)\"}, {\"x0\": \"2016-11-05 14:28:58\", \"x1\": \"2016-11-05 14:48:58\", \"type\": \"rect\", \"xref\": \"x\", \"yref\": \"y\", \"opacity\": 1, \"line\": {\"width\": 0}, \"y0\": 3.8, \"y1\": 4.2, \"fillcolor\": \"rgb(31, 119, 180)\"}, {\"x0\": \"2016-11-05 14:51:26\", \"x1\": \"2016-11-05 15:11:26\", \"type\": \"rect\", \"xref\": \"x\", \"yref\": \"y\", \"opacity\": 1, \"line\": {\"width\": 0}, \"y0\": 3.8, \"y1\": 4.2, \"fillcolor\": \"rgb(31, 119, 180)\"}, {\"x0\": \"2016-11-05 14:52:44\", \"x1\": \"2016-11-05 15:56:44\", \"type\": \"rect\", \"xref\": \"x\", \"yref\": \"y\", \"opacity\": 1, \"line\": {\"width\": 0}, \"y0\": 2.8, \"y1\": 3.2, \"fillcolor\": \"rgb(255, 127, 14)\"}, {\"x0\": \"2016-11-05 14:52:44\", \"x1\": \"2016-11-05 15:56:44\", \"type\": \"rect\", \"xref\": \"x\", \"yref\": \"y\", \"opacity\": 1, \"line\": {\"width\": 0}, \"y0\": 1.8, \"y1\": 2.2, \"fillcolor\": \"rgb(255, 127, 14)\"}, {\"x0\": \"2016-11-05 15:37:08\", \"x1\": \"2016-11-05 15:57:08\", \"type\": \"rect\", \"xref\": \"x\", \"yref\": \"y\", \"opacity\": 1, \"line\": {\"width\": 0}, \"y0\": 3.8, \"y1\": 4.2, \"fillcolor\": \"rgb(31, 119, 180)\"}, {\"x0\": \"2016-11-05 15:58:08\", \"x1\": \"2016-11-05 16:18:08\", \"type\": \"rect\", \"xref\": \"x\", \"yref\": \"y\", \"opacity\": 1, \"line\": {\"width\": 0}, \"y0\": 4.8, \"y1\": 5.2, \"fillcolor\": \"rgb(31, 119, 180)\"}, {\"x0\": \"2016-11-05 16:19:32\", \"x1\": \"2016-11-05 16:44:32\", \"type\": \"rect\", \"xref\": \"x\", \"yref\": \"y\", \"opacity\": 1, \"line\": {\"width\": 0}, \"y0\": 2.8, \"y1\": 3.2, \"fillcolor\": \"rgb(255, 127, 14)\"}, {\"x0\": \"2016-11-05 16:20:36\", \"x1\": \"2016-11-05 16:40:36\", \"type\": \"rect\", \"xref\": \"x\", \"yref\": \"y\", \"opacity\": 1, \"line\": {\"width\": 0}, \"y0\": 4.8, \"y1\": 5.2, \"fillcolor\": \"rgb(31, 119, 180)\"}, {\"x0\": \"2016-11-05 16:42:00\", \"x1\": \"2016-11-05 17:07:00\", \"type\": \"rect\", \"xref\": \"x\", \"yref\": \"y\", \"opacity\": 1, \"line\": {\"width\": 0}, \"y0\": 1.8, \"y1\": 2.2, \"fillcolor\": \"rgb(255, 127, 14)\"}, {\"x0\": \"2016-11-05 16:44:32\", \"x1\": \"2016-11-05 17:48:32\", \"type\": \"rect\", \"xref\": \"x\", \"yref\": \"y\", \"opacity\": 1, \"line\": {\"width\": 0}, \"y0\": 2.8, \"y1\": 3.2, \"fillcolor\": \"rgb(255, 127, 14)\"}, {\"x0\": \"2016-11-05 17:07:00\", \"x1\": \"2016-11-05 18:11:00\", \"type\": \"rect\", \"xref\": \"x\", \"yref\": \"y\", \"opacity\": 1, \"line\": {\"width\": 0}, \"y0\": 1.8, \"y1\": 2.2, \"fillcolor\": \"rgb(255, 127, 14)\"}, {\"x0\": \"2016-11-05 17:49:56\", \"x1\": \"2016-11-05 18:09:56\", \"type\": \"rect\", \"xref\": \"x\", \"yref\": \"y\", \"opacity\": 1, \"line\": {\"width\": 0}, \"y0\": 4.8, \"y1\": 5.2, \"fillcolor\": \"rgb(31, 119, 180)\"}, {\"x0\": \"2016-11-05 18:11:20\", \"x1\": \"2016-11-05 18:36:20\", \"type\": \"rect\", \"xref\": \"x\", \"yref\": \"y\", \"opacity\": 1, \"line\": {\"width\": 0}, \"y0\": 2.8, \"y1\": 3.2, \"fillcolor\": \"rgb(255, 127, 14)\"}, {\"x0\": \"2016-11-05 18:12:24\", \"x1\": \"2016-11-05 18:32:24\", \"type\": \"rect\", \"xref\": \"x\", \"yref\": \"y\", \"opacity\": 1, \"line\": {\"width\": 0}, \"y0\": 4.8, \"y1\": 5.2, \"fillcolor\": \"rgb(31, 119, 180)\"}, {\"x0\": \"2016-11-05 18:33:48\", \"x1\": \"2016-11-05 18:58:48\", \"type\": \"rect\", \"xref\": \"x\", \"yref\": \"y\", \"opacity\": 1, \"line\": {\"width\": 0}, \"y0\": 1.8, \"y1\": 2.2, \"fillcolor\": \"rgb(255, 127, 14)\"}, {\"x0\": \"2016-11-05 18:36:20\", \"x1\": \"2016-11-05 19:40:20\", \"type\": \"rect\", \"xref\": \"x\", \"yref\": \"y\", \"opacity\": 1, \"line\": {\"width\": 0}, \"y0\": 2.8, \"y1\": 3.2, \"fillcolor\": \"rgb(255, 127, 14)\"}, {\"x0\": \"2016-11-05 18:58:48\", \"x1\": \"2016-11-05 20:02:48\", \"type\": \"rect\", \"xref\": \"x\", \"yref\": \"y\", \"opacity\": 1, \"line\": {\"width\": 0}, \"y0\": 1.8, \"y1\": 2.2, \"fillcolor\": \"rgb(255, 127, 14)\"}, {\"x0\": \"2016-11-05 19:41:44\", \"x1\": \"2016-11-05 20:01:44\", \"type\": \"rect\", \"xref\": \"x\", \"yref\": \"y\", \"opacity\": 1, \"line\": {\"width\": 0}, \"y0\": 4.8, \"y1\": 5.2, \"fillcolor\": \"rgb(31, 119, 180)\"}, {\"x0\": \"2016-11-05 20:03:08\", \"x1\": \"2016-11-05 20:28:08\", \"type\": \"rect\", \"xref\": \"x\", \"yref\": \"y\", \"opacity\": 1, \"line\": {\"width\": 0}, \"y0\": 2.8, \"y1\": 3.2, \"fillcolor\": \"rgb(255, 127, 14)\"}, {\"x0\": \"2016-11-05 20:04:12\", \"x1\": \"2016-11-05 20:24:12\", \"type\": \"rect\", \"xref\": \"x\", \"yref\": \"y\", \"opacity\": 1, \"line\": {\"width\": 0}, \"y0\": 4.8, \"y1\": 5.2, \"fillcolor\": \"rgb(31, 119, 180)\"}, {\"x0\": \"2016-11-05 20:25:36\", \"x1\": \"2016-11-05 20:50:36\", \"type\": \"rect\", \"xref\": \"x\", \"yref\": \"y\", \"opacity\": 1, \"line\": {\"width\": 0}, \"y0\": 1.8, \"y1\": 2.2, \"fillcolor\": \"rgb(255, 127, 14)\"}, {\"x0\": \"2016-11-05 20:28:08\", \"x1\": \"2016-11-05 21:32:08\", \"type\": \"rect\", \"xref\": \"x\", \"yref\": \"y\", \"opacity\": 1, \"line\": {\"width\": 0}, \"y0\": 2.8, \"y1\": 3.2, \"fillcolor\": \"rgb(255, 127, 14)\"}, {\"x0\": \"2016-11-05 20:50:36\", \"x1\": \"2016-11-05 21:54:36\", \"type\": \"rect\", \"xref\": \"x\", \"yref\": \"y\", \"opacity\": 1, \"line\": {\"width\": 0}, \"y0\": 1.8, \"y1\": 2.2, \"fillcolor\": \"rgb(255, 127, 14)\"}, {\"x0\": \"2016-11-05 21:33:32\", \"x1\": \"2016-11-05 21:53:32\", \"type\": \"rect\", \"xref\": \"x\", \"yref\": \"y\", \"opacity\": 1, \"line\": {\"width\": 0}, \"y0\": 4.8, \"y1\": 5.2, \"fillcolor\": \"rgb(31, 119, 180)\"}, {\"x0\": \"2016-11-05 21:54:56\", \"x1\": \"2016-11-05 22:19:56\", \"type\": \"rect\", \"xref\": \"x\", \"yref\": \"y\", \"opacity\": 1, \"line\": {\"width\": 0}, \"y0\": 2.8, \"y1\": 3.2, \"fillcolor\": \"rgb(255, 127, 14)\"}, {\"x0\": \"2016-11-05 21:56:00\", \"x1\": \"2016-11-05 22:11:00\", \"type\": \"rect\", \"xref\": \"x\", \"yref\": \"y\", \"opacity\": 1, \"line\": {\"width\": 0}, \"y0\": 4.8, \"y1\": 5.2, \"fillcolor\": \"rgb(31, 119, 180)\"}, {\"x0\": \"2016-11-05 22:12:24\", \"x1\": \"2016-11-05 22:37:24\", \"type\": \"rect\", \"xref\": \"x\", \"yref\": \"y\", \"opacity\": 1, \"line\": {\"width\": 0}, \"y0\": 1.8, \"y1\": 2.2, \"fillcolor\": \"rgb(255, 127, 14)\"}, {\"x0\": \"2016-11-05 22:19:56\", \"x1\": \"2016-11-05 23:23:56\", \"type\": \"rect\", \"xref\": \"x\", \"yref\": \"y\", \"opacity\": 1, \"line\": {\"width\": 0}, \"y0\": 2.8, \"y1\": 3.2, \"fillcolor\": \"rgb(255, 127, 14)\"}, {\"x0\": \"2016-11-05 22:38:48\", \"x1\": \"2016-11-05 22:43:48\", \"type\": \"rect\", \"xref\": \"x\", \"yref\": \"y\", \"opacity\": 1, \"line\": {\"width\": 0}, \"y0\": 4.8, \"y1\": 5.2, \"fillcolor\": \"rgb(31, 119, 180)\"}, {\"x0\": \"2016-11-05 23:25:20\", \"x1\": \"2016-11-05 23:40:20\", \"type\": \"rect\", \"xref\": \"x\", \"yref\": \"y\", \"opacity\": 1, \"line\": {\"width\": 0}, \"y0\": 4.8, \"y1\": 5.2, \"fillcolor\": \"rgb(31, 119, 180)\"}, {\"x0\": \"2016-11-05 23:41:44\", \"x1\": \"2016-11-06 00:06:44\", \"type\": \"rect\", \"xref\": \"x\", \"yref\": \"y\", \"opacity\": 1, \"line\": {\"width\": 0}, \"y0\": 1.8, \"y1\": 2.2, \"fillcolor\": \"rgb(255, 127, 14)\"}, {\"x0\": \"2016-11-06 00:08:08\", \"x1\": \"2016-11-06 00:13:08\", \"type\": \"rect\", \"xref\": \"x\", \"yref\": \"y\", \"opacity\": 1, \"line\": {\"width\": 0}, \"y0\": 4.8, \"y1\": 5.2, \"fillcolor\": \"rgb(31, 119, 180)\"}], \"hovermode\": \"closest\", \"yaxis\": {\"showgrid\": false, \"ticktext\": [\"Machine3\", \"Machine4\", \"Machine2\", \"Machine1\", \"L/U2\", \"L/U1\"], \"tickvals\": [0, 1, 2, 3, 4, 5], \"range\": [-1, 7], \"autorange\": false, \"zeroline\": false}, \"xaxis\": {\"showgrid\": false, \"zeroline\": false, \"rangeselector\": {\"buttons\": [{\"count\": 7, \"label\": \"1w\", \"step\": \"day\", \"stepmode\": \"backward\"}, {\"count\": 1, \"label\": \"1m\", \"step\": \"month\", \"stepmode\": \"backward\"}, {\"count\": 6, \"label\": \"6m\", \"step\": \"month\", \"stepmode\": \"backward\"}, {\"count\": 1, \"label\": \"YTD\", \"step\": \"year\", \"stepmode\": \"todate\"}, {\"count\": 1, \"label\": \"1y\", \"step\": \"year\", \"stepmode\": \"backward\"}, {\"step\": \"all\"}]}, \"type\": \"date\"}}, {\"showLink\": true, \"linkText\": \"Export to plot.ly\"})});</script>"
      ]
     },
     "metadata": {},
     "output_type": "display_data"
    }
   ],
   "source": [
    "simstat[\"Task\"] = simstat[\"StationGroup\"] + simstat[\"StationNum\"].apply(str)\n",
    "simstat[\"Start\"] = simstat[\"StartUTC\"]\n",
    "simstat[\"Finish\"] = simstat[\"EndUTC\"]\n",
    "plotly.offline.iplot(ff.create_gantt(simstat, index_col=\"StationGroup\", group_tasks=True))"
   ]
  },
  {
   "cell_type": "code",
   "execution_count": null,
   "metadata": {
    "collapsed": true
   },
   "outputs": [],
   "source": []
  }
 ],
 "metadata": {
  "kernelspec": {
   "display_name": "Python 3",
   "language": "python",
   "name": "python3"
  },
  "language_info": {
   "codemirror_mode": {
    "name": "ipython",
    "version": 3
   },
   "file_extension": ".py",
   "mimetype": "text/x-python",
   "name": "python",
   "nbconvert_exporter": "python",
   "pygments_lexer": "ipython3",
   "version": "3.6.4"
  }
 },
 "nbformat": 4,
 "nbformat_minor": 2
}
